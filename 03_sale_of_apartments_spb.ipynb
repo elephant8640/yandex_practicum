{
 "cells": [
  {
   "cell_type": "markdown",
   "metadata": {
    "toc": true
   },
   "source": [
    "<h1>Содержание<span class=\"tocSkip\"></span></h1>\n",
    "<div class=\"toc\"><ul class=\"toc-item\"><li><span><a href=\"#Изучение-данных-из-файла\" data-toc-modified-id=\"Изучение-данных-из-файла-1\"><span class=\"toc-item-num\">1&nbsp;&nbsp;</span>Изучение данных из файла</a></span><ul class=\"toc-item\"><li><span><a href=\"#Вывод\" data-toc-modified-id=\"Вывод-1.1\"><span class=\"toc-item-num\">1.1&nbsp;&nbsp;</span>Вывод</a></span></li></ul></li><li><span><a href=\"#Предобработка-данных\" data-toc-modified-id=\"Предобработка-данных-2\"><span class=\"toc-item-num\">2&nbsp;&nbsp;</span>Предобработка данных</a></span><ul class=\"toc-item\"><li><span><a href=\"#Поиск-пропусков\" data-toc-modified-id=\"Поиск-пропусков-2.1\"><span class=\"toc-item-num\">2.1&nbsp;&nbsp;</span>Поиск пропусков</a></span></li><li><span><a href=\"#Приведение-данных-к-нужным-типам.\" data-toc-modified-id=\"Приведение-данных-к-нужным-типам.-2.2\"><span class=\"toc-item-num\">2.2&nbsp;&nbsp;</span>Приведение данных к нужным типам.</a></span></li></ul></li><li><span><a href=\"#Расчёты-и-добавление-результатов-в-таблицу\" data-toc-modified-id=\"Расчёты-и-добавление-результатов-в-таблицу-3\"><span class=\"toc-item-num\">3&nbsp;&nbsp;</span>Расчёты и добавление результатов в таблицу</a></span></li><li><span><a href=\"#Исследовательский-анализ-данных\" data-toc-modified-id=\"Исследовательский-анализ-данных-4\"><span class=\"toc-item-num\">4&nbsp;&nbsp;</span>Исследовательский анализ данных</a></span><ul class=\"toc-item\"><li><span><a href=\"#Изучение-параметров:-площадь,-цена,-число-комнат,-высота-потолков\" data-toc-modified-id=\"Изучение-параметров:-площадь,-цена,-число-комнат,-высота-потолков-4.1\"><span class=\"toc-item-num\">4.1&nbsp;&nbsp;</span>Изучение параметров: площадь, цена, число комнат, высота потолков</a></span></li><li><span><a href=\"#Изучение-времени-продажи-квартиры.\" data-toc-modified-id=\"Изучение-времени-продажи-квартиры.-4.2\"><span class=\"toc-item-num\">4.2&nbsp;&nbsp;</span>Изучение времени продажи квартиры.</a></span></li><li><span><a href=\"#Редкие-и-выбивающиеся-значения.\" data-toc-modified-id=\"Редкие-и-выбивающиеся-значения.-4.3\"><span class=\"toc-item-num\">4.3&nbsp;&nbsp;</span>Редкие и выбивающиеся значения.</a></span></li><li><span><a href=\"#Исследование-факторов,-влияющих-на-стоимость-квартиры.\" data-toc-modified-id=\"Исследование-факторов,-влияющих-на-стоимость-квартиры.-4.4\"><span class=\"toc-item-num\">4.4&nbsp;&nbsp;</span>Исследование факторов, влияющих на стоимость квартиры.</a></span></li></ul></li><li><span><a href=\"#Общий-вывод\" data-toc-modified-id=\"Общий-вывод-5\"><span class=\"toc-item-num\">5&nbsp;&nbsp;</span>Общий вывод</a></span></li><li><span><a href=\"#Чек-лист-готовности-проекта\" data-toc-modified-id=\"Чек-лист-готовности-проекта-6\"><span class=\"toc-item-num\">6&nbsp;&nbsp;</span>Чек-лист готовности проекта</a></span></li></ul></div>"
   ]
  },
  {
   "cell_type": "markdown",
   "metadata": {},
   "source": [
    "# Исследование объявлений о продаже квартир\n",
    "\n",
    "В вашем распоряжении данные сервиса Яндекc Недвижимость — архив объявлений о продаже квартир в Санкт-Петербурге и соседних населённых пунктах за несколько лет. Нужно научиться определять рыночную стоимость объектов недвижимости. Ваша задача — установить параметры. Это позволит построить автоматизированную систему: она отследит аномалии и мошенническую деятельность. \n",
    "\n",
    "По каждой квартире на продажу доступны два вида данных. Первые вписаны пользователем, вторые получены автоматически на основе картографических данных. Например, расстояние до центра, аэропорта, ближайшего парка и водоёма. \n",
    "\n",
    "Описание данных:\n",
    "* airports_nearest — расстояние до ближайшего аэропорта в метрах (м)\n",
    "* balcony — число балконов\n",
    "* ceiling_height — высота потолков (м)\n",
    "* cityCenters_nearest — расстояние до центра города (м)\n",
    "* days_exposition — сколько дней было размещено объявление (от публикации до снятия)\n",
    "* first_day_exposition — дата публикации\n",
    "* floor — этаж\n",
    "* floors_total — всего этажей в доме\n",
    "* is_apartment — апартаменты (булев тип)\n",
    "* kitchen_area — площадь кухни в квадратных метрах (м²)\n",
    "* last_price — цена на момент снятия с публикации\n",
    "* living_area — жилая площадь в квадратных метрах (м²)\n",
    "* locality_name — название населённого пункта\n",
    "* open_plan — свободная планировка (булев тип)\n",
    "* parks_around3000 — число парков в радиусе 3 км\n",
    "* parks_nearest — расстояние до ближайшего парка (м)\n",
    "* ponds_around3000 — число водоёмов в радиусе 3 км\n",
    "* ponds_nearest — расстояние до ближайшего водоёма (м)\n",
    "* rooms — число комнат\n",
    "* studio — квартира-студия (булев тип)\n",
    "* total_area — площадь квартиры в квадратных метрах (м²)\n",
    "* total_images — число фотографий квартиры в объявлении"
   ]
  },
  {
   "cell_type": "markdown",
   "metadata": {},
   "source": [
    "## Изучение данных из файла"
   ]
  },
  {
   "cell_type": "code",
   "execution_count": 1,
   "metadata": {},
   "outputs": [],
   "source": [
    "# импортируем нужные библиотеки\n",
    "import pandas as pd\n",
    "import numpy as np\n",
    "import matplotlib.pyplot as plt\n",
    "%matplotlib inline\n",
    "import seaborn as sns"
   ]
  },
  {
   "cell_type": "code",
   "execution_count": 2,
   "metadata": {},
   "outputs": [],
   "source": [
    "df = pd.read_csv('/datasets/real_estate_data.csv', sep = '\\t') # чтение файла csv\n",
    "pd.set_option('display.max_columns', None) "
   ]
  },
  {
   "cell_type": "code",
   "execution_count": 3,
   "metadata": {},
   "outputs": [
    {
     "name": "stdout",
     "output_type": "stream",
     "text": [
      "<class 'pandas.core.frame.DataFrame'>\n",
      "RangeIndex: 23699 entries, 0 to 23698\n",
      "Data columns (total 22 columns):\n",
      " #   Column                Non-Null Count  Dtype  \n",
      "---  ------                --------------  -----  \n",
      " 0   total_images          23699 non-null  int64  \n",
      " 1   last_price            23699 non-null  float64\n",
      " 2   total_area            23699 non-null  float64\n",
      " 3   first_day_exposition  23699 non-null  object \n",
      " 4   rooms                 23699 non-null  int64  \n",
      " 5   ceiling_height        14504 non-null  float64\n",
      " 6   floors_total          23613 non-null  float64\n",
      " 7   living_area           21796 non-null  float64\n",
      " 8   floor                 23699 non-null  int64  \n",
      " 9   is_apartment          2775 non-null   object \n",
      " 10  studio                23699 non-null  bool   \n",
      " 11  open_plan             23699 non-null  bool   \n",
      " 12  kitchen_area          21421 non-null  float64\n",
      " 13  balcony               12180 non-null  float64\n",
      " 14  locality_name         23650 non-null  object \n",
      " 15  airports_nearest      18157 non-null  float64\n",
      " 16  cityCenters_nearest   18180 non-null  float64\n",
      " 17  parks_around3000      18181 non-null  float64\n",
      " 18  parks_nearest         8079 non-null   float64\n",
      " 19  ponds_around3000      18181 non-null  float64\n",
      " 20  ponds_nearest         9110 non-null   float64\n",
      " 21  days_exposition       20518 non-null  float64\n",
      "dtypes: bool(2), float64(14), int64(3), object(3)\n",
      "memory usage: 3.7+ MB\n"
     ]
    }
   ],
   "source": [
    "df.info() # вывод общей информации о таблице"
   ]
  },
  {
   "cell_type": "code",
   "execution_count": 4,
   "metadata": {},
   "outputs": [
    {
     "data": {
      "text/html": [
       "<div>\n",
       "<style scoped>\n",
       "    .dataframe tbody tr th:only-of-type {\n",
       "        vertical-align: middle;\n",
       "    }\n",
       "\n",
       "    .dataframe tbody tr th {\n",
       "        vertical-align: top;\n",
       "    }\n",
       "\n",
       "    .dataframe thead th {\n",
       "        text-align: right;\n",
       "    }\n",
       "</style>\n",
       "<table border=\"1\" class=\"dataframe\">\n",
       "  <thead>\n",
       "    <tr style=\"text-align: right;\">\n",
       "      <th></th>\n",
       "      <th>total_images</th>\n",
       "      <th>last_price</th>\n",
       "      <th>total_area</th>\n",
       "      <th>first_day_exposition</th>\n",
       "      <th>rooms</th>\n",
       "      <th>ceiling_height</th>\n",
       "      <th>floors_total</th>\n",
       "      <th>living_area</th>\n",
       "      <th>floor</th>\n",
       "      <th>is_apartment</th>\n",
       "      <th>studio</th>\n",
       "      <th>open_plan</th>\n",
       "      <th>kitchen_area</th>\n",
       "      <th>balcony</th>\n",
       "      <th>locality_name</th>\n",
       "      <th>airports_nearest</th>\n",
       "      <th>cityCenters_nearest</th>\n",
       "      <th>parks_around3000</th>\n",
       "      <th>parks_nearest</th>\n",
       "      <th>ponds_around3000</th>\n",
       "      <th>ponds_nearest</th>\n",
       "      <th>days_exposition</th>\n",
       "    </tr>\n",
       "  </thead>\n",
       "  <tbody>\n",
       "    <tr>\n",
       "      <th>0</th>\n",
       "      <td>20</td>\n",
       "      <td>13000000.0</td>\n",
       "      <td>108.00</td>\n",
       "      <td>2019-03-07T00:00:00</td>\n",
       "      <td>3</td>\n",
       "      <td>2.70</td>\n",
       "      <td>16.0</td>\n",
       "      <td>51.00</td>\n",
       "      <td>8</td>\n",
       "      <td>NaN</td>\n",
       "      <td>False</td>\n",
       "      <td>False</td>\n",
       "      <td>25.00</td>\n",
       "      <td>NaN</td>\n",
       "      <td>Санкт-Петербург</td>\n",
       "      <td>18863.0</td>\n",
       "      <td>16028.0</td>\n",
       "      <td>1.0</td>\n",
       "      <td>482.0</td>\n",
       "      <td>2.0</td>\n",
       "      <td>755.0</td>\n",
       "      <td>NaN</td>\n",
       "    </tr>\n",
       "    <tr>\n",
       "      <th>1</th>\n",
       "      <td>7</td>\n",
       "      <td>3350000.0</td>\n",
       "      <td>40.40</td>\n",
       "      <td>2018-12-04T00:00:00</td>\n",
       "      <td>1</td>\n",
       "      <td>NaN</td>\n",
       "      <td>11.0</td>\n",
       "      <td>18.60</td>\n",
       "      <td>1</td>\n",
       "      <td>NaN</td>\n",
       "      <td>False</td>\n",
       "      <td>False</td>\n",
       "      <td>11.00</td>\n",
       "      <td>2.0</td>\n",
       "      <td>посёлок Шушары</td>\n",
       "      <td>12817.0</td>\n",
       "      <td>18603.0</td>\n",
       "      <td>0.0</td>\n",
       "      <td>NaN</td>\n",
       "      <td>0.0</td>\n",
       "      <td>NaN</td>\n",
       "      <td>81.0</td>\n",
       "    </tr>\n",
       "    <tr>\n",
       "      <th>2</th>\n",
       "      <td>10</td>\n",
       "      <td>5196000.0</td>\n",
       "      <td>56.00</td>\n",
       "      <td>2015-08-20T00:00:00</td>\n",
       "      <td>2</td>\n",
       "      <td>NaN</td>\n",
       "      <td>5.0</td>\n",
       "      <td>34.30</td>\n",
       "      <td>4</td>\n",
       "      <td>NaN</td>\n",
       "      <td>False</td>\n",
       "      <td>False</td>\n",
       "      <td>8.30</td>\n",
       "      <td>0.0</td>\n",
       "      <td>Санкт-Петербург</td>\n",
       "      <td>21741.0</td>\n",
       "      <td>13933.0</td>\n",
       "      <td>1.0</td>\n",
       "      <td>90.0</td>\n",
       "      <td>2.0</td>\n",
       "      <td>574.0</td>\n",
       "      <td>558.0</td>\n",
       "    </tr>\n",
       "    <tr>\n",
       "      <th>3</th>\n",
       "      <td>0</td>\n",
       "      <td>64900000.0</td>\n",
       "      <td>159.00</td>\n",
       "      <td>2015-07-24T00:00:00</td>\n",
       "      <td>3</td>\n",
       "      <td>NaN</td>\n",
       "      <td>14.0</td>\n",
       "      <td>NaN</td>\n",
       "      <td>9</td>\n",
       "      <td>NaN</td>\n",
       "      <td>False</td>\n",
       "      <td>False</td>\n",
       "      <td>NaN</td>\n",
       "      <td>0.0</td>\n",
       "      <td>Санкт-Петербург</td>\n",
       "      <td>28098.0</td>\n",
       "      <td>6800.0</td>\n",
       "      <td>2.0</td>\n",
       "      <td>84.0</td>\n",
       "      <td>3.0</td>\n",
       "      <td>234.0</td>\n",
       "      <td>424.0</td>\n",
       "    </tr>\n",
       "    <tr>\n",
       "      <th>4</th>\n",
       "      <td>2</td>\n",
       "      <td>10000000.0</td>\n",
       "      <td>100.00</td>\n",
       "      <td>2018-06-19T00:00:00</td>\n",
       "      <td>2</td>\n",
       "      <td>3.03</td>\n",
       "      <td>14.0</td>\n",
       "      <td>32.00</td>\n",
       "      <td>13</td>\n",
       "      <td>NaN</td>\n",
       "      <td>False</td>\n",
       "      <td>False</td>\n",
       "      <td>41.00</td>\n",
       "      <td>NaN</td>\n",
       "      <td>Санкт-Петербург</td>\n",
       "      <td>31856.0</td>\n",
       "      <td>8098.0</td>\n",
       "      <td>2.0</td>\n",
       "      <td>112.0</td>\n",
       "      <td>1.0</td>\n",
       "      <td>48.0</td>\n",
       "      <td>121.0</td>\n",
       "    </tr>\n",
       "    <tr>\n",
       "      <th>5</th>\n",
       "      <td>10</td>\n",
       "      <td>2890000.0</td>\n",
       "      <td>30.40</td>\n",
       "      <td>2018-09-10T00:00:00</td>\n",
       "      <td>1</td>\n",
       "      <td>NaN</td>\n",
       "      <td>12.0</td>\n",
       "      <td>14.40</td>\n",
       "      <td>5</td>\n",
       "      <td>NaN</td>\n",
       "      <td>False</td>\n",
       "      <td>False</td>\n",
       "      <td>9.10</td>\n",
       "      <td>NaN</td>\n",
       "      <td>городской посёлок Янино-1</td>\n",
       "      <td>NaN</td>\n",
       "      <td>NaN</td>\n",
       "      <td>NaN</td>\n",
       "      <td>NaN</td>\n",
       "      <td>NaN</td>\n",
       "      <td>NaN</td>\n",
       "      <td>55.0</td>\n",
       "    </tr>\n",
       "    <tr>\n",
       "      <th>6</th>\n",
       "      <td>6</td>\n",
       "      <td>3700000.0</td>\n",
       "      <td>37.30</td>\n",
       "      <td>2017-11-02T00:00:00</td>\n",
       "      <td>1</td>\n",
       "      <td>NaN</td>\n",
       "      <td>26.0</td>\n",
       "      <td>10.60</td>\n",
       "      <td>6</td>\n",
       "      <td>NaN</td>\n",
       "      <td>False</td>\n",
       "      <td>False</td>\n",
       "      <td>14.40</td>\n",
       "      <td>1.0</td>\n",
       "      <td>посёлок Парголово</td>\n",
       "      <td>52996.0</td>\n",
       "      <td>19143.0</td>\n",
       "      <td>0.0</td>\n",
       "      <td>NaN</td>\n",
       "      <td>0.0</td>\n",
       "      <td>NaN</td>\n",
       "      <td>155.0</td>\n",
       "    </tr>\n",
       "    <tr>\n",
       "      <th>7</th>\n",
       "      <td>5</td>\n",
       "      <td>7915000.0</td>\n",
       "      <td>71.60</td>\n",
       "      <td>2019-04-18T00:00:00</td>\n",
       "      <td>2</td>\n",
       "      <td>NaN</td>\n",
       "      <td>24.0</td>\n",
       "      <td>NaN</td>\n",
       "      <td>22</td>\n",
       "      <td>NaN</td>\n",
       "      <td>False</td>\n",
       "      <td>False</td>\n",
       "      <td>18.90</td>\n",
       "      <td>2.0</td>\n",
       "      <td>Санкт-Петербург</td>\n",
       "      <td>23982.0</td>\n",
       "      <td>11634.0</td>\n",
       "      <td>0.0</td>\n",
       "      <td>NaN</td>\n",
       "      <td>0.0</td>\n",
       "      <td>NaN</td>\n",
       "      <td>NaN</td>\n",
       "    </tr>\n",
       "    <tr>\n",
       "      <th>8</th>\n",
       "      <td>20</td>\n",
       "      <td>2900000.0</td>\n",
       "      <td>33.16</td>\n",
       "      <td>2018-05-23T00:00:00</td>\n",
       "      <td>1</td>\n",
       "      <td>NaN</td>\n",
       "      <td>27.0</td>\n",
       "      <td>15.43</td>\n",
       "      <td>26</td>\n",
       "      <td>NaN</td>\n",
       "      <td>False</td>\n",
       "      <td>False</td>\n",
       "      <td>8.81</td>\n",
       "      <td>NaN</td>\n",
       "      <td>посёлок Мурино</td>\n",
       "      <td>NaN</td>\n",
       "      <td>NaN</td>\n",
       "      <td>NaN</td>\n",
       "      <td>NaN</td>\n",
       "      <td>NaN</td>\n",
       "      <td>NaN</td>\n",
       "      <td>189.0</td>\n",
       "    </tr>\n",
       "    <tr>\n",
       "      <th>9</th>\n",
       "      <td>18</td>\n",
       "      <td>5400000.0</td>\n",
       "      <td>61.00</td>\n",
       "      <td>2017-02-26T00:00:00</td>\n",
       "      <td>3</td>\n",
       "      <td>2.50</td>\n",
       "      <td>9.0</td>\n",
       "      <td>43.60</td>\n",
       "      <td>7</td>\n",
       "      <td>NaN</td>\n",
       "      <td>False</td>\n",
       "      <td>False</td>\n",
       "      <td>6.50</td>\n",
       "      <td>2.0</td>\n",
       "      <td>Санкт-Петербург</td>\n",
       "      <td>50898.0</td>\n",
       "      <td>15008.0</td>\n",
       "      <td>0.0</td>\n",
       "      <td>NaN</td>\n",
       "      <td>0.0</td>\n",
       "      <td>NaN</td>\n",
       "      <td>289.0</td>\n",
       "    </tr>\n",
       "    <tr>\n",
       "      <th>10</th>\n",
       "      <td>5</td>\n",
       "      <td>5050000.0</td>\n",
       "      <td>39.60</td>\n",
       "      <td>2017-11-16T00:00:00</td>\n",
       "      <td>1</td>\n",
       "      <td>2.67</td>\n",
       "      <td>12.0</td>\n",
       "      <td>20.30</td>\n",
       "      <td>3</td>\n",
       "      <td>NaN</td>\n",
       "      <td>False</td>\n",
       "      <td>False</td>\n",
       "      <td>8.50</td>\n",
       "      <td>NaN</td>\n",
       "      <td>Санкт-Петербург</td>\n",
       "      <td>38357.0</td>\n",
       "      <td>13878.0</td>\n",
       "      <td>1.0</td>\n",
       "      <td>310.0</td>\n",
       "      <td>2.0</td>\n",
       "      <td>553.0</td>\n",
       "      <td>137.0</td>\n",
       "    </tr>\n",
       "    <tr>\n",
       "      <th>11</th>\n",
       "      <td>9</td>\n",
       "      <td>3300000.0</td>\n",
       "      <td>44.00</td>\n",
       "      <td>2018-08-27T00:00:00</td>\n",
       "      <td>2</td>\n",
       "      <td>NaN</td>\n",
       "      <td>5.0</td>\n",
       "      <td>31.00</td>\n",
       "      <td>4</td>\n",
       "      <td>False</td>\n",
       "      <td>False</td>\n",
       "      <td>False</td>\n",
       "      <td>6.00</td>\n",
       "      <td>1.0</td>\n",
       "      <td>Ломоносов</td>\n",
       "      <td>48252.0</td>\n",
       "      <td>51677.0</td>\n",
       "      <td>0.0</td>\n",
       "      <td>NaN</td>\n",
       "      <td>0.0</td>\n",
       "      <td>NaN</td>\n",
       "      <td>7.0</td>\n",
       "    </tr>\n",
       "    <tr>\n",
       "      <th>12</th>\n",
       "      <td>10</td>\n",
       "      <td>3890000.0</td>\n",
       "      <td>54.00</td>\n",
       "      <td>2016-06-30T00:00:00</td>\n",
       "      <td>2</td>\n",
       "      <td>NaN</td>\n",
       "      <td>5.0</td>\n",
       "      <td>30.00</td>\n",
       "      <td>5</td>\n",
       "      <td>NaN</td>\n",
       "      <td>False</td>\n",
       "      <td>False</td>\n",
       "      <td>9.00</td>\n",
       "      <td>0.0</td>\n",
       "      <td>Сертолово</td>\n",
       "      <td>NaN</td>\n",
       "      <td>NaN</td>\n",
       "      <td>NaN</td>\n",
       "      <td>NaN</td>\n",
       "      <td>NaN</td>\n",
       "      <td>NaN</td>\n",
       "      <td>90.0</td>\n",
       "    </tr>\n",
       "    <tr>\n",
       "      <th>13</th>\n",
       "      <td>20</td>\n",
       "      <td>3550000.0</td>\n",
       "      <td>42.80</td>\n",
       "      <td>2017-07-01T00:00:00</td>\n",
       "      <td>2</td>\n",
       "      <td>2.56</td>\n",
       "      <td>5.0</td>\n",
       "      <td>27.00</td>\n",
       "      <td>5</td>\n",
       "      <td>NaN</td>\n",
       "      <td>False</td>\n",
       "      <td>False</td>\n",
       "      <td>5.20</td>\n",
       "      <td>1.0</td>\n",
       "      <td>Петергоф</td>\n",
       "      <td>37868.0</td>\n",
       "      <td>33058.0</td>\n",
       "      <td>1.0</td>\n",
       "      <td>294.0</td>\n",
       "      <td>3.0</td>\n",
       "      <td>298.0</td>\n",
       "      <td>366.0</td>\n",
       "    </tr>\n",
       "    <tr>\n",
       "      <th>14</th>\n",
       "      <td>1</td>\n",
       "      <td>4400000.0</td>\n",
       "      <td>36.00</td>\n",
       "      <td>2016-06-23T00:00:00</td>\n",
       "      <td>1</td>\n",
       "      <td>NaN</td>\n",
       "      <td>6.0</td>\n",
       "      <td>17.00</td>\n",
       "      <td>1</td>\n",
       "      <td>NaN</td>\n",
       "      <td>False</td>\n",
       "      <td>False</td>\n",
       "      <td>8.00</td>\n",
       "      <td>0.0</td>\n",
       "      <td>Пушкин</td>\n",
       "      <td>20782.0</td>\n",
       "      <td>30759.0</td>\n",
       "      <td>0.0</td>\n",
       "      <td>NaN</td>\n",
       "      <td>1.0</td>\n",
       "      <td>96.0</td>\n",
       "      <td>203.0</td>\n",
       "    </tr>\n",
       "  </tbody>\n",
       "</table>\n",
       "</div>"
      ],
      "text/plain": [
       "    total_images  last_price  total_area first_day_exposition  rooms  \\\n",
       "0             20  13000000.0      108.00  2019-03-07T00:00:00      3   \n",
       "1              7   3350000.0       40.40  2018-12-04T00:00:00      1   \n",
       "2             10   5196000.0       56.00  2015-08-20T00:00:00      2   \n",
       "3              0  64900000.0      159.00  2015-07-24T00:00:00      3   \n",
       "4              2  10000000.0      100.00  2018-06-19T00:00:00      2   \n",
       "5             10   2890000.0       30.40  2018-09-10T00:00:00      1   \n",
       "6              6   3700000.0       37.30  2017-11-02T00:00:00      1   \n",
       "7              5   7915000.0       71.60  2019-04-18T00:00:00      2   \n",
       "8             20   2900000.0       33.16  2018-05-23T00:00:00      1   \n",
       "9             18   5400000.0       61.00  2017-02-26T00:00:00      3   \n",
       "10             5   5050000.0       39.60  2017-11-16T00:00:00      1   \n",
       "11             9   3300000.0       44.00  2018-08-27T00:00:00      2   \n",
       "12            10   3890000.0       54.00  2016-06-30T00:00:00      2   \n",
       "13            20   3550000.0       42.80  2017-07-01T00:00:00      2   \n",
       "14             1   4400000.0       36.00  2016-06-23T00:00:00      1   \n",
       "\n",
       "    ceiling_height  floors_total  living_area  floor is_apartment  studio  \\\n",
       "0             2.70          16.0        51.00      8          NaN   False   \n",
       "1              NaN          11.0        18.60      1          NaN   False   \n",
       "2              NaN           5.0        34.30      4          NaN   False   \n",
       "3              NaN          14.0          NaN      9          NaN   False   \n",
       "4             3.03          14.0        32.00     13          NaN   False   \n",
       "5              NaN          12.0        14.40      5          NaN   False   \n",
       "6              NaN          26.0        10.60      6          NaN   False   \n",
       "7              NaN          24.0          NaN     22          NaN   False   \n",
       "8              NaN          27.0        15.43     26          NaN   False   \n",
       "9             2.50           9.0        43.60      7          NaN   False   \n",
       "10            2.67          12.0        20.30      3          NaN   False   \n",
       "11             NaN           5.0        31.00      4        False   False   \n",
       "12             NaN           5.0        30.00      5          NaN   False   \n",
       "13            2.56           5.0        27.00      5          NaN   False   \n",
       "14             NaN           6.0        17.00      1          NaN   False   \n",
       "\n",
       "    open_plan  kitchen_area  balcony              locality_name  \\\n",
       "0       False         25.00      NaN            Санкт-Петербург   \n",
       "1       False         11.00      2.0             посёлок Шушары   \n",
       "2       False          8.30      0.0            Санкт-Петербург   \n",
       "3       False           NaN      0.0            Санкт-Петербург   \n",
       "4       False         41.00      NaN            Санкт-Петербург   \n",
       "5       False          9.10      NaN  городской посёлок Янино-1   \n",
       "6       False         14.40      1.0          посёлок Парголово   \n",
       "7       False         18.90      2.0            Санкт-Петербург   \n",
       "8       False          8.81      NaN             посёлок Мурино   \n",
       "9       False          6.50      2.0            Санкт-Петербург   \n",
       "10      False          8.50      NaN            Санкт-Петербург   \n",
       "11      False          6.00      1.0                  Ломоносов   \n",
       "12      False          9.00      0.0                  Сертолово   \n",
       "13      False          5.20      1.0                   Петергоф   \n",
       "14      False          8.00      0.0                     Пушкин   \n",
       "\n",
       "    airports_nearest  cityCenters_nearest  parks_around3000  parks_nearest  \\\n",
       "0            18863.0              16028.0               1.0          482.0   \n",
       "1            12817.0              18603.0               0.0            NaN   \n",
       "2            21741.0              13933.0               1.0           90.0   \n",
       "3            28098.0               6800.0               2.0           84.0   \n",
       "4            31856.0               8098.0               2.0          112.0   \n",
       "5                NaN                  NaN               NaN            NaN   \n",
       "6            52996.0              19143.0               0.0            NaN   \n",
       "7            23982.0              11634.0               0.0            NaN   \n",
       "8                NaN                  NaN               NaN            NaN   \n",
       "9            50898.0              15008.0               0.0            NaN   \n",
       "10           38357.0              13878.0               1.0          310.0   \n",
       "11           48252.0              51677.0               0.0            NaN   \n",
       "12               NaN                  NaN               NaN            NaN   \n",
       "13           37868.0              33058.0               1.0          294.0   \n",
       "14           20782.0              30759.0               0.0            NaN   \n",
       "\n",
       "    ponds_around3000  ponds_nearest  days_exposition  \n",
       "0                2.0          755.0              NaN  \n",
       "1                0.0            NaN             81.0  \n",
       "2                2.0          574.0            558.0  \n",
       "3                3.0          234.0            424.0  \n",
       "4                1.0           48.0            121.0  \n",
       "5                NaN            NaN             55.0  \n",
       "6                0.0            NaN            155.0  \n",
       "7                0.0            NaN              NaN  \n",
       "8                NaN            NaN            189.0  \n",
       "9                0.0            NaN            289.0  \n",
       "10               2.0          553.0            137.0  \n",
       "11               0.0            NaN              7.0  \n",
       "12               NaN            NaN             90.0  \n",
       "13               3.0          298.0            366.0  \n",
       "14               1.0           96.0            203.0  "
      ]
     },
     "execution_count": 4,
     "metadata": {},
     "output_type": "execute_result"
    }
   ],
   "source": [
    "df.head(15) # чтение первых 15 строк"
   ]
  },
  {
   "cell_type": "code",
   "execution_count": 5,
   "metadata": {
    "scrolled": false
   },
   "outputs": [
    {
     "data": {
      "text/html": [
       "<div>\n",
       "<style scoped>\n",
       "    .dataframe tbody tr th:only-of-type {\n",
       "        vertical-align: middle;\n",
       "    }\n",
       "\n",
       "    .dataframe tbody tr th {\n",
       "        vertical-align: top;\n",
       "    }\n",
       "\n",
       "    .dataframe thead th {\n",
       "        text-align: right;\n",
       "    }\n",
       "</style>\n",
       "<table border=\"1\" class=\"dataframe\">\n",
       "  <thead>\n",
       "    <tr style=\"text-align: right;\">\n",
       "      <th></th>\n",
       "      <th>total_images</th>\n",
       "      <th>last_price</th>\n",
       "      <th>total_area</th>\n",
       "      <th>first_day_exposition</th>\n",
       "      <th>rooms</th>\n",
       "      <th>ceiling_height</th>\n",
       "      <th>floors_total</th>\n",
       "      <th>living_area</th>\n",
       "      <th>floor</th>\n",
       "      <th>is_apartment</th>\n",
       "      <th>studio</th>\n",
       "      <th>open_plan</th>\n",
       "      <th>kitchen_area</th>\n",
       "      <th>balcony</th>\n",
       "      <th>locality_name</th>\n",
       "      <th>airports_nearest</th>\n",
       "      <th>cityCenters_nearest</th>\n",
       "      <th>parks_around3000</th>\n",
       "      <th>parks_nearest</th>\n",
       "      <th>ponds_around3000</th>\n",
       "      <th>ponds_nearest</th>\n",
       "      <th>days_exposition</th>\n",
       "    </tr>\n",
       "  </thead>\n",
       "  <tbody>\n",
       "    <tr>\n",
       "      <th>23684</th>\n",
       "      <td>20</td>\n",
       "      <td>21400000.0</td>\n",
       "      <td>145.00</td>\n",
       "      <td>2018-11-02T00:00:00</td>\n",
       "      <td>4</td>\n",
       "      <td>3.00</td>\n",
       "      <td>26.0</td>\n",
       "      <td>71.4</td>\n",
       "      <td>17</td>\n",
       "      <td>NaN</td>\n",
       "      <td>False</td>\n",
       "      <td>False</td>\n",
       "      <td>15.60</td>\n",
       "      <td>NaN</td>\n",
       "      <td>Санкт-Петербург</td>\n",
       "      <td>11827.0</td>\n",
       "      <td>11459.0</td>\n",
       "      <td>0.0</td>\n",
       "      <td>NaN</td>\n",
       "      <td>0.0</td>\n",
       "      <td>NaN</td>\n",
       "      <td>NaN</td>\n",
       "    </tr>\n",
       "    <tr>\n",
       "      <th>23685</th>\n",
       "      <td>15</td>\n",
       "      <td>2490000.0</td>\n",
       "      <td>31.00</td>\n",
       "      <td>2019-01-24T00:00:00</td>\n",
       "      <td>1</td>\n",
       "      <td>2.50</td>\n",
       "      <td>5.0</td>\n",
       "      <td>17.3</td>\n",
       "      <td>5</td>\n",
       "      <td>NaN</td>\n",
       "      <td>False</td>\n",
       "      <td>False</td>\n",
       "      <td>5.60</td>\n",
       "      <td>1.0</td>\n",
       "      <td>Ломоносов</td>\n",
       "      <td>48393.0</td>\n",
       "      <td>51818.0</td>\n",
       "      <td>0.0</td>\n",
       "      <td>NaN</td>\n",
       "      <td>0.0</td>\n",
       "      <td>NaN</td>\n",
       "      <td>NaN</td>\n",
       "    </tr>\n",
       "    <tr>\n",
       "      <th>23686</th>\n",
       "      <td>8</td>\n",
       "      <td>3300000.0</td>\n",
       "      <td>31.00</td>\n",
       "      <td>2017-04-29T00:00:00</td>\n",
       "      <td>1</td>\n",
       "      <td>2.55</td>\n",
       "      <td>9.0</td>\n",
       "      <td>18.0</td>\n",
       "      <td>6</td>\n",
       "      <td>NaN</td>\n",
       "      <td>False</td>\n",
       "      <td>False</td>\n",
       "      <td>6.50</td>\n",
       "      <td>0.0</td>\n",
       "      <td>Санкт-Петербург</td>\n",
       "      <td>11751.0</td>\n",
       "      <td>11602.0</td>\n",
       "      <td>1.0</td>\n",
       "      <td>140.0</td>\n",
       "      <td>1.0</td>\n",
       "      <td>317.0</td>\n",
       "      <td>193.0</td>\n",
       "    </tr>\n",
       "    <tr>\n",
       "      <th>23687</th>\n",
       "      <td>6</td>\n",
       "      <td>3200000.0</td>\n",
       "      <td>39.00</td>\n",
       "      <td>2017-12-16T00:00:00</td>\n",
       "      <td>1</td>\n",
       "      <td>NaN</td>\n",
       "      <td>9.0</td>\n",
       "      <td>20.0</td>\n",
       "      <td>6</td>\n",
       "      <td>NaN</td>\n",
       "      <td>False</td>\n",
       "      <td>False</td>\n",
       "      <td>11.00</td>\n",
       "      <td>2.0</td>\n",
       "      <td>Санкт-Петербург</td>\n",
       "      <td>40837.0</td>\n",
       "      <td>16704.0</td>\n",
       "      <td>0.0</td>\n",
       "      <td>NaN</td>\n",
       "      <td>0.0</td>\n",
       "      <td>NaN</td>\n",
       "      <td>38.0</td>\n",
       "    </tr>\n",
       "    <tr>\n",
       "      <th>23688</th>\n",
       "      <td>19</td>\n",
       "      <td>9200000.0</td>\n",
       "      <td>101.00</td>\n",
       "      <td>2019-04-01T00:00:00</td>\n",
       "      <td>3</td>\n",
       "      <td>3.05</td>\n",
       "      <td>15.0</td>\n",
       "      <td>63.0</td>\n",
       "      <td>12</td>\n",
       "      <td>NaN</td>\n",
       "      <td>False</td>\n",
       "      <td>False</td>\n",
       "      <td>15.00</td>\n",
       "      <td>NaN</td>\n",
       "      <td>Санкт-Петербург</td>\n",
       "      <td>15632.0</td>\n",
       "      <td>14428.0</td>\n",
       "      <td>0.0</td>\n",
       "      <td>NaN</td>\n",
       "      <td>0.0</td>\n",
       "      <td>NaN</td>\n",
       "      <td>23.0</td>\n",
       "    </tr>\n",
       "    <tr>\n",
       "      <th>23689</th>\n",
       "      <td>13</td>\n",
       "      <td>3550000.0</td>\n",
       "      <td>35.30</td>\n",
       "      <td>2018-02-28T00:00:00</td>\n",
       "      <td>1</td>\n",
       "      <td>2.86</td>\n",
       "      <td>15.0</td>\n",
       "      <td>16.3</td>\n",
       "      <td>4</td>\n",
       "      <td>NaN</td>\n",
       "      <td>False</td>\n",
       "      <td>False</td>\n",
       "      <td>9.10</td>\n",
       "      <td>2.0</td>\n",
       "      <td>Санкт-Петербург</td>\n",
       "      <td>17284.0</td>\n",
       "      <td>16081.0</td>\n",
       "      <td>1.0</td>\n",
       "      <td>353.0</td>\n",
       "      <td>2.0</td>\n",
       "      <td>652.0</td>\n",
       "      <td>29.0</td>\n",
       "    </tr>\n",
       "    <tr>\n",
       "      <th>23690</th>\n",
       "      <td>3</td>\n",
       "      <td>5500000.0</td>\n",
       "      <td>52.00</td>\n",
       "      <td>2018-07-19T00:00:00</td>\n",
       "      <td>2</td>\n",
       "      <td>NaN</td>\n",
       "      <td>5.0</td>\n",
       "      <td>31.0</td>\n",
       "      <td>2</td>\n",
       "      <td>NaN</td>\n",
       "      <td>False</td>\n",
       "      <td>False</td>\n",
       "      <td>6.00</td>\n",
       "      <td>NaN</td>\n",
       "      <td>Санкт-Петербург</td>\n",
       "      <td>20151.0</td>\n",
       "      <td>6263.0</td>\n",
       "      <td>1.0</td>\n",
       "      <td>300.0</td>\n",
       "      <td>0.0</td>\n",
       "      <td>NaN</td>\n",
       "      <td>15.0</td>\n",
       "    </tr>\n",
       "    <tr>\n",
       "      <th>23691</th>\n",
       "      <td>11</td>\n",
       "      <td>9470000.0</td>\n",
       "      <td>72.90</td>\n",
       "      <td>2016-10-13T00:00:00</td>\n",
       "      <td>2</td>\n",
       "      <td>2.75</td>\n",
       "      <td>25.0</td>\n",
       "      <td>40.3</td>\n",
       "      <td>7</td>\n",
       "      <td>NaN</td>\n",
       "      <td>False</td>\n",
       "      <td>False</td>\n",
       "      <td>10.60</td>\n",
       "      <td>1.0</td>\n",
       "      <td>Санкт-Петербург</td>\n",
       "      <td>19424.0</td>\n",
       "      <td>4489.0</td>\n",
       "      <td>0.0</td>\n",
       "      <td>NaN</td>\n",
       "      <td>1.0</td>\n",
       "      <td>806.0</td>\n",
       "      <td>519.0</td>\n",
       "    </tr>\n",
       "    <tr>\n",
       "      <th>23692</th>\n",
       "      <td>2</td>\n",
       "      <td>1350000.0</td>\n",
       "      <td>30.00</td>\n",
       "      <td>2017-07-07T00:00:00</td>\n",
       "      <td>1</td>\n",
       "      <td>NaN</td>\n",
       "      <td>5.0</td>\n",
       "      <td>17.5</td>\n",
       "      <td>4</td>\n",
       "      <td>NaN</td>\n",
       "      <td>False</td>\n",
       "      <td>False</td>\n",
       "      <td>6.00</td>\n",
       "      <td>NaN</td>\n",
       "      <td>Тихвин</td>\n",
       "      <td>NaN</td>\n",
       "      <td>NaN</td>\n",
       "      <td>NaN</td>\n",
       "      <td>NaN</td>\n",
       "      <td>NaN</td>\n",
       "      <td>NaN</td>\n",
       "      <td>413.0</td>\n",
       "    </tr>\n",
       "    <tr>\n",
       "      <th>23693</th>\n",
       "      <td>9</td>\n",
       "      <td>4600000.0</td>\n",
       "      <td>62.40</td>\n",
       "      <td>2016-08-05T00:00:00</td>\n",
       "      <td>3</td>\n",
       "      <td>2.60</td>\n",
       "      <td>9.0</td>\n",
       "      <td>40.0</td>\n",
       "      <td>8</td>\n",
       "      <td>NaN</td>\n",
       "      <td>False</td>\n",
       "      <td>False</td>\n",
       "      <td>8.00</td>\n",
       "      <td>0.0</td>\n",
       "      <td>Петергоф</td>\n",
       "      <td>45602.0</td>\n",
       "      <td>34104.0</td>\n",
       "      <td>1.0</td>\n",
       "      <td>352.0</td>\n",
       "      <td>1.0</td>\n",
       "      <td>675.0</td>\n",
       "      <td>239.0</td>\n",
       "    </tr>\n",
       "    <tr>\n",
       "      <th>23694</th>\n",
       "      <td>9</td>\n",
       "      <td>9700000.0</td>\n",
       "      <td>133.81</td>\n",
       "      <td>2017-03-21T00:00:00</td>\n",
       "      <td>3</td>\n",
       "      <td>3.70</td>\n",
       "      <td>5.0</td>\n",
       "      <td>73.3</td>\n",
       "      <td>3</td>\n",
       "      <td>NaN</td>\n",
       "      <td>False</td>\n",
       "      <td>False</td>\n",
       "      <td>13.83</td>\n",
       "      <td>NaN</td>\n",
       "      <td>Санкт-Петербург</td>\n",
       "      <td>24665.0</td>\n",
       "      <td>4232.0</td>\n",
       "      <td>1.0</td>\n",
       "      <td>796.0</td>\n",
       "      <td>3.0</td>\n",
       "      <td>381.0</td>\n",
       "      <td>NaN</td>\n",
       "    </tr>\n",
       "    <tr>\n",
       "      <th>23695</th>\n",
       "      <td>14</td>\n",
       "      <td>3100000.0</td>\n",
       "      <td>59.00</td>\n",
       "      <td>2018-01-15T00:00:00</td>\n",
       "      <td>3</td>\n",
       "      <td>NaN</td>\n",
       "      <td>5.0</td>\n",
       "      <td>38.0</td>\n",
       "      <td>4</td>\n",
       "      <td>NaN</td>\n",
       "      <td>False</td>\n",
       "      <td>False</td>\n",
       "      <td>8.50</td>\n",
       "      <td>NaN</td>\n",
       "      <td>Тосно</td>\n",
       "      <td>NaN</td>\n",
       "      <td>NaN</td>\n",
       "      <td>NaN</td>\n",
       "      <td>NaN</td>\n",
       "      <td>NaN</td>\n",
       "      <td>NaN</td>\n",
       "      <td>45.0</td>\n",
       "    </tr>\n",
       "    <tr>\n",
       "      <th>23696</th>\n",
       "      <td>18</td>\n",
       "      <td>2500000.0</td>\n",
       "      <td>56.70</td>\n",
       "      <td>2018-02-11T00:00:00</td>\n",
       "      <td>2</td>\n",
       "      <td>NaN</td>\n",
       "      <td>3.0</td>\n",
       "      <td>29.7</td>\n",
       "      <td>1</td>\n",
       "      <td>NaN</td>\n",
       "      <td>False</td>\n",
       "      <td>False</td>\n",
       "      <td>NaN</td>\n",
       "      <td>NaN</td>\n",
       "      <td>село Рождествено</td>\n",
       "      <td>NaN</td>\n",
       "      <td>NaN</td>\n",
       "      <td>NaN</td>\n",
       "      <td>NaN</td>\n",
       "      <td>NaN</td>\n",
       "      <td>NaN</td>\n",
       "      <td>NaN</td>\n",
       "    </tr>\n",
       "    <tr>\n",
       "      <th>23697</th>\n",
       "      <td>13</td>\n",
       "      <td>11475000.0</td>\n",
       "      <td>76.75</td>\n",
       "      <td>2017-03-28T00:00:00</td>\n",
       "      <td>2</td>\n",
       "      <td>3.00</td>\n",
       "      <td>17.0</td>\n",
       "      <td>NaN</td>\n",
       "      <td>12</td>\n",
       "      <td>NaN</td>\n",
       "      <td>False</td>\n",
       "      <td>False</td>\n",
       "      <td>23.30</td>\n",
       "      <td>2.0</td>\n",
       "      <td>Санкт-Петербург</td>\n",
       "      <td>39140.0</td>\n",
       "      <td>10364.0</td>\n",
       "      <td>2.0</td>\n",
       "      <td>173.0</td>\n",
       "      <td>3.0</td>\n",
       "      <td>196.0</td>\n",
       "      <td>602.0</td>\n",
       "    </tr>\n",
       "    <tr>\n",
       "      <th>23698</th>\n",
       "      <td>4</td>\n",
       "      <td>1350000.0</td>\n",
       "      <td>32.30</td>\n",
       "      <td>2017-07-21T00:00:00</td>\n",
       "      <td>1</td>\n",
       "      <td>2.50</td>\n",
       "      <td>5.0</td>\n",
       "      <td>12.3</td>\n",
       "      <td>1</td>\n",
       "      <td>NaN</td>\n",
       "      <td>False</td>\n",
       "      <td>False</td>\n",
       "      <td>9.00</td>\n",
       "      <td>NaN</td>\n",
       "      <td>поселок Новый Учхоз</td>\n",
       "      <td>NaN</td>\n",
       "      <td>NaN</td>\n",
       "      <td>NaN</td>\n",
       "      <td>NaN</td>\n",
       "      <td>NaN</td>\n",
       "      <td>NaN</td>\n",
       "      <td>NaN</td>\n",
       "    </tr>\n",
       "  </tbody>\n",
       "</table>\n",
       "</div>"
      ],
      "text/plain": [
       "       total_images  last_price  total_area first_day_exposition  rooms  \\\n",
       "23684            20  21400000.0      145.00  2018-11-02T00:00:00      4   \n",
       "23685            15   2490000.0       31.00  2019-01-24T00:00:00      1   \n",
       "23686             8   3300000.0       31.00  2017-04-29T00:00:00      1   \n",
       "23687             6   3200000.0       39.00  2017-12-16T00:00:00      1   \n",
       "23688            19   9200000.0      101.00  2019-04-01T00:00:00      3   \n",
       "23689            13   3550000.0       35.30  2018-02-28T00:00:00      1   \n",
       "23690             3   5500000.0       52.00  2018-07-19T00:00:00      2   \n",
       "23691            11   9470000.0       72.90  2016-10-13T00:00:00      2   \n",
       "23692             2   1350000.0       30.00  2017-07-07T00:00:00      1   \n",
       "23693             9   4600000.0       62.40  2016-08-05T00:00:00      3   \n",
       "23694             9   9700000.0      133.81  2017-03-21T00:00:00      3   \n",
       "23695            14   3100000.0       59.00  2018-01-15T00:00:00      3   \n",
       "23696            18   2500000.0       56.70  2018-02-11T00:00:00      2   \n",
       "23697            13  11475000.0       76.75  2017-03-28T00:00:00      2   \n",
       "23698             4   1350000.0       32.30  2017-07-21T00:00:00      1   \n",
       "\n",
       "       ceiling_height  floors_total  living_area  floor is_apartment  studio  \\\n",
       "23684            3.00          26.0         71.4     17          NaN   False   \n",
       "23685            2.50           5.0         17.3      5          NaN   False   \n",
       "23686            2.55           9.0         18.0      6          NaN   False   \n",
       "23687             NaN           9.0         20.0      6          NaN   False   \n",
       "23688            3.05          15.0         63.0     12          NaN   False   \n",
       "23689            2.86          15.0         16.3      4          NaN   False   \n",
       "23690             NaN           5.0         31.0      2          NaN   False   \n",
       "23691            2.75          25.0         40.3      7          NaN   False   \n",
       "23692             NaN           5.0         17.5      4          NaN   False   \n",
       "23693            2.60           9.0         40.0      8          NaN   False   \n",
       "23694            3.70           5.0         73.3      3          NaN   False   \n",
       "23695             NaN           5.0         38.0      4          NaN   False   \n",
       "23696             NaN           3.0         29.7      1          NaN   False   \n",
       "23697            3.00          17.0          NaN     12          NaN   False   \n",
       "23698            2.50           5.0         12.3      1          NaN   False   \n",
       "\n",
       "       open_plan  kitchen_area  balcony        locality_name  \\\n",
       "23684      False         15.60      NaN      Санкт-Петербург   \n",
       "23685      False          5.60      1.0            Ломоносов   \n",
       "23686      False          6.50      0.0      Санкт-Петербург   \n",
       "23687      False         11.00      2.0      Санкт-Петербург   \n",
       "23688      False         15.00      NaN      Санкт-Петербург   \n",
       "23689      False          9.10      2.0      Санкт-Петербург   \n",
       "23690      False          6.00      NaN      Санкт-Петербург   \n",
       "23691      False         10.60      1.0      Санкт-Петербург   \n",
       "23692      False          6.00      NaN               Тихвин   \n",
       "23693      False          8.00      0.0             Петергоф   \n",
       "23694      False         13.83      NaN      Санкт-Петербург   \n",
       "23695      False          8.50      NaN                Тосно   \n",
       "23696      False           NaN      NaN     село Рождествено   \n",
       "23697      False         23.30      2.0      Санкт-Петербург   \n",
       "23698      False          9.00      NaN  поселок Новый Учхоз   \n",
       "\n",
       "       airports_nearest  cityCenters_nearest  parks_around3000  parks_nearest  \\\n",
       "23684           11827.0              11459.0               0.0            NaN   \n",
       "23685           48393.0              51818.0               0.0            NaN   \n",
       "23686           11751.0              11602.0               1.0          140.0   \n",
       "23687           40837.0              16704.0               0.0            NaN   \n",
       "23688           15632.0              14428.0               0.0            NaN   \n",
       "23689           17284.0              16081.0               1.0          353.0   \n",
       "23690           20151.0               6263.0               1.0          300.0   \n",
       "23691           19424.0               4489.0               0.0            NaN   \n",
       "23692               NaN                  NaN               NaN            NaN   \n",
       "23693           45602.0              34104.0               1.0          352.0   \n",
       "23694           24665.0               4232.0               1.0          796.0   \n",
       "23695               NaN                  NaN               NaN            NaN   \n",
       "23696               NaN                  NaN               NaN            NaN   \n",
       "23697           39140.0              10364.0               2.0          173.0   \n",
       "23698               NaN                  NaN               NaN            NaN   \n",
       "\n",
       "       ponds_around3000  ponds_nearest  days_exposition  \n",
       "23684               0.0            NaN              NaN  \n",
       "23685               0.0            NaN              NaN  \n",
       "23686               1.0          317.0            193.0  \n",
       "23687               0.0            NaN             38.0  \n",
       "23688               0.0            NaN             23.0  \n",
       "23689               2.0          652.0             29.0  \n",
       "23690               0.0            NaN             15.0  \n",
       "23691               1.0          806.0            519.0  \n",
       "23692               NaN            NaN            413.0  \n",
       "23693               1.0          675.0            239.0  \n",
       "23694               3.0          381.0              NaN  \n",
       "23695               NaN            NaN             45.0  \n",
       "23696               NaN            NaN              NaN  \n",
       "23697               3.0          196.0            602.0  \n",
       "23698               NaN            NaN              NaN  "
      ]
     },
     "execution_count": 5,
     "metadata": {},
     "output_type": "execute_result"
    }
   ],
   "source": [
    "df.tail(15) # вывод последних 15 строк таблицы"
   ]
  },
  {
   "cell_type": "code",
   "execution_count": 6,
   "metadata": {},
   "outputs": [
    {
     "data": {
      "text/html": [
       "<div>\n",
       "<style scoped>\n",
       "    .dataframe tbody tr th:only-of-type {\n",
       "        vertical-align: middle;\n",
       "    }\n",
       "\n",
       "    .dataframe tbody tr th {\n",
       "        vertical-align: top;\n",
       "    }\n",
       "\n",
       "    .dataframe thead th {\n",
       "        text-align: right;\n",
       "    }\n",
       "</style>\n",
       "<table border=\"1\" class=\"dataframe\">\n",
       "  <thead>\n",
       "    <tr style=\"text-align: right;\">\n",
       "      <th></th>\n",
       "      <th>total_images</th>\n",
       "      <th>last_price</th>\n",
       "      <th>total_area</th>\n",
       "      <th>rooms</th>\n",
       "      <th>ceiling_height</th>\n",
       "      <th>floors_total</th>\n",
       "      <th>living_area</th>\n",
       "      <th>floor</th>\n",
       "      <th>kitchen_area</th>\n",
       "      <th>balcony</th>\n",
       "      <th>airports_nearest</th>\n",
       "      <th>cityCenters_nearest</th>\n",
       "      <th>parks_around3000</th>\n",
       "      <th>parks_nearest</th>\n",
       "      <th>ponds_around3000</th>\n",
       "      <th>ponds_nearest</th>\n",
       "      <th>days_exposition</th>\n",
       "    </tr>\n",
       "  </thead>\n",
       "  <tbody>\n",
       "    <tr>\n",
       "      <th>count</th>\n",
       "      <td>23699.000000</td>\n",
       "      <td>2.369900e+04</td>\n",
       "      <td>23699.000000</td>\n",
       "      <td>23699.000000</td>\n",
       "      <td>14504.000000</td>\n",
       "      <td>23613.000000</td>\n",
       "      <td>21796.000000</td>\n",
       "      <td>23699.000000</td>\n",
       "      <td>21421.000000</td>\n",
       "      <td>12180.000000</td>\n",
       "      <td>18157.000000</td>\n",
       "      <td>18180.000000</td>\n",
       "      <td>18181.000000</td>\n",
       "      <td>8079.000000</td>\n",
       "      <td>18181.000000</td>\n",
       "      <td>9110.000000</td>\n",
       "      <td>20518.000000</td>\n",
       "    </tr>\n",
       "    <tr>\n",
       "      <th>mean</th>\n",
       "      <td>9.858475</td>\n",
       "      <td>6.541549e+06</td>\n",
       "      <td>60.348651</td>\n",
       "      <td>2.070636</td>\n",
       "      <td>2.771499</td>\n",
       "      <td>10.673824</td>\n",
       "      <td>34.457852</td>\n",
       "      <td>5.892358</td>\n",
       "      <td>10.569807</td>\n",
       "      <td>1.150082</td>\n",
       "      <td>28793.672193</td>\n",
       "      <td>14191.277833</td>\n",
       "      <td>0.611408</td>\n",
       "      <td>490.804555</td>\n",
       "      <td>0.770255</td>\n",
       "      <td>517.980900</td>\n",
       "      <td>180.888634</td>\n",
       "    </tr>\n",
       "    <tr>\n",
       "      <th>std</th>\n",
       "      <td>5.682529</td>\n",
       "      <td>1.088701e+07</td>\n",
       "      <td>35.654083</td>\n",
       "      <td>1.078405</td>\n",
       "      <td>1.261056</td>\n",
       "      <td>6.597173</td>\n",
       "      <td>22.030445</td>\n",
       "      <td>4.885249</td>\n",
       "      <td>5.905438</td>\n",
       "      <td>1.071300</td>\n",
       "      <td>12630.880622</td>\n",
       "      <td>8608.386210</td>\n",
       "      <td>0.802074</td>\n",
       "      <td>342.317995</td>\n",
       "      <td>0.938346</td>\n",
       "      <td>277.720643</td>\n",
       "      <td>219.727988</td>\n",
       "    </tr>\n",
       "    <tr>\n",
       "      <th>min</th>\n",
       "      <td>0.000000</td>\n",
       "      <td>1.219000e+04</td>\n",
       "      <td>12.000000</td>\n",
       "      <td>0.000000</td>\n",
       "      <td>1.000000</td>\n",
       "      <td>1.000000</td>\n",
       "      <td>2.000000</td>\n",
       "      <td>1.000000</td>\n",
       "      <td>1.300000</td>\n",
       "      <td>0.000000</td>\n",
       "      <td>0.000000</td>\n",
       "      <td>181.000000</td>\n",
       "      <td>0.000000</td>\n",
       "      <td>1.000000</td>\n",
       "      <td>0.000000</td>\n",
       "      <td>13.000000</td>\n",
       "      <td>1.000000</td>\n",
       "    </tr>\n",
       "    <tr>\n",
       "      <th>25%</th>\n",
       "      <td>6.000000</td>\n",
       "      <td>3.400000e+06</td>\n",
       "      <td>40.000000</td>\n",
       "      <td>1.000000</td>\n",
       "      <td>2.520000</td>\n",
       "      <td>5.000000</td>\n",
       "      <td>18.600000</td>\n",
       "      <td>2.000000</td>\n",
       "      <td>7.000000</td>\n",
       "      <td>0.000000</td>\n",
       "      <td>18585.000000</td>\n",
       "      <td>9238.000000</td>\n",
       "      <td>0.000000</td>\n",
       "      <td>288.000000</td>\n",
       "      <td>0.000000</td>\n",
       "      <td>294.000000</td>\n",
       "      <td>45.000000</td>\n",
       "    </tr>\n",
       "    <tr>\n",
       "      <th>50%</th>\n",
       "      <td>9.000000</td>\n",
       "      <td>4.650000e+06</td>\n",
       "      <td>52.000000</td>\n",
       "      <td>2.000000</td>\n",
       "      <td>2.650000</td>\n",
       "      <td>9.000000</td>\n",
       "      <td>30.000000</td>\n",
       "      <td>4.000000</td>\n",
       "      <td>9.100000</td>\n",
       "      <td>1.000000</td>\n",
       "      <td>26726.000000</td>\n",
       "      <td>13098.500000</td>\n",
       "      <td>0.000000</td>\n",
       "      <td>455.000000</td>\n",
       "      <td>1.000000</td>\n",
       "      <td>502.000000</td>\n",
       "      <td>95.000000</td>\n",
       "    </tr>\n",
       "    <tr>\n",
       "      <th>75%</th>\n",
       "      <td>14.000000</td>\n",
       "      <td>6.800000e+06</td>\n",
       "      <td>69.900000</td>\n",
       "      <td>3.000000</td>\n",
       "      <td>2.800000</td>\n",
       "      <td>16.000000</td>\n",
       "      <td>42.300000</td>\n",
       "      <td>8.000000</td>\n",
       "      <td>12.000000</td>\n",
       "      <td>2.000000</td>\n",
       "      <td>37273.000000</td>\n",
       "      <td>16293.000000</td>\n",
       "      <td>1.000000</td>\n",
       "      <td>612.000000</td>\n",
       "      <td>1.000000</td>\n",
       "      <td>729.000000</td>\n",
       "      <td>232.000000</td>\n",
       "    </tr>\n",
       "    <tr>\n",
       "      <th>max</th>\n",
       "      <td>50.000000</td>\n",
       "      <td>7.630000e+08</td>\n",
       "      <td>900.000000</td>\n",
       "      <td>19.000000</td>\n",
       "      <td>100.000000</td>\n",
       "      <td>60.000000</td>\n",
       "      <td>409.700000</td>\n",
       "      <td>33.000000</td>\n",
       "      <td>112.000000</td>\n",
       "      <td>5.000000</td>\n",
       "      <td>84869.000000</td>\n",
       "      <td>65968.000000</td>\n",
       "      <td>3.000000</td>\n",
       "      <td>3190.000000</td>\n",
       "      <td>3.000000</td>\n",
       "      <td>1344.000000</td>\n",
       "      <td>1580.000000</td>\n",
       "    </tr>\n",
       "  </tbody>\n",
       "</table>\n",
       "</div>"
      ],
      "text/plain": [
       "       total_images    last_price    total_area         rooms  ceiling_height  \\\n",
       "count  23699.000000  2.369900e+04  23699.000000  23699.000000    14504.000000   \n",
       "mean       9.858475  6.541549e+06     60.348651      2.070636        2.771499   \n",
       "std        5.682529  1.088701e+07     35.654083      1.078405        1.261056   \n",
       "min        0.000000  1.219000e+04     12.000000      0.000000        1.000000   \n",
       "25%        6.000000  3.400000e+06     40.000000      1.000000        2.520000   \n",
       "50%        9.000000  4.650000e+06     52.000000      2.000000        2.650000   \n",
       "75%       14.000000  6.800000e+06     69.900000      3.000000        2.800000   \n",
       "max       50.000000  7.630000e+08    900.000000     19.000000      100.000000   \n",
       "\n",
       "       floors_total   living_area         floor  kitchen_area       balcony  \\\n",
       "count  23613.000000  21796.000000  23699.000000  21421.000000  12180.000000   \n",
       "mean      10.673824     34.457852      5.892358     10.569807      1.150082   \n",
       "std        6.597173     22.030445      4.885249      5.905438      1.071300   \n",
       "min        1.000000      2.000000      1.000000      1.300000      0.000000   \n",
       "25%        5.000000     18.600000      2.000000      7.000000      0.000000   \n",
       "50%        9.000000     30.000000      4.000000      9.100000      1.000000   \n",
       "75%       16.000000     42.300000      8.000000     12.000000      2.000000   \n",
       "max       60.000000    409.700000     33.000000    112.000000      5.000000   \n",
       "\n",
       "       airports_nearest  cityCenters_nearest  parks_around3000  parks_nearest  \\\n",
       "count      18157.000000         18180.000000      18181.000000    8079.000000   \n",
       "mean       28793.672193         14191.277833          0.611408     490.804555   \n",
       "std        12630.880622          8608.386210          0.802074     342.317995   \n",
       "min            0.000000           181.000000          0.000000       1.000000   \n",
       "25%        18585.000000          9238.000000          0.000000     288.000000   \n",
       "50%        26726.000000         13098.500000          0.000000     455.000000   \n",
       "75%        37273.000000         16293.000000          1.000000     612.000000   \n",
       "max        84869.000000         65968.000000          3.000000    3190.000000   \n",
       "\n",
       "       ponds_around3000  ponds_nearest  days_exposition  \n",
       "count      18181.000000    9110.000000     20518.000000  \n",
       "mean           0.770255     517.980900       180.888634  \n",
       "std            0.938346     277.720643       219.727988  \n",
       "min            0.000000      13.000000         1.000000  \n",
       "25%            0.000000     294.000000        45.000000  \n",
       "50%            1.000000     502.000000        95.000000  \n",
       "75%            1.000000     729.000000       232.000000  \n",
       "max            3.000000    1344.000000      1580.000000  "
      ]
     },
     "execution_count": 6,
     "metadata": {},
     "output_type": "execute_result"
    }
   ],
   "source": [
    "df.describe() # проверка данных методом описательной статистики"
   ]
  },
  {
   "cell_type": "markdown",
   "metadata": {},
   "source": [
    "### Вывод"
   ]
  },
  {
   "cell_type": "markdown",
   "metadata": {},
   "source": [
    "В таблице двадцать два столбца. Тип данных в столбцах различаются — `bool` (2), `float64` (14), `int64` (3) и `object` (3).\n",
    "\n",
    "Есть проблемы в данных, которые нужно устранить:\n",
    "* При беглом изучении, видно большое количество пропусков (NaN);\n",
    "* встерчаются аномальные значения данных (например - высота потолков 100м или площадь квартиры 900м²);\n",
    "* в некотрых столбцах необходимо поменять тип данных;\n",
    "* необходимо перевести формат даты в столбце `first_day_exposition`.\n",
    "\n",
    "Так как часть данных заносилась самими пользователями, а другая часть полученв автоматически и на основе картографических данных, то предположу, что пропуски могли появитьсяв результате как человеческого фактора, так и в результате ошибки системы или процесса выгрузки. \n",
    "Чтобы двигаться дальше, нужно устранить проблемы в данных."
   ]
  },
  {
   "cell_type": "markdown",
   "metadata": {},
   "source": [
    "## Предобработка данных"
   ]
  },
  {
   "cell_type": "markdown",
   "metadata": {},
   "source": [
    "### Поиск пропусков"
   ]
  },
  {
   "cell_type": "code",
   "execution_count": 7,
   "metadata": {},
   "outputs": [
    {
     "data": {
      "text/plain": [
       "is_apartment            20924\n",
       "parks_nearest           15620\n",
       "ponds_nearest           14589\n",
       "balcony                 11519\n",
       "ceiling_height           9195\n",
       "airports_nearest         5542\n",
       "cityCenters_nearest      5519\n",
       "ponds_around3000         5518\n",
       "parks_around3000         5518\n",
       "days_exposition          3181\n",
       "kitchen_area             2278\n",
       "living_area              1903\n",
       "floors_total               86\n",
       "locality_name              49\n",
       "total_images                0\n",
       "last_price                  0\n",
       "studio                      0\n",
       "floor                       0\n",
       "rooms                       0\n",
       "first_day_exposition        0\n",
       "total_area                  0\n",
       "open_plan                   0\n",
       "dtype: int64"
      ]
     },
     "execution_count": 7,
     "metadata": {},
     "output_type": "execute_result"
    }
   ],
   "source": [
    "df.isna().sum().sort_values(ascending=False) # количество пропусков, отсортированных по убыванию"
   ]
  },
  {
   "cell_type": "markdown",
   "metadata": {},
   "source": [
    "Посчитаем процент пропусков в каждом столбце и отсортируем по убыванию для наглядности."
   ]
  },
  {
   "cell_type": "code",
   "execution_count": 8,
   "metadata": {},
   "outputs": [
    {
     "data": {
      "text/plain": [
       "is_apartment            88.290645\n",
       "parks_nearest           65.909954\n",
       "ponds_nearest           61.559559\n",
       "balcony                 48.605426\n",
       "ceiling_height          38.799105\n",
       "airports_nearest        23.384953\n",
       "cityCenters_nearest     23.287902\n",
       "ponds_around3000        23.283683\n",
       "parks_around3000        23.283683\n",
       "days_exposition         13.422507\n",
       "kitchen_area             9.612220\n",
       "living_area              8.029875\n",
       "floors_total             0.362885\n",
       "locality_name            0.206760\n",
       "total_images             0.000000\n",
       "last_price               0.000000\n",
       "studio                   0.000000\n",
       "floor                    0.000000\n",
       "rooms                    0.000000\n",
       "first_day_exposition     0.000000\n",
       "total_area               0.000000\n",
       "open_plan                0.000000\n",
       "dtype: float64"
      ]
     },
     "execution_count": 8,
     "metadata": {},
     "output_type": "execute_result"
    }
   ],
   "source": [
    "(df.isna().sum() / len(df) * 100).sort_values(ascending=False)"
   ]
  },
  {
   "cell_type": "markdown",
   "metadata": {},
   "source": [
    "Видно, что 14 столбцов имеют пропуски. Причём есть столбцы, где пропуски просто \"зашкаливают\" (от 38,8% до 88,3%).\n",
    "Пятёрка \"лидеров\":\n",
    "* `is_apartment`;\n",
    "* `parks_nearest`;\n",
    "* `ponds_nearest`;\n",
    "* `balcony`;\n",
    "* `ceiling_height`."
   ]
  },
  {
   "cell_type": "markdown",
   "metadata": {},
   "source": [
    "* **`is_apartment`** - причиной пропусков может быть простое незнание большинством людей разницы между апартаментами и квартирами. Поэтому продавцы при заполнении формы объявления просто пропускали этот пункт. Заменим пропуски на `False`, т.к. если бы люди точно знали, что их недвижимость относится к аппартаментам, они бы это отметили. Если не отметили, значит их недвижимость точно относится к квартирам. "
   ]
  },
  {
   "cell_type": "code",
   "execution_count": 9,
   "metadata": {},
   "outputs": [
    {
     "name": "stdout",
     "output_type": "stream",
     "text": [
      "Количество пропусков в столбце `is_apartment`: 20924\n"
     ]
    }
   ],
   "source": [
    "print('Количество пропусков в столбце `is_apartment`:' , df['is_apartment'].isna().sum())\n",
    "# ещё раз выведем количество строк с пропусками в столбце `is_apartment`"
   ]
  },
  {
   "cell_type": "code",
   "execution_count": 10,
   "metadata": {},
   "outputs": [],
   "source": [
    "df['is_apartment'] = df['is_apartment'].fillna(False) # заменим пропуски на False"
   ]
  },
  {
   "cell_type": "code",
   "execution_count": 11,
   "metadata": {},
   "outputs": [
    {
     "name": "stdout",
     "output_type": "stream",
     "text": [
      "Количество пропусков в столбце `is_apartment`: 0\n"
     ]
    }
   ],
   "source": [
    "print('Количество пропусков в столбце `is_apartment`:' , df['is_apartment'].isna().sum()) \n",
    "# подсчитаем пропуски после замены"
   ]
  },
  {
   "cell_type": "markdown",
   "metadata": {},
   "source": [
    "* **`balcony`** - возможно, владельцы квартир просто пропускали этот пункт если в их квартирах отсутсвавал балкон. То есть в данном случае `NaN`, скорее всего, это просто `0`.\n",
    "Заменим пропуски в столбце `balcony` на `0`:"
   ]
  },
  {
   "cell_type": "code",
   "execution_count": 12,
   "metadata": {},
   "outputs": [
    {
     "name": "stdout",
     "output_type": "stream",
     "text": [
      "Количество пропусков в столбце `balcony`: 11519\n"
     ]
    }
   ],
   "source": [
    "print('Количество пропусков в столбце `balcony`:', df['balcony'].isna().sum()) # подсчитаем пропуски "
   ]
  },
  {
   "cell_type": "code",
   "execution_count": 13,
   "metadata": {},
   "outputs": [
    {
     "name": "stdout",
     "output_type": "stream",
     "text": [
      "Количество пропусков в столбце `balcony`: 0\n"
     ]
    }
   ],
   "source": [
    "df['balcony'] = df['balcony'].fillna(0) # замена пропусков на 0\n",
    "print('Количество пропусков в столбце `balcony`:', df['balcony'].isna().sum()) # подсчитаем пропуски после замены"
   ]
  },
  {
   "cell_type": "markdown",
   "metadata": {},
   "source": [
    "* **`parks_nearest`,`ponds_nearest`** - расстояние высчитывается автоматически, отсюда и такое большое количество пропущенных значений. Думаю эти параметры не самые важные при выборе квартиры, **поэтому пропуски можно оставить и не обрабатывать.**"
   ]
  },
  {
   "cell_type": "markdown",
   "metadata": {},
   "source": [
    "* **`ceiling_height`** - предположу, что некоторые продавцы не считают это обязательным для заполнения пунктом. Надо будет заполнить медианным показателем `ceiling_height` по населенному пункту. Медиану выбрали, т.к. она менее подвержена выбросам"
   ]
  },
  {
   "cell_type": "code",
   "execution_count": 14,
   "metadata": {},
   "outputs": [
    {
     "name": "stdout",
     "output_type": "stream",
     "text": [
      "Количество пропусков в столбце `ceiling_height`: 9195\n"
     ]
    }
   ],
   "source": [
    "print('Количество пропусков в столбце `ceiling_height`:' , df['ceiling_height'].isna().sum()) # подсчитаем пропуски "
   ]
  },
  {
   "cell_type": "code",
   "execution_count": 15,
   "metadata": {},
   "outputs": [
    {
     "name": "stdout",
     "output_type": "stream",
     "text": [
      "Количество пропусков в столбце `ceiling_height`: 0\n"
     ]
    }
   ],
   "source": [
    "df['ceiling_height'] = df['ceiling_height'].fillna(df['ceiling_height'].median()) \n",
    "# заменим пропуски в столбце на медианное значение\n",
    "print('Количество пропусков в столбце `ceiling_height`:' , df['ceiling_height'].isna().sum()) \n",
    "# подсчитаем пропуски после замены"
   ]
  },
  {
   "cell_type": "markdown",
   "metadata": {},
   "source": [
    "* **`airports_nearest`** - пропуски могли возникнуть в результате ошибки выгрузки данных, либо в сбоях работы самой программы подсчёта расстояний. Данные этого столбца нам будут не нужны в дальнейшем, поэтому оставим всё как есть."
   ]
  },
  {
   "cell_type": "markdown",
   "metadata": {},
   "source": [
    "* **`cityCenters_nearest`** - пропуски тут тоже , скорее всего, возникли в результате выгрузки данных. Но эти данные нам нужны в последующих заданиях, поэтому заполним пропуски на медианные значения."
   ]
  },
  {
   "cell_type": "code",
   "execution_count": 16,
   "metadata": {},
   "outputs": [],
   "source": [
    "df['cityCenters_nearest'] = df['cityCenters_nearest'].fillna(df['cityCenters_nearest'].median()) "
   ]
  },
  {
   "cell_type": "code",
   "execution_count": 17,
   "metadata": {},
   "outputs": [
    {
     "name": "stdout",
     "output_type": "stream",
     "text": [
      "Количество пропусков в столбце `cityCenters_nearest`: 0\n"
     ]
    }
   ],
   "source": [
    "print('Количество пропусков в столбце `cityCenters_nearest`:' , df['cityCenters_nearest'].isna().sum()) "
   ]
  },
  {
   "cell_type": "markdown",
   "metadata": {},
   "source": [
    "days_exposition - информация может отсутствовать, например, по причине того, что продавцы просто забыли закрыть объявление на онлайн-ресурсе. Оставим всё как есть. Заполнить эти пропуски не представляется возможным."
   ]
  },
  {
   "cell_type": "code",
   "execution_count": 18,
   "metadata": {},
   "outputs": [],
   "source": [
    "df.loc[df['days_exposition'].isna(), 'days_exposition'] = df['days_exposition'].describe()[5]"
   ]
  },
  {
   "cell_type": "code",
   "execution_count": 19,
   "metadata": {
    "scrolled": true
   },
   "outputs": [
    {
     "name": "stdout",
     "output_type": "stream",
     "text": [
      "Количество пропусков в столбце `days_exposition`: 0\n"
     ]
    }
   ],
   "source": [
    "print('Количество пропусков в столбце `days_exposition`:' , df['days_exposition'].isna().sum()) # подсчитаем пропуски "
   ]
  },
  {
   "cell_type": "markdown",
   "metadata": {},
   "source": [
    "* **`kitchen_area` и `living_area`** - пропуски скорее всего связаны с нежеланием заполнять эти данные самим продавцом. Заполним пропуски медианным значением по столбцу `total_area`:"
   ]
  },
  {
   "cell_type": "code",
   "execution_count": 20,
   "metadata": {},
   "outputs": [
    {
     "name": "stdout",
     "output_type": "stream",
     "text": [
      "Количество пропусков в столбце `kitchen_area`: 0\n"
     ]
    }
   ],
   "source": [
    "df['kitchen_area'] = df['kitchen_area'].fillna(df['total_area'].median()) \n",
    "print('Количество пропусков в столбце `kitchen_area`:' , df['kitchen_area'].isna().sum())"
   ]
  },
  {
   "cell_type": "code",
   "execution_count": 21,
   "metadata": {},
   "outputs": [
    {
     "name": "stdout",
     "output_type": "stream",
     "text": [
      "Количество пропусков в столбце `living_area`: 0\n"
     ]
    }
   ],
   "source": [
    "df['living_area'] = df['living_area'].fillna(df['total_area'].median()) \n",
    "print('Количество пропусков в столбце `living_area`:' , df['living_area'].isna().sum())"
   ]
  },
  {
   "cell_type": "markdown",
   "metadata": {},
   "source": [
    "* **`ponds_around3000` и `parks_around3000`** - пропуски связаны с человеческим фактором. Просто продавцы не посчитали нужным указать эти данные в объявлении. Но эти данные и не нужны для проверки текущих гипотез. Поэтому пропуски не будем трогать."
   ]
  },
  {
   "cell_type": "markdown",
   "metadata": {},
   "source": [
    "* **`floors_total`** - пропущенных значений малое количество. Причиной возникновения пропущенных значений скорее всего является - человеческий фактор. При заполнении данных вероятнее всего не была замечена графа, или продавец не посчитал нужным заполнять информацию;\n",
    "* **`locality_name`** - причиной возникновения пропущенных значений может быть отсутствие наименования населенного пункта в списке Яндекс.Недвижимость. \n",
    "\n",
    "Пропущенных значений меньше 0,5% от всего количества значений. Наиболее оптимальным решением будет удалить строки с пропущенными значениями методом dropna()."
   ]
  },
  {
   "cell_type": "code",
   "execution_count": 22,
   "metadata": {},
   "outputs": [],
   "source": [
    "df = df.dropna(subset=['floors_total'])\n",
    "df = df.dropna(subset=['locality_name'])"
   ]
  },
  {
   "cell_type": "code",
   "execution_count": 23,
   "metadata": {},
   "outputs": [
    {
     "name": "stdout",
     "output_type": "stream",
     "text": [
      "Количество пропусков в столбце `floors_total`: 0\n",
      "Количество пропусков в столбце `locality_name`: 0\n"
     ]
    }
   ],
   "source": [
    "print('Количество пропусков в столбце `floors_total`:' , df['floors_total'].isna().sum()) # подсчитаем пропуски \n",
    "print('Количество пропусков в столбце `locality_name`:' , df['locality_name'].isna().sum())"
   ]
  },
  {
   "cell_type": "code",
   "execution_count": 24,
   "metadata": {},
   "outputs": [
    {
     "name": "stdout",
     "output_type": "stream",
     "text": [
      "<class 'pandas.core.frame.DataFrame'>\n",
      "Int64Index: 23565 entries, 0 to 23698\n",
      "Data columns (total 22 columns):\n",
      " #   Column                Non-Null Count  Dtype  \n",
      "---  ------                --------------  -----  \n",
      " 0   total_images          23565 non-null  int64  \n",
      " 1   last_price            23565 non-null  float64\n",
      " 2   total_area            23565 non-null  float64\n",
      " 3   first_day_exposition  23565 non-null  object \n",
      " 4   rooms                 23565 non-null  int64  \n",
      " 5   ceiling_height        23565 non-null  float64\n",
      " 6   floors_total          23565 non-null  float64\n",
      " 7   living_area           23565 non-null  float64\n",
      " 8   floor                 23565 non-null  int64  \n",
      " 9   is_apartment          23565 non-null  bool   \n",
      " 10  studio                23565 non-null  bool   \n",
      " 11  open_plan             23565 non-null  bool   \n",
      " 12  kitchen_area          23565 non-null  float64\n",
      " 13  balcony               23565 non-null  float64\n",
      " 14  locality_name         23565 non-null  object \n",
      " 15  airports_nearest      18041 non-null  float64\n",
      " 16  cityCenters_nearest   23565 non-null  float64\n",
      " 17  parks_around3000      18065 non-null  float64\n",
      " 18  parks_nearest         8030 non-null   float64\n",
      " 19  ponds_around3000      18065 non-null  float64\n",
      " 20  ponds_nearest         9036 non-null   float64\n",
      " 21  days_exposition       23565 non-null  float64\n",
      "dtypes: bool(3), float64(14), int64(3), object(2)\n",
      "memory usage: 3.7+ MB\n"
     ]
    }
   ],
   "source": [
    "df.info()"
   ]
  },
  {
   "cell_type": "code",
   "execution_count": 25,
   "metadata": {},
   "outputs": [
    {
     "data": {
      "text/plain": [
       "0"
      ]
     },
     "execution_count": 25,
     "metadata": {},
     "output_type": "execute_result"
    }
   ],
   "source": [
    "df.duplicated().sum() # подсчёт явных дубликатов"
   ]
  },
  {
   "cell_type": "markdown",
   "metadata": {},
   "source": [
    "### Приведение данных к нужным типам."
   ]
  },
  {
   "cell_type": "markdown",
   "metadata": {},
   "source": [
    "Список столбцов к изменению типов данных:\n",
    "* last_price - в целочисленный тип (точность до десятых здесь не нужна);\n",
    "* total_area - округлим до 1-го знака после запятой;\n",
    "* first_day_exposition - переведём дату в datetime, плюс уберём время (оно везде 00:00:00). В следующих заданиях нужно будет добавлять столбцы день недели, месяц и год публикации объявления;\n",
    "* ceiling_height - округлим до 1-го знака после запятой;\n",
    "* floors_total, balcony - в целочисленный тип (не бывет не целых этажей и балконов);\n",
    "* living_area, kitchen_area - округлим до до 1-го знака после запятой;\n",
    "* cityCenters_nearest - все расстояния указаны в метрах, переводим в целочисленный формат\n",
    "* days_exposition - в целочисленный тип"
   ]
  },
  {
   "cell_type": "code",
   "execution_count": 26,
   "metadata": {},
   "outputs": [],
   "source": [
    "list_to_int = ['last_price', 'floors_total', 'balcony', 'cityCenters_nearest', 'days_exposition']\n",
    "# список столбцов для перевода данных в int\n",
    "for column in list_to_int:\n",
    "    df[column] = df[df[column].notnull()][column].astype('int')"
   ]
  },
  {
   "cell_type": "code",
   "execution_count": 27,
   "metadata": {},
   "outputs": [],
   "source": [
    "list_to_float_1 = ['total_area', 'ceiling_height', 'living_area', 'kitchen_area']\n",
    "# список столбцов для округления до десятых долей\n",
    "for column in list_to_float_1:\n",
    "    df[column] = df[df[column].notnull()][column].round(1)"
   ]
  },
  {
   "cell_type": "code",
   "execution_count": 28,
   "metadata": {},
   "outputs": [],
   "source": [
    "df['first_day_exposition'] = pd.to_datetime(df['first_day_exposition'], format='%Y-%m-%d')\n",
    "# перевод в формат год-месяц-день"
   ]
  },
  {
   "cell_type": "code",
   "execution_count": 29,
   "metadata": {},
   "outputs": [],
   "source": [
    "df['locality_name'] = df['locality_name'].str.lower() \n",
    "# На всякий случай привел в нижней регистр"
   ]
  },
  {
   "cell_type": "code",
   "execution_count": 30,
   "metadata": {},
   "outputs": [
    {
     "name": "stdout",
     "output_type": "stream",
     "text": [
      "<class 'pandas.core.frame.DataFrame'>\n",
      "Int64Index: 23565 entries, 0 to 23698\n",
      "Data columns (total 22 columns):\n",
      " #   Column                Non-Null Count  Dtype         \n",
      "---  ------                --------------  -----         \n",
      " 0   total_images          23565 non-null  int64         \n",
      " 1   last_price            23565 non-null  int64         \n",
      " 2   total_area            23565 non-null  float64       \n",
      " 3   first_day_exposition  23565 non-null  datetime64[ns]\n",
      " 4   rooms                 23565 non-null  int64         \n",
      " 5   ceiling_height        23565 non-null  float64       \n",
      " 6   floors_total          23565 non-null  int64         \n",
      " 7   living_area           23565 non-null  float64       \n",
      " 8   floor                 23565 non-null  int64         \n",
      " 9   is_apartment          23565 non-null  bool          \n",
      " 10  studio                23565 non-null  bool          \n",
      " 11  open_plan             23565 non-null  bool          \n",
      " 12  kitchen_area          23565 non-null  float64       \n",
      " 13  balcony               23565 non-null  int64         \n",
      " 14  locality_name         23565 non-null  object        \n",
      " 15  airports_nearest      18041 non-null  float64       \n",
      " 16  cityCenters_nearest   23565 non-null  int64         \n",
      " 17  parks_around3000      18065 non-null  float64       \n",
      " 18  parks_nearest         8030 non-null   float64       \n",
      " 19  ponds_around3000      18065 non-null  float64       \n",
      " 20  ponds_nearest         9036 non-null   float64       \n",
      " 21  days_exposition       23565 non-null  int64         \n",
      "dtypes: bool(3), datetime64[ns](1), float64(9), int64(8), object(1)\n",
      "memory usage: 3.7+ MB\n"
     ]
    }
   ],
   "source": [
    "df.info()"
   ]
  },
  {
   "cell_type": "markdown",
   "metadata": {},
   "source": [
    "**ВЫВОД**\n",
    "\n",
    "В ходе преодобрабоки данных:\n",
    "* устранили пропуски в значимых для исследования столбцах;\n",
    "* привели данные в столбцах к нужным типам;\n",
    "* было выполнено удаление строк с пропусками, никак не влияющие на картину вцелом.\n",
    "\n",
    "С полученными данными будем работать для проверки поставленных гипотез.\n"
   ]
  },
  {
   "cell_type": "markdown",
   "metadata": {},
   "source": [
    "## Расчёты и добавление результатов в таблицу"
   ]
  },
  {
   "cell_type": "markdown",
   "metadata": {},
   "source": [
    "Добавление столбца и расчёт стоимости квадратного метра:"
   ]
  },
  {
   "cell_type": "code",
   "execution_count": 31,
   "metadata": {},
   "outputs": [],
   "source": [
    "df['price_per_square_meter'] = (df['last_price'] / df['total_area']).round(2)"
   ]
  },
  {
   "cell_type": "markdown",
   "metadata": {},
   "source": [
    "Добавим столбцы: \n",
    "* день недели публикации объявления;\n",
    "* месяц публикации объявления;\n",
    "* год публикации объявления."
   ]
  },
  {
   "cell_type": "code",
   "execution_count": 32,
   "metadata": {},
   "outputs": [],
   "source": [
    "df['weekday_exposition'] = df['first_day_exposition'].dt.weekday # создаю столбец недели\n",
    "df['month_exposition'] = df['first_day_exposition'].dt.month #создаю столбец месяца\n",
    "df['year_exposition'] = df['first_day_exposition'].dt.year #создаю столбец года"
   ]
  },
  {
   "cell_type": "markdown",
   "metadata": {},
   "source": [
    "Добавим столбец этаж квартиры. Для этого нужно провести категоризацию по этажам:"
   ]
  },
  {
   "cell_type": "code",
   "execution_count": 33,
   "metadata": {},
   "outputs": [],
   "source": [
    "def floor_group(row): # функция категоризации\n",
    "    if row['floor'] == 1:\n",
    "        return 'первый'\n",
    "    elif row['floor'] == row['floors_total']:\n",
    "        return 'последний'\n",
    "    else:\n",
    "        return 'другой'\n",
    "df['floor_type'] = df.apply(floor_group, axis=1) # добавление столбца floor_type"
   ]
  },
  {
   "cell_type": "markdown",
   "metadata": {},
   "source": [
    "Рассчитаем соотношение жилой и общей площади, а также отношение площади кухни к общей и добавим эти столбцы в таблицу:"
   ]
  },
  {
   "cell_type": "code",
   "execution_count": 34,
   "metadata": {},
   "outputs": [],
   "source": [
    "# Добавляем столбец с отношением жилой площади и общей (area_ratio), переводим в % и приводим его в целочисленный тип\n",
    "df['area_ratio'] = df['living_area'] / df['total_area'] * 100\n",
    "df['area_ratio'] = df['area_ratio'].fillna(value=0).astype(int)\n",
    "\n",
    "# Добавляем столбец с отношением площади кухни к общей (kitchen_ratio), переводим в % и приводим его в целочисленный тип\n",
    "df['kitchen_ratio'] = df['kitchen_area'] / df['total_area'] * 100\n",
    "df['kitchen_ratio'] = df['kitchen_ratio'].fillna(value=0).astype(int)"
   ]
  },
  {
   "cell_type": "code",
   "execution_count": 35,
   "metadata": {
    "scrolled": false
   },
   "outputs": [
    {
     "data": {
      "text/html": [
       "<div>\n",
       "<style scoped>\n",
       "    .dataframe tbody tr th:only-of-type {\n",
       "        vertical-align: middle;\n",
       "    }\n",
       "\n",
       "    .dataframe tbody tr th {\n",
       "        vertical-align: top;\n",
       "    }\n",
       "\n",
       "    .dataframe thead th {\n",
       "        text-align: right;\n",
       "    }\n",
       "</style>\n",
       "<table border=\"1\" class=\"dataframe\">\n",
       "  <thead>\n",
       "    <tr style=\"text-align: right;\">\n",
       "      <th></th>\n",
       "      <th>price_per_square_meter</th>\n",
       "      <th>weekday_exposition</th>\n",
       "      <th>month_exposition</th>\n",
       "      <th>year_exposition</th>\n",
       "      <th>floor_type</th>\n",
       "      <th>area_ratio</th>\n",
       "      <th>kitchen_ratio</th>\n",
       "    </tr>\n",
       "  </thead>\n",
       "  <tbody>\n",
       "    <tr>\n",
       "      <th>0</th>\n",
       "      <td>120370.37</td>\n",
       "      <td>3</td>\n",
       "      <td>3</td>\n",
       "      <td>2019</td>\n",
       "      <td>другой</td>\n",
       "      <td>47</td>\n",
       "      <td>23</td>\n",
       "    </tr>\n",
       "    <tr>\n",
       "      <th>1</th>\n",
       "      <td>82920.79</td>\n",
       "      <td>1</td>\n",
       "      <td>12</td>\n",
       "      <td>2018</td>\n",
       "      <td>первый</td>\n",
       "      <td>46</td>\n",
       "      <td>27</td>\n",
       "    </tr>\n",
       "    <tr>\n",
       "      <th>2</th>\n",
       "      <td>92785.71</td>\n",
       "      <td>3</td>\n",
       "      <td>8</td>\n",
       "      <td>2015</td>\n",
       "      <td>другой</td>\n",
       "      <td>61</td>\n",
       "      <td>14</td>\n",
       "    </tr>\n",
       "    <tr>\n",
       "      <th>3</th>\n",
       "      <td>408176.10</td>\n",
       "      <td>4</td>\n",
       "      <td>7</td>\n",
       "      <td>2015</td>\n",
       "      <td>другой</td>\n",
       "      <td>32</td>\n",
       "      <td>32</td>\n",
       "    </tr>\n",
       "    <tr>\n",
       "      <th>4</th>\n",
       "      <td>100000.00</td>\n",
       "      <td>1</td>\n",
       "      <td>6</td>\n",
       "      <td>2018</td>\n",
       "      <td>другой</td>\n",
       "      <td>32</td>\n",
       "      <td>41</td>\n",
       "    </tr>\n",
       "    <tr>\n",
       "      <th>5</th>\n",
       "      <td>95065.79</td>\n",
       "      <td>0</td>\n",
       "      <td>9</td>\n",
       "      <td>2018</td>\n",
       "      <td>другой</td>\n",
       "      <td>47</td>\n",
       "      <td>29</td>\n",
       "    </tr>\n",
       "    <tr>\n",
       "      <th>6</th>\n",
       "      <td>99195.71</td>\n",
       "      <td>3</td>\n",
       "      <td>11</td>\n",
       "      <td>2017</td>\n",
       "      <td>другой</td>\n",
       "      <td>28</td>\n",
       "      <td>38</td>\n",
       "    </tr>\n",
       "    <tr>\n",
       "      <th>7</th>\n",
       "      <td>110544.69</td>\n",
       "      <td>3</td>\n",
       "      <td>4</td>\n",
       "      <td>2019</td>\n",
       "      <td>другой</td>\n",
       "      <td>72</td>\n",
       "      <td>26</td>\n",
       "    </tr>\n",
       "    <tr>\n",
       "      <th>8</th>\n",
       "      <td>87349.40</td>\n",
       "      <td>2</td>\n",
       "      <td>5</td>\n",
       "      <td>2018</td>\n",
       "      <td>другой</td>\n",
       "      <td>46</td>\n",
       "      <td>26</td>\n",
       "    </tr>\n",
       "    <tr>\n",
       "      <th>9</th>\n",
       "      <td>88524.59</td>\n",
       "      <td>6</td>\n",
       "      <td>2</td>\n",
       "      <td>2017</td>\n",
       "      <td>другой</td>\n",
       "      <td>71</td>\n",
       "      <td>10</td>\n",
       "    </tr>\n",
       "    <tr>\n",
       "      <th>10</th>\n",
       "      <td>127525.25</td>\n",
       "      <td>3</td>\n",
       "      <td>11</td>\n",
       "      <td>2017</td>\n",
       "      <td>другой</td>\n",
       "      <td>51</td>\n",
       "      <td>21</td>\n",
       "    </tr>\n",
       "    <tr>\n",
       "      <th>11</th>\n",
       "      <td>75000.00</td>\n",
       "      <td>0</td>\n",
       "      <td>8</td>\n",
       "      <td>2018</td>\n",
       "      <td>другой</td>\n",
       "      <td>70</td>\n",
       "      <td>13</td>\n",
       "    </tr>\n",
       "    <tr>\n",
       "      <th>12</th>\n",
       "      <td>72037.04</td>\n",
       "      <td>3</td>\n",
       "      <td>6</td>\n",
       "      <td>2016</td>\n",
       "      <td>последний</td>\n",
       "      <td>55</td>\n",
       "      <td>16</td>\n",
       "    </tr>\n",
       "    <tr>\n",
       "      <th>13</th>\n",
       "      <td>82943.93</td>\n",
       "      <td>5</td>\n",
       "      <td>7</td>\n",
       "      <td>2017</td>\n",
       "      <td>последний</td>\n",
       "      <td>63</td>\n",
       "      <td>12</td>\n",
       "    </tr>\n",
       "    <tr>\n",
       "      <th>14</th>\n",
       "      <td>122222.22</td>\n",
       "      <td>3</td>\n",
       "      <td>6</td>\n",
       "      <td>2016</td>\n",
       "      <td>первый</td>\n",
       "      <td>47</td>\n",
       "      <td>22</td>\n",
       "    </tr>\n",
       "  </tbody>\n",
       "</table>\n",
       "</div>"
      ],
      "text/plain": [
       "    price_per_square_meter  weekday_exposition  month_exposition  \\\n",
       "0                120370.37                   3                 3   \n",
       "1                 82920.79                   1                12   \n",
       "2                 92785.71                   3                 8   \n",
       "3                408176.10                   4                 7   \n",
       "4                100000.00                   1                 6   \n",
       "5                 95065.79                   0                 9   \n",
       "6                 99195.71                   3                11   \n",
       "7                110544.69                   3                 4   \n",
       "8                 87349.40                   2                 5   \n",
       "9                 88524.59                   6                 2   \n",
       "10               127525.25                   3                11   \n",
       "11                75000.00                   0                 8   \n",
       "12                72037.04                   3                 6   \n",
       "13                82943.93                   5                 7   \n",
       "14               122222.22                   3                 6   \n",
       "\n",
       "    year_exposition floor_type  area_ratio  kitchen_ratio  \n",
       "0              2019     другой          47             23  \n",
       "1              2018     первый          46             27  \n",
       "2              2015     другой          61             14  \n",
       "3              2015     другой          32             32  \n",
       "4              2018     другой          32             41  \n",
       "5              2018     другой          47             29  \n",
       "6              2017     другой          28             38  \n",
       "7              2019     другой          72             26  \n",
       "8              2018     другой          46             26  \n",
       "9              2017     другой          71             10  \n",
       "10             2017     другой          51             21  \n",
       "11             2018     другой          70             13  \n",
       "12             2016  последний          55             16  \n",
       "13             2017  последний          63             12  \n",
       "14             2016     первый          47             22  "
      ]
     },
     "execution_count": 35,
     "metadata": {},
     "output_type": "execute_result"
    }
   ],
   "source": [
    "# проверим добавление столбцов\n",
    "df[\n",
    "    ['price_per_square_meter',\n",
    "    'weekday_exposition',\n",
    "    'month_exposition',\n",
    "    'year_exposition', \n",
    "    'floor_type', \n",
    "    'area_ratio', \n",
    "    'kitchen_ratio']\n",
    "].head(15)"
   ]
  },
  {
   "cell_type": "markdown",
   "metadata": {},
   "source": [
    "## Исследовательский анализ данных"
   ]
  },
  {
   "cell_type": "markdown",
   "metadata": {},
   "source": [
    "### Изучение параметров: площадь, цена, число комнат, высота потолков"
   ]
  },
  {
   "cell_type": "markdown",
   "metadata": {},
   "source": [
    "Изучми данные столбца `total_area`:"
   ]
  },
  {
   "cell_type": "code",
   "execution_count": 36,
   "metadata": {},
   "outputs": [
    {
     "data": {
      "text/plain": [
       "count    23565.000000\n",
       "mean        60.322813\n",
       "std         35.657072\n",
       "min         12.000000\n",
       "25%         40.000000\n",
       "50%         52.000000\n",
       "75%         69.700000\n",
       "max        900.000000\n",
       "Name: total_area, dtype: float64"
      ]
     },
     "execution_count": 36,
     "metadata": {},
     "output_type": "execute_result"
    }
   ],
   "source": [
    "df['total_area'].describe()"
   ]
  },
  {
   "cell_type": "code",
   "execution_count": 37,
   "metadata": {},
   "outputs": [
    {
     "data": {
      "image/png": "[encoded data removed]",
      "text/plain": [
       "<Figure size 432x288 with 1 Axes>"
      ]
     },
     "metadata": {
      "needs_background": "light"
     },
     "output_type": "display_data"
    }
   ],
   "source": [
    "plt.hist(df['total_area'], bins=30, range=(10,200))\n",
    "plt.title('Площадь квартир')\n",
    "plt.xlabel('Квадратные метры')\n",
    "plt.ylabel('Количество квартир')\n",
    "plt.show()"
   ]
  },
  {
   "cell_type": "code",
   "execution_count": 38,
   "metadata": {},
   "outputs": [
    {
     "data": {
      "image/png": "[encoded data removed]",
      "text/plain": [
       "<Figure size 432x288 with 1 Axes>"
      ]
     },
     "metadata": {
      "needs_background": "light"
     },
     "output_type": "display_data"
    }
   ],
   "source": [
    "plt.boxplot(df['total_area'])\n",
    "plt.title(\"Распределение по площади\")\n",
    "plt.ylim(0, 150)\n",
    "plt.show()"
   ]
  },
  {
   "cell_type": "markdown",
   "metadata": {},
   "source": [
    "**Промежуточный вывод:**\n",
    "\n",
    "* большая часть квартир имеет площадь от 40м² до 70м²;\n",
    "* медианное значение - 50м²;\n",
    "* нижний «ус» диагрыммы размаха около значения 12 - это минимальное значение. Верхний заканчивается около 120 — это ориентировочная граница нормального размаха. Всё, что лежит за ней - выбросы. Более высокие значения рисуются отдельными точками, но сливаются в единую жирную линию: таких выбросов очень много. И всё же значения, которые отсёк верхний «ус», — редкие. Видно, насколько медиана (зелёная линия) не стремится к длинному хвосту высоких значений."
   ]
  },
  {
   "cell_type": "markdown",
   "metadata": {},
   "source": [
    "Изучми данные столбца `last_price`:"
   ]
  },
  {
   "cell_type": "code",
   "execution_count": 39,
   "metadata": {},
   "outputs": [
    {
     "data": {
      "text/plain": [
       "count    2.356500e+04\n",
       "mean     6.540058e+06\n",
       "std      1.091093e+07\n",
       "min      1.219000e+04\n",
       "25%      3.400000e+06\n",
       "50%      4.646000e+06\n",
       "75%      6.790000e+06\n",
       "max      7.630000e+08\n",
       "Name: last_price, dtype: float64"
      ]
     },
     "execution_count": 39,
     "metadata": {},
     "output_type": "execute_result"
    }
   ],
   "source": [
    "df['last_price'].describe()"
   ]
  },
  {
   "cell_type": "code",
   "execution_count": 40,
   "metadata": {},
   "outputs": [
    {
     "data": {
      "image/png": "[encoded data removed]",
      "text/plain": [
       "<Figure size 432x288 with 1 Axes>"
      ]
     },
     "metadata": {
      "needs_background": "light"
     },
     "output_type": "display_data"
    }
   ],
   "source": [
    "plt.hist(df['last_price'], bins=30, range=(0,20000000))\n",
    "plt.title('Стоимость квартир')\n",
    "plt.xlabel('Стоимость')\n",
    "plt.ylabel('Количество квартир')\n",
    "plt.show()"
   ]
  },
  {
   "cell_type": "code",
   "execution_count": 41,
   "metadata": {},
   "outputs": [
    {
     "data": {
      "image/png": "[encoded data removed]",
      "text/plain": [
       "<Figure size 432x288 with 1 Axes>"
      ]
     },
     "metadata": {
      "needs_background": "light"
     },
     "output_type": "display_data"
    }
   ],
   "source": [
    "plt.boxplot(df['last_price'])\n",
    "plt.title('Распределение по стоимости')\n",
    "plt.ylim(-2000000, 15000000)\n",
    "plt.show()"
   ]
  },
  {
   "cell_type": "markdown",
   "metadata": {},
   "source": [
    "**Промежуточный вывод:**\n",
    "\n",
    "* большая часть квартир имеет стоимость от 3,5 млн. до 7 млн.;\n",
    "* медианное значение - 4,65млн.;\n",
    "* нижний «ус» диагрыммы размаха около значения 12тыс - это минимальное значение. Верхний заканчивается около 12млн. — это ориентировочная граница нормального размаха. \n",
    "* средняя и медиана разнятся: средняя цена составляет 6,5млн., а медианное значение - 4,65млн. Стандартное отклонение очень велико: около 11млн."
   ]
  },
  {
   "cell_type": "markdown",
   "metadata": {},
   "source": [
    "Изучми данные столбца `rooms`:"
   ]
  },
  {
   "cell_type": "code",
   "execution_count": 42,
   "metadata": {},
   "outputs": [
    {
     "data": {
      "text/plain": [
       "count    23565.000000\n",
       "mean         2.070656\n",
       "std          1.078591\n",
       "min          0.000000\n",
       "25%          1.000000\n",
       "50%          2.000000\n",
       "75%          3.000000\n",
       "max         19.000000\n",
       "Name: rooms, dtype: float64"
      ]
     },
     "execution_count": 42,
     "metadata": {},
     "output_type": "execute_result"
    }
   ],
   "source": [
    "df['rooms'].describe()"
   ]
  },
  {
   "cell_type": "code",
   "execution_count": 43,
   "metadata": {},
   "outputs": [
    {
     "data": {
      "image/png": "[encoded data removed]",
      "text/plain": [
       "<Figure size 432x288 with 1 Axes>"
      ]
     },
     "metadata": {
      "needs_background": "light"
     },
     "output_type": "display_data"
    }
   ],
   "source": [
    "plt.hist(df['rooms'], bins=20, range=(0,6))\n",
    "plt.xlabel('количество комнат')\n",
    "plt.ylabel('Количество квартир')\n",
    "plt.show()"
   ]
  },
  {
   "cell_type": "code",
   "execution_count": 44,
   "metadata": {},
   "outputs": [
    {
     "data": {
      "image/png": "[encoded data removed]",
      "text/plain": [
       "<Figure size 432x288 with 1 Axes>"
      ]
     },
     "metadata": {
      "needs_background": "light"
     },
     "output_type": "display_data"
    }
   ],
   "source": [
    "plt.boxplot(df['rooms'])\n",
    "plt.title('Распределение по кол-ву комнат')\n",
    "plt.ylim(-2, 15)\n",
    "plt.show()"
   ]
  },
  {
   "cell_type": "markdown",
   "metadata": {},
   "source": [
    "**Промежуточный вывод:**\n",
    "\n",
    "* большая часть квартир имеет от одной до трёх комнат;\n",
    "* медианное значение 2 комнаты;\n",
    "* нижний «ус» диагрыммы размаха значение 0 - это минимальное значение. Верхний заканчивается на значение 6 — это ориентировочная граница нормального размаха. Всё, что лежит за ней - выбросы. "
   ]
  },
  {
   "cell_type": "markdown",
   "metadata": {},
   "source": [
    "Изучми данные столбца `ceiling_height`:"
   ]
  },
  {
   "cell_type": "code",
   "execution_count": 45,
   "metadata": {},
   "outputs": [
    {
     "data": {
      "text/plain": [
       "count    23565.000000\n",
       "mean         2.707846\n",
       "std          0.992864\n",
       "min          1.000000\n",
       "25%          2.600000\n",
       "50%          2.600000\n",
       "75%          2.700000\n",
       "max        100.000000\n",
       "Name: ceiling_height, dtype: float64"
      ]
     },
     "execution_count": 45,
     "metadata": {},
     "output_type": "execute_result"
    }
   ],
   "source": [
    "df['ceiling_height'].describe()"
   ]
  },
  {
   "cell_type": "code",
   "execution_count": 46,
   "metadata": {},
   "outputs": [
    {
     "data": {
      "image/png": "[encoded data removed]",
      "text/plain": [
       "<Figure size 432x288 with 1 Axes>"
      ]
     },
     "metadata": {
      "needs_background": "light"
     },
     "output_type": "display_data"
    }
   ],
   "source": [
    "plt.hist(df['ceiling_height'], bins=20, range=(2.5,4))\n",
    "plt.xlabel('высота потолков')\n",
    "plt.ylabel('Кол-во квартир')\n",
    "plt.show()"
   ]
  },
  {
   "cell_type": "code",
   "execution_count": 47,
   "metadata": {},
   "outputs": [
    {
     "data": {
      "image/png": "[encoded data removed]",
      "text/plain": [
       "<Figure size 432x288 with 1 Axes>"
      ]
     },
     "metadata": {
      "needs_background": "light"
     },
     "output_type": "display_data"
    }
   ],
   "source": [
    "plt.boxplot(df['ceiling_height'])\n",
    "plt.title('Распределение по высоте потолков')\n",
    "plt.ylim(2.25,3)\n",
    "plt.show()"
   ]
  },
  {
   "cell_type": "markdown",
   "metadata": {},
   "source": [
    "**Промежуточный вывод:**\n",
    "\n",
    "* большая часть значений лежит в диапазоне от 2,6 до 2,7 метров, что соответствует среднестатистическим современным квартирамт;\n",
    "* медианное значение 2,6м;\n",
    "* нижний «ус» диагрыммы размаха значение 2,5 - это минимальное значение. Верхний заканчивается на значение 2,8 — это ориентировочная граница нормального размаха. Всё, что лежит за ней - выбросы. "
   ]
  },
  {
   "cell_type": "markdown",
   "metadata": {},
   "source": [
    "### Изучение времени продажи квартиры."
   ]
  },
  {
   "cell_type": "markdown",
   "metadata": {},
   "source": [
    "Построим гистрорамму и диаграмму размаха:"
   ]
  },
  {
   "cell_type": "code",
   "execution_count": 48,
   "metadata": {},
   "outputs": [
    {
     "data": {
      "image/png": "[encoded data removed]",
      "text/plain": [
       "<Figure size 432x288 with 1 Axes>"
      ]
     },
     "metadata": {
      "needs_background": "light"
     },
     "output_type": "display_data"
    }
   ],
   "source": [
    "plt.hist(df.query('days_exposition != 9999')['days_exposition'], bins=100, range=(0,250))\n",
    "plt.title('Время продажи')\n",
    "plt.xlabel('Дни')\n",
    "plt.ylabel('Количество квартир')\n",
    "plt.show()"
   ]
  },
  {
   "cell_type": "code",
   "execution_count": 49,
   "metadata": {},
   "outputs": [
    {
     "data": {
      "image/png": "[encoded data removed]",
      "text/plain": [
       "<Figure size 432x288 with 1 Axes>"
      ]
     },
     "metadata": {
      "needs_background": "light"
     },
     "output_type": "display_data"
    }
   ],
   "source": [
    "df.boxplot(column = 'days_exposition')\n",
    "plt.ylim(-100, 600)\n",
    "plt.title('Время продажи')\n",
    "plt.show()"
   ]
  },
  {
   "cell_type": "code",
   "execution_count": 50,
   "metadata": {},
   "outputs": [
    {
     "data": {
      "text/plain": [
       "count    23565.000000\n",
       "mean       169.203692\n",
       "std        206.497729\n",
       "min          1.000000\n",
       "25%         45.000000\n",
       "50%         95.000000\n",
       "75%        198.000000\n",
       "max       1580.000000\n",
       "Name: days_exposition, dtype: float64"
      ]
     },
     "execution_count": 50,
     "metadata": {},
     "output_type": "execute_result"
    }
   ],
   "source": [
    "df['days_exposition'].describe()"
   ]
  },
  {
   "cell_type": "code",
   "execution_count": 51,
   "metadata": {},
   "outputs": [
    {
     "name": "stdout",
     "output_type": "stream",
     "text": [
      "Среднее время продажи недвижимости: 169.2036919159771\n",
      "Медианное время продажи недвижимости: 95.0\n"
     ]
    }
   ],
   "source": [
    "days_exposition_mean = df['days_exposition'].mean() # рассчёт среднего значения\n",
    "days_exposition_median = df['days_exposition'].median() # рассчёт медианы\n",
    "print('Среднее время продажи недвижимости:', days_exposition_mean)\n",
    "print('Медианное время продажи недвижимости:', days_exposition_median)"
   ]
  },
  {
   "cell_type": "markdown",
   "metadata": {},
   "source": [
    "**Промежуточный вывод:**\n",
    "\n",
    "* большая часть значений лежит в диапазоне от 45 до 230 дней;\n",
    "* медианное значение 95 дней;\n",
    "* нижний «ус» диагрыммы размаха значение 1 - это минимальное значение. Верхний заканчивается около значения 500 — это ориентировочная граница нормального размаха. Всё, что лежит за ней - выбросы. \n",
    "* имеются всплески продаж на отметках 45 дней, 60 дней. Скорее всего, причина в следующем: по правилам Яндекс.Недвижимости объявления автоматически снимаются с публикции как раз на 45й и 60й день, в зависимости от типа.\n",
    "\n",
    "Если недвижимость продалась менее, чем за 45, то можно считать, что продажи прошли очень быстро (либо цена занижена, либо выгодно отличается от подобных квартир какими-то опциями). Если затянулись более 230 дней, то продажа затянулась (возможно завышена цена, или нехватает дополнтельных парметров описания квартиры, из-за которых объявлнния просто пропускают). Всреднем квартиры продаются за 180 дней."
   ]
  },
  {
   "cell_type": "markdown",
   "metadata": {},
   "source": [
    "### Редкие и выбивающиеся значения."
   ]
  },
  {
   "cell_type": "code",
   "execution_count": 52,
   "metadata": {},
   "outputs": [
    {
     "data": {
      "text/html": [
       "<div>\n",
       "<style scoped>\n",
       "    .dataframe tbody tr th:only-of-type {\n",
       "        vertical-align: middle;\n",
       "    }\n",
       "\n",
       "    .dataframe tbody tr th {\n",
       "        vertical-align: top;\n",
       "    }\n",
       "\n",
       "    .dataframe thead th {\n",
       "        text-align: right;\n",
       "    }\n",
       "</style>\n",
       "<table border=\"1\" class=\"dataframe\">\n",
       "  <thead>\n",
       "    <tr style=\"text-align: right;\">\n",
       "      <th></th>\n",
       "      <th>total_images</th>\n",
       "      <th>last_price</th>\n",
       "      <th>total_area</th>\n",
       "      <th>rooms</th>\n",
       "      <th>ceiling_height</th>\n",
       "      <th>floors_total</th>\n",
       "      <th>living_area</th>\n",
       "      <th>floor</th>\n",
       "      <th>kitchen_area</th>\n",
       "      <th>balcony</th>\n",
       "      <th>airports_nearest</th>\n",
       "      <th>cityCenters_nearest</th>\n",
       "      <th>parks_around3000</th>\n",
       "      <th>parks_nearest</th>\n",
       "      <th>ponds_around3000</th>\n",
       "      <th>ponds_nearest</th>\n",
       "      <th>days_exposition</th>\n",
       "      <th>price_per_square_meter</th>\n",
       "      <th>weekday_exposition</th>\n",
       "      <th>month_exposition</th>\n",
       "      <th>year_exposition</th>\n",
       "      <th>area_ratio</th>\n",
       "      <th>kitchen_ratio</th>\n",
       "    </tr>\n",
       "  </thead>\n",
       "  <tbody>\n",
       "    <tr>\n",
       "      <th>count</th>\n",
       "      <td>23565.000000</td>\n",
       "      <td>2.151900e+04</td>\n",
       "      <td>22326.000000</td>\n",
       "      <td>23565.000000</td>\n",
       "      <td>20601.000000</td>\n",
       "      <td>23565.000000</td>\n",
       "      <td>23565.000000</td>\n",
       "      <td>23565.000000</td>\n",
       "      <td>23565.000000</td>\n",
       "      <td>23565.000000</td>\n",
       "      <td>18041.000000</td>\n",
       "      <td>23565.000000</td>\n",
       "      <td>18065.000000</td>\n",
       "      <td>8030.000000</td>\n",
       "      <td>18065.000000</td>\n",
       "      <td>9036.000000</td>\n",
       "      <td>21228.000000</td>\n",
       "      <td>2.356500e+04</td>\n",
       "      <td>23565.000000</td>\n",
       "      <td>23565.000000</td>\n",
       "      <td>23565.000000</td>\n",
       "      <td>23565.000000</td>\n",
       "      <td>23565.000000</td>\n",
       "    </tr>\n",
       "    <tr>\n",
       "      <th>mean</th>\n",
       "      <td>9.878421</td>\n",
       "      <td>4.837115e+06</td>\n",
       "      <td>54.319690</td>\n",
       "      <td>2.013495</td>\n",
       "      <td>2.611844</td>\n",
       "      <td>10.675875</td>\n",
       "      <td>35.843412</td>\n",
       "      <td>5.878124</td>\n",
       "      <td>14.468326</td>\n",
       "      <td>0.593677</td>\n",
       "      <td>28797.082701</td>\n",
       "      <td>13937.120178</td>\n",
       "      <td>0.611569</td>\n",
       "      <td>490.580448</td>\n",
       "      <td>0.769499</td>\n",
       "      <td>518.289509</td>\n",
       "      <td>112.794564</td>\n",
       "      <td>9.940588e+04</td>\n",
       "      <td>2.567367</td>\n",
       "      <td>6.401570</td>\n",
       "      <td>2017.371016</td>\n",
       "      <td>59.718311</td>\n",
       "      <td>27.764524</td>\n",
       "    </tr>\n",
       "    <tr>\n",
       "      <th>std</th>\n",
       "      <td>5.681156</td>\n",
       "      <td>2.215774e+06</td>\n",
       "      <td>19.331033</td>\n",
       "      <td>0.986750</td>\n",
       "      <td>0.083057</td>\n",
       "      <td>6.594823</td>\n",
       "      <td>21.678729</td>\n",
       "      <td>4.871485</td>\n",
       "      <td>13.348835</td>\n",
       "      <td>0.960660</td>\n",
       "      <td>12632.499735</td>\n",
       "      <td>7555.438412</td>\n",
       "      <td>0.802088</td>\n",
       "      <td>341.572956</td>\n",
       "      <td>0.938669</td>\n",
       "      <td>278.009558</td>\n",
       "      <td>96.371987</td>\n",
       "      <td>5.038964e+04</td>\n",
       "      <td>1.788279</td>\n",
       "      <td>3.492948</td>\n",
       "      <td>1.037393</td>\n",
       "      <td>20.276051</td>\n",
       "      <td>34.674654</td>\n",
       "    </tr>\n",
       "    <tr>\n",
       "      <th>min</th>\n",
       "      <td>0.000000</td>\n",
       "      <td>1.219000e+04</td>\n",
       "      <td>12.000000</td>\n",
       "      <td>0.000000</td>\n",
       "      <td>2.500000</td>\n",
       "      <td>1.000000</td>\n",
       "      <td>2.000000</td>\n",
       "      <td>1.000000</td>\n",
       "      <td>1.300000</td>\n",
       "      <td>0.000000</td>\n",
       "      <td>0.000000</td>\n",
       "      <td>181.000000</td>\n",
       "      <td>0.000000</td>\n",
       "      <td>1.000000</td>\n",
       "      <td>0.000000</td>\n",
       "      <td>13.000000</td>\n",
       "      <td>1.000000</td>\n",
       "      <td>1.118300e+02</td>\n",
       "      <td>0.000000</td>\n",
       "      <td>1.000000</td>\n",
       "      <td>2014.000000</td>\n",
       "      <td>2.000000</td>\n",
       "      <td>2.000000</td>\n",
       "    </tr>\n",
       "    <tr>\n",
       "      <th>25%</th>\n",
       "      <td>6.000000</td>\n",
       "      <td>3.300000e+06</td>\n",
       "      <td>39.400000</td>\n",
       "      <td>1.000000</td>\n",
       "      <td>2.600000</td>\n",
       "      <td>5.000000</td>\n",
       "      <td>19.000000</td>\n",
       "      <td>2.000000</td>\n",
       "      <td>7.300000</td>\n",
       "      <td>0.000000</td>\n",
       "      <td>18565.000000</td>\n",
       "      <td>10935.000000</td>\n",
       "      <td>0.000000</td>\n",
       "      <td>288.000000</td>\n",
       "      <td>0.000000</td>\n",
       "      <td>293.000000</td>\n",
       "      <td>45.000000</td>\n",
       "      <td>7.656667e+04</td>\n",
       "      <td>1.000000</td>\n",
       "      <td>3.000000</td>\n",
       "      <td>2017.000000</td>\n",
       "      <td>50.000000</td>\n",
       "      <td>13.000000</td>\n",
       "    </tr>\n",
       "    <tr>\n",
       "      <th>50%</th>\n",
       "      <td>9.000000</td>\n",
       "      <td>4.400000e+06</td>\n",
       "      <td>50.000000</td>\n",
       "      <td>2.000000</td>\n",
       "      <td>2.600000</td>\n",
       "      <td>9.000000</td>\n",
       "      <td>31.000000</td>\n",
       "      <td>4.000000</td>\n",
       "      <td>10.000000</td>\n",
       "      <td>0.000000</td>\n",
       "      <td>26757.000000</td>\n",
       "      <td>13098.000000</td>\n",
       "      <td>0.000000</td>\n",
       "      <td>455.000000</td>\n",
       "      <td>1.000000</td>\n",
       "      <td>503.000000</td>\n",
       "      <td>95.000000</td>\n",
       "      <td>9.500000e+04</td>\n",
       "      <td>3.000000</td>\n",
       "      <td>6.000000</td>\n",
       "      <td>2017.000000</td>\n",
       "      <td>57.000000</td>\n",
       "      <td>18.000000</td>\n",
       "    </tr>\n",
       "    <tr>\n",
       "      <th>75%</th>\n",
       "      <td>14.000000</td>\n",
       "      <td>6.000000e+06</td>\n",
       "      <td>65.500000</td>\n",
       "      <td>3.000000</td>\n",
       "      <td>2.600000</td>\n",
       "      <td>16.000000</td>\n",
       "      <td>46.000000</td>\n",
       "      <td>8.000000</td>\n",
       "      <td>13.500000</td>\n",
       "      <td>1.000000</td>\n",
       "      <td>37273.000000</td>\n",
       "      <td>15237.000000</td>\n",
       "      <td>1.000000</td>\n",
       "      <td>612.000000</td>\n",
       "      <td>1.000000</td>\n",
       "      <td>730.000000</td>\n",
       "      <td>146.000000</td>\n",
       "      <td>1.142287e+05</td>\n",
       "      <td>4.000000</td>\n",
       "      <td>10.000000</td>\n",
       "      <td>2018.000000</td>\n",
       "      <td>65.000000</td>\n",
       "      <td>25.000000</td>\n",
       "    </tr>\n",
       "    <tr>\n",
       "      <th>max</th>\n",
       "      <td>50.000000</td>\n",
       "      <td>1.186686e+07</td>\n",
       "      <td>114.200000</td>\n",
       "      <td>5.000000</td>\n",
       "      <td>2.800000</td>\n",
       "      <td>60.000000</td>\n",
       "      <td>409.700000</td>\n",
       "      <td>33.000000</td>\n",
       "      <td>112.000000</td>\n",
       "      <td>5.000000</td>\n",
       "      <td>84869.000000</td>\n",
       "      <td>65968.000000</td>\n",
       "      <td>3.000000</td>\n",
       "      <td>3190.000000</td>\n",
       "      <td>3.000000</td>\n",
       "      <td>1344.000000</td>\n",
       "      <td>427.000000</td>\n",
       "      <td>1.907500e+06</td>\n",
       "      <td>6.000000</td>\n",
       "      <td>12.000000</td>\n",
       "      <td>2019.000000</td>\n",
       "      <td>400.000000</td>\n",
       "      <td>433.000000</td>\n",
       "    </tr>\n",
       "  </tbody>\n",
       "</table>\n",
       "</div>"
      ],
      "text/plain": [
       "       total_images    last_price    total_area         rooms  ceiling_height  \\\n",
       "count  23565.000000  2.151900e+04  22326.000000  23565.000000    20601.000000   \n",
       "mean       9.878421  4.837115e+06     54.319690      2.013495        2.611844   \n",
       "std        5.681156  2.215774e+06     19.331033      0.986750        0.083057   \n",
       "min        0.000000  1.219000e+04     12.000000      0.000000        2.500000   \n",
       "25%        6.000000  3.300000e+06     39.400000      1.000000        2.600000   \n",
       "50%        9.000000  4.400000e+06     50.000000      2.000000        2.600000   \n",
       "75%       14.000000  6.000000e+06     65.500000      3.000000        2.600000   \n",
       "max       50.000000  1.186686e+07    114.200000      5.000000        2.800000   \n",
       "\n",
       "       floors_total   living_area         floor  kitchen_area       balcony  \\\n",
       "count  23565.000000  23565.000000  23565.000000  23565.000000  23565.000000   \n",
       "mean      10.675875     35.843412      5.878124     14.468326      0.593677   \n",
       "std        6.594823     21.678729      4.871485     13.348835      0.960660   \n",
       "min        1.000000      2.000000      1.000000      1.300000      0.000000   \n",
       "25%        5.000000     19.000000      2.000000      7.300000      0.000000   \n",
       "50%        9.000000     31.000000      4.000000     10.000000      0.000000   \n",
       "75%       16.000000     46.000000      8.000000     13.500000      1.000000   \n",
       "max       60.000000    409.700000     33.000000    112.000000      5.000000   \n",
       "\n",
       "       airports_nearest  cityCenters_nearest  parks_around3000  parks_nearest  \\\n",
       "count      18041.000000         23565.000000      18065.000000    8030.000000   \n",
       "mean       28797.082701         13937.120178          0.611569     490.580448   \n",
       "std        12632.499735          7555.438412          0.802088     341.572956   \n",
       "min            0.000000           181.000000          0.000000       1.000000   \n",
       "25%        18565.000000         10935.000000          0.000000     288.000000   \n",
       "50%        26757.000000         13098.000000          0.000000     455.000000   \n",
       "75%        37273.000000         15237.000000          1.000000     612.000000   \n",
       "max        84869.000000         65968.000000          3.000000    3190.000000   \n",
       "\n",
       "       ponds_around3000  ponds_nearest  days_exposition  \\\n",
       "count      18065.000000    9036.000000     21228.000000   \n",
       "mean           0.769499     518.289509       112.794564   \n",
       "std            0.938669     278.009558        96.371987   \n",
       "min            0.000000      13.000000         1.000000   \n",
       "25%            0.000000     293.000000        45.000000   \n",
       "50%            1.000000     503.000000        95.000000   \n",
       "75%            1.000000     730.000000       146.000000   \n",
       "max            3.000000    1344.000000       427.000000   \n",
       "\n",
       "       price_per_square_meter  weekday_exposition  month_exposition  \\\n",
       "count            2.356500e+04        23565.000000      23565.000000   \n",
       "mean             9.940588e+04            2.567367          6.401570   \n",
       "std              5.038964e+04            1.788279          3.492948   \n",
       "min              1.118300e+02            0.000000          1.000000   \n",
       "25%              7.656667e+04            1.000000          3.000000   \n",
       "50%              9.500000e+04            3.000000          6.000000   \n",
       "75%              1.142287e+05            4.000000         10.000000   \n",
       "max              1.907500e+06            6.000000         12.000000   \n",
       "\n",
       "       year_exposition    area_ratio  kitchen_ratio  \n",
       "count     23565.000000  23565.000000   23565.000000  \n",
       "mean       2017.371016     59.718311      27.764524  \n",
       "std           1.037393     20.276051      34.674654  \n",
       "min        2014.000000      2.000000       2.000000  \n",
       "25%        2017.000000     50.000000      13.000000  \n",
       "50%        2017.000000     57.000000      18.000000  \n",
       "75%        2018.000000     65.000000      25.000000  \n",
       "max        2019.000000    400.000000     433.000000  "
      ]
     },
     "execution_count": 52,
     "metadata": {},
     "output_type": "execute_result"
    }
   ],
   "source": [
    "# Функция для подсчёта границ с учетом 1.5 размаха\n",
    "def quartile_range(df, column):\n",
    "    q1 = df[column].quantile(0.25)\n",
    "    q3 = df[column].quantile(0.75)\n",
    "    iqr = q3 - q1\n",
    "    dfq = df.loc[(df[column] < q3 + 1.5*iqr) & (df[column] > q1 - 1.5*iqr), column]\n",
    "    return dfq\n",
    "# Столбцы с выбросами\n",
    "list_features = ['last_price', 'total_area', 'days_exposition', 'ceiling_height', 'rooms']\n",
    "for col in list_features:\n",
    "    df[col] = quartile_range(df, col)\n",
    "\n",
    "# Возвращаем в целочисленный тип число комнат\n",
    "df['rooms'] = df['rooms'].fillna(0).astype(int)\n",
    "\n",
    "# Изучаем, есть ли выбивающиеся значения\n",
    "df.describe()"
   ]
  },
  {
   "cell_type": "markdown",
   "metadata": {},
   "source": [
    "Редко встречающиеся параметры недвижимости:\n",
    "* Площадью более 105м²;\n",
    "* 6 комнат и более;\n",
    "* Цена более 10 млн рублей;\n",
    "* продавались более 410 дней."
   ]
  },
  {
   "cell_type": "markdown",
   "metadata": {},
   "source": [
    "Если сравнить данные, полученные методом `describe` до и после обработки выбивающихся значений, то вырисовывается следующая картина:\n",
    "* медиана и среднее значения стали ближе друг к другу;\n",
    "* стандартное отклонение уменьшилось;\n",
    "* занчения `min` и `max` стали ближе к 50%.\n",
    "При этом `count` уменьшилось не значительно. Из этого следует, что датесет не изменился принципиально, что позволяет сделать вывод о том, что данные стали чище и более правильно отображают реальную картину."
   ]
  },
  {
   "cell_type": "markdown",
   "metadata": {},
   "source": [
    "### Исследование факторов, влияющих на стоимость квартиры."
   ]
  },
  {
   "cell_type": "code",
   "execution_count": 53,
   "metadata": {},
   "outputs": [
    {
     "data": {
      "image/png": "[encoded data removed]",
      "text/plain": [
       "<Figure size 360x360 with 1 Axes>"
      ]
     },
     "metadata": {
      "needs_background": "light"
     },
     "output_type": "display_data"
    }
   ],
   "source": [
    "# Зависимость цены от площади\n",
    "(\n",
    "   df.pivot_table(index='total_area', values='last_price')\n",
    "    .plot(grid=True, style='o', figsize=(5, 5))\n",
    ")\n",
    "plt.show()"
   ]
  },
  {
   "cell_type": "code",
   "execution_count": 54,
   "metadata": {},
   "outputs": [
    {
     "data": {
      "image/png": "[encoded data removed]",
      "text/plain": [
       "<Figure size 360x360 with 1 Axes>"
      ]
     },
     "metadata": {
      "needs_background": "light"
     },
     "output_type": "display_data"
    }
   ],
   "source": [
    "# Зависимость цены от числа комнат\n",
    "(\n",
    "    df.pivot_table(index='rooms', values='last_price')\n",
    "    .plot(grid=True, style='o-', figsize=(5, 5))\n",
    ")\n",
    "plt.show()"
   ]
  },
  {
   "cell_type": "code",
   "execution_count": 55,
   "metadata": {},
   "outputs": [
    {
     "data": {
      "image/png": "[encoded data removed]",
      "text/plain": [
       "<Figure size 360x360 with 1 Axes>"
      ]
     },
     "metadata": {
      "needs_background": "light"
     },
     "output_type": "display_data"
    }
   ],
   "source": [
    "# Зависимость цены от удалённости от центра\n",
    "(\n",
    "    df.pivot_table(index='cityCenters_nearest', values='last_price')\n",
    "    .plot(grid=True, style='o', figsize=(5, 5))\n",
    ")\n",
    "plt.show()"
   ]
  },
  {
   "cell_type": "code",
   "execution_count": 56,
   "metadata": {},
   "outputs": [
    {
     "name": "stdout",
     "output_type": "stream",
     "text": [
      "Корреляция цены и площади: \n",
      "\n",
      "            last_price  total_area\n",
      "last_price    1.000000    0.905373\n",
      "total_area    0.905373    1.000000 \n",
      "\n",
      "Корреляция цены и кол-ва комнат: \n",
      "\n",
      "            last_price     rooms\n",
      "last_price    1.000000  0.537551\n",
      "rooms         0.537551  1.000000 \n",
      "\n",
      "Корреляция цены и удалённости от центра: \n",
      "\n",
      "                     cityCenters_nearest  last_price\n",
      "cityCenters_nearest             1.000000    0.784301\n",
      "last_price                      0.784301    1.000000 \n",
      "\n"
     ]
    }
   ],
   "source": [
    "print('Корреляция цены и площади:','\\n')\n",
    "print(df.pivot_table(index='floor', values=['total_area', 'last_price']).corr(),'\\n')\n",
    "print('Корреляция цены и кол-ва комнат:','\\n')\n",
    "print(df.query('rooms > 0').pivot_table(index='floor', values=['rooms', 'last_price']).corr(),'\\n')\n",
    "print('Корреляция цены и удалённости от центра:','\\n')\n",
    "print(df.pivot_table(index='floor', values=['cityCenters_nearest', 'last_price']).corr(),'\\n')"
   ]
  },
  {
   "cell_type": "markdown",
   "metadata": {},
   "source": [
    "Исследуем зависимость цены от этажа:"
   ]
  },
  {
   "cell_type": "code",
   "execution_count": 57,
   "metadata": {},
   "outputs": [
    {
     "data": {
      "image/png": "[encoded data removed]",
      "text/plain": [
       "<Figure size 360x360 with 1 Axes>"
      ]
     },
     "metadata": {
      "needs_background": "light"
     },
     "output_type": "display_data"
    }
   ],
   "source": [
    "# Зависимость цены от этажа\n",
    "(\n",
    "    df.pivot_table(index='floor_type', values='last_price', aggfunc='median')\n",
    "    .plot(grid=True, style='o-', figsize=(5, 5))\n",
    ")\n",
    "plt.show()"
   ]
  },
  {
   "cell_type": "markdown",
   "metadata": {},
   "source": [
    "Исследуем зависимость цены от даты размещения:"
   ]
  },
  {
   "cell_type": "code",
   "execution_count": 58,
   "metadata": {},
   "outputs": [
    {
     "data": {
      "image/png": "[encoded data removed]",
      "text/plain": [
       "<Figure size 360x360 with 1 Axes>"
      ]
     },
     "metadata": {
      "needs_background": "light"
     },
     "output_type": "display_data"
    },
    {
     "data": {
      "image/png": "[encoded data removed]",
      "text/plain": [
       "<Figure size 720x360 with 1 Axes>"
      ]
     },
     "metadata": {
      "needs_background": "light"
     },
     "output_type": "display_data"
    },
    {
     "data": {
      "image/png": "[encoded data removed]",
      "text/plain": [
       "<Figure size 360x360 with 1 Axes>"
      ]
     },
     "metadata": {
      "needs_background": "light"
     },
     "output_type": "display_data"
    }
   ],
   "source": [
    "# Зависимость от дня размещения\n",
    "(\n",
    "    df.pivot_table(index='weekday_exposition', values='last_price')\n",
    "    .plot(grid=True, style='o-', figsize=(5, 5))\n",
    ")\n",
    "plt.show()\n",
    "# Зависимость от месяца размещения\n",
    "(\n",
    "    df.pivot_table(index='month_exposition', values='last_price')\n",
    "    .plot(grid=True, style='o-', xlim=(1,12), figsize=(10, 5))\n",
    ")\n",
    "plt.show()\n",
    "# Зависимость от года размещения\n",
    "(\n",
    "    df.pivot_table(index='year_exposition', values='last_price')\n",
    "    .plot(grid=True, style='o-', figsize=(5, 5))\n",
    ")\n",
    "plt.show()"
   ]
  },
  {
   "cell_type": "markdown",
   "metadata": {},
   "source": [
    "**Исходя из данных корреляции видно:**\n",
    "* всех больше цена зависит от плащади недвижимости;\n",
    "* чуть меньше зависимость от удалённости от центра;\n",
    "* самая малая зависимость от количества комнат;\n",
    "* менее всего ценится недвижимость, расположенная на превом этаже. Чуть дороже оценивается на последнем этаже. Самая дорогая недвижимость относится к \"другим\" этажам;\n",
    "* зависимость цены от даты публикации не прослеживается. Дороже всего квартиры, опубликованные во вторник, дешевле всего - в субботу. По месяцам: дороже всего квартиры, продающиеся в апреле и сентябре, дешевле всего - в июне. По годам: видно, что в 2015-2017 годах недвижимость сильно дешевела. Возможно это связано с кризисом 2014 года, когда рубль сильно подешевел. С 2018 года наметился рост стоимости недвижимости."
   ]
  },
  {
   "cell_type": "markdown",
   "metadata": {},
   "source": [
    "**Топ-10 городов: сравнение средней стоимости квадратного метра.**"
   ]
  },
  {
   "cell_type": "code",
   "execution_count": 59,
   "metadata": {},
   "outputs": [
    {
     "data": {
      "text/plain": [
       "locality_name\n",
       "санкт-петербург      15651\n",
       "посёлок мурино         520\n",
       "посёлок шушары         439\n",
       "всеволожск             398\n",
       "пушкин                 369\n",
       "колпино                338\n",
       "посёлок парголово      327\n",
       "гатчина                307\n",
       "деревня кудрово        299\n",
       "выборг                 237\n",
       "Name: locality_name, dtype: int64"
      ]
     },
     "execution_count": 59,
     "metadata": {},
     "output_type": "execute_result"
    }
   ],
   "source": [
    "df_grouped = df.groupby('locality_name')['locality_name'].count().sort_values(ascending=False)\n",
    "df_grouped.head(10)"
   ]
  },
  {
   "cell_type": "code",
   "execution_count": 60,
   "metadata": {},
   "outputs": [
    {
     "data": {
      "text/html": [
       "<div>\n",
       "<style scoped>\n",
       "    .dataframe tbody tr th:only-of-type {\n",
       "        vertical-align: middle;\n",
       "    }\n",
       "\n",
       "    .dataframe tbody tr th {\n",
       "        vertical-align: top;\n",
       "    }\n",
       "\n",
       "    .dataframe thead th {\n",
       "        text-align: right;\n",
       "    }\n",
       "</style>\n",
       "<table border=\"1\" class=\"dataframe\">\n",
       "  <thead>\n",
       "    <tr style=\"text-align: right;\">\n",
       "      <th></th>\n",
       "      <th>кол-во объявлений</th>\n",
       "      <th>средняя цена за м²</th>\n",
       "    </tr>\n",
       "    <tr>\n",
       "      <th>locality_name</th>\n",
       "      <th></th>\n",
       "      <th></th>\n",
       "    </tr>\n",
       "  </thead>\n",
       "  <tbody>\n",
       "    <tr>\n",
       "      <th>санкт-петербург</th>\n",
       "      <td>15651</td>\n",
       "      <td>114868.904841</td>\n",
       "    </tr>\n",
       "    <tr>\n",
       "      <th>посёлок мурино</th>\n",
       "      <td>520</td>\n",
       "      <td>85673.551115</td>\n",
       "    </tr>\n",
       "    <tr>\n",
       "      <th>посёлок шушары</th>\n",
       "      <td>439</td>\n",
       "      <td>78551.973189</td>\n",
       "    </tr>\n",
       "    <tr>\n",
       "      <th>всеволожск</th>\n",
       "      <td>398</td>\n",
       "      <td>68655.360503</td>\n",
       "    </tr>\n",
       "    <tr>\n",
       "      <th>пушкин</th>\n",
       "      <td>369</td>\n",
       "      <td>103125.820244</td>\n",
       "    </tr>\n",
       "    <tr>\n",
       "      <th>колпино</th>\n",
       "      <td>338</td>\n",
       "      <td>75424.334704</td>\n",
       "    </tr>\n",
       "    <tr>\n",
       "      <th>посёлок парголово</th>\n",
       "      <td>327</td>\n",
       "      <td>90177.239174</td>\n",
       "    </tr>\n",
       "    <tr>\n",
       "      <th>гатчина</th>\n",
       "      <td>307</td>\n",
       "      <td>68746.094560</td>\n",
       "    </tr>\n",
       "    <tr>\n",
       "      <th>деревня кудрово</th>\n",
       "      <td>299</td>\n",
       "      <td>92471.979097</td>\n",
       "    </tr>\n",
       "    <tr>\n",
       "      <th>выборг</th>\n",
       "      <td>237</td>\n",
       "      <td>58141.767722</td>\n",
       "    </tr>\n",
       "  </tbody>\n",
       "</table>\n",
       "</div>"
      ],
      "text/plain": [
       "                   кол-во объявлений  средняя цена за м²\n",
       "locality_name                                           \n",
       "санкт-петербург                15651       114868.904841\n",
       "посёлок мурино                   520        85673.551115\n",
       "посёлок шушары                   439        78551.973189\n",
       "всеволожск                       398        68655.360503\n",
       "пушкин                           369       103125.820244\n",
       "колпино                          338        75424.334704\n",
       "посёлок парголово                327        90177.239174\n",
       "гатчина                          307        68746.094560\n",
       "деревня кудрово                  299        92471.979097\n",
       "выборг                           237        58141.767722"
      ]
     },
     "execution_count": 60,
     "metadata": {},
     "output_type": "execute_result"
    }
   ],
   "source": [
    "top_10_locality_name = df.pivot_table(index='locality_name', values='price_per_square_meter', aggfunc=['count', 'mean'])\n",
    "top_10_locality_name.columns = ['кол-во объявлений', 'средняя цена за м²']\n",
    "top_10_locality_name.sort_values('кол-во объявлений', ascending=False).head(10)"
   ]
  },
  {
   "cell_type": "markdown",
   "metadata": {},
   "source": [
    "Всех больше объявлений и самый дорогой метр в Санкт-Петербурге. Оно и понятно, город  федерального значения с население более 5 млн. человек. За ним расположились посёлки Мурино и Шушары. Всех меньше объявлений по городу Выборг и деревни Кудрово. Разница в количетве объявлений между Выборгом и Санкт-Петербургом, боллее чем в 66 раз. \n",
    "По средней стоимости самый низкий показатель в Выборге, Всеволжске и Гатчене. Лидируют по средней стоимости Санкт-Петербург, Пушкин и посёлок Парголово."
   ]
  },
  {
   "cell_type": "markdown",
   "metadata": {},
   "source": [
    "**Изучение предложения квартир:**\n",
    "* выделиь квартиры в Санкт-Петербурге (locality_name);\n",
    "* выяснить, какая область входит в центр,  определить границу, где график сильно меняется, — это и будет центральная зона.;\n",
    "* создать столбец с расстоянием до центра в километрах: округлите до целых значений;\n",
    "* посчитать среднюю цену для каждого километра;\n",
    "* построить график: как цена зависит от удалённости от центра."
   ]
  },
  {
   "cell_type": "code",
   "execution_count": 61,
   "metadata": {},
   "outputs": [
    {
     "data": {
      "text/html": [
       "<div>\n",
       "<style scoped>\n",
       "    .dataframe tbody tr th:only-of-type {\n",
       "        vertical-align: middle;\n",
       "    }\n",
       "\n",
       "    .dataframe tbody tr th {\n",
       "        vertical-align: top;\n",
       "    }\n",
       "\n",
       "    .dataframe thead th {\n",
       "        text-align: right;\n",
       "    }\n",
       "</style>\n",
       "<table border=\"1\" class=\"dataframe\">\n",
       "  <thead>\n",
       "    <tr style=\"text-align: right;\">\n",
       "      <th></th>\n",
       "      <th>total_images</th>\n",
       "      <th>last_price</th>\n",
       "      <th>total_area</th>\n",
       "      <th>first_day_exposition</th>\n",
       "      <th>rooms</th>\n",
       "      <th>ceiling_height</th>\n",
       "      <th>floors_total</th>\n",
       "      <th>living_area</th>\n",
       "      <th>floor</th>\n",
       "      <th>is_apartment</th>\n",
       "      <th>studio</th>\n",
       "      <th>open_plan</th>\n",
       "      <th>kitchen_area</th>\n",
       "      <th>balcony</th>\n",
       "      <th>locality_name</th>\n",
       "      <th>airports_nearest</th>\n",
       "      <th>cityCenters_nearest</th>\n",
       "      <th>parks_around3000</th>\n",
       "      <th>parks_nearest</th>\n",
       "      <th>ponds_around3000</th>\n",
       "      <th>ponds_nearest</th>\n",
       "      <th>days_exposition</th>\n",
       "      <th>price_per_square_meter</th>\n",
       "      <th>weekday_exposition</th>\n",
       "      <th>month_exposition</th>\n",
       "      <th>year_exposition</th>\n",
       "      <th>floor_type</th>\n",
       "      <th>area_ratio</th>\n",
       "      <th>kitchen_ratio</th>\n",
       "      <th>cityCenters_nearest_kms</th>\n",
       "    </tr>\n",
       "  </thead>\n",
       "  <tbody>\n",
       "    <tr>\n",
       "      <th>0</th>\n",
       "      <td>20</td>\n",
       "      <td>NaN</td>\n",
       "      <td>108.0</td>\n",
       "      <td>2019-03-07</td>\n",
       "      <td>3</td>\n",
       "      <td>2.7</td>\n",
       "      <td>16</td>\n",
       "      <td>51.0</td>\n",
       "      <td>8</td>\n",
       "      <td>False</td>\n",
       "      <td>False</td>\n",
       "      <td>False</td>\n",
       "      <td>25.0</td>\n",
       "      <td>0</td>\n",
       "      <td>санкт-петербург</td>\n",
       "      <td>18863.0</td>\n",
       "      <td>16028</td>\n",
       "      <td>1.0</td>\n",
       "      <td>482.0</td>\n",
       "      <td>2.0</td>\n",
       "      <td>755.0</td>\n",
       "      <td>95.0</td>\n",
       "      <td>120370.37</td>\n",
       "      <td>3</td>\n",
       "      <td>3</td>\n",
       "      <td>2019</td>\n",
       "      <td>другой</td>\n",
       "      <td>47</td>\n",
       "      <td>23</td>\n",
       "      <td>16</td>\n",
       "    </tr>\n",
       "    <tr>\n",
       "      <th>2</th>\n",
       "      <td>10</td>\n",
       "      <td>5196000.0</td>\n",
       "      <td>56.0</td>\n",
       "      <td>2015-08-20</td>\n",
       "      <td>2</td>\n",
       "      <td>2.6</td>\n",
       "      <td>5</td>\n",
       "      <td>34.3</td>\n",
       "      <td>4</td>\n",
       "      <td>False</td>\n",
       "      <td>False</td>\n",
       "      <td>False</td>\n",
       "      <td>8.3</td>\n",
       "      <td>0</td>\n",
       "      <td>санкт-петербург</td>\n",
       "      <td>21741.0</td>\n",
       "      <td>13933</td>\n",
       "      <td>1.0</td>\n",
       "      <td>90.0</td>\n",
       "      <td>2.0</td>\n",
       "      <td>574.0</td>\n",
       "      <td>NaN</td>\n",
       "      <td>92785.71</td>\n",
       "      <td>3</td>\n",
       "      <td>8</td>\n",
       "      <td>2015</td>\n",
       "      <td>другой</td>\n",
       "      <td>61</td>\n",
       "      <td>14</td>\n",
       "      <td>14</td>\n",
       "    </tr>\n",
       "    <tr>\n",
       "      <th>3</th>\n",
       "      <td>0</td>\n",
       "      <td>NaN</td>\n",
       "      <td>NaN</td>\n",
       "      <td>2015-07-24</td>\n",
       "      <td>3</td>\n",
       "      <td>2.6</td>\n",
       "      <td>14</td>\n",
       "      <td>52.0</td>\n",
       "      <td>9</td>\n",
       "      <td>False</td>\n",
       "      <td>False</td>\n",
       "      <td>False</td>\n",
       "      <td>52.0</td>\n",
       "      <td>0</td>\n",
       "      <td>санкт-петербург</td>\n",
       "      <td>28098.0</td>\n",
       "      <td>6800</td>\n",
       "      <td>2.0</td>\n",
       "      <td>84.0</td>\n",
       "      <td>3.0</td>\n",
       "      <td>234.0</td>\n",
       "      <td>424.0</td>\n",
       "      <td>408176.10</td>\n",
       "      <td>4</td>\n",
       "      <td>7</td>\n",
       "      <td>2015</td>\n",
       "      <td>другой</td>\n",
       "      <td>32</td>\n",
       "      <td>32</td>\n",
       "      <td>7</td>\n",
       "    </tr>\n",
       "    <tr>\n",
       "      <th>4</th>\n",
       "      <td>2</td>\n",
       "      <td>10000000.0</td>\n",
       "      <td>100.0</td>\n",
       "      <td>2018-06-19</td>\n",
       "      <td>2</td>\n",
       "      <td>NaN</td>\n",
       "      <td>14</td>\n",
       "      <td>32.0</td>\n",
       "      <td>13</td>\n",
       "      <td>False</td>\n",
       "      <td>False</td>\n",
       "      <td>False</td>\n",
       "      <td>41.0</td>\n",
       "      <td>0</td>\n",
       "      <td>санкт-петербург</td>\n",
       "      <td>31856.0</td>\n",
       "      <td>8098</td>\n",
       "      <td>2.0</td>\n",
       "      <td>112.0</td>\n",
       "      <td>1.0</td>\n",
       "      <td>48.0</td>\n",
       "      <td>121.0</td>\n",
       "      <td>100000.00</td>\n",
       "      <td>1</td>\n",
       "      <td>6</td>\n",
       "      <td>2018</td>\n",
       "      <td>другой</td>\n",
       "      <td>32</td>\n",
       "      <td>41</td>\n",
       "      <td>8</td>\n",
       "    </tr>\n",
       "    <tr>\n",
       "      <th>7</th>\n",
       "      <td>5</td>\n",
       "      <td>7915000.0</td>\n",
       "      <td>71.6</td>\n",
       "      <td>2019-04-18</td>\n",
       "      <td>2</td>\n",
       "      <td>2.6</td>\n",
       "      <td>24</td>\n",
       "      <td>52.0</td>\n",
       "      <td>22</td>\n",
       "      <td>False</td>\n",
       "      <td>False</td>\n",
       "      <td>False</td>\n",
       "      <td>18.9</td>\n",
       "      <td>2</td>\n",
       "      <td>санкт-петербург</td>\n",
       "      <td>23982.0</td>\n",
       "      <td>11634</td>\n",
       "      <td>0.0</td>\n",
       "      <td>NaN</td>\n",
       "      <td>0.0</td>\n",
       "      <td>NaN</td>\n",
       "      <td>95.0</td>\n",
       "      <td>110544.69</td>\n",
       "      <td>3</td>\n",
       "      <td>4</td>\n",
       "      <td>2019</td>\n",
       "      <td>другой</td>\n",
       "      <td>72</td>\n",
       "      <td>26</td>\n",
       "      <td>12</td>\n",
       "    </tr>\n",
       "    <tr>\n",
       "      <th>9</th>\n",
       "      <td>18</td>\n",
       "      <td>5400000.0</td>\n",
       "      <td>61.0</td>\n",
       "      <td>2017-02-26</td>\n",
       "      <td>3</td>\n",
       "      <td>2.5</td>\n",
       "      <td>9</td>\n",
       "      <td>43.6</td>\n",
       "      <td>7</td>\n",
       "      <td>False</td>\n",
       "      <td>False</td>\n",
       "      <td>False</td>\n",
       "      <td>6.5</td>\n",
       "      <td>2</td>\n",
       "      <td>санкт-петербург</td>\n",
       "      <td>50898.0</td>\n",
       "      <td>15008</td>\n",
       "      <td>0.0</td>\n",
       "      <td>NaN</td>\n",
       "      <td>0.0</td>\n",
       "      <td>NaN</td>\n",
       "      <td>289.0</td>\n",
       "      <td>88524.59</td>\n",
       "      <td>6</td>\n",
       "      <td>2</td>\n",
       "      <td>2017</td>\n",
       "      <td>другой</td>\n",
       "      <td>71</td>\n",
       "      <td>10</td>\n",
       "      <td>15</td>\n",
       "    </tr>\n",
       "    <tr>\n",
       "      <th>10</th>\n",
       "      <td>5</td>\n",
       "      <td>5050000.0</td>\n",
       "      <td>39.6</td>\n",
       "      <td>2017-11-16</td>\n",
       "      <td>1</td>\n",
       "      <td>2.7</td>\n",
       "      <td>12</td>\n",
       "      <td>20.3</td>\n",
       "      <td>3</td>\n",
       "      <td>False</td>\n",
       "      <td>False</td>\n",
       "      <td>False</td>\n",
       "      <td>8.5</td>\n",
       "      <td>0</td>\n",
       "      <td>санкт-петербург</td>\n",
       "      <td>38357.0</td>\n",
       "      <td>13878</td>\n",
       "      <td>1.0</td>\n",
       "      <td>310.0</td>\n",
       "      <td>2.0</td>\n",
       "      <td>553.0</td>\n",
       "      <td>137.0</td>\n",
       "      <td>127525.25</td>\n",
       "      <td>3</td>\n",
       "      <td>11</td>\n",
       "      <td>2017</td>\n",
       "      <td>другой</td>\n",
       "      <td>51</td>\n",
       "      <td>21</td>\n",
       "      <td>14</td>\n",
       "    </tr>\n",
       "    <tr>\n",
       "      <th>15</th>\n",
       "      <td>16</td>\n",
       "      <td>4650000.0</td>\n",
       "      <td>39.0</td>\n",
       "      <td>2017-11-18</td>\n",
       "      <td>1</td>\n",
       "      <td>2.6</td>\n",
       "      <td>14</td>\n",
       "      <td>20.5</td>\n",
       "      <td>5</td>\n",
       "      <td>False</td>\n",
       "      <td>False</td>\n",
       "      <td>False</td>\n",
       "      <td>7.6</td>\n",
       "      <td>1</td>\n",
       "      <td>санкт-петербург</td>\n",
       "      <td>12900.0</td>\n",
       "      <td>14259</td>\n",
       "      <td>1.0</td>\n",
       "      <td>590.0</td>\n",
       "      <td>1.0</td>\n",
       "      <td>296.0</td>\n",
       "      <td>19.0</td>\n",
       "      <td>119230.77</td>\n",
       "      <td>5</td>\n",
       "      <td>11</td>\n",
       "      <td>2017</td>\n",
       "      <td>другой</td>\n",
       "      <td>52</td>\n",
       "      <td>19</td>\n",
       "      <td>14</td>\n",
       "    </tr>\n",
       "    <tr>\n",
       "      <th>16</th>\n",
       "      <td>11</td>\n",
       "      <td>6700000.0</td>\n",
       "      <td>82.0</td>\n",
       "      <td>2017-11-23</td>\n",
       "      <td>3</td>\n",
       "      <td>NaN</td>\n",
       "      <td>5</td>\n",
       "      <td>55.6</td>\n",
       "      <td>1</td>\n",
       "      <td>False</td>\n",
       "      <td>False</td>\n",
       "      <td>False</td>\n",
       "      <td>9.0</td>\n",
       "      <td>0</td>\n",
       "      <td>санкт-петербург</td>\n",
       "      <td>22108.0</td>\n",
       "      <td>10698</td>\n",
       "      <td>3.0</td>\n",
       "      <td>420.0</td>\n",
       "      <td>0.0</td>\n",
       "      <td>NaN</td>\n",
       "      <td>397.0</td>\n",
       "      <td>81707.32</td>\n",
       "      <td>3</td>\n",
       "      <td>11</td>\n",
       "      <td>2017</td>\n",
       "      <td>первый</td>\n",
       "      <td>67</td>\n",
       "      <td>10</td>\n",
       "      <td>11</td>\n",
       "    </tr>\n",
       "    <tr>\n",
       "      <th>17</th>\n",
       "      <td>6</td>\n",
       "      <td>4180000.0</td>\n",
       "      <td>36.0</td>\n",
       "      <td>2016-09-09</td>\n",
       "      <td>1</td>\n",
       "      <td>2.6</td>\n",
       "      <td>17</td>\n",
       "      <td>16.5</td>\n",
       "      <td>7</td>\n",
       "      <td>False</td>\n",
       "      <td>False</td>\n",
       "      <td>False</td>\n",
       "      <td>11.0</td>\n",
       "      <td>1</td>\n",
       "      <td>санкт-петербург</td>\n",
       "      <td>33564.0</td>\n",
       "      <td>14616</td>\n",
       "      <td>0.0</td>\n",
       "      <td>NaN</td>\n",
       "      <td>1.0</td>\n",
       "      <td>859.0</td>\n",
       "      <td>NaN</td>\n",
       "      <td>116111.11</td>\n",
       "      <td>4</td>\n",
       "      <td>9</td>\n",
       "      <td>2016</td>\n",
       "      <td>другой</td>\n",
       "      <td>45</td>\n",
       "      <td>30</td>\n",
       "      <td>15</td>\n",
       "    </tr>\n",
       "  </tbody>\n",
       "</table>\n",
       "</div>"
      ],
      "text/plain": [
       "    total_images  last_price  total_area first_day_exposition  rooms  \\\n",
       "0             20         NaN       108.0           2019-03-07      3   \n",
       "2             10   5196000.0        56.0           2015-08-20      2   \n",
       "3              0         NaN         NaN           2015-07-24      3   \n",
       "4              2  10000000.0       100.0           2018-06-19      2   \n",
       "7              5   7915000.0        71.6           2019-04-18      2   \n",
       "9             18   5400000.0        61.0           2017-02-26      3   \n",
       "10             5   5050000.0        39.6           2017-11-16      1   \n",
       "15            16   4650000.0        39.0           2017-11-18      1   \n",
       "16            11   6700000.0        82.0           2017-11-23      3   \n",
       "17             6   4180000.0        36.0           2016-09-09      1   \n",
       "\n",
       "    ceiling_height  floors_total  living_area  floor  is_apartment  studio  \\\n",
       "0              2.7            16         51.0      8         False   False   \n",
       "2              2.6             5         34.3      4         False   False   \n",
       "3              2.6            14         52.0      9         False   False   \n",
       "4              NaN            14         32.0     13         False   False   \n",
       "7              2.6            24         52.0     22         False   False   \n",
       "9              2.5             9         43.6      7         False   False   \n",
       "10             2.7            12         20.3      3         False   False   \n",
       "15             2.6            14         20.5      5         False   False   \n",
       "16             NaN             5         55.6      1         False   False   \n",
       "17             2.6            17         16.5      7         False   False   \n",
       "\n",
       "    open_plan  kitchen_area  balcony    locality_name  airports_nearest  \\\n",
       "0       False          25.0        0  санкт-петербург           18863.0   \n",
       "2       False           8.3        0  санкт-петербург           21741.0   \n",
       "3       False          52.0        0  санкт-петербург           28098.0   \n",
       "4       False          41.0        0  санкт-петербург           31856.0   \n",
       "7       False          18.9        2  санкт-петербург           23982.0   \n",
       "9       False           6.5        2  санкт-петербург           50898.0   \n",
       "10      False           8.5        0  санкт-петербург           38357.0   \n",
       "15      False           7.6        1  санкт-петербург           12900.0   \n",
       "16      False           9.0        0  санкт-петербург           22108.0   \n",
       "17      False          11.0        1  санкт-петербург           33564.0   \n",
       "\n",
       "    cityCenters_nearest  parks_around3000  parks_nearest  ponds_around3000  \\\n",
       "0                 16028               1.0          482.0               2.0   \n",
       "2                 13933               1.0           90.0               2.0   \n",
       "3                  6800               2.0           84.0               3.0   \n",
       "4                  8098               2.0          112.0               1.0   \n",
       "7                 11634               0.0            NaN               0.0   \n",
       "9                 15008               0.0            NaN               0.0   \n",
       "10                13878               1.0          310.0               2.0   \n",
       "15                14259               1.0          590.0               1.0   \n",
       "16                10698               3.0          420.0               0.0   \n",
       "17                14616               0.0            NaN               1.0   \n",
       "\n",
       "    ponds_nearest  days_exposition  price_per_square_meter  \\\n",
       "0           755.0             95.0               120370.37   \n",
       "2           574.0              NaN                92785.71   \n",
       "3           234.0            424.0               408176.10   \n",
       "4            48.0            121.0               100000.00   \n",
       "7             NaN             95.0               110544.69   \n",
       "9             NaN            289.0                88524.59   \n",
       "10          553.0            137.0               127525.25   \n",
       "15          296.0             19.0               119230.77   \n",
       "16            NaN            397.0                81707.32   \n",
       "17          859.0              NaN               116111.11   \n",
       "\n",
       "    weekday_exposition  month_exposition  year_exposition floor_type  \\\n",
       "0                    3                 3             2019     другой   \n",
       "2                    3                 8             2015     другой   \n",
       "3                    4                 7             2015     другой   \n",
       "4                    1                 6             2018     другой   \n",
       "7                    3                 4             2019     другой   \n",
       "9                    6                 2             2017     другой   \n",
       "10                   3                11             2017     другой   \n",
       "15                   5                11             2017     другой   \n",
       "16                   3                11             2017     первый   \n",
       "17                   4                 9             2016     другой   \n",
       "\n",
       "    area_ratio  kitchen_ratio  cityCenters_nearest_kms  \n",
       "0           47             23                       16  \n",
       "2           61             14                       14  \n",
       "3           32             32                        7  \n",
       "4           32             41                        8  \n",
       "7           72             26                       12  \n",
       "9           71             10                       15  \n",
       "10          51             21                       14  \n",
       "15          52             19                       14  \n",
       "16          67             10                       11  \n",
       "17          45             30                       15  "
      ]
     },
     "execution_count": 61,
     "metadata": {},
     "output_type": "execute_result"
    }
   ],
   "source": [
    "df_spb = df.loc[df['locality_name'] =='санкт-петербург'].copy() # создадим таблицу с квартирами в Санкт-Петербурге\n",
    "# создадим столбец с расстоянием до центра и округлим до целых\n",
    "df_spb['cityCenters_nearest_kms'] = (df_spb['cityCenters_nearest']/1000).round().astype(int) \n",
    "df_spb.head(10)"
   ]
  },
  {
   "cell_type": "code",
   "execution_count": 62,
   "metadata": {},
   "outputs": [
    {
     "data": {
      "text/html": [
       "<div>\n",
       "<style scoped>\n",
       "    .dataframe tbody tr th:only-of-type {\n",
       "        vertical-align: middle;\n",
       "    }\n",
       "\n",
       "    .dataframe tbody tr th {\n",
       "        vertical-align: top;\n",
       "    }\n",
       "\n",
       "    .dataframe thead th {\n",
       "        text-align: right;\n",
       "    }\n",
       "</style>\n",
       "<table border=\"1\" class=\"dataframe\">\n",
       "  <thead>\n",
       "    <tr style=\"text-align: right;\">\n",
       "      <th></th>\n",
       "      <th>средняя цена за м²</th>\n",
       "    </tr>\n",
       "    <tr>\n",
       "      <th>cityCenters_nearest_kms</th>\n",
       "      <th></th>\n",
       "    </tr>\n",
       "  </thead>\n",
       "  <tbody>\n",
       "    <tr>\n",
       "      <th>0</th>\n",
       "      <td>245833.530370</td>\n",
       "    </tr>\n",
       "    <tr>\n",
       "      <th>1</th>\n",
       "      <td>177005.135365</td>\n",
       "    </tr>\n",
       "    <tr>\n",
       "      <th>2</th>\n",
       "      <td>157849.305161</td>\n",
       "    </tr>\n",
       "    <tr>\n",
       "      <th>3</th>\n",
       "      <td>121507.619770</td>\n",
       "    </tr>\n",
       "    <tr>\n",
       "      <th>4</th>\n",
       "      <td>133282.351657</td>\n",
       "    </tr>\n",
       "    <tr>\n",
       "      <th>5</th>\n",
       "      <td>140454.489224</td>\n",
       "    </tr>\n",
       "    <tr>\n",
       "      <th>6</th>\n",
       "      <td>151011.990307</td>\n",
       "    </tr>\n",
       "    <tr>\n",
       "      <th>7</th>\n",
       "      <td>156176.617476</td>\n",
       "    </tr>\n",
       "    <tr>\n",
       "      <th>8</th>\n",
       "      <td>125649.592828</td>\n",
       "    </tr>\n",
       "    <tr>\n",
       "      <th>9</th>\n",
       "      <td>113160.286007</td>\n",
       "    </tr>\n",
       "    <tr>\n",
       "      <th>10</th>\n",
       "      <td>112607.303774</td>\n",
       "    </tr>\n",
       "    <tr>\n",
       "      <th>11</th>\n",
       "      <td>108382.025009</td>\n",
       "    </tr>\n",
       "    <tr>\n",
       "      <th>12</th>\n",
       "      <td>107476.719731</td>\n",
       "    </tr>\n",
       "    <tr>\n",
       "      <th>13</th>\n",
       "      <td>110026.206525</td>\n",
       "    </tr>\n",
       "    <tr>\n",
       "      <th>14</th>\n",
       "      <td>104200.760964</td>\n",
       "    </tr>\n",
       "    <tr>\n",
       "      <th>15</th>\n",
       "      <td>104230.216925</td>\n",
       "    </tr>\n",
       "    <tr>\n",
       "      <th>16</th>\n",
       "      <td>100542.209700</td>\n",
       "    </tr>\n",
       "    <tr>\n",
       "      <th>17</th>\n",
       "      <td>96970.638320</td>\n",
       "    </tr>\n",
       "    <tr>\n",
       "      <th>18</th>\n",
       "      <td>96360.853602</td>\n",
       "    </tr>\n",
       "    <tr>\n",
       "      <th>19</th>\n",
       "      <td>98660.795897</td>\n",
       "    </tr>\n",
       "    <tr>\n",
       "      <th>20</th>\n",
       "      <td>103043.024286</td>\n",
       "    </tr>\n",
       "    <tr>\n",
       "      <th>21</th>\n",
       "      <td>94470.373162</td>\n",
       "    </tr>\n",
       "    <tr>\n",
       "      <th>22</th>\n",
       "      <td>91330.065990</td>\n",
       "    </tr>\n",
       "    <tr>\n",
       "      <th>23</th>\n",
       "      <td>91828.762824</td>\n",
       "    </tr>\n",
       "    <tr>\n",
       "      <th>24</th>\n",
       "      <td>85746.029615</td>\n",
       "    </tr>\n",
       "    <tr>\n",
       "      <th>25</th>\n",
       "      <td>91527.070385</td>\n",
       "    </tr>\n",
       "    <tr>\n",
       "      <th>26</th>\n",
       "      <td>87801.587209</td>\n",
       "    </tr>\n",
       "    <tr>\n",
       "      <th>27</th>\n",
       "      <td>132115.710000</td>\n",
       "    </tr>\n",
       "    <tr>\n",
       "      <th>28</th>\n",
       "      <td>81161.914286</td>\n",
       "    </tr>\n",
       "    <tr>\n",
       "      <th>29</th>\n",
       "      <td>72953.365000</td>\n",
       "    </tr>\n",
       "  </tbody>\n",
       "</table>\n",
       "</div>"
      ],
      "text/plain": [
       "                         средняя цена за м²\n",
       "cityCenters_nearest_kms                    \n",
       "0                             245833.530370\n",
       "1                             177005.135365\n",
       "2                             157849.305161\n",
       "3                             121507.619770\n",
       "4                             133282.351657\n",
       "5                             140454.489224\n",
       "6                             151011.990307\n",
       "7                             156176.617476\n",
       "8                             125649.592828\n",
       "9                             113160.286007\n",
       "10                            112607.303774\n",
       "11                            108382.025009\n",
       "12                            107476.719731\n",
       "13                            110026.206525\n",
       "14                            104200.760964\n",
       "15                            104230.216925\n",
       "16                            100542.209700\n",
       "17                             96970.638320\n",
       "18                             96360.853602\n",
       "19                             98660.795897\n",
       "20                            103043.024286\n",
       "21                             94470.373162\n",
       "22                             91330.065990\n",
       "23                             91828.762824\n",
       "24                             85746.029615\n",
       "25                             91527.070385\n",
       "26                             87801.587209\n",
       "27                            132115.710000\n",
       "28                             81161.914286\n",
       "29                             72953.365000"
      ]
     },
     "execution_count": 62,
     "metadata": {},
     "output_type": "execute_result"
    }
   ],
   "source": [
    "# посчитаем среднюю цену для каждого километра\n",
    "price_per_km = (df_spb.pivot_table(index='cityCenters_nearest_kms', values='price_per_square_meter', aggfunc='mean')) \n",
    "price_per_km.columns = ['средняя цена за м²']\n",
    "price_per_km"
   ]
  },
  {
   "cell_type": "code",
   "execution_count": 63,
   "metadata": {},
   "outputs": [
    {
     "data": {
      "text/html": [
       "<div>\n",
       "<style scoped>\n",
       "    .dataframe tbody tr th:only-of-type {\n",
       "        vertical-align: middle;\n",
       "    }\n",
       "\n",
       "    .dataframe tbody tr th {\n",
       "        vertical-align: top;\n",
       "    }\n",
       "\n",
       "    .dataframe thead th {\n",
       "        text-align: right;\n",
       "    }\n",
       "</style>\n",
       "<table border=\"1\" class=\"dataframe\">\n",
       "  <thead>\n",
       "    <tr style=\"text-align: right;\">\n",
       "      <th></th>\n",
       "      <th>средняя цена за м²</th>\n",
       "      <th>km</th>\n",
       "    </tr>\n",
       "    <tr>\n",
       "      <th>cityCenters_nearest_kms</th>\n",
       "      <th></th>\n",
       "      <th></th>\n",
       "    </tr>\n",
       "  </thead>\n",
       "  <tbody>\n",
       "    <tr>\n",
       "      <th>0</th>\n",
       "      <td>245833.530370</td>\n",
       "      <td>0</td>\n",
       "    </tr>\n",
       "    <tr>\n",
       "      <th>1</th>\n",
       "      <td>177005.135365</td>\n",
       "      <td>1</td>\n",
       "    </tr>\n",
       "    <tr>\n",
       "      <th>2</th>\n",
       "      <td>157849.305161</td>\n",
       "      <td>2</td>\n",
       "    </tr>\n",
       "    <tr>\n",
       "      <th>3</th>\n",
       "      <td>121507.619770</td>\n",
       "      <td>3</td>\n",
       "    </tr>\n",
       "    <tr>\n",
       "      <th>4</th>\n",
       "      <td>133282.351657</td>\n",
       "      <td>4</td>\n",
       "    </tr>\n",
       "    <tr>\n",
       "      <th>5</th>\n",
       "      <td>140454.489224</td>\n",
       "      <td>5</td>\n",
       "    </tr>\n",
       "    <tr>\n",
       "      <th>6</th>\n",
       "      <td>151011.990307</td>\n",
       "      <td>6</td>\n",
       "    </tr>\n",
       "    <tr>\n",
       "      <th>7</th>\n",
       "      <td>156176.617476</td>\n",
       "      <td>7</td>\n",
       "    </tr>\n",
       "    <tr>\n",
       "      <th>8</th>\n",
       "      <td>125649.592828</td>\n",
       "      <td>8</td>\n",
       "    </tr>\n",
       "    <tr>\n",
       "      <th>9</th>\n",
       "      <td>113160.286007</td>\n",
       "      <td>9</td>\n",
       "    </tr>\n",
       "    <tr>\n",
       "      <th>10</th>\n",
       "      <td>112607.303774</td>\n",
       "      <td>10</td>\n",
       "    </tr>\n",
       "    <tr>\n",
       "      <th>11</th>\n",
       "      <td>108382.025009</td>\n",
       "      <td>11</td>\n",
       "    </tr>\n",
       "    <tr>\n",
       "      <th>12</th>\n",
       "      <td>107476.719731</td>\n",
       "      <td>12</td>\n",
       "    </tr>\n",
       "    <tr>\n",
       "      <th>13</th>\n",
       "      <td>110026.206525</td>\n",
       "      <td>13</td>\n",
       "    </tr>\n",
       "    <tr>\n",
       "      <th>14</th>\n",
       "      <td>104200.760964</td>\n",
       "      <td>14</td>\n",
       "    </tr>\n",
       "    <tr>\n",
       "      <th>15</th>\n",
       "      <td>104230.216925</td>\n",
       "      <td>15</td>\n",
       "    </tr>\n",
       "    <tr>\n",
       "      <th>16</th>\n",
       "      <td>100542.209700</td>\n",
       "      <td>16</td>\n",
       "    </tr>\n",
       "    <tr>\n",
       "      <th>17</th>\n",
       "      <td>96970.638320</td>\n",
       "      <td>17</td>\n",
       "    </tr>\n",
       "    <tr>\n",
       "      <th>18</th>\n",
       "      <td>96360.853602</td>\n",
       "      <td>18</td>\n",
       "    </tr>\n",
       "    <tr>\n",
       "      <th>19</th>\n",
       "      <td>98660.795897</td>\n",
       "      <td>19</td>\n",
       "    </tr>\n",
       "    <tr>\n",
       "      <th>20</th>\n",
       "      <td>103043.024286</td>\n",
       "      <td>20</td>\n",
       "    </tr>\n",
       "    <tr>\n",
       "      <th>21</th>\n",
       "      <td>94470.373162</td>\n",
       "      <td>21</td>\n",
       "    </tr>\n",
       "    <tr>\n",
       "      <th>22</th>\n",
       "      <td>91330.065990</td>\n",
       "      <td>22</td>\n",
       "    </tr>\n",
       "    <tr>\n",
       "      <th>23</th>\n",
       "      <td>91828.762824</td>\n",
       "      <td>23</td>\n",
       "    </tr>\n",
       "    <tr>\n",
       "      <th>24</th>\n",
       "      <td>85746.029615</td>\n",
       "      <td>24</td>\n",
       "    </tr>\n",
       "    <tr>\n",
       "      <th>25</th>\n",
       "      <td>91527.070385</td>\n",
       "      <td>25</td>\n",
       "    </tr>\n",
       "    <tr>\n",
       "      <th>26</th>\n",
       "      <td>87801.587209</td>\n",
       "      <td>26</td>\n",
       "    </tr>\n",
       "    <tr>\n",
       "      <th>27</th>\n",
       "      <td>132115.710000</td>\n",
       "      <td>27</td>\n",
       "    </tr>\n",
       "    <tr>\n",
       "      <th>28</th>\n",
       "      <td>81161.914286</td>\n",
       "      <td>28</td>\n",
       "    </tr>\n",
       "    <tr>\n",
       "      <th>29</th>\n",
       "      <td>72953.365000</td>\n",
       "      <td>29</td>\n",
       "    </tr>\n",
       "  </tbody>\n",
       "</table>\n",
       "</div>"
      ],
      "text/plain": [
       "                         средняя цена за м²  km\n",
       "cityCenters_nearest_kms                        \n",
       "0                             245833.530370   0\n",
       "1                             177005.135365   1\n",
       "2                             157849.305161   2\n",
       "3                             121507.619770   3\n",
       "4                             133282.351657   4\n",
       "5                             140454.489224   5\n",
       "6                             151011.990307   6\n",
       "7                             156176.617476   7\n",
       "8                             125649.592828   8\n",
       "9                             113160.286007   9\n",
       "10                            112607.303774  10\n",
       "11                            108382.025009  11\n",
       "12                            107476.719731  12\n",
       "13                            110026.206525  13\n",
       "14                            104200.760964  14\n",
       "15                            104230.216925  15\n",
       "16                            100542.209700  16\n",
       "17                             96970.638320  17\n",
       "18                             96360.853602  18\n",
       "19                             98660.795897  19\n",
       "20                            103043.024286  20\n",
       "21                             94470.373162  21\n",
       "22                             91330.065990  22\n",
       "23                             91828.762824  23\n",
       "24                             85746.029615  24\n",
       "25                             91527.070385  25\n",
       "26                             87801.587209  26\n",
       "27                            132115.710000  27\n",
       "28                             81161.914286  28\n",
       "29                             72953.365000  29"
      ]
     },
     "execution_count": 63,
     "metadata": {},
     "output_type": "execute_result"
    }
   ],
   "source": [
    "plot_price_per_km = price_per_km\n",
    "plot_price_per_km['km'] = price_per_km.index\n",
    "plot_price_per_km"
   ]
  },
  {
   "cell_type": "code",
   "execution_count": 64,
   "metadata": {},
   "outputs": [
    {
     "data": {
      "text/plain": [
       "<AxesSubplot:xlabel='km'>"
      ]
     },
     "execution_count": 64,
     "metadata": {},
     "output_type": "execute_result"
    },
    {
     "data": {
      "image/png": "[encoded data removed]",
      "text/plain": [
       "<Figure size 792x792 with 1 Axes>"
      ]
     },
     "metadata": {
      "needs_background": "light"
     },
     "output_type": "display_data"
    }
   ],
   "source": [
    "price_per_km.plot(x='km', y='средняя цена за м²' ,kind='line', figsize=(11, 11))"
   ]
  },
  {
   "cell_type": "markdown",
   "metadata": {},
   "source": [
    "Из графика видно, что прослеживается снижение стоимости квадратного метра при отдалении от центра. Есть странный всплеск роста стоимости в районе 27 км от центра. Скорее всего это связано с тем, что есть какой-то участок с элитной недвижимостью (типа Василеостровского, Приморского и Петроградского). \n",
    "Резкое снижение стоимости заметно в районе 3 км, но это скорее выброс. Т.к. не может быть центр в крупных городах таким с таким маленьким центром.  Будем считать центральной зоной Санкт-Петербурга радиусом в 8км.."
   ]
  },
  {
   "cell_type": "markdown",
   "metadata": {},
   "source": [
    "**Изучение квартир в центре:**\n",
    "\n",
    "* Проанализировать эту территорию и изучить следующие параметры: площадь, цена, число комнат, высота потолков;\n",
    "* выделить факторы, которые влияют на стоимость квартиры (число комнат, этаж, удалённость от центра, дата размещения объявления);\n",
    "* Сделайть выводы. Отличаются ли они от общих выводов по всей базе?"
   ]
  },
  {
   "cell_type": "code",
   "execution_count": 65,
   "metadata": {},
   "outputs": [],
   "source": [
    "#spb_center = df_spb.query('cityCenters_nearest_kms <= 3')\n",
    "spb_center = df_spb.query('cityCenters_nearest_kms <= 8')"
   ]
  },
  {
   "cell_type": "code",
   "execution_count": 66,
   "metadata": {},
   "outputs": [
    {
     "data": {
      "text/plain": [
       "count    3257.000000\n",
       "mean       68.185969\n",
       "std        22.548711\n",
       "min        12.000000\n",
       "25%        49.700000\n",
       "50%        67.500000\n",
       "75%        85.200000\n",
       "max       114.200000\n",
       "Name: total_area, dtype: float64"
      ]
     },
     "execution_count": 66,
     "metadata": {},
     "output_type": "execute_result"
    }
   ],
   "source": [
    "# Изучим площадь\n",
    "spb_center['total_area'].describe()"
   ]
  },
  {
   "cell_type": "code",
   "execution_count": 67,
   "metadata": {},
   "outputs": [
    {
     "name": "stdout",
     "output_type": "stream",
     "text": [
      "Площадь (медиана): 50\n",
      "Площадь в центре (медиана): 68\n",
      "Площадь (среднее): 54\n",
      "Площадь в центре (среднее): 68\n"
     ]
    },
    {
     "data": {
      "image/png": "[encoded data removed]",
      "text/plain": [
       "<Figure size 360x360 with 1 Axes>"
      ]
     },
     "metadata": {
      "needs_background": "light"
     },
     "output_type": "display_data"
    }
   ],
   "source": [
    "print('Площадь (медиана):', round(df['total_area'].median()))\n",
    "print('Площадь в центре (медиана):', round(spb_center['total_area'].median()))\n",
    "print('Площадь (среднее):', round(df['total_area'].mean()))\n",
    "print('Площадь в центре (среднее):', round(spb_center['total_area'].mean()))\n",
    "spb_center['total_area'].hist(bins=30, range=(25,150), figsize=(5,5))\n",
    "plt.xlabel('общая площадь')\n",
    "plt.ylabel('Кол-во квартир')\n",
    "plt.show()"
   ]
  },
  {
   "cell_type": "code",
   "execution_count": 68,
   "metadata": {},
   "outputs": [
    {
     "data": {
      "text/plain": [
       "count    2.758000e+03\n",
       "mean     7.293950e+06\n",
       "std      2.211162e+06\n",
       "min      1.600000e+06\n",
       "25%      5.650000e+06\n",
       "50%      7.200000e+06\n",
       "75%      8.990000e+06\n",
       "max      1.186686e+07\n",
       "Name: last_price, dtype: float64"
      ]
     },
     "execution_count": 68,
     "metadata": {},
     "output_type": "execute_result"
    }
   ],
   "source": [
    "# Изучим стоимость\n",
    "spb_center['last_price'].describe()"
   ]
  },
  {
   "cell_type": "code",
   "execution_count": 69,
   "metadata": {},
   "outputs": [
    {
     "name": "stdout",
     "output_type": "stream",
     "text": [
      "Стоимость (медиана): 4400000\n",
      "Стоимость в центре (медиана): 7200000\n",
      "Стоимость (среднее): 4837115\n",
      "Стоимость в центре (среднее): 7293950\n"
     ]
    },
    {
     "data": {
      "image/png": "[encoded data removed]",
      "text/plain": [
       "<Figure size 432x288 with 1 Axes>"
      ]
     },
     "metadata": {
      "needs_background": "light"
     },
     "output_type": "display_data"
    }
   ],
   "source": [
    "print('Стоимость (медиана):', round(df['last_price'].median()))\n",
    "print('Стоимость в центре (медиана):', round(spb_center['last_price'].median()))\n",
    "print('Стоимость (среднее):', round(df['last_price'].mean()))\n",
    "print('Стоимость в центре (среднее):', round(spb_center['last_price'].mean()))\n",
    "plt.hist(spb_center['last_price'], bins=30, range=(0,20000000))\n",
    "plt.title('Стоимость квартир в центре')\n",
    "plt.xlabel('Стоимость')\n",
    "plt.ylabel('Количество квартир')\n",
    "plt.show()"
   ]
  },
  {
   "cell_type": "code",
   "execution_count": 70,
   "metadata": {},
   "outputs": [
    {
     "data": {
      "text/plain": [
       "count    4112.000000\n",
       "mean        2.481274\n",
       "std         1.192141\n",
       "min         0.000000\n",
       "25%         2.000000\n",
       "50%         2.000000\n",
       "75%         3.000000\n",
       "max         5.000000\n",
       "Name: rooms, dtype: float64"
      ]
     },
     "execution_count": 70,
     "metadata": {},
     "output_type": "execute_result"
    }
   ],
   "source": [
    "# Изучим количество комнат\n",
    "spb_center['rooms'].describe()"
   ]
  },
  {
   "cell_type": "code",
   "execution_count": 71,
   "metadata": {},
   "outputs": [
    {
     "name": "stdout",
     "output_type": "stream",
     "text": [
      "Количество комнат (медиана): 2.0\n",
      "Количество комнат в центре (медиана): 2.0\n",
      "Количество комнат (среднее): 2.0134945894334817\n",
      "Количество комнат в центре (среднее): 2.0\n"
     ]
    },
    {
     "data": {
      "image/png": "[encoded data removed]",
      "text/plain": [
       "<Figure size 432x288 with 1 Axes>"
      ]
     },
     "metadata": {
      "needs_background": "light"
     },
     "output_type": "display_data"
    }
   ],
   "source": [
    "print('Количество комнат (медиана):', df['rooms'].median())\n",
    "print('Количество комнат в центре (медиана):', spb_center['rooms'].median())\n",
    "print('Количество комнат (среднее):', df['rooms'].mean())\n",
    "print('Количество комнат в центре (среднее):', spb_center['rooms'].median())\n",
    "plt.hist(df['rooms'], bins=20, range=(0,6))\n",
    "plt.xlabel('количество комнат')\n",
    "plt.ylabel('Количество квартир')\n",
    "plt.show()"
   ]
  },
  {
   "cell_type": "code",
   "execution_count": 72,
   "metadata": {},
   "outputs": [
    {
     "data": {
      "text/plain": [
       "count    2261.000000\n",
       "mean        2.629677\n",
       "std         0.081682\n",
       "min         2.500000\n",
       "25%         2.600000\n",
       "50%         2.600000\n",
       "75%         2.600000\n",
       "max         2.800000\n",
       "Name: ceiling_height, dtype: float64"
      ]
     },
     "execution_count": 72,
     "metadata": {},
     "output_type": "execute_result"
    }
   ],
   "source": [
    "# Изучим высоту потолков\n",
    "spb_center['ceiling_height'].describe()"
   ]
  },
  {
   "cell_type": "code",
   "execution_count": 78,
   "metadata": {},
   "outputs": [
    {
     "name": "stdout",
     "output_type": "stream",
     "text": [
      "Высота потолков (медиана): 2.6\n",
      "Высота потолков в центре (медиана): 3\n",
      "Высота потолков (среднее): 2.611844085238581\n",
      "Высота потолков в центре (среднее): 2.6\n"
     ]
    },
    {
     "data": {
      "image/png": "[encoded data removed]",
      "text/plain": [
       "<Figure size 432x288 with 1 Axes>"
      ]
     },
     "metadata": {
      "needs_background": "light"
     },
     "output_type": "display_data"
    }
   ],
   "source": [
    "print('Высота потолков (медиана):', df['ceiling_height'].median())\n",
    "print('Высота потолков в центре (медиана):', round(spb_center['ceiling_height'].median()))\n",
    "print('Высота потолков (среднее):', df['ceiling_height'].mean())\n",
    "print('Высота потолков в центре (среднее):', spb_center['ceiling_height'].median())\n",
    "plt.hist(spb_center['ceiling_height'], bins=20, range=(2.5,3))\n",
    "plt.xlabel('высота потолков')\n",
    "plt.ylabel('Кол-во квартир')\n",
    "plt.show()"
   ]
  },
  {
   "cell_type": "markdown",
   "metadata": {},
   "source": [
    "**ВЫВОДЫ:**\n",
    "* Большая часть квартир имеет метраж от 50 до 100 кв.м. Площадь квартир в центре значительно больше, чем в целом по общей таблице. В центре находится большое количество квартир с площадью 100 квадратных метров и более;\n",
    "* стоимость недвижимости в центре Санкт-Петербурга вышее боллее, чем на 55%, по отношению ко всей совокупности данных.;\n",
    "* по количеству комнат, усли брать по медиане, то в центре это значение равно 3. Это больше, чем в общей выборке. Там медиана равна 2;\n",
    "* высота потолков в центре выше, чем у квартир по общей выборке."
   ]
  },
  {
   "cell_type": "markdown",
   "metadata": {},
   "source": [
    "**Факторы, влияющие на стоимость квартиры:**"
   ]
  },
  {
   "cell_type": "code",
   "execution_count": 74,
   "metadata": {},
   "outputs": [
    {
     "data": {
      "image/png": "[encoded data removed]",
      "text/plain": [
       "<Figure size 360x360 with 1 Axes>"
      ]
     },
     "metadata": {
      "needs_background": "light"
     },
     "output_type": "display_data"
    },
    {
     "name": "stdout",
     "output_type": "stream",
     "text": [
      "Корреляция цены и кол-ва комнат:\n"
     ]
    },
    {
     "data": {
      "text/plain": [
       "0.47589512639808124"
      ]
     },
     "execution_count": 74,
     "metadata": {},
     "output_type": "execute_result"
    }
   ],
   "source": [
    "# Зависимость цены от кол-ва комнат\n",
    "(\n",
    "   spb_center.pivot_table(index='rooms', values='last_price')\n",
    "    .plot(grid=True, style='o-', figsize=(5, 5))\n",
    ")\n",
    "plt.show()\n",
    "print('Корреляция цены и кол-ва комнат:')\n",
    "spb_center['last_price'].corr(spb_center['rooms'])"
   ]
  },
  {
   "cell_type": "markdown",
   "metadata": {},
   "source": [
    "Зависимость небольшая есть, но она мала. Поэтому большее количество комнат приводит к увеличению стоимости квартиры, но это бывает не всегда. Пример тому квартиры-студии оцениваются дороже, чем квартиры с 1-ой комнатой."
   ]
  },
  {
   "cell_type": "code",
   "execution_count": 75,
   "metadata": {},
   "outputs": [
    {
     "data": {
      "image/png": "[encoded data removed]",
      "text/plain": [
       "<Figure size 360x360 with 1 Axes>"
      ]
     },
     "metadata": {
      "needs_background": "light"
     },
     "output_type": "display_data"
    },
    {
     "data": {
      "image/png": "[encoded data removed]",
      "text/plain": [
       "<Figure size 360x360 with 1 Axes>"
      ]
     },
     "metadata": {
      "needs_background": "light"
     },
     "output_type": "display_data"
    },
    {
     "name": "stdout",
     "output_type": "stream",
     "text": [
      "Корреляция цены и этажа:\n"
     ]
    },
    {
     "data": {
      "text/plain": [
       "0.10935915060801925"
      ]
     },
     "execution_count": 75,
     "metadata": {},
     "output_type": "execute_result"
    }
   ],
   "source": [
    "# Зависимость цены от этажа\n",
    "(\n",
    "    spb_center.pivot_table(index='floor_type', values='last_price')\n",
    "    .plot(grid=True, style='o-', figsize=(5, 5))\n",
    ")\n",
    "plt.show()\n",
    "(\n",
    "    spb_center.pivot_table(index='floor', values='last_price')\n",
    "    .plot(grid=True, style='o-', figsize=(5, 5))\n",
    ")\n",
    "plt.show()\n",
    "print('Корреляция цены и этажа:')\n",
    "spb_center['last_price'].corr(spb_center['floor'])"
   ]
  },
  {
   "cell_type": "markdown",
   "metadata": {},
   "source": [
    "Прямой зависимости по величине корреляции не видно. Квартиры на первом этаже оцениваются всех ниже. Скоорее всего, люди ценят вид на город, так как это центр. Поэтому верхние этажи оцениваются дороже."
   ]
  },
  {
   "cell_type": "code",
   "execution_count": 76,
   "metadata": {},
   "outputs": [
    {
     "data": {
      "image/png": "[encoded data removed]",
      "text/plain": [
       "<Figure size 360x360 with 1 Axes>"
      ]
     },
     "metadata": {
      "needs_background": "light"
     },
     "output_type": "display_data"
    },
    {
     "name": "stdout",
     "output_type": "stream",
     "text": [
      "Корреляция цены и удалённости от центра:\n"
     ]
    },
    {
     "data": {
      "text/plain": [
       "-0.1987665211015883"
      ]
     },
     "execution_count": 76,
     "metadata": {},
     "output_type": "execute_result"
    }
   ],
   "source": [
    "# Зависимость цены от удалённости от центра \n",
    "(\n",
    "    spb_center.pivot_table(index='cityCenters_nearest_kms', values='last_price')\n",
    "    .plot(grid=True, style='o-', figsize=(5, 5))\n",
    ")\n",
    "plt.show()\n",
    "print('Корреляция цены и удалённости от центра:')\n",
    "spb_center['last_price'].corr(spb_center['cityCenters_nearest_kms'])"
   ]
  },
  {
   "cell_type": "markdown",
   "metadata": {},
   "source": [
    "В центре нет зависимости от удаления от центра. Хотя в общей выборке просматривается зависимость стоимости от удаления от центра."
   ]
  },
  {
   "cell_type": "code",
   "execution_count": 77,
   "metadata": {},
   "outputs": [
    {
     "data": {
      "image/png": "[encoded data removed]",
      "text/plain": [
       "<Figure size 360x360 with 1 Axes>"
      ]
     },
     "metadata": {
      "needs_background": "light"
     },
     "output_type": "display_data"
    },
    {
     "data": {
      "image/png": "[encoded data removed]",
      "text/plain": [
       "<Figure size 720x360 with 1 Axes>"
      ]
     },
     "metadata": {
      "needs_background": "light"
     },
     "output_type": "display_data"
    },
    {
     "data": {
      "image/png": "[encoded data removed]",
      "text/plain": [
       "<Figure size 360x360 with 1 Axes>"
      ]
     },
     "metadata": {
      "needs_background": "light"
     },
     "output_type": "display_data"
    }
   ],
   "source": [
    "# Зависимость от дня размещения\n",
    "(\n",
    "    spb_center.pivot_table(index='weekday_exposition', values='last_price')\n",
    "    .plot(grid=True, style='o-', figsize=(5, 5))\n",
    ")\n",
    "plt.show()\n",
    "# Зависимость от месяца размещения\n",
    "(\n",
    "   spb_center.pivot_table(index='month_exposition', values='last_price')\n",
    "    .plot(grid=True, style='o-', xlim=(1,12), figsize=(10, 5))\n",
    ")\n",
    "plt.show()\n",
    "# Зависимость от года размещения\n",
    "(\n",
    "    spb_center.pivot_table(index='year_exposition', values='last_price')\n",
    "    .plot(grid=True, style='o-', figsize=(5, 5))\n",
    ")\n",
    "plt.show()"
   ]
  },
  {
   "cell_type": "markdown",
   "metadata": {},
   "source": [
    "Самые дорогие квартиры выклаваются в среду, в пятницу и воскресенье. Самые дешёвые: в четверг и субботу. Картина отличается от данных по всей совокупности.  По месяцам: дороже всего квартиры, продающиеся в марте и сентябре, дешевле всего - в августе и ноябре. Есть небольшая разница от всей совокупности. По годам: видно, что в 2015-2016 годах недвижимость сильно дорожала, хотя в целом по выборке наблюдалось снижение стоимости. Потом было резкое снижение стоимости в 2017. В 2018-2019 наблюдался рост стоимости."
   ]
  },
  {
   "cell_type": "markdown",
   "metadata": {},
   "source": [
    "## Общий вывод"
   ]
  },
  {
   "cell_type": "markdown",
   "metadata": {},
   "source": [
    "В ходе этого проекта обработал полученный архив данных - заменил пропущенные значения там, где это необходимо, замени типы данных на необходимые для удобной работы.\n",
    "Посчитали и добавили в таблицу дополнительные параметры:\n",
    "\n",
    "* цену квадратного метра жилья;\n",
    "* день недели, месяц и год размещения объявлений\n",
    "* добавил категории по этажам квартир.\n",
    "\n",
    "В процессе анализа было выявлено:\n",
    "* большинство квартир продается достаточно быстро: за 3-4 месяца, согласно медианному значению. Но среднее значение больше медианы почти в 2 раза, что говорит о длинном хвосте высоких значений в распределении данных. \n",
    "* сущетсвует очень сильная зависимость между общей площадью и итоговой ценой;\n",
    "* число комнат напрямую не влияет на стоимость;\n",
    "* первый этаж значительно дешевле остальных вариантов. Также стоимость квартиры на последнем этаже ниже, чем на остальных, кроме первого;\n",
    "* удаленность от центра в общей совокупности имеет обратное влияние на стоимость кватрир.\n",
    "\n",
    "\n",
    "Однако, это относится к общей совокупности. Для центральной зоны (с радиусом в 3 км) картина другая:\n",
    "* ценятся квартиры на боллее высоких этажах, особенно на последних;\n",
    "* в 2016-2017 годах стоимость квартир в среднем по рынку была ниже на 10-20 %, тогда как в центре Санкт-Петербурга данной зависимости от года не обнаружено.  В данном случае имело место постоянное удорожание стоимости в 2015-2016 и продолжение роста в 2018-2019."
   ]
  },
  {
   "cell_type": "markdown",
   "metadata": {},
   "source": [
    "## Чек-лист готовности проекта\n",
    "\n",
    "Поставьте 'x' в выполненных пунктах. Далее нажмите Shift+Enter."
   ]
  },
  {
   "cell_type": "markdown",
   "metadata": {},
   "source": [
    "- [x]  открыт файл\n",
    "- [x]  файлы изучены (выведены первые строки, метод `info()`)\n",
    "- [x]  определены пропущенные значения\n",
    "- [x]  заполнены пропущенные значения\n",
    "- [x]  есть пояснение, какие пропущенные значения обнаружены\n",
    "- [x]  изменены типы данных\n",
    "- [x]  есть пояснение, в каких столбцах изменены типы и почему\n",
    "- [x]  посчитано и добавлено в таблицу: цена квадратного метра\n",
    "- [x]  посчитано и добавлено в таблицу: день недели, месяц и год публикации объявления\n",
    "- [x]  посчитано и добавлено в таблицу: этаж квартиры; варианты — первый, последний, другой\n",
    "- [x]  посчитано и добавлено в таблицу: соотношение жилой и общей площади, а также отношение площади кухни к общей\n",
    "- [x]  изучены следующие параметры: площадь, цена, число комнат, высота потолков\n",
    "- [x]  построены гистограммы для каждого параметра\n",
    "- [x]  выполнено задание: «Изучите время продажи квартиры. Постройте гистограмму. Посчитайте среднее и медиану. Опишите, сколько обычно занимает продажа. Когда можно считать, что продажи прошли очень быстро, а когда необычно долго?»\n",
    "- [x]  выполнено задание: «Уберите редкие и выбивающиеся значения. Опишите, какие особенности обнаружили».\n",
    "- [x]  выполнено задание: «Какие факторы больше всего влияют на стоимость квартиры? Изучите, зависит ли цена от квадратного метра, числа комнат, этажа (первого или последнего), удалённости от центра. Также изучите зависимость от даты размещения: дня недели, месяца и года». \n",
    "- [x]  выполнено задание: «Выберите 10 населённых пунктов с наибольшим числом объявлений. Посчитайте среднюю цену квадратного метра в этих населённых пунктах. Выделите населённые пункты с самой высокой и низкой стоимостью жилья. Эти данные можно найти по имени в столбце `locality_name`».\n",
    "- [x]  выполнено задание: «Изучите предложения квартир: для каждой квартиры есть информация о расстоянии до центра. Выделите квартиры в Санкт-Петербурге (`locality_name`). Ваша задача — выяснить, какая область входит в центр. Создайте столбец с расстоянием до центра в километрах: округлите до целых значений. После этого посчитайте среднюю цену для каждого километра. Постройте график: он должен показывать, как цена зависит от удалённости от центра. Определите границу, где график сильно меняется — это и будет центральная зона».\n",
    "- [x]  выполнено задание: «Выделите сегмент квартир в центре. Проанализируйте эту территорию и изучите следующие параметры: площадь, цена, число комнат, высота потолков. Также выделите факторы, которые влияют на стоимость квартиры (число комнат, этаж, удалённость от центра, дата размещения объявления). Сделайте выводы. Отличаются ли они от общих выводов по всей базе?»\n",
    "- [x]  в каждом этапе есть выводы\n",
    "- [x]  есть общий вывод"
   ]
  }
 ],
 "metadata": {
  "ExecuteTimeLog": [
   {
    "duration": 445,
    "start_time": "2022-03-21T12:53:03.524Z"
   },
   {
    "duration": 479,
    "start_time": "2022-03-21T12:56:04.275Z"
   },
   {
    "duration": 74,
    "start_time": "2022-03-21T12:57:50.564Z"
   },
   {
    "duration": 80,
    "start_time": "2022-03-21T12:57:58.997Z"
   },
   {
    "duration": 11,
    "start_time": "2022-03-21T12:58:21.372Z"
   },
   {
    "duration": 90,
    "start_time": "2022-03-21T12:58:37.404Z"
   },
   {
    "duration": 36,
    "start_time": "2022-03-21T12:58:39.058Z"
   },
   {
    "duration": 26,
    "start_time": "2022-03-21T12:59:06.029Z"
   },
   {
    "duration": 39,
    "start_time": "2022-03-21T12:59:18.268Z"
   },
   {
    "duration": 17,
    "start_time": "2022-03-21T12:59:31.148Z"
   },
   {
    "duration": 7,
    "start_time": "2022-03-21T13:00:37.134Z"
   },
   {
    "duration": 5,
    "start_time": "2022-03-21T13:01:18.620Z"
   },
   {
    "duration": 4,
    "start_time": "2022-03-21T13:01:45.061Z"
   },
   {
    "duration": 815,
    "start_time": "2022-03-21T17:16:57.949Z"
   },
   {
    "duration": 95,
    "start_time": "2022-03-21T17:16:58.767Z"
   },
   {
    "duration": 16,
    "start_time": "2022-03-21T17:16:58.863Z"
   },
   {
    "duration": 31,
    "start_time": "2022-03-21T17:16:58.881Z"
   },
   {
    "duration": 22,
    "start_time": "2022-03-21T17:16:58.913Z"
   },
   {
    "duration": 83,
    "start_time": "2022-03-21T17:16:58.936Z"
   },
   {
    "duration": 3,
    "start_time": "2022-03-21T17:17:33.959Z"
   },
   {
    "duration": 85,
    "start_time": "2022-03-21T17:17:35.354Z"
   },
   {
    "duration": 15,
    "start_time": "2022-03-21T17:17:36.088Z"
   },
   {
    "duration": 23,
    "start_time": "2022-03-21T17:17:39.691Z"
   },
   {
    "duration": 24,
    "start_time": "2022-03-21T17:17:42.284Z"
   },
   {
    "duration": 4,
    "start_time": "2022-03-21T17:17:55.226Z"
   },
   {
    "duration": 31,
    "start_time": "2022-03-21T19:29:07.012Z"
   },
   {
    "duration": 8,
    "start_time": "2022-03-21T19:31:06.719Z"
   },
   {
    "duration": 4,
    "start_time": "2022-03-21T19:31:15.449Z"
   },
   {
    "duration": 60,
    "start_time": "2022-03-21T19:35:09.527Z"
   },
   {
    "duration": 662,
    "start_time": "2022-03-21T20:08:31.709Z"
   },
   {
    "duration": 95,
    "start_time": "2022-03-21T20:08:32.373Z"
   },
   {
    "duration": 17,
    "start_time": "2022-03-21T20:08:32.469Z"
   },
   {
    "duration": 43,
    "start_time": "2022-03-21T20:08:32.488Z"
   },
   {
    "duration": 29,
    "start_time": "2022-03-21T20:08:32.533Z"
   },
   {
    "duration": 85,
    "start_time": "2022-03-21T20:08:32.564Z"
   },
   {
    "duration": 11,
    "start_time": "2022-03-21T20:30:25.458Z"
   },
   {
    "duration": 752,
    "start_time": "2022-03-21T20:39:44.963Z"
   },
   {
    "duration": 4,
    "start_time": "2022-03-21T20:44:01.062Z"
   },
   {
    "duration": 14,
    "start_time": "2022-03-21T20:44:07.769Z"
   },
   {
    "duration": 11,
    "start_time": "2022-03-21T20:44:18.211Z"
   },
   {
    "duration": 12,
    "start_time": "2022-03-21T20:45:44.809Z"
   },
   {
    "duration": 445,
    "start_time": "2022-03-21T20:49:44.903Z"
   },
   {
    "duration": 0,
    "start_time": "2022-03-21T20:49:45.349Z"
   },
   {
    "duration": 0,
    "start_time": "2022-03-21T20:49:45.351Z"
   },
   {
    "duration": 0,
    "start_time": "2022-03-21T20:49:45.352Z"
   },
   {
    "duration": 0,
    "start_time": "2022-03-21T20:49:45.353Z"
   },
   {
    "duration": 0,
    "start_time": "2022-03-21T20:49:45.354Z"
   },
   {
    "duration": 0,
    "start_time": "2022-03-21T20:49:45.355Z"
   },
   {
    "duration": 0,
    "start_time": "2022-03-21T20:49:45.355Z"
   },
   {
    "duration": 0,
    "start_time": "2022-03-21T20:49:45.356Z"
   },
   {
    "duration": 7,
    "start_time": "2022-03-21T20:49:56.115Z"
   },
   {
    "duration": 297,
    "start_time": "2022-03-21T20:53:29.745Z"
   },
   {
    "duration": 610,
    "start_time": "2022-03-21T20:53:35.146Z"
   },
   {
    "duration": 85,
    "start_time": "2022-03-21T20:53:35.758Z"
   },
   {
    "duration": 16,
    "start_time": "2022-03-21T20:53:35.844Z"
   },
   {
    "duration": 41,
    "start_time": "2022-03-21T20:53:35.861Z"
   },
   {
    "duration": 29,
    "start_time": "2022-03-21T20:53:35.905Z"
   },
   {
    "duration": 79,
    "start_time": "2022-03-21T20:53:35.935Z"
   },
   {
    "duration": 9,
    "start_time": "2022-03-21T20:53:36.015Z"
   },
   {
    "duration": 32,
    "start_time": "2022-03-21T20:53:36.026Z"
   },
   {
    "duration": 832,
    "start_time": "2022-03-21T20:53:36.060Z"
   },
   {
    "duration": 69,
    "start_time": "2022-03-21T20:53:36.894Z"
   },
   {
    "duration": 10,
    "start_time": "2022-03-21T20:56:03.807Z"
   },
   {
    "duration": 10,
    "start_time": "2022-03-21T20:56:36.288Z"
   },
   {
    "duration": 13,
    "start_time": "2022-03-21T20:57:12.367Z"
   },
   {
    "duration": 9,
    "start_time": "2022-03-21T20:57:18.077Z"
   },
   {
    "duration": 53,
    "start_time": "2022-03-22T13:23:15.920Z"
   },
   {
    "duration": 6,
    "start_time": "2022-03-22T13:24:31.876Z"
   },
   {
    "duration": 834,
    "start_time": "2022-03-22T13:24:38.191Z"
   },
   {
    "duration": 80,
    "start_time": "2022-03-22T13:24:39.028Z"
   },
   {
    "duration": 15,
    "start_time": "2022-03-22T13:24:39.110Z"
   },
   {
    "duration": 35,
    "start_time": "2022-03-22T13:24:39.127Z"
   },
   {
    "duration": 56,
    "start_time": "2022-03-22T13:24:39.165Z"
   },
   {
    "duration": 70,
    "start_time": "2022-03-22T13:24:39.223Z"
   },
   {
    "duration": 23,
    "start_time": "2022-03-22T13:24:39.294Z"
   },
   {
    "duration": 14,
    "start_time": "2022-03-22T13:24:39.319Z"
   },
   {
    "duration": 96,
    "start_time": "2022-03-22T13:24:39.335Z"
   },
   {
    "duration": 807,
    "start_time": "2022-03-22T19:26:25.237Z"
   },
   {
    "duration": 92,
    "start_time": "2022-03-22T19:26:26.046Z"
   },
   {
    "duration": 16,
    "start_time": "2022-03-22T19:26:26.140Z"
   },
   {
    "duration": 44,
    "start_time": "2022-03-22T19:26:26.157Z"
   },
   {
    "duration": 30,
    "start_time": "2022-03-22T19:26:26.203Z"
   },
   {
    "duration": 73,
    "start_time": "2022-03-22T19:26:26.234Z"
   },
   {
    "duration": 9,
    "start_time": "2022-03-22T19:26:26.308Z"
   },
   {
    "duration": 10,
    "start_time": "2022-03-22T19:26:26.318Z"
   },
   {
    "duration": 81,
    "start_time": "2022-03-22T19:51:13.263Z"
   },
   {
    "duration": 700,
    "start_time": "2022-03-22T19:51:21.089Z"
   },
   {
    "duration": 90,
    "start_time": "2022-03-22T19:51:21.791Z"
   },
   {
    "duration": 19,
    "start_time": "2022-03-22T19:51:21.882Z"
   },
   {
    "duration": 31,
    "start_time": "2022-03-22T19:51:21.902Z"
   },
   {
    "duration": 29,
    "start_time": "2022-03-22T19:51:21.935Z"
   },
   {
    "duration": 86,
    "start_time": "2022-03-22T19:51:21.966Z"
   },
   {
    "duration": 8,
    "start_time": "2022-03-22T19:51:22.054Z"
   },
   {
    "duration": 11,
    "start_time": "2022-03-22T19:51:22.064Z"
   },
   {
    "duration": 718,
    "start_time": "2022-03-22T19:54:36.567Z"
   },
   {
    "duration": 88,
    "start_time": "2022-03-22T19:54:37.287Z"
   },
   {
    "duration": 16,
    "start_time": "2022-03-22T19:54:37.377Z"
   },
   {
    "duration": 32,
    "start_time": "2022-03-22T19:54:37.401Z"
   },
   {
    "duration": 26,
    "start_time": "2022-03-22T19:54:37.435Z"
   },
   {
    "duration": 84,
    "start_time": "2022-03-22T19:54:37.463Z"
   },
   {
    "duration": 9,
    "start_time": "2022-03-22T19:54:37.549Z"
   },
   {
    "duration": 10,
    "start_time": "2022-03-22T19:54:37.559Z"
   },
   {
    "duration": 73,
    "start_time": "2022-03-23T11:48:13.548Z"
   },
   {
    "duration": 1114,
    "start_time": "2022-03-23T11:48:21.370Z"
   },
   {
    "duration": 107,
    "start_time": "2022-03-23T11:48:22.487Z"
   },
   {
    "duration": 24,
    "start_time": "2022-03-23T11:48:22.596Z"
   },
   {
    "duration": 68,
    "start_time": "2022-03-23T11:48:22.622Z"
   },
   {
    "duration": 56,
    "start_time": "2022-03-23T11:48:22.693Z"
   },
   {
    "duration": 115,
    "start_time": "2022-03-23T11:48:22.752Z"
   },
   {
    "duration": 12,
    "start_time": "2022-03-23T11:48:22.870Z"
   },
   {
    "duration": 16,
    "start_time": "2022-03-23T11:48:22.884Z"
   },
   {
    "duration": 546,
    "start_time": "2022-03-23T11:48:22.903Z"
   },
   {
    "duration": 427,
    "start_time": "2022-03-23T11:48:31.294Z"
   },
   {
    "duration": 478,
    "start_time": "2022-03-23T11:48:50.998Z"
   },
   {
    "duration": 412,
    "start_time": "2022-03-23T11:49:11.006Z"
   },
   {
    "duration": 10,
    "start_time": "2022-03-23T11:50:10.049Z"
   },
   {
    "duration": 386,
    "start_time": "2022-03-23T11:50:35.062Z"
   },
   {
    "duration": 671,
    "start_time": "2022-03-23T11:50:45.078Z"
   },
   {
    "duration": 306,
    "start_time": "2022-03-23T11:50:53.207Z"
   },
   {
    "duration": 421,
    "start_time": "2022-03-23T11:51:12.222Z"
   },
   {
    "duration": 345,
    "start_time": "2022-03-23T11:56:35.808Z"
   },
   {
    "duration": 314,
    "start_time": "2022-03-23T11:57:23.898Z"
   },
   {
    "duration": 399,
    "start_time": "2022-03-23T11:57:36.201Z"
   },
   {
    "duration": 534,
    "start_time": "2022-03-23T11:58:06.072Z"
   },
   {
    "duration": 919,
    "start_time": "2022-03-23T11:58:17.112Z"
   },
   {
    "duration": 398,
    "start_time": "2022-03-23T11:59:46.648Z"
   },
   {
    "duration": 9,
    "start_time": "2022-03-23T12:02:27.696Z"
   },
   {
    "duration": 8,
    "start_time": "2022-03-23T12:03:13.368Z"
   },
   {
    "duration": 387,
    "start_time": "2022-03-23T12:56:31.372Z"
   },
   {
    "duration": 489,
    "start_time": "2022-03-23T12:57:12.828Z"
   },
   {
    "duration": 442,
    "start_time": "2022-03-23T12:57:39.731Z"
   },
   {
    "duration": 898,
    "start_time": "2022-03-23T13:06:25.297Z"
   },
   {
    "duration": 106,
    "start_time": "2022-03-23T13:06:26.197Z"
   },
   {
    "duration": 37,
    "start_time": "2022-03-23T13:06:26.306Z"
   },
   {
    "duration": 53,
    "start_time": "2022-03-23T13:06:26.345Z"
   },
   {
    "duration": 68,
    "start_time": "2022-03-23T13:06:26.402Z"
   },
   {
    "duration": 119,
    "start_time": "2022-03-23T13:06:26.473Z"
   },
   {
    "duration": 13,
    "start_time": "2022-03-23T13:06:26.594Z"
   },
   {
    "duration": 38,
    "start_time": "2022-03-23T13:06:26.609Z"
   },
   {
    "duration": 762,
    "start_time": "2022-03-24T08:07:41.192Z"
   },
   {
    "duration": 143,
    "start_time": "2022-03-24T08:07:41.956Z"
   },
   {
    "duration": 18,
    "start_time": "2022-03-24T08:07:42.101Z"
   },
   {
    "duration": 37,
    "start_time": "2022-03-24T08:07:42.121Z"
   },
   {
    "duration": 31,
    "start_time": "2022-03-24T08:07:42.160Z"
   },
   {
    "duration": 89,
    "start_time": "2022-03-24T08:07:42.193Z"
   },
   {
    "duration": 10,
    "start_time": "2022-03-24T08:07:42.284Z"
   },
   {
    "duration": 14,
    "start_time": "2022-03-24T08:07:42.296Z"
   },
   {
    "duration": 26,
    "start_time": "2022-03-24T08:07:42.311Z"
   },
   {
    "duration": 7,
    "start_time": "2022-03-24T08:07:42.340Z"
   },
   {
    "duration": 7,
    "start_time": "2022-03-24T08:07:50.472Z"
   },
   {
    "duration": 4,
    "start_time": "2022-03-24T08:16:22.851Z"
   },
   {
    "duration": 9,
    "start_time": "2022-03-24T08:16:37.402Z"
   },
   {
    "duration": 654,
    "start_time": "2022-03-24T08:17:08.199Z"
   },
   {
    "duration": 79,
    "start_time": "2022-03-24T08:17:08.855Z"
   },
   {
    "duration": 20,
    "start_time": "2022-03-24T08:17:08.936Z"
   },
   {
    "duration": 33,
    "start_time": "2022-03-24T08:17:08.958Z"
   },
   {
    "duration": 59,
    "start_time": "2022-03-24T08:17:08.994Z"
   },
   {
    "duration": 69,
    "start_time": "2022-03-24T08:17:09.055Z"
   },
   {
    "duration": 14,
    "start_time": "2022-03-24T08:17:09.126Z"
   },
   {
    "duration": 15,
    "start_time": "2022-03-24T08:17:09.142Z"
   },
   {
    "duration": 8,
    "start_time": "2022-03-24T08:17:09.158Z"
   },
   {
    "duration": 6,
    "start_time": "2022-03-24T08:17:09.167Z"
   },
   {
    "duration": 7,
    "start_time": "2022-03-24T08:17:09.175Z"
   },
   {
    "duration": 4,
    "start_time": "2022-03-24T08:17:09.184Z"
   },
   {
    "duration": 5,
    "start_time": "2022-03-24T08:18:18.512Z"
   },
   {
    "duration": 5,
    "start_time": "2022-03-24T08:19:05.608Z"
   },
   {
    "duration": 8,
    "start_time": "2022-03-24T08:19:11.865Z"
   },
   {
    "duration": 5,
    "start_time": "2022-03-24T08:27:40.698Z"
   },
   {
    "duration": 806,
    "start_time": "2022-03-24T08:27:46.544Z"
   },
   {
    "duration": 147,
    "start_time": "2022-03-24T08:27:47.353Z"
   },
   {
    "duration": 18,
    "start_time": "2022-03-24T08:27:47.502Z"
   },
   {
    "duration": 44,
    "start_time": "2022-03-24T08:27:47.521Z"
   },
   {
    "duration": 33,
    "start_time": "2022-03-24T08:27:47.568Z"
   },
   {
    "duration": 94,
    "start_time": "2022-03-24T08:27:47.603Z"
   },
   {
    "duration": 10,
    "start_time": "2022-03-24T08:27:47.699Z"
   },
   {
    "duration": 38,
    "start_time": "2022-03-24T08:27:47.711Z"
   },
   {
    "duration": 8,
    "start_time": "2022-03-24T08:27:47.752Z"
   },
   {
    "duration": 11,
    "start_time": "2022-03-24T08:27:47.762Z"
   },
   {
    "duration": 10,
    "start_time": "2022-03-24T08:27:47.775Z"
   },
   {
    "duration": 3,
    "start_time": "2022-03-24T08:27:47.787Z"
   },
   {
    "duration": 5,
    "start_time": "2022-03-24T08:28:13.410Z"
   },
   {
    "duration": 5,
    "start_time": "2022-03-24T08:29:17.707Z"
   },
   {
    "duration": 132,
    "start_time": "2022-03-24T08:29:35.067Z"
   },
   {
    "duration": 5,
    "start_time": "2022-03-24T08:30:01.011Z"
   },
   {
    "duration": 5,
    "start_time": "2022-03-24T08:30:17.763Z"
   },
   {
    "duration": 703,
    "start_time": "2022-03-24T08:37:38.204Z"
   },
   {
    "duration": 90,
    "start_time": "2022-03-24T08:37:38.909Z"
   },
   {
    "duration": 17,
    "start_time": "2022-03-24T08:37:39.001Z"
   },
   {
    "duration": 53,
    "start_time": "2022-03-24T08:37:39.020Z"
   },
   {
    "duration": 32,
    "start_time": "2022-03-24T08:37:39.075Z"
   },
   {
    "duration": 112,
    "start_time": "2022-03-24T08:37:39.109Z"
   },
   {
    "duration": 16,
    "start_time": "2022-03-24T08:37:39.223Z"
   },
   {
    "duration": 22,
    "start_time": "2022-03-24T08:37:39.241Z"
   },
   {
    "duration": 14,
    "start_time": "2022-03-24T08:37:39.265Z"
   },
   {
    "duration": 27,
    "start_time": "2022-03-24T08:37:39.281Z"
   },
   {
    "duration": 13,
    "start_time": "2022-03-24T08:37:39.310Z"
   },
   {
    "duration": 34,
    "start_time": "2022-03-24T08:37:39.325Z"
   },
   {
    "duration": 74,
    "start_time": "2022-03-24T08:40:48.908Z"
   },
   {
    "duration": 5,
    "start_time": "2022-03-24T08:40:58.283Z"
   },
   {
    "duration": 5,
    "start_time": "2022-03-24T08:41:31.147Z"
   },
   {
    "duration": 4,
    "start_time": "2022-03-24T08:41:51.475Z"
   },
   {
    "duration": 656,
    "start_time": "2022-03-24T08:42:18.277Z"
   },
   {
    "duration": 92,
    "start_time": "2022-03-24T08:42:18.935Z"
   },
   {
    "duration": 17,
    "start_time": "2022-03-24T08:42:19.029Z"
   },
   {
    "duration": 34,
    "start_time": "2022-03-24T08:42:19.048Z"
   },
   {
    "duration": 32,
    "start_time": "2022-03-24T08:42:19.084Z"
   },
   {
    "duration": 74,
    "start_time": "2022-03-24T08:42:19.138Z"
   },
   {
    "duration": 10,
    "start_time": "2022-03-24T08:42:19.214Z"
   },
   {
    "duration": 12,
    "start_time": "2022-03-24T08:42:19.238Z"
   },
   {
    "duration": 10,
    "start_time": "2022-03-24T08:42:19.252Z"
   },
   {
    "duration": 8,
    "start_time": "2022-03-24T08:42:19.264Z"
   },
   {
    "duration": 8,
    "start_time": "2022-03-24T08:42:19.274Z"
   },
   {
    "duration": 5,
    "start_time": "2022-03-24T08:42:19.284Z"
   },
   {
    "duration": 8,
    "start_time": "2022-03-24T08:42:19.291Z"
   },
   {
    "duration": 4,
    "start_time": "2022-03-24T09:15:28.017Z"
   },
   {
    "duration": 4,
    "start_time": "2022-03-24T09:15:32.332Z"
   },
   {
    "duration": 4,
    "start_time": "2022-03-24T09:16:00.660Z"
   },
   {
    "duration": 26,
    "start_time": "2022-03-24T12:56:01.590Z"
   },
   {
    "duration": 747,
    "start_time": "2022-03-24T12:57:25.444Z"
   },
   {
    "duration": 82,
    "start_time": "2022-03-24T12:57:26.194Z"
   },
   {
    "duration": 17,
    "start_time": "2022-03-24T12:57:26.278Z"
   },
   {
    "duration": 50,
    "start_time": "2022-03-24T12:57:26.297Z"
   },
   {
    "duration": 38,
    "start_time": "2022-03-24T12:57:26.350Z"
   },
   {
    "duration": 88,
    "start_time": "2022-03-24T12:57:26.393Z"
   },
   {
    "duration": 11,
    "start_time": "2022-03-24T12:57:26.483Z"
   },
   {
    "duration": 31,
    "start_time": "2022-03-24T12:57:26.496Z"
   },
   {
    "duration": 12,
    "start_time": "2022-03-24T12:57:26.529Z"
   },
   {
    "duration": 25,
    "start_time": "2022-03-24T12:57:26.543Z"
   },
   {
    "duration": 29,
    "start_time": "2022-03-24T12:57:26.570Z"
   },
   {
    "duration": 28,
    "start_time": "2022-03-24T12:57:26.601Z"
   },
   {
    "duration": 9,
    "start_time": "2022-03-24T12:57:26.630Z"
   },
   {
    "duration": 33,
    "start_time": "2022-03-24T12:57:26.641Z"
   },
   {
    "duration": 13,
    "start_time": "2022-03-24T12:57:26.675Z"
   },
   {
    "duration": 9,
    "start_time": "2022-03-24T12:57:26.689Z"
   },
   {
    "duration": 82,
    "start_time": "2022-03-24T12:57:26.699Z"
   },
   {
    "duration": 0,
    "start_time": "2022-03-24T12:57:26.783Z"
   },
   {
    "duration": 10,
    "start_time": "2022-03-24T12:58:25.407Z"
   },
   {
    "duration": 5,
    "start_time": "2022-03-24T13:00:16.544Z"
   },
   {
    "duration": 14,
    "start_time": "2022-03-24T13:02:35.272Z"
   },
   {
    "duration": 17,
    "start_time": "2022-03-24T13:03:18.768Z"
   },
   {
    "duration": 13,
    "start_time": "2022-03-24T13:03:26.833Z"
   },
   {
    "duration": 7,
    "start_time": "2022-03-24T13:04:33.424Z"
   },
   {
    "duration": 11,
    "start_time": "2022-03-24T13:04:50.297Z"
   },
   {
    "duration": 5,
    "start_time": "2022-03-24T13:07:04.966Z"
   },
   {
    "duration": 7,
    "start_time": "2022-03-24T13:18:15.767Z"
   },
   {
    "duration": 4,
    "start_time": "2022-03-24T13:20:52.074Z"
   },
   {
    "duration": 661,
    "start_time": "2022-03-24T13:21:57.100Z"
   },
   {
    "duration": 87,
    "start_time": "2022-03-24T13:21:57.763Z"
   },
   {
    "duration": 17,
    "start_time": "2022-03-24T13:21:57.851Z"
   },
   {
    "duration": 34,
    "start_time": "2022-03-24T13:21:57.870Z"
   },
   {
    "duration": 51,
    "start_time": "2022-03-24T13:21:57.907Z"
   },
   {
    "duration": 81,
    "start_time": "2022-03-24T13:21:57.959Z"
   },
   {
    "duration": 10,
    "start_time": "2022-03-24T13:21:58.042Z"
   },
   {
    "duration": 12,
    "start_time": "2022-03-24T13:21:58.054Z"
   },
   {
    "duration": 5,
    "start_time": "2022-03-24T13:21:58.068Z"
   },
   {
    "duration": 10,
    "start_time": "2022-03-24T13:21:58.074Z"
   },
   {
    "duration": 7,
    "start_time": "2022-03-24T13:21:58.086Z"
   },
   {
    "duration": 10,
    "start_time": "2022-03-24T13:21:58.094Z"
   },
   {
    "duration": 4,
    "start_time": "2022-03-24T13:21:58.138Z"
   },
   {
    "duration": 6,
    "start_time": "2022-03-24T13:21:58.145Z"
   },
   {
    "duration": 6,
    "start_time": "2022-03-24T13:21:58.152Z"
   },
   {
    "duration": 6,
    "start_time": "2022-03-24T13:21:58.160Z"
   },
   {
    "duration": 8,
    "start_time": "2022-03-24T13:21:58.168Z"
   },
   {
    "duration": 12,
    "start_time": "2022-03-24T13:21:58.178Z"
   },
   {
    "duration": 13,
    "start_time": "2022-03-24T13:21:58.192Z"
   },
   {
    "duration": 39,
    "start_time": "2022-03-24T13:21:58.207Z"
   },
   {
    "duration": 26,
    "start_time": "2022-03-24T13:21:58.248Z"
   },
   {
    "duration": 6,
    "start_time": "2022-03-24T13:23:34.056Z"
   },
   {
    "duration": 24,
    "start_time": "2022-03-24T13:38:17.870Z"
   },
   {
    "duration": 732,
    "start_time": "2022-03-24T13:38:27.117Z"
   },
   {
    "duration": 81,
    "start_time": "2022-03-24T13:38:27.851Z"
   },
   {
    "duration": 17,
    "start_time": "2022-03-24T13:38:27.934Z"
   },
   {
    "duration": 32,
    "start_time": "2022-03-24T13:38:27.953Z"
   },
   {
    "duration": 30,
    "start_time": "2022-03-24T13:38:27.987Z"
   },
   {
    "duration": 93,
    "start_time": "2022-03-24T13:38:28.018Z"
   },
   {
    "duration": 9,
    "start_time": "2022-03-24T13:38:28.112Z"
   },
   {
    "duration": 12,
    "start_time": "2022-03-24T13:38:28.137Z"
   },
   {
    "duration": 6,
    "start_time": "2022-03-24T13:38:28.150Z"
   },
   {
    "duration": 10,
    "start_time": "2022-03-24T13:38:28.157Z"
   },
   {
    "duration": 9,
    "start_time": "2022-03-24T13:38:28.169Z"
   },
   {
    "duration": 8,
    "start_time": "2022-03-24T13:38:28.180Z"
   },
   {
    "duration": 6,
    "start_time": "2022-03-24T13:38:28.189Z"
   },
   {
    "duration": 8,
    "start_time": "2022-03-24T13:38:28.198Z"
   },
   {
    "duration": 33,
    "start_time": "2022-03-24T13:38:28.208Z"
   },
   {
    "duration": 5,
    "start_time": "2022-03-24T13:38:28.243Z"
   },
   {
    "duration": 14,
    "start_time": "2022-03-24T13:38:28.250Z"
   },
   {
    "duration": 84,
    "start_time": "2022-03-24T13:38:28.265Z"
   },
   {
    "duration": 0,
    "start_time": "2022-03-24T13:38:28.351Z"
   },
   {
    "duration": 0,
    "start_time": "2022-03-24T13:38:28.352Z"
   },
   {
    "duration": 0,
    "start_time": "2022-03-24T13:38:28.353Z"
   },
   {
    "duration": 0,
    "start_time": "2022-03-24T13:38:28.354Z"
   },
   {
    "duration": 54,
    "start_time": "2022-03-24T19:02:23.156Z"
   },
   {
    "duration": 913,
    "start_time": "2022-03-24T19:02:32.564Z"
   },
   {
    "duration": 105,
    "start_time": "2022-03-24T19:02:33.479Z"
   },
   {
    "duration": 18,
    "start_time": "2022-03-24T19:02:33.586Z"
   },
   {
    "duration": 45,
    "start_time": "2022-03-24T19:02:33.607Z"
   },
   {
    "duration": 33,
    "start_time": "2022-03-24T19:02:33.655Z"
   },
   {
    "duration": 98,
    "start_time": "2022-03-24T19:02:33.690Z"
   },
   {
    "duration": 10,
    "start_time": "2022-03-24T19:02:33.790Z"
   },
   {
    "duration": 30,
    "start_time": "2022-03-24T19:02:33.802Z"
   },
   {
    "duration": 5,
    "start_time": "2022-03-24T19:02:33.834Z"
   },
   {
    "duration": 37,
    "start_time": "2022-03-24T19:02:33.841Z"
   },
   {
    "duration": 23,
    "start_time": "2022-03-24T19:02:33.880Z"
   },
   {
    "duration": 30,
    "start_time": "2022-03-24T19:02:33.905Z"
   },
   {
    "duration": 12,
    "start_time": "2022-03-24T19:02:33.937Z"
   },
   {
    "duration": 10,
    "start_time": "2022-03-24T19:02:33.951Z"
   },
   {
    "duration": 25,
    "start_time": "2022-03-24T19:02:33.963Z"
   },
   {
    "duration": 108,
    "start_time": "2022-03-24T19:02:33.990Z"
   },
   {
    "duration": 0,
    "start_time": "2022-03-24T19:02:34.099Z"
   },
   {
    "duration": 0,
    "start_time": "2022-03-24T19:02:34.101Z"
   },
   {
    "duration": 0,
    "start_time": "2022-03-24T19:02:34.102Z"
   },
   {
    "duration": 0,
    "start_time": "2022-03-24T19:02:34.103Z"
   },
   {
    "duration": 6,
    "start_time": "2022-03-24T19:13:40.013Z"
   },
   {
    "duration": 8,
    "start_time": "2022-03-24T19:14:07.518Z"
   },
   {
    "duration": 8,
    "start_time": "2022-03-24T19:15:17.892Z"
   },
   {
    "duration": 779,
    "start_time": "2022-03-24T19:15:39.122Z"
   },
   {
    "duration": 98,
    "start_time": "2022-03-24T19:15:39.904Z"
   },
   {
    "duration": 17,
    "start_time": "2022-03-24T19:15:40.004Z"
   },
   {
    "duration": 44,
    "start_time": "2022-03-24T19:15:40.023Z"
   },
   {
    "duration": 37,
    "start_time": "2022-03-24T19:15:40.069Z"
   },
   {
    "duration": 101,
    "start_time": "2022-03-24T19:15:40.108Z"
   },
   {
    "duration": 24,
    "start_time": "2022-03-24T19:15:40.211Z"
   },
   {
    "duration": 12,
    "start_time": "2022-03-24T19:15:40.237Z"
   },
   {
    "duration": 6,
    "start_time": "2022-03-24T19:15:40.251Z"
   },
   {
    "duration": 9,
    "start_time": "2022-03-24T19:15:40.259Z"
   },
   {
    "duration": 7,
    "start_time": "2022-03-24T19:15:40.270Z"
   },
   {
    "duration": 10,
    "start_time": "2022-03-24T19:15:40.278Z"
   },
   {
    "duration": 42,
    "start_time": "2022-03-24T19:15:40.290Z"
   },
   {
    "duration": 5,
    "start_time": "2022-03-24T19:15:40.335Z"
   },
   {
    "duration": 10,
    "start_time": "2022-03-24T19:15:40.342Z"
   },
   {
    "duration": 101,
    "start_time": "2022-03-24T19:15:40.353Z"
   },
   {
    "duration": 0,
    "start_time": "2022-03-24T19:15:40.456Z"
   },
   {
    "duration": 0,
    "start_time": "2022-03-24T19:15:40.457Z"
   },
   {
    "duration": 0,
    "start_time": "2022-03-24T19:15:40.459Z"
   },
   {
    "duration": 8,
    "start_time": "2022-03-24T19:16:11.664Z"
   },
   {
    "duration": 9,
    "start_time": "2022-03-24T19:16:49.141Z"
   },
   {
    "duration": 9,
    "start_time": "2022-03-24T19:17:19.655Z"
   },
   {
    "duration": 276,
    "start_time": "2022-03-24T19:20:11.289Z"
   },
   {
    "duration": 6,
    "start_time": "2022-03-24T19:21:53.280Z"
   },
   {
    "duration": 724,
    "start_time": "2022-03-24T19:22:07.488Z"
   },
   {
    "duration": 89,
    "start_time": "2022-03-24T19:22:08.214Z"
   },
   {
    "duration": 17,
    "start_time": "2022-03-24T19:22:08.305Z"
   },
   {
    "duration": 40,
    "start_time": "2022-03-24T19:22:08.324Z"
   },
   {
    "duration": 33,
    "start_time": "2022-03-24T19:22:08.366Z"
   },
   {
    "duration": 107,
    "start_time": "2022-03-24T19:22:08.401Z"
   },
   {
    "duration": 10,
    "start_time": "2022-03-24T19:22:08.510Z"
   },
   {
    "duration": 12,
    "start_time": "2022-03-24T19:22:08.531Z"
   },
   {
    "duration": 6,
    "start_time": "2022-03-24T19:22:08.544Z"
   },
   {
    "duration": 22,
    "start_time": "2022-03-24T19:22:08.551Z"
   },
   {
    "duration": 22,
    "start_time": "2022-03-24T19:22:08.575Z"
   },
   {
    "duration": 12,
    "start_time": "2022-03-24T19:22:08.598Z"
   },
   {
    "duration": 20,
    "start_time": "2022-03-24T19:22:08.611Z"
   },
   {
    "duration": 18,
    "start_time": "2022-03-24T19:22:08.634Z"
   },
   {
    "duration": 15,
    "start_time": "2022-03-24T19:22:08.655Z"
   },
   {
    "duration": 22,
    "start_time": "2022-03-24T19:22:08.672Z"
   },
   {
    "duration": 6,
    "start_time": "2022-03-24T19:22:08.696Z"
   },
   {
    "duration": 23,
    "start_time": "2022-03-24T19:22:08.703Z"
   },
   {
    "duration": 26,
    "start_time": "2022-03-24T19:22:08.727Z"
   },
   {
    "duration": 27,
    "start_time": "2022-03-24T19:48:54.264Z"
   },
   {
    "duration": 76,
    "start_time": "2022-03-24T19:49:32.724Z"
   },
   {
    "duration": 717,
    "start_time": "2022-03-24T19:50:10.671Z"
   },
   {
    "duration": 101,
    "start_time": "2022-03-24T19:50:11.390Z"
   },
   {
    "duration": 19,
    "start_time": "2022-03-24T19:50:11.493Z"
   },
   {
    "duration": 53,
    "start_time": "2022-03-24T19:50:11.513Z"
   },
   {
    "duration": 35,
    "start_time": "2022-03-24T19:50:11.568Z"
   },
   {
    "duration": 104,
    "start_time": "2022-03-24T19:50:11.605Z"
   },
   {
    "duration": 40,
    "start_time": "2022-03-24T19:50:11.711Z"
   },
   {
    "duration": 11,
    "start_time": "2022-03-24T19:50:11.753Z"
   },
   {
    "duration": 12,
    "start_time": "2022-03-24T19:50:11.765Z"
   },
   {
    "duration": 4,
    "start_time": "2022-03-24T19:50:11.780Z"
   },
   {
    "duration": 8,
    "start_time": "2022-03-24T19:50:11.786Z"
   },
   {
    "duration": 37,
    "start_time": "2022-03-24T19:50:11.796Z"
   },
   {
    "duration": 5,
    "start_time": "2022-03-24T19:50:11.835Z"
   },
   {
    "duration": 6,
    "start_time": "2022-03-24T19:50:11.844Z"
   },
   {
    "duration": 5,
    "start_time": "2022-03-24T19:50:11.852Z"
   },
   {
    "duration": 9,
    "start_time": "2022-03-24T19:50:11.859Z"
   },
   {
    "duration": 65,
    "start_time": "2022-03-24T19:50:11.870Z"
   },
   {
    "duration": 8,
    "start_time": "2022-03-24T19:50:11.938Z"
   },
   {
    "duration": 23,
    "start_time": "2022-03-24T19:50:11.949Z"
   },
   {
    "duration": 29,
    "start_time": "2022-03-24T19:50:11.974Z"
   },
   {
    "duration": 223,
    "start_time": "2022-03-24T19:51:55.186Z"
   },
   {
    "duration": 8,
    "start_time": "2022-03-24T20:44:52.884Z"
   },
   {
    "duration": 5,
    "start_time": "2022-03-24T20:45:27.962Z"
   },
   {
    "duration": 11,
    "start_time": "2022-03-24T20:53:59.950Z"
   },
   {
    "duration": 10,
    "start_time": "2022-03-24T20:55:00.064Z"
   },
   {
    "duration": 6,
    "start_time": "2022-03-24T20:57:27.058Z"
   },
   {
    "duration": 7,
    "start_time": "2022-03-24T20:58:39.279Z"
   },
   {
    "duration": 1471,
    "start_time": "2022-03-24T21:00:07.750Z"
   },
   {
    "duration": 1362,
    "start_time": "2022-03-24T21:00:19.265Z"
   },
   {
    "duration": 1386,
    "start_time": "2022-03-24T21:01:22.829Z"
   },
   {
    "duration": 114,
    "start_time": "2022-03-25T11:46:52.844Z"
   },
   {
    "duration": 120,
    "start_time": "2022-03-25T11:47:24.458Z"
   },
   {
    "duration": 42,
    "start_time": "2022-03-25T11:47:34.775Z"
   },
   {
    "duration": 859,
    "start_time": "2022-03-25T11:47:46.409Z"
   },
   {
    "duration": 84,
    "start_time": "2022-03-25T11:47:47.270Z"
   },
   {
    "duration": 15,
    "start_time": "2022-03-25T11:47:47.357Z"
   },
   {
    "duration": 38,
    "start_time": "2022-03-25T11:47:47.374Z"
   },
   {
    "duration": 48,
    "start_time": "2022-03-25T11:47:47.415Z"
   },
   {
    "duration": 91,
    "start_time": "2022-03-25T11:47:47.464Z"
   },
   {
    "duration": 26,
    "start_time": "2022-03-25T11:47:47.557Z"
   },
   {
    "duration": 11,
    "start_time": "2022-03-25T11:47:47.584Z"
   },
   {
    "duration": 28,
    "start_time": "2022-03-25T11:47:47.596Z"
   },
   {
    "duration": 34,
    "start_time": "2022-03-25T11:47:47.626Z"
   },
   {
    "duration": 23,
    "start_time": "2022-03-25T11:47:47.661Z"
   },
   {
    "duration": 27,
    "start_time": "2022-03-25T11:47:47.686Z"
   },
   {
    "duration": 15,
    "start_time": "2022-03-25T11:47:47.714Z"
   },
   {
    "duration": 40,
    "start_time": "2022-03-25T11:47:47.732Z"
   },
   {
    "duration": 34,
    "start_time": "2022-03-25T11:47:47.773Z"
   },
   {
    "duration": 27,
    "start_time": "2022-03-25T11:47:47.808Z"
   },
   {
    "duration": 143,
    "start_time": "2022-03-25T11:47:47.838Z"
   },
   {
    "duration": 0,
    "start_time": "2022-03-25T11:47:47.982Z"
   },
   {
    "duration": 0,
    "start_time": "2022-03-25T11:47:47.984Z"
   },
   {
    "duration": 0,
    "start_time": "2022-03-25T11:47:47.985Z"
   },
   {
    "duration": 0,
    "start_time": "2022-03-25T11:47:47.986Z"
   },
   {
    "duration": 0,
    "start_time": "2022-03-25T11:47:47.987Z"
   },
   {
    "duration": 0,
    "start_time": "2022-03-25T11:47:47.988Z"
   },
   {
    "duration": 0,
    "start_time": "2022-03-25T11:47:47.990Z"
   },
   {
    "duration": 0,
    "start_time": "2022-03-25T11:47:47.991Z"
   },
   {
    "duration": 0,
    "start_time": "2022-03-25T11:47:47.992Z"
   },
   {
    "duration": 1390,
    "start_time": "2022-03-25T11:50:00.392Z"
   },
   {
    "duration": 666,
    "start_time": "2022-03-25T11:50:20.501Z"
   },
   {
    "duration": 91,
    "start_time": "2022-03-25T11:50:21.169Z"
   },
   {
    "duration": 15,
    "start_time": "2022-03-25T11:50:21.262Z"
   },
   {
    "duration": 41,
    "start_time": "2022-03-25T11:50:21.279Z"
   },
   {
    "duration": 28,
    "start_time": "2022-03-25T11:50:21.323Z"
   },
   {
    "duration": 79,
    "start_time": "2022-03-25T11:50:21.353Z"
   },
   {
    "duration": 26,
    "start_time": "2022-03-25T11:50:21.434Z"
   },
   {
    "duration": 10,
    "start_time": "2022-03-25T11:50:21.461Z"
   },
   {
    "duration": 26,
    "start_time": "2022-03-25T11:50:21.472Z"
   },
   {
    "duration": 27,
    "start_time": "2022-03-25T11:50:21.499Z"
   },
   {
    "duration": 15,
    "start_time": "2022-03-25T11:50:21.527Z"
   },
   {
    "duration": 32,
    "start_time": "2022-03-25T11:50:21.543Z"
   },
   {
    "duration": 16,
    "start_time": "2022-03-25T11:50:21.577Z"
   },
   {
    "duration": 33,
    "start_time": "2022-03-25T11:50:21.595Z"
   },
   {
    "duration": 31,
    "start_time": "2022-03-25T11:50:21.629Z"
   },
   {
    "duration": 20,
    "start_time": "2022-03-25T11:50:21.662Z"
   },
   {
    "duration": 1394,
    "start_time": "2022-03-25T11:50:21.684Z"
   },
   {
    "duration": 7,
    "start_time": "2022-03-25T11:50:23.080Z"
   },
   {
    "duration": 34,
    "start_time": "2022-03-25T11:50:23.089Z"
   },
   {
    "duration": 36,
    "start_time": "2022-03-25T11:50:23.124Z"
   },
   {
    "duration": 26,
    "start_time": "2022-03-25T11:50:23.162Z"
   },
   {
    "duration": 19,
    "start_time": "2022-03-25T11:50:23.190Z"
   },
   {
    "duration": 25,
    "start_time": "2022-03-25T11:50:23.211Z"
   },
   {
    "duration": 24,
    "start_time": "2022-03-25T11:50:23.238Z"
   },
   {
    "duration": 35,
    "start_time": "2022-03-25T11:50:23.264Z"
   },
   {
    "duration": 5,
    "start_time": "2022-03-25T11:52:00.505Z"
   },
   {
    "duration": 4,
    "start_time": "2022-03-25T11:52:24.000Z"
   },
   {
    "duration": 672,
    "start_time": "2022-03-25T11:54:48.132Z"
   },
   {
    "duration": 80,
    "start_time": "2022-03-25T11:54:48.806Z"
   },
   {
    "duration": 16,
    "start_time": "2022-03-25T11:54:48.887Z"
   },
   {
    "duration": 43,
    "start_time": "2022-03-25T11:54:48.905Z"
   },
   {
    "duration": 28,
    "start_time": "2022-03-25T11:54:48.950Z"
   },
   {
    "duration": 116,
    "start_time": "2022-03-25T11:54:48.981Z"
   },
   {
    "duration": 35,
    "start_time": "2022-03-25T11:54:49.099Z"
   },
   {
    "duration": 11,
    "start_time": "2022-03-25T11:54:49.136Z"
   },
   {
    "duration": 11,
    "start_time": "2022-03-25T11:54:49.148Z"
   },
   {
    "duration": 4,
    "start_time": "2022-03-25T11:54:49.161Z"
   },
   {
    "duration": 9,
    "start_time": "2022-03-25T11:54:49.167Z"
   },
   {
    "duration": 8,
    "start_time": "2022-03-25T11:54:49.178Z"
   },
   {
    "duration": 7,
    "start_time": "2022-03-25T11:54:49.188Z"
   },
   {
    "duration": 38,
    "start_time": "2022-03-25T11:54:49.197Z"
   },
   {
    "duration": 5,
    "start_time": "2022-03-25T11:54:49.237Z"
   },
   {
    "duration": 12,
    "start_time": "2022-03-25T11:54:49.243Z"
   },
   {
    "duration": 88,
    "start_time": "2022-03-25T11:54:49.257Z"
   },
   {
    "duration": 0,
    "start_time": "2022-03-25T11:54:49.346Z"
   },
   {
    "duration": 0,
    "start_time": "2022-03-25T11:54:49.347Z"
   },
   {
    "duration": 0,
    "start_time": "2022-03-25T11:54:49.348Z"
   },
   {
    "duration": 0,
    "start_time": "2022-03-25T11:54:49.349Z"
   },
   {
    "duration": 0,
    "start_time": "2022-03-25T11:54:49.350Z"
   },
   {
    "duration": 0,
    "start_time": "2022-03-25T11:54:49.351Z"
   },
   {
    "duration": 0,
    "start_time": "2022-03-25T11:54:49.352Z"
   },
   {
    "duration": 0,
    "start_time": "2022-03-25T11:54:49.353Z"
   },
   {
    "duration": 0,
    "start_time": "2022-03-25T11:54:49.354Z"
   },
   {
    "duration": 32,
    "start_time": "2022-03-25T11:55:07.753Z"
   },
   {
    "duration": 5,
    "start_time": "2022-03-25T11:59:22.617Z"
   },
   {
    "duration": 4,
    "start_time": "2022-03-25T11:59:28.466Z"
   },
   {
    "duration": 672,
    "start_time": "2022-03-25T11:59:49.296Z"
   },
   {
    "duration": 85,
    "start_time": "2022-03-25T11:59:49.970Z"
   },
   {
    "duration": 18,
    "start_time": "2022-03-25T11:59:50.057Z"
   },
   {
    "duration": 32,
    "start_time": "2022-03-25T11:59:50.078Z"
   },
   {
    "duration": 47,
    "start_time": "2022-03-25T11:59:50.112Z"
   },
   {
    "duration": 80,
    "start_time": "2022-03-25T11:59:50.161Z"
   },
   {
    "duration": 27,
    "start_time": "2022-03-25T11:59:50.242Z"
   },
   {
    "duration": 9,
    "start_time": "2022-03-25T11:59:50.271Z"
   },
   {
    "duration": 13,
    "start_time": "2022-03-25T11:59:50.281Z"
   },
   {
    "duration": 6,
    "start_time": "2022-03-25T11:59:50.297Z"
   },
   {
    "duration": 29,
    "start_time": "2022-03-25T11:59:50.304Z"
   },
   {
    "duration": 14,
    "start_time": "2022-03-25T11:59:50.335Z"
   },
   {
    "duration": 9,
    "start_time": "2022-03-25T11:59:50.351Z"
   },
   {
    "duration": 15,
    "start_time": "2022-03-25T11:59:50.362Z"
   },
   {
    "duration": 13,
    "start_time": "2022-03-25T11:59:50.378Z"
   },
   {
    "duration": 12,
    "start_time": "2022-03-25T11:59:50.393Z"
   },
   {
    "duration": 13,
    "start_time": "2022-03-25T11:59:50.406Z"
   },
   {
    "duration": 24,
    "start_time": "2022-03-25T11:59:50.421Z"
   },
   {
    "duration": 26,
    "start_time": "2022-03-25T11:59:50.447Z"
   },
   {
    "duration": 8,
    "start_time": "2022-03-25T11:59:50.474Z"
   },
   {
    "duration": 36,
    "start_time": "2022-03-25T11:59:50.483Z"
   },
   {
    "duration": 13,
    "start_time": "2022-03-25T11:59:50.520Z"
   },
   {
    "duration": 32,
    "start_time": "2022-03-25T11:59:50.534Z"
   },
   {
    "duration": 15,
    "start_time": "2022-03-25T11:59:50.567Z"
   },
   {
    "duration": 25,
    "start_time": "2022-03-25T11:59:50.583Z"
   },
   {
    "duration": 27,
    "start_time": "2022-03-25T11:59:50.610Z"
   },
   {
    "duration": 2659,
    "start_time": "2022-03-25T12:06:18.965Z"
   },
   {
    "duration": 116,
    "start_time": "2022-03-25T12:18:26.782Z"
   },
   {
    "duration": 1355,
    "start_time": "2022-03-25T12:18:35.336Z"
   },
   {
    "duration": 2086,
    "start_time": "2022-03-25T12:18:56.488Z"
   },
   {
    "duration": 8,
    "start_time": "2022-03-25T12:20:05.128Z"
   },
   {
    "duration": 6,
    "start_time": "2022-03-25T12:20:33.648Z"
   },
   {
    "duration": 5,
    "start_time": "2022-03-25T12:20:57.127Z"
   },
   {
    "duration": 5,
    "start_time": "2022-03-25T12:21:46.184Z"
   },
   {
    "duration": 4,
    "start_time": "2022-03-25T12:21:48.479Z"
   },
   {
    "duration": 7,
    "start_time": "2022-03-25T12:22:39.785Z"
   },
   {
    "duration": 738,
    "start_time": "2022-03-25T12:23:45.422Z"
   },
   {
    "duration": 84,
    "start_time": "2022-03-25T12:23:46.162Z"
   },
   {
    "duration": 96,
    "start_time": "2022-03-25T12:23:46.248Z"
   },
   {
    "duration": 83,
    "start_time": "2022-03-25T12:23:46.346Z"
   },
   {
    "duration": 150,
    "start_time": "2022-03-25T12:23:46.432Z"
   },
   {
    "duration": 119,
    "start_time": "2022-03-25T12:23:46.583Z"
   },
   {
    "duration": 47,
    "start_time": "2022-03-25T12:23:46.704Z"
   },
   {
    "duration": 17,
    "start_time": "2022-03-25T12:23:46.752Z"
   },
   {
    "duration": 106,
    "start_time": "2022-03-25T12:23:46.771Z"
   },
   {
    "duration": 105,
    "start_time": "2022-03-25T12:23:46.879Z"
   },
   {
    "duration": 171,
    "start_time": "2022-03-25T12:23:46.986Z"
   },
   {
    "duration": 46,
    "start_time": "2022-03-25T12:23:47.159Z"
   },
   {
    "duration": 52,
    "start_time": "2022-03-25T12:23:47.206Z"
   },
   {
    "duration": 105,
    "start_time": "2022-03-25T12:23:47.261Z"
   },
   {
    "duration": 67,
    "start_time": "2022-03-25T12:23:47.368Z"
   },
   {
    "duration": 60,
    "start_time": "2022-03-25T12:23:47.437Z"
   },
   {
    "duration": 30,
    "start_time": "2022-03-25T12:23:47.500Z"
   },
   {
    "duration": 23,
    "start_time": "2022-03-25T12:23:47.533Z"
   },
   {
    "duration": 79,
    "start_time": "2022-03-25T12:23:47.558Z"
   },
   {
    "duration": 56,
    "start_time": "2022-03-25T12:23:47.639Z"
   },
   {
    "duration": 68,
    "start_time": "2022-03-25T12:23:47.697Z"
   },
   {
    "duration": 131,
    "start_time": "2022-03-25T12:23:47.767Z"
   },
   {
    "duration": 111,
    "start_time": "2022-03-25T12:23:47.900Z"
   },
   {
    "duration": 177,
    "start_time": "2022-03-25T12:23:48.013Z"
   },
   {
    "duration": 85,
    "start_time": "2022-03-25T12:23:48.192Z"
   },
   {
    "duration": 61,
    "start_time": "2022-03-25T12:23:48.279Z"
   },
   {
    "duration": 69,
    "start_time": "2022-03-25T12:27:38.046Z"
   },
   {
    "duration": 638,
    "start_time": "2022-03-25T12:28:16.885Z"
   },
   {
    "duration": 86,
    "start_time": "2022-03-25T12:28:17.525Z"
   },
   {
    "duration": 30,
    "start_time": "2022-03-25T12:28:17.613Z"
   },
   {
    "duration": 61,
    "start_time": "2022-03-25T12:28:17.645Z"
   },
   {
    "duration": 115,
    "start_time": "2022-03-25T12:28:17.708Z"
   },
   {
    "duration": 206,
    "start_time": "2022-03-25T12:28:17.825Z"
   },
   {
    "duration": 172,
    "start_time": "2022-03-25T12:28:18.033Z"
   },
   {
    "duration": 81,
    "start_time": "2022-03-25T12:28:18.206Z"
   },
   {
    "duration": 40,
    "start_time": "2022-03-25T12:28:18.288Z"
   },
   {
    "duration": 57,
    "start_time": "2022-03-25T12:28:18.330Z"
   },
   {
    "duration": 42,
    "start_time": "2022-03-25T12:28:18.389Z"
   },
   {
    "duration": 94,
    "start_time": "2022-03-25T12:28:18.433Z"
   },
   {
    "duration": 105,
    "start_time": "2022-03-25T12:28:18.528Z"
   },
   {
    "duration": 145,
    "start_time": "2022-03-25T12:28:18.636Z"
   },
   {
    "duration": 44,
    "start_time": "2022-03-25T12:28:18.783Z"
   },
   {
    "duration": 82,
    "start_time": "2022-03-25T12:28:18.829Z"
   },
   {
    "duration": 42,
    "start_time": "2022-03-25T12:28:18.913Z"
   },
   {
    "duration": 117,
    "start_time": "2022-03-25T12:28:18.957Z"
   },
   {
    "duration": 134,
    "start_time": "2022-03-25T12:28:19.076Z"
   },
   {
    "duration": 119,
    "start_time": "2022-03-25T12:28:19.211Z"
   },
   {
    "duration": 262,
    "start_time": "2022-03-25T12:28:19.332Z"
   },
   {
    "duration": 158,
    "start_time": "2022-03-25T12:28:19.595Z"
   },
   {
    "duration": 115,
    "start_time": "2022-03-25T12:28:19.755Z"
   },
   {
    "duration": 143,
    "start_time": "2022-03-25T12:28:19.871Z"
   },
   {
    "duration": 140,
    "start_time": "2022-03-25T12:28:20.016Z"
   },
   {
    "duration": 236,
    "start_time": "2022-03-25T12:28:20.157Z"
   },
   {
    "duration": 121,
    "start_time": "2022-03-25T12:28:20.394Z"
   },
   {
    "duration": 73,
    "start_time": "2022-03-25T12:29:30.912Z"
   },
   {
    "duration": 10,
    "start_time": "2022-03-25T12:29:46.217Z"
   },
   {
    "duration": 764,
    "start_time": "2022-03-25T12:30:04.955Z"
   },
   {
    "duration": 84,
    "start_time": "2022-03-25T12:30:05.721Z"
   },
   {
    "duration": 84,
    "start_time": "2022-03-25T12:30:05.806Z"
   },
   {
    "duration": 135,
    "start_time": "2022-03-25T12:30:05.891Z"
   },
   {
    "duration": 133,
    "start_time": "2022-03-25T12:30:06.028Z"
   },
   {
    "duration": 117,
    "start_time": "2022-03-25T12:30:06.162Z"
   },
   {
    "duration": 49,
    "start_time": "2022-03-25T12:30:06.281Z"
   },
   {
    "duration": 41,
    "start_time": "2022-03-25T12:30:06.332Z"
   },
   {
    "duration": 73,
    "start_time": "2022-03-25T12:30:06.375Z"
   },
   {
    "duration": 53,
    "start_time": "2022-03-25T12:30:06.449Z"
   },
   {
    "duration": 130,
    "start_time": "2022-03-25T12:30:06.504Z"
   },
   {
    "duration": 119,
    "start_time": "2022-03-25T12:30:06.635Z"
   },
   {
    "duration": 106,
    "start_time": "2022-03-25T12:30:06.756Z"
   },
   {
    "duration": 100,
    "start_time": "2022-03-25T12:30:06.865Z"
   },
   {
    "duration": 74,
    "start_time": "2022-03-25T12:30:06.966Z"
   },
   {
    "duration": 163,
    "start_time": "2022-03-25T12:30:07.042Z"
   },
   {
    "duration": 107,
    "start_time": "2022-03-25T12:30:07.206Z"
   },
   {
    "duration": 66,
    "start_time": "2022-03-25T12:30:07.315Z"
   },
   {
    "duration": 62,
    "start_time": "2022-03-25T12:30:07.382Z"
   },
   {
    "duration": 44,
    "start_time": "2022-03-25T12:30:07.446Z"
   },
   {
    "duration": 97,
    "start_time": "2022-03-25T12:30:07.492Z"
   },
   {
    "duration": 44,
    "start_time": "2022-03-25T12:30:07.590Z"
   },
   {
    "duration": 88,
    "start_time": "2022-03-25T12:30:07.635Z"
   },
   {
    "duration": 180,
    "start_time": "2022-03-25T12:30:07.725Z"
   },
   {
    "duration": 90,
    "start_time": "2022-03-25T12:30:07.907Z"
   },
   {
    "duration": 56,
    "start_time": "2022-03-25T12:30:07.999Z"
   },
   {
    "duration": 66,
    "start_time": "2022-03-25T12:52:04.556Z"
   },
   {
    "duration": 7,
    "start_time": "2022-03-25T12:52:16.588Z"
   },
   {
    "duration": 24,
    "start_time": "2022-03-25T12:55:29.212Z"
   },
   {
    "duration": 18,
    "start_time": "2022-03-25T12:58:27.405Z"
   },
   {
    "duration": 15,
    "start_time": "2022-03-25T13:02:48.694Z"
   },
   {
    "duration": 72,
    "start_time": "2022-03-26T10:46:57.830Z"
   },
   {
    "duration": 1243,
    "start_time": "2022-03-26T10:47:04.328Z"
   },
   {
    "duration": 117,
    "start_time": "2022-03-26T10:47:05.575Z"
   },
   {
    "duration": 23,
    "start_time": "2022-03-26T10:47:05.695Z"
   },
   {
    "duration": 71,
    "start_time": "2022-03-26T10:47:05.722Z"
   },
   {
    "duration": 56,
    "start_time": "2022-03-26T10:47:05.795Z"
   },
   {
    "duration": 114,
    "start_time": "2022-03-26T10:47:05.853Z"
   },
   {
    "duration": 39,
    "start_time": "2022-03-26T10:47:05.969Z"
   },
   {
    "duration": 35,
    "start_time": "2022-03-26T10:47:06.010Z"
   },
   {
    "duration": 13,
    "start_time": "2022-03-26T10:47:06.048Z"
   },
   {
    "duration": 5,
    "start_time": "2022-03-26T10:47:06.066Z"
   },
   {
    "duration": 10,
    "start_time": "2022-03-26T10:47:06.074Z"
   },
   {
    "duration": 5,
    "start_time": "2022-03-26T10:47:06.086Z"
   },
   {
    "duration": 50,
    "start_time": "2022-03-26T10:47:06.093Z"
   },
   {
    "duration": 7,
    "start_time": "2022-03-26T10:47:06.146Z"
   },
   {
    "duration": 6,
    "start_time": "2022-03-26T10:47:06.155Z"
   },
   {
    "duration": 11,
    "start_time": "2022-03-26T10:47:06.163Z"
   },
   {
    "duration": 8,
    "start_time": "2022-03-26T10:47:06.176Z"
   },
   {
    "duration": 8,
    "start_time": "2022-03-26T10:47:06.187Z"
   },
   {
    "duration": 10,
    "start_time": "2022-03-26T10:47:06.244Z"
   },
   {
    "duration": 6,
    "start_time": "2022-03-26T10:47:06.256Z"
   },
   {
    "duration": 12,
    "start_time": "2022-03-26T10:47:06.264Z"
   },
   {
    "duration": 7,
    "start_time": "2022-03-26T10:47:06.279Z"
   },
   {
    "duration": 63,
    "start_time": "2022-03-26T10:47:06.288Z"
   },
   {
    "duration": 8,
    "start_time": "2022-03-26T10:47:06.354Z"
   },
   {
    "duration": 21,
    "start_time": "2022-03-26T10:47:06.365Z"
   },
   {
    "duration": 80,
    "start_time": "2022-03-26T10:47:06.389Z"
   },
   {
    "duration": 35,
    "start_time": "2022-03-26T10:47:06.473Z"
   },
   {
    "duration": 49,
    "start_time": "2022-03-26T10:47:06.514Z"
   },
   {
    "duration": 12,
    "start_time": "2022-03-26T10:47:06.566Z"
   },
   {
    "duration": 25,
    "start_time": "2022-03-26T10:47:06.581Z"
   },
   {
    "duration": 33,
    "start_time": "2022-03-26T10:47:06.610Z"
   },
   {
    "duration": 5,
    "start_time": "2022-03-26T10:48:40.899Z"
   },
   {
    "duration": 127,
    "start_time": "2022-03-26T10:51:52.694Z"
   },
   {
    "duration": 20,
    "start_time": "2022-03-26T10:52:16.964Z"
   },
   {
    "duration": 155,
    "start_time": "2022-03-26T10:59:26.158Z"
   },
   {
    "duration": 185,
    "start_time": "2022-03-26T11:00:19.389Z"
   },
   {
    "duration": 18,
    "start_time": "2022-03-26T11:02:16.158Z"
   },
   {
    "duration": 1286,
    "start_time": "2022-03-26T13:01:03.602Z"
   },
   {
    "duration": 77,
    "start_time": "2022-03-26T13:01:04.890Z"
   },
   {
    "duration": 15,
    "start_time": "2022-03-26T13:01:04.969Z"
   },
   {
    "duration": 32,
    "start_time": "2022-03-26T13:01:04.986Z"
   },
   {
    "duration": 45,
    "start_time": "2022-03-26T13:01:05.020Z"
   },
   {
    "duration": 66,
    "start_time": "2022-03-26T13:01:05.067Z"
   },
   {
    "duration": 41,
    "start_time": "2022-03-26T13:01:05.135Z"
   },
   {
    "duration": 9,
    "start_time": "2022-03-26T13:01:05.177Z"
   },
   {
    "duration": 9,
    "start_time": "2022-03-26T13:01:05.188Z"
   },
   {
    "duration": 4,
    "start_time": "2022-03-26T13:01:05.199Z"
   },
   {
    "duration": 10,
    "start_time": "2022-03-26T13:01:05.204Z"
   },
   {
    "duration": 8,
    "start_time": "2022-03-26T13:01:05.215Z"
   },
   {
    "duration": 7,
    "start_time": "2022-03-26T13:01:05.225Z"
   },
   {
    "duration": 4,
    "start_time": "2022-03-26T13:01:05.234Z"
   },
   {
    "duration": 25,
    "start_time": "2022-03-26T13:01:05.240Z"
   },
   {
    "duration": 9,
    "start_time": "2022-03-26T13:01:05.267Z"
   },
   {
    "duration": 9,
    "start_time": "2022-03-26T13:01:05.277Z"
   },
   {
    "duration": 8,
    "start_time": "2022-03-26T13:01:05.288Z"
   },
   {
    "duration": 9,
    "start_time": "2022-03-26T13:01:05.297Z"
   },
   {
    "duration": 4,
    "start_time": "2022-03-26T13:01:05.307Z"
   },
   {
    "duration": 14,
    "start_time": "2022-03-26T13:01:05.312Z"
   },
   {
    "duration": 6,
    "start_time": "2022-03-26T13:01:05.328Z"
   },
   {
    "duration": 36,
    "start_time": "2022-03-26T13:01:05.335Z"
   },
   {
    "duration": 6,
    "start_time": "2022-03-26T13:01:05.372Z"
   },
   {
    "duration": 17,
    "start_time": "2022-03-26T13:01:05.379Z"
   },
   {
    "duration": 21,
    "start_time": "2022-03-26T13:01:05.397Z"
   },
   {
    "duration": 43,
    "start_time": "2022-03-26T13:01:05.420Z"
   },
   {
    "duration": 17,
    "start_time": "2022-03-26T13:01:05.464Z"
   },
   {
    "duration": 9,
    "start_time": "2022-03-26T13:01:05.483Z"
   },
   {
    "duration": 21,
    "start_time": "2022-03-26T13:01:05.493Z"
   },
   {
    "duration": 21,
    "start_time": "2022-03-26T13:01:05.516Z"
   },
   {
    "duration": 7,
    "start_time": "2022-03-26T13:01:05.539Z"
   },
   {
    "duration": 24,
    "start_time": "2022-03-26T13:01:05.547Z"
   },
   {
    "duration": 155,
    "start_time": "2022-03-26T13:01:05.573Z"
   },
   {
    "duration": 369,
    "start_time": "2022-03-26T13:05:14.219Z"
   },
   {
    "duration": 32,
    "start_time": "2022-03-26T13:05:30.014Z"
   },
   {
    "duration": 27,
    "start_time": "2022-03-26T13:08:12.213Z"
   },
   {
    "duration": 12,
    "start_time": "2022-03-26T13:09:43.892Z"
   },
   {
    "duration": 13,
    "start_time": "2022-03-26T13:20:29.591Z"
   },
   {
    "duration": 7,
    "start_time": "2022-03-26T13:20:41.655Z"
   },
   {
    "duration": 14,
    "start_time": "2022-03-26T13:22:03.053Z"
   },
   {
    "duration": 15,
    "start_time": "2022-03-26T13:23:04.353Z"
   },
   {
    "duration": 12,
    "start_time": "2022-03-26T13:23:24.138Z"
   },
   {
    "duration": 30,
    "start_time": "2022-03-26T13:24:42.600Z"
   },
   {
    "duration": 24,
    "start_time": "2022-03-26T13:24:55.375Z"
   },
   {
    "duration": 160,
    "start_time": "2022-03-26T13:40:47.603Z"
   },
   {
    "duration": 155,
    "start_time": "2022-03-26T13:41:35.057Z"
   },
   {
    "duration": 215,
    "start_time": "2022-03-26T13:48:35.164Z"
   },
   {
    "duration": 131,
    "start_time": "2022-03-26T13:48:55.767Z"
   },
   {
    "duration": 139,
    "start_time": "2022-03-26T13:49:07.931Z"
   },
   {
    "duration": 104,
    "start_time": "2022-03-26T13:49:47.139Z"
   },
   {
    "duration": 140,
    "start_time": "2022-03-26T13:50:16.074Z"
   },
   {
    "duration": 7,
    "start_time": "2022-03-26T14:05:26.043Z"
   },
   {
    "duration": 1641,
    "start_time": "2022-03-26T14:05:52.366Z"
   },
   {
    "duration": 1666,
    "start_time": "2022-03-26T14:06:09.066Z"
   },
   {
    "duration": 1744,
    "start_time": "2022-03-26T14:06:19.949Z"
   },
   {
    "duration": 5,
    "start_time": "2022-03-26T14:08:43.887Z"
   },
   {
    "duration": 160,
    "start_time": "2022-03-26T14:11:29.573Z"
   },
   {
    "duration": 146,
    "start_time": "2022-03-26T14:12:05.747Z"
   },
   {
    "duration": 131,
    "start_time": "2022-03-26T14:14:03.269Z"
   },
   {
    "duration": 215,
    "start_time": "2022-03-26T14:18:10.005Z"
   },
   {
    "duration": 155,
    "start_time": "2022-03-26T14:19:03.408Z"
   },
   {
    "duration": 96,
    "start_time": "2022-03-26T14:19:35.816Z"
   },
   {
    "duration": 376,
    "start_time": "2022-03-26T14:19:48.715Z"
   },
   {
    "duration": 212,
    "start_time": "2022-03-26T14:20:05.803Z"
   },
   {
    "duration": 170,
    "start_time": "2022-03-26T14:20:21.283Z"
   },
   {
    "duration": 147,
    "start_time": "2022-03-26T14:20:47.993Z"
   },
   {
    "duration": 151,
    "start_time": "2022-03-26T14:20:55.554Z"
   },
   {
    "duration": 131,
    "start_time": "2022-03-26T14:21:03.385Z"
   },
   {
    "duration": 121,
    "start_time": "2022-03-26T14:26:18.015Z"
   },
   {
    "duration": 210,
    "start_time": "2022-03-26T14:32:39.450Z"
   },
   {
    "duration": 312,
    "start_time": "2022-03-26T14:34:34.013Z"
   },
   {
    "duration": 214,
    "start_time": "2022-03-26T14:35:02.988Z"
   },
   {
    "duration": 218,
    "start_time": "2022-03-26T14:35:24.773Z"
   },
   {
    "duration": 236,
    "start_time": "2022-03-26T14:35:35.729Z"
   },
   {
    "duration": 253,
    "start_time": "2022-03-26T15:08:19.857Z"
   },
   {
    "duration": 134,
    "start_time": "2022-03-26T15:08:28.596Z"
   },
   {
    "duration": 83,
    "start_time": "2022-03-26T15:08:43.807Z"
   },
   {
    "duration": 154,
    "start_time": "2022-03-26T15:09:23.242Z"
   },
   {
    "duration": 9,
    "start_time": "2022-03-26T15:13:37.583Z"
   },
   {
    "duration": 8,
    "start_time": "2022-03-26T15:13:51.011Z"
   },
   {
    "duration": 8,
    "start_time": "2022-03-26T15:14:11.172Z"
   },
   {
    "duration": 79,
    "start_time": "2022-03-26T15:14:20.487Z"
   },
   {
    "duration": 87,
    "start_time": "2022-03-26T15:14:49.709Z"
   },
   {
    "duration": 94,
    "start_time": "2022-03-26T15:15:14.809Z"
   },
   {
    "duration": 8,
    "start_time": "2022-03-26T15:19:05.260Z"
   },
   {
    "duration": 146,
    "start_time": "2022-03-26T15:36:00.468Z"
   },
   {
    "duration": 9,
    "start_time": "2022-03-26T15:44:28.093Z"
   },
   {
    "duration": 1295,
    "start_time": "2022-03-27T14:40:33.440Z"
   },
   {
    "duration": 128,
    "start_time": "2022-03-27T14:40:34.738Z"
   },
   {
    "duration": 22,
    "start_time": "2022-03-27T14:40:34.869Z"
   },
   {
    "duration": 83,
    "start_time": "2022-03-27T14:40:34.894Z"
   },
   {
    "duration": 49,
    "start_time": "2022-03-27T14:40:34.980Z"
   },
   {
    "duration": 108,
    "start_time": "2022-03-27T14:40:35.048Z"
   },
   {
    "duration": 41,
    "start_time": "2022-03-27T14:40:35.160Z"
   },
   {
    "duration": 13,
    "start_time": "2022-03-27T14:40:35.203Z"
   },
   {
    "duration": 23,
    "start_time": "2022-03-27T14:40:35.242Z"
   },
   {
    "duration": 32,
    "start_time": "2022-03-27T14:40:35.269Z"
   },
   {
    "duration": 24,
    "start_time": "2022-03-27T14:40:35.303Z"
   },
   {
    "duration": 6,
    "start_time": "2022-03-27T14:40:35.334Z"
   },
   {
    "duration": 37,
    "start_time": "2022-03-27T14:40:35.354Z"
   },
   {
    "duration": 29,
    "start_time": "2022-03-27T14:40:35.393Z"
   },
   {
    "duration": 48,
    "start_time": "2022-03-27T14:40:35.424Z"
   },
   {
    "duration": 50,
    "start_time": "2022-03-27T14:40:35.475Z"
   },
   {
    "duration": 10,
    "start_time": "2022-03-27T14:40:35.528Z"
   },
   {
    "duration": 26,
    "start_time": "2022-03-27T14:40:35.541Z"
   },
   {
    "duration": 29,
    "start_time": "2022-03-27T14:40:35.570Z"
   },
   {
    "duration": 12,
    "start_time": "2022-03-27T14:40:35.602Z"
   },
   {
    "duration": 16,
    "start_time": "2022-03-27T14:40:35.617Z"
   },
   {
    "duration": 30,
    "start_time": "2022-03-27T14:40:35.635Z"
   },
   {
    "duration": 23,
    "start_time": "2022-03-27T14:40:35.667Z"
   },
   {
    "duration": 52,
    "start_time": "2022-03-27T14:40:35.692Z"
   },
   {
    "duration": 54,
    "start_time": "2022-03-27T14:40:35.747Z"
   },
   {
    "duration": 34,
    "start_time": "2022-03-27T14:40:35.803Z"
   },
   {
    "duration": 42,
    "start_time": "2022-03-27T14:40:35.839Z"
   },
   {
    "duration": 35,
    "start_time": "2022-03-27T14:40:35.885Z"
   },
   {
    "duration": 25,
    "start_time": "2022-03-27T14:40:35.923Z"
   },
   {
    "duration": 39,
    "start_time": "2022-03-27T14:40:35.950Z"
   },
   {
    "duration": 27,
    "start_time": "2022-03-27T14:40:35.992Z"
   },
   {
    "duration": 5,
    "start_time": "2022-03-27T14:40:36.022Z"
   },
   {
    "duration": 33,
    "start_time": "2022-03-27T14:40:36.030Z"
   },
   {
    "duration": 591,
    "start_time": "2022-03-27T14:40:36.065Z"
   },
   {
    "duration": 11,
    "start_time": "2022-03-27T14:40:36.659Z"
   },
   {
    "duration": 45,
    "start_time": "2022-03-27T14:40:36.673Z"
   },
   {
    "duration": 12,
    "start_time": "2022-03-27T14:40:36.720Z"
   },
   {
    "duration": 361,
    "start_time": "2022-03-27T14:40:36.748Z"
   },
   {
    "duration": 298,
    "start_time": "2022-03-27T14:40:37.112Z"
   },
   {
    "duration": 13,
    "start_time": "2022-03-27T14:40:37.413Z"
   },
   {
    "duration": 280,
    "start_time": "2022-03-27T14:40:37.429Z"
   },
   {
    "duration": 1598,
    "start_time": "2022-03-27T14:41:23.158Z"
   },
   {
    "duration": 123,
    "start_time": "2022-03-27T14:41:24.759Z"
   },
   {
    "duration": 23,
    "start_time": "2022-03-27T14:41:24.884Z"
   },
   {
    "duration": 84,
    "start_time": "2022-03-27T14:41:24.910Z"
   },
   {
    "duration": 44,
    "start_time": "2022-03-27T14:41:24.997Z"
   },
   {
    "duration": 113,
    "start_time": "2022-03-27T14:41:25.050Z"
   },
   {
    "duration": 42,
    "start_time": "2022-03-27T14:41:25.165Z"
   },
   {
    "duration": 12,
    "start_time": "2022-03-27T14:41:25.209Z"
   },
   {
    "duration": 42,
    "start_time": "2022-03-27T14:41:25.223Z"
   },
   {
    "duration": 8,
    "start_time": "2022-03-27T14:41:25.270Z"
   },
   {
    "duration": 7,
    "start_time": "2022-03-27T14:41:25.281Z"
   },
   {
    "duration": 7,
    "start_time": "2022-03-27T14:41:25.290Z"
   },
   {
    "duration": 51,
    "start_time": "2022-03-27T14:41:25.299Z"
   },
   {
    "duration": 14,
    "start_time": "2022-03-27T14:41:25.354Z"
   },
   {
    "duration": 6,
    "start_time": "2022-03-27T14:41:25.370Z"
   },
   {
    "duration": 7,
    "start_time": "2022-03-27T14:41:25.378Z"
   },
   {
    "duration": 6,
    "start_time": "2022-03-27T14:41:25.387Z"
   },
   {
    "duration": 51,
    "start_time": "2022-03-27T14:41:25.396Z"
   },
   {
    "duration": 15,
    "start_time": "2022-03-27T14:41:25.450Z"
   },
   {
    "duration": 6,
    "start_time": "2022-03-27T14:41:25.468Z"
   },
   {
    "duration": 9,
    "start_time": "2022-03-27T14:41:25.477Z"
   },
   {
    "duration": 9,
    "start_time": "2022-03-27T14:41:25.488Z"
   },
   {
    "duration": 70,
    "start_time": "2022-03-27T14:41:25.500Z"
   },
   {
    "duration": 9,
    "start_time": "2022-03-27T14:41:25.572Z"
   },
   {
    "duration": 19,
    "start_time": "2022-03-27T14:41:25.583Z"
   },
   {
    "duration": 78,
    "start_time": "2022-03-27T14:41:25.604Z"
   },
   {
    "duration": 30,
    "start_time": "2022-03-27T14:41:25.685Z"
   },
   {
    "duration": 41,
    "start_time": "2022-03-27T14:41:25.719Z"
   },
   {
    "duration": 11,
    "start_time": "2022-03-27T14:41:25.763Z"
   },
   {
    "duration": 29,
    "start_time": "2022-03-27T14:41:25.777Z"
   },
   {
    "duration": 56,
    "start_time": "2022-03-27T14:41:25.808Z"
   },
   {
    "duration": 6,
    "start_time": "2022-03-27T14:41:25.866Z"
   },
   {
    "duration": 21,
    "start_time": "2022-03-27T14:41:25.874Z"
   },
   {
    "duration": 641,
    "start_time": "2022-03-27T14:41:25.897Z"
   },
   {
    "duration": 21,
    "start_time": "2022-03-27T14:41:26.540Z"
   },
   {
    "duration": 21,
    "start_time": "2022-03-27T14:41:26.563Z"
   },
   {
    "duration": 12,
    "start_time": "2022-03-27T14:41:26.586Z"
   },
   {
    "duration": 332,
    "start_time": "2022-03-27T14:41:26.600Z"
   },
   {
    "duration": 250,
    "start_time": "2022-03-27T14:41:26.934Z"
   },
   {
    "duration": 11,
    "start_time": "2022-03-27T14:41:27.186Z"
   },
   {
    "duration": 261,
    "start_time": "2022-03-27T14:41:27.200Z"
   },
   {
    "duration": 269,
    "start_time": "2022-03-27T14:41:52.118Z"
   },
   {
    "duration": 275,
    "start_time": "2022-03-27T14:43:22.173Z"
   },
   {
    "duration": 1850,
    "start_time": "2022-03-27T14:44:52.113Z"
   },
   {
    "duration": 111,
    "start_time": "2022-03-27T14:44:53.966Z"
   },
   {
    "duration": 22,
    "start_time": "2022-03-27T14:44:54.080Z"
   },
   {
    "duration": 74,
    "start_time": "2022-03-27T14:44:54.105Z"
   },
   {
    "duration": 67,
    "start_time": "2022-03-27T14:44:54.181Z"
   },
   {
    "duration": 122,
    "start_time": "2022-03-27T14:44:54.255Z"
   },
   {
    "duration": 71,
    "start_time": "2022-03-27T14:44:54.379Z"
   },
   {
    "duration": 18,
    "start_time": "2022-03-27T14:44:54.453Z"
   },
   {
    "duration": 16,
    "start_time": "2022-03-27T14:44:54.474Z"
   },
   {
    "duration": 7,
    "start_time": "2022-03-27T14:44:54.495Z"
   },
   {
    "duration": 16,
    "start_time": "2022-03-27T14:44:54.546Z"
   },
   {
    "duration": 12,
    "start_time": "2022-03-27T14:44:54.568Z"
   },
   {
    "duration": 6,
    "start_time": "2022-03-27T14:44:54.583Z"
   },
   {
    "duration": 8,
    "start_time": "2022-03-27T14:44:54.591Z"
   },
   {
    "duration": 5,
    "start_time": "2022-03-27T14:44:54.602Z"
   },
   {
    "duration": 41,
    "start_time": "2022-03-27T14:44:54.610Z"
   },
   {
    "duration": 23,
    "start_time": "2022-03-27T14:44:54.655Z"
   },
   {
    "duration": 5,
    "start_time": "2022-03-27T14:44:54.681Z"
   },
   {
    "duration": 14,
    "start_time": "2022-03-27T14:44:54.689Z"
   },
   {
    "duration": 7,
    "start_time": "2022-03-27T14:44:54.705Z"
   },
   {
    "duration": 35,
    "start_time": "2022-03-27T14:44:54.715Z"
   },
   {
    "duration": 15,
    "start_time": "2022-03-27T14:44:54.753Z"
   },
   {
    "duration": 22,
    "start_time": "2022-03-27T14:44:54.770Z"
   },
   {
    "duration": 8,
    "start_time": "2022-03-27T14:44:54.794Z"
   },
   {
    "duration": 64,
    "start_time": "2022-03-27T14:44:54.804Z"
   },
   {
    "duration": 31,
    "start_time": "2022-03-27T14:44:54.871Z"
   },
   {
    "duration": 64,
    "start_time": "2022-03-27T14:44:54.904Z"
   },
   {
    "duration": 22,
    "start_time": "2022-03-27T14:44:54.974Z"
   },
   {
    "duration": 11,
    "start_time": "2022-03-27T14:44:54.998Z"
   },
   {
    "duration": 55,
    "start_time": "2022-03-27T14:44:55.012Z"
   },
   {
    "duration": 29,
    "start_time": "2022-03-27T14:44:55.070Z"
   },
   {
    "duration": 7,
    "start_time": "2022-03-27T14:44:55.102Z"
   },
   {
    "duration": 52,
    "start_time": "2022-03-27T14:44:55.111Z"
   },
   {
    "duration": 706,
    "start_time": "2022-03-27T14:44:55.165Z"
   },
   {
    "duration": 14,
    "start_time": "2022-03-27T14:44:55.874Z"
   },
   {
    "duration": 22,
    "start_time": "2022-03-27T14:44:55.891Z"
   },
   {
    "duration": 29,
    "start_time": "2022-03-27T14:44:55.915Z"
   },
   {
    "duration": 316,
    "start_time": "2022-03-27T14:44:55.947Z"
   },
   {
    "duration": 234,
    "start_time": "2022-03-27T14:44:56.266Z"
   },
   {
    "duration": 14,
    "start_time": "2022-03-27T14:44:56.503Z"
   },
   {
    "duration": 299,
    "start_time": "2022-03-27T14:44:56.520Z"
   },
   {
    "duration": 409,
    "start_time": "2022-03-27T14:44:56.822Z"
   },
   {
    "duration": 1584,
    "start_time": "2022-03-27T14:49:43.407Z"
   },
   {
    "duration": 115,
    "start_time": "2022-03-27T14:49:44.993Z"
   },
   {
    "duration": 38,
    "start_time": "2022-03-27T14:49:45.110Z"
   },
   {
    "duration": 53,
    "start_time": "2022-03-27T14:49:45.152Z"
   },
   {
    "duration": 77,
    "start_time": "2022-03-27T14:49:45.208Z"
   },
   {
    "duration": 127,
    "start_time": "2022-03-27T14:49:45.288Z"
   },
   {
    "duration": 58,
    "start_time": "2022-03-27T14:49:45.417Z"
   },
   {
    "duration": 13,
    "start_time": "2022-03-27T14:49:45.477Z"
   },
   {
    "duration": 14,
    "start_time": "2022-03-27T14:49:45.492Z"
   },
   {
    "duration": 10,
    "start_time": "2022-03-27T14:49:45.547Z"
   },
   {
    "duration": 13,
    "start_time": "2022-03-27T14:49:45.560Z"
   },
   {
    "duration": 6,
    "start_time": "2022-03-27T14:49:45.575Z"
   },
   {
    "duration": 7,
    "start_time": "2022-03-27T14:49:45.583Z"
   },
   {
    "duration": 6,
    "start_time": "2022-03-27T14:49:45.592Z"
   },
   {
    "duration": 47,
    "start_time": "2022-03-27T14:49:45.600Z"
   },
   {
    "duration": 19,
    "start_time": "2022-03-27T14:49:45.650Z"
   },
   {
    "duration": 7,
    "start_time": "2022-03-27T14:49:45.671Z"
   },
   {
    "duration": 10,
    "start_time": "2022-03-27T14:49:45.680Z"
   },
   {
    "duration": 15,
    "start_time": "2022-03-27T14:49:45.692Z"
   },
   {
    "duration": 6,
    "start_time": "2022-03-27T14:49:45.709Z"
   },
   {
    "duration": 18,
    "start_time": "2022-03-27T14:49:45.748Z"
   },
   {
    "duration": 11,
    "start_time": "2022-03-27T14:49:45.768Z"
   },
   {
    "duration": 22,
    "start_time": "2022-03-27T14:49:45.781Z"
   },
   {
    "duration": 8,
    "start_time": "2022-03-27T14:49:45.805Z"
   },
   {
    "duration": 52,
    "start_time": "2022-03-27T14:49:45.815Z"
   },
   {
    "duration": 36,
    "start_time": "2022-03-27T14:49:45.870Z"
   },
   {
    "duration": 64,
    "start_time": "2022-03-27T14:49:45.908Z"
   },
   {
    "duration": 29,
    "start_time": "2022-03-27T14:49:45.978Z"
   },
   {
    "duration": 37,
    "start_time": "2022-03-27T14:49:46.010Z"
   },
   {
    "duration": 31,
    "start_time": "2022-03-27T14:49:46.050Z"
   },
   {
    "duration": 22,
    "start_time": "2022-03-27T14:49:46.083Z"
   },
   {
    "duration": 7,
    "start_time": "2022-03-27T14:49:46.107Z"
   },
   {
    "duration": 46,
    "start_time": "2022-03-27T14:49:46.116Z"
   },
   {
    "duration": 752,
    "start_time": "2022-03-27T14:49:46.165Z"
   },
   {
    "duration": 14,
    "start_time": "2022-03-27T14:49:46.920Z"
   },
   {
    "duration": 29,
    "start_time": "2022-03-27T14:49:46.949Z"
   },
   {
    "duration": 13,
    "start_time": "2022-03-27T14:49:46.981Z"
   },
   {
    "duration": 292,
    "start_time": "2022-03-27T14:49:46.997Z"
   },
   {
    "duration": 227,
    "start_time": "2022-03-27T14:49:47.292Z"
   },
   {
    "duration": 48,
    "start_time": "2022-03-27T14:49:47.522Z"
   },
   {
    "duration": 252,
    "start_time": "2022-03-27T14:49:47.573Z"
   },
   {
    "duration": 246,
    "start_time": "2022-03-27T14:49:47.827Z"
   },
   {
    "duration": 12,
    "start_time": "2022-03-27T14:49:48.075Z"
   },
   {
    "duration": 354,
    "start_time": "2022-03-27T14:49:48.089Z"
   },
   {
    "duration": 161,
    "start_time": "2022-03-27T14:49:48.454Z"
   },
   {
    "duration": 11,
    "start_time": "2022-03-27T14:49:48.617Z"
   },
   {
    "duration": 245,
    "start_time": "2022-03-27T14:49:48.649Z"
   },
   {
    "duration": 288,
    "start_time": "2022-03-27T14:49:48.897Z"
   },
   {
    "duration": 456,
    "start_time": "2022-03-27T14:49:49.187Z"
   },
   {
    "duration": 328,
    "start_time": "2022-03-27T14:49:49.645Z"
   },
   {
    "duration": 13,
    "start_time": "2022-03-27T14:49:49.976Z"
   },
   {
    "duration": 9,
    "start_time": "2022-03-27T14:49:49.991Z"
   },
   {
    "duration": 1789,
    "start_time": "2022-03-27T14:51:17.215Z"
   },
   {
    "duration": 118,
    "start_time": "2022-03-27T14:51:19.007Z"
   },
   {
    "duration": 36,
    "start_time": "2022-03-27T14:51:19.127Z"
   },
   {
    "duration": 50,
    "start_time": "2022-03-27T14:51:19.166Z"
   },
   {
    "duration": 77,
    "start_time": "2022-03-27T14:51:19.218Z"
   },
   {
    "duration": 125,
    "start_time": "2022-03-27T14:51:19.298Z"
   },
   {
    "duration": 60,
    "start_time": "2022-03-27T14:51:19.426Z"
   },
   {
    "duration": 15,
    "start_time": "2022-03-27T14:51:19.489Z"
   },
   {
    "duration": 45,
    "start_time": "2022-03-27T14:51:19.506Z"
   },
   {
    "duration": 10,
    "start_time": "2022-03-27T14:51:19.556Z"
   },
   {
    "duration": 8,
    "start_time": "2022-03-27T14:51:19.569Z"
   },
   {
    "duration": 6,
    "start_time": "2022-03-27T14:51:19.580Z"
   },
   {
    "duration": 6,
    "start_time": "2022-03-27T14:51:19.589Z"
   },
   {
    "duration": 8,
    "start_time": "2022-03-27T14:51:19.597Z"
   },
   {
    "duration": 53,
    "start_time": "2022-03-27T14:51:19.607Z"
   },
   {
    "duration": 12,
    "start_time": "2022-03-27T14:51:19.662Z"
   },
   {
    "duration": 6,
    "start_time": "2022-03-27T14:51:19.676Z"
   },
   {
    "duration": 6,
    "start_time": "2022-03-27T14:51:19.685Z"
   },
   {
    "duration": 53,
    "start_time": "2022-03-27T14:51:19.694Z"
   },
   {
    "duration": 8,
    "start_time": "2022-03-27T14:51:19.750Z"
   },
   {
    "duration": 8,
    "start_time": "2022-03-27T14:51:19.761Z"
   },
   {
    "duration": 8,
    "start_time": "2022-03-27T14:51:19.771Z"
   },
   {
    "duration": 21,
    "start_time": "2022-03-27T14:51:19.781Z"
   },
   {
    "duration": 52,
    "start_time": "2022-03-27T14:51:19.805Z"
   },
   {
    "duration": 29,
    "start_time": "2022-03-27T14:51:19.860Z"
   },
   {
    "duration": 31,
    "start_time": "2022-03-27T14:51:19.892Z"
   },
   {
    "duration": 58,
    "start_time": "2022-03-27T14:51:19.925Z"
   },
   {
    "duration": 22,
    "start_time": "2022-03-27T14:51:19.989Z"
   },
   {
    "duration": 39,
    "start_time": "2022-03-27T14:51:20.014Z"
   },
   {
    "duration": 24,
    "start_time": "2022-03-27T14:51:20.057Z"
   },
   {
    "duration": 19,
    "start_time": "2022-03-27T14:51:20.084Z"
   },
   {
    "duration": 5,
    "start_time": "2022-03-27T14:51:20.106Z"
   },
   {
    "duration": 57,
    "start_time": "2022-03-27T14:51:20.113Z"
   },
   {
    "duration": 602,
    "start_time": "2022-03-27T14:51:20.172Z"
   },
   {
    "duration": 10,
    "start_time": "2022-03-27T14:51:20.776Z"
   },
   {
    "duration": 24,
    "start_time": "2022-03-27T14:51:20.789Z"
   },
   {
    "duration": 40,
    "start_time": "2022-03-27T14:51:20.816Z"
   },
   {
    "duration": 269,
    "start_time": "2022-03-27T14:51:20.859Z"
   },
   {
    "duration": 238,
    "start_time": "2022-03-27T14:51:21.146Z"
   },
   {
    "duration": 15,
    "start_time": "2022-03-27T14:51:21.386Z"
   },
   {
    "duration": 273,
    "start_time": "2022-03-27T14:51:21.404Z"
   },
   {
    "duration": 310,
    "start_time": "2022-03-27T14:51:21.680Z"
   },
   {
    "duration": 11,
    "start_time": "2022-03-27T14:51:21.992Z"
   },
   {
    "duration": 330,
    "start_time": "2022-03-27T14:51:22.006Z"
   },
   {
    "duration": 157,
    "start_time": "2022-03-27T14:51:22.339Z"
   },
   {
    "duration": 13,
    "start_time": "2022-03-27T14:51:22.499Z"
   },
   {
    "duration": 246,
    "start_time": "2022-03-27T14:51:22.514Z"
   },
   {
    "duration": 290,
    "start_time": "2022-03-27T14:51:22.763Z"
   },
   {
    "duration": 414,
    "start_time": "2022-03-27T14:51:23.056Z"
   },
   {
    "duration": 280,
    "start_time": "2022-03-27T14:51:23.472Z"
   },
   {
    "duration": 14,
    "start_time": "2022-03-27T14:51:23.755Z"
   },
   {
    "duration": 7,
    "start_time": "2022-03-27T14:51:23.771Z"
   },
   {
    "duration": 117,
    "start_time": "2022-03-27T14:51:23.780Z"
   },
   {
    "duration": 177,
    "start_time": "2022-03-27T15:08:15.188Z"
   },
   {
    "duration": 12,
    "start_time": "2022-03-27T15:08:39.273Z"
   },
   {
    "duration": 27378,
    "start_time": "2022-03-27T15:09:00.585Z"
   },
   {
    "duration": 13,
    "start_time": "2022-03-27T15:14:26.076Z"
   },
   {
    "duration": 69,
    "start_time": "2022-03-28T19:12:09.131Z"
   },
   {
    "duration": 1834,
    "start_time": "2022-03-28T19:12:14.752Z"
   },
   {
    "duration": 104,
    "start_time": "2022-03-28T19:12:16.592Z"
   },
   {
    "duration": 24,
    "start_time": "2022-03-28T19:12:16.699Z"
   },
   {
    "duration": 67,
    "start_time": "2022-03-28T19:12:16.725Z"
   },
   {
    "duration": 43,
    "start_time": "2022-03-28T19:12:16.794Z"
   },
   {
    "duration": 111,
    "start_time": "2022-03-28T19:12:16.840Z"
   },
   {
    "duration": 50,
    "start_time": "2022-03-28T19:12:16.953Z"
   },
   {
    "duration": 13,
    "start_time": "2022-03-28T19:12:17.006Z"
   },
   {
    "duration": 13,
    "start_time": "2022-03-28T19:12:17.023Z"
   },
   {
    "duration": 32,
    "start_time": "2022-03-28T19:12:17.038Z"
   },
   {
    "duration": 11,
    "start_time": "2022-03-28T19:12:17.072Z"
   },
   {
    "duration": 7,
    "start_time": "2022-03-28T19:12:17.085Z"
   },
   {
    "duration": 6,
    "start_time": "2022-03-28T19:12:17.095Z"
   },
   {
    "duration": 7,
    "start_time": "2022-03-28T19:12:17.103Z"
   },
   {
    "duration": 59,
    "start_time": "2022-03-28T19:12:17.113Z"
   },
   {
    "duration": 9,
    "start_time": "2022-03-28T19:12:17.175Z"
   },
   {
    "duration": 7,
    "start_time": "2022-03-28T19:12:17.187Z"
   },
   {
    "duration": 7,
    "start_time": "2022-03-28T19:12:17.197Z"
   },
   {
    "duration": 60,
    "start_time": "2022-03-28T19:12:17.207Z"
   },
   {
    "duration": 6,
    "start_time": "2022-03-28T19:12:17.270Z"
   },
   {
    "duration": 9,
    "start_time": "2022-03-28T19:12:17.278Z"
   },
   {
    "duration": 7,
    "start_time": "2022-03-28T19:12:17.290Z"
   },
   {
    "duration": 21,
    "start_time": "2022-03-28T19:12:17.299Z"
   },
   {
    "duration": 7,
    "start_time": "2022-03-28T19:12:17.322Z"
   },
   {
    "duration": 20,
    "start_time": "2022-03-28T19:12:17.368Z"
   },
   {
    "duration": 31,
    "start_time": "2022-03-28T19:12:17.390Z"
   },
   {
    "duration": 62,
    "start_time": "2022-03-28T19:12:17.426Z"
   },
   {
    "duration": 21,
    "start_time": "2022-03-28T19:12:17.491Z"
   },
   {
    "duration": 9,
    "start_time": "2022-03-28T19:12:17.515Z"
   },
   {
    "duration": 41,
    "start_time": "2022-03-28T19:12:17.526Z"
   },
   {
    "duration": 19,
    "start_time": "2022-03-28T19:12:17.570Z"
   },
   {
    "duration": 6,
    "start_time": "2022-03-28T19:12:17.591Z"
   },
   {
    "duration": 21,
    "start_time": "2022-03-28T19:12:17.599Z"
   },
   {
    "duration": 536,
    "start_time": "2022-03-28T19:12:17.622Z"
   },
   {
    "duration": 15,
    "start_time": "2022-03-28T19:12:18.160Z"
   },
   {
    "duration": 21,
    "start_time": "2022-03-28T19:12:18.177Z"
   },
   {
    "duration": 11,
    "start_time": "2022-03-28T19:12:18.200Z"
   },
   {
    "duration": 276,
    "start_time": "2022-03-28T19:12:18.213Z"
   },
   {
    "duration": 217,
    "start_time": "2022-03-28T19:12:18.491Z"
   },
   {
    "duration": 11,
    "start_time": "2022-03-28T19:12:18.710Z"
   },
   {
    "duration": 251,
    "start_time": "2022-03-28T19:12:18.723Z"
   },
   {
    "duration": 227,
    "start_time": "2022-03-28T19:12:18.976Z"
   },
   {
    "duration": 11,
    "start_time": "2022-03-28T19:12:19.205Z"
   },
   {
    "duration": 300,
    "start_time": "2022-03-28T19:12:19.218Z"
   },
   {
    "duration": 167,
    "start_time": "2022-03-28T19:12:19.520Z"
   },
   {
    "duration": 11,
    "start_time": "2022-03-28T19:12:19.689Z"
   },
   {
    "duration": 216,
    "start_time": "2022-03-28T19:12:19.702Z"
   },
   {
    "duration": 254,
    "start_time": "2022-03-28T19:12:19.920Z"
   },
   {
    "duration": 381,
    "start_time": "2022-03-28T19:12:20.176Z"
   },
   {
    "duration": 266,
    "start_time": "2022-03-28T19:12:20.567Z"
   },
   {
    "duration": 11,
    "start_time": "2022-03-28T19:12:20.835Z"
   },
   {
    "duration": 7,
    "start_time": "2022-03-28T19:12:20.868Z"
   },
   {
    "duration": 45,
    "start_time": "2022-03-28T19:12:20.878Z"
   },
   {
    "duration": 44,
    "start_time": "2022-03-28T19:12:20.925Z"
   },
   {
    "duration": 24434,
    "start_time": "2022-03-28T19:12:20.971Z"
   },
   {
    "duration": 385,
    "start_time": "2022-03-28T19:16:11.999Z"
   },
   {
    "duration": 37876,
    "start_time": "2022-03-28T19:45:32.457Z"
   },
   {
    "duration": 14,
    "start_time": "2022-03-28T19:54:21.230Z"
   },
   {
    "duration": 13,
    "start_time": "2022-03-28T19:54:42.049Z"
   },
   {
    "duration": 14,
    "start_time": "2022-03-28T19:54:54.825Z"
   },
   {
    "duration": 156,
    "start_time": "2022-03-28T19:55:09.667Z"
   },
   {
    "duration": 1265,
    "start_time": "2022-03-28T19:58:37.882Z"
   },
   {
    "duration": 134,
    "start_time": "2022-03-28T20:07:51.610Z"
   },
   {
    "duration": 147,
    "start_time": "2022-03-28T20:07:55.499Z"
   },
   {
    "duration": 230,
    "start_time": "2022-03-28T20:09:12.237Z"
   },
   {
    "duration": 246,
    "start_time": "2022-03-28T20:18:45.477Z"
   },
   {
    "duration": 488,
    "start_time": "2022-03-28T20:19:08.501Z"
   },
   {
    "duration": 1526,
    "start_time": "2022-03-28T20:20:30.962Z"
   },
   {
    "duration": 100,
    "start_time": "2022-03-28T20:20:32.491Z"
   },
   {
    "duration": 23,
    "start_time": "2022-03-28T20:20:32.593Z"
   },
   {
    "duration": 67,
    "start_time": "2022-03-28T20:20:32.618Z"
   },
   {
    "duration": 44,
    "start_time": "2022-03-28T20:20:32.689Z"
   },
   {
    "duration": 124,
    "start_time": "2022-03-28T20:20:32.736Z"
   },
   {
    "duration": 37,
    "start_time": "2022-03-28T20:20:32.867Z"
   },
   {
    "duration": 14,
    "start_time": "2022-03-28T20:20:32.906Z"
   },
   {
    "duration": 13,
    "start_time": "2022-03-28T20:20:32.922Z"
   },
   {
    "duration": 6,
    "start_time": "2022-03-28T20:20:32.968Z"
   },
   {
    "duration": 9,
    "start_time": "2022-03-28T20:20:32.977Z"
   },
   {
    "duration": 8,
    "start_time": "2022-03-28T20:20:32.988Z"
   },
   {
    "duration": 7,
    "start_time": "2022-03-28T20:20:32.998Z"
   },
   {
    "duration": 7,
    "start_time": "2022-03-28T20:20:33.010Z"
   },
   {
    "duration": 49,
    "start_time": "2022-03-28T20:20:33.019Z"
   },
   {
    "duration": 9,
    "start_time": "2022-03-28T20:20:33.071Z"
   },
   {
    "duration": 6,
    "start_time": "2022-03-28T20:20:33.082Z"
   },
   {
    "duration": 6,
    "start_time": "2022-03-28T20:20:33.090Z"
   },
   {
    "duration": 12,
    "start_time": "2022-03-28T20:20:33.098Z"
   },
   {
    "duration": 5,
    "start_time": "2022-03-28T20:20:33.112Z"
   },
   {
    "duration": 54,
    "start_time": "2022-03-28T20:20:33.119Z"
   },
   {
    "duration": 7,
    "start_time": "2022-03-28T20:20:33.176Z"
   },
   {
    "duration": 22,
    "start_time": "2022-03-28T20:20:33.185Z"
   },
   {
    "duration": 9,
    "start_time": "2022-03-28T20:20:33.210Z"
   },
   {
    "duration": 63,
    "start_time": "2022-03-28T20:20:33.221Z"
   },
   {
    "duration": 33,
    "start_time": "2022-03-28T20:20:33.286Z"
   },
   {
    "duration": 62,
    "start_time": "2022-03-28T20:20:33.322Z"
   },
   {
    "duration": 23,
    "start_time": "2022-03-28T20:20:33.386Z"
   },
   {
    "duration": 11,
    "start_time": "2022-03-28T20:20:33.411Z"
   },
   {
    "duration": 19,
    "start_time": "2022-03-28T20:20:33.425Z"
   },
   {
    "duration": 20,
    "start_time": "2022-03-28T20:20:33.467Z"
   },
   {
    "duration": 6,
    "start_time": "2022-03-28T20:20:33.490Z"
   },
   {
    "duration": 19,
    "start_time": "2022-03-28T20:20:33.499Z"
   },
   {
    "duration": 549,
    "start_time": "2022-03-28T20:20:33.520Z"
   },
   {
    "duration": 10,
    "start_time": "2022-03-28T20:20:34.072Z"
   },
   {
    "duration": 21,
    "start_time": "2022-03-28T20:20:34.084Z"
   },
   {
    "duration": 11,
    "start_time": "2022-03-28T20:20:34.108Z"
   },
   {
    "duration": 271,
    "start_time": "2022-03-28T20:20:34.121Z"
   },
   {
    "duration": 241,
    "start_time": "2022-03-28T20:20:34.395Z"
   },
   {
    "duration": 11,
    "start_time": "2022-03-28T20:20:34.639Z"
   },
   {
    "duration": 253,
    "start_time": "2022-03-28T20:20:34.656Z"
   },
   {
    "duration": 226,
    "start_time": "2022-03-28T20:20:34.911Z"
   },
   {
    "duration": 12,
    "start_time": "2022-03-28T20:20:35.139Z"
   },
   {
    "duration": 299,
    "start_time": "2022-03-28T20:20:35.168Z"
   },
   {
    "duration": 157,
    "start_time": "2022-03-28T20:20:35.470Z"
   },
   {
    "duration": 12,
    "start_time": "2022-03-28T20:20:35.628Z"
   },
   {
    "duration": 227,
    "start_time": "2022-03-28T20:20:35.643Z"
   },
   {
    "duration": 246,
    "start_time": "2022-03-28T20:20:35.872Z"
   },
   {
    "duration": 478,
    "start_time": "2022-03-28T20:20:36.120Z"
   },
   {
    "duration": 277,
    "start_time": "2022-03-28T20:20:36.601Z"
   },
   {
    "duration": 13,
    "start_time": "2022-03-28T20:20:36.881Z"
   },
   {
    "duration": 9,
    "start_time": "2022-03-28T20:20:36.897Z"
   },
   {
    "duration": 202,
    "start_time": "2022-03-28T20:20:36.909Z"
   },
   {
    "duration": 229,
    "start_time": "2022-03-28T20:20:37.113Z"
   },
   {
    "duration": 234,
    "start_time": "2022-03-28T20:20:37.344Z"
   },
   {
    "duration": 618,
    "start_time": "2022-03-28T20:20:37.580Z"
   },
   {
    "duration": 87,
    "start_time": "2022-03-28T20:20:38.200Z"
   },
   {
    "duration": 1543,
    "start_time": "2022-03-28T20:24:09.847Z"
   },
   {
    "duration": 95,
    "start_time": "2022-03-28T20:24:11.393Z"
   },
   {
    "duration": 27,
    "start_time": "2022-03-28T20:24:11.490Z"
   },
   {
    "duration": 66,
    "start_time": "2022-03-28T20:24:11.520Z"
   },
   {
    "duration": 43,
    "start_time": "2022-03-28T20:24:11.589Z"
   },
   {
    "duration": 114,
    "start_time": "2022-03-28T20:24:11.635Z"
   },
   {
    "duration": 37,
    "start_time": "2022-03-28T20:24:11.766Z"
   },
   {
    "duration": 12,
    "start_time": "2022-03-28T20:24:11.806Z"
   },
   {
    "duration": 13,
    "start_time": "2022-03-28T20:24:11.820Z"
   },
   {
    "duration": 6,
    "start_time": "2022-03-28T20:24:11.867Z"
   },
   {
    "duration": 20,
    "start_time": "2022-03-28T20:24:11.875Z"
   },
   {
    "duration": 36,
    "start_time": "2022-03-28T20:24:11.897Z"
   },
   {
    "duration": 29,
    "start_time": "2022-03-28T20:24:11.936Z"
   },
   {
    "duration": 41,
    "start_time": "2022-03-28T20:24:11.967Z"
   },
   {
    "duration": 34,
    "start_time": "2022-03-28T20:24:12.010Z"
   },
   {
    "duration": 37,
    "start_time": "2022-03-28T20:24:12.046Z"
   },
   {
    "duration": 44,
    "start_time": "2022-03-28T20:24:12.085Z"
   },
   {
    "duration": 24,
    "start_time": "2022-03-28T20:24:12.131Z"
   },
   {
    "duration": 28,
    "start_time": "2022-03-28T20:24:12.157Z"
   },
   {
    "duration": 52,
    "start_time": "2022-03-28T20:24:12.188Z"
   },
   {
    "duration": 33,
    "start_time": "2022-03-28T20:24:12.242Z"
   },
   {
    "duration": 25,
    "start_time": "2022-03-28T20:24:12.276Z"
   },
   {
    "duration": 61,
    "start_time": "2022-03-28T20:24:12.303Z"
   },
   {
    "duration": 13,
    "start_time": "2022-03-28T20:24:12.366Z"
   },
   {
    "duration": 39,
    "start_time": "2022-03-28T20:24:12.381Z"
   },
   {
    "duration": 51,
    "start_time": "2022-03-28T20:24:12.422Z"
   },
   {
    "duration": 32,
    "start_time": "2022-03-28T20:24:12.476Z"
   },
   {
    "duration": 26,
    "start_time": "2022-03-28T20:24:12.515Z"
   },
   {
    "duration": 27,
    "start_time": "2022-03-28T20:24:12.543Z"
   },
   {
    "duration": 53,
    "start_time": "2022-03-28T20:24:12.572Z"
   },
   {
    "duration": 47,
    "start_time": "2022-03-28T20:24:12.628Z"
   },
   {
    "duration": 17,
    "start_time": "2022-03-28T20:24:12.678Z"
   },
   {
    "duration": 51,
    "start_time": "2022-03-28T20:24:12.697Z"
   },
   {
    "duration": 532,
    "start_time": "2022-03-28T20:24:12.750Z"
   },
   {
    "duration": 11,
    "start_time": "2022-03-28T20:24:13.284Z"
   },
   {
    "duration": 57,
    "start_time": "2022-03-28T20:24:13.297Z"
   },
   {
    "duration": 24,
    "start_time": "2022-03-28T20:24:13.356Z"
   },
   {
    "duration": 281,
    "start_time": "2022-03-28T20:24:13.382Z"
   },
   {
    "duration": 223,
    "start_time": "2022-03-28T20:24:13.665Z"
   },
   {
    "duration": 11,
    "start_time": "2022-03-28T20:24:13.890Z"
   },
   {
    "duration": 258,
    "start_time": "2022-03-28T20:24:13.903Z"
   },
   {
    "duration": 234,
    "start_time": "2022-03-28T20:24:14.167Z"
   },
   {
    "duration": 11,
    "start_time": "2022-03-28T20:24:14.403Z"
   },
   {
    "duration": 303,
    "start_time": "2022-03-28T20:24:14.417Z"
   },
   {
    "duration": 160,
    "start_time": "2022-03-28T20:24:14.722Z"
   },
   {
    "duration": 12,
    "start_time": "2022-03-28T20:24:14.884Z"
   },
   {
    "duration": 236,
    "start_time": "2022-03-28T20:24:14.898Z"
   },
   {
    "duration": 259,
    "start_time": "2022-03-28T20:24:15.136Z"
   },
   {
    "duration": 418,
    "start_time": "2022-03-28T20:24:15.397Z"
   },
   {
    "duration": 282,
    "start_time": "2022-03-28T20:24:15.817Z"
   },
   {
    "duration": 11,
    "start_time": "2022-03-28T20:24:16.101Z"
   },
   {
    "duration": 7,
    "start_time": "2022-03-28T20:24:16.114Z"
   },
   {
    "duration": 204,
    "start_time": "2022-03-28T20:24:16.123Z"
   },
   {
    "duration": 238,
    "start_time": "2022-03-28T20:24:16.329Z"
   },
   {
    "duration": 216,
    "start_time": "2022-03-28T20:24:16.570Z"
   },
   {
    "duration": 508,
    "start_time": "2022-03-28T20:24:16.789Z"
   },
   {
    "duration": 80,
    "start_time": "2022-03-28T20:24:17.299Z"
   },
   {
    "duration": 142,
    "start_time": "2022-03-28T20:29:57.844Z"
   },
   {
    "duration": 215,
    "start_time": "2022-03-28T20:30:07.027Z"
   },
   {
    "duration": 27,
    "start_time": "2022-03-28T20:40:09.046Z"
   },
   {
    "duration": 660,
    "start_time": "2022-03-28T20:41:51.559Z"
   },
   {
    "duration": 38,
    "start_time": "2022-03-28T21:06:46.058Z"
   },
   {
    "duration": 35,
    "start_time": "2022-03-28T21:09:43.271Z"
   },
   {
    "duration": 38,
    "start_time": "2022-03-28T21:14:06.003Z"
   },
   {
    "duration": 1483,
    "start_time": "2022-03-28T21:14:31.882Z"
   },
   {
    "duration": 102,
    "start_time": "2022-03-28T21:14:33.368Z"
   },
   {
    "duration": 24,
    "start_time": "2022-03-28T21:14:33.472Z"
   },
   {
    "duration": 71,
    "start_time": "2022-03-28T21:14:33.499Z"
   },
   {
    "duration": 45,
    "start_time": "2022-03-28T21:14:33.572Z"
   },
   {
    "duration": 116,
    "start_time": "2022-03-28T21:14:33.619Z"
   },
   {
    "duration": 47,
    "start_time": "2022-03-28T21:14:33.738Z"
   },
   {
    "duration": 13,
    "start_time": "2022-03-28T21:14:33.787Z"
   },
   {
    "duration": 13,
    "start_time": "2022-03-28T21:14:33.802Z"
   },
   {
    "duration": 6,
    "start_time": "2022-03-28T21:14:33.819Z"
   },
   {
    "duration": 44,
    "start_time": "2022-03-28T21:14:33.827Z"
   },
   {
    "duration": 5,
    "start_time": "2022-03-28T21:14:33.873Z"
   },
   {
    "duration": 7,
    "start_time": "2022-03-28T21:14:33.881Z"
   },
   {
    "duration": 9,
    "start_time": "2022-03-28T21:14:33.890Z"
   },
   {
    "duration": 6,
    "start_time": "2022-03-28T21:14:33.901Z"
   },
   {
    "duration": 58,
    "start_time": "2022-03-28T21:14:33.910Z"
   },
   {
    "duration": 7,
    "start_time": "2022-03-28T21:14:33.970Z"
   },
   {
    "duration": 6,
    "start_time": "2022-03-28T21:14:33.980Z"
   },
   {
    "duration": 12,
    "start_time": "2022-03-28T21:14:33.989Z"
   },
   {
    "duration": 6,
    "start_time": "2022-03-28T21:14:34.003Z"
   },
   {
    "duration": 61,
    "start_time": "2022-03-28T21:14:34.012Z"
   },
   {
    "duration": 7,
    "start_time": "2022-03-28T21:14:34.075Z"
   },
   {
    "duration": 21,
    "start_time": "2022-03-28T21:14:34.085Z"
   },
   {
    "duration": 8,
    "start_time": "2022-03-28T21:14:34.108Z"
   },
   {
    "duration": 60,
    "start_time": "2022-03-28T21:14:34.119Z"
   },
   {
    "duration": 32,
    "start_time": "2022-03-28T21:14:34.182Z"
   },
   {
    "duration": 54,
    "start_time": "2022-03-28T21:14:34.216Z"
   },
   {
    "duration": 22,
    "start_time": "2022-03-28T21:14:34.276Z"
   },
   {
    "duration": 11,
    "start_time": "2022-03-28T21:14:34.300Z"
   },
   {
    "duration": 21,
    "start_time": "2022-03-28T21:14:34.313Z"
   },
   {
    "duration": 44,
    "start_time": "2022-03-28T21:14:34.337Z"
   },
   {
    "duration": 6,
    "start_time": "2022-03-28T21:14:34.384Z"
   },
   {
    "duration": 18,
    "start_time": "2022-03-28T21:14:34.392Z"
   },
   {
    "duration": 556,
    "start_time": "2022-03-28T21:14:34.412Z"
   },
   {
    "duration": 11,
    "start_time": "2022-03-28T21:14:34.970Z"
   },
   {
    "duration": 22,
    "start_time": "2022-03-28T21:14:34.983Z"
   },
   {
    "duration": 12,
    "start_time": "2022-03-28T21:14:35.007Z"
   },
   {
    "duration": 290,
    "start_time": "2022-03-28T21:14:35.021Z"
   },
   {
    "duration": 227,
    "start_time": "2022-03-28T21:14:35.313Z"
   },
   {
    "duration": 11,
    "start_time": "2022-03-28T21:14:35.542Z"
   },
   {
    "duration": 245,
    "start_time": "2022-03-28T21:14:35.555Z"
   },
   {
    "duration": 242,
    "start_time": "2022-03-28T21:14:35.802Z"
   },
   {
    "duration": 23,
    "start_time": "2022-03-28T21:14:36.047Z"
   },
   {
    "duration": 323,
    "start_time": "2022-03-28T21:14:36.072Z"
   },
   {
    "duration": 158,
    "start_time": "2022-03-28T21:14:36.397Z"
   },
   {
    "duration": 16,
    "start_time": "2022-03-28T21:14:36.557Z"
   },
   {
    "duration": 237,
    "start_time": "2022-03-28T21:14:36.575Z"
   },
   {
    "duration": 259,
    "start_time": "2022-03-28T21:14:36.814Z"
   },
   {
    "duration": 410,
    "start_time": "2022-03-28T21:14:37.076Z"
   },
   {
    "duration": 276,
    "start_time": "2022-03-28T21:14:37.488Z"
   },
   {
    "duration": 11,
    "start_time": "2022-03-28T21:14:37.768Z"
   },
   {
    "duration": 8,
    "start_time": "2022-03-28T21:14:37.782Z"
   },
   {
    "duration": 203,
    "start_time": "2022-03-28T21:14:37.792Z"
   },
   {
    "duration": 233,
    "start_time": "2022-03-28T21:14:37.997Z"
   },
   {
    "duration": 225,
    "start_time": "2022-03-28T21:14:38.232Z"
   },
   {
    "duration": 495,
    "start_time": "2022-03-28T21:14:38.460Z"
   },
   {
    "duration": 60,
    "start_time": "2022-03-28T21:14:38.957Z"
   },
   {
    "duration": 253,
    "start_time": "2022-03-28T21:14:39.019Z"
   },
   {
    "duration": 682,
    "start_time": "2022-03-28T21:14:39.274Z"
   },
   {
    "duration": 41,
    "start_time": "2022-03-28T21:14:39.959Z"
   },
   {
    "duration": 160,
    "start_time": "2022-03-28T21:17:52.695Z"
   },
   {
    "duration": 25,
    "start_time": "2022-03-28T21:18:21.378Z"
   },
   {
    "duration": 29,
    "start_time": "2022-03-28T21:18:45.145Z"
   },
   {
    "duration": 19,
    "start_time": "2022-03-28T21:20:38.502Z"
   },
   {
    "duration": 35,
    "start_time": "2022-03-28T21:21:10.101Z"
   },
   {
    "duration": 35,
    "start_time": "2022-03-28T21:21:52.213Z"
   },
   {
    "duration": 12,
    "start_time": "2022-03-28T21:22:28.045Z"
   },
   {
    "duration": 12,
    "start_time": "2022-03-28T21:24:12.824Z"
   },
   {
    "duration": 1258,
    "start_time": "2022-03-29T18:55:59.791Z"
   },
   {
    "duration": 74,
    "start_time": "2022-03-29T18:56:01.051Z"
   },
   {
    "duration": 15,
    "start_time": "2022-03-29T18:56:01.127Z"
   },
   {
    "duration": 42,
    "start_time": "2022-03-29T18:56:01.144Z"
   },
   {
    "duration": 27,
    "start_time": "2022-03-29T18:56:01.188Z"
   },
   {
    "duration": 76,
    "start_time": "2022-03-29T18:56:01.217Z"
   },
   {
    "duration": 25,
    "start_time": "2022-03-29T18:56:01.295Z"
   },
   {
    "duration": 10,
    "start_time": "2022-03-29T18:56:01.321Z"
   },
   {
    "duration": 30,
    "start_time": "2022-03-29T18:56:01.333Z"
   },
   {
    "duration": 5,
    "start_time": "2022-03-29T18:56:01.366Z"
   },
   {
    "duration": 18,
    "start_time": "2022-03-29T18:56:01.372Z"
   },
   {
    "duration": 15,
    "start_time": "2022-03-29T18:56:01.392Z"
   },
   {
    "duration": 15,
    "start_time": "2022-03-29T18:56:01.409Z"
   },
   {
    "duration": 14,
    "start_time": "2022-03-29T18:56:01.426Z"
   },
   {
    "duration": 14,
    "start_time": "2022-03-29T18:56:01.442Z"
   },
   {
    "duration": 12,
    "start_time": "2022-03-29T18:56:01.458Z"
   },
   {
    "duration": 11,
    "start_time": "2022-03-29T18:56:01.472Z"
   },
   {
    "duration": 8,
    "start_time": "2022-03-29T18:56:01.485Z"
   },
   {
    "duration": 19,
    "start_time": "2022-03-29T18:56:01.494Z"
   },
   {
    "duration": 5,
    "start_time": "2022-03-29T18:56:01.515Z"
   },
   {
    "duration": 11,
    "start_time": "2022-03-29T18:56:01.522Z"
   },
   {
    "duration": 11,
    "start_time": "2022-03-29T18:56:01.535Z"
   },
   {
    "duration": 17,
    "start_time": "2022-03-29T18:56:01.547Z"
   },
   {
    "duration": 9,
    "start_time": "2022-03-29T18:56:01.566Z"
   },
   {
    "duration": 25,
    "start_time": "2022-03-29T18:56:01.577Z"
   },
   {
    "duration": 22,
    "start_time": "2022-03-29T18:56:01.604Z"
   },
   {
    "duration": 23,
    "start_time": "2022-03-29T18:56:01.628Z"
   },
   {
    "duration": 14,
    "start_time": "2022-03-29T18:56:01.664Z"
   },
   {
    "duration": 9,
    "start_time": "2022-03-29T18:56:01.680Z"
   },
   {
    "duration": 27,
    "start_time": "2022-03-29T18:56:01.691Z"
   },
   {
    "duration": 18,
    "start_time": "2022-03-29T18:56:01.719Z"
   },
   {
    "duration": 9,
    "start_time": "2022-03-29T18:56:01.739Z"
   },
   {
    "duration": 20,
    "start_time": "2022-03-29T18:56:01.750Z"
   },
   {
    "duration": 309,
    "start_time": "2022-03-29T18:56:01.772Z"
   },
   {
    "duration": 9,
    "start_time": "2022-03-29T18:56:02.083Z"
   },
   {
    "duration": 21,
    "start_time": "2022-03-29T18:56:02.094Z"
   },
   {
    "duration": 10,
    "start_time": "2022-03-29T18:56:02.117Z"
   },
   {
    "duration": 171,
    "start_time": "2022-03-29T18:56:02.128Z"
   },
   {
    "duration": 131,
    "start_time": "2022-03-29T18:56:02.300Z"
   },
   {
    "duration": 9,
    "start_time": "2022-03-29T18:56:02.433Z"
   },
   {
    "duration": 144,
    "start_time": "2022-03-29T18:56:02.444Z"
   },
   {
    "duration": 127,
    "start_time": "2022-03-29T18:56:02.590Z"
   },
   {
    "duration": 7,
    "start_time": "2022-03-29T18:56:02.719Z"
   },
   {
    "duration": 203,
    "start_time": "2022-03-29T18:56:02.728Z"
   },
   {
    "duration": 87,
    "start_time": "2022-03-29T18:56:02.933Z"
   },
   {
    "duration": 8,
    "start_time": "2022-03-29T18:56:03.021Z"
   },
   {
    "duration": 127,
    "start_time": "2022-03-29T18:56:03.030Z"
   },
   {
    "duration": 153,
    "start_time": "2022-03-29T18:56:03.159Z"
   },
   {
    "duration": 222,
    "start_time": "2022-03-29T18:56:03.313Z"
   },
   {
    "duration": 158,
    "start_time": "2022-03-29T18:56:03.537Z"
   },
   {
    "duration": 8,
    "start_time": "2022-03-29T18:56:03.696Z"
   },
   {
    "duration": 5,
    "start_time": "2022-03-29T18:56:03.705Z"
   },
   {
    "duration": 120,
    "start_time": "2022-03-29T18:56:03.712Z"
   },
   {
    "duration": 132,
    "start_time": "2022-03-29T18:56:03.834Z"
   },
   {
    "duration": 134,
    "start_time": "2022-03-29T18:56:03.968Z"
   },
   {
    "duration": 276,
    "start_time": "2022-03-29T18:56:04.104Z"
   },
   {
    "duration": 37,
    "start_time": "2022-03-29T18:56:04.381Z"
   },
   {
    "duration": 163,
    "start_time": "2022-03-29T18:56:04.420Z"
   },
   {
    "duration": 675,
    "start_time": "2022-03-29T18:56:04.585Z"
   },
   {
    "duration": 37,
    "start_time": "2022-03-29T18:56:05.263Z"
   },
   {
    "duration": 10,
    "start_time": "2022-03-29T18:56:05.302Z"
   },
   {
    "duration": 13,
    "start_time": "2022-03-29T18:56:05.314Z"
   },
   {
    "duration": 117,
    "start_time": "2022-03-29T19:19:12.315Z"
   },
   {
    "duration": 25,
    "start_time": "2022-03-29T19:19:30.406Z"
   },
   {
    "duration": 23,
    "start_time": "2022-03-29T19:20:50.052Z"
   },
   {
    "duration": 24,
    "start_time": "2022-03-29T19:21:13.275Z"
   },
   {
    "duration": 10,
    "start_time": "2022-03-29T19:29:36.423Z"
   },
   {
    "duration": 17,
    "start_time": "2022-03-29T19:32:32.172Z"
   },
   {
    "duration": 12,
    "start_time": "2022-03-29T19:32:54.042Z"
   },
   {
    "duration": 1123,
    "start_time": "2022-03-29T19:33:10.916Z"
   },
   {
    "duration": 70,
    "start_time": "2022-03-29T19:33:12.040Z"
   },
   {
    "duration": 14,
    "start_time": "2022-03-29T19:33:12.111Z"
   },
   {
    "duration": 40,
    "start_time": "2022-03-29T19:33:12.127Z"
   },
   {
    "duration": 25,
    "start_time": "2022-03-29T19:33:12.168Z"
   },
   {
    "duration": 70,
    "start_time": "2022-03-29T19:33:12.194Z"
   },
   {
    "duration": 25,
    "start_time": "2022-03-29T19:33:12.266Z"
   },
   {
    "duration": 8,
    "start_time": "2022-03-29T19:33:12.292Z"
   },
   {
    "duration": 9,
    "start_time": "2022-03-29T19:33:12.301Z"
   },
   {
    "duration": 3,
    "start_time": "2022-03-29T19:33:12.313Z"
   },
   {
    "duration": 8,
    "start_time": "2022-03-29T19:33:12.317Z"
   },
   {
    "duration": 5,
    "start_time": "2022-03-29T19:33:12.327Z"
   },
   {
    "duration": 30,
    "start_time": "2022-03-29T19:33:12.333Z"
   },
   {
    "duration": 6,
    "start_time": "2022-03-29T19:33:12.365Z"
   },
   {
    "duration": 6,
    "start_time": "2022-03-29T19:33:12.372Z"
   },
   {
    "duration": 6,
    "start_time": "2022-03-29T19:33:12.379Z"
   },
   {
    "duration": 4,
    "start_time": "2022-03-29T19:33:12.387Z"
   },
   {
    "duration": 4,
    "start_time": "2022-03-29T19:33:12.392Z"
   },
   {
    "duration": 7,
    "start_time": "2022-03-29T19:33:12.398Z"
   },
   {
    "duration": 3,
    "start_time": "2022-03-29T19:33:12.407Z"
   },
   {
    "duration": 7,
    "start_time": "2022-03-29T19:33:12.412Z"
   },
   {
    "duration": 44,
    "start_time": "2022-03-29T19:33:12.420Z"
   },
   {
    "duration": 14,
    "start_time": "2022-03-29T19:33:12.465Z"
   },
   {
    "duration": 5,
    "start_time": "2022-03-29T19:33:12.481Z"
   },
   {
    "duration": 15,
    "start_time": "2022-03-29T19:33:12.487Z"
   },
   {
    "duration": 21,
    "start_time": "2022-03-29T19:33:12.504Z"
   },
   {
    "duration": 53,
    "start_time": "2022-03-29T19:33:12.526Z"
   },
   {
    "duration": 12,
    "start_time": "2022-03-29T19:33:12.583Z"
   },
   {
    "duration": 6,
    "start_time": "2022-03-29T19:33:12.597Z"
   },
   {
    "duration": 16,
    "start_time": "2022-03-29T19:33:12.605Z"
   },
   {
    "duration": 13,
    "start_time": "2022-03-29T19:33:12.622Z"
   },
   {
    "duration": 4,
    "start_time": "2022-03-29T19:33:12.636Z"
   },
   {
    "duration": 28,
    "start_time": "2022-03-29T19:33:12.641Z"
   },
   {
    "duration": 306,
    "start_time": "2022-03-29T19:33:12.670Z"
   },
   {
    "duration": 8,
    "start_time": "2022-03-29T19:33:12.977Z"
   },
   {
    "duration": 21,
    "start_time": "2022-03-29T19:33:12.986Z"
   },
   {
    "duration": 9,
    "start_time": "2022-03-29T19:33:13.009Z"
   },
   {
    "duration": 164,
    "start_time": "2022-03-29T19:33:13.019Z"
   },
   {
    "duration": 143,
    "start_time": "2022-03-29T19:33:13.185Z"
   },
   {
    "duration": 8,
    "start_time": "2022-03-29T19:33:13.330Z"
   },
   {
    "duration": 141,
    "start_time": "2022-03-29T19:33:13.339Z"
   },
   {
    "duration": 133,
    "start_time": "2022-03-29T19:33:13.482Z"
   },
   {
    "duration": 7,
    "start_time": "2022-03-29T19:33:13.617Z"
   },
   {
    "duration": 210,
    "start_time": "2022-03-29T19:33:13.625Z"
   },
   {
    "duration": 88,
    "start_time": "2022-03-29T19:33:13.837Z"
   },
   {
    "duration": 7,
    "start_time": "2022-03-29T19:33:13.926Z"
   },
   {
    "duration": 129,
    "start_time": "2022-03-29T19:33:13.935Z"
   },
   {
    "duration": 146,
    "start_time": "2022-03-29T19:33:14.066Z"
   },
   {
    "duration": 215,
    "start_time": "2022-03-29T19:33:14.213Z"
   },
   {
    "duration": 157,
    "start_time": "2022-03-29T19:33:14.430Z"
   },
   {
    "duration": 7,
    "start_time": "2022-03-29T19:33:14.589Z"
   },
   {
    "duration": 8,
    "start_time": "2022-03-29T19:33:14.597Z"
   },
   {
    "duration": 116,
    "start_time": "2022-03-29T19:33:14.606Z"
   },
   {
    "duration": 135,
    "start_time": "2022-03-29T19:33:14.724Z"
   },
   {
    "duration": 128,
    "start_time": "2022-03-29T19:33:14.863Z"
   },
   {
    "duration": 278,
    "start_time": "2022-03-29T19:33:14.992Z"
   },
   {
    "duration": 32,
    "start_time": "2022-03-29T19:33:15.272Z"
   },
   {
    "duration": 148,
    "start_time": "2022-03-29T19:33:15.306Z"
   },
   {
    "duration": 418,
    "start_time": "2022-03-29T19:33:15.462Z"
   },
   {
    "duration": 23,
    "start_time": "2022-03-29T19:33:15.882Z"
   },
   {
    "duration": 12,
    "start_time": "2022-03-29T19:33:15.906Z"
   },
   {
    "duration": 89,
    "start_time": "2022-03-29T19:38:10.100Z"
   },
   {
    "duration": 12,
    "start_time": "2022-03-29T19:40:44.525Z"
   },
   {
    "duration": 7,
    "start_time": "2022-03-29T19:43:44.208Z"
   },
   {
    "duration": 9,
    "start_time": "2022-03-29T19:44:39.154Z"
   },
   {
    "duration": 12,
    "start_time": "2022-03-29T19:49:19.640Z"
   },
   {
    "duration": 1280,
    "start_time": "2022-03-30T12:17:23.006Z"
   },
   {
    "duration": 82,
    "start_time": "2022-03-30T12:17:24.288Z"
   },
   {
    "duration": 16,
    "start_time": "2022-03-30T12:17:24.371Z"
   },
   {
    "duration": 32,
    "start_time": "2022-03-30T12:17:24.388Z"
   },
   {
    "duration": 46,
    "start_time": "2022-03-30T12:17:24.421Z"
   },
   {
    "duration": 69,
    "start_time": "2022-03-30T12:17:24.468Z"
   },
   {
    "duration": 37,
    "start_time": "2022-03-30T12:17:24.538Z"
   },
   {
    "duration": 9,
    "start_time": "2022-03-30T12:17:24.576Z"
   },
   {
    "duration": 9,
    "start_time": "2022-03-30T12:17:24.586Z"
   },
   {
    "duration": 5,
    "start_time": "2022-03-30T12:17:24.596Z"
   },
   {
    "duration": 7,
    "start_time": "2022-03-30T12:17:24.602Z"
   },
   {
    "duration": 5,
    "start_time": "2022-03-30T12:17:24.611Z"
   },
   {
    "duration": 10,
    "start_time": "2022-03-30T12:17:24.617Z"
   },
   {
    "duration": 36,
    "start_time": "2022-03-30T12:17:24.630Z"
   },
   {
    "duration": 8,
    "start_time": "2022-03-30T12:17:24.672Z"
   },
   {
    "duration": 10,
    "start_time": "2022-03-30T12:17:24.681Z"
   },
   {
    "duration": 8,
    "start_time": "2022-03-30T12:17:24.692Z"
   },
   {
    "duration": 6,
    "start_time": "2022-03-30T12:17:24.702Z"
   },
   {
    "duration": 8,
    "start_time": "2022-03-30T12:17:24.709Z"
   },
   {
    "duration": 4,
    "start_time": "2022-03-30T12:17:24.719Z"
   },
   {
    "duration": 9,
    "start_time": "2022-03-30T12:17:24.724Z"
   },
   {
    "duration": 29,
    "start_time": "2022-03-30T12:17:24.735Z"
   },
   {
    "duration": 15,
    "start_time": "2022-03-30T12:17:24.765Z"
   },
   {
    "duration": 6,
    "start_time": "2022-03-30T12:17:24.781Z"
   },
   {
    "duration": 18,
    "start_time": "2022-03-30T12:17:24.788Z"
   },
   {
    "duration": 21,
    "start_time": "2022-03-30T12:17:24.807Z"
   },
   {
    "duration": 44,
    "start_time": "2022-03-30T12:17:24.829Z"
   },
   {
    "duration": 14,
    "start_time": "2022-03-30T12:17:24.875Z"
   },
   {
    "duration": 7,
    "start_time": "2022-03-30T12:17:24.890Z"
   },
   {
    "duration": 15,
    "start_time": "2022-03-30T12:17:24.898Z"
   },
   {
    "duration": 14,
    "start_time": "2022-03-30T12:17:24.914Z"
   },
   {
    "duration": 4,
    "start_time": "2022-03-30T12:17:24.930Z"
   },
   {
    "duration": 37,
    "start_time": "2022-03-30T12:17:24.936Z"
   },
   {
    "duration": 309,
    "start_time": "2022-03-30T12:17:24.975Z"
   },
   {
    "duration": 8,
    "start_time": "2022-03-30T12:17:25.285Z"
   },
   {
    "duration": 18,
    "start_time": "2022-03-30T12:17:25.294Z"
   },
   {
    "duration": 8,
    "start_time": "2022-03-30T12:17:25.313Z"
   },
   {
    "duration": 167,
    "start_time": "2022-03-30T12:17:25.323Z"
   },
   {
    "duration": 140,
    "start_time": "2022-03-30T12:17:25.491Z"
   },
   {
    "duration": 8,
    "start_time": "2022-03-30T12:17:25.633Z"
   },
   {
    "duration": 145,
    "start_time": "2022-03-30T12:17:25.645Z"
   },
   {
    "duration": 132,
    "start_time": "2022-03-30T12:17:25.792Z"
   },
   {
    "duration": 8,
    "start_time": "2022-03-30T12:17:25.926Z"
   },
   {
    "duration": 218,
    "start_time": "2022-03-30T12:17:25.935Z"
   },
   {
    "duration": 84,
    "start_time": "2022-03-30T12:17:26.155Z"
   },
   {
    "duration": 22,
    "start_time": "2022-03-30T12:17:26.241Z"
   },
   {
    "duration": 124,
    "start_time": "2022-03-30T12:17:26.265Z"
   },
   {
    "duration": 154,
    "start_time": "2022-03-30T12:17:26.390Z"
   },
   {
    "duration": 235,
    "start_time": "2022-03-30T12:17:26.545Z"
   },
   {
    "duration": 159,
    "start_time": "2022-03-30T12:17:26.781Z"
   },
   {
    "duration": 8,
    "start_time": "2022-03-30T12:17:26.941Z"
   },
   {
    "duration": 7,
    "start_time": "2022-03-30T12:17:26.962Z"
   },
   {
    "duration": 107,
    "start_time": "2022-03-30T12:17:26.971Z"
   },
   {
    "duration": 133,
    "start_time": "2022-03-30T12:17:27.080Z"
   },
   {
    "duration": 133,
    "start_time": "2022-03-30T12:17:27.215Z"
   },
   {
    "duration": 277,
    "start_time": "2022-03-30T12:17:27.349Z"
   },
   {
    "duration": 56,
    "start_time": "2022-03-30T12:17:27.628Z"
   },
   {
    "duration": 133,
    "start_time": "2022-03-30T12:17:27.686Z"
   },
   {
    "duration": 436,
    "start_time": "2022-03-30T12:17:27.821Z"
   },
   {
    "duration": 11,
    "start_time": "2022-03-30T12:17:28.259Z"
   },
   {
    "duration": 22,
    "start_time": "2022-03-30T12:17:28.272Z"
   },
   {
    "duration": 11,
    "start_time": "2022-03-30T12:17:28.296Z"
   },
   {
    "duration": 117,
    "start_time": "2022-03-30T12:17:28.308Z"
   },
   {
    "duration": 28,
    "start_time": "2022-03-30T12:30:15.981Z"
   },
   {
    "duration": 17,
    "start_time": "2022-03-30T12:33:43.530Z"
   },
   {
    "duration": 1209,
    "start_time": "2022-03-30T12:34:44.438Z"
   },
   {
    "duration": 74,
    "start_time": "2022-03-30T12:34:45.649Z"
   },
   {
    "duration": 16,
    "start_time": "2022-03-30T12:34:45.725Z"
   },
   {
    "duration": 41,
    "start_time": "2022-03-30T12:34:45.743Z"
   },
   {
    "duration": 26,
    "start_time": "2022-03-30T12:34:45.786Z"
   },
   {
    "duration": 86,
    "start_time": "2022-03-30T12:34:45.814Z"
   },
   {
    "duration": 9,
    "start_time": "2022-03-30T12:34:45.902Z"
   },
   {
    "duration": 12,
    "start_time": "2022-03-30T12:34:45.913Z"
   },
   {
    "duration": 5,
    "start_time": "2022-03-30T12:34:45.927Z"
   },
   {
    "duration": 11,
    "start_time": "2022-03-30T12:34:45.934Z"
   },
   {
    "duration": 7,
    "start_time": "2022-03-30T12:34:45.963Z"
   },
   {
    "duration": 5,
    "start_time": "2022-03-30T12:34:45.972Z"
   },
   {
    "duration": 6,
    "start_time": "2022-03-30T12:34:45.979Z"
   },
   {
    "duration": 4,
    "start_time": "2022-03-30T12:34:45.987Z"
   },
   {
    "duration": 7,
    "start_time": "2022-03-30T12:34:45.992Z"
   },
   {
    "duration": 5,
    "start_time": "2022-03-30T12:34:46.001Z"
   },
   {
    "duration": 9,
    "start_time": "2022-03-30T12:34:46.007Z"
   },
   {
    "duration": 10,
    "start_time": "2022-03-30T12:34:46.018Z"
   },
   {
    "duration": 36,
    "start_time": "2022-03-30T12:34:46.029Z"
   },
   {
    "duration": 11,
    "start_time": "2022-03-30T12:34:46.067Z"
   },
   {
    "duration": 5,
    "start_time": "2022-03-30T12:34:46.080Z"
   },
   {
    "duration": 12,
    "start_time": "2022-03-30T12:34:46.087Z"
   },
   {
    "duration": 5,
    "start_time": "2022-03-30T12:34:46.101Z"
   },
   {
    "duration": 18,
    "start_time": "2022-03-30T12:34:46.108Z"
   },
   {
    "duration": 52,
    "start_time": "2022-03-30T12:34:46.127Z"
   },
   {
    "duration": 19,
    "start_time": "2022-03-30T12:34:46.180Z"
   },
   {
    "duration": 19,
    "start_time": "2022-03-30T12:34:46.201Z"
   },
   {
    "duration": 11,
    "start_time": "2022-03-30T12:34:46.226Z"
   },
   {
    "duration": 33,
    "start_time": "2022-03-30T12:34:46.239Z"
   },
   {
    "duration": 12,
    "start_time": "2022-03-30T12:34:46.274Z"
   },
   {
    "duration": 4,
    "start_time": "2022-03-30T12:34:46.287Z"
   },
   {
    "duration": 13,
    "start_time": "2022-03-30T12:34:46.292Z"
   },
   {
    "duration": 321,
    "start_time": "2022-03-30T12:34:46.307Z"
   },
   {
    "duration": 7,
    "start_time": "2022-03-30T12:34:46.629Z"
   },
   {
    "duration": 25,
    "start_time": "2022-03-30T12:34:46.638Z"
   },
   {
    "duration": 7,
    "start_time": "2022-03-30T12:34:46.665Z"
   },
   {
    "duration": 146,
    "start_time": "2022-03-30T12:34:46.673Z"
   },
   {
    "duration": 146,
    "start_time": "2022-03-30T12:34:46.821Z"
   },
   {
    "duration": 9,
    "start_time": "2022-03-30T12:34:46.969Z"
   },
   {
    "duration": 146,
    "start_time": "2022-03-30T12:34:46.979Z"
   },
   {
    "duration": 130,
    "start_time": "2022-03-30T12:34:47.126Z"
   },
   {
    "duration": 10,
    "start_time": "2022-03-30T12:34:47.258Z"
   },
   {
    "duration": 200,
    "start_time": "2022-03-30T12:34:47.270Z"
   },
   {
    "duration": 77,
    "start_time": "2022-03-30T12:34:47.472Z"
   },
   {
    "duration": 8,
    "start_time": "2022-03-30T12:34:47.562Z"
   },
   {
    "duration": 126,
    "start_time": "2022-03-30T12:34:47.572Z"
   },
   {
    "duration": 142,
    "start_time": "2022-03-30T12:34:47.699Z"
   },
   {
    "duration": 226,
    "start_time": "2022-03-30T12:34:47.843Z"
   },
   {
    "duration": 157,
    "start_time": "2022-03-30T12:34:48.071Z"
   },
   {
    "duration": 10,
    "start_time": "2022-03-30T12:34:48.230Z"
   },
   {
    "duration": 25,
    "start_time": "2022-03-30T12:34:48.241Z"
   },
   {
    "duration": 113,
    "start_time": "2022-03-30T12:34:48.267Z"
   },
   {
    "duration": 136,
    "start_time": "2022-03-30T12:34:48.382Z"
   },
   {
    "duration": 130,
    "start_time": "2022-03-30T12:34:48.520Z"
   },
   {
    "duration": 276,
    "start_time": "2022-03-30T12:34:48.651Z"
   },
   {
    "duration": 61,
    "start_time": "2022-03-30T12:34:48.929Z"
   },
   {
    "duration": 142,
    "start_time": "2022-03-30T12:34:48.992Z"
   },
   {
    "duration": 434,
    "start_time": "2022-03-30T12:34:49.136Z"
   },
   {
    "duration": 11,
    "start_time": "2022-03-30T12:34:49.572Z"
   },
   {
    "duration": 28,
    "start_time": "2022-03-30T12:34:49.585Z"
   },
   {
    "duration": 15,
    "start_time": "2022-03-30T12:34:49.615Z"
   },
   {
    "duration": 1834,
    "start_time": "2022-03-31T11:18:08.947Z"
   },
   {
    "duration": 104,
    "start_time": "2022-03-31T11:18:10.785Z"
   },
   {
    "duration": 21,
    "start_time": "2022-03-31T11:18:10.892Z"
   },
   {
    "duration": 49,
    "start_time": "2022-03-31T11:18:10.916Z"
   },
   {
    "duration": 44,
    "start_time": "2022-03-31T11:18:10.984Z"
   },
   {
    "duration": 119,
    "start_time": "2022-03-31T11:18:11.030Z"
   },
   {
    "duration": 12,
    "start_time": "2022-03-31T11:18:11.151Z"
   },
   {
    "duration": 55,
    "start_time": "2022-03-31T11:18:11.165Z"
   },
   {
    "duration": 12,
    "start_time": "2022-03-31T11:18:11.223Z"
   },
   {
    "duration": 21,
    "start_time": "2022-03-31T11:18:11.239Z"
   },
   {
    "duration": 27,
    "start_time": "2022-03-31T11:18:11.262Z"
   },
   {
    "duration": 35,
    "start_time": "2022-03-31T11:18:11.291Z"
   },
   {
    "duration": 29,
    "start_time": "2022-03-31T11:18:11.328Z"
   },
   {
    "duration": 44,
    "start_time": "2022-03-31T11:18:11.359Z"
   },
   {
    "duration": 34,
    "start_time": "2022-03-31T11:18:11.406Z"
   },
   {
    "duration": 26,
    "start_time": "2022-03-31T11:18:11.442Z"
   },
   {
    "duration": 13,
    "start_time": "2022-03-31T11:18:11.471Z"
   },
   {
    "duration": 39,
    "start_time": "2022-03-31T11:18:11.486Z"
   },
   {
    "duration": 12,
    "start_time": "2022-03-31T11:18:11.528Z"
   },
   {
    "duration": 19,
    "start_time": "2022-03-31T11:18:11.542Z"
   },
   {
    "duration": 22,
    "start_time": "2022-03-31T11:18:11.563Z"
   },
   {
    "duration": 39,
    "start_time": "2022-03-31T11:18:11.587Z"
   },
   {
    "duration": 12,
    "start_time": "2022-03-31T11:18:11.628Z"
   },
   {
    "duration": 45,
    "start_time": "2022-03-31T11:18:11.642Z"
   },
   {
    "duration": 41,
    "start_time": "2022-03-31T11:18:11.689Z"
   },
   {
    "duration": 31,
    "start_time": "2022-03-31T11:18:11.732Z"
   },
   {
    "duration": 39,
    "start_time": "2022-03-31T11:18:11.765Z"
   },
   {
    "duration": 11,
    "start_time": "2022-03-31T11:18:11.810Z"
   },
   {
    "duration": 37,
    "start_time": "2022-03-31T11:18:11.823Z"
   },
   {
    "duration": 32,
    "start_time": "2022-03-31T11:18:11.862Z"
   },
   {
    "duration": 23,
    "start_time": "2022-03-31T11:18:11.897Z"
   },
   {
    "duration": 36,
    "start_time": "2022-03-31T11:18:11.922Z"
   },
   {
    "duration": 552,
    "start_time": "2022-03-31T11:18:11.960Z"
   },
   {
    "duration": 10,
    "start_time": "2022-03-31T11:18:12.515Z"
   },
   {
    "duration": 38,
    "start_time": "2022-03-31T11:18:12.527Z"
   },
   {
    "duration": 21,
    "start_time": "2022-03-31T11:18:12.567Z"
   },
   {
    "duration": 274,
    "start_time": "2022-03-31T11:18:12.590Z"
   },
   {
    "duration": 227,
    "start_time": "2022-03-31T11:18:12.866Z"
   },
   {
    "duration": 11,
    "start_time": "2022-03-31T11:18:13.095Z"
   },
   {
    "duration": 260,
    "start_time": "2022-03-31T11:18:13.108Z"
   },
   {
    "duration": 230,
    "start_time": "2022-03-31T11:18:13.370Z"
   },
   {
    "duration": 11,
    "start_time": "2022-03-31T11:18:13.602Z"
   },
   {
    "duration": 317,
    "start_time": "2022-03-31T11:18:13.615Z"
   },
   {
    "duration": 168,
    "start_time": "2022-03-31T11:18:13.935Z"
   },
   {
    "duration": 12,
    "start_time": "2022-03-31T11:18:14.105Z"
   },
   {
    "duration": 239,
    "start_time": "2022-03-31T11:18:14.120Z"
   },
   {
    "duration": 270,
    "start_time": "2022-03-31T11:18:14.361Z"
   },
   {
    "duration": 403,
    "start_time": "2022-03-31T11:18:14.634Z"
   },
   {
    "duration": 279,
    "start_time": "2022-03-31T11:18:15.040Z"
   },
   {
    "duration": 12,
    "start_time": "2022-03-31T11:18:15.321Z"
   },
   {
    "duration": 9,
    "start_time": "2022-03-31T11:18:15.335Z"
   },
   {
    "duration": 208,
    "start_time": "2022-03-31T11:18:15.346Z"
   },
   {
    "duration": 237,
    "start_time": "2022-03-31T11:18:15.556Z"
   },
   {
    "duration": 228,
    "start_time": "2022-03-31T11:18:15.796Z"
   },
   {
    "duration": 493,
    "start_time": "2022-03-31T11:18:16.026Z"
   },
   {
    "duration": 93,
    "start_time": "2022-03-31T11:18:16.521Z"
   },
   {
    "duration": 241,
    "start_time": "2022-03-31T11:18:16.617Z"
   },
   {
    "duration": 786,
    "start_time": "2022-03-31T11:18:16.860Z"
   },
   {
    "duration": 18,
    "start_time": "2022-03-31T11:18:17.649Z"
   },
   {
    "duration": 58,
    "start_time": "2022-03-31T11:18:17.669Z"
   },
   {
    "duration": 33,
    "start_time": "2022-03-31T11:18:17.729Z"
   },
   {
    "duration": 31,
    "start_time": "2022-03-31T11:22:01.041Z"
   },
   {
    "duration": 50,
    "start_time": "2022-03-31T11:24:29.096Z"
   },
   {
    "duration": 1584,
    "start_time": "2022-03-31T12:02:39.546Z"
   },
   {
    "duration": 99,
    "start_time": "2022-03-31T12:02:41.133Z"
   },
   {
    "duration": 22,
    "start_time": "2022-03-31T12:02:41.234Z"
   },
   {
    "duration": 68,
    "start_time": "2022-03-31T12:02:41.259Z"
   },
   {
    "duration": 63,
    "start_time": "2022-03-31T12:02:41.329Z"
   },
   {
    "duration": 106,
    "start_time": "2022-03-31T12:02:41.394Z"
   },
   {
    "duration": 14,
    "start_time": "2022-03-31T12:02:41.502Z"
   },
   {
    "duration": 27,
    "start_time": "2022-03-31T12:02:41.518Z"
   },
   {
    "duration": 11,
    "start_time": "2022-03-31T12:02:41.547Z"
   },
   {
    "duration": 8,
    "start_time": "2022-03-31T12:02:41.587Z"
   },
   {
    "duration": 9,
    "start_time": "2022-03-31T12:02:41.597Z"
   },
   {
    "duration": 8,
    "start_time": "2022-03-31T12:02:41.609Z"
   },
   {
    "duration": 13,
    "start_time": "2022-03-31T12:02:41.619Z"
   },
   {
    "duration": 9,
    "start_time": "2022-03-31T12:02:41.634Z"
   },
   {
    "duration": 45,
    "start_time": "2022-03-31T12:02:41.645Z"
   },
   {
    "duration": 8,
    "start_time": "2022-03-31T12:02:41.692Z"
   },
   {
    "duration": 6,
    "start_time": "2022-03-31T12:02:41.702Z"
   },
   {
    "duration": 13,
    "start_time": "2022-03-31T12:02:41.710Z"
   },
   {
    "duration": 5,
    "start_time": "2022-03-31T12:02:41.725Z"
   },
   {
    "duration": 54,
    "start_time": "2022-03-31T12:02:41.733Z"
   },
   {
    "duration": 9,
    "start_time": "2022-03-31T12:02:41.789Z"
   },
   {
    "duration": 23,
    "start_time": "2022-03-31T12:02:41.801Z"
   },
   {
    "duration": 9,
    "start_time": "2022-03-31T12:02:41.826Z"
   },
   {
    "duration": 21,
    "start_time": "2022-03-31T12:02:41.883Z"
   },
   {
    "duration": 36,
    "start_time": "2022-03-31T12:02:41.906Z"
   },
   {
    "duration": 63,
    "start_time": "2022-03-31T12:02:41.944Z"
   },
   {
    "duration": 25,
    "start_time": "2022-03-31T12:02:42.009Z"
   },
   {
    "duration": 11,
    "start_time": "2022-03-31T12:02:42.042Z"
   },
   {
    "duration": 48,
    "start_time": "2022-03-31T12:02:42.055Z"
   },
   {
    "duration": 25,
    "start_time": "2022-03-31T12:02:42.105Z"
   },
   {
    "duration": 7,
    "start_time": "2022-03-31T12:02:42.132Z"
   },
   {
    "duration": 49,
    "start_time": "2022-03-31T12:02:42.141Z"
   },
   {
    "duration": 547,
    "start_time": "2022-03-31T12:02:42.192Z"
   },
   {
    "duration": 11,
    "start_time": "2022-03-31T12:02:42.741Z"
   },
   {
    "duration": 37,
    "start_time": "2022-03-31T12:02:42.754Z"
   },
   {
    "duration": 12,
    "start_time": "2022-03-31T12:02:42.794Z"
   },
   {
    "duration": 278,
    "start_time": "2022-03-31T12:02:42.808Z"
   },
   {
    "duration": 268,
    "start_time": "2022-03-31T12:02:43.088Z"
   },
   {
    "duration": 13,
    "start_time": "2022-03-31T12:02:43.360Z"
   },
   {
    "duration": 409,
    "start_time": "2022-03-31T12:02:43.375Z"
   },
   {
    "duration": 359,
    "start_time": "2022-03-31T12:02:43.786Z"
   },
   {
    "duration": 13,
    "start_time": "2022-03-31T12:02:44.148Z"
   },
   {
    "duration": 310,
    "start_time": "2022-03-31T12:02:44.185Z"
   },
   {
    "duration": 162,
    "start_time": "2022-03-31T12:02:44.498Z"
   },
   {
    "duration": 24,
    "start_time": "2022-03-31T12:02:44.663Z"
   },
   {
    "duration": 245,
    "start_time": "2022-03-31T12:02:44.689Z"
   },
   {
    "duration": 255,
    "start_time": "2022-03-31T12:02:44.937Z"
   },
   {
    "duration": 409,
    "start_time": "2022-03-31T12:02:45.195Z"
   },
   {
    "duration": 482,
    "start_time": "2022-03-31T12:02:45.606Z"
   },
   {
    "duration": 11,
    "start_time": "2022-03-31T12:02:46.090Z"
   },
   {
    "duration": 12,
    "start_time": "2022-03-31T12:02:46.103Z"
   },
   {
    "duration": 205,
    "start_time": "2022-03-31T12:02:46.118Z"
   },
   {
    "duration": 249,
    "start_time": "2022-03-31T12:02:46.326Z"
   },
   {
    "duration": 247,
    "start_time": "2022-03-31T12:02:46.577Z"
   },
   {
    "duration": 513,
    "start_time": "2022-03-31T12:02:46.826Z"
   },
   {
    "duration": 107,
    "start_time": "2022-03-31T12:02:47.342Z"
   },
   {
    "duration": 360,
    "start_time": "2022-03-31T12:02:47.453Z"
   },
   {
    "duration": 733,
    "start_time": "2022-03-31T12:02:47.815Z"
   },
   {
    "duration": 16,
    "start_time": "2022-03-31T12:02:48.551Z"
   },
   {
    "duration": 47,
    "start_time": "2022-03-31T12:02:48.569Z"
   },
   {
    "duration": 6,
    "start_time": "2022-03-31T12:02:48.619Z"
   },
   {
    "duration": 0,
    "start_time": "2022-03-31T12:02:48.627Z"
   },
   {
    "duration": 6,
    "start_time": "2022-03-31T12:03:21.191Z"
   },
   {
    "duration": 146,
    "start_time": "2022-03-31T12:03:37.910Z"
   },
   {
    "duration": 1557,
    "start_time": "2022-03-31T12:03:56.785Z"
   },
   {
    "duration": 100,
    "start_time": "2022-03-31T12:03:58.345Z"
   },
   {
    "duration": 21,
    "start_time": "2022-03-31T12:03:58.448Z"
   },
   {
    "duration": 51,
    "start_time": "2022-03-31T12:03:58.484Z"
   },
   {
    "duration": 67,
    "start_time": "2022-03-31T12:03:58.537Z"
   },
   {
    "duration": 113,
    "start_time": "2022-03-31T12:03:58.606Z"
   },
   {
    "duration": 13,
    "start_time": "2022-03-31T12:03:58.721Z"
   },
   {
    "duration": 42,
    "start_time": "2022-03-31T12:03:58.736Z"
   },
   {
    "duration": 11,
    "start_time": "2022-03-31T12:03:58.781Z"
   },
   {
    "duration": 15,
    "start_time": "2022-03-31T12:03:58.795Z"
   },
   {
    "duration": 10,
    "start_time": "2022-03-31T12:03:58.812Z"
   },
   {
    "duration": 11,
    "start_time": "2022-03-31T12:03:58.824Z"
   },
   {
    "duration": 14,
    "start_time": "2022-03-31T12:03:58.837Z"
   },
   {
    "duration": 33,
    "start_time": "2022-03-31T12:03:58.854Z"
   },
   {
    "duration": 21,
    "start_time": "2022-03-31T12:03:58.890Z"
   },
   {
    "duration": 17,
    "start_time": "2022-03-31T12:03:58.913Z"
   },
   {
    "duration": 11,
    "start_time": "2022-03-31T12:03:58.933Z"
   },
   {
    "duration": 32,
    "start_time": "2022-03-31T12:03:58.947Z"
   },
   {
    "duration": 17,
    "start_time": "2022-03-31T12:03:58.982Z"
   },
   {
    "duration": 20,
    "start_time": "2022-03-31T12:03:59.002Z"
   },
   {
    "duration": 20,
    "start_time": "2022-03-31T12:03:59.025Z"
   },
   {
    "duration": 38,
    "start_time": "2022-03-31T12:03:59.048Z"
   },
   {
    "duration": 10,
    "start_time": "2022-03-31T12:03:59.089Z"
   },
   {
    "duration": 36,
    "start_time": "2022-03-31T12:03:59.101Z"
   },
   {
    "duration": 46,
    "start_time": "2022-03-31T12:03:59.139Z"
   },
   {
    "duration": 34,
    "start_time": "2022-03-31T12:03:59.187Z"
   },
   {
    "duration": 30,
    "start_time": "2022-03-31T12:03:59.224Z"
   },
   {
    "duration": 18,
    "start_time": "2022-03-31T12:03:59.288Z"
   },
   {
    "duration": 37,
    "start_time": "2022-03-31T12:03:59.309Z"
   },
   {
    "duration": 46,
    "start_time": "2022-03-31T12:03:59.349Z"
   },
   {
    "duration": 6,
    "start_time": "2022-03-31T12:03:59.398Z"
   },
   {
    "duration": 38,
    "start_time": "2022-03-31T12:03:59.407Z"
   },
   {
    "duration": 619,
    "start_time": "2022-03-31T12:03:59.448Z"
   },
   {
    "duration": 18,
    "start_time": "2022-03-31T12:04:00.069Z"
   },
   {
    "duration": 60,
    "start_time": "2022-03-31T12:04:00.089Z"
   },
   {
    "duration": 31,
    "start_time": "2022-03-31T12:04:00.151Z"
   },
   {
    "duration": 259,
    "start_time": "2022-03-31T12:04:00.184Z"
   },
   {
    "duration": 224,
    "start_time": "2022-03-31T12:04:00.445Z"
   },
   {
    "duration": 13,
    "start_time": "2022-03-31T12:04:00.671Z"
   },
   {
    "duration": 263,
    "start_time": "2022-03-31T12:04:00.686Z"
   },
   {
    "duration": 230,
    "start_time": "2022-03-31T12:04:00.951Z"
   },
   {
    "duration": 12,
    "start_time": "2022-03-31T12:04:01.184Z"
   },
   {
    "duration": 323,
    "start_time": "2022-03-31T12:04:01.198Z"
   },
   {
    "duration": 161,
    "start_time": "2022-03-31T12:04:01.523Z"
   },
   {
    "duration": 11,
    "start_time": "2022-03-31T12:04:01.686Z"
   },
   {
    "duration": 239,
    "start_time": "2022-03-31T12:04:01.700Z"
   },
   {
    "duration": 253,
    "start_time": "2022-03-31T12:04:01.941Z"
   },
   {
    "duration": 394,
    "start_time": "2022-03-31T12:04:02.197Z"
   },
   {
    "duration": 277,
    "start_time": "2022-03-31T12:04:02.593Z"
   },
   {
    "duration": 19,
    "start_time": "2022-03-31T12:04:02.872Z"
   },
   {
    "duration": 39,
    "start_time": "2022-03-31T12:04:02.893Z"
   },
   {
    "duration": 159,
    "start_time": "2022-03-31T12:04:02.934Z"
   },
   {
    "duration": 234,
    "start_time": "2022-03-31T12:04:03.095Z"
   },
   {
    "duration": 229,
    "start_time": "2022-03-31T12:04:03.331Z"
   },
   {
    "duration": 505,
    "start_time": "2022-03-31T12:04:03.562Z"
   },
   {
    "duration": 114,
    "start_time": "2022-03-31T12:04:04.070Z"
   },
   {
    "duration": 227,
    "start_time": "2022-03-31T12:04:04.186Z"
   },
   {
    "duration": 701,
    "start_time": "2022-03-31T12:04:04.415Z"
   },
   {
    "duration": 15,
    "start_time": "2022-03-31T12:04:05.118Z"
   },
   {
    "duration": 62,
    "start_time": "2022-03-31T12:04:05.135Z"
   },
   {
    "duration": 160,
    "start_time": "2022-03-31T12:04:05.199Z"
   },
   {
    "duration": 0,
    "start_time": "2022-03-31T12:04:05.361Z"
   },
   {
    "duration": 46,
    "start_time": "2022-03-31T12:06:26.039Z"
   },
   {
    "duration": 43,
    "start_time": "2022-03-31T12:09:50.832Z"
   },
   {
    "duration": 1656,
    "start_time": "2022-03-31T12:26:01.984Z"
   },
   {
    "duration": 109,
    "start_time": "2022-03-31T12:26:03.643Z"
   },
   {
    "duration": 24,
    "start_time": "2022-03-31T12:26:03.755Z"
   },
   {
    "duration": 51,
    "start_time": "2022-03-31T12:26:03.785Z"
   },
   {
    "duration": 66,
    "start_time": "2022-03-31T12:26:03.838Z"
   },
   {
    "duration": 115,
    "start_time": "2022-03-31T12:26:03.906Z"
   },
   {
    "duration": 15,
    "start_time": "2022-03-31T12:26:04.024Z"
   },
   {
    "duration": 17,
    "start_time": "2022-03-31T12:26:04.041Z"
   },
   {
    "duration": 27,
    "start_time": "2022-03-31T12:26:04.060Z"
   },
   {
    "duration": 10,
    "start_time": "2022-03-31T12:26:04.091Z"
   },
   {
    "duration": 15,
    "start_time": "2022-03-31T12:26:04.103Z"
   },
   {
    "duration": 25,
    "start_time": "2022-03-31T12:26:04.121Z"
   },
   {
    "duration": 28,
    "start_time": "2022-03-31T12:26:04.149Z"
   },
   {
    "duration": 20,
    "start_time": "2022-03-31T12:26:04.179Z"
   },
   {
    "duration": 18,
    "start_time": "2022-03-31T12:26:04.201Z"
   },
   {
    "duration": 31,
    "start_time": "2022-03-31T12:26:04.222Z"
   },
   {
    "duration": 22,
    "start_time": "2022-03-31T12:26:04.255Z"
   },
   {
    "duration": 35,
    "start_time": "2022-03-31T12:26:04.279Z"
   },
   {
    "duration": 12,
    "start_time": "2022-03-31T12:26:04.317Z"
   },
   {
    "duration": 27,
    "start_time": "2022-03-31T12:26:04.332Z"
   },
   {
    "duration": 18,
    "start_time": "2022-03-31T12:26:04.362Z"
   },
   {
    "duration": 32,
    "start_time": "2022-03-31T12:26:04.382Z"
   },
   {
    "duration": 12,
    "start_time": "2022-03-31T12:26:04.417Z"
   },
   {
    "duration": 36,
    "start_time": "2022-03-31T12:26:04.432Z"
   },
   {
    "duration": 35,
    "start_time": "2022-03-31T12:26:04.470Z"
   },
   {
    "duration": 37,
    "start_time": "2022-03-31T12:26:04.507Z"
   },
   {
    "duration": 50,
    "start_time": "2022-03-31T12:26:04.546Z"
   },
   {
    "duration": 11,
    "start_time": "2022-03-31T12:26:04.604Z"
   },
   {
    "duration": 21,
    "start_time": "2022-03-31T12:26:04.618Z"
   },
   {
    "duration": 47,
    "start_time": "2022-03-31T12:26:04.641Z"
   },
   {
    "duration": 6,
    "start_time": "2022-03-31T12:26:04.691Z"
   },
   {
    "duration": 21,
    "start_time": "2022-03-31T12:26:04.700Z"
   },
   {
    "duration": 560,
    "start_time": "2022-03-31T12:26:04.723Z"
   },
   {
    "duration": 12,
    "start_time": "2022-03-31T12:26:05.286Z"
   },
   {
    "duration": 25,
    "start_time": "2022-03-31T12:26:05.301Z"
   },
   {
    "duration": 13,
    "start_time": "2022-03-31T12:26:05.329Z"
   },
   {
    "duration": 318,
    "start_time": "2022-03-31T12:26:05.344Z"
   },
   {
    "duration": 164,
    "start_time": "2022-03-31T12:26:05.665Z"
   },
   {
    "duration": 13,
    "start_time": "2022-03-31T12:26:05.832Z"
   },
   {
    "duration": 289,
    "start_time": "2022-03-31T12:26:05.847Z"
   },
   {
    "duration": 178,
    "start_time": "2022-03-31T12:26:06.138Z"
   },
   {
    "duration": 11,
    "start_time": "2022-03-31T12:26:06.319Z"
   },
   {
    "duration": 328,
    "start_time": "2022-03-31T12:26:06.332Z"
   },
   {
    "duration": 177,
    "start_time": "2022-03-31T12:26:06.662Z"
   },
   {
    "duration": 13,
    "start_time": "2022-03-31T12:26:06.842Z"
   },
   {
    "duration": 264,
    "start_time": "2022-03-31T12:26:06.858Z"
   },
   {
    "duration": 177,
    "start_time": "2022-03-31T12:26:07.124Z"
   },
   {
    "duration": 393,
    "start_time": "2022-03-31T12:26:07.304Z"
   },
   {
    "duration": 302,
    "start_time": "2022-03-31T12:26:07.699Z"
   },
   {
    "duration": 11,
    "start_time": "2022-03-31T12:26:08.004Z"
   },
   {
    "duration": 7,
    "start_time": "2022-03-31T12:26:08.017Z"
   },
   {
    "duration": 197,
    "start_time": "2022-03-31T12:26:08.027Z"
   },
   {
    "duration": 231,
    "start_time": "2022-03-31T12:26:08.226Z"
   },
   {
    "duration": 248,
    "start_time": "2022-03-31T12:26:08.460Z"
   },
   {
    "duration": 269,
    "start_time": "2022-03-31T12:26:08.710Z"
   },
   {
    "duration": 55,
    "start_time": "2022-03-31T12:26:08.983Z"
   },
   {
    "duration": 356,
    "start_time": "2022-03-31T12:26:09.041Z"
   },
   {
    "duration": 798,
    "start_time": "2022-03-31T12:26:09.400Z"
   },
   {
    "duration": 15,
    "start_time": "2022-03-31T12:26:10.200Z"
   },
   {
    "duration": 35,
    "start_time": "2022-03-31T12:26:10.217Z"
   },
   {
    "duration": 66,
    "start_time": "2022-03-31T12:26:10.254Z"
   },
   {
    "duration": 50,
    "start_time": "2022-03-31T12:35:01.611Z"
   },
   {
    "duration": 80,
    "start_time": "2022-03-31T12:35:41.667Z"
   },
   {
    "duration": 12,
    "start_time": "2022-03-31T12:36:17.434Z"
   },
   {
    "duration": 9,
    "start_time": "2022-03-31T12:37:50.364Z"
   },
   {
    "duration": 168,
    "start_time": "2022-03-31T12:39:11.942Z"
   },
   {
    "duration": 153,
    "start_time": "2022-03-31T12:39:24.667Z"
   },
   {
    "duration": 6,
    "start_time": "2022-03-31T12:39:28.620Z"
   },
   {
    "duration": 30,
    "start_time": "2022-03-31T12:42:22.764Z"
   },
   {
    "duration": 72,
    "start_time": "2022-03-31T12:42:29.286Z"
   },
   {
    "duration": 46,
    "start_time": "2022-03-31T12:44:49.278Z"
   },
   {
    "duration": 32,
    "start_time": "2022-03-31T12:46:18.703Z"
   },
   {
    "duration": 78,
    "start_time": "2022-03-31T12:49:07.357Z"
   },
   {
    "duration": 20,
    "start_time": "2022-03-31T13:02:42.778Z"
   },
   {
    "duration": 1888,
    "start_time": "2022-03-31T13:04:53.112Z"
   },
   {
    "duration": 1901,
    "start_time": "2022-03-31T13:05:50.705Z"
   },
   {
    "duration": 14,
    "start_time": "2022-03-31T13:06:02.769Z"
   },
   {
    "duration": 230,
    "start_time": "2022-03-31T13:06:05.464Z"
   },
   {
    "duration": 315,
    "start_time": "2022-03-31T13:06:32.393Z"
   },
   {
    "duration": 81,
    "start_time": "2022-03-31T13:09:40.951Z"
   },
   {
    "duration": 53,
    "start_time": "2022-03-31T13:09:55.220Z"
   },
   {
    "duration": 6,
    "start_time": "2022-03-31T13:10:09.664Z"
   },
   {
    "duration": 35,
    "start_time": "2022-03-31T13:32:14.673Z"
   },
   {
    "duration": 22,
    "start_time": "2022-03-31T13:33:59.916Z"
   },
   {
    "duration": 13,
    "start_time": "2022-03-31T13:34:10.500Z"
   },
   {
    "duration": 2398,
    "start_time": "2022-03-31T13:34:15.460Z"
   },
   {
    "duration": 325,
    "start_time": "2022-03-31T13:34:34.181Z"
   },
   {
    "duration": 316,
    "start_time": "2022-03-31T13:34:54.982Z"
   },
   {
    "duration": 1309,
    "start_time": "2022-03-31T19:18:16.424Z"
   },
   {
    "duration": 86,
    "start_time": "2022-03-31T19:18:17.735Z"
   },
   {
    "duration": 14,
    "start_time": "2022-03-31T19:18:17.822Z"
   },
   {
    "duration": 27,
    "start_time": "2022-03-31T19:18:17.838Z"
   },
   {
    "duration": 36,
    "start_time": "2022-03-31T19:18:17.867Z"
   },
   {
    "duration": 63,
    "start_time": "2022-03-31T19:18:17.905Z"
   },
   {
    "duration": 18,
    "start_time": "2022-03-31T19:18:17.970Z"
   },
   {
    "duration": 15,
    "start_time": "2022-03-31T19:18:17.989Z"
   },
   {
    "duration": 4,
    "start_time": "2022-03-31T19:18:18.006Z"
   },
   {
    "duration": 6,
    "start_time": "2022-03-31T19:18:18.012Z"
   },
   {
    "duration": 10,
    "start_time": "2022-03-31T19:18:18.020Z"
   },
   {
    "duration": 6,
    "start_time": "2022-03-31T19:18:18.031Z"
   },
   {
    "duration": 6,
    "start_time": "2022-03-31T19:18:18.038Z"
   },
   {
    "duration": 5,
    "start_time": "2022-03-31T19:18:18.047Z"
   },
   {
    "duration": 28,
    "start_time": "2022-03-31T19:18:18.054Z"
   },
   {
    "duration": 7,
    "start_time": "2022-03-31T19:18:18.084Z"
   },
   {
    "duration": 5,
    "start_time": "2022-03-31T19:18:18.093Z"
   },
   {
    "duration": 9,
    "start_time": "2022-03-31T19:18:18.100Z"
   },
   {
    "duration": 6,
    "start_time": "2022-03-31T19:18:18.111Z"
   },
   {
    "duration": 6,
    "start_time": "2022-03-31T19:18:18.118Z"
   },
   {
    "duration": 5,
    "start_time": "2022-03-31T19:18:18.125Z"
   },
   {
    "duration": 12,
    "start_time": "2022-03-31T19:18:18.132Z"
   },
   {
    "duration": 35,
    "start_time": "2022-03-31T19:18:18.146Z"
   },
   {
    "duration": 12,
    "start_time": "2022-03-31T19:18:18.182Z"
   },
   {
    "duration": 20,
    "start_time": "2022-03-31T19:18:18.195Z"
   },
   {
    "duration": 20,
    "start_time": "2022-03-31T19:18:18.216Z"
   },
   {
    "duration": 13,
    "start_time": "2022-03-31T19:18:18.237Z"
   },
   {
    "duration": 31,
    "start_time": "2022-03-31T19:18:18.252Z"
   },
   {
    "duration": 17,
    "start_time": "2022-03-31T19:18:18.284Z"
   },
   {
    "duration": 13,
    "start_time": "2022-03-31T19:18:18.302Z"
   },
   {
    "duration": 3,
    "start_time": "2022-03-31T19:18:18.316Z"
   },
   {
    "duration": 14,
    "start_time": "2022-03-31T19:18:18.321Z"
   },
   {
    "duration": 305,
    "start_time": "2022-03-31T19:18:18.337Z"
   },
   {
    "duration": 7,
    "start_time": "2022-03-31T19:18:18.643Z"
   },
   {
    "duration": 16,
    "start_time": "2022-03-31T19:18:18.652Z"
   },
   {
    "duration": 17,
    "start_time": "2022-03-31T19:18:18.669Z"
   },
   {
    "duration": 156,
    "start_time": "2022-03-31T19:18:18.687Z"
   },
   {
    "duration": 86,
    "start_time": "2022-03-31T19:18:18.844Z"
   },
   {
    "duration": 8,
    "start_time": "2022-03-31T19:18:18.931Z"
   },
   {
    "duration": 147,
    "start_time": "2022-03-31T19:18:18.941Z"
   },
   {
    "duration": 97,
    "start_time": "2022-03-31T19:18:19.092Z"
   },
   {
    "duration": 7,
    "start_time": "2022-03-31T19:18:19.191Z"
   },
   {
    "duration": 202,
    "start_time": "2022-03-31T19:18:19.199Z"
   },
   {
    "duration": 91,
    "start_time": "2022-03-31T19:18:19.402Z"
   },
   {
    "duration": 7,
    "start_time": "2022-03-31T19:18:19.495Z"
   },
   {
    "duration": 139,
    "start_time": "2022-03-31T19:18:19.504Z"
   },
   {
    "duration": 99,
    "start_time": "2022-03-31T19:18:19.645Z"
   },
   {
    "duration": 203,
    "start_time": "2022-03-31T19:18:19.745Z"
   },
   {
    "duration": 109,
    "start_time": "2022-03-31T19:18:19.949Z"
   },
   {
    "duration": 7,
    "start_time": "2022-03-31T19:18:20.060Z"
   },
   {
    "duration": 25,
    "start_time": "2022-03-31T19:18:20.069Z"
   },
   {
    "duration": 99,
    "start_time": "2022-03-31T19:18:20.096Z"
   },
   {
    "duration": 119,
    "start_time": "2022-03-31T19:18:20.196Z"
   },
   {
    "duration": 137,
    "start_time": "2022-03-31T19:18:20.317Z"
   },
   {
    "duration": 149,
    "start_time": "2022-03-31T19:18:20.456Z"
   },
   {
    "duration": 35,
    "start_time": "2022-03-31T19:18:20.607Z"
   },
   {
    "duration": 148,
    "start_time": "2022-03-31T19:18:20.644Z"
   },
   {
    "duration": 463,
    "start_time": "2022-03-31T19:18:20.794Z"
   },
   {
    "duration": 11,
    "start_time": "2022-03-31T19:18:21.258Z"
   },
   {
    "duration": 31,
    "start_time": "2022-03-31T19:18:21.270Z"
   },
   {
    "duration": 31,
    "start_time": "2022-03-31T19:18:21.303Z"
   },
   {
    "duration": 11,
    "start_time": "2022-03-31T19:18:21.336Z"
   },
   {
    "duration": 33,
    "start_time": "2022-03-31T19:18:21.349Z"
   },
   {
    "duration": 171,
    "start_time": "2022-03-31T19:18:21.383Z"
   },
   {
    "duration": 14,
    "start_time": "2022-03-31T19:32:27.946Z"
   },
   {
    "duration": 34,
    "start_time": "2022-03-31T19:45:06.672Z"
   },
   {
    "duration": 125,
    "start_time": "2022-03-31T19:45:35.702Z"
   },
   {
    "duration": 44,
    "start_time": "2022-03-31T19:46:47.115Z"
   },
   {
    "duration": 31,
    "start_time": "2022-03-31T19:47:53.354Z"
   },
   {
    "duration": 11,
    "start_time": "2022-03-31T19:48:16.664Z"
   },
   {
    "duration": 24,
    "start_time": "2022-03-31T19:51:14.620Z"
   },
   {
    "duration": 139,
    "start_time": "2022-03-31T19:52:36.970Z"
   },
   {
    "duration": 140,
    "start_time": "2022-03-31T19:53:02.864Z"
   },
   {
    "duration": 120,
    "start_time": "2022-03-31T19:53:42.342Z"
   },
   {
    "duration": 132,
    "start_time": "2022-03-31T19:55:53.085Z"
   },
   {
    "duration": 135,
    "start_time": "2022-03-31T19:57:56.228Z"
   },
   {
    "duration": 1200,
    "start_time": "2022-03-31T20:08:23.765Z"
   },
   {
    "duration": 81,
    "start_time": "2022-03-31T20:08:24.966Z"
   },
   {
    "duration": 15,
    "start_time": "2022-03-31T20:08:25.048Z"
   },
   {
    "duration": 38,
    "start_time": "2022-03-31T20:08:25.065Z"
   },
   {
    "duration": 26,
    "start_time": "2022-03-31T20:08:25.106Z"
   },
   {
    "duration": 74,
    "start_time": "2022-03-31T20:08:25.134Z"
   },
   {
    "duration": 9,
    "start_time": "2022-03-31T20:08:25.210Z"
   },
   {
    "duration": 12,
    "start_time": "2022-03-31T20:08:25.221Z"
   },
   {
    "duration": 4,
    "start_time": "2022-03-31T20:08:25.235Z"
   },
   {
    "duration": 9,
    "start_time": "2022-03-31T20:08:25.240Z"
   },
   {
    "duration": 31,
    "start_time": "2022-03-31T20:08:25.251Z"
   },
   {
    "duration": 14,
    "start_time": "2022-03-31T20:08:25.283Z"
   },
   {
    "duration": 6,
    "start_time": "2022-03-31T20:08:25.298Z"
   },
   {
    "duration": 3,
    "start_time": "2022-03-31T20:08:25.308Z"
   },
   {
    "duration": 12,
    "start_time": "2022-03-31T20:08:25.313Z"
   },
   {
    "duration": 4,
    "start_time": "2022-03-31T20:08:25.326Z"
   },
   {
    "duration": 8,
    "start_time": "2022-03-31T20:08:25.331Z"
   },
   {
    "duration": 13,
    "start_time": "2022-03-31T20:08:25.340Z"
   },
   {
    "duration": 8,
    "start_time": "2022-03-31T20:08:25.354Z"
   },
   {
    "duration": 17,
    "start_time": "2022-03-31T20:08:25.364Z"
   },
   {
    "duration": 6,
    "start_time": "2022-03-31T20:08:25.383Z"
   },
   {
    "duration": 15,
    "start_time": "2022-03-31T20:08:25.390Z"
   },
   {
    "duration": 5,
    "start_time": "2022-03-31T20:08:25.407Z"
   },
   {
    "duration": 12,
    "start_time": "2022-03-31T20:08:25.414Z"
   },
   {
    "duration": 19,
    "start_time": "2022-03-31T20:08:25.428Z"
   },
   {
    "duration": 18,
    "start_time": "2022-03-31T20:08:25.481Z"
   },
   {
    "duration": 14,
    "start_time": "2022-03-31T20:08:25.501Z"
   },
   {
    "duration": 7,
    "start_time": "2022-03-31T20:08:25.516Z"
   },
   {
    "duration": 16,
    "start_time": "2022-03-31T20:08:25.525Z"
   },
   {
    "duration": 12,
    "start_time": "2022-03-31T20:08:25.542Z"
   },
   {
    "duration": 4,
    "start_time": "2022-03-31T20:08:25.581Z"
   },
   {
    "duration": 13,
    "start_time": "2022-03-31T20:08:25.586Z"
   },
   {
    "duration": 316,
    "start_time": "2022-03-31T20:08:25.600Z"
   },
   {
    "duration": 8,
    "start_time": "2022-03-31T20:08:25.917Z"
   },
   {
    "duration": 13,
    "start_time": "2022-03-31T20:08:25.927Z"
   },
   {
    "duration": 7,
    "start_time": "2022-03-31T20:08:25.942Z"
   },
   {
    "duration": 173,
    "start_time": "2022-03-31T20:08:25.951Z"
   },
   {
    "duration": 87,
    "start_time": "2022-03-31T20:08:26.126Z"
   },
   {
    "duration": 8,
    "start_time": "2022-03-31T20:08:26.214Z"
   },
   {
    "duration": 162,
    "start_time": "2022-03-31T20:08:26.223Z"
   },
   {
    "duration": 134,
    "start_time": "2022-03-31T20:08:26.389Z"
   },
   {
    "duration": 8,
    "start_time": "2022-03-31T20:08:26.525Z"
   },
   {
    "duration": 265,
    "start_time": "2022-03-31T20:08:26.535Z"
   },
   {
    "duration": 128,
    "start_time": "2022-03-31T20:08:26.802Z"
   },
   {
    "duration": 9,
    "start_time": "2022-03-31T20:08:26.932Z"
   },
   {
    "duration": 197,
    "start_time": "2022-03-31T20:08:26.943Z"
   },
   {
    "duration": 135,
    "start_time": "2022-03-31T20:08:27.142Z"
   },
   {
    "duration": 318,
    "start_time": "2022-03-31T20:08:27.281Z"
   },
   {
    "duration": 165,
    "start_time": "2022-03-31T20:08:27.601Z"
   },
   {
    "duration": 15,
    "start_time": "2022-03-31T20:08:27.767Z"
   },
   {
    "duration": 5,
    "start_time": "2022-03-31T20:08:27.783Z"
   },
   {
    "duration": 141,
    "start_time": "2022-03-31T20:08:27.789Z"
   },
   {
    "duration": 128,
    "start_time": "2022-03-31T20:08:27.931Z"
   },
   {
    "duration": 141,
    "start_time": "2022-03-31T20:08:28.060Z"
   },
   {
    "duration": 161,
    "start_time": "2022-03-31T20:08:28.202Z"
   },
   {
    "duration": 39,
    "start_time": "2022-03-31T20:08:28.366Z"
   },
   {
    "duration": 144,
    "start_time": "2022-03-31T20:08:28.407Z"
   },
   {
    "duration": 457,
    "start_time": "2022-03-31T20:08:28.552Z"
   },
   {
    "duration": 12,
    "start_time": "2022-03-31T20:08:29.011Z"
   },
   {
    "duration": 24,
    "start_time": "2022-03-31T20:08:29.024Z"
   },
   {
    "duration": 56,
    "start_time": "2022-03-31T20:08:29.049Z"
   },
   {
    "duration": 13,
    "start_time": "2022-03-31T20:08:29.107Z"
   },
   {
    "duration": 8,
    "start_time": "2022-03-31T20:08:29.122Z"
   },
   {
    "duration": 181,
    "start_time": "2022-03-31T20:08:29.131Z"
   },
   {
    "duration": 107,
    "start_time": "2022-03-31T20:08:29.314Z"
   },
   {
    "duration": 0,
    "start_time": "2022-03-31T20:08:29.423Z"
   },
   {
    "duration": 7,
    "start_time": "2022-03-31T20:09:26.776Z"
   },
   {
    "duration": 145,
    "start_time": "2022-03-31T20:09:29.606Z"
   },
   {
    "duration": 165,
    "start_time": "2022-03-31T20:09:40.793Z"
   },
   {
    "duration": 8,
    "start_time": "2022-03-31T20:10:27.400Z"
   },
   {
    "duration": 149,
    "start_time": "2022-03-31T20:11:39.575Z"
   },
   {
    "duration": 35,
    "start_time": "2022-03-31T20:13:38.972Z"
   },
   {
    "duration": 1175,
    "start_time": "2022-03-31T20:20:25.359Z"
   },
   {
    "duration": 74,
    "start_time": "2022-03-31T20:20:26.536Z"
   },
   {
    "duration": 16,
    "start_time": "2022-03-31T20:20:26.612Z"
   },
   {
    "duration": 29,
    "start_time": "2022-03-31T20:20:26.630Z"
   },
   {
    "duration": 43,
    "start_time": "2022-03-31T20:20:26.661Z"
   },
   {
    "duration": 61,
    "start_time": "2022-03-31T20:20:26.706Z"
   },
   {
    "duration": 9,
    "start_time": "2022-03-31T20:20:26.781Z"
   },
   {
    "duration": 13,
    "start_time": "2022-03-31T20:20:26.791Z"
   },
   {
    "duration": 5,
    "start_time": "2022-03-31T20:20:26.805Z"
   },
   {
    "duration": 7,
    "start_time": "2022-03-31T20:20:26.813Z"
   },
   {
    "duration": 6,
    "start_time": "2022-03-31T20:20:26.821Z"
   },
   {
    "duration": 7,
    "start_time": "2022-03-31T20:20:26.829Z"
   },
   {
    "duration": 6,
    "start_time": "2022-03-31T20:20:26.837Z"
   },
   {
    "duration": 4,
    "start_time": "2022-03-31T20:20:26.844Z"
   },
   {
    "duration": 35,
    "start_time": "2022-03-31T20:20:26.850Z"
   },
   {
    "duration": 4,
    "start_time": "2022-03-31T20:20:26.886Z"
   },
   {
    "duration": 5,
    "start_time": "2022-03-31T20:20:26.892Z"
   },
   {
    "duration": 8,
    "start_time": "2022-03-31T20:20:26.898Z"
   },
   {
    "duration": 3,
    "start_time": "2022-03-31T20:20:26.908Z"
   },
   {
    "duration": 6,
    "start_time": "2022-03-31T20:20:26.913Z"
   },
   {
    "duration": 6,
    "start_time": "2022-03-31T20:20:26.920Z"
   },
   {
    "duration": 12,
    "start_time": "2022-03-31T20:20:26.928Z"
   },
   {
    "duration": 42,
    "start_time": "2022-03-31T20:20:26.941Z"
   },
   {
    "duration": 16,
    "start_time": "2022-03-31T20:20:26.985Z"
   },
   {
    "duration": 19,
    "start_time": "2022-03-31T20:20:27.003Z"
   },
   {
    "duration": 18,
    "start_time": "2022-03-31T20:20:27.024Z"
   },
   {
    "duration": 12,
    "start_time": "2022-03-31T20:20:27.044Z"
   },
   {
    "duration": 7,
    "start_time": "2022-03-31T20:20:27.080Z"
   },
   {
    "duration": 13,
    "start_time": "2022-03-31T20:20:27.089Z"
   },
   {
    "duration": 13,
    "start_time": "2022-03-31T20:20:27.104Z"
   },
   {
    "duration": 4,
    "start_time": "2022-03-31T20:20:27.119Z"
   },
   {
    "duration": 12,
    "start_time": "2022-03-31T20:20:27.124Z"
   },
   {
    "duration": 326,
    "start_time": "2022-03-31T20:20:27.137Z"
   },
   {
    "duration": 16,
    "start_time": "2022-03-31T20:20:27.465Z"
   },
   {
    "duration": 13,
    "start_time": "2022-03-31T20:20:27.482Z"
   },
   {
    "duration": 8,
    "start_time": "2022-03-31T20:20:27.496Z"
   },
   {
    "duration": 159,
    "start_time": "2022-03-31T20:20:27.505Z"
   },
   {
    "duration": 85,
    "start_time": "2022-03-31T20:20:27.666Z"
   },
   {
    "duration": 7,
    "start_time": "2022-03-31T20:20:27.752Z"
   },
   {
    "duration": 163,
    "start_time": "2022-03-31T20:20:27.761Z"
   },
   {
    "duration": 102,
    "start_time": "2022-03-31T20:20:27.925Z"
   },
   {
    "duration": 8,
    "start_time": "2022-03-31T20:20:28.028Z"
   },
   {
    "duration": 195,
    "start_time": "2022-03-31T20:20:28.038Z"
   },
   {
    "duration": 102,
    "start_time": "2022-03-31T20:20:28.235Z"
   },
   {
    "duration": 10,
    "start_time": "2022-03-31T20:20:28.338Z"
   },
   {
    "duration": 139,
    "start_time": "2022-03-31T20:20:28.350Z"
   },
   {
    "duration": 104,
    "start_time": "2022-03-31T20:20:28.491Z"
   },
   {
    "duration": 205,
    "start_time": "2022-03-31T20:20:28.597Z"
   },
   {
    "duration": 111,
    "start_time": "2022-03-31T20:20:28.804Z"
   },
   {
    "duration": 7,
    "start_time": "2022-03-31T20:20:28.917Z"
   },
   {
    "duration": 5,
    "start_time": "2022-03-31T20:20:28.925Z"
   },
   {
    "duration": 114,
    "start_time": "2022-03-31T20:20:28.931Z"
   },
   {
    "duration": 123,
    "start_time": "2022-03-31T20:20:29.047Z"
   },
   {
    "duration": 132,
    "start_time": "2022-03-31T20:20:29.171Z"
   },
   {
    "duration": 145,
    "start_time": "2022-03-31T20:20:29.304Z"
   },
   {
    "duration": 40,
    "start_time": "2022-03-31T20:20:29.450Z"
   },
   {
    "duration": 133,
    "start_time": "2022-03-31T20:20:29.492Z"
   },
   {
    "duration": 445,
    "start_time": "2022-03-31T20:20:29.627Z"
   },
   {
    "duration": 11,
    "start_time": "2022-03-31T20:20:30.080Z"
   },
   {
    "duration": 25,
    "start_time": "2022-03-31T20:20:30.092Z"
   },
   {
    "duration": 30,
    "start_time": "2022-03-31T20:20:30.118Z"
   },
   {
    "duration": 33,
    "start_time": "2022-03-31T20:20:30.149Z"
   },
   {
    "duration": 9,
    "start_time": "2022-03-31T20:20:30.183Z"
   },
   {
    "duration": 175,
    "start_time": "2022-03-31T20:20:30.193Z"
   },
   {
    "duration": 118,
    "start_time": "2022-03-31T20:20:30.370Z"
   },
   {
    "duration": 0,
    "start_time": "2022-03-31T20:20:30.491Z"
   },
   {
    "duration": 32,
    "start_time": "2022-03-31T20:27:21.618Z"
   },
   {
    "duration": 801,
    "start_time": "2022-03-31T20:29:32.130Z"
   },
   {
    "duration": 6,
    "start_time": "2022-03-31T20:30:26.343Z"
   },
   {
    "duration": 58,
    "start_time": "2022-03-31T20:30:41.847Z"
   },
   {
    "duration": 6,
    "start_time": "2022-03-31T20:31:22.702Z"
   },
   {
    "duration": 57,
    "start_time": "2022-03-31T20:31:23.518Z"
   },
   {
    "duration": 1598,
    "start_time": "2022-03-31T20:33:07.675Z"
   },
   {
    "duration": 1126,
    "start_time": "2022-03-31T20:33:21.416Z"
   },
   {
    "duration": 75,
    "start_time": "2022-03-31T20:33:22.544Z"
   },
   {
    "duration": 15,
    "start_time": "2022-03-31T20:33:22.620Z"
   },
   {
    "duration": 29,
    "start_time": "2022-03-31T20:33:22.636Z"
   },
   {
    "duration": 36,
    "start_time": "2022-03-31T20:33:22.667Z"
   },
   {
    "duration": 63,
    "start_time": "2022-03-31T20:33:22.705Z"
   },
   {
    "duration": 17,
    "start_time": "2022-03-31T20:33:22.769Z"
   },
   {
    "duration": 12,
    "start_time": "2022-03-31T20:33:22.787Z"
   },
   {
    "duration": 4,
    "start_time": "2022-03-31T20:33:22.801Z"
   },
   {
    "duration": 8,
    "start_time": "2022-03-31T20:33:22.806Z"
   },
   {
    "duration": 5,
    "start_time": "2022-03-31T20:33:22.816Z"
   },
   {
    "duration": 12,
    "start_time": "2022-03-31T20:33:22.823Z"
   },
   {
    "duration": 8,
    "start_time": "2022-03-31T20:33:22.837Z"
   },
   {
    "duration": 5,
    "start_time": "2022-03-31T20:33:22.848Z"
   },
   {
    "duration": 30,
    "start_time": "2022-03-31T20:33:22.854Z"
   },
   {
    "duration": 4,
    "start_time": "2022-03-31T20:33:22.886Z"
   },
   {
    "duration": 9,
    "start_time": "2022-03-31T20:33:22.891Z"
   },
   {
    "duration": 10,
    "start_time": "2022-03-31T20:33:22.902Z"
   },
   {
    "duration": 4,
    "start_time": "2022-03-31T20:33:22.913Z"
   },
   {
    "duration": 9,
    "start_time": "2022-03-31T20:33:22.919Z"
   },
   {
    "duration": 8,
    "start_time": "2022-03-31T20:33:22.929Z"
   },
   {
    "duration": 13,
    "start_time": "2022-03-31T20:33:22.938Z"
   },
   {
    "duration": 32,
    "start_time": "2022-03-31T20:33:22.953Z"
   },
   {
    "duration": 13,
    "start_time": "2022-03-31T20:33:22.987Z"
   },
   {
    "duration": 21,
    "start_time": "2022-03-31T20:33:23.001Z"
   },
   {
    "duration": 19,
    "start_time": "2022-03-31T20:33:23.024Z"
   },
   {
    "duration": 40,
    "start_time": "2022-03-31T20:33:23.045Z"
   },
   {
    "duration": 7,
    "start_time": "2022-03-31T20:33:23.087Z"
   },
   {
    "duration": 15,
    "start_time": "2022-03-31T20:33:23.095Z"
   },
   {
    "duration": 11,
    "start_time": "2022-03-31T20:33:23.112Z"
   },
   {
    "duration": 4,
    "start_time": "2022-03-31T20:33:23.124Z"
   },
   {
    "duration": 12,
    "start_time": "2022-03-31T20:33:23.129Z"
   },
   {
    "duration": 310,
    "start_time": "2022-03-31T20:33:23.142Z"
   },
   {
    "duration": 7,
    "start_time": "2022-03-31T20:33:23.454Z"
   },
   {
    "duration": 21,
    "start_time": "2022-03-31T20:33:23.462Z"
   },
   {
    "duration": 7,
    "start_time": "2022-03-31T20:33:23.485Z"
   },
   {
    "duration": 162,
    "start_time": "2022-03-31T20:33:23.493Z"
   },
   {
    "duration": 86,
    "start_time": "2022-03-31T20:33:23.656Z"
   },
   {
    "duration": 8,
    "start_time": "2022-03-31T20:33:23.744Z"
   },
   {
    "duration": 158,
    "start_time": "2022-03-31T20:33:23.753Z"
   },
   {
    "duration": 97,
    "start_time": "2022-03-31T20:33:23.915Z"
   },
   {
    "duration": 8,
    "start_time": "2022-03-31T20:33:24.013Z"
   },
   {
    "duration": 199,
    "start_time": "2022-03-31T20:33:24.022Z"
   },
   {
    "duration": 90,
    "start_time": "2022-03-31T20:33:24.223Z"
   },
   {
    "duration": 8,
    "start_time": "2022-03-31T20:33:24.314Z"
   },
   {
    "duration": 139,
    "start_time": "2022-03-31T20:33:24.323Z"
   },
   {
    "duration": 90,
    "start_time": "2022-03-31T20:33:24.463Z"
   },
   {
    "duration": 216,
    "start_time": "2022-03-31T20:33:24.555Z"
   },
   {
    "duration": 109,
    "start_time": "2022-03-31T20:33:24.772Z"
   },
   {
    "duration": 8,
    "start_time": "2022-03-31T20:33:24.882Z"
   },
   {
    "duration": 5,
    "start_time": "2022-03-31T20:33:24.891Z"
   },
   {
    "duration": 116,
    "start_time": "2022-03-31T20:33:24.897Z"
   },
   {
    "duration": 125,
    "start_time": "2022-03-31T20:33:25.015Z"
   },
   {
    "duration": 134,
    "start_time": "2022-03-31T20:33:25.141Z"
   },
   {
    "duration": 146,
    "start_time": "2022-03-31T20:33:25.277Z"
   },
   {
    "duration": 31,
    "start_time": "2022-03-31T20:33:25.425Z"
   },
   {
    "duration": 132,
    "start_time": "2022-03-31T20:33:25.458Z"
   },
   {
    "duration": 457,
    "start_time": "2022-03-31T20:33:25.592Z"
   },
   {
    "duration": 10,
    "start_time": "2022-03-31T20:33:26.051Z"
   },
   {
    "duration": 38,
    "start_time": "2022-03-31T20:33:26.062Z"
   },
   {
    "duration": 30,
    "start_time": "2022-03-31T20:33:26.102Z"
   },
   {
    "duration": 12,
    "start_time": "2022-03-31T20:33:26.133Z"
   },
   {
    "duration": 7,
    "start_time": "2022-03-31T20:33:26.147Z"
   },
   {
    "duration": 190,
    "start_time": "2022-03-31T20:33:26.156Z"
   },
   {
    "duration": 7,
    "start_time": "2022-03-31T20:33:26.348Z"
   },
   {
    "duration": 69,
    "start_time": "2022-03-31T20:33:26.356Z"
   },
   {
    "duration": 149,
    "start_time": "2022-03-31T20:33:26.426Z"
   },
   {
    "duration": 14451,
    "start_time": "2022-03-31T20:35:01.532Z"
   },
   {
    "duration": 67,
    "start_time": "2022-03-31T20:35:31.168Z"
   },
   {
    "duration": 11,
    "start_time": "2022-03-31T20:41:56.196Z"
   },
   {
    "duration": 1196,
    "start_time": "2022-03-31T20:42:15.196Z"
   },
   {
    "duration": 82,
    "start_time": "2022-03-31T20:42:16.395Z"
   },
   {
    "duration": 21,
    "start_time": "2022-03-31T20:42:16.482Z"
   },
   {
    "duration": 28,
    "start_time": "2022-03-31T20:42:16.506Z"
   },
   {
    "duration": 24,
    "start_time": "2022-03-31T20:42:16.536Z"
   },
   {
    "duration": 69,
    "start_time": "2022-03-31T20:42:16.581Z"
   },
   {
    "duration": 9,
    "start_time": "2022-03-31T20:42:16.651Z"
   },
   {
    "duration": 31,
    "start_time": "2022-03-31T20:42:16.661Z"
   },
   {
    "duration": 5,
    "start_time": "2022-03-31T20:42:16.693Z"
   },
   {
    "duration": 8,
    "start_time": "2022-03-31T20:42:16.699Z"
   },
   {
    "duration": 7,
    "start_time": "2022-03-31T20:42:16.710Z"
   },
   {
    "duration": 6,
    "start_time": "2022-03-31T20:42:16.718Z"
   },
   {
    "duration": 4,
    "start_time": "2022-03-31T20:42:16.727Z"
   },
   {
    "duration": 3,
    "start_time": "2022-03-31T20:42:16.733Z"
   },
   {
    "duration": 6,
    "start_time": "2022-03-31T20:42:16.737Z"
   },
   {
    "duration": 38,
    "start_time": "2022-03-31T20:42:16.745Z"
   },
   {
    "duration": 22,
    "start_time": "2022-03-31T20:42:16.786Z"
   },
   {
    "duration": 9,
    "start_time": "2022-03-31T20:42:16.810Z"
   },
   {
    "duration": 4,
    "start_time": "2022-03-31T20:42:16.821Z"
   },
   {
    "duration": 9,
    "start_time": "2022-03-31T20:42:16.827Z"
   },
   {
    "duration": 10,
    "start_time": "2022-03-31T20:42:16.838Z"
   },
   {
    "duration": 17,
    "start_time": "2022-03-31T20:42:16.850Z"
   },
   {
    "duration": 19,
    "start_time": "2022-03-31T20:42:16.869Z"
   },
   {
    "duration": 23,
    "start_time": "2022-03-31T20:42:16.890Z"
   },
   {
    "duration": 21,
    "start_time": "2022-03-31T20:42:16.915Z"
   },
   {
    "duration": 20,
    "start_time": "2022-03-31T20:42:16.938Z"
   },
   {
    "duration": 39,
    "start_time": "2022-03-31T20:42:16.959Z"
   },
   {
    "duration": 7,
    "start_time": "2022-03-31T20:42:16.999Z"
   },
   {
    "duration": 16,
    "start_time": "2022-03-31T20:42:17.008Z"
   },
   {
    "duration": 12,
    "start_time": "2022-03-31T20:42:17.025Z"
   },
   {
    "duration": 4,
    "start_time": "2022-03-31T20:42:17.038Z"
   },
   {
    "duration": 15,
    "start_time": "2022-03-31T20:42:17.043Z"
   },
   {
    "duration": 450,
    "start_time": "2022-03-31T20:42:17.060Z"
   },
   {
    "duration": 8,
    "start_time": "2022-03-31T20:42:17.511Z"
   },
   {
    "duration": 13,
    "start_time": "2022-03-31T20:42:17.521Z"
   },
   {
    "duration": 7,
    "start_time": "2022-03-31T20:42:17.536Z"
   },
   {
    "duration": 195,
    "start_time": "2022-03-31T20:42:17.544Z"
   },
   {
    "duration": 99,
    "start_time": "2022-03-31T20:42:17.741Z"
   },
   {
    "duration": 7,
    "start_time": "2022-03-31T20:42:17.842Z"
   },
   {
    "duration": 169,
    "start_time": "2022-03-31T20:42:17.853Z"
   },
   {
    "duration": 105,
    "start_time": "2022-03-31T20:42:18.023Z"
   },
   {
    "duration": 7,
    "start_time": "2022-03-31T20:42:18.130Z"
   },
   {
    "duration": 213,
    "start_time": "2022-03-31T20:42:18.138Z"
   },
   {
    "duration": 94,
    "start_time": "2022-03-31T20:42:18.352Z"
   },
   {
    "duration": 8,
    "start_time": "2022-03-31T20:42:18.447Z"
   },
   {
    "duration": 193,
    "start_time": "2022-03-31T20:42:18.456Z"
   },
   {
    "duration": 131,
    "start_time": "2022-03-31T20:42:18.650Z"
   },
   {
    "duration": 204,
    "start_time": "2022-03-31T20:42:18.783Z"
   },
   {
    "duration": 110,
    "start_time": "2022-03-31T20:42:18.989Z"
   },
   {
    "duration": 7,
    "start_time": "2022-03-31T20:42:19.101Z"
   },
   {
    "duration": 8,
    "start_time": "2022-03-31T20:42:19.109Z"
   },
   {
    "duration": 109,
    "start_time": "2022-03-31T20:42:19.118Z"
   },
   {
    "duration": 118,
    "start_time": "2022-03-31T20:42:19.228Z"
   },
   {
    "duration": 137,
    "start_time": "2022-03-31T20:42:19.347Z"
   },
   {
    "duration": 153,
    "start_time": "2022-03-31T20:42:19.486Z"
   },
   {
    "duration": 33,
    "start_time": "2022-03-31T20:42:19.640Z"
   },
   {
    "duration": 132,
    "start_time": "2022-03-31T20:42:19.681Z"
   },
   {
    "duration": 459,
    "start_time": "2022-03-31T20:42:19.815Z"
   },
   {
    "duration": 13,
    "start_time": "2022-03-31T20:42:20.275Z"
   },
   {
    "duration": 24,
    "start_time": "2022-03-31T20:42:20.290Z"
   },
   {
    "duration": 31,
    "start_time": "2022-03-31T20:42:20.316Z"
   },
   {
    "duration": 41,
    "start_time": "2022-03-31T20:42:20.348Z"
   },
   {
    "duration": 8,
    "start_time": "2022-03-31T20:42:20.391Z"
   },
   {
    "duration": 175,
    "start_time": "2022-03-31T20:42:20.400Z"
   },
   {
    "duration": 6,
    "start_time": "2022-03-31T20:42:20.581Z"
   },
   {
    "duration": 93,
    "start_time": "2022-03-31T20:42:20.589Z"
   },
   {
    "duration": 0,
    "start_time": "2022-03-31T20:42:20.684Z"
   },
   {
    "duration": 10,
    "start_time": "2022-03-31T20:42:29.094Z"
   },
   {
    "duration": 1142,
    "start_time": "2022-03-31T20:42:51.696Z"
   },
   {
    "duration": 90,
    "start_time": "2022-03-31T20:42:52.839Z"
   },
   {
    "duration": 15,
    "start_time": "2022-03-31T20:42:52.931Z"
   },
   {
    "duration": 34,
    "start_time": "2022-03-31T20:42:52.948Z"
   },
   {
    "duration": 25,
    "start_time": "2022-03-31T20:42:52.983Z"
   },
   {
    "duration": 75,
    "start_time": "2022-03-31T20:42:53.009Z"
   },
   {
    "duration": 8,
    "start_time": "2022-03-31T20:42:53.086Z"
   },
   {
    "duration": 15,
    "start_time": "2022-03-31T20:42:53.095Z"
   },
   {
    "duration": 9,
    "start_time": "2022-03-31T20:42:53.111Z"
   },
   {
    "duration": 42,
    "start_time": "2022-03-31T20:42:53.123Z"
   },
   {
    "duration": 16,
    "start_time": "2022-03-31T20:42:53.166Z"
   },
   {
    "duration": 9,
    "start_time": "2022-03-31T20:42:53.184Z"
   },
   {
    "duration": 31,
    "start_time": "2022-03-31T20:42:53.194Z"
   },
   {
    "duration": 19,
    "start_time": "2022-03-31T20:42:53.227Z"
   },
   {
    "duration": 25,
    "start_time": "2022-03-31T20:42:53.247Z"
   },
   {
    "duration": 16,
    "start_time": "2022-03-31T20:42:53.274Z"
   },
   {
    "duration": 16,
    "start_time": "2022-03-31T20:42:53.292Z"
   },
   {
    "duration": 20,
    "start_time": "2022-03-31T20:42:53.309Z"
   },
   {
    "duration": 14,
    "start_time": "2022-03-31T20:42:53.330Z"
   },
   {
    "duration": 17,
    "start_time": "2022-03-31T20:42:53.345Z"
   },
   {
    "duration": 14,
    "start_time": "2022-03-31T20:42:53.364Z"
   },
   {
    "duration": 22,
    "start_time": "2022-03-31T20:42:53.380Z"
   },
   {
    "duration": 6,
    "start_time": "2022-03-31T20:42:53.404Z"
   },
   {
    "duration": 24,
    "start_time": "2022-03-31T20:42:53.411Z"
   },
   {
    "duration": 30,
    "start_time": "2022-03-31T20:42:53.436Z"
   },
   {
    "duration": 19,
    "start_time": "2022-03-31T20:42:53.468Z"
   },
   {
    "duration": 12,
    "start_time": "2022-03-31T20:42:53.489Z"
   },
   {
    "duration": 7,
    "start_time": "2022-03-31T20:42:53.505Z"
   },
   {
    "duration": 37,
    "start_time": "2022-03-31T20:42:53.513Z"
   },
   {
    "duration": 20,
    "start_time": "2022-03-31T20:42:53.551Z"
   },
   {
    "duration": 5,
    "start_time": "2022-03-31T20:42:53.573Z"
   },
   {
    "duration": 29,
    "start_time": "2022-03-31T20:42:53.579Z"
   },
   {
    "duration": 289,
    "start_time": "2022-03-31T20:42:53.609Z"
   },
   {
    "duration": 7,
    "start_time": "2022-03-31T20:42:53.900Z"
   },
   {
    "duration": 21,
    "start_time": "2022-03-31T20:42:53.908Z"
   },
   {
    "duration": 12,
    "start_time": "2022-03-31T20:42:53.931Z"
   },
   {
    "duration": 156,
    "start_time": "2022-03-31T20:42:53.944Z"
   },
   {
    "duration": 88,
    "start_time": "2022-03-31T20:42:54.102Z"
   },
   {
    "duration": 7,
    "start_time": "2022-03-31T20:42:54.192Z"
   },
   {
    "duration": 150,
    "start_time": "2022-03-31T20:42:54.200Z"
   },
   {
    "duration": 98,
    "start_time": "2022-03-31T20:42:54.351Z"
   },
   {
    "duration": 8,
    "start_time": "2022-03-31T20:42:54.450Z"
   },
   {
    "duration": 189,
    "start_time": "2022-03-31T20:42:54.459Z"
   },
   {
    "duration": 89,
    "start_time": "2022-03-31T20:42:54.649Z"
   },
   {
    "duration": 8,
    "start_time": "2022-03-31T20:42:54.739Z"
   },
   {
    "duration": 135,
    "start_time": "2022-03-31T20:42:54.748Z"
   },
   {
    "duration": 84,
    "start_time": "2022-03-31T20:42:54.884Z"
   },
   {
    "duration": 206,
    "start_time": "2022-03-31T20:42:54.981Z"
   },
   {
    "duration": 113,
    "start_time": "2022-03-31T20:42:55.188Z"
   },
   {
    "duration": 8,
    "start_time": "2022-03-31T20:42:55.302Z"
   },
   {
    "duration": 5,
    "start_time": "2022-03-31T20:42:55.311Z"
   },
   {
    "duration": 112,
    "start_time": "2022-03-31T20:42:55.317Z"
   },
   {
    "duration": 124,
    "start_time": "2022-03-31T20:42:55.431Z"
   },
   {
    "duration": 138,
    "start_time": "2022-03-31T20:42:55.557Z"
   },
   {
    "duration": 151,
    "start_time": "2022-03-31T20:42:55.697Z"
   },
   {
    "duration": 48,
    "start_time": "2022-03-31T20:42:55.850Z"
   },
   {
    "duration": 134,
    "start_time": "2022-03-31T20:42:55.900Z"
   },
   {
    "duration": 630,
    "start_time": "2022-03-31T20:42:56.036Z"
   },
   {
    "duration": 19,
    "start_time": "2022-03-31T20:42:56.668Z"
   },
   {
    "duration": 29,
    "start_time": "2022-03-31T20:42:56.689Z"
   },
   {
    "duration": 41,
    "start_time": "2022-03-31T20:42:56.720Z"
   },
   {
    "duration": 16,
    "start_time": "2022-03-31T20:42:56.781Z"
   },
   {
    "duration": 10,
    "start_time": "2022-03-31T20:42:56.798Z"
   },
   {
    "duration": 244,
    "start_time": "2022-03-31T20:42:56.810Z"
   },
   {
    "duration": 8,
    "start_time": "2022-03-31T20:42:57.056Z"
   },
   {
    "duration": 215,
    "start_time": "2022-03-31T20:42:57.066Z"
   },
   {
    "duration": 1144,
    "start_time": "2022-03-31T20:43:30.906Z"
   },
   {
    "duration": 81,
    "start_time": "2022-03-31T20:43:32.052Z"
   },
   {
    "duration": 15,
    "start_time": "2022-03-31T20:43:32.134Z"
   },
   {
    "duration": 38,
    "start_time": "2022-03-31T20:43:32.150Z"
   },
   {
    "duration": 25,
    "start_time": "2022-03-31T20:43:32.190Z"
   },
   {
    "duration": 71,
    "start_time": "2022-03-31T20:43:32.217Z"
   },
   {
    "duration": 9,
    "start_time": "2022-03-31T20:43:32.290Z"
   },
   {
    "duration": 13,
    "start_time": "2022-03-31T20:43:32.300Z"
   },
   {
    "duration": 4,
    "start_time": "2022-03-31T20:43:32.315Z"
   },
   {
    "duration": 12,
    "start_time": "2022-03-31T20:43:32.320Z"
   },
   {
    "duration": 9,
    "start_time": "2022-03-31T20:43:32.333Z"
   },
   {
    "duration": 6,
    "start_time": "2022-03-31T20:43:32.343Z"
   },
   {
    "duration": 9,
    "start_time": "2022-03-31T20:43:32.351Z"
   },
   {
    "duration": 20,
    "start_time": "2022-03-31T20:43:32.362Z"
   },
   {
    "duration": 17,
    "start_time": "2022-03-31T20:43:32.384Z"
   },
   {
    "duration": 9,
    "start_time": "2022-03-31T20:43:32.403Z"
   },
   {
    "duration": 11,
    "start_time": "2022-03-31T20:43:32.414Z"
   },
   {
    "duration": 21,
    "start_time": "2022-03-31T20:43:32.426Z"
   },
   {
    "duration": 7,
    "start_time": "2022-03-31T20:43:32.449Z"
   },
   {
    "duration": 11,
    "start_time": "2022-03-31T20:43:32.458Z"
   },
   {
    "duration": 11,
    "start_time": "2022-03-31T20:43:32.470Z"
   },
   {
    "duration": 36,
    "start_time": "2022-03-31T20:43:32.483Z"
   },
   {
    "duration": 12,
    "start_time": "2022-03-31T20:43:32.520Z"
   },
   {
    "duration": 15,
    "start_time": "2022-03-31T20:43:32.533Z"
   },
   {
    "duration": 29,
    "start_time": "2022-03-31T20:43:32.550Z"
   },
   {
    "duration": 18,
    "start_time": "2022-03-31T20:43:32.581Z"
   },
   {
    "duration": 11,
    "start_time": "2022-03-31T20:43:32.600Z"
   },
   {
    "duration": 11,
    "start_time": "2022-03-31T20:43:32.613Z"
   },
   {
    "duration": 23,
    "start_time": "2022-03-31T20:43:32.625Z"
   },
   {
    "duration": 19,
    "start_time": "2022-03-31T20:43:32.650Z"
   },
   {
    "duration": 15,
    "start_time": "2022-03-31T20:43:32.670Z"
   },
   {
    "duration": 28,
    "start_time": "2022-03-31T20:43:32.686Z"
   },
   {
    "duration": 308,
    "start_time": "2022-03-31T20:43:32.715Z"
   },
   {
    "duration": 7,
    "start_time": "2022-03-31T20:43:33.024Z"
   },
   {
    "duration": 14,
    "start_time": "2022-03-31T20:43:33.033Z"
   },
   {
    "duration": 7,
    "start_time": "2022-03-31T20:43:33.049Z"
   },
   {
    "duration": 170,
    "start_time": "2022-03-31T20:43:33.057Z"
   },
   {
    "duration": 95,
    "start_time": "2022-03-31T20:43:33.229Z"
   },
   {
    "duration": 8,
    "start_time": "2022-03-31T20:43:33.326Z"
   },
   {
    "duration": 159,
    "start_time": "2022-03-31T20:43:33.336Z"
   },
   {
    "duration": 97,
    "start_time": "2022-03-31T20:43:33.499Z"
   },
   {
    "duration": 7,
    "start_time": "2022-03-31T20:43:33.598Z"
   },
   {
    "duration": 211,
    "start_time": "2022-03-31T20:43:33.606Z"
   },
   {
    "duration": 92,
    "start_time": "2022-03-31T20:43:33.819Z"
   },
   {
    "duration": 7,
    "start_time": "2022-03-31T20:43:33.913Z"
   },
   {
    "duration": 137,
    "start_time": "2022-03-31T20:43:33.922Z"
   },
   {
    "duration": 88,
    "start_time": "2022-03-31T20:43:34.061Z"
   },
   {
    "duration": 204,
    "start_time": "2022-03-31T20:43:34.150Z"
   },
   {
    "duration": 110,
    "start_time": "2022-03-31T20:43:34.356Z"
   },
   {
    "duration": 13,
    "start_time": "2022-03-31T20:43:34.468Z"
   },
   {
    "duration": 5,
    "start_time": "2022-03-31T20:43:34.483Z"
   },
   {
    "duration": 108,
    "start_time": "2022-03-31T20:43:34.489Z"
   },
   {
    "duration": 123,
    "start_time": "2022-03-31T20:43:34.598Z"
   },
   {
    "duration": 131,
    "start_time": "2022-03-31T20:43:34.722Z"
   },
   {
    "duration": 148,
    "start_time": "2022-03-31T20:43:34.855Z"
   },
   {
    "duration": 33,
    "start_time": "2022-03-31T20:43:35.005Z"
   },
   {
    "duration": 138,
    "start_time": "2022-03-31T20:43:35.039Z"
   },
   {
    "duration": 443,
    "start_time": "2022-03-31T20:43:35.179Z"
   },
   {
    "duration": 10,
    "start_time": "2022-03-31T20:43:35.623Z"
   },
   {
    "duration": 24,
    "start_time": "2022-03-31T20:43:35.635Z"
   },
   {
    "duration": 45,
    "start_time": "2022-03-31T20:43:35.661Z"
   },
   {
    "duration": 12,
    "start_time": "2022-03-31T20:43:35.708Z"
   },
   {
    "duration": 8,
    "start_time": "2022-03-31T20:43:35.721Z"
   },
   {
    "duration": 179,
    "start_time": "2022-03-31T20:43:35.731Z"
   },
   {
    "duration": 10,
    "start_time": "2022-03-31T20:43:35.912Z"
   },
   {
    "duration": 12,
    "start_time": "2022-03-31T20:43:35.924Z"
   },
   {
    "duration": 157,
    "start_time": "2022-03-31T20:43:35.937Z"
   },
   {
    "duration": 9,
    "start_time": "2022-03-31T20:49:36.339Z"
   },
   {
    "duration": 198,
    "start_time": "2022-03-31T20:53:42.358Z"
   },
   {
    "duration": 184,
    "start_time": "2022-03-31T20:53:57.956Z"
   },
   {
    "duration": 138,
    "start_time": "2022-03-31T20:56:20.834Z"
   },
   {
    "duration": 131,
    "start_time": "2022-03-31T20:56:51.404Z"
   },
   {
    "duration": 7,
    "start_time": "2022-03-31T20:59:27.392Z"
   },
   {
    "duration": 212,
    "start_time": "2022-03-31T21:00:25.957Z"
   },
   {
    "duration": 200,
    "start_time": "2022-03-31T21:00:44.110Z"
   },
   {
    "duration": 224,
    "start_time": "2022-03-31T21:00:49.069Z"
   },
   {
    "duration": 230,
    "start_time": "2022-03-31T21:01:54.382Z"
   },
   {
    "duration": 142,
    "start_time": "2022-03-31T21:02:12.885Z"
   },
   {
    "duration": 139,
    "start_time": "2022-03-31T21:02:20.408Z"
   },
   {
    "duration": 149,
    "start_time": "2022-03-31T21:04:01.732Z"
   },
   {
    "duration": 132,
    "start_time": "2022-03-31T21:08:57.307Z"
   },
   {
    "duration": 1423,
    "start_time": "2022-03-31T21:09:52.188Z"
   },
   {
    "duration": 86,
    "start_time": "2022-03-31T21:09:53.613Z"
   },
   {
    "duration": 15,
    "start_time": "2022-03-31T21:09:53.701Z"
   },
   {
    "duration": 28,
    "start_time": "2022-03-31T21:09:53.718Z"
   },
   {
    "duration": 41,
    "start_time": "2022-03-31T21:09:53.747Z"
   },
   {
    "duration": 59,
    "start_time": "2022-03-31T21:09:53.790Z"
   },
   {
    "duration": 8,
    "start_time": "2022-03-31T21:09:53.851Z"
   },
   {
    "duration": 27,
    "start_time": "2022-03-31T21:09:53.860Z"
   },
   {
    "duration": 4,
    "start_time": "2022-03-31T21:09:53.888Z"
   },
   {
    "duration": 8,
    "start_time": "2022-03-31T21:09:53.895Z"
   },
   {
    "duration": 6,
    "start_time": "2022-03-31T21:09:53.904Z"
   },
   {
    "duration": 6,
    "start_time": "2022-03-31T21:09:53.912Z"
   },
   {
    "duration": 6,
    "start_time": "2022-03-31T21:09:53.919Z"
   },
   {
    "duration": 4,
    "start_time": "2022-03-31T21:09:53.926Z"
   },
   {
    "duration": 6,
    "start_time": "2022-03-31T21:09:53.932Z"
   },
   {
    "duration": 4,
    "start_time": "2022-03-31T21:09:53.939Z"
   },
   {
    "duration": 37,
    "start_time": "2022-03-31T21:09:53.944Z"
   },
   {
    "duration": 7,
    "start_time": "2022-03-31T21:09:53.982Z"
   },
   {
    "duration": 3,
    "start_time": "2022-03-31T21:09:53.991Z"
   },
   {
    "duration": 8,
    "start_time": "2022-03-31T21:09:53.995Z"
   },
   {
    "duration": 7,
    "start_time": "2022-03-31T21:09:54.004Z"
   },
   {
    "duration": 14,
    "start_time": "2022-03-31T21:09:54.012Z"
   },
   {
    "duration": 5,
    "start_time": "2022-03-31T21:09:54.027Z"
   },
   {
    "duration": 13,
    "start_time": "2022-03-31T21:09:54.034Z"
   },
   {
    "duration": 49,
    "start_time": "2022-03-31T21:09:54.048Z"
   },
   {
    "duration": 20,
    "start_time": "2022-03-31T21:09:54.098Z"
   },
   {
    "duration": 13,
    "start_time": "2022-03-31T21:09:54.120Z"
   },
   {
    "duration": 7,
    "start_time": "2022-03-31T21:09:54.137Z"
   },
   {
    "duration": 38,
    "start_time": "2022-03-31T21:09:54.145Z"
   },
   {
    "duration": 13,
    "start_time": "2022-03-31T21:09:54.185Z"
   },
   {
    "duration": 4,
    "start_time": "2022-03-31T21:09:54.199Z"
   },
   {
    "duration": 13,
    "start_time": "2022-03-31T21:09:54.204Z"
   },
   {
    "duration": 308,
    "start_time": "2022-03-31T21:09:54.218Z"
   },
   {
    "duration": 8,
    "start_time": "2022-03-31T21:09:54.527Z"
   },
   {
    "duration": 17,
    "start_time": "2022-03-31T21:09:54.536Z"
   },
   {
    "duration": 7,
    "start_time": "2022-03-31T21:09:54.554Z"
   },
   {
    "duration": 166,
    "start_time": "2022-03-31T21:09:54.562Z"
   },
   {
    "duration": 92,
    "start_time": "2022-03-31T21:09:54.730Z"
   },
   {
    "duration": 9,
    "start_time": "2022-03-31T21:09:54.823Z"
   },
   {
    "duration": 154,
    "start_time": "2022-03-31T21:09:54.833Z"
   },
   {
    "duration": 99,
    "start_time": "2022-03-31T21:09:54.989Z"
   },
   {
    "duration": 7,
    "start_time": "2022-03-31T21:09:55.090Z"
   },
   {
    "duration": 193,
    "start_time": "2022-03-31T21:09:55.099Z"
   },
   {
    "duration": 94,
    "start_time": "2022-03-31T21:09:55.293Z"
   },
   {
    "duration": 8,
    "start_time": "2022-03-31T21:09:55.388Z"
   },
   {
    "duration": 130,
    "start_time": "2022-03-31T21:09:55.397Z"
   },
   {
    "duration": 84,
    "start_time": "2022-03-31T21:09:55.529Z"
   },
   {
    "duration": 208,
    "start_time": "2022-03-31T21:09:55.614Z"
   },
   {
    "duration": 119,
    "start_time": "2022-03-31T21:09:55.823Z"
   },
   {
    "duration": 7,
    "start_time": "2022-03-31T21:09:55.944Z"
   },
   {
    "duration": 5,
    "start_time": "2022-03-31T21:09:55.952Z"
   },
   {
    "duration": 128,
    "start_time": "2022-03-31T21:09:55.959Z"
   },
   {
    "duration": 122,
    "start_time": "2022-03-31T21:09:56.088Z"
   },
   {
    "duration": 136,
    "start_time": "2022-03-31T21:09:56.212Z"
   },
   {
    "duration": 146,
    "start_time": "2022-03-31T21:09:56.350Z"
   },
   {
    "duration": 33,
    "start_time": "2022-03-31T21:09:56.498Z"
   },
   {
    "duration": 140,
    "start_time": "2022-03-31T21:09:56.532Z"
   },
   {
    "duration": 452,
    "start_time": "2022-03-31T21:09:56.674Z"
   },
   {
    "duration": 11,
    "start_time": "2022-03-31T21:09:57.128Z"
   },
   {
    "duration": 23,
    "start_time": "2022-03-31T21:09:57.140Z"
   },
   {
    "duration": 30,
    "start_time": "2022-03-31T21:09:57.181Z"
   },
   {
    "duration": 12,
    "start_time": "2022-03-31T21:09:57.213Z"
   },
   {
    "duration": 7,
    "start_time": "2022-03-31T21:09:57.227Z"
   },
   {
    "duration": 180,
    "start_time": "2022-03-31T21:09:57.236Z"
   },
   {
    "duration": 6,
    "start_time": "2022-03-31T21:09:57.418Z"
   },
   {
    "duration": 22,
    "start_time": "2022-03-31T21:09:57.426Z"
   },
   {
    "duration": 134,
    "start_time": "2022-03-31T21:09:57.449Z"
   },
   {
    "duration": 139,
    "start_time": "2022-03-31T21:09:57.584Z"
   },
   {
    "duration": 7,
    "start_time": "2022-03-31T21:09:57.725Z"
   },
   {
    "duration": 184,
    "start_time": "2022-03-31T21:09:57.733Z"
   },
   {
    "duration": 7,
    "start_time": "2022-03-31T21:09:57.919Z"
   },
   {
    "duration": 147,
    "start_time": "2022-03-31T21:09:57.928Z"
   },
   {
    "duration": 9,
    "start_time": "2022-03-31T21:13:38.693Z"
   },
   {
    "duration": 1473,
    "start_time": "2022-03-31T21:14:47.076Z"
   },
   {
    "duration": 118,
    "start_time": "2022-03-31T21:14:48.552Z"
   },
   {
    "duration": 20,
    "start_time": "2022-03-31T21:14:48.671Z"
   },
   {
    "duration": 29,
    "start_time": "2022-03-31T21:14:48.694Z"
   },
   {
    "duration": 60,
    "start_time": "2022-03-31T21:14:48.725Z"
   },
   {
    "duration": 84,
    "start_time": "2022-03-31T21:14:48.787Z"
   },
   {
    "duration": 18,
    "start_time": "2022-03-31T21:14:48.873Z"
   },
   {
    "duration": 17,
    "start_time": "2022-03-31T21:14:48.894Z"
   },
   {
    "duration": 5,
    "start_time": "2022-03-31T21:14:48.913Z"
   },
   {
    "duration": 6,
    "start_time": "2022-03-31T21:14:48.921Z"
   },
   {
    "duration": 6,
    "start_time": "2022-03-31T21:14:48.928Z"
   },
   {
    "duration": 8,
    "start_time": "2022-03-31T21:14:48.935Z"
   },
   {
    "duration": 6,
    "start_time": "2022-03-31T21:14:48.944Z"
   },
   {
    "duration": 3,
    "start_time": "2022-03-31T21:14:48.981Z"
   },
   {
    "duration": 9,
    "start_time": "2022-03-31T21:14:48.985Z"
   },
   {
    "duration": 4,
    "start_time": "2022-03-31T21:14:48.996Z"
   },
   {
    "duration": 4,
    "start_time": "2022-03-31T21:14:49.001Z"
   },
   {
    "duration": 9,
    "start_time": "2022-03-31T21:14:49.007Z"
   },
   {
    "duration": 4,
    "start_time": "2022-03-31T21:14:49.017Z"
   },
   {
    "duration": 7,
    "start_time": "2022-03-31T21:14:49.023Z"
   },
   {
    "duration": 6,
    "start_time": "2022-03-31T21:14:49.031Z"
   },
   {
    "duration": 53,
    "start_time": "2022-03-31T21:14:49.039Z"
   },
   {
    "duration": 9,
    "start_time": "2022-03-31T21:14:49.094Z"
   },
   {
    "duration": 18,
    "start_time": "2022-03-31T21:14:49.104Z"
   },
   {
    "duration": 20,
    "start_time": "2022-03-31T21:14:49.124Z"
   },
   {
    "duration": 39,
    "start_time": "2022-03-31T21:14:49.146Z"
   },
   {
    "duration": 15,
    "start_time": "2022-03-31T21:14:49.188Z"
   },
   {
    "duration": 6,
    "start_time": "2022-03-31T21:14:49.208Z"
   },
   {
    "duration": 17,
    "start_time": "2022-03-31T21:14:49.216Z"
   },
   {
    "duration": 13,
    "start_time": "2022-03-31T21:14:49.234Z"
   },
   {
    "duration": 4,
    "start_time": "2022-03-31T21:14:49.249Z"
   },
   {
    "duration": 35,
    "start_time": "2022-03-31T21:14:49.255Z"
   },
   {
    "duration": 464,
    "start_time": "2022-03-31T21:14:49.292Z"
   },
   {
    "duration": 9,
    "start_time": "2022-03-31T21:14:49.758Z"
   },
   {
    "duration": 26,
    "start_time": "2022-03-31T21:14:49.769Z"
   },
   {
    "duration": 9,
    "start_time": "2022-03-31T21:14:49.797Z"
   },
   {
    "duration": 230,
    "start_time": "2022-03-31T21:14:49.808Z"
   },
   {
    "duration": 122,
    "start_time": "2022-03-31T21:14:50.040Z"
   },
   {
    "duration": 17,
    "start_time": "2022-03-31T21:14:50.164Z"
   },
   {
    "duration": 214,
    "start_time": "2022-03-31T21:14:50.183Z"
   },
   {
    "duration": 135,
    "start_time": "2022-03-31T21:14:50.399Z"
   },
   {
    "duration": 9,
    "start_time": "2022-03-31T21:14:50.535Z"
   },
   {
    "duration": 272,
    "start_time": "2022-03-31T21:14:50.546Z"
   },
   {
    "duration": 133,
    "start_time": "2022-03-31T21:14:50.820Z"
   },
   {
    "duration": 10,
    "start_time": "2022-03-31T21:14:50.955Z"
   },
   {
    "duration": 199,
    "start_time": "2022-03-31T21:14:50.966Z"
   },
   {
    "duration": 131,
    "start_time": "2022-03-31T21:14:51.167Z"
   },
   {
    "duration": 309,
    "start_time": "2022-03-31T21:14:51.299Z"
   },
   {
    "duration": 162,
    "start_time": "2022-03-31T21:14:51.609Z"
   },
   {
    "duration": 14,
    "start_time": "2022-03-31T21:14:51.773Z"
   },
   {
    "duration": 7,
    "start_time": "2022-03-31T21:14:51.788Z"
   },
   {
    "duration": 111,
    "start_time": "2022-03-31T21:14:51.796Z"
   },
   {
    "duration": 124,
    "start_time": "2022-03-31T21:14:51.909Z"
   },
   {
    "duration": 133,
    "start_time": "2022-03-31T21:14:52.035Z"
   },
   {
    "duration": 149,
    "start_time": "2022-03-31T21:14:52.169Z"
   },
   {
    "duration": 34,
    "start_time": "2022-03-31T21:14:52.319Z"
   },
   {
    "duration": 134,
    "start_time": "2022-03-31T21:14:52.355Z"
   },
   {
    "duration": 437,
    "start_time": "2022-03-31T21:14:52.491Z"
   },
   {
    "duration": 10,
    "start_time": "2022-03-31T21:14:52.930Z"
   },
   {
    "duration": 24,
    "start_time": "2022-03-31T21:14:52.941Z"
   },
   {
    "duration": 42,
    "start_time": "2022-03-31T21:14:52.966Z"
   },
   {
    "duration": 13,
    "start_time": "2022-03-31T21:14:53.009Z"
   },
   {
    "duration": 8,
    "start_time": "2022-03-31T21:14:53.023Z"
   },
   {
    "duration": 181,
    "start_time": "2022-03-31T21:14:53.032Z"
   },
   {
    "duration": 7,
    "start_time": "2022-03-31T21:14:53.214Z"
   },
   {
    "duration": 9,
    "start_time": "2022-03-31T21:14:53.222Z"
   },
   {
    "duration": 138,
    "start_time": "2022-03-31T21:14:53.233Z"
   },
   {
    "duration": 196,
    "start_time": "2022-03-31T21:14:53.373Z"
   },
   {
    "duration": 15,
    "start_time": "2022-03-31T21:14:53.571Z"
   },
   {
    "duration": 218,
    "start_time": "2022-03-31T21:14:53.588Z"
   },
   {
    "duration": 8,
    "start_time": "2022-03-31T21:14:53.808Z"
   },
   {
    "duration": 197,
    "start_time": "2022-03-31T21:14:53.818Z"
   },
   {
    "duration": 8,
    "start_time": "2022-03-31T21:14:54.017Z"
   },
   {
    "duration": 191,
    "start_time": "2022-03-31T21:14:54.027Z"
   },
   {
    "duration": 121,
    "start_time": "2022-03-31T21:15:15.727Z"
   },
   {
    "duration": 118,
    "start_time": "2022-03-31T21:15:23.425Z"
   },
   {
    "duration": 128,
    "start_time": "2022-04-02T11:50:30.843Z"
   },
   {
    "duration": 1818,
    "start_time": "2022-04-02T11:50:48.210Z"
   },
   {
    "duration": 116,
    "start_time": "2022-04-02T11:50:50.031Z"
   },
   {
    "duration": 24,
    "start_time": "2022-04-02T11:50:50.149Z"
   },
   {
    "duration": 49,
    "start_time": "2022-04-02T11:50:50.175Z"
   },
   {
    "duration": 61,
    "start_time": "2022-04-02T11:50:50.227Z"
   },
   {
    "duration": 132,
    "start_time": "2022-04-02T11:50:50.291Z"
   },
   {
    "duration": 20,
    "start_time": "2022-04-02T11:50:50.425Z"
   },
   {
    "duration": 21,
    "start_time": "2022-04-02T11:50:50.448Z"
   },
   {
    "duration": 7,
    "start_time": "2022-04-02T11:50:50.471Z"
   },
   {
    "duration": 9,
    "start_time": "2022-04-02T11:50:50.480Z"
   },
   {
    "duration": 7,
    "start_time": "2022-04-02T11:50:50.490Z"
   },
   {
    "duration": 6,
    "start_time": "2022-04-02T11:50:50.499Z"
   },
   {
    "duration": 5,
    "start_time": "2022-04-02T11:50:50.507Z"
   },
   {
    "duration": 5,
    "start_time": "2022-04-02T11:50:50.517Z"
   },
   {
    "duration": 1030,
    "start_time": "2022-04-02T11:50:50.524Z"
   },
   {
    "duration": 6,
    "start_time": "2022-04-02T11:50:51.556Z"
   },
   {
    "duration": 7,
    "start_time": "2022-04-02T11:50:51.565Z"
   },
   {
    "duration": 6,
    "start_time": "2022-04-02T11:50:51.575Z"
   },
   {
    "duration": 10,
    "start_time": "2022-04-02T11:50:51.584Z"
   },
   {
    "duration": 6,
    "start_time": "2022-04-02T11:50:51.597Z"
   },
   {
    "duration": 39,
    "start_time": "2022-04-02T11:50:51.606Z"
   },
   {
    "duration": 9,
    "start_time": "2022-04-02T11:50:51.649Z"
   },
   {
    "duration": 21,
    "start_time": "2022-04-02T11:50:51.661Z"
   },
   {
    "duration": 60,
    "start_time": "2022-04-02T11:50:51.685Z"
   },
   {
    "duration": 22,
    "start_time": "2022-04-02T11:50:51.747Z"
   },
   {
    "duration": 72,
    "start_time": "2022-04-02T11:50:51.772Z"
   },
   {
    "duration": 41,
    "start_time": "2022-04-02T11:50:51.846Z"
   },
   {
    "duration": 30,
    "start_time": "2022-04-02T11:50:51.944Z"
   },
   {
    "duration": 73,
    "start_time": "2022-04-02T11:50:51.977Z"
   },
   {
    "duration": 31,
    "start_time": "2022-04-02T11:50:52.054Z"
   },
   {
    "duration": 29,
    "start_time": "2022-04-02T11:50:52.143Z"
   },
   {
    "duration": 8,
    "start_time": "2022-04-02T11:50:52.175Z"
   },
   {
    "duration": 77,
    "start_time": "2022-04-02T11:50:52.185Z"
   },
   {
    "duration": 561,
    "start_time": "2022-04-02T11:50:52.265Z"
   },
   {
    "duration": 20,
    "start_time": "2022-04-02T11:50:52.829Z"
   },
   {
    "duration": 35,
    "start_time": "2022-04-02T11:50:52.851Z"
   },
   {
    "duration": 13,
    "start_time": "2022-04-02T11:50:52.889Z"
   },
   {
    "duration": 345,
    "start_time": "2022-04-02T11:50:52.904Z"
   },
   {
    "duration": 170,
    "start_time": "2022-04-02T11:50:53.251Z"
   },
   {
    "duration": 25,
    "start_time": "2022-04-02T11:50:53.423Z"
   },
   {
    "duration": 286,
    "start_time": "2022-04-02T11:50:53.456Z"
   },
   {
    "duration": 173,
    "start_time": "2022-04-02T11:50:53.745Z"
   },
   {
    "duration": 24,
    "start_time": "2022-04-02T11:50:53.920Z"
   },
   {
    "duration": 252,
    "start_time": "2022-04-02T11:50:53.947Z"
   },
   {
    "duration": 171,
    "start_time": "2022-04-02T11:50:54.202Z"
   },
   {
    "duration": 13,
    "start_time": "2022-04-02T11:50:54.376Z"
   },
   {
    "duration": 262,
    "start_time": "2022-04-02T11:50:54.391Z"
   },
   {
    "duration": 170,
    "start_time": "2022-04-02T11:50:54.655Z"
   },
   {
    "duration": 395,
    "start_time": "2022-04-02T11:50:54.827Z"
   },
   {
    "duration": 192,
    "start_time": "2022-04-02T11:50:55.224Z"
   },
   {
    "duration": 24,
    "start_time": "2022-04-02T11:50:55.418Z"
   },
   {
    "duration": 7,
    "start_time": "2022-04-02T11:50:55.445Z"
   },
   {
    "duration": 261,
    "start_time": "2022-04-02T11:50:55.455Z"
   },
   {
    "duration": 214,
    "start_time": "2022-04-02T11:50:55.719Z"
   },
   {
    "duration": 237,
    "start_time": "2022-04-02T11:50:55.942Z"
   },
   {
    "duration": 261,
    "start_time": "2022-04-02T11:50:56.182Z"
   },
   {
    "duration": 54,
    "start_time": "2022-04-02T11:50:56.446Z"
   },
   {
    "duration": 255,
    "start_time": "2022-04-02T11:50:56.503Z"
   },
   {
    "duration": 693,
    "start_time": "2022-04-02T11:50:56.761Z"
   },
   {
    "duration": 16,
    "start_time": "2022-04-02T11:50:57.457Z"
   },
   {
    "duration": 38,
    "start_time": "2022-04-02T11:50:57.476Z"
   },
   {
    "duration": 73,
    "start_time": "2022-04-02T11:50:57.517Z"
   },
   {
    "duration": 50,
    "start_time": "2022-04-02T11:50:57.593Z"
   },
   {
    "duration": 14,
    "start_time": "2022-04-02T11:50:57.645Z"
   },
   {
    "duration": 327,
    "start_time": "2022-04-02T11:50:57.661Z"
   },
   {
    "duration": 10,
    "start_time": "2022-04-02T11:50:57.990Z"
   },
   {
    "duration": 26,
    "start_time": "2022-04-02T11:50:58.002Z"
   },
   {
    "duration": 250,
    "start_time": "2022-04-02T11:50:58.030Z"
   },
   {
    "duration": 260,
    "start_time": "2022-04-02T11:50:58.283Z"
   },
   {
    "duration": 11,
    "start_time": "2022-04-02T11:50:58.545Z"
   },
   {
    "duration": 290,
    "start_time": "2022-04-02T11:50:58.559Z"
   },
   {
    "duration": 11,
    "start_time": "2022-04-02T11:50:58.851Z"
   },
   {
    "duration": 349,
    "start_time": "2022-04-02T11:50:58.865Z"
   },
   {
    "duration": 27,
    "start_time": "2022-04-02T11:50:59.217Z"
   },
   {
    "duration": 245,
    "start_time": "2022-04-02T11:50:59.246Z"
   },
   {
    "duration": 1533,
    "start_time": "2022-04-02T11:53:04.904Z"
   },
   {
    "duration": 103,
    "start_time": "2022-04-02T11:53:06.440Z"
   },
   {
    "duration": 26,
    "start_time": "2022-04-02T11:53:06.545Z"
   },
   {
    "duration": 70,
    "start_time": "2022-04-02T11:53:06.575Z"
   },
   {
    "duration": 56,
    "start_time": "2022-04-02T11:53:06.648Z"
   },
   {
    "duration": 108,
    "start_time": "2022-04-02T11:53:06.707Z"
   },
   {
    "duration": 26,
    "start_time": "2022-04-02T11:53:06.818Z"
   },
   {
    "duration": 15,
    "start_time": "2022-04-02T11:53:06.846Z"
   },
   {
    "duration": 6,
    "start_time": "2022-04-02T11:53:06.864Z"
   },
   {
    "duration": 8,
    "start_time": "2022-04-02T11:53:06.874Z"
   },
   {
    "duration": 6,
    "start_time": "2022-04-02T11:53:06.884Z"
   },
   {
    "duration": 8,
    "start_time": "2022-04-02T11:53:06.892Z"
   },
   {
    "duration": 7,
    "start_time": "2022-04-02T11:53:06.944Z"
   },
   {
    "duration": 5,
    "start_time": "2022-04-02T11:53:06.953Z"
   },
   {
    "duration": 753,
    "start_time": "2022-04-02T11:53:06.960Z"
   },
   {
    "duration": 5,
    "start_time": "2022-04-02T11:53:07.715Z"
   },
   {
    "duration": 21,
    "start_time": "2022-04-02T11:53:07.722Z"
   },
   {
    "duration": 7,
    "start_time": "2022-04-02T11:53:07.745Z"
   },
   {
    "duration": 10,
    "start_time": "2022-04-02T11:53:07.755Z"
   },
   {
    "duration": 5,
    "start_time": "2022-04-02T11:53:07.767Z"
   },
   {
    "duration": 8,
    "start_time": "2022-04-02T11:53:07.774Z"
   },
   {
    "duration": 60,
    "start_time": "2022-04-02T11:53:07.784Z"
   },
   {
    "duration": 21,
    "start_time": "2022-04-02T11:53:07.846Z"
   },
   {
    "duration": 8,
    "start_time": "2022-04-02T11:53:07.869Z"
   },
   {
    "duration": 20,
    "start_time": "2022-04-02T11:53:07.879Z"
   },
   {
    "duration": 70,
    "start_time": "2022-04-02T11:53:07.901Z"
   },
   {
    "duration": 37,
    "start_time": "2022-04-02T11:53:07.973Z"
   },
   {
    "duration": 40,
    "start_time": "2022-04-02T11:53:08.016Z"
   },
   {
    "duration": 11,
    "start_time": "2022-04-02T11:53:08.058Z"
   },
   {
    "duration": 18,
    "start_time": "2022-04-02T11:53:08.071Z"
   },
   {
    "duration": 53,
    "start_time": "2022-04-02T11:53:08.091Z"
   },
   {
    "duration": 6,
    "start_time": "2022-04-02T11:53:08.147Z"
   },
   {
    "duration": 18,
    "start_time": "2022-04-02T11:53:08.155Z"
   },
   {
    "duration": 641,
    "start_time": "2022-04-02T11:53:08.175Z"
   },
   {
    "duration": 25,
    "start_time": "2022-04-02T11:53:08.819Z"
   },
   {
    "duration": 27,
    "start_time": "2022-04-02T11:53:08.847Z"
   },
   {
    "duration": 11,
    "start_time": "2022-04-02T11:53:08.876Z"
   },
   {
    "duration": 304,
    "start_time": "2022-04-02T11:53:08.889Z"
   },
   {
    "duration": 226,
    "start_time": "2022-04-02T11:53:09.195Z"
   },
   {
    "duration": 20,
    "start_time": "2022-04-02T11:53:09.423Z"
   },
   {
    "duration": 278,
    "start_time": "2022-04-02T11:53:09.445Z"
   },
   {
    "duration": 180,
    "start_time": "2022-04-02T11:53:09.725Z"
   },
   {
    "duration": 13,
    "start_time": "2022-04-02T11:53:09.908Z"
   },
   {
    "duration": 258,
    "start_time": "2022-04-02T11:53:09.923Z"
   },
   {
    "duration": 172,
    "start_time": "2022-04-02T11:53:10.183Z"
   },
   {
    "duration": 13,
    "start_time": "2022-04-02T11:53:10.357Z"
   },
   {
    "duration": 270,
    "start_time": "2022-04-02T11:53:10.373Z"
   },
   {
    "duration": 177,
    "start_time": "2022-04-02T11:53:10.645Z"
   },
   {
    "duration": 392,
    "start_time": "2022-04-02T11:53:10.825Z"
   },
   {
    "duration": 192,
    "start_time": "2022-04-02T11:53:11.220Z"
   },
   {
    "duration": 12,
    "start_time": "2022-04-02T11:53:11.414Z"
   },
   {
    "duration": 7,
    "start_time": "2022-04-02T11:53:11.442Z"
   },
   {
    "duration": 217,
    "start_time": "2022-04-02T11:53:11.452Z"
   },
   {
    "duration": 326,
    "start_time": "2022-04-02T11:53:11.670Z"
   },
   {
    "duration": 345,
    "start_time": "2022-04-02T11:53:11.998Z"
   },
   {
    "duration": 261,
    "start_time": "2022-04-02T11:53:12.346Z"
   },
   {
    "duration": 71,
    "start_time": "2022-04-02T11:53:12.609Z"
   },
   {
    "duration": 239,
    "start_time": "2022-04-02T11:53:12.682Z"
   },
   {
    "duration": 686,
    "start_time": "2022-04-02T11:53:12.924Z"
   },
   {
    "duration": 30,
    "start_time": "2022-04-02T11:53:13.613Z"
   },
   {
    "duration": 34,
    "start_time": "2022-04-02T11:53:13.645Z"
   },
   {
    "duration": 76,
    "start_time": "2022-04-02T11:53:13.681Z"
   },
   {
    "duration": 21,
    "start_time": "2022-04-02T11:53:13.760Z"
   },
   {
    "duration": 18,
    "start_time": "2022-04-02T11:53:13.784Z"
   },
   {
    "duration": 345,
    "start_time": "2022-04-02T11:53:13.804Z"
   },
   {
    "duration": 10,
    "start_time": "2022-04-02T11:53:14.151Z"
   },
   {
    "duration": 15,
    "start_time": "2022-04-02T11:53:14.163Z"
   },
   {
    "duration": 358,
    "start_time": "2022-04-02T11:53:14.180Z"
   },
   {
    "duration": 336,
    "start_time": "2022-04-02T11:53:14.542Z"
   },
   {
    "duration": 14,
    "start_time": "2022-04-02T11:53:14.880Z"
   },
   {
    "duration": 298,
    "start_time": "2022-04-02T11:53:14.896Z"
   },
   {
    "duration": 11,
    "start_time": "2022-04-02T11:53:15.197Z"
   },
   {
    "duration": 275,
    "start_time": "2022-04-02T11:53:15.210Z"
   },
   {
    "duration": 12,
    "start_time": "2022-04-02T11:53:15.488Z"
   },
   {
    "duration": 350,
    "start_time": "2022-04-02T11:53:15.503Z"
   },
   {
    "duration": 11,
    "start_time": "2022-04-02T11:53:59.973Z"
   },
   {
    "duration": 557,
    "start_time": "2022-04-02T11:55:12.596Z"
   },
   {
    "duration": 559,
    "start_time": "2022-04-02T11:56:16.900Z"
   },
   {
    "duration": 1520,
    "start_time": "2022-04-02T11:57:48.622Z"
   },
   {
    "duration": 97,
    "start_time": "2022-04-02T11:57:50.144Z"
   },
   {
    "duration": 23,
    "start_time": "2022-04-02T11:57:50.244Z"
   },
   {
    "duration": 48,
    "start_time": "2022-04-02T11:57:50.269Z"
   },
   {
    "duration": 62,
    "start_time": "2022-04-02T11:57:50.319Z"
   },
   {
    "duration": 110,
    "start_time": "2022-04-02T11:57:50.383Z"
   },
   {
    "duration": 12,
    "start_time": "2022-04-02T11:57:50.495Z"
   },
   {
    "duration": 35,
    "start_time": "2022-04-02T11:57:50.509Z"
   },
   {
    "duration": 6,
    "start_time": "2022-04-02T11:57:50.546Z"
   },
   {
    "duration": 8,
    "start_time": "2022-04-02T11:57:50.556Z"
   },
   {
    "duration": 7,
    "start_time": "2022-04-02T11:57:50.566Z"
   },
   {
    "duration": 6,
    "start_time": "2022-04-02T11:57:50.576Z"
   },
   {
    "duration": 7,
    "start_time": "2022-04-02T11:57:50.584Z"
   },
   {
    "duration": 50,
    "start_time": "2022-04-02T11:57:50.594Z"
   },
   {
    "duration": 8,
    "start_time": "2022-04-02T11:57:50.647Z"
   },
   {
    "duration": 6,
    "start_time": "2022-04-02T11:57:50.657Z"
   },
   {
    "duration": 7,
    "start_time": "2022-04-02T11:57:50.665Z"
   },
   {
    "duration": 11,
    "start_time": "2022-04-02T11:57:50.674Z"
   },
   {
    "duration": 4,
    "start_time": "2022-04-02T11:57:50.688Z"
   },
   {
    "duration": 8,
    "start_time": "2022-04-02T11:57:50.742Z"
   },
   {
    "duration": 8,
    "start_time": "2022-04-02T11:57:50.751Z"
   },
   {
    "duration": 22,
    "start_time": "2022-04-02T11:57:50.761Z"
   },
   {
    "duration": 7,
    "start_time": "2022-04-02T11:57:50.785Z"
   },
   {
    "duration": 59,
    "start_time": "2022-04-02T11:57:50.794Z"
   },
   {
    "duration": 31,
    "start_time": "2022-04-02T11:57:50.856Z"
   },
   {
    "duration": 29,
    "start_time": "2022-04-02T11:57:50.889Z"
   },
   {
    "duration": 42,
    "start_time": "2022-04-02T11:57:50.920Z"
   },
   {
    "duration": 11,
    "start_time": "2022-04-02T11:57:50.968Z"
   },
   {
    "duration": 18,
    "start_time": "2022-04-02T11:57:50.981Z"
   },
   {
    "duration": 51,
    "start_time": "2022-04-02T11:57:51.001Z"
   },
   {
    "duration": 6,
    "start_time": "2022-04-02T11:57:51.054Z"
   },
   {
    "duration": 19,
    "start_time": "2022-04-02T11:57:51.062Z"
   },
   {
    "duration": 524,
    "start_time": "2022-04-02T11:57:51.083Z"
   },
   {
    "duration": 11,
    "start_time": "2022-04-02T11:57:51.609Z"
   },
   {
    "duration": 35,
    "start_time": "2022-04-02T11:57:51.622Z"
   },
   {
    "duration": 11,
    "start_time": "2022-04-02T11:57:51.659Z"
   },
   {
    "duration": 281,
    "start_time": "2022-04-02T11:57:51.672Z"
   },
   {
    "duration": 155,
    "start_time": "2022-04-02T11:57:51.955Z"
   },
   {
    "duration": 11,
    "start_time": "2022-04-02T11:57:52.112Z"
   },
   {
    "duration": 280,
    "start_time": "2022-04-02T11:57:52.125Z"
   },
   {
    "duration": 174,
    "start_time": "2022-04-02T11:57:52.407Z"
   },
   {
    "duration": 12,
    "start_time": "2022-04-02T11:57:52.583Z"
   },
   {
    "duration": 305,
    "start_time": "2022-04-02T11:57:52.597Z"
   },
   {
    "duration": 164,
    "start_time": "2022-04-02T11:57:52.904Z"
   },
   {
    "duration": 11,
    "start_time": "2022-04-02T11:57:53.070Z"
   },
   {
    "duration": 237,
    "start_time": "2022-04-02T11:57:53.083Z"
   },
   {
    "duration": 164,
    "start_time": "2022-04-02T11:57:53.323Z"
   },
   {
    "duration": 369,
    "start_time": "2022-04-02T11:57:53.489Z"
   },
   {
    "duration": 194,
    "start_time": "2022-04-02T11:57:53.861Z"
   },
   {
    "duration": 13,
    "start_time": "2022-04-02T11:57:54.058Z"
   },
   {
    "duration": 8,
    "start_time": "2022-04-02T11:57:54.074Z"
   },
   {
    "duration": 192,
    "start_time": "2022-04-02T11:57:54.084Z"
   },
   {
    "duration": 214,
    "start_time": "2022-04-02T11:57:54.279Z"
   },
   {
    "duration": 238,
    "start_time": "2022-04-02T11:57:54.496Z"
   },
   {
    "duration": 247,
    "start_time": "2022-04-02T11:57:54.737Z"
   },
   {
    "duration": 75,
    "start_time": "2022-04-02T11:57:54.987Z"
   },
   {
    "duration": 234,
    "start_time": "2022-04-02T11:57:55.065Z"
   },
   {
    "duration": 722,
    "start_time": "2022-04-02T11:57:55.301Z"
   },
   {
    "duration": 25,
    "start_time": "2022-04-02T11:57:56.026Z"
   },
   {
    "duration": 35,
    "start_time": "2022-04-02T11:57:56.053Z"
   },
   {
    "duration": 83,
    "start_time": "2022-04-02T11:57:56.090Z"
   },
   {
    "duration": 21,
    "start_time": "2022-04-02T11:57:56.175Z"
   },
   {
    "duration": 13,
    "start_time": "2022-04-02T11:57:56.199Z"
   },
   {
    "duration": 341,
    "start_time": "2022-04-02T11:57:56.214Z"
   },
   {
    "duration": 11,
    "start_time": "2022-04-02T11:57:56.558Z"
   },
   {
    "duration": 12,
    "start_time": "2022-04-02T11:57:56.572Z"
   },
   {
    "duration": 257,
    "start_time": "2022-04-02T11:57:56.587Z"
   },
   {
    "duration": 244,
    "start_time": "2022-04-02T11:57:56.846Z"
   },
   {
    "duration": 13,
    "start_time": "2022-04-02T11:57:57.093Z"
   },
   {
    "duration": 282,
    "start_time": "2022-04-02T11:57:57.108Z"
   },
   {
    "duration": 10,
    "start_time": "2022-04-02T11:57:57.393Z"
   },
   {
    "duration": 246,
    "start_time": "2022-04-02T11:57:57.405Z"
   },
   {
    "duration": 11,
    "start_time": "2022-04-02T11:57:57.653Z"
   },
   {
    "duration": 225,
    "start_time": "2022-04-02T11:57:57.666Z"
   },
   {
    "duration": 214,
    "start_time": "2022-04-02T12:01:24.190Z"
   },
   {
    "duration": 208,
    "start_time": "2022-04-02T12:01:56.141Z"
   },
   {
    "duration": 1586,
    "start_time": "2022-04-02T12:02:44.852Z"
   },
   {
    "duration": 114,
    "start_time": "2022-04-02T12:02:46.443Z"
   },
   {
    "duration": 23,
    "start_time": "2022-04-02T12:02:46.559Z"
   },
   {
    "duration": 67,
    "start_time": "2022-04-02T12:02:46.585Z"
   },
   {
    "duration": 42,
    "start_time": "2022-04-02T12:02:46.655Z"
   },
   {
    "duration": 118,
    "start_time": "2022-04-02T12:02:46.699Z"
   },
   {
    "duration": 24,
    "start_time": "2022-04-02T12:02:46.819Z"
   },
   {
    "duration": 25,
    "start_time": "2022-04-02T12:02:46.845Z"
   },
   {
    "duration": 5,
    "start_time": "2022-04-02T12:02:46.872Z"
   },
   {
    "duration": 8,
    "start_time": "2022-04-02T12:02:46.881Z"
   },
   {
    "duration": 6,
    "start_time": "2022-04-02T12:02:46.891Z"
   },
   {
    "duration": 5,
    "start_time": "2022-04-02T12:02:46.900Z"
   },
   {
    "duration": 39,
    "start_time": "2022-04-02T12:02:46.907Z"
   },
   {
    "duration": 6,
    "start_time": "2022-04-02T12:02:46.948Z"
   },
   {
    "duration": 8,
    "start_time": "2022-04-02T12:02:46.956Z"
   },
   {
    "duration": 9,
    "start_time": "2022-04-02T12:02:46.966Z"
   },
   {
    "duration": 6,
    "start_time": "2022-04-02T12:02:46.977Z"
   },
   {
    "duration": 12,
    "start_time": "2022-04-02T12:02:46.985Z"
   },
   {
    "duration": 6,
    "start_time": "2022-04-02T12:02:47.043Z"
   },
   {
    "duration": 8,
    "start_time": "2022-04-02T12:02:47.051Z"
   },
   {
    "duration": 8,
    "start_time": "2022-04-02T12:02:47.061Z"
   },
   {
    "duration": 21,
    "start_time": "2022-04-02T12:02:47.071Z"
   },
   {
    "duration": 8,
    "start_time": "2022-04-02T12:02:47.094Z"
   },
   {
    "duration": 19,
    "start_time": "2022-04-02T12:02:47.143Z"
   },
   {
    "duration": 33,
    "start_time": "2022-04-02T12:02:47.164Z"
   },
   {
    "duration": 59,
    "start_time": "2022-04-02T12:02:47.200Z"
   },
   {
    "duration": 22,
    "start_time": "2022-04-02T12:02:47.261Z"
   },
   {
    "duration": 9,
    "start_time": "2022-04-02T12:02:47.289Z"
   },
   {
    "duration": 45,
    "start_time": "2022-04-02T12:02:47.301Z"
   },
   {
    "duration": 20,
    "start_time": "2022-04-02T12:02:47.348Z"
   },
   {
    "duration": 5,
    "start_time": "2022-04-02T12:02:47.370Z"
   },
   {
    "duration": 19,
    "start_time": "2022-04-02T12:02:47.378Z"
   },
   {
    "duration": 592,
    "start_time": "2022-04-02T12:02:47.399Z"
   },
   {
    "duration": 10,
    "start_time": "2022-04-02T12:02:47.993Z"
   },
   {
    "duration": 39,
    "start_time": "2022-04-02T12:02:48.005Z"
   },
   {
    "duration": 12,
    "start_time": "2022-04-02T12:02:48.046Z"
   },
   {
    "duration": 282,
    "start_time": "2022-04-02T12:02:48.060Z"
   },
   {
    "duration": 160,
    "start_time": "2022-04-02T12:02:48.344Z"
   },
   {
    "duration": 12,
    "start_time": "2022-04-02T12:02:48.506Z"
   },
   {
    "duration": 278,
    "start_time": "2022-04-02T12:02:48.520Z"
   },
   {
    "duration": 176,
    "start_time": "2022-04-02T12:02:48.800Z"
   },
   {
    "duration": 12,
    "start_time": "2022-04-02T12:02:48.978Z"
   },
   {
    "duration": 322,
    "start_time": "2022-04-02T12:02:48.992Z"
   },
   {
    "duration": 164,
    "start_time": "2022-04-02T12:02:49.316Z"
   },
   {
    "duration": 12,
    "start_time": "2022-04-02T12:02:49.482Z"
   },
   {
    "duration": 256,
    "start_time": "2022-04-02T12:02:49.496Z"
   },
   {
    "duration": 174,
    "start_time": "2022-04-02T12:02:49.754Z"
   },
   {
    "duration": 388,
    "start_time": "2022-04-02T12:02:49.930Z"
   },
   {
    "duration": 207,
    "start_time": "2022-04-02T12:02:50.321Z"
   },
   {
    "duration": 22,
    "start_time": "2022-04-02T12:02:50.532Z"
   },
   {
    "duration": 8,
    "start_time": "2022-04-02T12:02:50.557Z"
   },
   {
    "duration": 184,
    "start_time": "2022-04-02T12:02:50.568Z"
   },
   {
    "duration": 215,
    "start_time": "2022-04-02T12:02:50.754Z"
   },
   {
    "duration": 240,
    "start_time": "2022-04-02T12:02:50.972Z"
   },
   {
    "duration": 256,
    "start_time": "2022-04-02T12:02:51.215Z"
   },
   {
    "duration": 51,
    "start_time": "2022-04-02T12:02:51.473Z"
   },
   {
    "duration": 231,
    "start_time": "2022-04-02T12:02:51.543Z"
   },
   {
    "duration": 739,
    "start_time": "2022-04-02T12:02:51.776Z"
   },
   {
    "duration": 27,
    "start_time": "2022-04-02T12:02:52.517Z"
   },
   {
    "duration": 34,
    "start_time": "2022-04-02T12:02:52.547Z"
   },
   {
    "duration": 70,
    "start_time": "2022-04-02T12:02:52.583Z"
   },
   {
    "duration": 21,
    "start_time": "2022-04-02T12:02:52.655Z"
   },
   {
    "duration": 11,
    "start_time": "2022-04-02T12:02:52.678Z"
   },
   {
    "duration": 328,
    "start_time": "2022-04-02T12:02:52.691Z"
   },
   {
    "duration": 22,
    "start_time": "2022-04-02T12:02:53.021Z"
   },
   {
    "duration": 10,
    "start_time": "2022-04-02T12:02:53.045Z"
   },
   {
    "duration": 245,
    "start_time": "2022-04-02T12:02:53.057Z"
   },
   {
    "duration": 246,
    "start_time": "2022-04-02T12:02:53.304Z"
   },
   {
    "duration": 10,
    "start_time": "2022-04-02T12:02:53.552Z"
   },
   {
    "duration": 287,
    "start_time": "2022-04-02T12:02:53.565Z"
   },
   {
    "duration": 13,
    "start_time": "2022-04-02T12:02:53.854Z"
   },
   {
    "duration": 250,
    "start_time": "2022-04-02T12:02:53.870Z"
   },
   {
    "duration": 23,
    "start_time": "2022-04-02T12:02:54.122Z"
   },
   {
    "duration": 216,
    "start_time": "2022-04-02T12:02:54.147Z"
   },
   {
    "duration": 201,
    "start_time": "2022-04-02T12:03:13.680Z"
   },
   {
    "duration": 231,
    "start_time": "2022-04-02T12:43:31.614Z"
   },
   {
    "duration": 284,
    "start_time": "2022-04-02T12:48:34.107Z"
   },
   {
    "duration": 233,
    "start_time": "2022-04-02T12:49:43.212Z"
   },
   {
    "duration": 214,
    "start_time": "2022-04-02T12:59:39.749Z"
   },
   {
    "duration": 206,
    "start_time": "2022-04-02T12:59:45.910Z"
   },
   {
    "duration": 187,
    "start_time": "2022-04-02T13:00:42.388Z"
   },
   {
    "duration": 153,
    "start_time": "2022-04-02T13:01:44.070Z"
   },
   {
    "duration": 215,
    "start_time": "2022-04-02T13:02:43.867Z"
   },
   {
    "duration": 376,
    "start_time": "2022-04-02T13:04:40.202Z"
   },
   {
    "duration": 665,
    "start_time": "2022-04-02T13:07:07.982Z"
   },
   {
    "duration": 56,
    "start_time": "2022-04-02T13:10:55.532Z"
   },
   {
    "duration": 28,
    "start_time": "2022-04-02T13:13:39.458Z"
   },
   {
    "duration": 56,
    "start_time": "2022-04-02T13:14:04.420Z"
   },
   {
    "duration": 205,
    "start_time": "2022-04-02T13:15:52.030Z"
   },
   {
    "duration": 229,
    "start_time": "2022-04-02T13:16:03.450Z"
   },
   {
    "duration": 210,
    "start_time": "2022-04-02T13:17:00.850Z"
   },
   {
    "duration": 287,
    "start_time": "2022-04-02T13:17:41.437Z"
   },
   {
    "duration": 872,
    "start_time": "2022-04-02T13:19:10.876Z"
   },
   {
    "duration": 229,
    "start_time": "2022-04-02T13:20:09.187Z"
   },
   {
    "duration": 602,
    "start_time": "2022-04-02T13:20:35.563Z"
   },
   {
    "duration": 222,
    "start_time": "2022-04-02T13:21:58.697Z"
   },
   {
    "duration": 1467,
    "start_time": "2022-04-02T13:24:15.284Z"
   },
   {
    "duration": 101,
    "start_time": "2022-04-02T13:24:16.754Z"
   },
   {
    "duration": 24,
    "start_time": "2022-04-02T13:24:16.857Z"
   },
   {
    "duration": 63,
    "start_time": "2022-04-02T13:24:16.884Z"
   },
   {
    "duration": 43,
    "start_time": "2022-04-02T13:24:16.949Z"
   },
   {
    "duration": 116,
    "start_time": "2022-04-02T13:24:16.995Z"
   },
   {
    "duration": 13,
    "start_time": "2022-04-02T13:24:17.113Z"
   },
   {
    "duration": 15,
    "start_time": "2022-04-02T13:24:17.142Z"
   },
   {
    "duration": 6,
    "start_time": "2022-04-02T13:24:17.159Z"
   },
   {
    "duration": 11,
    "start_time": "2022-04-02T13:24:17.168Z"
   },
   {
    "duration": 8,
    "start_time": "2022-04-02T13:24:17.181Z"
   },
   {
    "duration": 7,
    "start_time": "2022-04-02T13:24:17.191Z"
   },
   {
    "duration": 46,
    "start_time": "2022-04-02T13:24:17.200Z"
   },
   {
    "duration": 8,
    "start_time": "2022-04-02T13:24:17.248Z"
   },
   {
    "duration": 11,
    "start_time": "2022-04-02T13:24:17.258Z"
   },
   {
    "duration": 5,
    "start_time": "2022-04-02T13:24:17.272Z"
   },
   {
    "duration": 9,
    "start_time": "2022-04-02T13:24:17.279Z"
   },
   {
    "duration": 59,
    "start_time": "2022-04-02T13:24:17.290Z"
   },
   {
    "duration": 5,
    "start_time": "2022-04-02T13:24:17.351Z"
   },
   {
    "duration": 15,
    "start_time": "2022-04-02T13:24:17.358Z"
   },
   {
    "duration": 14,
    "start_time": "2022-04-02T13:24:17.375Z"
   },
   {
    "duration": 22,
    "start_time": "2022-04-02T13:24:17.391Z"
   },
   {
    "duration": 8,
    "start_time": "2022-04-02T13:24:17.442Z"
   },
   {
    "duration": 22,
    "start_time": "2022-04-02T13:24:17.452Z"
   },
   {
    "duration": 34,
    "start_time": "2022-04-02T13:24:17.476Z"
   },
   {
    "duration": 62,
    "start_time": "2022-04-02T13:24:17.512Z"
   },
   {
    "duration": 22,
    "start_time": "2022-04-02T13:24:17.576Z"
   },
   {
    "duration": 10,
    "start_time": "2022-04-02T13:24:17.605Z"
   },
   {
    "duration": 43,
    "start_time": "2022-04-02T13:24:17.617Z"
   },
   {
    "duration": 19,
    "start_time": "2022-04-02T13:24:17.662Z"
   },
   {
    "duration": 5,
    "start_time": "2022-04-02T13:24:17.683Z"
   },
   {
    "duration": 58,
    "start_time": "2022-04-02T13:24:17.690Z"
   },
   {
    "duration": 544,
    "start_time": "2022-04-02T13:24:17.750Z"
   },
   {
    "duration": 11,
    "start_time": "2022-04-02T13:24:18.297Z"
   },
   {
    "duration": 41,
    "start_time": "2022-04-02T13:24:18.311Z"
   },
   {
    "duration": 12,
    "start_time": "2022-04-02T13:24:18.354Z"
   },
   {
    "duration": 296,
    "start_time": "2022-04-02T13:24:18.368Z"
   },
   {
    "duration": 164,
    "start_time": "2022-04-02T13:24:18.666Z"
   },
   {
    "duration": 20,
    "start_time": "2022-04-02T13:24:18.833Z"
   },
   {
    "duration": 384,
    "start_time": "2022-04-02T13:24:18.855Z"
   },
   {
    "duration": 174,
    "start_time": "2022-04-02T13:24:19.243Z"
   },
   {
    "duration": 29,
    "start_time": "2022-04-02T13:24:19.420Z"
   },
   {
    "duration": 425,
    "start_time": "2022-04-02T13:24:19.452Z"
   },
   {
    "duration": 226,
    "start_time": "2022-04-02T13:24:19.880Z"
   },
   {
    "duration": 14,
    "start_time": "2022-04-02T13:24:20.108Z"
   },
   {
    "duration": 325,
    "start_time": "2022-04-02T13:24:20.124Z"
   },
   {
    "duration": 214,
    "start_time": "2022-04-02T13:24:20.451Z"
   },
   {
    "duration": 385,
    "start_time": "2022-04-02T13:24:20.667Z"
   },
   {
    "duration": 191,
    "start_time": "2022-04-02T13:24:21.054Z"
   },
   {
    "duration": 11,
    "start_time": "2022-04-02T13:24:21.247Z"
   },
   {
    "duration": 25,
    "start_time": "2022-04-02T13:24:21.260Z"
   },
   {
    "duration": 163,
    "start_time": "2022-04-02T13:24:21.287Z"
   },
   {
    "duration": 220,
    "start_time": "2022-04-02T13:24:21.453Z"
   },
   {
    "duration": 211,
    "start_time": "2022-04-02T13:24:21.676Z"
   },
   {
    "duration": 262,
    "start_time": "2022-04-02T13:24:21.889Z"
   },
   {
    "duration": 54,
    "start_time": "2022-04-02T13:24:22.153Z"
   },
   {
    "duration": 250,
    "start_time": "2022-04-02T13:24:22.209Z"
   },
   {
    "duration": 761,
    "start_time": "2022-04-02T13:24:22.461Z"
   },
   {
    "duration": 24,
    "start_time": "2022-04-02T13:24:23.225Z"
   },
   {
    "duration": 37,
    "start_time": "2022-04-02T13:24:23.251Z"
   },
   {
    "duration": 77,
    "start_time": "2022-04-02T13:24:23.290Z"
   },
   {
    "duration": 20,
    "start_time": "2022-04-02T13:24:23.370Z"
   },
   {
    "duration": 12,
    "start_time": "2022-04-02T13:24:23.392Z"
   },
   {
    "duration": 355,
    "start_time": "2022-04-02T13:24:23.406Z"
   },
   {
    "duration": 11,
    "start_time": "2022-04-02T13:24:23.763Z"
   },
   {
    "duration": 25,
    "start_time": "2022-04-02T13:24:23.776Z"
   },
   {
    "duration": 278,
    "start_time": "2022-04-02T13:24:23.804Z"
   },
   {
    "duration": 12,
    "start_time": "2022-04-02T13:24:24.085Z"
   },
   {
    "duration": 306,
    "start_time": "2022-04-02T13:24:24.100Z"
   },
   {
    "duration": 12,
    "start_time": "2022-04-02T13:24:24.408Z"
   },
   {
    "duration": 363,
    "start_time": "2022-04-02T13:24:24.422Z"
   },
   {
    "duration": 13,
    "start_time": "2022-04-02T13:24:24.788Z"
   },
   {
    "duration": 315,
    "start_time": "2022-04-02T13:24:24.804Z"
   },
   {
    "duration": 303,
    "start_time": "2022-04-02T13:24:25.122Z"
   },
   {
    "duration": 606,
    "start_time": "2022-04-02T13:24:25.428Z"
   },
   {
    "duration": 423,
    "start_time": "2022-04-02T13:24:26.043Z"
   },
   {
    "duration": 733,
    "start_time": "2022-04-02T13:24:26.468Z"
   },
   {
    "duration": 80,
    "start_time": "2022-04-02T13:24:27.204Z"
   },
   {
    "duration": 74,
    "start_time": "2022-04-02T13:24:27.286Z"
   },
   {
    "duration": 454,
    "start_time": "2022-04-02T13:29:18.522Z"
   },
   {
    "duration": 1515,
    "start_time": "2022-04-02T13:29:26.484Z"
   },
   {
    "duration": 101,
    "start_time": "2022-04-02T13:29:28.002Z"
   },
   {
    "duration": 22,
    "start_time": "2022-04-02T13:29:28.106Z"
   },
   {
    "duration": 51,
    "start_time": "2022-04-02T13:29:28.142Z"
   },
   {
    "duration": 65,
    "start_time": "2022-04-02T13:29:28.195Z"
   },
   {
    "duration": 114,
    "start_time": "2022-04-02T13:29:28.262Z"
   },
   {
    "duration": 15,
    "start_time": "2022-04-02T13:29:28.378Z"
   },
   {
    "duration": 25,
    "start_time": "2022-04-02T13:29:28.396Z"
   },
   {
    "duration": 21,
    "start_time": "2022-04-02T13:29:28.423Z"
   },
   {
    "duration": 9,
    "start_time": "2022-04-02T13:29:28.447Z"
   },
   {
    "duration": 13,
    "start_time": "2022-04-02T13:29:28.458Z"
   },
   {
    "duration": 7,
    "start_time": "2022-04-02T13:29:28.473Z"
   },
   {
    "duration": 8,
    "start_time": "2022-04-02T13:29:28.482Z"
   },
   {
    "duration": 6,
    "start_time": "2022-04-02T13:29:28.492Z"
   },
   {
    "duration": 9,
    "start_time": "2022-04-02T13:29:28.543Z"
   },
   {
    "duration": 7,
    "start_time": "2022-04-02T13:29:28.554Z"
   },
   {
    "duration": 6,
    "start_time": "2022-04-02T13:29:28.563Z"
   },
   {
    "duration": 11,
    "start_time": "2022-04-02T13:29:28.572Z"
   },
   {
    "duration": 7,
    "start_time": "2022-04-02T13:29:28.585Z"
   },
   {
    "duration": 50,
    "start_time": "2022-04-02T13:29:28.594Z"
   },
   {
    "duration": 8,
    "start_time": "2022-04-02T13:29:28.646Z"
   },
   {
    "duration": 25,
    "start_time": "2022-04-02T13:29:28.656Z"
   },
   {
    "duration": 7,
    "start_time": "2022-04-02T13:29:28.686Z"
   },
   {
    "duration": 55,
    "start_time": "2022-04-02T13:29:28.696Z"
   },
   {
    "duration": 33,
    "start_time": "2022-04-02T13:29:28.754Z"
   },
   {
    "duration": 60,
    "start_time": "2022-04-02T13:29:28.790Z"
   },
   {
    "duration": 26,
    "start_time": "2022-04-02T13:29:28.853Z"
   },
   {
    "duration": 14,
    "start_time": "2022-04-02T13:29:28.887Z"
   },
   {
    "duration": 47,
    "start_time": "2022-04-02T13:29:28.903Z"
   },
   {
    "duration": 24,
    "start_time": "2022-04-02T13:29:28.953Z"
   },
   {
    "duration": 6,
    "start_time": "2022-04-02T13:29:28.979Z"
   },
   {
    "duration": 19,
    "start_time": "2022-04-02T13:29:28.987Z"
   },
   {
    "duration": 555,
    "start_time": "2022-04-02T13:29:29.008Z"
   },
   {
    "duration": 11,
    "start_time": "2022-04-02T13:29:29.565Z"
   },
   {
    "duration": 19,
    "start_time": "2022-04-02T13:29:29.578Z"
   },
   {
    "duration": 11,
    "start_time": "2022-04-02T13:29:29.599Z"
   },
   {
    "duration": 276,
    "start_time": "2022-04-02T13:29:29.643Z"
   },
   {
    "duration": 169,
    "start_time": "2022-04-02T13:29:29.921Z"
   },
   {
    "duration": 11,
    "start_time": "2022-04-02T13:29:30.093Z"
   },
   {
    "duration": 281,
    "start_time": "2022-04-02T13:29:30.106Z"
   },
   {
    "duration": 174,
    "start_time": "2022-04-02T13:29:30.390Z"
   },
   {
    "duration": 11,
    "start_time": "2022-04-02T13:29:30.567Z"
   },
   {
    "duration": 317,
    "start_time": "2022-04-02T13:29:30.580Z"
   },
   {
    "duration": 181,
    "start_time": "2022-04-02T13:29:30.899Z"
   },
   {
    "duration": 11,
    "start_time": "2022-04-02T13:29:31.082Z"
   },
   {
    "duration": 254,
    "start_time": "2022-04-02T13:29:31.095Z"
   },
   {
    "duration": 171,
    "start_time": "2022-04-02T13:29:31.351Z"
   },
   {
    "duration": 381,
    "start_time": "2022-04-02T13:29:31.524Z"
   },
   {
    "duration": 194,
    "start_time": "2022-04-02T13:29:31.908Z"
   },
   {
    "duration": 12,
    "start_time": "2022-04-02T13:29:32.104Z"
   },
   {
    "duration": 29,
    "start_time": "2022-04-02T13:29:32.118Z"
   },
   {
    "duration": 168,
    "start_time": "2022-04-02T13:29:32.150Z"
   },
   {
    "duration": 222,
    "start_time": "2022-04-02T13:29:32.320Z"
   },
   {
    "duration": 202,
    "start_time": "2022-04-02T13:29:32.545Z"
   },
   {
    "duration": 265,
    "start_time": "2022-04-02T13:29:32.749Z"
   },
   {
    "duration": 67,
    "start_time": "2022-04-02T13:29:33.016Z"
   },
   {
    "duration": 244,
    "start_time": "2022-04-02T13:29:33.085Z"
   },
   {
    "duration": 974,
    "start_time": "2022-04-02T13:29:33.331Z"
   },
   {
    "duration": 35,
    "start_time": "2022-04-02T13:29:34.307Z"
   },
   {
    "duration": 44,
    "start_time": "2022-04-02T13:29:34.345Z"
   },
   {
    "duration": 71,
    "start_time": "2022-04-02T13:29:34.391Z"
   },
   {
    "duration": 19,
    "start_time": "2022-04-02T13:29:34.465Z"
   },
   {
    "duration": 12,
    "start_time": "2022-04-02T13:29:34.487Z"
   },
   {
    "duration": 342,
    "start_time": "2022-04-02T13:29:34.501Z"
   },
   {
    "duration": 9,
    "start_time": "2022-04-02T13:29:34.845Z"
   },
   {
    "duration": 21,
    "start_time": "2022-04-02T13:29:34.858Z"
   },
   {
    "duration": 365,
    "start_time": "2022-04-02T13:29:34.881Z"
   },
   {
    "duration": 10,
    "start_time": "2022-04-02T13:29:35.248Z"
   },
   {
    "duration": 291,
    "start_time": "2022-04-02T13:29:35.261Z"
   },
   {
    "duration": 11,
    "start_time": "2022-04-02T13:29:35.555Z"
   },
   {
    "duration": 255,
    "start_time": "2022-04-02T13:29:35.569Z"
   },
   {
    "duration": 22,
    "start_time": "2022-04-02T13:29:35.826Z"
   },
   {
    "duration": 228,
    "start_time": "2022-04-02T13:29:35.851Z"
   },
   {
    "duration": 235,
    "start_time": "2022-04-02T13:29:36.082Z"
   },
   {
    "duration": 462,
    "start_time": "2022-04-02T13:29:36.320Z"
   },
   {
    "duration": 329,
    "start_time": "2022-04-02T13:29:36.785Z"
   },
   {
    "duration": 698,
    "start_time": "2022-04-02T13:29:37.117Z"
   },
   {
    "duration": 238,
    "start_time": "2022-04-02T13:53:27.638Z"
   },
   {
    "duration": 201,
    "start_time": "2022-04-02T13:53:48.356Z"
   },
   {
    "duration": 6,
    "start_time": "2022-04-02T13:54:42.360Z"
   },
   {
    "duration": 5,
    "start_time": "2022-04-02T13:55:43.788Z"
   },
   {
    "duration": 152,
    "start_time": "2022-04-02T13:56:37.589Z"
   },
   {
    "duration": 681,
    "start_time": "2022-04-02T14:03:58.272Z"
   },
   {
    "duration": 63,
    "start_time": "2022-04-02T14:06:32.731Z"
   },
   {
    "duration": 215,
    "start_time": "2022-04-02T14:07:28.762Z"
   },
   {
    "duration": 1526,
    "start_time": "2022-04-02T14:08:25.368Z"
   },
   {
    "duration": 112,
    "start_time": "2022-04-02T14:08:26.899Z"
   },
   {
    "duration": 31,
    "start_time": "2022-04-02T14:08:27.015Z"
   },
   {
    "duration": 53,
    "start_time": "2022-04-02T14:08:27.048Z"
   },
   {
    "duration": 65,
    "start_time": "2022-04-02T14:08:27.103Z"
   },
   {
    "duration": 119,
    "start_time": "2022-04-02T14:08:27.170Z"
   },
   {
    "duration": 12,
    "start_time": "2022-04-02T14:08:27.291Z"
   },
   {
    "duration": 39,
    "start_time": "2022-04-02T14:08:27.305Z"
   },
   {
    "duration": 7,
    "start_time": "2022-04-02T14:08:27.349Z"
   },
   {
    "duration": 27,
    "start_time": "2022-04-02T14:08:27.359Z"
   },
   {
    "duration": 17,
    "start_time": "2022-04-02T14:08:27.389Z"
   },
   {
    "duration": 17,
    "start_time": "2022-04-02T14:08:27.408Z"
   },
   {
    "duration": 16,
    "start_time": "2022-04-02T14:08:27.427Z"
   },
   {
    "duration": 17,
    "start_time": "2022-04-02T14:08:27.445Z"
   },
   {
    "duration": 14,
    "start_time": "2022-04-02T14:08:27.465Z"
   },
   {
    "duration": 11,
    "start_time": "2022-04-02T14:08:27.481Z"
   },
   {
    "duration": 11,
    "start_time": "2022-04-02T14:08:27.495Z"
   },
   {
    "duration": 36,
    "start_time": "2022-04-02T14:08:27.508Z"
   },
   {
    "duration": 7,
    "start_time": "2022-04-02T14:08:27.548Z"
   },
   {
    "duration": 21,
    "start_time": "2022-04-02T14:08:27.558Z"
   },
   {
    "duration": 11,
    "start_time": "2022-04-02T14:08:27.582Z"
   },
   {
    "duration": 56,
    "start_time": "2022-04-02T14:08:27.595Z"
   },
   {
    "duration": 10,
    "start_time": "2022-04-02T14:08:27.654Z"
   },
   {
    "duration": 27,
    "start_time": "2022-04-02T14:08:27.667Z"
   },
   {
    "duration": 65,
    "start_time": "2022-04-02T14:08:27.696Z"
   },
   {
    "duration": 37,
    "start_time": "2022-04-02T14:08:27.763Z"
   },
   {
    "duration": 45,
    "start_time": "2022-04-02T14:08:27.807Z"
   },
   {
    "duration": 15,
    "start_time": "2022-04-02T14:08:27.855Z"
   },
   {
    "duration": 26,
    "start_time": "2022-04-02T14:08:27.872Z"
   },
   {
    "duration": 23,
    "start_time": "2022-04-02T14:08:27.901Z"
   },
   {
    "duration": 6,
    "start_time": "2022-04-02T14:08:27.942Z"
   },
   {
    "duration": 26,
    "start_time": "2022-04-02T14:08:27.950Z"
   },
   {
    "duration": 575,
    "start_time": "2022-04-02T14:08:27.979Z"
   },
   {
    "duration": 11,
    "start_time": "2022-04-02T14:08:28.557Z"
   },
   {
    "duration": 23,
    "start_time": "2022-04-02T14:08:28.570Z"
   },
   {
    "duration": 12,
    "start_time": "2022-04-02T14:08:28.595Z"
   },
   {
    "duration": 342,
    "start_time": "2022-04-02T14:08:28.609Z"
   },
   {
    "duration": 181,
    "start_time": "2022-04-02T14:08:28.953Z"
   },
   {
    "duration": 12,
    "start_time": "2022-04-02T14:08:29.143Z"
   },
   {
    "duration": 311,
    "start_time": "2022-04-02T14:08:29.157Z"
   },
   {
    "duration": 186,
    "start_time": "2022-04-02T14:08:29.470Z"
   },
   {
    "duration": 11,
    "start_time": "2022-04-02T14:08:29.659Z"
   },
   {
    "duration": 342,
    "start_time": "2022-04-02T14:08:29.672Z"
   },
   {
    "duration": 179,
    "start_time": "2022-04-02T14:08:30.016Z"
   },
   {
    "duration": 13,
    "start_time": "2022-04-02T14:08:30.199Z"
   },
   {
    "duration": 264,
    "start_time": "2022-04-02T14:08:30.214Z"
   },
   {
    "duration": 227,
    "start_time": "2022-04-02T14:08:30.481Z"
   },
   {
    "duration": 557,
    "start_time": "2022-04-02T14:08:30.711Z"
   },
   {
    "duration": 275,
    "start_time": "2022-04-02T14:08:31.271Z"
   },
   {
    "duration": 14,
    "start_time": "2022-04-02T14:08:31.549Z"
   },
   {
    "duration": 10,
    "start_time": "2022-04-02T14:08:31.566Z"
   },
   {
    "duration": 250,
    "start_time": "2022-04-02T14:08:31.578Z"
   },
   {
    "duration": 290,
    "start_time": "2022-04-02T14:08:31.831Z"
   },
   {
    "duration": 299,
    "start_time": "2022-04-02T14:08:32.124Z"
   },
   {
    "duration": 372,
    "start_time": "2022-04-02T14:08:32.426Z"
   },
   {
    "duration": 91,
    "start_time": "2022-04-02T14:08:32.801Z"
   },
   {
    "duration": 339,
    "start_time": "2022-04-02T14:08:32.896Z"
   },
   {
    "duration": 1077,
    "start_time": "2022-04-02T14:08:33.242Z"
   },
   {
    "duration": 30,
    "start_time": "2022-04-02T14:08:34.321Z"
   },
   {
    "duration": 49,
    "start_time": "2022-04-02T14:08:34.353Z"
   },
   {
    "duration": 83,
    "start_time": "2022-04-02T14:08:34.404Z"
   },
   {
    "duration": 20,
    "start_time": "2022-04-02T14:08:34.489Z"
   },
   {
    "duration": 32,
    "start_time": "2022-04-02T14:08:34.511Z"
   },
   {
    "duration": 327,
    "start_time": "2022-04-02T14:08:34.546Z"
   },
   {
    "duration": 12,
    "start_time": "2022-04-02T14:08:34.876Z"
   },
   {
    "duration": 18,
    "start_time": "2022-04-02T14:08:34.891Z"
   },
   {
    "duration": 392,
    "start_time": "2022-04-02T14:08:34.911Z"
   },
   {
    "duration": 15,
    "start_time": "2022-04-02T14:08:35.306Z"
   },
   {
    "duration": 308,
    "start_time": "2022-04-02T14:08:35.324Z"
   },
   {
    "duration": 18,
    "start_time": "2022-04-02T14:08:35.634Z"
   },
   {
    "duration": 276,
    "start_time": "2022-04-02T14:08:35.654Z"
   },
   {
    "duration": 20,
    "start_time": "2022-04-02T14:08:35.932Z"
   },
   {
    "duration": 233,
    "start_time": "2022-04-02T14:08:35.954Z"
   },
   {
    "duration": 241,
    "start_time": "2022-04-02T14:08:36.189Z"
   },
   {
    "duration": 502,
    "start_time": "2022-04-02T14:08:36.432Z"
   },
   {
    "duration": 329,
    "start_time": "2022-04-02T14:08:36.943Z"
   },
   {
    "duration": 739,
    "start_time": "2022-04-02T14:08:37.275Z"
   },
   {
    "duration": 73,
    "start_time": "2022-04-02T14:08:38.016Z"
   },
   {
    "duration": 1376,
    "start_time": "2022-04-02T14:08:38.092Z"
   },
   {
    "duration": 1273,
    "start_time": "2022-04-02T14:11:35.041Z"
   },
   {
    "duration": 2014,
    "start_time": "2022-04-02T14:58:00.329Z"
   },
   {
    "duration": 145,
    "start_time": "2022-04-02T14:58:02.346Z"
   },
   {
    "duration": 30,
    "start_time": "2022-04-02T14:58:02.494Z"
   },
   {
    "duration": 62,
    "start_time": "2022-04-02T14:58:02.528Z"
   },
   {
    "duration": 56,
    "start_time": "2022-04-02T14:58:02.593Z"
   },
   {
    "duration": 112,
    "start_time": "2022-04-02T14:58:02.651Z"
   },
   {
    "duration": 13,
    "start_time": "2022-04-02T14:58:02.765Z"
   },
   {
    "duration": 17,
    "start_time": "2022-04-02T14:58:02.780Z"
   },
   {
    "duration": 7,
    "start_time": "2022-04-02T14:58:02.799Z"
   },
   {
    "duration": 7,
    "start_time": "2022-04-02T14:58:02.843Z"
   },
   {
    "duration": 8,
    "start_time": "2022-04-02T14:58:02.852Z"
   },
   {
    "duration": 8,
    "start_time": "2022-04-02T14:58:02.863Z"
   },
   {
    "duration": 6,
    "start_time": "2022-04-02T14:58:02.873Z"
   },
   {
    "duration": 5,
    "start_time": "2022-04-02T14:58:02.882Z"
   },
   {
    "duration": 54,
    "start_time": "2022-04-02T14:58:02.889Z"
   },
   {
    "duration": 6,
    "start_time": "2022-04-02T14:58:02.945Z"
   },
   {
    "duration": 7,
    "start_time": "2022-04-02T14:58:02.953Z"
   },
   {
    "duration": 11,
    "start_time": "2022-04-02T14:58:02.962Z"
   },
   {
    "duration": 6,
    "start_time": "2022-04-02T14:58:02.975Z"
   },
   {
    "duration": 11,
    "start_time": "2022-04-02T14:58:02.983Z"
   },
   {
    "duration": 8,
    "start_time": "2022-04-02T14:58:03.044Z"
   },
   {
    "duration": 22,
    "start_time": "2022-04-02T14:58:03.054Z"
   },
   {
    "duration": 9,
    "start_time": "2022-04-02T14:58:03.078Z"
   },
   {
    "duration": 60,
    "start_time": "2022-04-02T14:58:03.089Z"
   },
   {
    "duration": 35,
    "start_time": "2022-04-02T14:58:03.151Z"
   },
   {
    "duration": 57,
    "start_time": "2022-04-02T14:58:03.189Z"
   },
   {
    "duration": 24,
    "start_time": "2022-04-02T14:58:03.249Z"
   },
   {
    "duration": 11,
    "start_time": "2022-04-02T14:58:03.281Z"
   },
   {
    "duration": 48,
    "start_time": "2022-04-02T14:58:03.295Z"
   },
   {
    "duration": 20,
    "start_time": "2022-04-02T14:58:03.346Z"
   },
   {
    "duration": 6,
    "start_time": "2022-04-02T14:58:03.369Z"
   },
   {
    "duration": 25,
    "start_time": "2022-04-02T14:58:03.378Z"
   },
   {
    "duration": 552,
    "start_time": "2022-04-02T14:58:03.405Z"
   },
   {
    "duration": 12,
    "start_time": "2022-04-02T14:58:03.960Z"
   },
   {
    "duration": 21,
    "start_time": "2022-04-02T14:58:03.975Z"
   },
   {
    "duration": 49,
    "start_time": "2022-04-02T14:58:03.999Z"
   },
   {
    "duration": 292,
    "start_time": "2022-04-02T14:58:04.051Z"
   },
   {
    "duration": 180,
    "start_time": "2022-04-02T14:58:04.346Z"
   },
   {
    "duration": 15,
    "start_time": "2022-04-02T14:58:04.529Z"
   },
   {
    "duration": 286,
    "start_time": "2022-04-02T14:58:04.546Z"
   },
   {
    "duration": 175,
    "start_time": "2022-04-02T14:58:04.834Z"
   },
   {
    "duration": 11,
    "start_time": "2022-04-02T14:58:05.012Z"
   },
   {
    "duration": 312,
    "start_time": "2022-04-02T14:58:05.042Z"
   },
   {
    "duration": 182,
    "start_time": "2022-04-02T14:58:05.356Z"
   },
   {
    "duration": 13,
    "start_time": "2022-04-02T14:58:05.540Z"
   },
   {
    "duration": 256,
    "start_time": "2022-04-02T14:58:05.555Z"
   },
   {
    "duration": 259,
    "start_time": "2022-04-02T14:58:05.814Z"
   },
   {
    "duration": 394,
    "start_time": "2022-04-02T14:58:06.076Z"
   },
   {
    "duration": 196,
    "start_time": "2022-04-02T14:58:06.472Z"
   },
   {
    "duration": 11,
    "start_time": "2022-04-02T14:58:06.670Z"
   },
   {
    "duration": 26,
    "start_time": "2022-04-02T14:58:06.683Z"
   },
   {
    "duration": 172,
    "start_time": "2022-04-02T14:58:06.711Z"
   },
   {
    "duration": 217,
    "start_time": "2022-04-02T14:58:06.885Z"
   },
   {
    "duration": 211,
    "start_time": "2022-04-02T14:58:07.105Z"
   },
   {
    "duration": 264,
    "start_time": "2022-04-02T14:58:07.318Z"
   },
   {
    "duration": 68,
    "start_time": "2022-04-02T14:58:07.584Z"
   },
   {
    "duration": 246,
    "start_time": "2022-04-02T14:58:07.654Z"
   },
   {
    "duration": 771,
    "start_time": "2022-04-02T14:58:07.902Z"
   },
   {
    "duration": 13,
    "start_time": "2022-04-02T14:58:08.676Z"
   },
   {
    "duration": 58,
    "start_time": "2022-04-02T14:58:08.692Z"
   },
   {
    "duration": 50,
    "start_time": "2022-04-02T14:58:08.752Z"
   },
   {
    "duration": 44,
    "start_time": "2022-04-02T14:58:08.805Z"
   },
   {
    "duration": 12,
    "start_time": "2022-04-02T14:58:08.851Z"
   },
   {
    "duration": 323,
    "start_time": "2022-04-02T14:58:08.865Z"
   },
   {
    "duration": 9,
    "start_time": "2022-04-02T14:58:09.191Z"
   },
   {
    "duration": 19,
    "start_time": "2022-04-02T14:58:09.202Z"
   },
   {
    "duration": 249,
    "start_time": "2022-04-02T14:58:09.244Z"
   },
   {
    "duration": 11,
    "start_time": "2022-04-02T14:58:09.495Z"
   },
   {
    "duration": 321,
    "start_time": "2022-04-02T14:58:09.508Z"
   },
   {
    "duration": 22,
    "start_time": "2022-04-02T14:58:09.831Z"
   },
   {
    "duration": 339,
    "start_time": "2022-04-02T14:58:09.855Z"
   },
   {
    "duration": 13,
    "start_time": "2022-04-02T14:58:10.196Z"
   },
   {
    "duration": 312,
    "start_time": "2022-04-02T14:58:10.212Z"
   },
   {
    "duration": 290,
    "start_time": "2022-04-02T14:58:10.527Z"
   },
   {
    "duration": 595,
    "start_time": "2022-04-02T14:58:10.820Z"
   },
   {
    "duration": 454,
    "start_time": "2022-04-02T14:58:11.418Z"
   },
   {
    "duration": 716,
    "start_time": "2022-04-02T14:58:11.874Z"
   },
   {
    "duration": 102,
    "start_time": "2022-04-13T11:29:57.942Z"
   },
   {
    "duration": 2228,
    "start_time": "2022-04-13T11:30:05.774Z"
   },
   {
    "duration": 192,
    "start_time": "2022-04-13T11:30:08.004Z"
   },
   {
    "duration": 73,
    "start_time": "2022-04-13T11:30:08.199Z"
   },
   {
    "duration": 109,
    "start_time": "2022-04-13T11:30:08.277Z"
   },
   {
    "duration": 49,
    "start_time": "2022-04-13T11:30:08.388Z"
   },
   {
    "duration": 120,
    "start_time": "2022-04-13T11:30:08.455Z"
   },
   {
    "duration": 17,
    "start_time": "2022-04-13T11:30:08.577Z"
   },
   {
    "duration": 20,
    "start_time": "2022-04-13T11:30:08.597Z"
   },
   {
    "duration": 34,
    "start_time": "2022-04-13T11:30:08.620Z"
   },
   {
    "duration": 17,
    "start_time": "2022-04-13T11:30:08.660Z"
   },
   {
    "duration": 8,
    "start_time": "2022-04-13T11:30:08.679Z"
   },
   {
    "duration": 5,
    "start_time": "2022-04-13T11:30:08.689Z"
   },
   {
    "duration": 6,
    "start_time": "2022-04-13T11:30:08.696Z"
   },
   {
    "duration": 47,
    "start_time": "2022-04-13T11:30:08.705Z"
   },
   {
    "duration": 12,
    "start_time": "2022-04-13T11:30:08.756Z"
   },
   {
    "duration": 10,
    "start_time": "2022-04-13T11:30:08.771Z"
   },
   {
    "duration": 6,
    "start_time": "2022-04-13T11:30:08.783Z"
   },
   {
    "duration": 15,
    "start_time": "2022-04-13T11:30:08.791Z"
   },
   {
    "duration": 5,
    "start_time": "2022-04-13T11:30:08.808Z"
   },
   {
    "duration": 42,
    "start_time": "2022-04-13T11:30:08.815Z"
   },
   {
    "duration": 14,
    "start_time": "2022-04-13T11:30:08.861Z"
   },
   {
    "duration": 27,
    "start_time": "2022-04-13T11:30:08.878Z"
   },
   {
    "duration": 9,
    "start_time": "2022-04-13T11:30:08.908Z"
   },
   {
    "duration": 30,
    "start_time": "2022-04-13T11:30:08.952Z"
   },
   {
    "duration": 32,
    "start_time": "2022-04-13T11:30:08.984Z"
   },
   {
    "duration": 69,
    "start_time": "2022-04-13T11:30:09.018Z"
   },
   {
    "duration": 23,
    "start_time": "2022-04-13T11:30:09.090Z"
   },
   {
    "duration": 33,
    "start_time": "2022-04-13T11:30:09.121Z"
   },
   {
    "duration": 34,
    "start_time": "2022-04-13T11:30:09.157Z"
   },
   {
    "duration": 20,
    "start_time": "2022-04-13T11:30:09.193Z"
   },
   {
    "duration": 6,
    "start_time": "2022-04-13T11:30:09.216Z"
   },
   {
    "duration": 45,
    "start_time": "2022-04-13T11:30:09.225Z"
   },
   {
    "duration": 593,
    "start_time": "2022-04-13T11:30:09.273Z"
   },
   {
    "duration": 14,
    "start_time": "2022-04-13T11:30:09.868Z"
   },
   {
    "duration": 26,
    "start_time": "2022-04-13T11:30:09.884Z"
   },
   {
    "duration": 11,
    "start_time": "2022-04-13T11:30:09.912Z"
   },
   {
    "duration": 330,
    "start_time": "2022-04-13T11:30:09.925Z"
   },
   {
    "duration": 173,
    "start_time": "2022-04-13T11:30:10.259Z"
   },
   {
    "duration": 21,
    "start_time": "2022-04-13T11:30:10.434Z"
   },
   {
    "duration": 297,
    "start_time": "2022-04-13T11:30:10.457Z"
   },
   {
    "duration": 186,
    "start_time": "2022-04-13T11:30:10.757Z"
   },
   {
    "duration": 16,
    "start_time": "2022-04-13T11:30:10.945Z"
   },
   {
    "duration": 325,
    "start_time": "2022-04-13T11:30:10.965Z"
   },
   {
    "duration": 185,
    "start_time": "2022-04-13T11:30:11.292Z"
   },
   {
    "duration": 11,
    "start_time": "2022-04-13T11:30:11.479Z"
   },
   {
    "duration": 344,
    "start_time": "2022-04-13T11:30:11.492Z"
   },
   {
    "duration": 224,
    "start_time": "2022-04-13T11:30:11.839Z"
   },
   {
    "duration": 443,
    "start_time": "2022-04-13T11:30:12.066Z"
   },
   {
    "duration": 270,
    "start_time": "2022-04-13T11:30:12.511Z"
   },
   {
    "duration": 12,
    "start_time": "2022-04-13T11:30:12.784Z"
   },
   {
    "duration": 8,
    "start_time": "2022-04-13T11:30:12.798Z"
   },
   {
    "duration": 249,
    "start_time": "2022-04-13T11:30:12.809Z"
   },
   {
    "duration": 226,
    "start_time": "2022-04-13T11:30:13.061Z"
   },
   {
    "duration": 282,
    "start_time": "2022-04-13T11:30:13.289Z"
   },
   {
    "duration": 313,
    "start_time": "2022-04-13T11:30:13.573Z"
   },
   {
    "duration": 91,
    "start_time": "2022-04-13T11:30:13.889Z"
   },
   {
    "duration": 263,
    "start_time": "2022-04-13T11:30:13.983Z"
   },
   {
    "duration": 936,
    "start_time": "2022-04-13T11:30:14.252Z"
   },
   {
    "duration": 16,
    "start_time": "2022-04-13T11:30:15.190Z"
   },
   {
    "duration": 72,
    "start_time": "2022-04-13T11:30:15.208Z"
   },
   {
    "duration": 68,
    "start_time": "2022-04-13T11:30:15.283Z"
   },
   {
    "duration": 32,
    "start_time": "2022-04-13T11:30:15.355Z"
   },
   {
    "duration": 12,
    "start_time": "2022-04-13T11:30:15.389Z"
   },
   {
    "duration": 473,
    "start_time": "2022-04-13T11:30:15.403Z"
   },
   {
    "duration": 10,
    "start_time": "2022-04-13T11:30:15.879Z"
   },
   {
    "duration": 12,
    "start_time": "2022-04-13T11:30:15.892Z"
   },
   {
    "duration": 310,
    "start_time": "2022-04-13T11:30:15.906Z"
   },
   {
    "duration": 13,
    "start_time": "2022-04-13T11:30:16.219Z"
   },
   {
    "duration": 411,
    "start_time": "2022-04-13T11:30:16.251Z"
   },
   {
    "duration": 15,
    "start_time": "2022-04-13T11:30:16.665Z"
   },
   {
    "duration": 316,
    "start_time": "2022-04-13T11:30:16.684Z"
   },
   {
    "duration": 10,
    "start_time": "2022-04-13T11:30:17.003Z"
   },
   {
    "duration": 342,
    "start_time": "2022-04-13T11:30:17.016Z"
   },
   {
    "duration": 328,
    "start_time": "2022-04-13T11:30:17.360Z"
   },
   {
    "duration": 494,
    "start_time": "2022-04-13T11:30:17.690Z"
   },
   {
    "duration": 382,
    "start_time": "2022-04-13T11:30:18.187Z"
   },
   {
    "duration": 716,
    "start_time": "2022-04-13T11:30:18.571Z"
   },
   {
    "duration": 10,
    "start_time": "2022-04-13T11:41:00.266Z"
   },
   {
    "duration": 12,
    "start_time": "2022-04-13T11:41:08.666Z"
   },
   {
    "duration": 16,
    "start_time": "2022-04-13T11:44:50.351Z"
   },
   {
    "duration": 17,
    "start_time": "2022-04-13T11:45:02.422Z"
   },
   {
    "duration": 1942,
    "start_time": "2022-04-13T11:45:55.679Z"
   },
   {
    "duration": 135,
    "start_time": "2022-04-13T11:45:57.624Z"
   },
   {
    "duration": 30,
    "start_time": "2022-04-13T11:45:57.762Z"
   },
   {
    "duration": 91,
    "start_time": "2022-04-13T11:45:57.796Z"
   },
   {
    "duration": 76,
    "start_time": "2022-04-13T11:45:57.889Z"
   },
   {
    "duration": 116,
    "start_time": "2022-04-13T11:45:57.968Z"
   },
   {
    "duration": 13,
    "start_time": "2022-04-13T11:45:58.086Z"
   },
   {
    "duration": 18,
    "start_time": "2022-04-13T11:45:58.101Z"
   },
   {
    "duration": 6,
    "start_time": "2022-04-13T11:45:58.121Z"
   },
   {
    "duration": 12,
    "start_time": "2022-04-13T11:45:58.154Z"
   },
   {
    "duration": 12,
    "start_time": "2022-04-13T11:45:58.169Z"
   },
   {
    "duration": 8,
    "start_time": "2022-04-13T11:45:58.184Z"
   },
   {
    "duration": 13,
    "start_time": "2022-04-13T11:45:58.194Z"
   },
   {
    "duration": 8,
    "start_time": "2022-04-13T11:45:58.209Z"
   },
   {
    "duration": 11,
    "start_time": "2022-04-13T11:45:58.253Z"
   },
   {
    "duration": 14,
    "start_time": "2022-04-13T11:45:58.267Z"
   },
   {
    "duration": 9,
    "start_time": "2022-04-13T11:45:58.283Z"
   },
   {
    "duration": 14,
    "start_time": "2022-04-13T11:45:58.294Z"
   },
   {
    "duration": 6,
    "start_time": "2022-04-13T11:45:58.310Z"
   },
   {
    "duration": 10,
    "start_time": "2022-04-13T11:45:58.352Z"
   },
   {
    "duration": 21,
    "start_time": "2022-04-13T11:45:58.365Z"
   },
   {
    "duration": 22,
    "start_time": "2022-04-13T11:45:58.389Z"
   },
   {
    "duration": 39,
    "start_time": "2022-04-13T11:45:58.413Z"
   },
   {
    "duration": 24,
    "start_time": "2022-04-13T11:45:58.455Z"
   },
   {
    "duration": 33,
    "start_time": "2022-04-13T11:45:58.482Z"
   },
   {
    "duration": 66,
    "start_time": "2022-04-13T11:45:58.518Z"
   },
   {
    "duration": 23,
    "start_time": "2022-04-13T11:45:58.586Z"
   },
   {
    "duration": 10,
    "start_time": "2022-04-13T11:45:58.615Z"
   },
   {
    "duration": 28,
    "start_time": "2022-04-13T11:45:58.653Z"
   },
   {
    "duration": 22,
    "start_time": "2022-04-13T11:45:58.683Z"
   },
   {
    "duration": 5,
    "start_time": "2022-04-13T11:45:58.707Z"
   },
   {
    "duration": 56,
    "start_time": "2022-04-13T11:45:58.715Z"
   },
   {
    "duration": 577,
    "start_time": "2022-04-13T11:45:58.773Z"
   },
   {
    "duration": 17,
    "start_time": "2022-04-13T11:45:59.353Z"
   },
   {
    "duration": 28,
    "start_time": "2022-04-13T11:45:59.372Z"
   },
   {
    "duration": 12,
    "start_time": "2022-04-13T11:45:59.404Z"
   },
   {
    "duration": 327,
    "start_time": "2022-04-13T11:45:59.419Z"
   },
   {
    "duration": 174,
    "start_time": "2022-04-13T11:45:59.753Z"
   },
   {
    "duration": 26,
    "start_time": "2022-04-13T11:45:59.930Z"
   },
   {
    "duration": 297,
    "start_time": "2022-04-13T11:45:59.959Z"
   },
   {
    "duration": 184,
    "start_time": "2022-04-13T11:46:00.260Z"
   },
   {
    "duration": 20,
    "start_time": "2022-04-13T11:46:00.446Z"
   },
   {
    "duration": 337,
    "start_time": "2022-04-13T11:46:00.469Z"
   },
   {
    "duration": 191,
    "start_time": "2022-04-13T11:46:00.809Z"
   },
   {
    "duration": 10,
    "start_time": "2022-04-13T11:46:01.003Z"
   },
   {
    "duration": 269,
    "start_time": "2022-04-13T11:46:01.016Z"
   },
   {
    "duration": 189,
    "start_time": "2022-04-13T11:46:01.287Z"
   },
   {
    "duration": 415,
    "start_time": "2022-04-13T11:46:01.478Z"
   },
   {
    "duration": 208,
    "start_time": "2022-04-13T11:46:01.895Z"
   },
   {
    "duration": 11,
    "start_time": "2022-04-13T11:46:02.105Z"
   },
   {
    "duration": 26,
    "start_time": "2022-04-13T11:46:02.118Z"
   },
   {
    "duration": 197,
    "start_time": "2022-04-13T11:46:02.152Z"
   },
   {
    "duration": 238,
    "start_time": "2022-04-13T11:46:02.351Z"
   },
   {
    "duration": 229,
    "start_time": "2022-04-13T11:46:02.592Z"
   },
   {
    "duration": 290,
    "start_time": "2022-04-13T11:46:02.824Z"
   },
   {
    "duration": 79,
    "start_time": "2022-04-13T11:46:03.117Z"
   },
   {
    "duration": 257,
    "start_time": "2022-04-13T11:46:03.199Z"
   },
   {
    "duration": 973,
    "start_time": "2022-04-13T11:46:03.459Z"
   },
   {
    "duration": 28,
    "start_time": "2022-04-13T11:46:04.434Z"
   },
   {
    "duration": 36,
    "start_time": "2022-04-13T11:46:04.466Z"
   },
   {
    "duration": 87,
    "start_time": "2022-04-13T11:46:04.504Z"
   },
   {
    "duration": 21,
    "start_time": "2022-04-13T11:46:04.593Z"
   },
   {
    "duration": 45,
    "start_time": "2022-04-13T11:46:04.617Z"
   },
   {
    "duration": 351,
    "start_time": "2022-04-13T11:46:04.665Z"
   },
   {
    "duration": 11,
    "start_time": "2022-04-13T11:46:05.018Z"
   },
   {
    "duration": 42,
    "start_time": "2022-04-13T11:46:05.031Z"
   },
   {
    "duration": 298,
    "start_time": "2022-04-13T11:46:05.075Z"
   },
   {
    "duration": 14,
    "start_time": "2022-04-13T11:46:05.375Z"
   },
   {
    "duration": 332,
    "start_time": "2022-04-13T11:46:05.391Z"
   },
   {
    "duration": 37,
    "start_time": "2022-04-13T11:46:05.726Z"
   },
   {
    "duration": 438,
    "start_time": "2022-04-13T11:46:05.773Z"
   },
   {
    "duration": 11,
    "start_time": "2022-04-13T11:46:06.214Z"
   },
   {
    "duration": 289,
    "start_time": "2022-04-13T11:46:06.228Z"
   },
   {
    "duration": 275,
    "start_time": "2022-04-13T11:46:06.519Z"
   },
   {
    "duration": 781,
    "start_time": "2022-04-13T11:46:06.796Z"
   },
   {
    "duration": 428,
    "start_time": "2022-04-13T11:46:07.580Z"
   },
   {
    "duration": 717,
    "start_time": "2022-04-13T11:46:08.010Z"
   },
   {
    "duration": 262,
    "start_time": "2022-04-13T11:48:34.766Z"
   }
  ],
  "kernelspec": {
   "display_name": "Python 3 (ipykernel)",
   "language": "python",
   "name": "python3"
  },
  "language_info": {
   "codemirror_mode": {
    "name": "ipython",
    "version": 3
   },
   "file_extension": ".py",
   "mimetype": "text/x-python",
   "name": "python",
   "nbconvert_exporter": "python",
   "pygments_lexer": "ipython3",
   "version": "3.9.7"
  },
  "toc": {
   "base_numbering": 1,
   "nav_menu": {},
   "number_sections": true,
   "sideBar": true,
   "skip_h1_title": true,
   "title_cell": "Содержание",
   "title_sidebar": "Contents",
   "toc_cell": true,
   "toc_position": {
    "height": "calc(100% - 180px)",
    "left": "10px",
    "top": "150px",
    "width": "289.6px"
   },
   "toc_section_display": true,
   "toc_window_display": true
  }
 },
 "nbformat": 4,
 "nbformat_minor": 4
}
