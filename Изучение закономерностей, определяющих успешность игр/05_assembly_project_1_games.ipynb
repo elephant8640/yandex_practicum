{
 "cells": [
  {
   "cell_type": "markdown",
   "metadata": {},
   "source": [
    "# Сборный проект №1"
   ]
  },
  {
   "cell_type": "markdown",
   "metadata": {
    "toc": true
   },
   "source": [
    "<h1>Содержание<span class=\"tocSkip\"></span></h1>\n",
    "<div class=\"toc\"><ul class=\"toc-item\"><li><span><a href=\"#Изучение-данных-из-файла\" data-toc-modified-id=\"Изучение-данных-из-файла-1\"><span class=\"toc-item-num\">1&nbsp;&nbsp;</span>Изучение данных из файла</a></span></li><li><span><a href=\"#Подготовка-данных\" data-toc-modified-id=\"Подготовка-данных-2\"><span class=\"toc-item-num\">2&nbsp;&nbsp;</span>Подготовка данных</a></span><ul class=\"toc-item\"><li><span><a href=\"#Замена-названия-столбцов-(приведение-к-нижнему-регистру)\" data-toc-modified-id=\"Замена-названия-столбцов-(приведение-к-нижнему-регистру)-2.1\"><span class=\"toc-item-num\">2.1&nbsp;&nbsp;</span>Замена названия столбцов (приведение к нижнему регистру)</a></span></li><li><span><a href=\"#Пропуски\" data-toc-modified-id=\"Пропуски-2.2\"><span class=\"toc-item-num\">2.2&nbsp;&nbsp;</span>Пропуски</a></span></li><li><span><a href=\"#Приведение-данных-к-нужным-типам\" data-toc-modified-id=\"Приведение-данных-к-нужным-типам-2.3\"><span class=\"toc-item-num\">2.3&nbsp;&nbsp;</span>Приведение данных к нужным типам</a></span></li><li><span><a href=\"#Суммарные-продажи-во-всех-регионах\" data-toc-modified-id=\"Суммарные-продажи-во-всех-регионах-2.4\"><span class=\"toc-item-num\">2.4&nbsp;&nbsp;</span>Суммарные продажи во всех регионах</a></span></li></ul></li><li><span><a href=\"#Исследовательский-анализ-данных\" data-toc-modified-id=\"Исследовательский-анализ-данных-3\"><span class=\"toc-item-num\">3&nbsp;&nbsp;</span>Исследовательский анализ данных</a></span><ul class=\"toc-item\"><li><span><a href=\"#Количество-игр,-выпускаемых-в-разные-годы.\" data-toc-modified-id=\"Количество-игр,-выпускаемых-в-разные-годы.-3.1\"><span class=\"toc-item-num\">3.1&nbsp;&nbsp;</span>Количество игр, выпускаемых в разные годы.</a></span></li><li><span><a href=\"#Изменение-продаж-по-платформам.\" data-toc-modified-id=\"Изменение-продаж-по-платформам.-3.2\"><span class=\"toc-item-num\">3.2&nbsp;&nbsp;</span>Изменение продаж по платформам.</a></span></li><li><span><a href=\"#Выборка-за-соответствующий-актуальный-период.\" data-toc-modified-id=\"Выборка-за-соответствующий-актуальный-период.-3.3\"><span class=\"toc-item-num\">3.3&nbsp;&nbsp;</span>Выборка за соответствующий актуальный период.</a></span></li><li><span><a href=\"#Влияние-на-продажи-внутри-одной-популярной-платформы-отзывов-пользователей-и-критиков.\" data-toc-modified-id=\"Влияние-на-продажи-внутри-одной-популярной-платформы-отзывов-пользователей-и-критиков.-3.4\"><span class=\"toc-item-num\">3.4&nbsp;&nbsp;</span>Влияние на продажи внутри одной популярной платформы отзывов пользователей и критиков.</a></span></li><li><span><a href=\"#Общее-распределение-игр-по-жанрам.\" data-toc-modified-id=\"Общее-распределение-игр-по-жанрам.-3.5\"><span class=\"toc-item-num\">3.5&nbsp;&nbsp;</span>Общее распределение игр по жанрам.</a></span></li></ul></li><li><span><a href=\"#Портрет-пользователя-каждого-региона\" data-toc-modified-id=\"Портрет-пользователя-каждого-региона-4\"><span class=\"toc-item-num\">4&nbsp;&nbsp;</span>Портрет пользователя каждого региона</a></span><ul class=\"toc-item\"><li><span><a href=\"#Топ-5-платформ-в-Северной-Америке\" data-toc-modified-id=\"Топ-5-платформ-в-Северной-Америке-4.1\"><span class=\"toc-item-num\">4.1&nbsp;&nbsp;</span>Топ 5 платформ в Северной Америке</a></span></li><li><span><a href=\"#Топ-5-платформ-в-Европе\" data-toc-modified-id=\"Топ-5-платформ-в-Европе-4.2\"><span class=\"toc-item-num\">4.2&nbsp;&nbsp;</span>Топ 5 платформ в Европе</a></span></li><li><span><a href=\"#Топ-5-платформ-в-Японии\" data-toc-modified-id=\"Топ-5-платформ-в-Японии-4.3\"><span class=\"toc-item-num\">4.3&nbsp;&nbsp;</span>Топ 5 платформ в Японии</a></span></li><li><span><a href=\"#Топ-5-жанров-игр-в-Северной-Америке\" data-toc-modified-id=\"Топ-5-жанров-игр-в-Северной-Америке-4.4\"><span class=\"toc-item-num\">4.4&nbsp;&nbsp;</span>Топ 5 жанров игр в Северной Америке</a></span></li><li><span><a href=\"#Топ-5-жанров-игр-в-Европе\" data-toc-modified-id=\"Топ-5-жанров-игр-в-Европе-4.5\"><span class=\"toc-item-num\">4.5&nbsp;&nbsp;</span>Топ 5 жанров игр в Европе</a></span></li><li><span><a href=\"#Топ-5-жанров-игр-в-Японии\" data-toc-modified-id=\"Топ-5-жанров-игр-в-Японии-4.6\"><span class=\"toc-item-num\">4.6&nbsp;&nbsp;</span>Топ 5 жанров игр в Японии</a></span></li><li><span><a href=\"#Влияние-рейтинга-ESRB-на-продажи-в-отдельном-регионе\" data-toc-modified-id=\"Влияние-рейтинга-ESRB-на-продажи-в-отдельном-регионе-4.7\"><span class=\"toc-item-num\">4.7&nbsp;&nbsp;</span>Влияние рейтинга ESRB на продажи в отдельном регионе</a></span></li></ul></li><li><span><a href=\"#Проверка-гипотез\" data-toc-modified-id=\"Проверка-гипотез-5\"><span class=\"toc-item-num\">5&nbsp;&nbsp;</span>Проверка гипотез</a></span><ul class=\"toc-item\"><li><span><a href=\"#Средние-пользовательские-рейтинги-платформ-Xbox-One-и-PC-одинаковые\" data-toc-modified-id=\"Средние-пользовательские-рейтинги-платформ-Xbox-One-и-PC-одинаковые-5.1\"><span class=\"toc-item-num\">5.1&nbsp;&nbsp;</span>Средние пользовательские рейтинги платформ Xbox One и PC одинаковые</a></span></li><li><span><a href=\"#Средние-пользовательские-рейтинги-жанров-Action--и-Sports-разные\" data-toc-modified-id=\"Средние-пользовательские-рейтинги-жанров-Action--и-Sports-разные-5.2\"><span class=\"toc-item-num\">5.2&nbsp;&nbsp;</span>Средние пользовательские рейтинги жанров Action  и Sports разные</a></span></li></ul></li><li><span><a href=\"#Общий-вывод\" data-toc-modified-id=\"Общий-вывод-6\"><span class=\"toc-item-num\">6&nbsp;&nbsp;</span>Общий вывод</a></span></li></ul></div>"
   ]
  },
  {
   "cell_type": "markdown",
   "metadata": {},
   "source": [
    "Интернет-магазин «Стримчик» продаёт по всему миру компьютерные игры. Из открытых источников доступны исторические данные о продажах игр, оценки пользователей и экспертов, жанры и платформы (например, Xbox или PlayStation).\n",
    "Нужно выявить определяющие успешность игры закономерности. Это позволит сделать ставку на потенциально популярный продукт и спланировать рекламные кампании.\n",
    "\n",
    "Описание данных:\n",
    "* Name — название игры\n",
    "* Platform — платформа\n",
    "* Year_of_Release — год выпуска\n",
    "* Genre — жанр игры\n",
    "* NA_sales — продажи в Северной Америке (миллионы проданных копий)\n",
    "* EU_sales — продажи в Европе (миллионы проданных копий)\n",
    "* JP_sales — продажи в Японии (миллионы проданных копий)\n",
    "* Other_sales — продажи в других странах (миллионы проданных копий)\n",
    "* Critic_Score — оценка критиков (максимум 100)\n",
    "* User_Score — оценка пользователей (максимум 10)\n",
    "* Rating — рейтинг от организации ESRB (англ. Entertainment Software Rating Board). \n",
    "Эта ассоциация определяет рейтинг компьютерных игр и присваивает им подходящую возрастную категорию.\n",
    "Данные за 2016 год могут быть неполными.\n",
    "\n",
    "Рейтинг ESRB:\n",
    "* «EC» («Early childhood») — «Для детей младшего возраста»: Игра подходит для детей от 3 лет;\n",
    "* «E» («Everyone») — «Для всех»: Содержание вполне подходит для возрастной категории от 6 лет;\n",
    "* «K-A» (\"Kids to Adults\") — вариация категории «Для всех»;\n",
    "* «E10+» («Everyone 10 and older») — «Для всех от 10 лет и старше»;\n",
    "* «T» («Teen») — «Подросткам»: Игра подходит для лиц от 13 лет;\n",
    "* «M» («Mature») — «Для взрослых»: Материалы игры не подходят для подростков младше 17 лет;\n",
    "* «AO» («Adults Only 18+») — «Только для взрослых»: Содержание игры только для взрослых старше 18 лет;\n",
    "* «RP» («Rating Pending») — «Рейтинг ожидается»: Продукт был отправлен в ESRB и ожидает присвоения рейтинга."
   ]
  },
  {
   "cell_type": "markdown",
   "metadata": {},
   "source": [
    "## Изучение данных из файла"
   ]
  },
  {
   "cell_type": "markdown",
   "metadata": {},
   "source": [
    "Импортируем необходимые библиотеки:"
   ]
  },
  {
   "cell_type": "code",
   "execution_count": 1,
   "metadata": {},
   "outputs": [],
   "source": [
    "import pandas as pd\n",
    "import numpy as np\n",
    "import matplotlib.pyplot as plt\n",
    "import seaborn as sns\n",
    "from scipy import stats as st\n",
    "pd.set_option('display.max_columns', None)"
   ]
  },
  {
   "cell_type": "code",
   "execution_count": 2,
   "metadata": {},
   "outputs": [],
   "source": [
    "df = pd.read_csv('/datasets/games.csv') # прочитаем файл с данными"
   ]
  },
  {
   "cell_type": "code",
   "execution_count": 3,
   "metadata": {},
   "outputs": [
    {
     "data": {
      "text/html": [
       "<div>\n",
       "<style scoped>\n",
       "    .dataframe tbody tr th:only-of-type {\n",
       "        vertical-align: middle;\n",
       "    }\n",
       "\n",
       "    .dataframe tbody tr th {\n",
       "        vertical-align: top;\n",
       "    }\n",
       "\n",
       "    .dataframe thead th {\n",
       "        text-align: right;\n",
       "    }\n",
       "</style>\n",
       "<table border=\"1\" class=\"dataframe\">\n",
       "  <thead>\n",
       "    <tr style=\"text-align: right;\">\n",
       "      <th></th>\n",
       "      <th>Name</th>\n",
       "      <th>Platform</th>\n",
       "      <th>Year_of_Release</th>\n",
       "      <th>Genre</th>\n",
       "      <th>NA_sales</th>\n",
       "      <th>EU_sales</th>\n",
       "      <th>JP_sales</th>\n",
       "      <th>Other_sales</th>\n",
       "      <th>Critic_Score</th>\n",
       "      <th>User_Score</th>\n",
       "      <th>Rating</th>\n",
       "    </tr>\n",
       "  </thead>\n",
       "  <tbody>\n",
       "    <tr>\n",
       "      <th>0</th>\n",
       "      <td>Wii Sports</td>\n",
       "      <td>Wii</td>\n",
       "      <td>2006.0</td>\n",
       "      <td>Sports</td>\n",
       "      <td>41.36</td>\n",
       "      <td>28.96</td>\n",
       "      <td>3.77</td>\n",
       "      <td>8.45</td>\n",
       "      <td>76.0</td>\n",
       "      <td>8</td>\n",
       "      <td>E</td>\n",
       "    </tr>\n",
       "    <tr>\n",
       "      <th>1</th>\n",
       "      <td>Super Mario Bros.</td>\n",
       "      <td>NES</td>\n",
       "      <td>1985.0</td>\n",
       "      <td>Platform</td>\n",
       "      <td>29.08</td>\n",
       "      <td>3.58</td>\n",
       "      <td>6.81</td>\n",
       "      <td>0.77</td>\n",
       "      <td>NaN</td>\n",
       "      <td>NaN</td>\n",
       "      <td>NaN</td>\n",
       "    </tr>\n",
       "    <tr>\n",
       "      <th>2</th>\n",
       "      <td>Mario Kart Wii</td>\n",
       "      <td>Wii</td>\n",
       "      <td>2008.0</td>\n",
       "      <td>Racing</td>\n",
       "      <td>15.68</td>\n",
       "      <td>12.76</td>\n",
       "      <td>3.79</td>\n",
       "      <td>3.29</td>\n",
       "      <td>82.0</td>\n",
       "      <td>8.3</td>\n",
       "      <td>E</td>\n",
       "    </tr>\n",
       "    <tr>\n",
       "      <th>3</th>\n",
       "      <td>Wii Sports Resort</td>\n",
       "      <td>Wii</td>\n",
       "      <td>2009.0</td>\n",
       "      <td>Sports</td>\n",
       "      <td>15.61</td>\n",
       "      <td>10.93</td>\n",
       "      <td>3.28</td>\n",
       "      <td>2.95</td>\n",
       "      <td>80.0</td>\n",
       "      <td>8</td>\n",
       "      <td>E</td>\n",
       "    </tr>\n",
       "    <tr>\n",
       "      <th>4</th>\n",
       "      <td>Pokemon Red/Pokemon Blue</td>\n",
       "      <td>GB</td>\n",
       "      <td>1996.0</td>\n",
       "      <td>Role-Playing</td>\n",
       "      <td>11.27</td>\n",
       "      <td>8.89</td>\n",
       "      <td>10.22</td>\n",
       "      <td>1.00</td>\n",
       "      <td>NaN</td>\n",
       "      <td>NaN</td>\n",
       "      <td>NaN</td>\n",
       "    </tr>\n",
       "    <tr>\n",
       "      <th>5</th>\n",
       "      <td>Tetris</td>\n",
       "      <td>GB</td>\n",
       "      <td>1989.0</td>\n",
       "      <td>Puzzle</td>\n",
       "      <td>23.20</td>\n",
       "      <td>2.26</td>\n",
       "      <td>4.22</td>\n",
       "      <td>0.58</td>\n",
       "      <td>NaN</td>\n",
       "      <td>NaN</td>\n",
       "      <td>NaN</td>\n",
       "    </tr>\n",
       "    <tr>\n",
       "      <th>6</th>\n",
       "      <td>New Super Mario Bros.</td>\n",
       "      <td>DS</td>\n",
       "      <td>2006.0</td>\n",
       "      <td>Platform</td>\n",
       "      <td>11.28</td>\n",
       "      <td>9.14</td>\n",
       "      <td>6.50</td>\n",
       "      <td>2.88</td>\n",
       "      <td>89.0</td>\n",
       "      <td>8.5</td>\n",
       "      <td>E</td>\n",
       "    </tr>\n",
       "    <tr>\n",
       "      <th>7</th>\n",
       "      <td>Wii Play</td>\n",
       "      <td>Wii</td>\n",
       "      <td>2006.0</td>\n",
       "      <td>Misc</td>\n",
       "      <td>13.96</td>\n",
       "      <td>9.18</td>\n",
       "      <td>2.93</td>\n",
       "      <td>2.84</td>\n",
       "      <td>58.0</td>\n",
       "      <td>6.6</td>\n",
       "      <td>E</td>\n",
       "    </tr>\n",
       "    <tr>\n",
       "      <th>8</th>\n",
       "      <td>New Super Mario Bros. Wii</td>\n",
       "      <td>Wii</td>\n",
       "      <td>2009.0</td>\n",
       "      <td>Platform</td>\n",
       "      <td>14.44</td>\n",
       "      <td>6.94</td>\n",
       "      <td>4.70</td>\n",
       "      <td>2.24</td>\n",
       "      <td>87.0</td>\n",
       "      <td>8.4</td>\n",
       "      <td>E</td>\n",
       "    </tr>\n",
       "    <tr>\n",
       "      <th>9</th>\n",
       "      <td>Duck Hunt</td>\n",
       "      <td>NES</td>\n",
       "      <td>1984.0</td>\n",
       "      <td>Shooter</td>\n",
       "      <td>26.93</td>\n",
       "      <td>0.63</td>\n",
       "      <td>0.28</td>\n",
       "      <td>0.47</td>\n",
       "      <td>NaN</td>\n",
       "      <td>NaN</td>\n",
       "      <td>NaN</td>\n",
       "    </tr>\n",
       "    <tr>\n",
       "      <th>10</th>\n",
       "      <td>Nintendogs</td>\n",
       "      <td>DS</td>\n",
       "      <td>2005.0</td>\n",
       "      <td>Simulation</td>\n",
       "      <td>9.05</td>\n",
       "      <td>10.95</td>\n",
       "      <td>1.93</td>\n",
       "      <td>2.74</td>\n",
       "      <td>NaN</td>\n",
       "      <td>NaN</td>\n",
       "      <td>NaN</td>\n",
       "    </tr>\n",
       "    <tr>\n",
       "      <th>11</th>\n",
       "      <td>Mario Kart DS</td>\n",
       "      <td>DS</td>\n",
       "      <td>2005.0</td>\n",
       "      <td>Racing</td>\n",
       "      <td>9.71</td>\n",
       "      <td>7.47</td>\n",
       "      <td>4.13</td>\n",
       "      <td>1.90</td>\n",
       "      <td>91.0</td>\n",
       "      <td>8.6</td>\n",
       "      <td>E</td>\n",
       "    </tr>\n",
       "    <tr>\n",
       "      <th>12</th>\n",
       "      <td>Pokemon Gold/Pokemon Silver</td>\n",
       "      <td>GB</td>\n",
       "      <td>1999.0</td>\n",
       "      <td>Role-Playing</td>\n",
       "      <td>9.00</td>\n",
       "      <td>6.18</td>\n",
       "      <td>7.20</td>\n",
       "      <td>0.71</td>\n",
       "      <td>NaN</td>\n",
       "      <td>NaN</td>\n",
       "      <td>NaN</td>\n",
       "    </tr>\n",
       "    <tr>\n",
       "      <th>13</th>\n",
       "      <td>Wii Fit</td>\n",
       "      <td>Wii</td>\n",
       "      <td>2007.0</td>\n",
       "      <td>Sports</td>\n",
       "      <td>8.92</td>\n",
       "      <td>8.03</td>\n",
       "      <td>3.60</td>\n",
       "      <td>2.15</td>\n",
       "      <td>80.0</td>\n",
       "      <td>7.7</td>\n",
       "      <td>E</td>\n",
       "    </tr>\n",
       "    <tr>\n",
       "      <th>14</th>\n",
       "      <td>Kinect Adventures!</td>\n",
       "      <td>X360</td>\n",
       "      <td>2010.0</td>\n",
       "      <td>Misc</td>\n",
       "      <td>15.00</td>\n",
       "      <td>4.89</td>\n",
       "      <td>0.24</td>\n",
       "      <td>1.69</td>\n",
       "      <td>61.0</td>\n",
       "      <td>6.3</td>\n",
       "      <td>E</td>\n",
       "    </tr>\n",
       "  </tbody>\n",
       "</table>\n",
       "</div>"
      ],
      "text/plain": [
       "                           Name Platform  Year_of_Release         Genre  \\\n",
       "0                    Wii Sports      Wii           2006.0        Sports   \n",
       "1             Super Mario Bros.      NES           1985.0      Platform   \n",
       "2                Mario Kart Wii      Wii           2008.0        Racing   \n",
       "3             Wii Sports Resort      Wii           2009.0        Sports   \n",
       "4      Pokemon Red/Pokemon Blue       GB           1996.0  Role-Playing   \n",
       "5                        Tetris       GB           1989.0        Puzzle   \n",
       "6         New Super Mario Bros.       DS           2006.0      Platform   \n",
       "7                      Wii Play      Wii           2006.0          Misc   \n",
       "8     New Super Mario Bros. Wii      Wii           2009.0      Platform   \n",
       "9                     Duck Hunt      NES           1984.0       Shooter   \n",
       "10                   Nintendogs       DS           2005.0    Simulation   \n",
       "11                Mario Kart DS       DS           2005.0        Racing   \n",
       "12  Pokemon Gold/Pokemon Silver       GB           1999.0  Role-Playing   \n",
       "13                      Wii Fit      Wii           2007.0        Sports   \n",
       "14           Kinect Adventures!     X360           2010.0          Misc   \n",
       "\n",
       "    NA_sales  EU_sales  JP_sales  Other_sales  Critic_Score User_Score Rating  \n",
       "0      41.36     28.96      3.77         8.45          76.0          8      E  \n",
       "1      29.08      3.58      6.81         0.77           NaN        NaN    NaN  \n",
       "2      15.68     12.76      3.79         3.29          82.0        8.3      E  \n",
       "3      15.61     10.93      3.28         2.95          80.0          8      E  \n",
       "4      11.27      8.89     10.22         1.00           NaN        NaN    NaN  \n",
       "5      23.20      2.26      4.22         0.58           NaN        NaN    NaN  \n",
       "6      11.28      9.14      6.50         2.88          89.0        8.5      E  \n",
       "7      13.96      9.18      2.93         2.84          58.0        6.6      E  \n",
       "8      14.44      6.94      4.70         2.24          87.0        8.4      E  \n",
       "9      26.93      0.63      0.28         0.47           NaN        NaN    NaN  \n",
       "10      9.05     10.95      1.93         2.74           NaN        NaN    NaN  \n",
       "11      9.71      7.47      4.13         1.90          91.0        8.6      E  \n",
       "12      9.00      6.18      7.20         0.71           NaN        NaN    NaN  \n",
       "13      8.92      8.03      3.60         2.15          80.0        7.7      E  \n",
       "14     15.00      4.89      0.24         1.69          61.0        6.3      E  "
      ]
     },
     "execution_count": 3,
     "metadata": {},
     "output_type": "execute_result"
    }
   ],
   "source": [
    "df.head(15) # вывод на экран первых 15 строк таблицы"
   ]
  },
  {
   "cell_type": "code",
   "execution_count": 4,
   "metadata": {},
   "outputs": [
    {
     "data": {
      "text/html": [
       "<div>\n",
       "<style scoped>\n",
       "    .dataframe tbody tr th:only-of-type {\n",
       "        vertical-align: middle;\n",
       "    }\n",
       "\n",
       "    .dataframe tbody tr th {\n",
       "        vertical-align: top;\n",
       "    }\n",
       "\n",
       "    .dataframe thead th {\n",
       "        text-align: right;\n",
       "    }\n",
       "</style>\n",
       "<table border=\"1\" class=\"dataframe\">\n",
       "  <thead>\n",
       "    <tr style=\"text-align: right;\">\n",
       "      <th></th>\n",
       "      <th>Name</th>\n",
       "      <th>Platform</th>\n",
       "      <th>Year_of_Release</th>\n",
       "      <th>Genre</th>\n",
       "      <th>NA_sales</th>\n",
       "      <th>EU_sales</th>\n",
       "      <th>JP_sales</th>\n",
       "      <th>Other_sales</th>\n",
       "      <th>Critic_Score</th>\n",
       "      <th>User_Score</th>\n",
       "      <th>Rating</th>\n",
       "    </tr>\n",
       "  </thead>\n",
       "  <tbody>\n",
       "    <tr>\n",
       "      <th>16700</th>\n",
       "      <td>Mezase!! Tsuri Master DS</td>\n",
       "      <td>DS</td>\n",
       "      <td>2009.0</td>\n",
       "      <td>Sports</td>\n",
       "      <td>0.00</td>\n",
       "      <td>0.00</td>\n",
       "      <td>0.01</td>\n",
       "      <td>0.0</td>\n",
       "      <td>NaN</td>\n",
       "      <td>NaN</td>\n",
       "      <td>NaN</td>\n",
       "    </tr>\n",
       "    <tr>\n",
       "      <th>16701</th>\n",
       "      <td>Eiyuu Densetsu: Sora no Kiseki Material Collec...</td>\n",
       "      <td>PSP</td>\n",
       "      <td>2007.0</td>\n",
       "      <td>Role-Playing</td>\n",
       "      <td>0.00</td>\n",
       "      <td>0.00</td>\n",
       "      <td>0.01</td>\n",
       "      <td>0.0</td>\n",
       "      <td>NaN</td>\n",
       "      <td>NaN</td>\n",
       "      <td>NaN</td>\n",
       "    </tr>\n",
       "    <tr>\n",
       "      <th>16702</th>\n",
       "      <td>STORM: Frontline Nation</td>\n",
       "      <td>PC</td>\n",
       "      <td>2011.0</td>\n",
       "      <td>Strategy</td>\n",
       "      <td>0.00</td>\n",
       "      <td>0.01</td>\n",
       "      <td>0.00</td>\n",
       "      <td>0.0</td>\n",
       "      <td>60.0</td>\n",
       "      <td>7.2</td>\n",
       "      <td>E10+</td>\n",
       "    </tr>\n",
       "    <tr>\n",
       "      <th>16703</th>\n",
       "      <td>Strawberry Nauts</td>\n",
       "      <td>PSV</td>\n",
       "      <td>2016.0</td>\n",
       "      <td>Adventure</td>\n",
       "      <td>0.00</td>\n",
       "      <td>0.00</td>\n",
       "      <td>0.01</td>\n",
       "      <td>0.0</td>\n",
       "      <td>NaN</td>\n",
       "      <td>NaN</td>\n",
       "      <td>NaN</td>\n",
       "    </tr>\n",
       "    <tr>\n",
       "      <th>16704</th>\n",
       "      <td>Plushees</td>\n",
       "      <td>DS</td>\n",
       "      <td>2008.0</td>\n",
       "      <td>Simulation</td>\n",
       "      <td>0.01</td>\n",
       "      <td>0.00</td>\n",
       "      <td>0.00</td>\n",
       "      <td>0.0</td>\n",
       "      <td>NaN</td>\n",
       "      <td>tbd</td>\n",
       "      <td>E</td>\n",
       "    </tr>\n",
       "    <tr>\n",
       "      <th>16705</th>\n",
       "      <td>15 Days</td>\n",
       "      <td>PC</td>\n",
       "      <td>2009.0</td>\n",
       "      <td>Adventure</td>\n",
       "      <td>0.00</td>\n",
       "      <td>0.01</td>\n",
       "      <td>0.00</td>\n",
       "      <td>0.0</td>\n",
       "      <td>63.0</td>\n",
       "      <td>5.8</td>\n",
       "      <td>NaN</td>\n",
       "    </tr>\n",
       "    <tr>\n",
       "      <th>16706</th>\n",
       "      <td>Men in Black II: Alien Escape</td>\n",
       "      <td>GC</td>\n",
       "      <td>2003.0</td>\n",
       "      <td>Shooter</td>\n",
       "      <td>0.01</td>\n",
       "      <td>0.00</td>\n",
       "      <td>0.00</td>\n",
       "      <td>0.0</td>\n",
       "      <td>NaN</td>\n",
       "      <td>tbd</td>\n",
       "      <td>T</td>\n",
       "    </tr>\n",
       "    <tr>\n",
       "      <th>16707</th>\n",
       "      <td>Aiyoku no Eustia</td>\n",
       "      <td>PSV</td>\n",
       "      <td>2014.0</td>\n",
       "      <td>Misc</td>\n",
       "      <td>0.00</td>\n",
       "      <td>0.00</td>\n",
       "      <td>0.01</td>\n",
       "      <td>0.0</td>\n",
       "      <td>NaN</td>\n",
       "      <td>NaN</td>\n",
       "      <td>NaN</td>\n",
       "    </tr>\n",
       "    <tr>\n",
       "      <th>16708</th>\n",
       "      <td>Woody Woodpecker in Crazy Castle 5</td>\n",
       "      <td>GBA</td>\n",
       "      <td>2002.0</td>\n",
       "      <td>Platform</td>\n",
       "      <td>0.01</td>\n",
       "      <td>0.00</td>\n",
       "      <td>0.00</td>\n",
       "      <td>0.0</td>\n",
       "      <td>NaN</td>\n",
       "      <td>NaN</td>\n",
       "      <td>NaN</td>\n",
       "    </tr>\n",
       "    <tr>\n",
       "      <th>16709</th>\n",
       "      <td>SCORE International Baja 1000: The Official Game</td>\n",
       "      <td>PS2</td>\n",
       "      <td>2008.0</td>\n",
       "      <td>Racing</td>\n",
       "      <td>0.00</td>\n",
       "      <td>0.00</td>\n",
       "      <td>0.00</td>\n",
       "      <td>0.0</td>\n",
       "      <td>NaN</td>\n",
       "      <td>NaN</td>\n",
       "      <td>NaN</td>\n",
       "    </tr>\n",
       "    <tr>\n",
       "      <th>16710</th>\n",
       "      <td>Samurai Warriors: Sanada Maru</td>\n",
       "      <td>PS3</td>\n",
       "      <td>2016.0</td>\n",
       "      <td>Action</td>\n",
       "      <td>0.00</td>\n",
       "      <td>0.00</td>\n",
       "      <td>0.01</td>\n",
       "      <td>0.0</td>\n",
       "      <td>NaN</td>\n",
       "      <td>NaN</td>\n",
       "      <td>NaN</td>\n",
       "    </tr>\n",
       "    <tr>\n",
       "      <th>16711</th>\n",
       "      <td>LMA Manager 2007</td>\n",
       "      <td>X360</td>\n",
       "      <td>2006.0</td>\n",
       "      <td>Sports</td>\n",
       "      <td>0.00</td>\n",
       "      <td>0.01</td>\n",
       "      <td>0.00</td>\n",
       "      <td>0.0</td>\n",
       "      <td>NaN</td>\n",
       "      <td>NaN</td>\n",
       "      <td>NaN</td>\n",
       "    </tr>\n",
       "    <tr>\n",
       "      <th>16712</th>\n",
       "      <td>Haitaka no Psychedelica</td>\n",
       "      <td>PSV</td>\n",
       "      <td>2016.0</td>\n",
       "      <td>Adventure</td>\n",
       "      <td>0.00</td>\n",
       "      <td>0.00</td>\n",
       "      <td>0.01</td>\n",
       "      <td>0.0</td>\n",
       "      <td>NaN</td>\n",
       "      <td>NaN</td>\n",
       "      <td>NaN</td>\n",
       "    </tr>\n",
       "    <tr>\n",
       "      <th>16713</th>\n",
       "      <td>Spirits &amp; Spells</td>\n",
       "      <td>GBA</td>\n",
       "      <td>2003.0</td>\n",
       "      <td>Platform</td>\n",
       "      <td>0.01</td>\n",
       "      <td>0.00</td>\n",
       "      <td>0.00</td>\n",
       "      <td>0.0</td>\n",
       "      <td>NaN</td>\n",
       "      <td>NaN</td>\n",
       "      <td>NaN</td>\n",
       "    </tr>\n",
       "    <tr>\n",
       "      <th>16714</th>\n",
       "      <td>Winning Post 8 2016</td>\n",
       "      <td>PSV</td>\n",
       "      <td>2016.0</td>\n",
       "      <td>Simulation</td>\n",
       "      <td>0.00</td>\n",
       "      <td>0.00</td>\n",
       "      <td>0.01</td>\n",
       "      <td>0.0</td>\n",
       "      <td>NaN</td>\n",
       "      <td>NaN</td>\n",
       "      <td>NaN</td>\n",
       "    </tr>\n",
       "  </tbody>\n",
       "</table>\n",
       "</div>"
      ],
      "text/plain": [
       "                                                    Name Platform  \\\n",
       "16700                           Mezase!! Tsuri Master DS       DS   \n",
       "16701  Eiyuu Densetsu: Sora no Kiseki Material Collec...      PSP   \n",
       "16702                            STORM: Frontline Nation       PC   \n",
       "16703                                   Strawberry Nauts      PSV   \n",
       "16704                                           Plushees       DS   \n",
       "16705                                            15 Days       PC   \n",
       "16706                      Men in Black II: Alien Escape       GC   \n",
       "16707                                   Aiyoku no Eustia      PSV   \n",
       "16708                 Woody Woodpecker in Crazy Castle 5      GBA   \n",
       "16709   SCORE International Baja 1000: The Official Game      PS2   \n",
       "16710                      Samurai Warriors: Sanada Maru      PS3   \n",
       "16711                                   LMA Manager 2007     X360   \n",
       "16712                            Haitaka no Psychedelica      PSV   \n",
       "16713                                   Spirits & Spells      GBA   \n",
       "16714                                Winning Post 8 2016      PSV   \n",
       "\n",
       "       Year_of_Release         Genre  NA_sales  EU_sales  JP_sales  \\\n",
       "16700           2009.0        Sports      0.00      0.00      0.01   \n",
       "16701           2007.0  Role-Playing      0.00      0.00      0.01   \n",
       "16702           2011.0      Strategy      0.00      0.01      0.00   \n",
       "16703           2016.0     Adventure      0.00      0.00      0.01   \n",
       "16704           2008.0    Simulation      0.01      0.00      0.00   \n",
       "16705           2009.0     Adventure      0.00      0.01      0.00   \n",
       "16706           2003.0       Shooter      0.01      0.00      0.00   \n",
       "16707           2014.0          Misc      0.00      0.00      0.01   \n",
       "16708           2002.0      Platform      0.01      0.00      0.00   \n",
       "16709           2008.0        Racing      0.00      0.00      0.00   \n",
       "16710           2016.0        Action      0.00      0.00      0.01   \n",
       "16711           2006.0        Sports      0.00      0.01      0.00   \n",
       "16712           2016.0     Adventure      0.00      0.00      0.01   \n",
       "16713           2003.0      Platform      0.01      0.00      0.00   \n",
       "16714           2016.0    Simulation      0.00      0.00      0.01   \n",
       "\n",
       "       Other_sales  Critic_Score User_Score Rating  \n",
       "16700          0.0           NaN        NaN    NaN  \n",
       "16701          0.0           NaN        NaN    NaN  \n",
       "16702          0.0          60.0        7.2   E10+  \n",
       "16703          0.0           NaN        NaN    NaN  \n",
       "16704          0.0           NaN        tbd      E  \n",
       "16705          0.0          63.0        5.8    NaN  \n",
       "16706          0.0           NaN        tbd      T  \n",
       "16707          0.0           NaN        NaN    NaN  \n",
       "16708          0.0           NaN        NaN    NaN  \n",
       "16709          0.0           NaN        NaN    NaN  \n",
       "16710          0.0           NaN        NaN    NaN  \n",
       "16711          0.0           NaN        NaN    NaN  \n",
       "16712          0.0           NaN        NaN    NaN  \n",
       "16713          0.0           NaN        NaN    NaN  \n",
       "16714          0.0           NaN        NaN    NaN  "
      ]
     },
     "execution_count": 4,
     "metadata": {},
     "output_type": "execute_result"
    }
   ],
   "source": [
    "df.tail(15) # вывод на экран последних 15 строк таблицы"
   ]
  },
  {
   "cell_type": "code",
   "execution_count": 5,
   "metadata": {},
   "outputs": [
    {
     "name": "stdout",
     "output_type": "stream",
     "text": [
      "<class 'pandas.core.frame.DataFrame'>\n",
      "RangeIndex: 16715 entries, 0 to 16714\n",
      "Data columns (total 11 columns):\n",
      " #   Column           Non-Null Count  Dtype  \n",
      "---  ------           --------------  -----  \n",
      " 0   Name             16713 non-null  object \n",
      " 1   Platform         16715 non-null  object \n",
      " 2   Year_of_Release  16446 non-null  float64\n",
      " 3   Genre            16713 non-null  object \n",
      " 4   NA_sales         16715 non-null  float64\n",
      " 5   EU_sales         16715 non-null  float64\n",
      " 6   JP_sales         16715 non-null  float64\n",
      " 7   Other_sales      16715 non-null  float64\n",
      " 8   Critic_Score     8137 non-null   float64\n",
      " 9   User_Score       10014 non-null  object \n",
      " 10  Rating           9949 non-null   object \n",
      "dtypes: float64(6), object(5)\n",
      "memory usage: 1.4+ MB\n"
     ]
    }
   ],
   "source": [
    "df.info() # вывод общей информации о таблице"
   ]
  },
  {
   "cell_type": "markdown",
   "metadata": {},
   "source": [
    "Пройдём по всем столбцам:"
   ]
  },
  {
   "cell_type": "markdown",
   "metadata": {},
   "source": [
    "**Name (название игры):**"
   ]
  },
  {
   "cell_type": "code",
   "execution_count": 6,
   "metadata": {},
   "outputs": [
    {
     "name": "stdout",
     "output_type": "stream",
     "text": [
      "Количество игр в таблице: 11560\n"
     ]
    }
   ],
   "source": [
    "print('Количество игр в таблице:', len(df['Name'].unique()))"
   ]
  },
  {
   "cell_type": "markdown",
   "metadata": {},
   "source": [
    "**Platform (платформа, на которой выпущена игра):**"
   ]
  },
  {
   "cell_type": "code",
   "execution_count": 7,
   "metadata": {},
   "outputs": [
    {
     "data": {
      "text/plain": [
       "array(['Wii', 'NES', 'GB', 'DS', 'X360', 'PS3', 'PS2', 'SNES', 'GBA',\n",
       "       'PS4', '3DS', 'N64', 'PS', 'XB', 'PC', '2600', 'PSP', 'XOne',\n",
       "       'WiiU', 'GC', 'GEN', 'DC', 'PSV', 'SAT', 'SCD', 'WS', 'NG', 'TG16',\n",
       "       '3DO', 'GG', 'PCFX'], dtype=object)"
      ]
     },
     "execution_count": 7,
     "metadata": {},
     "output_type": "execute_result"
    }
   ],
   "source": [
    "df['Platform'].unique() # список платформ, на которых вышли игры"
   ]
  },
  {
   "cell_type": "code",
   "execution_count": 8,
   "metadata": {},
   "outputs": [
    {
     "name": "stdout",
     "output_type": "stream",
     "text": [
      "Количество игровых платформ: 31\n"
     ]
    }
   ],
   "source": [
    "print('Количество игровых платформ:', len(df['Platform'].unique()))"
   ]
  },
  {
   "cell_type": "markdown",
   "metadata": {},
   "source": [
    "**Year_of_Release (год выпуска):**"
   ]
  },
  {
   "cell_type": "code",
   "execution_count": 9,
   "metadata": {},
   "outputs": [
    {
     "data": {
      "text/plain": [
       "array([1980., 1981., 1982., 1983., 1984., 1985., 1986., 1987., 1988.,\n",
       "       1989., 1990., 1991., 1992., 1993., 1994., 1995., 1996., 1997.,\n",
       "       1998., 1999., 2000., 2001., 2002., 2003., 2004., 2005., 2006.,\n",
       "       2007., 2008., 2009., 2010., 2011., 2012., 2013., 2014., 2015.,\n",
       "       2016.,   nan])"
      ]
     },
     "execution_count": 9,
     "metadata": {},
     "output_type": "execute_result"
    }
   ],
   "source": [
    "df['Year_of_Release'].sort_values().unique() # список годов выхода игр, отсортированных по возрастанию"
   ]
  },
  {
   "cell_type": "markdown",
   "metadata": {},
   "source": [
    "В рейтинге игры, выпущенные с 1980 по 2016 годы. Имеются пропуски. Не верный формат года `float64`. Необходимо перевести в `int`."
   ]
  },
  {
   "cell_type": "markdown",
   "metadata": {},
   "source": [
    "**Genre (игровой жанр):**"
   ]
  },
  {
   "cell_type": "code",
   "execution_count": 10,
   "metadata": {},
   "outputs": [
    {
     "data": {
      "text/plain": [
       "array(['Action', 'Adventure', 'Fighting', 'Misc', 'Platform', 'Puzzle',\n",
       "       'Racing', 'Role-Playing', 'Shooter', 'Simulation', 'Sports',\n",
       "       'Strategy', nan], dtype=object)"
      ]
     },
     "execution_count": 10,
     "metadata": {},
     "output_type": "execute_result"
    }
   ],
   "source": [
    "df['Genre'].sort_values().unique() # отсортированный список жанров"
   ]
  },
  {
   "cell_type": "markdown",
   "metadata": {},
   "source": [
    "В списке 12 жанров. Есть пропуски, то есть у некоторых игр не указан жанр."
   ]
  },
  {
   "cell_type": "markdown",
   "metadata": {},
   "source": [
    "**Sales (NA, EU, JP, Other), продажи в Севрной Америке, в Европе, в Японии и в других странах, миллионы проданных копий:**"
   ]
  },
  {
   "cell_type": "code",
   "execution_count": 11,
   "metadata": {},
   "outputs": [
    {
     "data": {
      "text/html": [
       "<div>\n",
       "<style scoped>\n",
       "    .dataframe tbody tr th:only-of-type {\n",
       "        vertical-align: middle;\n",
       "    }\n",
       "\n",
       "    .dataframe tbody tr th {\n",
       "        vertical-align: top;\n",
       "    }\n",
       "\n",
       "    .dataframe thead th {\n",
       "        text-align: right;\n",
       "    }\n",
       "</style>\n",
       "<table border=\"1\" class=\"dataframe\">\n",
       "  <thead>\n",
       "    <tr style=\"text-align: right;\">\n",
       "      <th></th>\n",
       "      <th>NA_sales</th>\n",
       "      <th>EU_sales</th>\n",
       "      <th>JP_sales</th>\n",
       "      <th>Other_sales</th>\n",
       "    </tr>\n",
       "  </thead>\n",
       "  <tbody>\n",
       "    <tr>\n",
       "      <th>count</th>\n",
       "      <td>16715.000000</td>\n",
       "      <td>16715.000000</td>\n",
       "      <td>16715.000000</td>\n",
       "      <td>16715.000000</td>\n",
       "    </tr>\n",
       "    <tr>\n",
       "      <th>mean</th>\n",
       "      <td>0.263377</td>\n",
       "      <td>0.145060</td>\n",
       "      <td>0.077617</td>\n",
       "      <td>0.047342</td>\n",
       "    </tr>\n",
       "    <tr>\n",
       "      <th>std</th>\n",
       "      <td>0.813604</td>\n",
       "      <td>0.503339</td>\n",
       "      <td>0.308853</td>\n",
       "      <td>0.186731</td>\n",
       "    </tr>\n",
       "    <tr>\n",
       "      <th>min</th>\n",
       "      <td>0.000000</td>\n",
       "      <td>0.000000</td>\n",
       "      <td>0.000000</td>\n",
       "      <td>0.000000</td>\n",
       "    </tr>\n",
       "    <tr>\n",
       "      <th>25%</th>\n",
       "      <td>0.000000</td>\n",
       "      <td>0.000000</td>\n",
       "      <td>0.000000</td>\n",
       "      <td>0.000000</td>\n",
       "    </tr>\n",
       "    <tr>\n",
       "      <th>50%</th>\n",
       "      <td>0.080000</td>\n",
       "      <td>0.020000</td>\n",
       "      <td>0.000000</td>\n",
       "      <td>0.010000</td>\n",
       "    </tr>\n",
       "    <tr>\n",
       "      <th>75%</th>\n",
       "      <td>0.240000</td>\n",
       "      <td>0.110000</td>\n",
       "      <td>0.040000</td>\n",
       "      <td>0.030000</td>\n",
       "    </tr>\n",
       "    <tr>\n",
       "      <th>max</th>\n",
       "      <td>41.360000</td>\n",
       "      <td>28.960000</td>\n",
       "      <td>10.220000</td>\n",
       "      <td>10.570000</td>\n",
       "    </tr>\n",
       "  </tbody>\n",
       "</table>\n",
       "</div>"
      ],
      "text/plain": [
       "           NA_sales      EU_sales      JP_sales   Other_sales\n",
       "count  16715.000000  16715.000000  16715.000000  16715.000000\n",
       "mean       0.263377      0.145060      0.077617      0.047342\n",
       "std        0.813604      0.503339      0.308853      0.186731\n",
       "min        0.000000      0.000000      0.000000      0.000000\n",
       "25%        0.000000      0.000000      0.000000      0.000000\n",
       "50%        0.080000      0.020000      0.000000      0.010000\n",
       "75%        0.240000      0.110000      0.040000      0.030000\n",
       "max       41.360000     28.960000     10.220000     10.570000"
      ]
     },
     "execution_count": 11,
     "metadata": {},
     "output_type": "execute_result"
    }
   ],
   "source": [
    "df[['NA_sales', 'EU_sales', 'JP_sales', 'Other_sales']].describe() # используем метод описательной статистики"
   ]
  },
  {
   "cell_type": "markdown",
   "metadata": {},
   "source": [
    "* В Северной Америке продажи составили от 0 (игра, скорее всего, не продавалась) до 41,36 миллионов копий;\n",
    "* В Европе - от 0 до 28,96 миллионов копий; \n",
    "* В Японии - от 0 до 10,22 миллионов копий;\n",
    "* в других странах - от 0 до 10,57 миллионов копий."
   ]
  },
  {
   "cell_type": "markdown",
   "metadata": {},
   "source": [
    "Critic_Score (оценка критиков):"
   ]
  },
  {
   "cell_type": "code",
   "execution_count": 12,
   "metadata": {},
   "outputs": [
    {
     "data": {
      "text/plain": [
       "array([13., 17., 19., 20., 21., 22., 23., 24., 25., 26., 27., 28., 29.,\n",
       "       30., 31., 32., 33., 34., 35., 36., 37., 38., 39., 40., 41., 42.,\n",
       "       43., 44., 45., 46., 47., 48., 49., 50., 51., 52., 53., 54., 55.,\n",
       "       56., 57., 58., 59., 60., 61., 62., 63., 64., 65., 66., 67., 68.,\n",
       "       69., 70., 71., 72., 73., 74., 75., 76., 77., 78., 79., 80., 81.,\n",
       "       82., 83., 84., 85., 86., 87., 88., 89., 90., 91., 92., 93., 94.,\n",
       "       95., 96., 97., 98., nan])"
      ]
     },
     "execution_count": 12,
     "metadata": {},
     "output_type": "execute_result"
    }
   ],
   "source": [
    "df['Critic_Score'].sort_values().unique()"
   ]
  },
  {
   "cell_type": "code",
   "execution_count": 13,
   "metadata": {},
   "outputs": [
    {
     "data": {
      "text/html": [
       "<div>\n",
       "<style scoped>\n",
       "    .dataframe tbody tr th:only-of-type {\n",
       "        vertical-align: middle;\n",
       "    }\n",
       "\n",
       "    .dataframe tbody tr th {\n",
       "        vertical-align: top;\n",
       "    }\n",
       "\n",
       "    .dataframe thead th {\n",
       "        text-align: right;\n",
       "    }\n",
       "</style>\n",
       "<table border=\"1\" class=\"dataframe\">\n",
       "  <thead>\n",
       "    <tr style=\"text-align: right;\">\n",
       "      <th></th>\n",
       "      <th>Critic_Score</th>\n",
       "    </tr>\n",
       "  </thead>\n",
       "  <tbody>\n",
       "    <tr>\n",
       "      <th>count</th>\n",
       "      <td>8137.000000</td>\n",
       "    </tr>\n",
       "    <tr>\n",
       "      <th>mean</th>\n",
       "      <td>68.967679</td>\n",
       "    </tr>\n",
       "    <tr>\n",
       "      <th>std</th>\n",
       "      <td>13.938165</td>\n",
       "    </tr>\n",
       "    <tr>\n",
       "      <th>min</th>\n",
       "      <td>13.000000</td>\n",
       "    </tr>\n",
       "    <tr>\n",
       "      <th>25%</th>\n",
       "      <td>60.000000</td>\n",
       "    </tr>\n",
       "    <tr>\n",
       "      <th>50%</th>\n",
       "      <td>71.000000</td>\n",
       "    </tr>\n",
       "    <tr>\n",
       "      <th>75%</th>\n",
       "      <td>79.000000</td>\n",
       "    </tr>\n",
       "    <tr>\n",
       "      <th>max</th>\n",
       "      <td>98.000000</td>\n",
       "    </tr>\n",
       "  </tbody>\n",
       "</table>\n",
       "</div>"
      ],
      "text/plain": [
       "       Critic_Score\n",
       "count   8137.000000\n",
       "mean      68.967679\n",
       "std       13.938165\n",
       "min       13.000000\n",
       "25%       60.000000\n",
       "50%       71.000000\n",
       "75%       79.000000\n",
       "max       98.000000"
      ]
     },
     "execution_count": 13,
     "metadata": {},
     "output_type": "execute_result"
    }
   ],
   "source": [
    "df[['Critic_Score']].describe()"
   ]
  },
  {
   "cell_type": "markdown",
   "metadata": {},
   "source": [
    "Оценка критиков от 13 до 98. Имеются пропуски, то есть некоторые игры не оценены критиками. Оценки имеют целое значение, но в таблице записаны как вещественные. Необходимо преобразовать в целочисленные."
   ]
  },
  {
   "cell_type": "markdown",
   "metadata": {},
   "source": [
    "**User_Score (оценка пользователей):**"
   ]
  },
  {
   "cell_type": "code",
   "execution_count": 14,
   "metadata": {},
   "outputs": [
    {
     "data": {
      "text/plain": [
       "array(['0', '0.2', '0.3', '0.5', '0.6', '0.7', '0.9', '1', '1.1', '1.2',\n",
       "       '1.3', '1.4', '1.5', '1.6', '1.7', '1.8', '1.9', '2', '2.1', '2.2',\n",
       "       '2.3', '2.4', '2.5', '2.6', '2.7', '2.8', '2.9', '3', '3.1', '3.2',\n",
       "       '3.3', '3.4', '3.5', '3.6', '3.7', '3.8', '3.9', '4', '4.1', '4.2',\n",
       "       '4.3', '4.4', '4.5', '4.6', '4.7', '4.8', '4.9', '5', '5.1', '5.2',\n",
       "       '5.3', '5.4', '5.5', '5.6', '5.7', '5.8', '5.9', '6', '6.1', '6.2',\n",
       "       '6.3', '6.4', '6.5', '6.6', '6.7', '6.8', '6.9', '7', '7.1', '7.2',\n",
       "       '7.3', '7.4', '7.5', '7.6', '7.7', '7.8', '7.9', '8', '8.1', '8.2',\n",
       "       '8.3', '8.4', '8.5', '8.6', '8.7', '8.8', '8.9', '9', '9.1', '9.2',\n",
       "       '9.3', '9.4', '9.5', '9.6', '9.7', 'tbd', nan], dtype=object)"
      ]
     },
     "execution_count": 14,
     "metadata": {},
     "output_type": "execute_result"
    }
   ],
   "source": [
    "df['User_Score'].sort_values().unique()"
   ]
  },
  {
   "cell_type": "markdown",
   "metadata": {},
   "source": [
    "Оценка пользователей разнится от 0 до 9,7 баллов за игру; при этом оценки - не целые, а десятичные числа. Значения записаны не в верном формате `object`. Также есть пропущенные значения, и есть значения `tbd` (to be determined), с английского можно перевести как `будет определен позднее`. Это рейтинг, который будет определён позже, то есть на момент выгрузки данных его нет, и данное значение равносильно незаполненным значениям nan. "
   ]
  },
  {
   "cell_type": "markdown",
   "metadata": {},
   "source": [
    "**Rating (рейтинг от организации ESRB):**"
   ]
  },
  {
   "cell_type": "code",
   "execution_count": 15,
   "metadata": {},
   "outputs": [
    {
     "data": {
      "text/plain": [
       "array(['AO', 'E', 'E10+', 'EC', 'K-A', 'M', 'RP', 'T', nan], dtype=object)"
      ]
     },
     "execution_count": 15,
     "metadata": {},
     "output_type": "execute_result"
    }
   ],
   "source": [
    "df['Rating'].sort_values().unique()"
   ]
  },
  {
   "cell_type": "markdown",
   "metadata": {},
   "source": [
    "Имеется 8 вариантов рейтинга. Есть пропущенные значения, то есть для некоторых игр не установлен рейтинг."
   ]
  },
  {
   "cell_type": "markdown",
   "metadata": {},
   "source": [
    "**ИТОГО:**"
   ]
  },
  {
   "cell_type": "markdown",
   "metadata": {},
   "source": [
    "Перед нами таблица, состоящая из 11 столбцов и 16715 строк. Имеются данные двух типов `float64` и `object`. В таблице данные об играх, выпущенных с 1980 по 2016  годы.\n",
    "\n",
    "При беглом взгляде, выявлены следующие проблемы с данными:\n",
    "* необходимо привести названия столбцов к нижнему регистру;\n",
    "* различное количество значений в столбцах указывает на наличие в таблице пропусков. Пропуски могут быть связаны с отсутствием данных в открытых источниках, либо с отсутствием данных вообще (например, игра достаточно старая и во времена ее выхода пользователи не могли ставить рейтинг), а могут быть связаны с техническими ошибками при формировании датасета;\n",
    "* есть некоторое несоответствие типа данных в ряде столбцов (например, столбцы `Year_of_Releas`e и `Critic_Score` должны быть целочисленными, `User_Score` - вещественным);\n",
    "* в столбце `User_Score` есть артефактное значение `tbd`. Заменим его на `nan`.\n",
    "* в столбце `Rating` находятся категории `E` и `K-A`, которые являются вариациями одной категории."
   ]
  },
  {
   "cell_type": "markdown",
   "metadata": {},
   "source": [
    "## Подготовка данных"
   ]
  },
  {
   "cell_type": "markdown",
   "metadata": {},
   "source": [
    "### Замена названия столбцов (приведение к нижнему регистру)"
   ]
  },
  {
   "cell_type": "code",
   "execution_count": 16,
   "metadata": {},
   "outputs": [],
   "source": [
    "df.columns = df.columns.str.lower() # приведение названий столбцов в нижний регистр "
   ]
  },
  {
   "cell_type": "code",
   "execution_count": 17,
   "metadata": {},
   "outputs": [
    {
     "data": {
      "text/plain": [
       "Index(['name', 'platform', 'year_of_release', 'genre', 'na_sales', 'eu_sales',\n",
       "       'jp_sales', 'other_sales', 'critic_score', 'user_score', 'rating'],\n",
       "      dtype='object')"
      ]
     },
     "execution_count": 17,
     "metadata": {},
     "output_type": "execute_result"
    }
   ],
   "source": [
    "df.columns # проверим результат приведение названий столбцов в нижний регистр "
   ]
  },
  {
   "cell_type": "markdown",
   "metadata": {},
   "source": [
    "### Пропуски"
   ]
  },
  {
   "cell_type": "code",
   "execution_count": 18,
   "metadata": {},
   "outputs": [
    {
     "data": {
      "text/plain": [
       "critic_score       8578\n",
       "rating             6766\n",
       "user_score         6701\n",
       "year_of_release     269\n",
       "name                  2\n",
       "genre                 2\n",
       "platform              0\n",
       "na_sales              0\n",
       "eu_sales              0\n",
       "jp_sales              0\n",
       "other_sales           0\n",
       "dtype: int64"
      ]
     },
     "execution_count": 18,
     "metadata": {},
     "output_type": "execute_result"
    }
   ],
   "source": [
    "df.isna().sum().sort_values(ascending=False) # количество пропусков, отсортированных по убыванию"
   ]
  },
  {
   "cell_type": "markdown",
   "metadata": {},
   "source": [
    "Проверим процент пропусков в столбцах:"
   ]
  },
  {
   "cell_type": "code",
   "execution_count": 19,
   "metadata": {},
   "outputs": [
    {
     "data": {
      "text/plain": [
       "critic_score       51.319174\n",
       "rating             40.478612\n",
       "user_score         40.089740\n",
       "year_of_release     1.609333\n",
       "name                0.011965\n",
       "genre               0.011965\n",
       "platform            0.000000\n",
       "na_sales            0.000000\n",
       "eu_sales            0.000000\n",
       "jp_sales            0.000000\n",
       "other_sales         0.000000\n",
       "dtype: float64"
      ]
     },
     "execution_count": 19,
     "metadata": {},
     "output_type": "execute_result"
    }
   ],
   "source": [
    "(df.isna().sum() / len(df) * 100).sort_values(ascending=False)"
   ]
  },
  {
   "cell_type": "markdown",
   "metadata": {},
   "source": [
    "Найдены пропуски в следующих столбцах:\n",
    "* critic_score (оценка критиков);\n",
    "* rating (рейтинг от организации ESRB);\n",
    "* user_score (оценка пользователей);\n",
    "* year_of_release (год выпуска);\n",
    "* name (название игры);\n",
    "* genre (жанр игры)."
   ]
  },
  {
   "cell_type": "markdown",
   "metadata": {},
   "source": [
    "Пропуски в столбцах `genre`, `name` и `year_of_release` -  не значительные, их можно удалить. Это никак не повлияет на картину в целом."
   ]
  },
  {
   "cell_type": "code",
   "execution_count": 20,
   "metadata": {},
   "outputs": [],
   "source": [
    "df = df.dropna(subset=['genre'])\n",
    "df = df.dropna(subset=['name'])\n",
    "df = df.dropna(subset=['year_of_release'])"
   ]
  },
  {
   "cell_type": "markdown",
   "metadata": {},
   "source": [
    "Пропуски в столбцах `critic_score`, `rating ` и `user_score`.\n",
    "Прежде всего, в столбце `User_Score` заменим значение `tbd` на `nan`, так как в принципе они равнозначны.\n",
    "В столбце `rating` имеем две схожие переменные (`K-A`, `E`). Так как они означают одно и тоже и `K-A` больше не применяется, то заменим его на `E`."
   ]
  },
  {
   "cell_type": "code",
   "execution_count": 21,
   "metadata": {},
   "outputs": [],
   "source": [
    "df.loc[df['user_score'] == 'tbd','user_score'] = np.nan\n",
    "df['rating'] = df['rating'].replace('K-A', 'E')"
   ]
  },
  {
   "cell_type": "markdown",
   "metadata": {},
   "source": [
    "Исходя из количества пропусков в столбцах `critic_score`, `rating ` и `user_score`, удалить эти строки не имеем права. Причины их появления не явны. Восстановить эти значения через среднее и медиану будет не правильно. Заменим эти пропуски на нетипичное значение  `Unknown` и будем иметь это ввиду в дальнейшем анализе."
   ]
  },
  {
   "cell_type": "code",
   "execution_count": 22,
   "metadata": {},
   "outputs": [],
   "source": [
    "df['critic_score'] = df['critic_score'].fillna(-1)\n",
    "df['rating'] = df['rating'].fillna('Unknown')\n",
    "df['user_score'] = df['user_score'].fillna(-1)"
   ]
  },
  {
   "cell_type": "code",
   "execution_count": 23,
   "metadata": {},
   "outputs": [
    {
     "data": {
      "text/plain": [
       "0           E\n",
       "1     Unknown\n",
       "2           E\n",
       "3           E\n",
       "4     Unknown\n",
       "5     Unknown\n",
       "6           E\n",
       "7           E\n",
       "8           E\n",
       "9     Unknown\n",
       "10    Unknown\n",
       "11          E\n",
       "12    Unknown\n",
       "13          E\n",
       "14          E\n",
       "Name: rating, dtype: object"
      ]
     },
     "execution_count": 23,
     "metadata": {},
     "output_type": "execute_result"
    }
   ],
   "source": [
    "df['rating'].head(15)"
   ]
  },
  {
   "cell_type": "markdown",
   "metadata": {},
   "source": [
    "### Приведение данных к нужным типам"
   ]
  },
  {
   "cell_type": "code",
   "execution_count": 24,
   "metadata": {},
   "outputs": [],
   "source": [
    "df['year_of_release'] = pd.to_numeric(df['year_of_release']).astype('int')\n",
    "df['user_score'] = pd.to_numeric(df['user_score']).astype('float')\n",
    "df['critic_score'] = pd.to_numeric(df['critic_score']).astype('int')"
   ]
  },
  {
   "cell_type": "markdown",
   "metadata": {},
   "source": [
    "Проверим снова пропуски"
   ]
  },
  {
   "cell_type": "code",
   "execution_count": 25,
   "metadata": {},
   "outputs": [
    {
     "data": {
      "text/plain": [
       "name               0\n",
       "platform           0\n",
       "year_of_release    0\n",
       "genre              0\n",
       "na_sales           0\n",
       "eu_sales           0\n",
       "jp_sales           0\n",
       "other_sales        0\n",
       "critic_score       0\n",
       "user_score         0\n",
       "rating             0\n",
       "dtype: int64"
      ]
     },
     "execution_count": 25,
     "metadata": {},
     "output_type": "execute_result"
    }
   ],
   "source": [
    "df.isna().sum()"
   ]
  },
  {
   "cell_type": "markdown",
   "metadata": {},
   "source": [
    "Пропуски отсутствуют."
   ]
  },
  {
   "cell_type": "markdown",
   "metadata": {},
   "source": [
    "Проверим на явные дубликаты."
   ]
  },
  {
   "cell_type": "code",
   "execution_count": 26,
   "metadata": {},
   "outputs": [
    {
     "name": "stdout",
     "output_type": "stream",
     "text": [
      "Количество явных дубликатов: 0\n"
     ]
    }
   ],
   "source": [
    "print('Количество явных дубликатов:', df.duplicated().sum())"
   ]
  },
  {
   "cell_type": "markdown",
   "metadata": {},
   "source": [
    "### Суммарные продажи во всех регионах"
   ]
  },
  {
   "cell_type": "code",
   "execution_count": 27,
   "metadata": {},
   "outputs": [],
   "source": [
    "# подсчёт суммарных продаж и добавление в отдельный столбец\n",
    "#df['total_sales'] = df['na_sales'] + df['eu_sales'] + df['jp_sales'] + df['other_sales']\n",
    "df['total_sales'] = df[['na_sales', 'eu_sales', 'jp_sales', 'other_sales']].sum(axis=1)"
   ]
  },
  {
   "cell_type": "code",
   "execution_count": 28,
   "metadata": {},
   "outputs": [
    {
     "data": {
      "text/html": [
       "<div>\n",
       "<style scoped>\n",
       "    .dataframe tbody tr th:only-of-type {\n",
       "        vertical-align: middle;\n",
       "    }\n",
       "\n",
       "    .dataframe tbody tr th {\n",
       "        vertical-align: top;\n",
       "    }\n",
       "\n",
       "    .dataframe thead th {\n",
       "        text-align: right;\n",
       "    }\n",
       "</style>\n",
       "<table border=\"1\" class=\"dataframe\">\n",
       "  <thead>\n",
       "    <tr style=\"text-align: right;\">\n",
       "      <th></th>\n",
       "      <th>name</th>\n",
       "      <th>platform</th>\n",
       "      <th>year_of_release</th>\n",
       "      <th>genre</th>\n",
       "      <th>na_sales</th>\n",
       "      <th>eu_sales</th>\n",
       "      <th>jp_sales</th>\n",
       "      <th>other_sales</th>\n",
       "      <th>critic_score</th>\n",
       "      <th>user_score</th>\n",
       "      <th>rating</th>\n",
       "      <th>total_sales</th>\n",
       "    </tr>\n",
       "  </thead>\n",
       "  <tbody>\n",
       "    <tr>\n",
       "      <th>0</th>\n",
       "      <td>Wii Sports</td>\n",
       "      <td>Wii</td>\n",
       "      <td>2006</td>\n",
       "      <td>Sports</td>\n",
       "      <td>41.36</td>\n",
       "      <td>28.96</td>\n",
       "      <td>3.77</td>\n",
       "      <td>8.45</td>\n",
       "      <td>76</td>\n",
       "      <td>8.0</td>\n",
       "      <td>E</td>\n",
       "      <td>82.54</td>\n",
       "    </tr>\n",
       "    <tr>\n",
       "      <th>1</th>\n",
       "      <td>Super Mario Bros.</td>\n",
       "      <td>NES</td>\n",
       "      <td>1985</td>\n",
       "      <td>Platform</td>\n",
       "      <td>29.08</td>\n",
       "      <td>3.58</td>\n",
       "      <td>6.81</td>\n",
       "      <td>0.77</td>\n",
       "      <td>-1</td>\n",
       "      <td>-1.0</td>\n",
       "      <td>Unknown</td>\n",
       "      <td>40.24</td>\n",
       "    </tr>\n",
       "    <tr>\n",
       "      <th>2</th>\n",
       "      <td>Mario Kart Wii</td>\n",
       "      <td>Wii</td>\n",
       "      <td>2008</td>\n",
       "      <td>Racing</td>\n",
       "      <td>15.68</td>\n",
       "      <td>12.76</td>\n",
       "      <td>3.79</td>\n",
       "      <td>3.29</td>\n",
       "      <td>82</td>\n",
       "      <td>8.3</td>\n",
       "      <td>E</td>\n",
       "      <td>35.52</td>\n",
       "    </tr>\n",
       "    <tr>\n",
       "      <th>3</th>\n",
       "      <td>Wii Sports Resort</td>\n",
       "      <td>Wii</td>\n",
       "      <td>2009</td>\n",
       "      <td>Sports</td>\n",
       "      <td>15.61</td>\n",
       "      <td>10.93</td>\n",
       "      <td>3.28</td>\n",
       "      <td>2.95</td>\n",
       "      <td>80</td>\n",
       "      <td>8.0</td>\n",
       "      <td>E</td>\n",
       "      <td>32.77</td>\n",
       "    </tr>\n",
       "    <tr>\n",
       "      <th>4</th>\n",
       "      <td>Pokemon Red/Pokemon Blue</td>\n",
       "      <td>GB</td>\n",
       "      <td>1996</td>\n",
       "      <td>Role-Playing</td>\n",
       "      <td>11.27</td>\n",
       "      <td>8.89</td>\n",
       "      <td>10.22</td>\n",
       "      <td>1.00</td>\n",
       "      <td>-1</td>\n",
       "      <td>-1.0</td>\n",
       "      <td>Unknown</td>\n",
       "      <td>31.38</td>\n",
       "    </tr>\n",
       "    <tr>\n",
       "      <th>5</th>\n",
       "      <td>Tetris</td>\n",
       "      <td>GB</td>\n",
       "      <td>1989</td>\n",
       "      <td>Puzzle</td>\n",
       "      <td>23.20</td>\n",
       "      <td>2.26</td>\n",
       "      <td>4.22</td>\n",
       "      <td>0.58</td>\n",
       "      <td>-1</td>\n",
       "      <td>-1.0</td>\n",
       "      <td>Unknown</td>\n",
       "      <td>30.26</td>\n",
       "    </tr>\n",
       "    <tr>\n",
       "      <th>6</th>\n",
       "      <td>New Super Mario Bros.</td>\n",
       "      <td>DS</td>\n",
       "      <td>2006</td>\n",
       "      <td>Platform</td>\n",
       "      <td>11.28</td>\n",
       "      <td>9.14</td>\n",
       "      <td>6.50</td>\n",
       "      <td>2.88</td>\n",
       "      <td>89</td>\n",
       "      <td>8.5</td>\n",
       "      <td>E</td>\n",
       "      <td>29.80</td>\n",
       "    </tr>\n",
       "    <tr>\n",
       "      <th>7</th>\n",
       "      <td>Wii Play</td>\n",
       "      <td>Wii</td>\n",
       "      <td>2006</td>\n",
       "      <td>Misc</td>\n",
       "      <td>13.96</td>\n",
       "      <td>9.18</td>\n",
       "      <td>2.93</td>\n",
       "      <td>2.84</td>\n",
       "      <td>58</td>\n",
       "      <td>6.6</td>\n",
       "      <td>E</td>\n",
       "      <td>28.91</td>\n",
       "    </tr>\n",
       "    <tr>\n",
       "      <th>8</th>\n",
       "      <td>New Super Mario Bros. Wii</td>\n",
       "      <td>Wii</td>\n",
       "      <td>2009</td>\n",
       "      <td>Platform</td>\n",
       "      <td>14.44</td>\n",
       "      <td>6.94</td>\n",
       "      <td>4.70</td>\n",
       "      <td>2.24</td>\n",
       "      <td>87</td>\n",
       "      <td>8.4</td>\n",
       "      <td>E</td>\n",
       "      <td>28.32</td>\n",
       "    </tr>\n",
       "    <tr>\n",
       "      <th>9</th>\n",
       "      <td>Duck Hunt</td>\n",
       "      <td>NES</td>\n",
       "      <td>1984</td>\n",
       "      <td>Shooter</td>\n",
       "      <td>26.93</td>\n",
       "      <td>0.63</td>\n",
       "      <td>0.28</td>\n",
       "      <td>0.47</td>\n",
       "      <td>-1</td>\n",
       "      <td>-1.0</td>\n",
       "      <td>Unknown</td>\n",
       "      <td>28.31</td>\n",
       "    </tr>\n",
       "  </tbody>\n",
       "</table>\n",
       "</div>"
      ],
      "text/plain": [
       "                        name platform  year_of_release         genre  \\\n",
       "0                 Wii Sports      Wii             2006        Sports   \n",
       "1          Super Mario Bros.      NES             1985      Platform   \n",
       "2             Mario Kart Wii      Wii             2008        Racing   \n",
       "3          Wii Sports Resort      Wii             2009        Sports   \n",
       "4   Pokemon Red/Pokemon Blue       GB             1996  Role-Playing   \n",
       "5                     Tetris       GB             1989        Puzzle   \n",
       "6      New Super Mario Bros.       DS             2006      Platform   \n",
       "7                   Wii Play      Wii             2006          Misc   \n",
       "8  New Super Mario Bros. Wii      Wii             2009      Platform   \n",
       "9                  Duck Hunt      NES             1984       Shooter   \n",
       "\n",
       "   na_sales  eu_sales  jp_sales  other_sales  critic_score  user_score  \\\n",
       "0     41.36     28.96      3.77         8.45            76         8.0   \n",
       "1     29.08      3.58      6.81         0.77            -1        -1.0   \n",
       "2     15.68     12.76      3.79         3.29            82         8.3   \n",
       "3     15.61     10.93      3.28         2.95            80         8.0   \n",
       "4     11.27      8.89     10.22         1.00            -1        -1.0   \n",
       "5     23.20      2.26      4.22         0.58            -1        -1.0   \n",
       "6     11.28      9.14      6.50         2.88            89         8.5   \n",
       "7     13.96      9.18      2.93         2.84            58         6.6   \n",
       "8     14.44      6.94      4.70         2.24            87         8.4   \n",
       "9     26.93      0.63      0.28         0.47            -1        -1.0   \n",
       "\n",
       "    rating  total_sales  \n",
       "0        E        82.54  \n",
       "1  Unknown        40.24  \n",
       "2        E        35.52  \n",
       "3        E        32.77  \n",
       "4  Unknown        31.38  \n",
       "5  Unknown        30.26  \n",
       "6        E        29.80  \n",
       "7        E        28.91  \n",
       "8        E        28.32  \n",
       "9  Unknown        28.31  "
      ]
     },
     "execution_count": 28,
     "metadata": {},
     "output_type": "execute_result"
    }
   ],
   "source": [
    "df.head(10) # выведем первые 10 строк после добавления"
   ]
  },
  {
   "cell_type": "markdown",
   "metadata": {},
   "source": [
    "**ВЫВОД**\n",
    "* избавились от пропусков;\n",
    "* привели названия столбцов к нижнему регистру;\n",
    "* преобразовали данные в нужные типы;\n",
    "* посчитали суммарные продажи во всех регионах и записали их в отдельный столбец total_sales.\n",
    "\n",
    "Пропуски в столбцах `critic_score`, `rating ` и `user_score` могут быть связаны с тем, что игр стало выходить больше - соответственно, пользователи не могут чисто физически поиграть во все игры и , соответсвенно, не могут оценить все из них.\n",
    "Также возникло большее количество платформ - соответсвенно пользователи выбирают для себя оптимальную и не используют другие платформы. \n",
    "Часть пропусков может быть связана с тем, что критики и специалисты ESRB вероятно, оценивают и выставляют рейтинг не каждой вышедшей игре, а наиболее ожидаемым и пользующимся наиблоьшим спросом игры. Также возможно, что данные по оценкам и рейтингу отсутствуют в открытом доступе."
   ]
  },
  {
   "cell_type": "markdown",
   "metadata": {},
   "source": [
    "## Исследовательский анализ данных"
   ]
  },
  {
   "cell_type": "markdown",
   "metadata": {},
   "source": [
    "* сколько игр выпускалось в разные годы. Важны ли данные за все периоды?\n",
    "* как менялись продажи по платформам. Выберите платформы с наибольшими суммарными продажами и постройте распределение по годам. За какой характерный срок появляются новые и исчезают старые платформы?\n",
    "* данные за соответствующий актуальный период. Актуальный период определите самостоятельно в результате исследования предыдущих вопросов. Основной фактор — эти данные помогут построить прогноз на 2017 год.\n",
    "* не учитывайте в работе данные за предыдущие годы.\n",
    "* какие платформы лидируют по продажам, растут или падают? Выберите несколько потенциально прибыльных платформ.\n",
    "* постройте график «ящик с усами» по глобальным продажам игр в разбивке по платформам. Опишите результат.\n",
    "* как влияют на продажи внутри одной популярной платформы отзывы пользователей и критиков. Постройте диаграмму рассеяния и посчитайте корреляцию между отзывами и продажами. Сформулируйте выводы.\n",
    "* соотнесите выводы с продажами игр на других платформах.\n",
    "* общее распределение игр по жанрам. Что можно сказать о самых прибыльных жанрах? Выделяются ли жанры с высокими и низкими продажами?"
   ]
  },
  {
   "cell_type": "markdown",
   "metadata": {},
   "source": [
    "### Количество игр, выпускаемых в разные годы."
   ]
  },
  {
   "cell_type": "code",
   "execution_count": 29,
   "metadata": {},
   "outputs": [
    {
     "data": {
      "image/png": "[encoded data removed]",
      "text/plain": [
       "<Figure size 432x432 with 1 Axes>"
      ]
     },
     "metadata": {
      "needs_background": "light"
     },
     "output_type": "display_data"
    }
   ],
   "source": [
    "games_released = df.groupby('year_of_release')['name'].count()\n",
    "games_released.plot(figsize=(6, 6), title='Кол-во выпущенных игр по годам')\n",
    "plt.ylabel('Количество игр, шт.')\n",
    "plt.xlabel('Год релиза')\n",
    "plt.show()"
   ]
  },
  {
   "cell_type": "code",
   "execution_count": 30,
   "metadata": {},
   "outputs": [
    {
     "data": {
      "image/png": "[encoded data removed]",
      "text/plain": [
       "<Figure size 432x288 with 1 Axes>"
      ]
     },
     "metadata": {
      "needs_background": "light"
     },
     "output_type": "display_data"
    }
   ],
   "source": [
    "plt.boxplot(df['year_of_release'])\n",
    "plt.title(\"Распределение по годам релиза\")\n",
    "plt.show()"
   ]
  },
  {
   "cell_type": "markdown",
   "metadata": {},
   "source": [
    "* По графику видно, что в период с 1980 по 1994 годы, выходило очень мало игр. Эти данные оказались за нижней границей диаграммы размаха. Поэтому данные с 1980-1994 г не важны.\n",
    "* С 1995 по 2000 наблюдается рост выпускаемых игр. \n",
    "* с 2000 года наблюдается экспоненциальный рост выпускаемых игр до 2009 года.\n",
    "* С 2010 года наблюдается спад вплоть до 2016 года."
   ]
  },
  {
   "cell_type": "markdown",
   "metadata": {},
   "source": [
    "### Изменение продаж по платформам."
   ]
  },
  {
   "cell_type": "markdown",
   "metadata": {},
   "source": [
    "Платформы с наибольшими суммарными продажами:"
   ]
  },
  {
   "cell_type": "code",
   "execution_count": 31,
   "metadata": {},
   "outputs": [
    {
     "data": {
      "text/html": [
       "<div>\n",
       "<style scoped>\n",
       "    .dataframe tbody tr th:only-of-type {\n",
       "        vertical-align: middle;\n",
       "    }\n",
       "\n",
       "    .dataframe tbody tr th {\n",
       "        vertical-align: top;\n",
       "    }\n",
       "\n",
       "    .dataframe thead th {\n",
       "        text-align: right;\n",
       "    }\n",
       "</style>\n",
       "<table border=\"1\" class=\"dataframe\">\n",
       "  <thead>\n",
       "    <tr style=\"text-align: right;\">\n",
       "      <th></th>\n",
       "      <th>platform</th>\n",
       "      <th>total_sales</th>\n",
       "    </tr>\n",
       "  </thead>\n",
       "  <tbody>\n",
       "    <tr>\n",
       "      <th>0</th>\n",
       "      <td>PS2</td>\n",
       "      <td>1233.56</td>\n",
       "    </tr>\n",
       "    <tr>\n",
       "      <th>1</th>\n",
       "      <td>X360</td>\n",
       "      <td>961.24</td>\n",
       "    </tr>\n",
       "    <tr>\n",
       "      <th>2</th>\n",
       "      <td>PS3</td>\n",
       "      <td>931.34</td>\n",
       "    </tr>\n",
       "    <tr>\n",
       "      <th>3</th>\n",
       "      <td>Wii</td>\n",
       "      <td>891.18</td>\n",
       "    </tr>\n",
       "    <tr>\n",
       "      <th>4</th>\n",
       "      <td>DS</td>\n",
       "      <td>802.78</td>\n",
       "    </tr>\n",
       "    <tr>\n",
       "      <th>5</th>\n",
       "      <td>PS</td>\n",
       "      <td>727.58</td>\n",
       "    </tr>\n",
       "    <tr>\n",
       "      <th>6</th>\n",
       "      <td>PS4</td>\n",
       "      <td>314.14</td>\n",
       "    </tr>\n",
       "    <tr>\n",
       "      <th>7</th>\n",
       "      <td>GBA</td>\n",
       "      <td>312.88</td>\n",
       "    </tr>\n",
       "    <tr>\n",
       "      <th>8</th>\n",
       "      <td>PSP</td>\n",
       "      <td>289.53</td>\n",
       "    </tr>\n",
       "    <tr>\n",
       "      <th>9</th>\n",
       "      <td>3DS</td>\n",
       "      <td>257.81</td>\n",
       "    </tr>\n",
       "  </tbody>\n",
       "</table>\n",
       "</div>"
      ],
      "text/plain": [
       "  platform  total_sales\n",
       "0      PS2      1233.56\n",
       "1     X360       961.24\n",
       "2      PS3       931.34\n",
       "3      Wii       891.18\n",
       "4       DS       802.78\n",
       "5       PS       727.58\n",
       "6      PS4       314.14\n",
       "7      GBA       312.88\n",
       "8      PSP       289.53\n",
       "9      3DS       257.81"
      ]
     },
     "execution_count": 31,
     "metadata": {},
     "output_type": "execute_result"
    }
   ],
   "source": [
    "# топ 10 платформ по суммарным продажам\n",
    "sales_by_platforms = df.groupby('platform')['total_sales'].sum().sort_values(ascending=False).reset_index().head(10)\n",
    "sales_by_platforms.head(10)"
   ]
  },
  {
   "cell_type": "code",
   "execution_count": 32,
   "metadata": {},
   "outputs": [
    {
     "data": {
      "image/png": "[encoded data removed]",
      "text/plain": [
       "<Figure size 1080x360 with 1 Axes>"
      ]
     },
     "metadata": {
      "needs_background": "light"
     },
     "output_type": "display_data"
    }
   ],
   "source": [
    "plt.figure(figsize=(15,5))\n",
    "sns.barplot(x=sales_by_platforms['platform'],\n",
    "            y=sales_by_platforms['total_sales'])\n",
    "sns.set_style('darkgrid')\n",
    "plt.title(\"sales_by_platforms\")\n",
    "plt.xlabel(\"platform\")\n",
    "plt.ylabel(\"total_sales\")\n",
    "plt.show()"
   ]
  },
  {
   "cell_type": "code",
   "execution_count": 33,
   "metadata": {},
   "outputs": [
    {
     "data": {
      "text/plain": [
       "['PS2', 'X360', 'PS3', 'Wii', 'DS', 'PS', 'PS4', 'GBA', 'PSP', '3DS']"
      ]
     },
     "execution_count": 33,
     "metadata": {},
     "output_type": "execute_result"
    }
   ],
   "source": [
    "top_platforms = sales_by_platforms['platform'].to_list() # список топ платформ по продажам\n",
    "top_platforms"
   ]
  },
  {
   "cell_type": "markdown",
   "metadata": {},
   "source": [
    "**Построим график распределения по годам среди платформ**"
   ]
  },
  {
   "cell_type": "code",
   "execution_count": 34,
   "metadata": {},
   "outputs": [
    {
     "data": {
      "image/png": "[encoded data removed]",
      "text/plain": [
       "<Figure size 1080x360 with 1 Axes>"
      ]
     },
     "metadata": {},
     "output_type": "display_data"
    }
   ],
   "source": [
    "top_platforms_sales = df[df['platform'].isin(top_platforms)].pivot_table(index = 'year_of_release',\n",
    "                                                                                columns = 'platform',\n",
    "                                                                                values = 'total_sales',\n",
    "                                                                                aggfunc = 'sum')\n",
    "top_platforms_sales.plot(figsize = (15, 5))\n",
    "plt.show()"
   ]
  },
  {
   "cell_type": "markdown",
   "metadata": {},
   "source": [
    "Из графика видно:\n",
    "* срок жизни платформы приблизительно 8-10 лет;\n",
    "* период появления новых платформ вытекает из предыдущего вывода - т.е. появляются через 8-10 лет;\n",
    "* больше всего новых платформ появилось в период 2004-2006;\n",
    "* пик продаж у большинства платформ приходится на период с 2008 по 2011 годы;\n",
    "* потенциально прибыльная платформа `PS4`.\n",
    "\n",
    "Из этого делаем вывод, что нам важны данные не за весь период (1980-2016), а только с 2006 по 2016 годы. Но, анализировать будем данные за последние 3 года (с 2014 по 2016), т.к. рынок игр быстро меняется и появляются новые тренды. Поэтому актуальными будут данные за последние 3 года."
   ]
  },
  {
   "cell_type": "markdown",
   "metadata": {},
   "source": [
    "### Выборка за соответствующий актуальный период."
   ]
  },
  {
   "cell_type": "code",
   "execution_count": 35,
   "metadata": {},
   "outputs": [],
   "source": [
    "df_new = df.query('year_of_release >= 2014') # выборка по актуальным данным"
   ]
  },
  {
   "cell_type": "code",
   "execution_count": 36,
   "metadata": {},
   "outputs": [
    {
     "data": {
      "text/html": [
       "<div>\n",
       "<style scoped>\n",
       "    .dataframe tbody tr th:only-of-type {\n",
       "        vertical-align: middle;\n",
       "    }\n",
       "\n",
       "    .dataframe tbody tr th {\n",
       "        vertical-align: top;\n",
       "    }\n",
       "\n",
       "    .dataframe thead th {\n",
       "        text-align: right;\n",
       "    }\n",
       "</style>\n",
       "<table border=\"1\" class=\"dataframe\">\n",
       "  <thead>\n",
       "    <tr style=\"text-align: right;\">\n",
       "      <th></th>\n",
       "      <th>year_of_release</th>\n",
       "      <th>na_sales</th>\n",
       "      <th>eu_sales</th>\n",
       "      <th>jp_sales</th>\n",
       "      <th>other_sales</th>\n",
       "      <th>critic_score</th>\n",
       "      <th>user_score</th>\n",
       "      <th>total_sales</th>\n",
       "    </tr>\n",
       "  </thead>\n",
       "  <tbody>\n",
       "    <tr>\n",
       "      <th>count</th>\n",
       "      <td>1689.000000</td>\n",
       "      <td>1689.000000</td>\n",
       "      <td>1689.000000</td>\n",
       "      <td>1689.000000</td>\n",
       "      <td>1689.000000</td>\n",
       "      <td>1689.000000</td>\n",
       "      <td>1689.000000</td>\n",
       "      <td>1689.000000</td>\n",
       "    </tr>\n",
       "    <tr>\n",
       "      <th>mean</th>\n",
       "      <td>2014.953227</td>\n",
       "      <td>0.168182</td>\n",
       "      <td>0.160261</td>\n",
       "      <td>0.055115</td>\n",
       "      <td>0.048324</td>\n",
       "      <td>30.162818</td>\n",
       "      <td>3.008111</td>\n",
       "      <td>0.431883</td>\n",
       "    </tr>\n",
       "    <tr>\n",
       "      <th>std</th>\n",
       "      <td>0.799624</td>\n",
       "      <td>0.446134</td>\n",
       "      <td>0.466846</td>\n",
       "      <td>0.211513</td>\n",
       "      <td>0.141790</td>\n",
       "      <td>37.114050</td>\n",
       "      <td>3.978406</td>\n",
       "      <td>1.056109</td>\n",
       "    </tr>\n",
       "    <tr>\n",
       "      <th>min</th>\n",
       "      <td>2014.000000</td>\n",
       "      <td>0.000000</td>\n",
       "      <td>0.000000</td>\n",
       "      <td>0.000000</td>\n",
       "      <td>0.000000</td>\n",
       "      <td>-1.000000</td>\n",
       "      <td>-1.000000</td>\n",
       "      <td>0.010000</td>\n",
       "    </tr>\n",
       "    <tr>\n",
       "      <th>25%</th>\n",
       "      <td>2014.000000</td>\n",
       "      <td>0.000000</td>\n",
       "      <td>0.000000</td>\n",
       "      <td>0.000000</td>\n",
       "      <td>0.000000</td>\n",
       "      <td>-1.000000</td>\n",
       "      <td>-1.000000</td>\n",
       "      <td>0.030000</td>\n",
       "    </tr>\n",
       "    <tr>\n",
       "      <th>50%</th>\n",
       "      <td>2015.000000</td>\n",
       "      <td>0.020000</td>\n",
       "      <td>0.020000</td>\n",
       "      <td>0.010000</td>\n",
       "      <td>0.010000</td>\n",
       "      <td>-1.000000</td>\n",
       "      <td>3.400000</td>\n",
       "      <td>0.100000</td>\n",
       "    </tr>\n",
       "    <tr>\n",
       "      <th>75%</th>\n",
       "      <td>2016.000000</td>\n",
       "      <td>0.120000</td>\n",
       "      <td>0.120000</td>\n",
       "      <td>0.040000</td>\n",
       "      <td>0.040000</td>\n",
       "      <td>71.000000</td>\n",
       "      <td>7.100000</td>\n",
       "      <td>0.350000</td>\n",
       "    </tr>\n",
       "    <tr>\n",
       "      <th>max</th>\n",
       "      <td>2016.000000</td>\n",
       "      <td>6.030000</td>\n",
       "      <td>6.310000</td>\n",
       "      <td>3.180000</td>\n",
       "      <td>2.380000</td>\n",
       "      <td>97.000000</td>\n",
       "      <td>9.300000</td>\n",
       "      <td>14.630000</td>\n",
       "    </tr>\n",
       "  </tbody>\n",
       "</table>\n",
       "</div>"
      ],
      "text/plain": [
       "       year_of_release     na_sales     eu_sales     jp_sales  other_sales  \\\n",
       "count      1689.000000  1689.000000  1689.000000  1689.000000  1689.000000   \n",
       "mean       2014.953227     0.168182     0.160261     0.055115     0.048324   \n",
       "std           0.799624     0.446134     0.466846     0.211513     0.141790   \n",
       "min        2014.000000     0.000000     0.000000     0.000000     0.000000   \n",
       "25%        2014.000000     0.000000     0.000000     0.000000     0.000000   \n",
       "50%        2015.000000     0.020000     0.020000     0.010000     0.010000   \n",
       "75%        2016.000000     0.120000     0.120000     0.040000     0.040000   \n",
       "max        2016.000000     6.030000     6.310000     3.180000     2.380000   \n",
       "\n",
       "       critic_score   user_score  total_sales  \n",
       "count   1689.000000  1689.000000  1689.000000  \n",
       "mean      30.162818     3.008111     0.431883  \n",
       "std       37.114050     3.978406     1.056109  \n",
       "min       -1.000000    -1.000000     0.010000  \n",
       "25%       -1.000000    -1.000000     0.030000  \n",
       "50%       -1.000000     3.400000     0.100000  \n",
       "75%       71.000000     7.100000     0.350000  \n",
       "max       97.000000     9.300000    14.630000  "
      ]
     },
     "execution_count": 36,
     "metadata": {},
     "output_type": "execute_result"
    }
   ],
   "source": [
    "df_new.describe()"
   ]
  },
  {
   "cell_type": "code",
   "execution_count": 37,
   "metadata": {},
   "outputs": [
    {
     "data": {
      "text/plain": [
       "(0.0, 2.0)"
      ]
     },
     "execution_count": 37,
     "metadata": {},
     "output_type": "execute_result"
    },
    {
     "data": {
      "image/png": "[encoded data removed]",
      "text/plain": [
       "<Figure size 1080x504 with 1 Axes>"
      ]
     },
     "metadata": {},
     "output_type": "display_data"
    }
   ],
   "source": [
    "df_new.boxplot('total_sales', by = 'platform', figsize = (15, 7)).set_ylim(0, 2)"
   ]
  },
  {
   "cell_type": "markdown",
   "metadata": {},
   "source": [
    "Вывод:\n",
    "* у платформ за актуальный период наблюдается большое количество выбросов;\n",
    "* медиана у всех вышедших платформ за последний актуальный период проходит по разному;\n",
    "* выделяются платформы по количеству проданных копий: `Wii`, `PS4`, `XOne` `X360`, `WiiU` и `PS3`."
   ]
  },
  {
   "cell_type": "markdown",
   "metadata": {},
   "source": [
    "### Влияние на продажи внутри одной популярной платформы отзывов пользователей и критиков."
   ]
  },
  {
   "cell_type": "code",
   "execution_count": 38,
   "metadata": {},
   "outputs": [],
   "source": [
    "#выделим в отдельную таблицу продажи по PS4\n",
    "df_ps4 = df_new.query('platform == \"PS4\" and user_score != -1 and critic_score != -1')"
   ]
  },
  {
   "cell_type": "code",
   "execution_count": 39,
   "metadata": {},
   "outputs": [
    {
     "data": {
      "image/png": "[encoded data removed]",
      "text/plain": [
       "<Figure size 540x540 with 9 Axes>"
      ]
     },
     "metadata": {},
     "output_type": "display_data"
    }
   ],
   "source": [
    "scaterplots_ps4 = sns.PairGrid(df_ps4[['critic_score', 'user_score', 'total_sales']])\n",
    "scaterplots_ps4.map(plt.scatter)\n",
    "plt.show()"
   ]
  },
  {
   "cell_type": "code",
   "execution_count": 40,
   "metadata": {},
   "outputs": [
    {
     "data": {
      "text/html": [
       "<div>\n",
       "<style scoped>\n",
       "    .dataframe tbody tr th:only-of-type {\n",
       "        vertical-align: middle;\n",
       "    }\n",
       "\n",
       "    .dataframe tbody tr th {\n",
       "        vertical-align: top;\n",
       "    }\n",
       "\n",
       "    .dataframe thead th {\n",
       "        text-align: right;\n",
       "    }\n",
       "</style>\n",
       "<table border=\"1\" class=\"dataframe\">\n",
       "  <thead>\n",
       "    <tr style=\"text-align: right;\">\n",
       "      <th></th>\n",
       "      <th>critic_score</th>\n",
       "      <th>user_score</th>\n",
       "      <th>total_sales</th>\n",
       "    </tr>\n",
       "  </thead>\n",
       "  <tbody>\n",
       "    <tr>\n",
       "      <th>critic_score</th>\n",
       "      <td>1.000</td>\n",
       "      <td>0.546</td>\n",
       "      <td>0.402</td>\n",
       "    </tr>\n",
       "    <tr>\n",
       "      <th>user_score</th>\n",
       "      <td>0.546</td>\n",
       "      <td>1.000</td>\n",
       "      <td>-0.043</td>\n",
       "    </tr>\n",
       "    <tr>\n",
       "      <th>total_sales</th>\n",
       "      <td>0.402</td>\n",
       "      <td>-0.043</td>\n",
       "      <td>1.000</td>\n",
       "    </tr>\n",
       "  </tbody>\n",
       "</table>\n",
       "</div>"
      ],
      "text/plain": [
       "              critic_score  user_score  total_sales\n",
       "critic_score         1.000       0.546        0.402\n",
       "user_score           0.546       1.000       -0.043\n",
       "total_sales          0.402      -0.043        1.000"
      ]
     },
     "execution_count": 40,
     "metadata": {},
     "output_type": "execute_result"
    }
   ],
   "source": [
    "correlation_ps4 = df_ps4[['critic_score', 'user_score', 'total_sales']].corr().round(3)\n",
    "correlation_ps4"
   ]
  },
  {
   "cell_type": "markdown",
   "metadata": {},
   "source": [
    "**Вывод:**\n",
    "* зависимости продаж `total_sale`s от отзывов критиков `critic_score` - корреляция есть слабая положительная. Но она очень слабая, чтобы считать её значимой;\n",
    "* зависимости продаж `total_sales` от отзывов пользователей `user_score` еще ниже, чем от отзывов критиков `critic_score`. Так же нельзя считать её значимой;\n",
    "\n",
    "Значимой зависимости продаж от отзывов критиков и пользователей не наблюдается. Хотя завсимость от отзывов критиков небольшая, но есть. Возможно это из-за того, что отношение к играм достаточно субъективый параметр. Как говорится: \"на вкус и цвет...\". \n",
    "Из этого можно сделать вывод, что на продажи влияют какие-то другие факторы."
   ]
  },
  {
   "cell_type": "markdown",
   "metadata": {},
   "source": [
    "**Посмотрим на зависимость по всем топ платформам:**"
   ]
  },
  {
   "cell_type": "code",
   "execution_count": 41,
   "metadata": {},
   "outputs": [
    {
     "data": {
      "image/png": "[encoded data removed]",
      "text/plain": [
       "<Figure size 540x540 with 9 Axes>"
      ]
     },
     "metadata": {},
     "output_type": "display_data"
    }
   ],
   "source": [
    "scaterplots_top_platforms = sns.PairGrid(df_new[['critic_score', 'user_score', 'total_sales']])\n",
    "scaterplots_top_platforms.map(plt.scatter)\n",
    "plt.show()"
   ]
  },
  {
   "cell_type": "code",
   "execution_count": 42,
   "metadata": {},
   "outputs": [
    {
     "data": {
      "text/html": [
       "<div>\n",
       "<style scoped>\n",
       "    .dataframe tbody tr th:only-of-type {\n",
       "        vertical-align: middle;\n",
       "    }\n",
       "\n",
       "    .dataframe tbody tr th {\n",
       "        vertical-align: top;\n",
       "    }\n",
       "\n",
       "    .dataframe thead th {\n",
       "        text-align: right;\n",
       "    }\n",
       "</style>\n",
       "<table border=\"1\" class=\"dataframe\">\n",
       "  <thead>\n",
       "    <tr style=\"text-align: right;\">\n",
       "      <th></th>\n",
       "      <th>critic_score</th>\n",
       "      <th>user_score</th>\n",
       "      <th>total_sales</th>\n",
       "    </tr>\n",
       "  </thead>\n",
       "  <tbody>\n",
       "    <tr>\n",
       "      <th>critic_score</th>\n",
       "      <td>1.000</td>\n",
       "      <td>0.796</td>\n",
       "      <td>0.203</td>\n",
       "    </tr>\n",
       "    <tr>\n",
       "      <th>user_score</th>\n",
       "      <td>0.796</td>\n",
       "      <td>1.000</td>\n",
       "      <td>0.148</td>\n",
       "    </tr>\n",
       "    <tr>\n",
       "      <th>total_sales</th>\n",
       "      <td>0.203</td>\n",
       "      <td>0.148</td>\n",
       "      <td>1.000</td>\n",
       "    </tr>\n",
       "  </tbody>\n",
       "</table>\n",
       "</div>"
      ],
      "text/plain": [
       "              critic_score  user_score  total_sales\n",
       "critic_score         1.000       0.796        0.203\n",
       "user_score           0.796       1.000        0.148\n",
       "total_sales          0.203       0.148        1.000"
      ]
     },
     "execution_count": 42,
     "metadata": {},
     "output_type": "execute_result"
    }
   ],
   "source": [
    "correlation_top_platforms = df_new[['critic_score', 'user_score', 'total_sales']].corr().round(3)\n",
    "correlation_top_platforms"
   ]
  },
  {
   "cell_type": "markdown",
   "metadata": {},
   "source": [
    "Картина не поменялась, корреляция еще ниже."
   ]
  },
  {
   "cell_type": "markdown",
   "metadata": {},
   "source": [
    "### Общее распределение игр по жанрам."
   ]
  },
  {
   "cell_type": "markdown",
   "metadata": {},
   "source": [
    "Посмотрим на распределение по абсолютным значениям:"
   ]
  },
  {
   "cell_type": "code",
   "execution_count": 43,
   "metadata": {},
   "outputs": [
    {
     "data": {
      "text/html": [
       "<div>\n",
       "<style scoped>\n",
       "    .dataframe tbody tr th:only-of-type {\n",
       "        vertical-align: middle;\n",
       "    }\n",
       "\n",
       "    .dataframe tbody tr th {\n",
       "        vertical-align: top;\n",
       "    }\n",
       "\n",
       "    .dataframe thead th {\n",
       "        text-align: right;\n",
       "    }\n",
       "</style>\n",
       "<table border=\"1\" class=\"dataframe\">\n",
       "  <thead>\n",
       "    <tr style=\"text-align: right;\">\n",
       "      <th></th>\n",
       "      <th>total_sales</th>\n",
       "    </tr>\n",
       "    <tr>\n",
       "      <th>genre</th>\n",
       "      <th></th>\n",
       "    </tr>\n",
       "  </thead>\n",
       "  <tbody>\n",
       "    <tr>\n",
       "      <th>Action</th>\n",
       "      <td>199.36</td>\n",
       "    </tr>\n",
       "    <tr>\n",
       "      <th>Shooter</th>\n",
       "      <td>170.94</td>\n",
       "    </tr>\n",
       "    <tr>\n",
       "      <th>Sports</th>\n",
       "      <td>109.48</td>\n",
       "    </tr>\n",
       "    <tr>\n",
       "      <th>Role-Playing</th>\n",
       "      <td>101.44</td>\n",
       "    </tr>\n",
       "    <tr>\n",
       "      <th>Misc</th>\n",
       "      <td>37.55</td>\n",
       "    </tr>\n",
       "    <tr>\n",
       "      <th>Fighting</th>\n",
       "      <td>28.22</td>\n",
       "    </tr>\n",
       "    <tr>\n",
       "      <th>Racing</th>\n",
       "      <td>27.52</td>\n",
       "    </tr>\n",
       "    <tr>\n",
       "      <th>Platform</th>\n",
       "      <td>18.09</td>\n",
       "    </tr>\n",
       "    <tr>\n",
       "      <th>Adventure</th>\n",
       "      <td>17.55</td>\n",
       "    </tr>\n",
       "    <tr>\n",
       "      <th>Simulation</th>\n",
       "      <td>13.13</td>\n",
       "    </tr>\n",
       "    <tr>\n",
       "      <th>Strategy</th>\n",
       "      <td>3.96</td>\n",
       "    </tr>\n",
       "    <tr>\n",
       "      <th>Puzzle</th>\n",
       "      <td>2.21</td>\n",
       "    </tr>\n",
       "  </tbody>\n",
       "</table>\n",
       "</div>"
      ],
      "text/plain": [
       "              total_sales\n",
       "genre                    \n",
       "Action             199.36\n",
       "Shooter            170.94\n",
       "Sports             109.48\n",
       "Role-Playing       101.44\n",
       "Misc                37.55\n",
       "Fighting            28.22\n",
       "Racing              27.52\n",
       "Platform            18.09\n",
       "Adventure           17.55\n",
       "Simulation          13.13\n",
       "Strategy             3.96\n",
       "Puzzle               2.21"
      ]
     },
     "execution_count": 43,
     "metadata": {},
     "output_type": "execute_result"
    }
   ],
   "source": [
    "df_new.pivot_table(index='genre', values='total_sales', aggfunc='sum').sort_values(by='total_sales', ascending=False)"
   ]
  },
  {
   "cell_type": "markdown",
   "metadata": {},
   "source": [
    "Посмотрим на распределение по средним значениям:"
   ]
  },
  {
   "cell_type": "code",
   "execution_count": 44,
   "metadata": {},
   "outputs": [
    {
     "data": {
      "text/html": [
       "<div>\n",
       "<style scoped>\n",
       "    .dataframe tbody tr th:only-of-type {\n",
       "        vertical-align: middle;\n",
       "    }\n",
       "\n",
       "    .dataframe tbody tr th {\n",
       "        vertical-align: top;\n",
       "    }\n",
       "\n",
       "    .dataframe thead th {\n",
       "        text-align: right;\n",
       "    }\n",
       "</style>\n",
       "<table border=\"1\" class=\"dataframe\">\n",
       "  <thead>\n",
       "    <tr style=\"text-align: right;\">\n",
       "      <th></th>\n",
       "      <th>total_sales</th>\n",
       "    </tr>\n",
       "    <tr>\n",
       "      <th>genre</th>\n",
       "      <th></th>\n",
       "    </tr>\n",
       "  </thead>\n",
       "  <tbody>\n",
       "    <tr>\n",
       "      <th>Shooter</th>\n",
       "      <td>1.335469</td>\n",
       "    </tr>\n",
       "    <tr>\n",
       "      <th>Sports</th>\n",
       "      <td>0.680000</td>\n",
       "    </tr>\n",
       "    <tr>\n",
       "      <th>Platform</th>\n",
       "      <td>0.476053</td>\n",
       "    </tr>\n",
       "    <tr>\n",
       "      <th>Fighting</th>\n",
       "      <td>0.470333</td>\n",
       "    </tr>\n",
       "    <tr>\n",
       "      <th>Role-Playing</th>\n",
       "      <td>0.459005</td>\n",
       "    </tr>\n",
       "    <tr>\n",
       "      <th>Racing</th>\n",
       "      <td>0.398841</td>\n",
       "    </tr>\n",
       "    <tr>\n",
       "      <th>Misc</th>\n",
       "      <td>0.332301</td>\n",
       "    </tr>\n",
       "    <tr>\n",
       "      <th>Action</th>\n",
       "      <td>0.322068</td>\n",
       "    </tr>\n",
       "    <tr>\n",
       "      <th>Simulation</th>\n",
       "      <td>0.298409</td>\n",
       "    </tr>\n",
       "    <tr>\n",
       "      <th>Puzzle</th>\n",
       "      <td>0.157857</td>\n",
       "    </tr>\n",
       "    <tr>\n",
       "      <th>Strategy</th>\n",
       "      <td>0.107027</td>\n",
       "    </tr>\n",
       "    <tr>\n",
       "      <th>Adventure</th>\n",
       "      <td>0.094865</td>\n",
       "    </tr>\n",
       "  </tbody>\n",
       "</table>\n",
       "</div>"
      ],
      "text/plain": [
       "              total_sales\n",
       "genre                    \n",
       "Shooter          1.335469\n",
       "Sports           0.680000\n",
       "Platform         0.476053\n",
       "Fighting         0.470333\n",
       "Role-Playing     0.459005\n",
       "Racing           0.398841\n",
       "Misc             0.332301\n",
       "Action           0.322068\n",
       "Simulation       0.298409\n",
       "Puzzle           0.157857\n",
       "Strategy         0.107027\n",
       "Adventure        0.094865"
      ]
     },
     "execution_count": 44,
     "metadata": {},
     "output_type": "execute_result"
    }
   ],
   "source": [
    "df_new.pivot_table(index='genre', values='total_sales', aggfunc='mean').sort_values(by='total_sales', ascending=False)"
   ]
  },
  {
   "cell_type": "code",
   "execution_count": 45,
   "metadata": {},
   "outputs": [
    {
     "data": {
      "image/png": "[encoded data removed]",
      "text/plain": [
       "<Figure size 864x432 with 1 Axes>"
      ]
     },
     "metadata": {},
     "output_type": "display_data"
    }
   ],
   "source": [
    "fig = plt.subplots(figsize=(12,6))\n",
    "plt.title(\"Глобальные продажи игр по жанрам\")\n",
    "plot = sns.boxplot( x= \"genre\", y = \"total_sales\", data = df_new, palette='rainbow', showfliers=False)\n",
    "plt.xlabel('название жанра')\n",
    "plt.ylabel('суммарные продажи (миллионы копий)')\n",
    "plt.xticks(rotation=45)\n",
    "plt.show()"
   ]
  },
  {
   "cell_type": "markdown",
   "metadata": {},
   "source": [
    "* наиболее востребованные жанры игр в абсолютных значениях: `Action`, `Shooter`, `Sports`и `Role-Playing`;\n",
    "* наименее востребованные жанры игр в абсолютных значениях: `Simulation`, `Strategy` и `Puzzle`;\n",
    "* наиболее востребованные жанры игр в средних значениях: `Shooter`, `Sports`, `Platform`, `Fighting` и `Role-Playing`;\n",
    "* наименее востребованные жанры игр в средних значениях: `Puzzle`, `Strategy`,  и `Adventure`.\n",
    "\n",
    "Картина о лидерах жанров кардильно меняется при выборе подхода к значениям. Это подтверждает `\"ящик с усами\"`. Если в абсолютных значениях лидеры одни, то при взгляде на среднюю величину лидерами являются другие жанры."
   ]
  },
  {
   "cell_type": "markdown",
   "metadata": {},
   "source": [
    "**Вывод:**\n",
    "* Провели исследовательский анализ данных, выделили срез данных за 2006-2016 годы на основании `\"срока жизни\"` платформ;\n",
    "* нашли 10 платформ-лидеров по продажам;\n",
    "* в промежутке исследуемых 10-лет пик прибыли у большинства платформ приходится на 2008-2011 годы. Позднее выручка становится все меньше и меньше. Назвать потенциально прибыльной можно только платформу `PS4`;\n",
    "* на примере `PS4` рассмотрели корреляцию оценкb критиков и оценки пользователя на продажи. Сделали вывод о незначительной степени влияния отзывов. Однако отзывы критиков в большей степени влияют на продажи, чем отзывы пользователей;\n",
    "* самыми востребованными в абсолютных значениях оказались жанры `Action`, `Sports` и `Shooter`;\n",
    "* самыми востребованными жанрами в средних значениях: `Shooter`, `Platform` и `Racing`;\n",
    "* наименее востребованные жанры игр: `Puzzle`, `Strategy`,  и `Adventure`, независимо от подхода к значениям."
   ]
  },
  {
   "cell_type": "markdown",
   "metadata": {},
   "source": [
    "## Портрет пользователя каждого региона"
   ]
  },
  {
   "cell_type": "markdown",
   "metadata": {},
   "source": [
    "Определим для пользователя каждого региона (NA, EU, JP):\n",
    "* Самые популярные платформы (топ-5). Опишем различия в долях продаж.\n",
    "* Самые популярные жанры (топ-5). Поясним разницу.\n",
    "* Влияет ли рейтинг ESRB на продажи в отдельном регионе?"
   ]
  },
  {
   "cell_type": "markdown",
   "metadata": {},
   "source": [
    "### Топ 5 платформ в Северной Америке"
   ]
  },
  {
   "cell_type": "code",
   "execution_count": 74,
   "metadata": {},
   "outputs": [
    {
     "data": {
      "text/html": [
       "<div>\n",
       "<style scoped>\n",
       "    .dataframe tbody tr th:only-of-type {\n",
       "        vertical-align: middle;\n",
       "    }\n",
       "\n",
       "    .dataframe tbody tr th {\n",
       "        vertical-align: top;\n",
       "    }\n",
       "\n",
       "    .dataframe thead th {\n",
       "        text-align: right;\n",
       "    }\n",
       "</style>\n",
       "<table border=\"1\" class=\"dataframe\">\n",
       "  <thead>\n",
       "    <tr style=\"text-align: right;\">\n",
       "      <th></th>\n",
       "      <th>platform</th>\n",
       "      <th>na_sales</th>\n",
       "    </tr>\n",
       "  </thead>\n",
       "  <tbody>\n",
       "    <tr>\n",
       "      <th>0</th>\n",
       "      <td>PS4</td>\n",
       "      <td>98.61</td>\n",
       "    </tr>\n",
       "    <tr>\n",
       "      <th>1</th>\n",
       "      <td>XOne</td>\n",
       "      <td>81.27</td>\n",
       "    </tr>\n",
       "    <tr>\n",
       "      <th>2</th>\n",
       "      <td>X360</td>\n",
       "      <td>28.30</td>\n",
       "    </tr>\n",
       "    <tr>\n",
       "      <th>3</th>\n",
       "      <td>3DS</td>\n",
       "      <td>22.64</td>\n",
       "    </tr>\n",
       "    <tr>\n",
       "      <th>4</th>\n",
       "      <td>PS3</td>\n",
       "      <td>22.05</td>\n",
       "    </tr>\n",
       "  </tbody>\n",
       "</table>\n",
       "</div>"
      ],
      "text/plain": [
       "  platform  na_sales\n",
       "0      PS4     98.61\n",
       "1     XOne     81.27\n",
       "2     X360     28.30\n",
       "3      3DS     22.64\n",
       "4      PS3     22.05"
      ]
     },
     "execution_count": 74,
     "metadata": {},
     "output_type": "execute_result"
    }
   ],
   "source": [
    "top_5_NA = (df_new\n",
    "            .pivot_table(index='platform', values='na_sales', aggfunc='sum')\n",
    "            .sort_values(by='na_sales', ascending=False)\n",
    "            .reset_index()\n",
    "                   )\n",
    "#top_5_NA['na_ratio'] = round(top_5_NA['na_sales'] / sum(top_5_NA['na_sales']), 3) # добавление столбца с долей продаж\n",
    "top_5_NA = top_5_NA.head()\n",
    "top_5_NA"
   ]
  },
  {
   "cell_type": "code",
   "execution_count": 47,
   "metadata": {},
   "outputs": [
    {
     "data": {
      "image/png": "[encoded data removed]",
      "text/plain": [
       "<Figure size 1080x360 with 1 Axes>"
      ]
     },
     "metadata": {},
     "output_type": "display_data"
    }
   ],
   "source": [
    "plt.figure(figsize = (15,5))\n",
    "sns.barplot(x = top_5_NA['platform'],\n",
    "            y = top_5_NA['na_sales'])\n",
    "sns.set_style('darkgrid')\n",
    "plt.title('top_5_NA')\n",
    "plt.xlabel('platform')\n",
    "plt.ylabel('na_sales')\n",
    "plt.show()"
   ]
  },
  {
   "cell_type": "code",
   "execution_count": 76,
   "metadata": {
    "scrolled": true
   },
   "outputs": [
    {
     "data": {
      "image/png": "[encoded data removed]",
      "text/plain": [
       "<Figure size 432x288 with 1 Axes>"
      ]
     },
     "metadata": {},
     "output_type": "display_data"
    }
   ],
   "source": [
    "labels = top_5_NA['platform'].to_list() # процентное соотношение\n",
    "#sizes = top_5_NA['na_ratio']\n",
    "fig1, ax1 = plt.subplots()\n",
    "ax1.pie(sizes, labels = labels, shadow = True, autopct='%1.1f%%', startangle = 90, normalize=True)\n",
    "plt.show()"
   ]
  },
  {
   "cell_type": "markdown",
   "metadata": {},
   "source": [
    "### Топ 5 платформ в Европе"
   ]
  },
  {
   "cell_type": "code",
   "execution_count": 77,
   "metadata": {},
   "outputs": [
    {
     "data": {
      "text/html": [
       "<div>\n",
       "<style scoped>\n",
       "    .dataframe tbody tr th:only-of-type {\n",
       "        vertical-align: middle;\n",
       "    }\n",
       "\n",
       "    .dataframe tbody tr th {\n",
       "        vertical-align: top;\n",
       "    }\n",
       "\n",
       "    .dataframe thead th {\n",
       "        text-align: right;\n",
       "    }\n",
       "</style>\n",
       "<table border=\"1\" class=\"dataframe\">\n",
       "  <thead>\n",
       "    <tr style=\"text-align: right;\">\n",
       "      <th></th>\n",
       "      <th>platform</th>\n",
       "      <th>eu_sales</th>\n",
       "    </tr>\n",
       "  </thead>\n",
       "  <tbody>\n",
       "    <tr>\n",
       "      <th>0</th>\n",
       "      <td>PS4</td>\n",
       "      <td>130.04</td>\n",
       "    </tr>\n",
       "    <tr>\n",
       "      <th>1</th>\n",
       "      <td>XOne</td>\n",
       "      <td>46.25</td>\n",
       "    </tr>\n",
       "    <tr>\n",
       "      <th>2</th>\n",
       "      <td>PS3</td>\n",
       "      <td>25.54</td>\n",
       "    </tr>\n",
       "    <tr>\n",
       "      <th>3</th>\n",
       "      <td>PC</td>\n",
       "      <td>17.97</td>\n",
       "    </tr>\n",
       "    <tr>\n",
       "      <th>4</th>\n",
       "      <td>3DS</td>\n",
       "      <td>16.12</td>\n",
       "    </tr>\n",
       "  </tbody>\n",
       "</table>\n",
       "</div>"
      ],
      "text/plain": [
       "  platform  eu_sales\n",
       "0      PS4    130.04\n",
       "1     XOne     46.25\n",
       "2      PS3     25.54\n",
       "3       PC     17.97\n",
       "4      3DS     16.12"
      ]
     },
     "execution_count": 77,
     "metadata": {},
     "output_type": "execute_result"
    }
   ],
   "source": [
    "top_5_EU = (df_new\n",
    "            .pivot_table(index='platform', values='eu_sales', aggfunc='sum')\n",
    "            .sort_values(by='eu_sales', ascending=False)\n",
    "            .reset_index()\n",
    "                   )\n",
    "#top_5_EU['eu_ratio'] = round(top_5_EU['eu_sales'] / sum(top_5_EU['eu_sales']), 3) # добавление столбца с долей продаж\n",
    "top_5_EU = top_5_EU.head()\n",
    "top_5_EU"
   ]
  },
  {
   "cell_type": "code",
   "execution_count": 50,
   "metadata": {},
   "outputs": [
    {
     "data": {
      "image/png": "[encoded data removed]",
      "text/plain": [
       "<Figure size 1080x360 with 1 Axes>"
      ]
     },
     "metadata": {},
     "output_type": "display_data"
    }
   ],
   "source": [
    "plt.figure(figsize = (15,5))\n",
    "sns.barplot(x = top_5_EU['platform'],\n",
    "            y = top_5_EU['eu_sales'])\n",
    "sns.set_style('darkgrid')\n",
    "plt.title('top_5_EU')\n",
    "plt.xlabel('platform')\n",
    "plt.ylabel('eu_sales')\n",
    "plt.show()"
   ]
  },
  {
   "cell_type": "code",
   "execution_count": 84,
   "metadata": {
    "scrolled": true
   },
   "outputs": [
    {
     "data": {
      "image/png": "[encoded data removed]",
      "text/plain": [
       "<Figure size 432x288 with 1 Axes>"
      ]
     },
     "metadata": {},
     "output_type": "display_data"
    }
   ],
   "source": [
    "labels = top_5_EU['platform'].to_list()\n",
    "#sizes = top_5_EU['eu_ratio']\n",
    "fig1, ax1 = plt.subplots()\n",
    "ax1.pie(sizes, labels = labels, shadow = True, autopct='%1.1f%%', startangle = 90, normalize=True)\n",
    "plt.show()"
   ]
  },
  {
   "cell_type": "markdown",
   "metadata": {},
   "source": [
    "### Топ 5 платформ в Японии"
   ]
  },
  {
   "cell_type": "code",
   "execution_count": 80,
   "metadata": {},
   "outputs": [
    {
     "data": {
      "text/html": [
       "<div>\n",
       "<style scoped>\n",
       "    .dataframe tbody tr th:only-of-type {\n",
       "        vertical-align: middle;\n",
       "    }\n",
       "\n",
       "    .dataframe tbody tr th {\n",
       "        vertical-align: top;\n",
       "    }\n",
       "\n",
       "    .dataframe thead th {\n",
       "        text-align: right;\n",
       "    }\n",
       "</style>\n",
       "<table border=\"1\" class=\"dataframe\">\n",
       "  <thead>\n",
       "    <tr style=\"text-align: right;\">\n",
       "      <th></th>\n",
       "      <th>platform</th>\n",
       "      <th>jp_sales</th>\n",
       "    </tr>\n",
       "  </thead>\n",
       "  <tbody>\n",
       "    <tr>\n",
       "      <th>0</th>\n",
       "      <td>3DS</td>\n",
       "      <td>44.24</td>\n",
       "    </tr>\n",
       "    <tr>\n",
       "      <th>1</th>\n",
       "      <td>PS4</td>\n",
       "      <td>15.02</td>\n",
       "    </tr>\n",
       "    <tr>\n",
       "      <th>2</th>\n",
       "      <td>PSV</td>\n",
       "      <td>14.54</td>\n",
       "    </tr>\n",
       "    <tr>\n",
       "      <th>3</th>\n",
       "      <td>PS3</td>\n",
       "      <td>11.22</td>\n",
       "    </tr>\n",
       "    <tr>\n",
       "      <th>4</th>\n",
       "      <td>WiiU</td>\n",
       "      <td>7.31</td>\n",
       "    </tr>\n",
       "  </tbody>\n",
       "</table>\n",
       "</div>"
      ],
      "text/plain": [
       "  platform  jp_sales\n",
       "0      3DS     44.24\n",
       "1      PS4     15.02\n",
       "2      PSV     14.54\n",
       "3      PS3     11.22\n",
       "4     WiiU      7.31"
      ]
     },
     "execution_count": 80,
     "metadata": {},
     "output_type": "execute_result"
    }
   ],
   "source": [
    "top_5_JP = (df_new\n",
    "            .pivot_table(index='platform', values='jp_sales', aggfunc='sum')\n",
    "            .sort_values(by='jp_sales', ascending=False)\n",
    "            .reset_index()\n",
    "                   )\n",
    "#top_5_JP['jp_ratio'] = round(top_5_JP['jp_sales'] / sum(top_5_JP['jp_sales']), 3) # добавление столбца с долей продаж\n",
    "top_5_JP = top_5_JP.head()\n",
    "top_5_JP"
   ]
  },
  {
   "cell_type": "code",
   "execution_count": 54,
   "metadata": {},
   "outputs": [
    {
     "data": {
      "image/png": "[encoded data removed]",
      "text/plain": [
       "<Figure size 1080x360 with 1 Axes>"
      ]
     },
     "metadata": {},
     "output_type": "display_data"
    }
   ],
   "source": [
    "plt.figure(figsize = (15,5))\n",
    "sns.barplot(x = top_5_JP['platform'],\n",
    "            y = top_5_JP['jp_sales'])\n",
    "sns.set_style('darkgrid')\n",
    "plt.title('top_5_JP')\n",
    "plt.xlabel('platform')\n",
    "plt.ylabel('jp_sales')\n",
    "plt.show()"
   ]
  },
  {
   "cell_type": "code",
   "execution_count": 82,
   "metadata": {},
   "outputs": [
    {
     "data": {
      "image/png": "[encoded data removed]",
      "text/plain": [
       "<Figure size 432x288 with 1 Axes>"
      ]
     },
     "metadata": {},
     "output_type": "display_data"
    }
   ],
   "source": [
    "labels = top_5_JP['platform'].to_list()\n",
    "#sizes = top_5_JP['jp_ratio']\n",
    "fig1, ax1 = plt.subplots()\n",
    "ax1.pie(sizes, labels = labels, shadow = True, autopct='%1.1f%%', startangle = 90, normalize=True)\n",
    "plt.show()"
   ]
  },
  {
   "cell_type": "markdown",
   "metadata": {},
   "source": [
    "**Вывод:**\n",
    "* наиболее востребованные платформы в Северной Америке - `PS4`, `XOne`, `X360`, `3DS` и `PS3`;\n",
    "* наиболее востребованные платформы в Европе - `PS4`, `XOne`, `PS3`, `PC` и `3DS`;\n",
    "* наиболее востребованные платформы в Японии - `3DS`, `PS4`, `PSV`, `PS3` и `WiiU`.\n",
    "\n",
    "В разных регионах преобладают разные платформы. В Европе и Северной Америке список платформ похож. А вот в Японии кардинально отличается. Предположу, что тут играет роль менталитета. В Европе и Америке люди схожие по взглядам, культуре и т.д. Япония же отличается по всем параметрам."
   ]
  },
  {
   "cell_type": "markdown",
   "metadata": {},
   "source": [
    "### Топ 5 жанров игр в Северной Америке"
   ]
  },
  {
   "cell_type": "code",
   "execution_count": 85,
   "metadata": {},
   "outputs": [
    {
     "data": {
      "text/html": [
       "<div>\n",
       "<style scoped>\n",
       "    .dataframe tbody tr th:only-of-type {\n",
       "        vertical-align: middle;\n",
       "    }\n",
       "\n",
       "    .dataframe tbody tr th {\n",
       "        vertical-align: top;\n",
       "    }\n",
       "\n",
       "    .dataframe thead th {\n",
       "        text-align: right;\n",
       "    }\n",
       "</style>\n",
       "<table border=\"1\" class=\"dataframe\">\n",
       "  <thead>\n",
       "    <tr style=\"text-align: right;\">\n",
       "      <th></th>\n",
       "      <th>genre</th>\n",
       "      <th>na_sales</th>\n",
       "    </tr>\n",
       "  </thead>\n",
       "  <tbody>\n",
       "    <tr>\n",
       "      <th>0</th>\n",
       "      <td>Shooter</td>\n",
       "      <td>79.02</td>\n",
       "    </tr>\n",
       "    <tr>\n",
       "      <th>1</th>\n",
       "      <td>Action</td>\n",
       "      <td>72.53</td>\n",
       "    </tr>\n",
       "    <tr>\n",
       "      <th>2</th>\n",
       "      <td>Sports</td>\n",
       "      <td>46.13</td>\n",
       "    </tr>\n",
       "    <tr>\n",
       "      <th>3</th>\n",
       "      <td>Role-Playing</td>\n",
       "      <td>33.47</td>\n",
       "    </tr>\n",
       "    <tr>\n",
       "      <th>4</th>\n",
       "      <td>Misc</td>\n",
       "      <td>15.05</td>\n",
       "    </tr>\n",
       "  </tbody>\n",
       "</table>\n",
       "</div>"
      ],
      "text/plain": [
       "          genre  na_sales\n",
       "0       Shooter     79.02\n",
       "1        Action     72.53\n",
       "2        Sports     46.13\n",
       "3  Role-Playing     33.47\n",
       "4          Misc     15.05"
      ]
     },
     "execution_count": 85,
     "metadata": {},
     "output_type": "execute_result"
    }
   ],
   "source": [
    "top_5_genre_NA = (df_new\n",
    "            .pivot_table(index='genre', values='na_sales', aggfunc='sum')\n",
    "            .sort_values(by='na_sales', ascending=False)\n",
    "            .reset_index()\n",
    "                   )\n",
    "# добавление столбца с долей продаж\n",
    "#top_5_genre_NA['na_ratio'] = round(top_5_genre_NA['na_sales'] / sum(top_5_genre_NA['na_sales']), 3) \n",
    "top_5_genre_NA = top_5_genre_NA.head()\n",
    "top_5_genre_NA"
   ]
  },
  {
   "cell_type": "code",
   "execution_count": 57,
   "metadata": {},
   "outputs": [
    {
     "data": {
      "image/png": "[encoded data removed]",
      "text/plain": [
       "<Figure size 1080x360 with 1 Axes>"
      ]
     },
     "metadata": {},
     "output_type": "display_data"
    }
   ],
   "source": [
    "plt.figure(figsize = (15,5))\n",
    "sns.barplot(x = top_5_genre_NA['genre'],\n",
    "            y = top_5_genre_NA['na_sales'])\n",
    "sns.set_style('darkgrid')\n",
    "plt.title('top_5_genre_NA')\n",
    "plt.xlabel('genre')\n",
    "plt.ylabel('na_sales')\n",
    "plt.show()"
   ]
  },
  {
   "cell_type": "code",
   "execution_count": 87,
   "metadata": {},
   "outputs": [
    {
     "data": {
      "image/png": "[encoded data removed]",
      "text/plain": [
       "<Figure size 432x288 with 1 Axes>"
      ]
     },
     "metadata": {},
     "output_type": "display_data"
    }
   ],
   "source": [
    "labels = top_5_genre_NA['genre'].to_list()\n",
    "#sizes = top_5_genre_NA['na_ratio']\n",
    "fig1, ax1 = plt.subplots()\n",
    "ax1.pie(sizes, labels = labels, shadow = True, autopct='%1.1f%%', startangle = 90, normalize=True)\n",
    "plt.show()"
   ]
  },
  {
   "cell_type": "markdown",
   "metadata": {},
   "source": [
    "### Топ 5 жанров игр в Европе"
   ]
  },
  {
   "cell_type": "code",
   "execution_count": 88,
   "metadata": {},
   "outputs": [
    {
     "data": {
      "text/html": [
       "<div>\n",
       "<style scoped>\n",
       "    .dataframe tbody tr th:only-of-type {\n",
       "        vertical-align: middle;\n",
       "    }\n",
       "\n",
       "    .dataframe tbody tr th {\n",
       "        vertical-align: top;\n",
       "    }\n",
       "\n",
       "    .dataframe thead th {\n",
       "        text-align: right;\n",
       "    }\n",
       "</style>\n",
       "<table border=\"1\" class=\"dataframe\">\n",
       "  <thead>\n",
       "    <tr style=\"text-align: right;\">\n",
       "      <th></th>\n",
       "      <th>genre</th>\n",
       "      <th>eu_sales</th>\n",
       "    </tr>\n",
       "  </thead>\n",
       "  <tbody>\n",
       "    <tr>\n",
       "      <th>0</th>\n",
       "      <td>Action</td>\n",
       "      <td>74.68</td>\n",
       "    </tr>\n",
       "    <tr>\n",
       "      <th>1</th>\n",
       "      <td>Shooter</td>\n",
       "      <td>65.52</td>\n",
       "    </tr>\n",
       "    <tr>\n",
       "      <th>2</th>\n",
       "      <td>Sports</td>\n",
       "      <td>45.73</td>\n",
       "    </tr>\n",
       "    <tr>\n",
       "      <th>3</th>\n",
       "      <td>Role-Playing</td>\n",
       "      <td>28.17</td>\n",
       "    </tr>\n",
       "    <tr>\n",
       "      <th>4</th>\n",
       "      <td>Racing</td>\n",
       "      <td>14.13</td>\n",
       "    </tr>\n",
       "  </tbody>\n",
       "</table>\n",
       "</div>"
      ],
      "text/plain": [
       "          genre  eu_sales\n",
       "0        Action     74.68\n",
       "1       Shooter     65.52\n",
       "2        Sports     45.73\n",
       "3  Role-Playing     28.17\n",
       "4        Racing     14.13"
      ]
     },
     "execution_count": 88,
     "metadata": {},
     "output_type": "execute_result"
    }
   ],
   "source": [
    "top_5_genre_EU = (df_new\n",
    "            .pivot_table(index='genre', values='eu_sales', aggfunc='sum')\n",
    "            .sort_values(by='eu_sales', ascending=False)\n",
    "            .reset_index()\n",
    "                   )\n",
    "# добавление столбца с долей продаж\n",
    "#top_5_genre_EU['eu_ratio'] = round(top_5_genre_EU['eu_sales'] / sum(top_5_genre_EU['eu_sales']), 3) \n",
    "top_5_genre_EU = top_5_genre_EU.head()\n",
    "top_5_genre_EU"
   ]
  },
  {
   "cell_type": "code",
   "execution_count": 60,
   "metadata": {},
   "outputs": [
    {
     "data": {
      "image/png": "[encoded data removed]",
      "text/plain": [
       "<Figure size 1080x360 with 1 Axes>"
      ]
     },
     "metadata": {},
     "output_type": "display_data"
    }
   ],
   "source": [
    "plt.figure(figsize = (15,5))\n",
    "sns.barplot(x = top_5_genre_EU['genre'],\n",
    "            y = top_5_genre_EU['eu_sales'])\n",
    "sns.set_style('darkgrid')\n",
    "plt.title('top_5_genre_EU')\n",
    "plt.xlabel('genre')\n",
    "plt.ylabel('eu_sales')\n",
    "plt.show()"
   ]
  },
  {
   "cell_type": "code",
   "execution_count": 89,
   "metadata": {},
   "outputs": [
    {
     "data": {
      "image/png": "[encoded data removed]",
      "text/plain": [
       "<Figure size 432x288 with 1 Axes>"
      ]
     },
     "metadata": {},
     "output_type": "display_data"
    }
   ],
   "source": [
    "labels = top_5_genre_EU['genre'].to_list()\n",
    "#sizes = top_5_genre_EU['eu_ratio']\n",
    "fig1, ax1 = plt.subplots()\n",
    "ax1.pie(sizes, labels = labels, shadow = True, autopct='%1.1f%%', startangle = 90, normalize=True)\n",
    "plt.show()"
   ]
  },
  {
   "cell_type": "markdown",
   "metadata": {},
   "source": [
    "### Топ 5 жанров игр в Японии"
   ]
  },
  {
   "cell_type": "code",
   "execution_count": 90,
   "metadata": {},
   "outputs": [
    {
     "data": {
      "text/html": [
       "<div>\n",
       "<style scoped>\n",
       "    .dataframe tbody tr th:only-of-type {\n",
       "        vertical-align: middle;\n",
       "    }\n",
       "\n",
       "    .dataframe tbody tr th {\n",
       "        vertical-align: top;\n",
       "    }\n",
       "\n",
       "    .dataframe thead th {\n",
       "        text-align: right;\n",
       "    }\n",
       "</style>\n",
       "<table border=\"1\" class=\"dataframe\">\n",
       "  <thead>\n",
       "    <tr style=\"text-align: right;\">\n",
       "      <th></th>\n",
       "      <th>genre</th>\n",
       "      <th>jp_sales</th>\n",
       "    </tr>\n",
       "  </thead>\n",
       "  <tbody>\n",
       "    <tr>\n",
       "      <th>0</th>\n",
       "      <td>Role-Playing</td>\n",
       "      <td>31.16</td>\n",
       "    </tr>\n",
       "    <tr>\n",
       "      <th>1</th>\n",
       "      <td>Action</td>\n",
       "      <td>29.58</td>\n",
       "    </tr>\n",
       "    <tr>\n",
       "      <th>2</th>\n",
       "      <td>Fighting</td>\n",
       "      <td>6.37</td>\n",
       "    </tr>\n",
       "    <tr>\n",
       "      <th>3</th>\n",
       "      <td>Misc</td>\n",
       "      <td>5.61</td>\n",
       "    </tr>\n",
       "    <tr>\n",
       "      <th>4</th>\n",
       "      <td>Shooter</td>\n",
       "      <td>4.87</td>\n",
       "    </tr>\n",
       "  </tbody>\n",
       "</table>\n",
       "</div>"
      ],
      "text/plain": [
       "          genre  jp_sales\n",
       "0  Role-Playing     31.16\n",
       "1        Action     29.58\n",
       "2      Fighting      6.37\n",
       "3          Misc      5.61\n",
       "4       Shooter      4.87"
      ]
     },
     "execution_count": 90,
     "metadata": {},
     "output_type": "execute_result"
    }
   ],
   "source": [
    "top_5_genre_JP = (df_new\n",
    "            .pivot_table(index='genre', values='jp_sales', aggfunc='sum')\n",
    "            .sort_values(by='jp_sales', ascending=False)\n",
    "            .reset_index()\n",
    "                   )\n",
    "# добавление столбца с долей продаж\n",
    "#top_5_genre_JP['jp_ratio'] = round(top_5_genre_JP['jp_sales'] / sum(top_5_genre_JP['jp_sales']), 3) \n",
    "top_5_genre_JP = top_5_genre_JP.head()\n",
    "top_5_genre_JP"
   ]
  },
  {
   "cell_type": "code",
   "execution_count": 63,
   "metadata": {},
   "outputs": [
    {
     "data": {
      "image/png": "[encoded data removed]",
      "text/plain": [
       "<Figure size 1080x360 with 1 Axes>"
      ]
     },
     "metadata": {},
     "output_type": "display_data"
    }
   ],
   "source": [
    "plt.figure(figsize = (15,5))\n",
    "sns.barplot(x = top_5_genre_JP['genre'],\n",
    "            y = top_5_genre_JP['jp_sales'])\n",
    "sns.set_style('darkgrid')\n",
    "plt.title('top_5_genre_JP')\n",
    "plt.xlabel('genre')\n",
    "plt.ylabel('jp_sales')\n",
    "plt.show()"
   ]
  },
  {
   "cell_type": "code",
   "execution_count": 91,
   "metadata": {},
   "outputs": [
    {
     "data": {
      "image/png": "[encoded data removed]",
      "text/plain": [
       "<Figure size 432x288 with 1 Axes>"
      ]
     },
     "metadata": {},
     "output_type": "display_data"
    }
   ],
   "source": [
    "labels = top_5_genre_JP['genre'].to_list()\n",
    "#sizes = top_5_genre_JP['jp_ratio']\n",
    "fig1, ax1 = plt.subplots()\n",
    "ax1.pie(sizes, labels = labels, shadow = True, autopct='%1.1f%%', startangle = 90, normalize=True)\n",
    "plt.show()"
   ]
  },
  {
   "cell_type": "markdown",
   "metadata": {},
   "source": [
    "**Вывод:**\n",
    "* самые популярные жанры в Северной Америке - `Shooter`, `Action`, `Sports`, `Role-Playing` и `Misc`;\n",
    "* самые популярные жанры в Европе - `Action`, `Shooter`, `Sports`, `Role-Playing` и `Racing;\n",
    "* самые популярные жанры в Японии - `Role-Playing`, `Action`, `Fighting`, `Misc` и `Shooter`. Выделяется особо `Role-Playing`. Большинство таких игр было разработано в Японии и в первую очередь для внутреннего японского рынка\n",
    "\n",
    "Так же, как и в случае с платформами, нет особой разницы в предпочтениях пользователей жанров в Северной Америке и Европе. Причины всё те же: схожий менталитет. \n",
    "Япония же кардинально отличается в предпочтениях по жанрам. В целом игровой рынок Японии очень специфичен и простому обывателю из западных стран кажется совершенно не понятным."
   ]
  },
  {
   "cell_type": "markdown",
   "metadata": {},
   "source": [
    "### Влияние рейтинга ESRB на продажи в отдельном регионе"
   ]
  },
  {
   "cell_type": "code",
   "execution_count": 65,
   "metadata": {},
   "outputs": [],
   "source": [
    "#df_esrb = df.query('rating != -1') # выберем данные с установленным рейтингом ESRB\n",
    "df_esrb = df.copy()"
   ]
  },
  {
   "cell_type": "code",
   "execution_count": 66,
   "metadata": {},
   "outputs": [],
   "source": [
    "df_esrb = df_esrb.groupby('rating').agg({'na_sales':'sum', 'eu_sales':'sum', 'jp_sales':'sum'}).reset_index()"
   ]
  },
  {
   "cell_type": "code",
   "execution_count": 67,
   "metadata": {},
   "outputs": [],
   "source": [
    "df_esrb['%_na_sales'] = df_esrb['na_sales'] / df_esrb['na_sales'].sum() * 100\n",
    "df_esrb['%_eu_sales'] = df_esrb['eu_sales'] / df_esrb['eu_sales'].sum() * 100\n",
    "df_esrb['% _jp_sales'] = df_esrb['jp_sales'] / df_esrb['jp_sales'].sum() * 100"
   ]
  },
  {
   "cell_type": "code",
   "execution_count": 68,
   "metadata": {},
   "outputs": [
    {
     "data": {
      "text/html": [
       "<div>\n",
       "<style scoped>\n",
       "    .dataframe tbody tr th:only-of-type {\n",
       "        vertical-align: middle;\n",
       "    }\n",
       "\n",
       "    .dataframe tbody tr th {\n",
       "        vertical-align: top;\n",
       "    }\n",
       "\n",
       "    .dataframe thead th {\n",
       "        text-align: right;\n",
       "    }\n",
       "</style>\n",
       "<table border=\"1\" class=\"dataframe\">\n",
       "  <thead>\n",
       "    <tr style=\"text-align: right;\">\n",
       "      <th></th>\n",
       "      <th>rating</th>\n",
       "      <th>na_sales</th>\n",
       "      <th>%_na_sales</th>\n",
       "      <th>eu_sales</th>\n",
       "      <th>%_eu_sales</th>\n",
       "      <th>jp_sales</th>\n",
       "      <th>% _jp_sales</th>\n",
       "    </tr>\n",
       "  </thead>\n",
       "  <tbody>\n",
       "    <tr>\n",
       "      <th>0</th>\n",
       "      <td>E</td>\n",
       "      <td>1276.80</td>\n",
       "      <td>29.409732</td>\n",
       "      <td>704.14</td>\n",
       "      <td>29.343079</td>\n",
       "      <td>199.42</td>\n",
       "      <td>15.451249</td>\n",
       "    </tr>\n",
       "    <tr>\n",
       "      <th>1</th>\n",
       "      <td>Unknown</td>\n",
       "      <td>1225.84</td>\n",
       "      <td>28.235923</td>\n",
       "      <td>609.65</td>\n",
       "      <td>25.405471</td>\n",
       "      <td>836.74</td>\n",
       "      <td>64.831401</td>\n",
       "    </tr>\n",
       "    <tr>\n",
       "      <th>2</th>\n",
       "      <td>T</td>\n",
       "      <td>747.60</td>\n",
       "      <td>17.220172</td>\n",
       "      <td>421.79</td>\n",
       "      <td>17.576927</td>\n",
       "      <td>150.70</td>\n",
       "      <td>11.676378</td>\n",
       "    </tr>\n",
       "    <tr>\n",
       "      <th>3</th>\n",
       "      <td>M</td>\n",
       "      <td>742.89</td>\n",
       "      <td>17.111682</td>\n",
       "      <td>480.00</td>\n",
       "      <td>20.002667</td>\n",
       "      <td>63.58</td>\n",
       "      <td>4.926238</td>\n",
       "    </tr>\n",
       "    <tr>\n",
       "      <th>4</th>\n",
       "      <td>E10+</td>\n",
       "      <td>345.50</td>\n",
       "      <td>7.958226</td>\n",
       "      <td>183.35</td>\n",
       "      <td>7.640602</td>\n",
       "      <td>40.20</td>\n",
       "      <td>3.114734</td>\n",
       "    </tr>\n",
       "    <tr>\n",
       "      <th>5</th>\n",
       "      <td>EC</td>\n",
       "      <td>1.53</td>\n",
       "      <td>0.035242</td>\n",
       "      <td>0.11</td>\n",
       "      <td>0.004584</td>\n",
       "      <td>0.00</td>\n",
       "      <td>0.000000</td>\n",
       "    </tr>\n",
       "    <tr>\n",
       "      <th>6</th>\n",
       "      <td>AO</td>\n",
       "      <td>1.26</td>\n",
       "      <td>0.029023</td>\n",
       "      <td>0.61</td>\n",
       "      <td>0.025420</td>\n",
       "      <td>0.00</td>\n",
       "      <td>0.000000</td>\n",
       "    </tr>\n",
       "    <tr>\n",
       "      <th>7</th>\n",
       "      <td>RP</td>\n",
       "      <td>0.00</td>\n",
       "      <td>0.000000</td>\n",
       "      <td>0.03</td>\n",
       "      <td>0.001250</td>\n",
       "      <td>0.00</td>\n",
       "      <td>0.000000</td>\n",
       "    </tr>\n",
       "  </tbody>\n",
       "</table>\n",
       "</div>"
      ],
      "text/plain": [
       "    rating  na_sales  %_na_sales  eu_sales  %_eu_sales  jp_sales  % _jp_sales\n",
       "0        E   1276.80   29.409732    704.14   29.343079    199.42    15.451249\n",
       "1  Unknown   1225.84   28.235923    609.65   25.405471    836.74    64.831401\n",
       "2        T    747.60   17.220172    421.79   17.576927    150.70    11.676378\n",
       "3        M    742.89   17.111682    480.00   20.002667     63.58     4.926238\n",
       "4     E10+    345.50    7.958226    183.35    7.640602     40.20     3.114734\n",
       "5       EC      1.53    0.035242      0.11    0.004584      0.00     0.000000\n",
       "6       AO      1.26    0.029023      0.61    0.025420      0.00     0.000000\n",
       "7       RP      0.00    0.000000      0.03    0.001250      0.00     0.000000"
      ]
     },
     "execution_count": 68,
     "metadata": {},
     "output_type": "execute_result"
    }
   ],
   "source": [
    "df_esrb = df_esrb[['rating', 'na_sales', '%_na_sales', 'eu_sales', '%_eu_sales', 'jp_sales', '% _jp_sales']]\n",
    "df_esrb.sort_values(by = 'na_sales', ascending=False).reset_index(drop=True)"
   ]
  },
  {
   "cell_type": "markdown",
   "metadata": {},
   "source": [
    "По данным из таблицы видно, что во всех регионах наибольшимы продажами пользуются игры четырёх рейтингов:\n",
    "* первое место - `E`: «Для всех»: Содержание вполне подходит для возрастной категории от 6 лет;\n",
    "* третье место - `T`: «Подросткам»: Игра подходит для лиц от 13 лет;\n",
    "* четвёртое место - `M`: «Для взрослых»: Материалы игры не подходят для подростков младше 17 лет. Для Европы второе и третье место меняются местам;\n",
    "* пятое место - `E10+`: «Для всех от 10 лет и старше.\n",
    "\n",
    "    Особо выделяется значение `Unknown`. Занимает второе место. Т.е. продаётся большое количество игр, не имеющих рейтинга `ESRB`. Причем в Японии такие игры занимают почти 65% продаж. Т.е. японцы вообще не обращают внимание на рейтинг игр.\n",
    "    Такое большое количество игр без рейтинга, возможно из-за того, что игр выпускается слишком много и агентство просто не успевает вовремя сделать свою работу."
   ]
  },
  {
   "cell_type": "markdown",
   "metadata": {},
   "source": [
    "***ВЫВОД***\n",
    "\n",
    "Портреты пользователей при выборе платформ из Европы и Америки схожи. Лидируют платформы `PS4` и `Xbox`, жанры `Action`, `Shooter` и `Sports`.\n",
    "У пользователей из Японии свои предпочтения по платформам. У них больше развито чувство патриотизма: выбор падает на японские платформы. Лидирует консоль `3DS`, жанры `Role-Playing` и `Action`."
   ]
  },
  {
   "cell_type": "markdown",
   "metadata": {},
   "source": [
    "## Проверка гипотез"
   ]
  },
  {
   "cell_type": "markdown",
   "metadata": {},
   "source": [
    "### Средние пользовательские рейтинги платформ Xbox One и PC одинаковые"
   ]
  },
  {
   "cell_type": "markdown",
   "metadata": {},
   "source": [
    "**Гипотеза: Средние пользовательские рейтинги платформ Xbox One и PC одинаковые**\n",
    "\n",
    "* Нулевая гиротеза (H0): cредние пользовательские рейтинги платформ `Xbox One` и `PC` одинаковые\n",
    "* Альтернативная гипотеза (H1): cредние пользовательские рейтинги платформ `Xbox One` и `PC` различаются\n",
    "\n",
    "Выборки являются независимыми. Согласно центральной предельной теореме, выборочные средние распределены нормально вокруг истинного среднего генеральной совокупности. \n",
    "Выберем уровень значимости равным 5%. Будем использовать t-критерий Стьюдента, так как сравниваемые выборки независимы между собой."
   ]
  },
  {
   "cell_type": "code",
   "execution_count": 69,
   "metadata": {},
   "outputs": [
    {
     "name": "stdout",
     "output_type": "stream",
     "text": [
      "p-значение: 0.11601398086668827\n",
      "Не получилось отвергнуть нулевую гипотезу.\n"
     ]
    }
   ],
   "source": [
    "df_XOne = df_new[(df_new['platform'] == 'XOne') & (df_new['user_score'] > 0)]['user_score']\n",
    "df_PC = df_new[(df_new['platform'] == 'PC') & (df_new['user_score'] > 0)]['user_score']\n",
    "alpha = .05\n",
    "results = st.ttest_ind(df_XOne, df_PC, equal_var=False)\n",
    "print('p-значение:', results.pvalue)\n",
    "if results.pvalue < alpha:\n",
    "    print('Отвергаем нулевую гипотезу.')\n",
    "else:\n",
    "    print('Не получилось отвергнуть нулевую гипотезу.')"
   ]
  },
  {
   "cell_type": "markdown",
   "metadata": {},
   "source": [
    "**Нулевая гипотеза не отвергнута - это значит, что средние пользовательские рейтинги платформ Xbox One и PC равны**"
   ]
  },
  {
   "cell_type": "markdown",
   "metadata": {},
   "source": [
    "### Средние пользовательские рейтинги жанров Action  и Sports разные"
   ]
  },
  {
   "cell_type": "markdown",
   "metadata": {},
   "source": [
    "**Гипотеза: Средние пользовательские рейтинги жанров Action и Sports разные**\n",
    "\n",
    "* Нулевая гиротеза (H0): средние пользовательские рейтинги жанров `Action` и `Sports` одинаковые\n",
    "* Альтернативная гипотеза (H1): cредние пользовательские рейтинги платформ `Action` и `Sports` различаются\n",
    "\n",
    "Выборки являются независимыми. Согласно центральной предельной теореме, выборочные средние распределены нормально вокруг истинного среднего генеральной совокупности. \n",
    "Выберем уровень значимости равным 5%. Будем использовать t-критерий Стьюдента, так как сравниваемые выборки независимы между собой."
   ]
  },
  {
   "cell_type": "code",
   "execution_count": 70,
   "metadata": {},
   "outputs": [
    {
     "name": "stdout",
     "output_type": "stream",
     "text": [
      "p-значение: 1.1825550382644557e-14\n",
      "Отвергаем нулевую гипотезу.\n"
     ]
    }
   ],
   "source": [
    "df_action = df_new[(df_new['genre'] == 'Action') & (df_new['user_score'] > 0)]['user_score']\n",
    "df_sports = df_new[(df_new['genre'] == 'Sports') & (df_new['user_score'] > 0)]['user_score']\n",
    "alpha = .05\n",
    "results = st.ttest_ind(df_action, df_sports, equal_var=False)\n",
    "print('p-значение:', results.pvalue)\n",
    "if results.pvalue < alpha:\n",
    "    print('Отвергаем нулевую гипотезу.')\n",
    "else:\n",
    "    print('Не получилось отвергнуть нулевую гипотезу.')"
   ]
  },
  {
   "cell_type": "markdown",
   "metadata": {},
   "source": [
    "**Отвергаем нулевую гипотезу. Значит средние пользовательские рейтинги жанров Action и Sports различаются**"
   ]
  },
  {
   "cell_type": "markdown",
   "metadata": {},
   "source": [
    "## Общий вывод"
   ]
  },
  {
   "cell_type": "markdown",
   "metadata": {},
   "source": [
    "Проведено исследование рынка компьютерных игр. Для этого были изучены данные и проведена их подготовка. Были подсчитаны суммарные продажи во всех регионах. Проведены исследовательский и статистический анализы данных.\n",
    "\n",
    "По результатам выявлено:\n",
    "* в период с 1980 по 1994 годы, выходило очень мало игр;\n",
    "* с 1995 по 2000 наблюдается рост выпускаемых игр; \n",
    "* с 2000 года наблюдается экспоненциальный рост выпускаемых игр до 2009 года;\n",
    "* с 2010 года наблюдается спад вплоть до 2016 года (наиболее актуальный период);\n",
    "* срок жизни игровой платформы приблизительно 8-10 лет;\n",
    "* период появления новых платформ вытекает из предыдущего вывода - т.е. появляются через 8-10 лет;\n",
    "* больше всего новых платформ появилось в период 2004-2006;\n",
    "* пик продаж у большинства платформ приходится на период с 2008 по 2011 годы;\n",
    "* потенциально прибыльная платформа `PS4`;\n",
    "* зависимости продаж `total_sale` от отзывов критиков `critic_score` - корреляция есть слабая положительная. Но она очень слабая, чтобы считать её значимой;\n",
    "* зависимости продаж `total_sales` от отзывов пользователей `user_score` аналагично с `critic_score`;\n",
    "* наиболее востребованные жанры игр в абсолютных значениях: `Action`, `Shooter`, `Sports`и `Role-Playing`;\n",
    "* наименее востребованные жанры игр в абсолютных значениях: `Simulation`, `Strategy` и `Puzzle`;\n",
    "* наиболее востребованные жанры игр в средних значениях: `Shooter`, `Sports`, `Platform`, `Fighting` и `Role-Playing`;\n",
    "* наименее востребованные жанры игр в средних значениях: `Puzzle`, `Strategy`,  и `Adventure`.\n",
    "* средние пользовательские рейтинги платформ Xbox One и PC равны;\n",
    "* средние пользовательские рейтинги жанров Action и Sports различаются.\n",
    "\n",
    "В разных регионах преобладают разные платформы и жанры. В Европе и Северной Америке список платформ и жанров похож. А вот в Японии картина кардинально отличается. \n",
    "В этом проявляются культурные и ментальные различия представителей Запада и Востока.\n",
    "\n",
    "Портрет пользователя Северной Америки:\n",
    "* наиболее востребованные платформы в Северной Америке - `PS4`, `XOne`, `X360`, `3DS` и `PS3`;\n",
    "* самые популярные жанры в Северной Америке - `Shooter`, `Action`, `Sports`, `Role-Playing` и `Misc`.\n",
    "\n",
    "Портрет пользователя Европы:\n",
    "* наиболее востребованные платформы в Европе - `PS4`, `XOne`, `PS3`, `PC` и `3DS`;\n",
    "* самые популярные жанры в Европе - `Action`, `Shooter`, `Sports`, `Role-Playing` и `Racing.\n",
    "\n",
    "\n",
    "Портрет пользователя Японии:\n",
    "* наиболее востребованные платформы в Японии - `3DS`, `PS4`, `PSV`, `PS3` и `WiiU`.\n",
    "* самые популярные жанры в Японии - `Role-Playing`, `Action`, `Fighting`, `Misc` и `Shooter`.\n",
    "\n",
    "На данный момент мы видим падение рынка видео игр. Игры на телефонах вытесняют другие игровые платформы.\n",
    "Исходя из вышеизложенного, предлагаю:\n",
    "* сделать ставку на игры для `PS4`\n",
    "* продвигать игры жанров: action, shoters, sports с рейтингом `E`\n"
   ]
  }
 ],
 "metadata": {
  "ExecuteTimeLog": [
   {
    "duration": 1262,
    "start_time": "2022-05-02T18:54:20.560Z"
   },
   {
    "duration": 37,
    "start_time": "2022-05-02T18:54:21.824Z"
   },
   {
    "duration": 1608,
    "start_time": "2022-05-02T18:57:03.572Z"
   },
   {
    "duration": 52,
    "start_time": "2022-05-02T18:57:05.183Z"
   },
   {
    "duration": 33,
    "start_time": "2022-05-02T18:57:05.237Z"
   },
   {
    "duration": 27,
    "start_time": "2022-05-02T18:57:05.273Z"
   },
   {
    "duration": 22,
    "start_time": "2022-05-02T18:57:05.323Z"
   },
   {
    "duration": 8,
    "start_time": "2022-05-02T18:57:05.347Z"
   },
   {
    "duration": 8,
    "start_time": "2022-05-02T18:57:05.357Z"
   },
   {
    "duration": 5,
    "start_time": "2022-05-02T18:57:32.669Z"
   },
   {
    "duration": 1210,
    "start_time": "2022-05-02T19:01:27.904Z"
   },
   {
    "duration": 42,
    "start_time": "2022-05-02T19:01:29.117Z"
   },
   {
    "duration": 21,
    "start_time": "2022-05-02T19:01:29.160Z"
   },
   {
    "duration": 18,
    "start_time": "2022-05-02T19:01:29.183Z"
   },
   {
    "duration": 15,
    "start_time": "2022-05-02T19:01:29.223Z"
   },
   {
    "duration": 9,
    "start_time": "2022-05-02T19:01:29.240Z"
   },
   {
    "duration": 8,
    "start_time": "2022-05-02T19:01:29.250Z"
   },
   {
    "duration": 6,
    "start_time": "2022-05-02T19:01:29.259Z"
   },
   {
    "duration": 6,
    "start_time": "2022-05-02T19:01:29.266Z"
   },
   {
    "duration": 13,
    "start_time": "2022-05-02T19:01:29.274Z"
   },
   {
    "duration": 53,
    "start_time": "2022-05-02T19:01:29.289Z"
   },
   {
    "duration": 6,
    "start_time": "2022-05-02T19:01:29.343Z"
   },
   {
    "duration": 12,
    "start_time": "2022-05-02T19:01:29.351Z"
   },
   {
    "duration": 10,
    "start_time": "2022-05-02T19:01:29.365Z"
   },
   {
    "duration": 1118,
    "start_time": "2022-05-02T19:06:23.356Z"
   },
   {
    "duration": 34,
    "start_time": "2022-05-02T19:06:24.476Z"
   },
   {
    "duration": 26,
    "start_time": "2022-05-02T19:06:24.511Z"
   },
   {
    "duration": 17,
    "start_time": "2022-05-02T19:06:24.539Z"
   },
   {
    "duration": 21,
    "start_time": "2022-05-02T19:06:24.559Z"
   },
   {
    "duration": 5,
    "start_time": "2022-05-02T19:06:24.582Z"
   },
   {
    "duration": 21,
    "start_time": "2022-05-02T19:06:24.589Z"
   },
   {
    "duration": 5,
    "start_time": "2022-05-02T19:06:24.624Z"
   },
   {
    "duration": 9,
    "start_time": "2022-05-02T19:06:24.631Z"
   },
   {
    "duration": 20,
    "start_time": "2022-05-02T19:06:24.642Z"
   },
   {
    "duration": 20,
    "start_time": "2022-05-02T19:06:24.664Z"
   },
   {
    "duration": 10,
    "start_time": "2022-05-02T19:06:24.685Z"
   },
   {
    "duration": 36,
    "start_time": "2022-05-02T19:06:24.697Z"
   },
   {
    "duration": 12,
    "start_time": "2022-05-02T19:06:24.736Z"
   },
   {
    "duration": 23,
    "start_time": "2022-05-02T19:06:24.750Z"
   },
   {
    "duration": 3,
    "start_time": "2022-05-02T19:06:24.775Z"
   },
   {
    "duration": 27,
    "start_time": "2022-05-02T19:06:24.780Z"
   },
   {
    "duration": 17,
    "start_time": "2022-05-02T19:06:24.809Z"
   },
   {
    "duration": 17,
    "start_time": "2022-05-02T19:06:24.827Z"
   },
   {
    "duration": 1126,
    "start_time": "2022-05-02T19:08:31.471Z"
   },
   {
    "duration": 39,
    "start_time": "2022-05-02T19:08:32.599Z"
   },
   {
    "duration": 20,
    "start_time": "2022-05-02T19:08:32.642Z"
   },
   {
    "duration": 14,
    "start_time": "2022-05-02T19:08:32.663Z"
   },
   {
    "duration": 16,
    "start_time": "2022-05-02T19:08:32.679Z"
   },
   {
    "duration": 30,
    "start_time": "2022-05-02T19:08:32.696Z"
   },
   {
    "duration": 8,
    "start_time": "2022-05-02T19:08:32.727Z"
   },
   {
    "duration": 6,
    "start_time": "2022-05-02T19:08:32.737Z"
   },
   {
    "duration": 8,
    "start_time": "2022-05-02T19:08:32.746Z"
   },
   {
    "duration": 11,
    "start_time": "2022-05-02T19:08:32.755Z"
   },
   {
    "duration": 18,
    "start_time": "2022-05-02T19:08:32.768Z"
   },
   {
    "duration": 38,
    "start_time": "2022-05-02T19:08:32.787Z"
   },
   {
    "duration": 17,
    "start_time": "2022-05-02T19:08:32.827Z"
   },
   {
    "duration": 11,
    "start_time": "2022-05-02T19:08:32.846Z"
   },
   {
    "duration": 11,
    "start_time": "2022-05-02T19:08:32.859Z"
   },
   {
    "duration": 3,
    "start_time": "2022-05-02T19:08:32.871Z"
   },
   {
    "duration": 6,
    "start_time": "2022-05-02T19:08:32.876Z"
   },
   {
    "duration": 46,
    "start_time": "2022-05-02T19:08:32.883Z"
   },
   {
    "duration": 12,
    "start_time": "2022-05-02T19:08:32.931Z"
   },
   {
    "duration": 13,
    "start_time": "2022-05-02T19:08:32.945Z"
   },
   {
    "duration": 5,
    "start_time": "2022-05-02T19:08:32.960Z"
   },
   {
    "duration": 1236,
    "start_time": "2022-05-02T19:11:32.917Z"
   },
   {
    "duration": 37,
    "start_time": "2022-05-02T19:11:34.155Z"
   },
   {
    "duration": 31,
    "start_time": "2022-05-02T19:11:34.194Z"
   },
   {
    "duration": 18,
    "start_time": "2022-05-02T19:11:34.227Z"
   },
   {
    "duration": 15,
    "start_time": "2022-05-02T19:11:34.247Z"
   },
   {
    "duration": 6,
    "start_time": "2022-05-02T19:11:34.264Z"
   },
   {
    "duration": 8,
    "start_time": "2022-05-02T19:11:34.272Z"
   },
   {
    "duration": 5,
    "start_time": "2022-05-02T19:11:34.282Z"
   },
   {
    "duration": 7,
    "start_time": "2022-05-02T19:11:34.325Z"
   },
   {
    "duration": 12,
    "start_time": "2022-05-02T19:11:34.334Z"
   },
   {
    "duration": 24,
    "start_time": "2022-05-02T19:11:34.347Z"
   },
   {
    "duration": 8,
    "start_time": "2022-05-02T19:11:34.372Z"
   },
   {
    "duration": 50,
    "start_time": "2022-05-02T19:11:34.381Z"
   },
   {
    "duration": 14,
    "start_time": "2022-05-02T19:11:34.435Z"
   },
   {
    "duration": 9,
    "start_time": "2022-05-02T19:11:34.451Z"
   },
   {
    "duration": 3,
    "start_time": "2022-05-02T19:11:34.462Z"
   },
   {
    "duration": 20,
    "start_time": "2022-05-02T19:11:34.466Z"
   },
   {
    "duration": 12,
    "start_time": "2022-05-02T19:11:34.487Z"
   },
   {
    "duration": 30,
    "start_time": "2022-05-02T19:11:34.500Z"
   },
   {
    "duration": 17,
    "start_time": "2022-05-02T19:11:34.532Z"
   },
   {
    "duration": 8,
    "start_time": "2022-05-02T19:11:34.552Z"
   },
   {
    "duration": 9,
    "start_time": "2022-05-02T19:11:34.562Z"
   },
   {
    "duration": 15,
    "start_time": "2022-05-02T19:11:34.574Z"
   },
   {
    "duration": 42,
    "start_time": "2022-05-02T19:11:34.591Z"
   },
   {
    "duration": 13,
    "start_time": "2022-05-02T19:12:03.468Z"
   },
   {
    "duration": 5,
    "start_time": "2022-05-02T19:17:27.192Z"
   },
   {
    "duration": 14,
    "start_time": "2022-05-02T19:17:28.506Z"
   },
   {
    "duration": 160,
    "start_time": "2022-05-02T19:19:00.169Z"
   },
   {
    "duration": 93,
    "start_time": "2022-05-02T19:19:15.558Z"
   },
   {
    "duration": 12,
    "start_time": "2022-05-02T19:20:16.004Z"
   },
   {
    "duration": 167,
    "start_time": "2022-05-02T19:20:35.517Z"
   },
   {
    "duration": 180,
    "start_time": "2022-05-02T19:21:01.571Z"
   },
   {
    "duration": 4,
    "start_time": "2022-05-02T19:21:20.349Z"
   },
   {
    "duration": 119,
    "start_time": "2022-05-02T19:22:03.464Z"
   },
   {
    "duration": 272,
    "start_time": "2022-05-02T19:22:13.808Z"
   },
   {
    "duration": 9,
    "start_time": "2022-05-02T19:22:48.565Z"
   },
   {
    "duration": 30,
    "start_time": "2022-05-02T19:23:52.169Z"
   },
   {
    "duration": 268,
    "start_time": "2022-05-02T19:24:07.308Z"
   },
   {
    "duration": 8,
    "start_time": "2022-05-02T19:25:32.188Z"
   },
   {
    "duration": 1007,
    "start_time": "2022-05-02T19:25:40.589Z"
   },
   {
    "duration": 11,
    "start_time": "2022-05-02T19:25:55.818Z"
   },
   {
    "duration": 1101,
    "start_time": "2022-05-02T19:26:40.904Z"
   },
   {
    "duration": 18,
    "start_time": "2022-05-02T19:26:53.468Z"
   },
   {
    "duration": 17,
    "start_time": "2022-05-02T19:28:17.168Z"
   },
   {
    "duration": 14,
    "start_time": "2022-05-02T19:28:52.459Z"
   },
   {
    "duration": 283,
    "start_time": "2022-05-02T19:29:01.932Z"
   },
   {
    "duration": 283,
    "start_time": "2022-05-02T19:29:34.549Z"
   },
   {
    "duration": 119,
    "start_time": "2022-05-02T19:31:12.387Z"
   },
   {
    "duration": 16,
    "start_time": "2022-05-02T19:31:22.976Z"
   },
   {
    "duration": 222,
    "start_time": "2022-05-02T19:31:37.072Z"
   },
   {
    "duration": 83,
    "start_time": "2022-05-02T19:31:53.424Z"
   },
   {
    "duration": 87,
    "start_time": "2022-05-02T19:32:38.247Z"
   },
   {
    "duration": 109,
    "start_time": "2022-05-02T19:32:54.536Z"
   },
   {
    "duration": 18,
    "start_time": "2022-05-02T19:33:19.653Z"
   },
   {
    "duration": 132,
    "start_time": "2022-05-02T19:33:27.970Z"
   },
   {
    "duration": 86,
    "start_time": "2022-05-02T19:33:36.312Z"
   },
   {
    "duration": 18,
    "start_time": "2022-05-02T19:34:05.604Z"
   },
   {
    "duration": 152,
    "start_time": "2022-05-02T19:34:14.125Z"
   },
   {
    "duration": 98,
    "start_time": "2022-05-02T19:34:22.827Z"
   },
   {
    "duration": 17,
    "start_time": "2022-05-02T20:04:57.431Z"
   },
   {
    "duration": 149,
    "start_time": "2022-05-02T20:06:31.024Z"
   },
   {
    "duration": 90,
    "start_time": "2022-05-02T20:07:35.677Z"
   },
   {
    "duration": 17,
    "start_time": "2022-05-02T20:09:42.559Z"
   },
   {
    "duration": 136,
    "start_time": "2022-05-02T20:10:34.408Z"
   },
   {
    "duration": 86,
    "start_time": "2022-05-02T20:11:27.547Z"
   },
   {
    "duration": 17,
    "start_time": "2022-05-02T20:13:34.535Z"
   },
   {
    "duration": 134,
    "start_time": "2022-05-02T20:14:21.042Z"
   },
   {
    "duration": 90,
    "start_time": "2022-05-02T20:15:08.536Z"
   },
   {
    "duration": 1018,
    "start_time": "2022-05-02T20:37:45.166Z"
   },
   {
    "duration": 33,
    "start_time": "2022-05-02T20:37:46.187Z"
   },
   {
    "duration": 19,
    "start_time": "2022-05-02T20:37:46.223Z"
   },
   {
    "duration": 15,
    "start_time": "2022-05-02T20:37:46.244Z"
   },
   {
    "duration": 13,
    "start_time": "2022-05-02T20:37:46.262Z"
   },
   {
    "duration": 6,
    "start_time": "2022-05-02T20:37:46.276Z"
   },
   {
    "duration": 7,
    "start_time": "2022-05-02T20:37:46.283Z"
   },
   {
    "duration": 33,
    "start_time": "2022-05-02T20:37:46.292Z"
   },
   {
    "duration": 6,
    "start_time": "2022-05-02T20:37:46.326Z"
   },
   {
    "duration": 12,
    "start_time": "2022-05-02T20:37:46.334Z"
   },
   {
    "duration": 21,
    "start_time": "2022-05-02T20:37:46.347Z"
   },
   {
    "duration": 5,
    "start_time": "2022-05-02T20:37:46.370Z"
   },
   {
    "duration": 49,
    "start_time": "2022-05-02T20:37:46.376Z"
   },
   {
    "duration": 10,
    "start_time": "2022-05-02T20:37:46.428Z"
   },
   {
    "duration": 9,
    "start_time": "2022-05-02T20:37:46.440Z"
   },
   {
    "duration": 3,
    "start_time": "2022-05-02T20:37:46.451Z"
   },
   {
    "duration": 9,
    "start_time": "2022-05-02T20:37:46.455Z"
   },
   {
    "duration": 11,
    "start_time": "2022-05-02T20:37:46.465Z"
   },
   {
    "duration": 11,
    "start_time": "2022-05-02T20:37:46.477Z"
   },
   {
    "duration": 42,
    "start_time": "2022-05-02T20:37:46.489Z"
   },
   {
    "duration": 6,
    "start_time": "2022-05-02T20:37:46.532Z"
   },
   {
    "duration": 7,
    "start_time": "2022-05-02T20:37:46.540Z"
   },
   {
    "duration": 9,
    "start_time": "2022-05-02T20:37:46.549Z"
   },
   {
    "duration": 8,
    "start_time": "2022-05-02T20:37:46.559Z"
   },
   {
    "duration": 12,
    "start_time": "2022-05-02T20:37:46.568Z"
   },
   {
    "duration": 4,
    "start_time": "2022-05-02T20:37:46.581Z"
   },
   {
    "duration": 48,
    "start_time": "2022-05-02T20:37:46.587Z"
   },
   {
    "duration": 141,
    "start_time": "2022-05-02T20:37:46.636Z"
   },
   {
    "duration": 97,
    "start_time": "2022-05-02T20:37:46.779Z"
   },
   {
    "duration": 12,
    "start_time": "2022-05-02T20:37:46.877Z"
   },
   {
    "duration": 165,
    "start_time": "2022-05-02T20:37:46.890Z"
   },
   {
    "duration": 4,
    "start_time": "2022-05-02T20:37:47.056Z"
   },
   {
    "duration": 290,
    "start_time": "2022-05-02T20:37:47.062Z"
   },
   {
    "duration": 9,
    "start_time": "2022-05-02T20:37:47.354Z"
   },
   {
    "duration": 32,
    "start_time": "2022-05-02T20:37:47.364Z"
   },
   {
    "duration": 247,
    "start_time": "2022-05-02T20:37:47.397Z"
   },
   {
    "duration": 8,
    "start_time": "2022-05-02T20:37:47.645Z"
   },
   {
    "duration": 994,
    "start_time": "2022-05-02T20:37:47.654Z"
   },
   {
    "duration": 11,
    "start_time": "2022-05-02T20:37:48.650Z"
   },
   {
    "duration": 1150,
    "start_time": "2022-05-02T20:37:48.662Z"
   },
   {
    "duration": 17,
    "start_time": "2022-05-02T20:37:49.816Z"
   },
   {
    "duration": 14,
    "start_time": "2022-05-02T20:37:49.835Z"
   },
   {
    "duration": 13,
    "start_time": "2022-05-02T20:37:49.851Z"
   },
   {
    "duration": 296,
    "start_time": "2022-05-02T20:37:49.865Z"
   },
   {
    "duration": 17,
    "start_time": "2022-05-02T20:37:50.163Z"
   },
   {
    "duration": 162,
    "start_time": "2022-05-02T20:37:50.182Z"
   },
   {
    "duration": 100,
    "start_time": "2022-05-02T20:37:50.346Z"
   },
   {
    "duration": 18,
    "start_time": "2022-05-02T20:37:50.448Z"
   },
   {
    "duration": 162,
    "start_time": "2022-05-02T20:37:50.468Z"
   },
   {
    "duration": 174,
    "start_time": "2022-05-02T20:37:50.632Z"
   },
   {
    "duration": 28,
    "start_time": "2022-05-02T20:37:50.808Z"
   },
   {
    "duration": 158,
    "start_time": "2022-05-02T20:37:50.838Z"
   },
   {
    "duration": 102,
    "start_time": "2022-05-02T20:37:50.998Z"
   },
   {
    "duration": 22,
    "start_time": "2022-05-02T20:37:51.102Z"
   },
   {
    "duration": 159,
    "start_time": "2022-05-02T20:37:51.126Z"
   },
   {
    "duration": 110,
    "start_time": "2022-05-02T20:37:51.287Z"
   },
   {
    "duration": 27,
    "start_time": "2022-05-02T20:37:51.399Z"
   },
   {
    "duration": 156,
    "start_time": "2022-05-02T20:37:51.428Z"
   },
   {
    "duration": 105,
    "start_time": "2022-05-02T20:37:51.586Z"
   },
   {
    "duration": 17,
    "start_time": "2022-05-02T20:37:51.692Z"
   },
   {
    "duration": 138,
    "start_time": "2022-05-02T20:37:51.723Z"
   },
   {
    "duration": 99,
    "start_time": "2022-05-02T20:37:51.863Z"
   },
   {
    "duration": 117,
    "start_time": "2022-05-02T20:49:14.214Z"
   },
   {
    "duration": 9,
    "start_time": "2022-05-02T20:49:21.605Z"
   },
   {
    "duration": 12,
    "start_time": "2022-05-02T20:49:27.184Z"
   },
   {
    "duration": 9,
    "start_time": "2022-05-02T20:49:45.621Z"
   },
   {
    "duration": 8,
    "start_time": "2022-05-02T20:50:50.950Z"
   },
   {
    "duration": 7,
    "start_time": "2022-05-02T20:52:01.758Z"
   },
   {
    "duration": 10,
    "start_time": "2022-05-02T20:54:16.944Z"
   },
   {
    "duration": 11,
    "start_time": "2022-05-02T20:54:23.844Z"
   },
   {
    "duration": 10,
    "start_time": "2022-05-02T21:02:34.277Z"
   },
   {
    "duration": 8,
    "start_time": "2022-05-02T21:07:43.162Z"
   },
   {
    "duration": 13,
    "start_time": "2022-05-02T21:09:21.295Z"
   },
   {
    "duration": 9,
    "start_time": "2022-05-02T21:09:35.464Z"
   },
   {
    "duration": 31,
    "start_time": "2022-05-02T21:10:09.375Z"
   },
   {
    "duration": 6,
    "start_time": "2022-05-02T21:11:32.134Z"
   },
   {
    "duration": 1663,
    "start_time": "2022-05-02T21:13:50.163Z"
   },
   {
    "duration": 10,
    "start_time": "2022-05-02T21:16:05.172Z"
   },
   {
    "duration": 8,
    "start_time": "2022-05-02T21:17:40.031Z"
   },
   {
    "duration": 7,
    "start_time": "2022-05-02T21:18:05.017Z"
   },
   {
    "duration": 7,
    "start_time": "2022-05-02T21:19:02.386Z"
   },
   {
    "duration": 13,
    "start_time": "2022-05-02T21:20:01.844Z"
   },
   {
    "duration": 13,
    "start_time": "2022-05-02T21:20:30.476Z"
   },
   {
    "duration": 10,
    "start_time": "2022-05-02T21:21:07.922Z"
   },
   {
    "duration": 11,
    "start_time": "2022-05-02T21:22:56.358Z"
   },
   {
    "duration": 45,
    "start_time": "2022-05-03T18:51:38.877Z"
   },
   {
    "duration": 1277,
    "start_time": "2022-05-03T18:51:46.498Z"
   },
   {
    "duration": 37,
    "start_time": "2022-05-03T18:51:47.777Z"
   },
   {
    "duration": 23,
    "start_time": "2022-05-03T18:51:47.815Z"
   },
   {
    "duration": 16,
    "start_time": "2022-05-03T18:51:47.839Z"
   },
   {
    "duration": 16,
    "start_time": "2022-05-03T18:51:47.872Z"
   },
   {
    "duration": 5,
    "start_time": "2022-05-03T18:51:47.890Z"
   },
   {
    "duration": 8,
    "start_time": "2022-05-03T18:51:47.896Z"
   },
   {
    "duration": 6,
    "start_time": "2022-05-03T18:51:47.905Z"
   },
   {
    "duration": 11,
    "start_time": "2022-05-03T18:51:47.912Z"
   },
   {
    "duration": 12,
    "start_time": "2022-05-03T18:51:47.925Z"
   },
   {
    "duration": 53,
    "start_time": "2022-05-03T18:51:47.938Z"
   },
   {
    "duration": 6,
    "start_time": "2022-05-03T18:51:47.992Z"
   },
   {
    "duration": 11,
    "start_time": "2022-05-03T18:51:48.000Z"
   },
   {
    "duration": 10,
    "start_time": "2022-05-03T18:51:48.014Z"
   },
   {
    "duration": 10,
    "start_time": "2022-05-03T18:51:48.025Z"
   },
   {
    "duration": 3,
    "start_time": "2022-05-03T18:51:48.036Z"
   },
   {
    "duration": 37,
    "start_time": "2022-05-03T18:51:48.040Z"
   },
   {
    "duration": 12,
    "start_time": "2022-05-03T18:51:48.079Z"
   },
   {
    "duration": 11,
    "start_time": "2022-05-03T18:51:48.092Z"
   },
   {
    "duration": 14,
    "start_time": "2022-05-03T18:51:48.105Z"
   },
   {
    "duration": 7,
    "start_time": "2022-05-03T18:51:48.121Z"
   },
   {
    "duration": 16,
    "start_time": "2022-05-03T18:51:48.129Z"
   },
   {
    "duration": 34,
    "start_time": "2022-05-03T18:51:48.147Z"
   },
   {
    "duration": 9,
    "start_time": "2022-05-03T18:51:48.183Z"
   },
   {
    "duration": 16,
    "start_time": "2022-05-03T18:51:48.193Z"
   },
   {
    "duration": 4,
    "start_time": "2022-05-03T18:51:48.210Z"
   },
   {
    "duration": 23,
    "start_time": "2022-05-03T18:51:48.216Z"
   },
   {
    "duration": 167,
    "start_time": "2022-05-03T18:51:48.240Z"
   },
   {
    "duration": 98,
    "start_time": "2022-05-03T18:51:48.408Z"
   },
   {
    "duration": 12,
    "start_time": "2022-05-03T18:51:48.508Z"
   },
   {
    "duration": 183,
    "start_time": "2022-05-03T18:51:48.521Z"
   },
   {
    "duration": 4,
    "start_time": "2022-05-03T18:51:48.706Z"
   },
   {
    "duration": 319,
    "start_time": "2022-05-03T18:51:48.711Z"
   },
   {
    "duration": 9,
    "start_time": "2022-05-03T18:51:49.032Z"
   },
   {
    "duration": 33,
    "start_time": "2022-05-03T18:51:49.042Z"
   },
   {
    "duration": 276,
    "start_time": "2022-05-03T18:51:49.076Z"
   },
   {
    "duration": 7,
    "start_time": "2022-05-03T18:51:49.354Z"
   },
   {
    "duration": 1124,
    "start_time": "2022-05-03T18:51:49.372Z"
   },
   {
    "duration": 12,
    "start_time": "2022-05-03T18:51:50.498Z"
   },
   {
    "duration": 1096,
    "start_time": "2022-05-03T18:51:50.512Z"
   },
   {
    "duration": 12,
    "start_time": "2022-05-03T18:51:51.614Z"
   },
   {
    "duration": 15,
    "start_time": "2022-05-03T18:51:51.628Z"
   },
   {
    "duration": 39,
    "start_time": "2022-05-03T18:51:51.645Z"
   },
   {
    "duration": 289,
    "start_time": "2022-05-03T18:51:51.686Z"
   },
   {
    "duration": 19,
    "start_time": "2022-05-03T18:51:51.977Z"
   },
   {
    "duration": 162,
    "start_time": "2022-05-03T18:51:51.998Z"
   },
   {
    "duration": 104,
    "start_time": "2022-05-03T18:51:52.162Z"
   },
   {
    "duration": 17,
    "start_time": "2022-05-03T18:51:52.272Z"
   },
   {
    "duration": 159,
    "start_time": "2022-05-03T18:51:52.291Z"
   },
   {
    "duration": 195,
    "start_time": "2022-05-03T18:51:52.452Z"
   },
   {
    "duration": 28,
    "start_time": "2022-05-03T18:51:52.648Z"
   },
   {
    "duration": 163,
    "start_time": "2022-05-03T18:51:52.677Z"
   },
   {
    "duration": 100,
    "start_time": "2022-05-03T18:51:52.842Z"
   },
   {
    "duration": 18,
    "start_time": "2022-05-03T18:51:52.943Z"
   },
   {
    "duration": 172,
    "start_time": "2022-05-03T18:51:52.963Z"
   },
   {
    "duration": 105,
    "start_time": "2022-05-03T18:51:53.137Z"
   },
   {
    "duration": 17,
    "start_time": "2022-05-03T18:51:53.244Z"
   },
   {
    "duration": 156,
    "start_time": "2022-05-03T18:51:53.262Z"
   },
   {
    "duration": 109,
    "start_time": "2022-05-03T18:51:53.420Z"
   },
   {
    "duration": 17,
    "start_time": "2022-05-03T18:51:53.531Z"
   },
   {
    "duration": 159,
    "start_time": "2022-05-03T18:51:53.549Z"
   },
   {
    "duration": 113,
    "start_time": "2022-05-03T18:51:53.710Z"
   },
   {
    "duration": 7,
    "start_time": "2022-05-03T18:51:53.824Z"
   },
   {
    "duration": 10,
    "start_time": "2022-05-03T18:51:53.832Z"
   },
   {
    "duration": 113,
    "start_time": "2022-05-03T18:51:53.844Z"
   },
   {
    "duration": 0,
    "start_time": "2022-05-03T18:51:53.959Z"
   },
   {
    "duration": 6,
    "start_time": "2022-05-03T18:52:13.484Z"
   },
   {
    "duration": 11,
    "start_time": "2022-05-03T18:52:15.695Z"
   },
   {
    "duration": 7,
    "start_time": "2022-05-03T18:53:06.474Z"
   },
   {
    "duration": 8,
    "start_time": "2022-05-03T18:53:07.821Z"
   },
   {
    "duration": 6,
    "start_time": "2022-05-03T18:53:09.008Z"
   },
   {
    "duration": 12,
    "start_time": "2022-05-03T18:53:09.886Z"
   },
   {
    "duration": 9,
    "start_time": "2022-05-03T18:54:11.350Z"
   },
   {
    "duration": 12,
    "start_time": "2022-05-03T18:54:36.954Z"
   },
   {
    "duration": 102,
    "start_time": "2022-05-03T18:57:22.471Z"
   },
   {
    "duration": 143,
    "start_time": "2022-05-03T18:59:03.099Z"
   },
   {
    "duration": 18,
    "start_time": "2022-05-03T18:59:06.034Z"
   },
   {
    "duration": 22,
    "start_time": "2022-05-03T19:00:00.410Z"
   },
   {
    "duration": 15,
    "start_time": "2022-05-03T19:03:04.710Z"
   },
   {
    "duration": 14,
    "start_time": "2022-05-03T19:03:25.327Z"
   },
   {
    "duration": 5,
    "start_time": "2022-05-03T19:06:45.506Z"
   },
   {
    "duration": 20,
    "start_time": "2022-05-03T19:06:55.912Z"
   },
   {
    "duration": 15,
    "start_time": "2022-05-03T19:07:31.574Z"
   },
   {
    "duration": 14,
    "start_time": "2022-05-03T19:07:36.025Z"
   },
   {
    "duration": 4,
    "start_time": "2022-05-03T19:16:12.122Z"
   },
   {
    "duration": 109,
    "start_time": "2022-05-03T19:16:42.925Z"
   },
   {
    "duration": 140,
    "start_time": "2022-05-03T19:17:01.667Z"
   },
   {
    "duration": 18,
    "start_time": "2022-05-03T19:17:21.309Z"
   },
   {
    "duration": 122,
    "start_time": "2022-05-03T19:17:42.797Z"
   },
   {
    "duration": 147,
    "start_time": "2022-05-03T19:18:16.112Z"
   },
   {
    "duration": 14,
    "start_time": "2022-05-03T19:21:04.829Z"
   },
   {
    "duration": 13,
    "start_time": "2022-05-03T19:28:35.790Z"
   },
   {
    "duration": 1172,
    "start_time": "2022-05-03T19:29:43.812Z"
   },
   {
    "duration": 41,
    "start_time": "2022-05-03T19:29:44.987Z"
   },
   {
    "duration": 24,
    "start_time": "2022-05-03T19:29:45.031Z"
   },
   {
    "duration": 34,
    "start_time": "2022-05-03T19:29:45.058Z"
   },
   {
    "duration": 18,
    "start_time": "2022-05-03T19:29:45.093Z"
   },
   {
    "duration": 6,
    "start_time": "2022-05-03T19:29:45.112Z"
   },
   {
    "duration": 7,
    "start_time": "2022-05-03T19:29:45.119Z"
   },
   {
    "duration": 7,
    "start_time": "2022-05-03T19:29:45.128Z"
   },
   {
    "duration": 9,
    "start_time": "2022-05-03T19:29:45.136Z"
   },
   {
    "duration": 37,
    "start_time": "2022-05-03T19:29:45.148Z"
   },
   {
    "duration": 25,
    "start_time": "2022-05-03T19:29:45.187Z"
   },
   {
    "duration": 7,
    "start_time": "2022-05-03T19:29:45.214Z"
   },
   {
    "duration": 21,
    "start_time": "2022-05-03T19:29:45.222Z"
   },
   {
    "duration": 32,
    "start_time": "2022-05-03T19:29:45.245Z"
   },
   {
    "duration": 10,
    "start_time": "2022-05-03T19:29:45.278Z"
   },
   {
    "duration": 3,
    "start_time": "2022-05-03T19:29:45.290Z"
   },
   {
    "duration": 6,
    "start_time": "2022-05-03T19:29:45.295Z"
   },
   {
    "duration": 20,
    "start_time": "2022-05-03T19:29:45.303Z"
   },
   {
    "duration": 12,
    "start_time": "2022-05-03T19:29:45.325Z"
   },
   {
    "duration": 41,
    "start_time": "2022-05-03T19:29:45.339Z"
   },
   {
    "duration": 8,
    "start_time": "2022-05-03T19:29:45.382Z"
   },
   {
    "duration": 12,
    "start_time": "2022-05-03T19:29:45.392Z"
   },
   {
    "duration": 11,
    "start_time": "2022-05-03T19:29:45.406Z"
   },
   {
    "duration": 10,
    "start_time": "2022-05-03T19:29:45.419Z"
   },
   {
    "duration": 44,
    "start_time": "2022-05-03T19:29:45.431Z"
   },
   {
    "duration": 6,
    "start_time": "2022-05-03T19:29:45.477Z"
   },
   {
    "duration": 31,
    "start_time": "2022-05-03T19:29:45.486Z"
   },
   {
    "duration": 181,
    "start_time": "2022-05-03T19:29:45.524Z"
   },
   {
    "duration": 114,
    "start_time": "2022-05-03T19:29:45.707Z"
   },
   {
    "duration": 13,
    "start_time": "2022-05-03T19:29:45.823Z"
   },
   {
    "duration": 188,
    "start_time": "2022-05-03T19:29:45.838Z"
   },
   {
    "duration": 5,
    "start_time": "2022-05-03T19:29:46.029Z"
   },
   {
    "duration": 314,
    "start_time": "2022-05-03T19:29:46.036Z"
   },
   {
    "duration": 10,
    "start_time": "2022-05-03T19:29:46.351Z"
   },
   {
    "duration": 38,
    "start_time": "2022-05-03T19:29:46.362Z"
   },
   {
    "duration": 280,
    "start_time": "2022-05-03T19:29:46.401Z"
   },
   {
    "duration": 7,
    "start_time": "2022-05-03T19:29:46.683Z"
   },
   {
    "duration": 1057,
    "start_time": "2022-05-03T19:29:46.692Z"
   },
   {
    "duration": 12,
    "start_time": "2022-05-03T19:29:47.751Z"
   },
   {
    "duration": 1136,
    "start_time": "2022-05-03T19:29:47.774Z"
   },
   {
    "duration": 12,
    "start_time": "2022-05-03T19:29:48.912Z"
   },
   {
    "duration": 14,
    "start_time": "2022-05-03T19:29:48.925Z"
   },
   {
    "duration": 34,
    "start_time": "2022-05-03T19:29:48.940Z"
   },
   {
    "duration": 299,
    "start_time": "2022-05-03T19:29:48.976Z"
   },
   {
    "duration": 18,
    "start_time": "2022-05-03T19:29:49.276Z"
   },
   {
    "duration": 161,
    "start_time": "2022-05-03T19:29:49.296Z"
   },
   {
    "duration": 101,
    "start_time": "2022-05-03T19:29:49.459Z"
   },
   {
    "duration": 23,
    "start_time": "2022-05-03T19:29:49.561Z"
   },
   {
    "duration": 151,
    "start_time": "2022-05-03T19:29:49.586Z"
   },
   {
    "duration": 191,
    "start_time": "2022-05-03T19:29:49.739Z"
   },
   {
    "duration": 18,
    "start_time": "2022-05-03T19:29:49.933Z"
   },
   {
    "duration": 185,
    "start_time": "2022-05-03T19:29:49.953Z"
   },
   {
    "duration": 112,
    "start_time": "2022-05-03T19:29:50.140Z"
   },
   {
    "duration": 28,
    "start_time": "2022-05-03T19:29:50.254Z"
   },
   {
    "duration": 172,
    "start_time": "2022-05-03T19:29:50.284Z"
   },
   {
    "duration": 103,
    "start_time": "2022-05-03T19:29:50.458Z"
   },
   {
    "duration": 28,
    "start_time": "2022-05-03T19:29:50.563Z"
   },
   {
    "duration": 155,
    "start_time": "2022-05-03T19:29:50.593Z"
   },
   {
    "duration": 107,
    "start_time": "2022-05-03T19:29:50.750Z"
   },
   {
    "duration": 32,
    "start_time": "2022-05-03T19:29:50.859Z"
   },
   {
    "duration": 161,
    "start_time": "2022-05-03T19:29:50.893Z"
   },
   {
    "duration": 119,
    "start_time": "2022-05-03T19:29:51.056Z"
   },
   {
    "duration": 7,
    "start_time": "2022-05-03T19:29:51.178Z"
   },
   {
    "duration": 20,
    "start_time": "2022-05-03T19:29:51.187Z"
   },
   {
    "duration": 8,
    "start_time": "2022-05-03T19:29:51.209Z"
   },
   {
    "duration": 20,
    "start_time": "2022-05-03T19:29:51.218Z"
   },
   {
    "duration": 14,
    "start_time": "2022-05-03T19:30:06.251Z"
   },
   {
    "duration": 107,
    "start_time": "2022-05-03T19:48:58.689Z"
   },
   {
    "duration": 9,
    "start_time": "2022-05-03T20:04:54.782Z"
   },
   {
    "duration": 28,
    "start_time": "2022-05-03T20:08:53.193Z"
   },
   {
    "duration": 1220,
    "start_time": "2022-05-03T20:09:35.546Z"
   },
   {
    "duration": 37,
    "start_time": "2022-05-03T20:09:36.768Z"
   },
   {
    "duration": 21,
    "start_time": "2022-05-03T20:09:36.806Z"
   },
   {
    "duration": 16,
    "start_time": "2022-05-03T20:09:36.829Z"
   },
   {
    "duration": 32,
    "start_time": "2022-05-03T20:09:36.847Z"
   },
   {
    "duration": 6,
    "start_time": "2022-05-03T20:09:36.880Z"
   },
   {
    "duration": 8,
    "start_time": "2022-05-03T20:09:36.887Z"
   },
   {
    "duration": 6,
    "start_time": "2022-05-03T20:09:36.896Z"
   },
   {
    "duration": 9,
    "start_time": "2022-05-03T20:09:36.903Z"
   },
   {
    "duration": 13,
    "start_time": "2022-05-03T20:09:36.914Z"
   },
   {
    "duration": 47,
    "start_time": "2022-05-03T20:09:36.928Z"
   },
   {
    "duration": 5,
    "start_time": "2022-05-03T20:09:36.977Z"
   },
   {
    "duration": 14,
    "start_time": "2022-05-03T20:09:36.984Z"
   },
   {
    "duration": 11,
    "start_time": "2022-05-03T20:09:37.001Z"
   },
   {
    "duration": 11,
    "start_time": "2022-05-03T20:09:37.013Z"
   },
   {
    "duration": 3,
    "start_time": "2022-05-03T20:09:37.025Z"
   },
   {
    "duration": 44,
    "start_time": "2022-05-03T20:09:37.030Z"
   },
   {
    "duration": 11,
    "start_time": "2022-05-03T20:09:37.076Z"
   },
   {
    "duration": 12,
    "start_time": "2022-05-03T20:09:37.088Z"
   },
   {
    "duration": 15,
    "start_time": "2022-05-03T20:09:37.101Z"
   },
   {
    "duration": 6,
    "start_time": "2022-05-03T20:09:37.117Z"
   },
   {
    "duration": 11,
    "start_time": "2022-05-03T20:09:37.125Z"
   },
   {
    "duration": 39,
    "start_time": "2022-05-03T20:09:37.137Z"
   },
   {
    "duration": 9,
    "start_time": "2022-05-03T20:09:37.177Z"
   },
   {
    "duration": 14,
    "start_time": "2022-05-03T20:09:37.188Z"
   },
   {
    "duration": 4,
    "start_time": "2022-05-03T20:09:37.204Z"
   },
   {
    "duration": 17,
    "start_time": "2022-05-03T20:09:37.210Z"
   },
   {
    "duration": 187,
    "start_time": "2022-05-03T20:09:37.229Z"
   },
   {
    "duration": 108,
    "start_time": "2022-05-03T20:09:37.417Z"
   },
   {
    "duration": 11,
    "start_time": "2022-05-03T20:09:37.527Z"
   },
   {
    "duration": 186,
    "start_time": "2022-05-03T20:09:37.540Z"
   },
   {
    "duration": 4,
    "start_time": "2022-05-03T20:09:37.728Z"
   },
   {
    "duration": 333,
    "start_time": "2022-05-03T20:09:37.733Z"
   },
   {
    "duration": 11,
    "start_time": "2022-05-03T20:09:38.067Z"
   },
   {
    "duration": 33,
    "start_time": "2022-05-03T20:09:38.080Z"
   },
   {
    "duration": 333,
    "start_time": "2022-05-03T20:09:38.115Z"
   },
   {
    "duration": 7,
    "start_time": "2022-05-03T20:09:38.450Z"
   },
   {
    "duration": 1131,
    "start_time": "2022-05-03T20:09:38.459Z"
   },
   {
    "duration": 12,
    "start_time": "2022-05-03T20:09:39.592Z"
   },
   {
    "duration": 1226,
    "start_time": "2022-05-03T20:09:39.605Z"
   },
   {
    "duration": 14,
    "start_time": "2022-05-03T20:09:40.835Z"
   },
   {
    "duration": 28,
    "start_time": "2022-05-03T20:09:40.851Z"
   },
   {
    "duration": 13,
    "start_time": "2022-05-03T20:09:40.881Z"
   },
   {
    "duration": 328,
    "start_time": "2022-05-03T20:09:40.896Z"
   },
   {
    "duration": 18,
    "start_time": "2022-05-03T20:09:41.226Z"
   },
   {
    "duration": 165,
    "start_time": "2022-05-03T20:09:41.246Z"
   },
   {
    "duration": 110,
    "start_time": "2022-05-03T20:09:41.413Z"
   },
   {
    "duration": 18,
    "start_time": "2022-05-03T20:09:41.525Z"
   },
   {
    "duration": 180,
    "start_time": "2022-05-03T20:09:41.545Z"
   },
   {
    "duration": 199,
    "start_time": "2022-05-03T20:09:41.727Z"
   },
   {
    "duration": 19,
    "start_time": "2022-05-03T20:09:41.927Z"
   },
   {
    "duration": 169,
    "start_time": "2022-05-03T20:09:41.947Z"
   },
   {
    "duration": 115,
    "start_time": "2022-05-03T20:09:42.118Z"
   },
   {
    "duration": 17,
    "start_time": "2022-05-03T20:09:42.235Z"
   },
   {
    "duration": 177,
    "start_time": "2022-05-03T20:09:42.254Z"
   },
   {
    "duration": 108,
    "start_time": "2022-05-03T20:09:42.432Z"
   },
   {
    "duration": 17,
    "start_time": "2022-05-03T20:09:42.542Z"
   },
   {
    "duration": 157,
    "start_time": "2022-05-03T20:09:42.573Z"
   },
   {
    "duration": 113,
    "start_time": "2022-05-03T20:09:42.731Z"
   },
   {
    "duration": 29,
    "start_time": "2022-05-03T20:09:42.846Z"
   },
   {
    "duration": 162,
    "start_time": "2022-05-03T20:09:42.877Z"
   },
   {
    "duration": 118,
    "start_time": "2022-05-03T20:09:43.041Z"
   },
   {
    "duration": 12,
    "start_time": "2022-05-03T20:09:43.161Z"
   },
   {
    "duration": 9,
    "start_time": "2022-05-03T20:09:43.175Z"
   },
   {
    "duration": 8,
    "start_time": "2022-05-03T20:09:43.186Z"
   },
   {
    "duration": 18,
    "start_time": "2022-05-03T20:09:43.196Z"
   },
   {
    "duration": 30,
    "start_time": "2022-05-03T20:09:43.215Z"
   },
   {
    "duration": 120,
    "start_time": "2022-05-03T20:09:43.247Z"
   },
   {
    "duration": 11,
    "start_time": "2022-05-03T20:10:03.668Z"
   },
   {
    "duration": 6,
    "start_time": "2022-05-03T20:12:05.936Z"
   },
   {
    "duration": 9,
    "start_time": "2022-05-03T20:14:56.801Z"
   },
   {
    "duration": 6,
    "start_time": "2022-05-03T20:15:01.937Z"
   },
   {
    "duration": 9,
    "start_time": "2022-05-03T20:20:11.550Z"
   },
   {
    "duration": 6,
    "start_time": "2022-05-03T20:20:13.970Z"
   },
   {
    "duration": 10,
    "start_time": "2022-05-03T20:20:31.877Z"
   },
   {
    "duration": 6,
    "start_time": "2022-05-03T20:20:33.123Z"
   },
   {
    "duration": 10,
    "start_time": "2022-05-03T20:38:23.480Z"
   },
   {
    "duration": 6,
    "start_time": "2022-05-03T20:39:47.652Z"
   },
   {
    "duration": 8,
    "start_time": "2022-05-03T20:42:15.861Z"
   },
   {
    "duration": 1388,
    "start_time": "2022-05-03T20:42:22.106Z"
   },
   {
    "duration": 11,
    "start_time": "2022-05-03T20:43:00.212Z"
   },
   {
    "duration": 5,
    "start_time": "2022-05-03T20:44:18.473Z"
   },
   {
    "duration": 8,
    "start_time": "2022-05-03T20:44:42.326Z"
   },
   {
    "duration": 11,
    "start_time": "2022-05-03T20:45:00.735Z"
   },
   {
    "duration": 12,
    "start_time": "2022-05-03T20:46:55.500Z"
   },
   {
    "duration": 1156,
    "start_time": "2022-05-03T20:52:16.511Z"
   },
   {
    "duration": 37,
    "start_time": "2022-05-03T20:52:17.669Z"
   },
   {
    "duration": 21,
    "start_time": "2022-05-03T20:52:17.708Z"
   },
   {
    "duration": 17,
    "start_time": "2022-05-03T20:52:17.731Z"
   },
   {
    "duration": 31,
    "start_time": "2022-05-03T20:52:17.749Z"
   },
   {
    "duration": 5,
    "start_time": "2022-05-03T20:52:17.782Z"
   },
   {
    "duration": 11,
    "start_time": "2022-05-03T20:52:17.789Z"
   },
   {
    "duration": 8,
    "start_time": "2022-05-03T20:52:17.802Z"
   },
   {
    "duration": 11,
    "start_time": "2022-05-03T20:52:17.811Z"
   },
   {
    "duration": 13,
    "start_time": "2022-05-03T20:52:17.824Z"
   },
   {
    "duration": 41,
    "start_time": "2022-05-03T20:52:17.838Z"
   },
   {
    "duration": 5,
    "start_time": "2022-05-03T20:52:17.881Z"
   },
   {
    "duration": 13,
    "start_time": "2022-05-03T20:52:17.888Z"
   },
   {
    "duration": 11,
    "start_time": "2022-05-03T20:52:17.903Z"
   },
   {
    "duration": 10,
    "start_time": "2022-05-03T20:52:17.916Z"
   },
   {
    "duration": 3,
    "start_time": "2022-05-03T20:52:17.928Z"
   },
   {
    "duration": 42,
    "start_time": "2022-05-03T20:52:17.933Z"
   },
   {
    "duration": 14,
    "start_time": "2022-05-03T20:52:17.976Z"
   },
   {
    "duration": 13,
    "start_time": "2022-05-03T20:52:17.992Z"
   },
   {
    "duration": 14,
    "start_time": "2022-05-03T20:52:18.007Z"
   },
   {
    "duration": 7,
    "start_time": "2022-05-03T20:52:18.022Z"
   },
   {
    "duration": 11,
    "start_time": "2022-05-03T20:52:18.030Z"
   },
   {
    "duration": 36,
    "start_time": "2022-05-03T20:52:18.043Z"
   },
   {
    "duration": 8,
    "start_time": "2022-05-03T20:52:18.081Z"
   },
   {
    "duration": 18,
    "start_time": "2022-05-03T20:52:18.091Z"
   },
   {
    "duration": 7,
    "start_time": "2022-05-03T20:52:18.111Z"
   },
   {
    "duration": 30,
    "start_time": "2022-05-03T20:52:18.119Z"
   },
   {
    "duration": 164,
    "start_time": "2022-05-03T20:52:18.154Z"
   },
   {
    "duration": 101,
    "start_time": "2022-05-03T20:52:18.319Z"
   },
   {
    "duration": 11,
    "start_time": "2022-05-03T20:52:18.422Z"
   },
   {
    "duration": 182,
    "start_time": "2022-05-03T20:52:18.435Z"
   },
   {
    "duration": 5,
    "start_time": "2022-05-03T20:52:18.618Z"
   },
   {
    "duration": 292,
    "start_time": "2022-05-03T20:52:18.625Z"
   },
   {
    "duration": 9,
    "start_time": "2022-05-03T20:52:18.919Z"
   },
   {
    "duration": 31,
    "start_time": "2022-05-03T20:52:18.930Z"
   },
   {
    "duration": 286,
    "start_time": "2022-05-03T20:52:18.963Z"
   },
   {
    "duration": 9,
    "start_time": "2022-05-03T20:52:19.251Z"
   },
   {
    "duration": 1105,
    "start_time": "2022-05-03T20:52:19.262Z"
   },
   {
    "duration": 14,
    "start_time": "2022-05-03T20:52:20.368Z"
   },
   {
    "duration": 1135,
    "start_time": "2022-05-03T20:52:20.383Z"
   },
   {
    "duration": 12,
    "start_time": "2022-05-03T20:52:21.520Z"
   },
   {
    "duration": 14,
    "start_time": "2022-05-03T20:52:21.533Z"
   },
   {
    "duration": 35,
    "start_time": "2022-05-03T20:52:21.548Z"
   },
   {
    "duration": 306,
    "start_time": "2022-05-03T20:52:21.584Z"
   },
   {
    "duration": 18,
    "start_time": "2022-05-03T20:52:21.892Z"
   },
   {
    "duration": 167,
    "start_time": "2022-05-03T20:52:21.912Z"
   },
   {
    "duration": 109,
    "start_time": "2022-05-03T20:52:22.080Z"
   },
   {
    "duration": 18,
    "start_time": "2022-05-03T20:52:22.190Z"
   },
   {
    "duration": 165,
    "start_time": "2022-05-03T20:52:22.210Z"
   },
   {
    "duration": 195,
    "start_time": "2022-05-03T20:52:22.377Z"
   },
   {
    "duration": 17,
    "start_time": "2022-05-03T20:52:22.574Z"
   },
   {
    "duration": 173,
    "start_time": "2022-05-03T20:52:22.593Z"
   },
   {
    "duration": 117,
    "start_time": "2022-05-03T20:52:22.768Z"
   },
   {
    "duration": 18,
    "start_time": "2022-05-03T20:52:22.887Z"
   },
   {
    "duration": 172,
    "start_time": "2022-05-03T20:52:22.907Z"
   },
   {
    "duration": 104,
    "start_time": "2022-05-03T20:52:23.081Z"
   },
   {
    "duration": 18,
    "start_time": "2022-05-03T20:52:23.187Z"
   },
   {
    "duration": 166,
    "start_time": "2022-05-03T20:52:23.207Z"
   },
   {
    "duration": 107,
    "start_time": "2022-05-03T20:52:23.374Z"
   },
   {
    "duration": 17,
    "start_time": "2022-05-03T20:52:23.482Z"
   },
   {
    "duration": 162,
    "start_time": "2022-05-03T20:52:23.501Z"
   },
   {
    "duration": 111,
    "start_time": "2022-05-03T20:52:23.664Z"
   },
   {
    "duration": 6,
    "start_time": "2022-05-03T20:52:23.777Z"
   },
   {
    "duration": 13,
    "start_time": "2022-05-03T20:52:23.785Z"
   },
   {
    "duration": 8,
    "start_time": "2022-05-03T20:52:23.799Z"
   },
   {
    "duration": 17,
    "start_time": "2022-05-03T20:52:23.808Z"
   },
   {
    "duration": 12,
    "start_time": "2022-05-03T20:52:23.826Z"
   },
   {
    "duration": 39,
    "start_time": "2022-05-03T20:52:23.840Z"
   },
   {
    "duration": 1182,
    "start_time": "2022-05-03T21:30:41.504Z"
   },
   {
    "duration": 44,
    "start_time": "2022-05-03T21:30:42.688Z"
   },
   {
    "duration": 22,
    "start_time": "2022-05-03T21:30:42.733Z"
   },
   {
    "duration": 21,
    "start_time": "2022-05-03T21:30:42.757Z"
   },
   {
    "duration": 33,
    "start_time": "2022-05-03T21:30:42.780Z"
   },
   {
    "duration": 6,
    "start_time": "2022-05-03T21:30:42.815Z"
   },
   {
    "duration": 17,
    "start_time": "2022-05-03T21:30:42.822Z"
   },
   {
    "duration": 12,
    "start_time": "2022-05-03T21:30:42.841Z"
   },
   {
    "duration": 8,
    "start_time": "2022-05-03T21:30:42.854Z"
   },
   {
    "duration": 26,
    "start_time": "2022-05-03T21:30:42.863Z"
   },
   {
    "duration": 27,
    "start_time": "2022-05-03T21:30:42.890Z"
   },
   {
    "duration": 13,
    "start_time": "2022-05-03T21:30:42.919Z"
   },
   {
    "duration": 31,
    "start_time": "2022-05-03T21:30:42.933Z"
   },
   {
    "duration": 22,
    "start_time": "2022-05-03T21:30:42.967Z"
   },
   {
    "duration": 22,
    "start_time": "2022-05-03T21:30:42.990Z"
   },
   {
    "duration": 18,
    "start_time": "2022-05-03T21:30:43.014Z"
   },
   {
    "duration": 10,
    "start_time": "2022-05-03T21:30:43.034Z"
   },
   {
    "duration": 22,
    "start_time": "2022-05-03T21:30:43.045Z"
   },
   {
    "duration": 19,
    "start_time": "2022-05-03T21:30:43.068Z"
   },
   {
    "duration": 14,
    "start_time": "2022-05-03T21:30:43.088Z"
   },
   {
    "duration": 7,
    "start_time": "2022-05-03T21:30:43.103Z"
   },
   {
    "duration": 34,
    "start_time": "2022-05-03T21:30:43.111Z"
   },
   {
    "duration": 13,
    "start_time": "2022-05-03T21:30:43.147Z"
   },
   {
    "duration": 12,
    "start_time": "2022-05-03T21:30:43.161Z"
   },
   {
    "duration": 16,
    "start_time": "2022-05-03T21:30:43.175Z"
   },
   {
    "duration": 16,
    "start_time": "2022-05-03T21:30:43.192Z"
   },
   {
    "duration": 20,
    "start_time": "2022-05-03T21:30:43.210Z"
   },
   {
    "duration": 156,
    "start_time": "2022-05-03T21:30:43.231Z"
   },
   {
    "duration": 107,
    "start_time": "2022-05-03T21:30:43.389Z"
   },
   {
    "duration": 12,
    "start_time": "2022-05-03T21:30:43.498Z"
   },
   {
    "duration": 179,
    "start_time": "2022-05-03T21:30:43.511Z"
   },
   {
    "duration": 3,
    "start_time": "2022-05-03T21:30:43.692Z"
   },
   {
    "duration": 287,
    "start_time": "2022-05-03T21:30:43.697Z"
   },
   {
    "duration": 10,
    "start_time": "2022-05-03T21:30:43.985Z"
   },
   {
    "duration": 32,
    "start_time": "2022-05-03T21:30:43.996Z"
   },
   {
    "duration": 274,
    "start_time": "2022-05-03T21:30:44.030Z"
   },
   {
    "duration": 7,
    "start_time": "2022-05-03T21:30:44.306Z"
   },
   {
    "duration": 1062,
    "start_time": "2022-05-03T21:30:44.315Z"
   },
   {
    "duration": 11,
    "start_time": "2022-05-03T21:30:45.379Z"
   },
   {
    "duration": 1143,
    "start_time": "2022-05-03T21:30:45.391Z"
   },
   {
    "duration": 12,
    "start_time": "2022-05-03T21:30:46.538Z"
   },
   {
    "duration": 27,
    "start_time": "2022-05-03T21:30:46.552Z"
   },
   {
    "duration": 14,
    "start_time": "2022-05-03T21:30:46.581Z"
   },
   {
    "duration": 311,
    "start_time": "2022-05-03T21:30:46.596Z"
   },
   {
    "duration": 17,
    "start_time": "2022-05-03T21:30:46.909Z"
   },
   {
    "duration": 163,
    "start_time": "2022-05-03T21:30:46.927Z"
   },
   {
    "duration": 103,
    "start_time": "2022-05-03T21:30:47.092Z"
   },
   {
    "duration": 17,
    "start_time": "2022-05-03T21:30:47.197Z"
   },
   {
    "duration": 160,
    "start_time": "2022-05-03T21:30:47.215Z"
   },
   {
    "duration": 190,
    "start_time": "2022-05-03T21:30:47.376Z"
   },
   {
    "duration": 19,
    "start_time": "2022-05-03T21:30:47.568Z"
   },
   {
    "duration": 153,
    "start_time": "2022-05-03T21:30:47.588Z"
   },
   {
    "duration": 102,
    "start_time": "2022-05-03T21:30:47.742Z"
   },
   {
    "duration": 38,
    "start_time": "2022-05-03T21:30:47.845Z"
   },
   {
    "duration": 151,
    "start_time": "2022-05-03T21:30:47.884Z"
   },
   {
    "duration": 109,
    "start_time": "2022-05-03T21:30:48.036Z"
   },
   {
    "duration": 27,
    "start_time": "2022-05-03T21:30:48.147Z"
   },
   {
    "duration": 143,
    "start_time": "2022-05-03T21:30:48.175Z"
   },
   {
    "duration": 103,
    "start_time": "2022-05-03T21:30:48.320Z"
   },
   {
    "duration": 17,
    "start_time": "2022-05-03T21:30:48.425Z"
   },
   {
    "duration": 159,
    "start_time": "2022-05-03T21:30:48.444Z"
   },
   {
    "duration": 110,
    "start_time": "2022-05-03T21:30:48.605Z"
   },
   {
    "duration": 7,
    "start_time": "2022-05-03T21:30:48.716Z"
   },
   {
    "duration": 9,
    "start_time": "2022-05-03T21:30:48.724Z"
   },
   {
    "duration": 6,
    "start_time": "2022-05-03T21:30:48.735Z"
   },
   {
    "duration": 35,
    "start_time": "2022-05-03T21:30:48.742Z"
   },
   {
    "duration": 12,
    "start_time": "2022-05-03T21:30:48.778Z"
   },
   {
    "duration": 10,
    "start_time": "2022-05-03T21:30:48.792Z"
   },
   {
    "duration": 1160,
    "start_time": "2022-05-06T14:25:47.359Z"
   },
   {
    "duration": 39,
    "start_time": "2022-05-06T14:25:48.521Z"
   },
   {
    "duration": 22,
    "start_time": "2022-05-06T14:25:48.562Z"
   },
   {
    "duration": 28,
    "start_time": "2022-05-06T14:25:48.586Z"
   },
   {
    "duration": 18,
    "start_time": "2022-05-06T14:25:48.615Z"
   },
   {
    "duration": 6,
    "start_time": "2022-05-06T14:25:48.634Z"
   },
   {
    "duration": 8,
    "start_time": "2022-05-06T14:25:48.642Z"
   },
   {
    "duration": 20,
    "start_time": "2022-05-06T14:25:48.652Z"
   },
   {
    "duration": 9,
    "start_time": "2022-05-06T14:25:48.674Z"
   },
   {
    "duration": 33,
    "start_time": "2022-05-06T14:25:48.686Z"
   },
   {
    "duration": 23,
    "start_time": "2022-05-06T14:25:48.721Z"
   },
   {
    "duration": 7,
    "start_time": "2022-05-06T14:25:48.746Z"
   },
   {
    "duration": 15,
    "start_time": "2022-05-06T14:25:48.754Z"
   },
   {
    "duration": 50,
    "start_time": "2022-05-06T14:25:48.771Z"
   },
   {
    "duration": 11,
    "start_time": "2022-05-06T14:25:48.823Z"
   },
   {
    "duration": 4,
    "start_time": "2022-05-06T14:25:48.836Z"
   },
   {
    "duration": 5,
    "start_time": "2022-05-06T14:25:48.843Z"
   },
   {
    "duration": 12,
    "start_time": "2022-05-06T14:25:48.850Z"
   },
   {
    "duration": 49,
    "start_time": "2022-05-06T14:25:48.864Z"
   },
   {
    "duration": 16,
    "start_time": "2022-05-06T14:25:48.916Z"
   },
   {
    "duration": 9,
    "start_time": "2022-05-06T14:25:48.934Z"
   },
   {
    "duration": 8,
    "start_time": "2022-05-06T14:25:48.945Z"
   },
   {
    "duration": 10,
    "start_time": "2022-05-06T14:25:48.955Z"
   },
   {
    "duration": 9,
    "start_time": "2022-05-06T14:25:48.966Z"
   },
   {
    "duration": 13,
    "start_time": "2022-05-06T14:25:49.008Z"
   },
   {
    "duration": 4,
    "start_time": "2022-05-06T14:25:49.023Z"
   },
   {
    "duration": 21,
    "start_time": "2022-05-06T14:25:49.029Z"
   },
   {
    "duration": 197,
    "start_time": "2022-05-06T14:25:49.054Z"
   },
   {
    "duration": 119,
    "start_time": "2022-05-06T14:25:49.253Z"
   },
   {
    "duration": 11,
    "start_time": "2022-05-06T14:25:49.374Z"
   },
   {
    "duration": 209,
    "start_time": "2022-05-06T14:25:49.387Z"
   },
   {
    "duration": 12,
    "start_time": "2022-05-06T14:25:49.597Z"
   },
   {
    "duration": 329,
    "start_time": "2022-05-06T14:25:49.610Z"
   },
   {
    "duration": 9,
    "start_time": "2022-05-06T14:25:49.941Z"
   },
   {
    "duration": 34,
    "start_time": "2022-05-06T14:25:49.952Z"
   },
   {
    "duration": 331,
    "start_time": "2022-05-06T14:25:49.987Z"
   },
   {
    "duration": 7,
    "start_time": "2022-05-06T14:25:50.320Z"
   },
   {
    "duration": 1163,
    "start_time": "2022-05-06T14:25:50.329Z"
   },
   {
    "duration": 19,
    "start_time": "2022-05-06T14:25:51.494Z"
   },
   {
    "duration": 1242,
    "start_time": "2022-05-06T14:25:51.515Z"
   },
   {
    "duration": 13,
    "start_time": "2022-05-06T14:25:52.759Z"
   },
   {
    "duration": 33,
    "start_time": "2022-05-06T14:25:52.774Z"
   },
   {
    "duration": 15,
    "start_time": "2022-05-06T14:25:52.809Z"
   },
   {
    "duration": 343,
    "start_time": "2022-05-06T14:25:52.825Z"
   },
   {
    "duration": 19,
    "start_time": "2022-05-06T14:25:53.169Z"
   },
   {
    "duration": 183,
    "start_time": "2022-05-06T14:25:53.190Z"
   },
   {
    "duration": 115,
    "start_time": "2022-05-06T14:25:53.375Z"
   },
   {
    "duration": 23,
    "start_time": "2022-05-06T14:25:53.492Z"
   },
   {
    "duration": 179,
    "start_time": "2022-05-06T14:25:53.517Z"
   },
   {
    "duration": 197,
    "start_time": "2022-05-06T14:25:53.698Z"
   },
   {
    "duration": 19,
    "start_time": "2022-05-06T14:25:53.897Z"
   },
   {
    "duration": 181,
    "start_time": "2022-05-06T14:25:53.918Z"
   },
   {
    "duration": 119,
    "start_time": "2022-05-06T14:25:54.101Z"
   },
   {
    "duration": 19,
    "start_time": "2022-05-06T14:25:54.223Z"
   },
   {
    "duration": 184,
    "start_time": "2022-05-06T14:25:54.244Z"
   },
   {
    "duration": 112,
    "start_time": "2022-05-06T14:25:54.429Z"
   },
   {
    "duration": 18,
    "start_time": "2022-05-06T14:25:54.543Z"
   },
   {
    "duration": 179,
    "start_time": "2022-05-06T14:25:54.563Z"
   },
   {
    "duration": 120,
    "start_time": "2022-05-06T14:25:54.744Z"
   },
   {
    "duration": 19,
    "start_time": "2022-05-06T14:25:54.866Z"
   },
   {
    "duration": 176,
    "start_time": "2022-05-06T14:25:54.886Z"
   },
   {
    "duration": 126,
    "start_time": "2022-05-06T14:25:55.064Z"
   },
   {
    "duration": 17,
    "start_time": "2022-05-06T14:25:55.192Z"
   },
   {
    "duration": 17,
    "start_time": "2022-05-06T14:25:55.211Z"
   },
   {
    "duration": 13,
    "start_time": "2022-05-06T14:25:55.230Z"
   },
   {
    "duration": 23,
    "start_time": "2022-05-06T14:25:55.247Z"
   },
   {
    "duration": 21,
    "start_time": "2022-05-06T14:25:55.271Z"
   },
   {
    "duration": 16,
    "start_time": "2022-05-06T14:25:55.295Z"
   },
   {
    "duration": 48,
    "start_time": "2022-05-10T08:32:40.511Z"
   },
   {
    "duration": 1413,
    "start_time": "2022-05-10T08:32:48.871Z"
   },
   {
    "duration": 41,
    "start_time": "2022-05-10T08:32:50.286Z"
   },
   {
    "duration": 21,
    "start_time": "2022-05-10T08:32:50.329Z"
   },
   {
    "duration": 15,
    "start_time": "2022-05-10T08:32:50.352Z"
   },
   {
    "duration": 29,
    "start_time": "2022-05-10T08:32:50.368Z"
   },
   {
    "duration": 6,
    "start_time": "2022-05-10T08:32:50.398Z"
   },
   {
    "duration": 8,
    "start_time": "2022-05-10T08:32:50.405Z"
   },
   {
    "duration": 9,
    "start_time": "2022-05-10T08:32:50.415Z"
   },
   {
    "duration": 8,
    "start_time": "2022-05-10T08:32:50.425Z"
   },
   {
    "duration": 18,
    "start_time": "2022-05-10T08:32:50.436Z"
   },
   {
    "duration": 44,
    "start_time": "2022-05-10T08:32:50.456Z"
   },
   {
    "duration": 6,
    "start_time": "2022-05-10T08:32:50.501Z"
   },
   {
    "duration": 11,
    "start_time": "2022-05-10T08:32:50.509Z"
   },
   {
    "duration": 11,
    "start_time": "2022-05-10T08:32:50.522Z"
   },
   {
    "duration": 10,
    "start_time": "2022-05-10T08:32:50.534Z"
   },
   {
    "duration": 5,
    "start_time": "2022-05-10T08:32:50.546Z"
   },
   {
    "duration": 8,
    "start_time": "2022-05-10T08:32:50.552Z"
   },
   {
    "duration": 37,
    "start_time": "2022-05-10T08:32:50.561Z"
   },
   {
    "duration": 12,
    "start_time": "2022-05-10T08:32:50.599Z"
   },
   {
    "duration": 16,
    "start_time": "2022-05-10T08:32:50.613Z"
   },
   {
    "duration": 7,
    "start_time": "2022-05-10T08:32:50.630Z"
   },
   {
    "duration": 11,
    "start_time": "2022-05-10T08:32:50.638Z"
   },
   {
    "duration": 44,
    "start_time": "2022-05-10T08:32:50.650Z"
   },
   {
    "duration": 11,
    "start_time": "2022-05-10T08:32:50.696Z"
   },
   {
    "duration": 16,
    "start_time": "2022-05-10T08:32:50.709Z"
   },
   {
    "duration": 5,
    "start_time": "2022-05-10T08:32:50.727Z"
   },
   {
    "duration": 24,
    "start_time": "2022-05-10T08:32:50.734Z"
   },
   {
    "duration": 185,
    "start_time": "2022-05-10T08:32:50.764Z"
   },
   {
    "duration": 101,
    "start_time": "2022-05-10T08:32:50.950Z"
   },
   {
    "duration": 11,
    "start_time": "2022-05-10T08:32:51.052Z"
   },
   {
    "duration": 174,
    "start_time": "2022-05-10T08:32:51.065Z"
   },
   {
    "duration": 4,
    "start_time": "2022-05-10T08:32:51.241Z"
   },
   {
    "duration": 286,
    "start_time": "2022-05-10T08:32:51.247Z"
   },
   {
    "duration": 11,
    "start_time": "2022-05-10T08:32:51.535Z"
   },
   {
    "duration": 32,
    "start_time": "2022-05-10T08:32:51.547Z"
   },
   {
    "duration": 279,
    "start_time": "2022-05-10T08:32:51.581Z"
   },
   {
    "duration": 7,
    "start_time": "2022-05-10T08:32:51.861Z"
   },
   {
    "duration": 1097,
    "start_time": "2022-05-10T08:32:51.869Z"
   },
   {
    "duration": 10,
    "start_time": "2022-05-10T08:32:52.967Z"
   },
   {
    "duration": 1110,
    "start_time": "2022-05-10T08:32:52.979Z"
   },
   {
    "duration": 11,
    "start_time": "2022-05-10T08:32:54.091Z"
   },
   {
    "duration": 14,
    "start_time": "2022-05-10T08:32:54.104Z"
   },
   {
    "duration": 13,
    "start_time": "2022-05-10T08:32:54.119Z"
   },
   {
    "duration": 321,
    "start_time": "2022-05-10T08:32:54.134Z"
   },
   {
    "duration": 16,
    "start_time": "2022-05-10T08:32:54.457Z"
   },
   {
    "duration": 158,
    "start_time": "2022-05-10T08:32:54.475Z"
   },
   {
    "duration": 101,
    "start_time": "2022-05-10T08:32:54.635Z"
   },
   {
    "duration": 17,
    "start_time": "2022-05-10T08:32:54.737Z"
   },
   {
    "duration": 158,
    "start_time": "2022-05-10T08:32:54.755Z"
   },
   {
    "duration": 167,
    "start_time": "2022-05-10T08:32:54.914Z"
   },
   {
    "duration": 21,
    "start_time": "2022-05-10T08:32:55.083Z"
   },
   {
    "duration": 153,
    "start_time": "2022-05-10T08:32:55.105Z"
   },
   {
    "duration": 94,
    "start_time": "2022-05-10T08:32:55.260Z"
   },
   {
    "duration": 16,
    "start_time": "2022-05-10T08:32:55.356Z"
   },
   {
    "duration": 162,
    "start_time": "2022-05-10T08:32:55.374Z"
   },
   {
    "duration": 98,
    "start_time": "2022-05-10T08:32:55.538Z"
   },
   {
    "duration": 17,
    "start_time": "2022-05-10T08:32:55.637Z"
   },
   {
    "duration": 141,
    "start_time": "2022-05-10T08:32:55.655Z"
   },
   {
    "duration": 97,
    "start_time": "2022-05-10T08:32:55.798Z"
   },
   {
    "duration": 16,
    "start_time": "2022-05-10T08:32:55.897Z"
   },
   {
    "duration": 158,
    "start_time": "2022-05-10T08:32:55.915Z"
   },
   {
    "duration": 99,
    "start_time": "2022-05-10T08:32:56.075Z"
   },
   {
    "duration": 19,
    "start_time": "2022-05-10T08:32:56.176Z"
   },
   {
    "duration": 10,
    "start_time": "2022-05-10T08:32:56.197Z"
   },
   {
    "duration": 6,
    "start_time": "2022-05-10T08:32:56.208Z"
   },
   {
    "duration": 15,
    "start_time": "2022-05-10T08:32:56.216Z"
   },
   {
    "duration": 12,
    "start_time": "2022-05-10T08:32:56.233Z"
   },
   {
    "duration": 9,
    "start_time": "2022-05-10T08:32:56.246Z"
   },
   {
    "duration": 5,
    "start_time": "2022-05-10T08:33:42.571Z"
   },
   {
    "duration": 7,
    "start_time": "2022-05-10T10:36:28.330Z"
   },
   {
    "duration": 7,
    "start_time": "2022-05-10T10:37:14.292Z"
   },
   {
    "duration": 1178,
    "start_time": "2022-05-10T10:37:20.930Z"
   },
   {
    "duration": 55,
    "start_time": "2022-05-10T10:37:22.111Z"
   },
   {
    "duration": 28,
    "start_time": "2022-05-10T10:37:22.168Z"
   },
   {
    "duration": 23,
    "start_time": "2022-05-10T10:37:22.198Z"
   },
   {
    "duration": 30,
    "start_time": "2022-05-10T10:37:22.223Z"
   },
   {
    "duration": 7,
    "start_time": "2022-05-10T10:37:22.254Z"
   },
   {
    "duration": 6,
    "start_time": "2022-05-10T10:37:22.263Z"
   },
   {
    "duration": 24,
    "start_time": "2022-05-10T10:37:22.271Z"
   },
   {
    "duration": 9,
    "start_time": "2022-05-10T10:37:22.297Z"
   },
   {
    "duration": 15,
    "start_time": "2022-05-10T10:37:22.309Z"
   },
   {
    "duration": 23,
    "start_time": "2022-05-10T10:37:22.326Z"
   },
   {
    "duration": 6,
    "start_time": "2022-05-10T10:37:22.351Z"
   },
   {
    "duration": 47,
    "start_time": "2022-05-10T10:37:22.359Z"
   },
   {
    "duration": 13,
    "start_time": "2022-05-10T10:37:22.408Z"
   },
   {
    "duration": 16,
    "start_time": "2022-05-10T10:37:22.423Z"
   },
   {
    "duration": 4,
    "start_time": "2022-05-10T10:37:22.442Z"
   },
   {
    "duration": 18,
    "start_time": "2022-05-10T10:37:22.448Z"
   },
   {
    "duration": 25,
    "start_time": "2022-05-10T10:37:22.469Z"
   },
   {
    "duration": 12,
    "start_time": "2022-05-10T10:37:22.496Z"
   },
   {
    "duration": 42,
    "start_time": "2022-05-10T10:37:22.510Z"
   },
   {
    "duration": 12,
    "start_time": "2022-05-10T10:37:22.554Z"
   },
   {
    "duration": 8,
    "start_time": "2022-05-10T10:37:22.568Z"
   },
   {
    "duration": 28,
    "start_time": "2022-05-10T10:37:22.578Z"
   },
   {
    "duration": 27,
    "start_time": "2022-05-10T10:37:22.608Z"
   },
   {
    "duration": 51,
    "start_time": "2022-05-10T10:37:22.636Z"
   },
   {
    "duration": 60,
    "start_time": "2022-05-10T10:37:22.688Z"
   },
   {
    "duration": 12,
    "start_time": "2022-05-10T10:37:22.750Z"
   },
   {
    "duration": 39,
    "start_time": "2022-05-10T10:37:22.766Z"
   },
   {
    "duration": 187,
    "start_time": "2022-05-10T10:37:22.806Z"
   },
   {
    "duration": 102,
    "start_time": "2022-05-10T10:37:22.994Z"
   },
   {
    "duration": 11,
    "start_time": "2022-05-10T10:37:23.098Z"
   },
   {
    "duration": 176,
    "start_time": "2022-05-10T10:37:23.110Z"
   },
   {
    "duration": 6,
    "start_time": "2022-05-10T10:37:23.287Z"
   },
   {
    "duration": 302,
    "start_time": "2022-05-10T10:37:23.295Z"
   },
   {
    "duration": 8,
    "start_time": "2022-05-10T10:37:23.599Z"
   },
   {
    "duration": 40,
    "start_time": "2022-05-10T10:37:23.608Z"
   },
   {
    "duration": 278,
    "start_time": "2022-05-10T10:37:23.650Z"
   },
   {
    "duration": 7,
    "start_time": "2022-05-10T10:37:23.929Z"
   },
   {
    "duration": 1029,
    "start_time": "2022-05-10T10:37:23.938Z"
   },
   {
    "duration": 10,
    "start_time": "2022-05-10T10:37:24.969Z"
   },
   {
    "duration": 1116,
    "start_time": "2022-05-10T10:37:24.993Z"
   },
   {
    "duration": 12,
    "start_time": "2022-05-10T10:37:26.111Z"
   },
   {
    "duration": 13,
    "start_time": "2022-05-10T10:37:26.125Z"
   },
   {
    "duration": 14,
    "start_time": "2022-05-10T10:37:26.139Z"
   },
   {
    "duration": 312,
    "start_time": "2022-05-10T10:37:26.154Z"
   },
   {
    "duration": 26,
    "start_time": "2022-05-10T10:37:26.467Z"
   },
   {
    "duration": 146,
    "start_time": "2022-05-10T10:37:26.494Z"
   },
   {
    "duration": 99,
    "start_time": "2022-05-10T10:37:26.641Z"
   },
   {
    "duration": 17,
    "start_time": "2022-05-10T10:37:26.741Z"
   },
   {
    "duration": 146,
    "start_time": "2022-05-10T10:37:26.759Z"
   },
   {
    "duration": 167,
    "start_time": "2022-05-10T10:37:26.906Z"
   },
   {
    "duration": 28,
    "start_time": "2022-05-10T10:37:27.075Z"
   },
   {
    "duration": 162,
    "start_time": "2022-05-10T10:37:27.104Z"
   },
   {
    "duration": 95,
    "start_time": "2022-05-10T10:37:27.267Z"
   },
   {
    "duration": 16,
    "start_time": "2022-05-10T10:37:27.363Z"
   },
   {
    "duration": 155,
    "start_time": "2022-05-10T10:37:27.380Z"
   },
   {
    "duration": 102,
    "start_time": "2022-05-10T10:37:27.537Z"
   },
   {
    "duration": 18,
    "start_time": "2022-05-10T10:37:27.641Z"
   },
   {
    "duration": 156,
    "start_time": "2022-05-10T10:37:27.660Z"
   },
   {
    "duration": 103,
    "start_time": "2022-05-10T10:37:27.817Z"
   },
   {
    "duration": 16,
    "start_time": "2022-05-10T10:37:27.922Z"
   },
   {
    "duration": 155,
    "start_time": "2022-05-10T10:37:27.939Z"
   },
   {
    "duration": 100,
    "start_time": "2022-05-10T10:37:28.096Z"
   },
   {
    "duration": 7,
    "start_time": "2022-05-10T10:37:28.198Z"
   },
   {
    "duration": 9,
    "start_time": "2022-05-10T10:37:28.206Z"
   },
   {
    "duration": 5,
    "start_time": "2022-05-10T10:37:28.217Z"
   },
   {
    "duration": 14,
    "start_time": "2022-05-10T10:37:28.224Z"
   },
   {
    "duration": 9,
    "start_time": "2022-05-10T10:37:28.240Z"
   },
   {
    "duration": 11,
    "start_time": "2022-05-10T10:37:28.250Z"
   },
   {
    "duration": 52,
    "start_time": "2022-05-10T10:39:53.847Z"
   },
   {
    "duration": 3,
    "start_time": "2022-05-10T10:40:54.732Z"
   },
   {
    "duration": 38,
    "start_time": "2022-05-10T10:40:54.736Z"
   },
   {
    "duration": 17,
    "start_time": "2022-05-10T10:40:54.776Z"
   },
   {
    "duration": 20,
    "start_time": "2022-05-10T10:40:54.794Z"
   },
   {
    "duration": 17,
    "start_time": "2022-05-10T10:40:54.816Z"
   },
   {
    "duration": 7,
    "start_time": "2022-05-10T10:40:54.835Z"
   },
   {
    "duration": 13,
    "start_time": "2022-05-10T10:40:54.843Z"
   },
   {
    "duration": 7,
    "start_time": "2022-05-10T10:40:54.857Z"
   },
   {
    "duration": 6,
    "start_time": "2022-05-10T10:40:54.893Z"
   },
   {
    "duration": 14,
    "start_time": "2022-05-10T10:40:54.900Z"
   },
   {
    "duration": 22,
    "start_time": "2022-05-10T10:40:54.917Z"
   },
   {
    "duration": 6,
    "start_time": "2022-05-10T10:40:54.941Z"
   },
   {
    "duration": 49,
    "start_time": "2022-05-10T10:40:54.948Z"
   },
   {
    "duration": 11,
    "start_time": "2022-05-10T10:40:54.999Z"
   },
   {
    "duration": 12,
    "start_time": "2022-05-10T10:40:55.012Z"
   },
   {
    "duration": 3,
    "start_time": "2022-05-10T10:40:55.026Z"
   },
   {
    "duration": 14,
    "start_time": "2022-05-10T10:40:55.031Z"
   },
   {
    "duration": 17,
    "start_time": "2022-05-10T10:40:55.046Z"
   },
   {
    "duration": 31,
    "start_time": "2022-05-10T10:40:55.065Z"
   },
   {
    "duration": 15,
    "start_time": "2022-05-10T10:40:55.097Z"
   },
   {
    "duration": 7,
    "start_time": "2022-05-10T10:40:55.114Z"
   },
   {
    "duration": 9,
    "start_time": "2022-05-10T10:40:55.122Z"
   },
   {
    "duration": 10,
    "start_time": "2022-05-10T10:40:55.133Z"
   },
   {
    "duration": 16,
    "start_time": "2022-05-10T10:40:55.145Z"
   },
   {
    "duration": 33,
    "start_time": "2022-05-10T10:40:55.163Z"
   },
   {
    "duration": 17,
    "start_time": "2022-05-10T10:40:55.198Z"
   },
   {
    "duration": 5,
    "start_time": "2022-05-10T10:40:55.217Z"
   },
   {
    "duration": 23,
    "start_time": "2022-05-10T10:40:55.223Z"
   },
   {
    "duration": 187,
    "start_time": "2022-05-10T10:40:55.249Z"
   },
   {
    "duration": 111,
    "start_time": "2022-05-10T10:40:55.439Z"
   },
   {
    "duration": 11,
    "start_time": "2022-05-10T10:40:55.552Z"
   },
   {
    "duration": 201,
    "start_time": "2022-05-10T10:40:55.565Z"
   },
   {
    "duration": 4,
    "start_time": "2022-05-10T10:40:55.768Z"
   },
   {
    "duration": 432,
    "start_time": "2022-05-10T10:41:01.880Z"
   },
   {
    "duration": 50,
    "start_time": "2022-05-10T10:41:33.689Z"
   },
   {
    "duration": 31,
    "start_time": "2022-05-10T10:43:04.641Z"
   },
   {
    "duration": 8,
    "start_time": "2022-05-10T10:43:27.256Z"
   },
   {
    "duration": 30,
    "start_time": "2022-05-10T10:43:41.345Z"
   },
   {
    "duration": 32,
    "start_time": "2022-05-10T10:44:53.527Z"
   },
   {
    "duration": 141,
    "start_time": "2022-05-10T10:44:59.346Z"
   },
   {
    "duration": 8,
    "start_time": "2022-05-10T10:46:25.233Z"
   },
   {
    "duration": 31,
    "start_time": "2022-05-10T10:46:28.395Z"
   },
   {
    "duration": 4,
    "start_time": "2022-05-10T10:51:10.698Z"
   },
   {
    "duration": 33,
    "start_time": "2022-05-10T10:51:13.981Z"
   },
   {
    "duration": 152,
    "start_time": "2022-05-10T10:51:35.358Z"
   },
   {
    "duration": 31,
    "start_time": "2022-05-10T10:51:44.594Z"
   },
   {
    "duration": 1187,
    "start_time": "2022-05-10T10:52:13.791Z"
   },
   {
    "duration": 45,
    "start_time": "2022-05-10T10:52:14.980Z"
   },
   {
    "duration": 24,
    "start_time": "2022-05-10T10:52:15.027Z"
   },
   {
    "duration": 17,
    "start_time": "2022-05-10T10:52:15.054Z"
   },
   {
    "duration": 15,
    "start_time": "2022-05-10T10:52:15.093Z"
   },
   {
    "duration": 6,
    "start_time": "2022-05-10T10:52:15.109Z"
   },
   {
    "duration": 6,
    "start_time": "2022-05-10T10:52:15.116Z"
   },
   {
    "duration": 4,
    "start_time": "2022-05-10T10:52:15.124Z"
   },
   {
    "duration": 7,
    "start_time": "2022-05-10T10:52:15.130Z"
   },
   {
    "duration": 13,
    "start_time": "2022-05-10T10:52:15.140Z"
   },
   {
    "duration": 57,
    "start_time": "2022-05-10T10:52:15.155Z"
   },
   {
    "duration": 6,
    "start_time": "2022-05-10T10:52:15.213Z"
   },
   {
    "duration": 12,
    "start_time": "2022-05-10T10:52:15.220Z"
   },
   {
    "duration": 12,
    "start_time": "2022-05-10T10:52:15.234Z"
   },
   {
    "duration": 10,
    "start_time": "2022-05-10T10:52:15.248Z"
   },
   {
    "duration": 4,
    "start_time": "2022-05-10T10:52:15.293Z"
   },
   {
    "duration": 21,
    "start_time": "2022-05-10T10:52:15.298Z"
   },
   {
    "duration": 15,
    "start_time": "2022-05-10T10:52:15.320Z"
   },
   {
    "duration": 12,
    "start_time": "2022-05-10T10:52:15.337Z"
   },
   {
    "duration": 21,
    "start_time": "2022-05-10T10:52:15.351Z"
   },
   {
    "duration": 7,
    "start_time": "2022-05-10T10:52:15.374Z"
   },
   {
    "duration": 18,
    "start_time": "2022-05-10T10:52:15.383Z"
   },
   {
    "duration": 12,
    "start_time": "2022-05-10T10:52:15.403Z"
   },
   {
    "duration": 14,
    "start_time": "2022-05-10T10:52:15.417Z"
   },
   {
    "duration": 9,
    "start_time": "2022-05-10T10:52:15.433Z"
   },
   {
    "duration": 18,
    "start_time": "2022-05-10T10:52:15.444Z"
   },
   {
    "duration": 4,
    "start_time": "2022-05-10T10:52:15.464Z"
   },
   {
    "duration": 30,
    "start_time": "2022-05-10T10:52:15.472Z"
   },
   {
    "duration": 154,
    "start_time": "2022-05-10T10:52:15.504Z"
   },
   {
    "duration": 107,
    "start_time": "2022-05-10T10:52:15.659Z"
   },
   {
    "duration": 11,
    "start_time": "2022-05-10T10:52:15.767Z"
   },
   {
    "duration": 166,
    "start_time": "2022-05-10T10:52:15.793Z"
   },
   {
    "duration": 4,
    "start_time": "2022-05-10T10:52:15.961Z"
   },
   {
    "duration": 283,
    "start_time": "2022-05-10T10:52:15.966Z"
   },
   {
    "duration": 96,
    "start_time": "2022-05-10T10:52:16.251Z"
   },
   {
    "duration": 0,
    "start_time": "2022-05-10T10:52:16.348Z"
   },
   {
    "duration": 0,
    "start_time": "2022-05-10T10:52:16.349Z"
   },
   {
    "duration": 0,
    "start_time": "2022-05-10T10:52:16.351Z"
   },
   {
    "duration": 0,
    "start_time": "2022-05-10T10:52:16.352Z"
   },
   {
    "duration": 0,
    "start_time": "2022-05-10T10:52:16.354Z"
   },
   {
    "duration": 0,
    "start_time": "2022-05-10T10:52:16.355Z"
   },
   {
    "duration": 0,
    "start_time": "2022-05-10T10:52:16.356Z"
   },
   {
    "duration": 0,
    "start_time": "2022-05-10T10:52:16.357Z"
   },
   {
    "duration": 0,
    "start_time": "2022-05-10T10:52:16.358Z"
   },
   {
    "duration": 0,
    "start_time": "2022-05-10T10:52:16.359Z"
   },
   {
    "duration": 0,
    "start_time": "2022-05-10T10:52:16.360Z"
   },
   {
    "duration": 0,
    "start_time": "2022-05-10T10:52:16.361Z"
   },
   {
    "duration": 0,
    "start_time": "2022-05-10T10:52:16.362Z"
   },
   {
    "duration": 0,
    "start_time": "2022-05-10T10:52:16.363Z"
   },
   {
    "duration": 0,
    "start_time": "2022-05-10T10:52:16.364Z"
   },
   {
    "duration": 0,
    "start_time": "2022-05-10T10:52:16.392Z"
   },
   {
    "duration": 0,
    "start_time": "2022-05-10T10:52:16.394Z"
   },
   {
    "duration": 0,
    "start_time": "2022-05-10T10:52:16.395Z"
   },
   {
    "duration": 0,
    "start_time": "2022-05-10T10:52:16.396Z"
   },
   {
    "duration": 0,
    "start_time": "2022-05-10T10:52:16.397Z"
   },
   {
    "duration": 0,
    "start_time": "2022-05-10T10:52:16.398Z"
   },
   {
    "duration": 0,
    "start_time": "2022-05-10T10:52:16.399Z"
   },
   {
    "duration": 0,
    "start_time": "2022-05-10T10:52:16.400Z"
   },
   {
    "duration": 0,
    "start_time": "2022-05-10T10:52:16.401Z"
   },
   {
    "duration": 0,
    "start_time": "2022-05-10T10:52:16.402Z"
   },
   {
    "duration": 0,
    "start_time": "2022-05-10T10:52:16.403Z"
   },
   {
    "duration": 0,
    "start_time": "2022-05-10T10:52:16.404Z"
   },
   {
    "duration": 0,
    "start_time": "2022-05-10T10:52:16.405Z"
   },
   {
    "duration": 0,
    "start_time": "2022-05-10T10:52:16.406Z"
   },
   {
    "duration": 0,
    "start_time": "2022-05-10T10:52:16.407Z"
   },
   {
    "duration": 0,
    "start_time": "2022-05-10T10:52:16.408Z"
   },
   {
    "duration": 0,
    "start_time": "2022-05-10T10:52:16.409Z"
   },
   {
    "duration": 0,
    "start_time": "2022-05-10T10:52:16.410Z"
   },
   {
    "duration": 0,
    "start_time": "2022-05-10T10:52:16.411Z"
   },
   {
    "duration": 0,
    "start_time": "2022-05-10T10:52:16.412Z"
   },
   {
    "duration": 8,
    "start_time": "2022-05-10T10:53:47.102Z"
   },
   {
    "duration": 34,
    "start_time": "2022-05-10T10:53:53.013Z"
   },
   {
    "duration": 34,
    "start_time": "2022-05-10T10:54:00.986Z"
   },
   {
    "duration": 9,
    "start_time": "2022-05-10T10:57:08.438Z"
   },
   {
    "duration": 33,
    "start_time": "2022-05-10T10:57:10.777Z"
   },
   {
    "duration": 7,
    "start_time": "2022-05-10T11:07:31.738Z"
   },
   {
    "duration": 32,
    "start_time": "2022-05-10T11:07:33.625Z"
   },
   {
    "duration": 9,
    "start_time": "2022-05-10T11:10:55.585Z"
   },
   {
    "duration": 8,
    "start_time": "2022-05-10T11:18:19.194Z"
   },
   {
    "duration": 37,
    "start_time": "2022-05-10T11:18:21.045Z"
   },
   {
    "duration": 6,
    "start_time": "2022-05-10T11:18:36.130Z"
   },
   {
    "duration": 31,
    "start_time": "2022-05-10T11:18:37.198Z"
   },
   {
    "duration": 14,
    "start_time": "2022-05-10T11:19:02.637Z"
   },
   {
    "duration": 6,
    "start_time": "2022-05-10T11:19:42.477Z"
   },
   {
    "duration": 14,
    "start_time": "2022-05-10T11:19:44.746Z"
   },
   {
    "duration": 9,
    "start_time": "2022-05-10T11:20:01.866Z"
   },
   {
    "duration": 24,
    "start_time": "2022-05-10T11:20:04.041Z"
   },
   {
    "duration": 6,
    "start_time": "2022-05-10T11:20:25.017Z"
   },
   {
    "duration": 6,
    "start_time": "2022-05-10T11:20:33.928Z"
   },
   {
    "duration": 13,
    "start_time": "2022-05-10T11:20:36.115Z"
   },
   {
    "duration": 30,
    "start_time": "2022-05-10T11:20:45.714Z"
   },
   {
    "duration": 5,
    "start_time": "2022-05-10T11:21:34.042Z"
   },
   {
    "duration": 1234,
    "start_time": "2022-05-10T11:22:02.447Z"
   },
   {
    "duration": 40,
    "start_time": "2022-05-10T11:22:03.683Z"
   },
   {
    "duration": 34,
    "start_time": "2022-05-10T11:22:03.725Z"
   },
   {
    "duration": 40,
    "start_time": "2022-05-10T11:22:03.762Z"
   },
   {
    "duration": 29,
    "start_time": "2022-05-10T11:22:03.805Z"
   },
   {
    "duration": 8,
    "start_time": "2022-05-10T11:22:03.835Z"
   },
   {
    "duration": 10,
    "start_time": "2022-05-10T11:22:03.846Z"
   },
   {
    "duration": 6,
    "start_time": "2022-05-10T11:22:03.858Z"
   },
   {
    "duration": 29,
    "start_time": "2022-05-10T11:22:03.866Z"
   },
   {
    "duration": 21,
    "start_time": "2022-05-10T11:22:03.899Z"
   },
   {
    "duration": 32,
    "start_time": "2022-05-10T11:22:03.922Z"
   },
   {
    "duration": 7,
    "start_time": "2022-05-10T11:22:03.956Z"
   },
   {
    "duration": 19,
    "start_time": "2022-05-10T11:22:03.992Z"
   },
   {
    "duration": 17,
    "start_time": "2022-05-10T11:22:04.013Z"
   },
   {
    "duration": 15,
    "start_time": "2022-05-10T11:22:04.033Z"
   },
   {
    "duration": 4,
    "start_time": "2022-05-10T11:22:04.050Z"
   },
   {
    "duration": 38,
    "start_time": "2022-05-10T11:22:04.056Z"
   },
   {
    "duration": 15,
    "start_time": "2022-05-10T11:22:04.096Z"
   },
   {
    "duration": 20,
    "start_time": "2022-05-10T11:22:04.114Z"
   },
   {
    "duration": 20,
    "start_time": "2022-05-10T11:22:04.136Z"
   },
   {
    "duration": 9,
    "start_time": "2022-05-10T11:22:04.158Z"
   },
   {
    "duration": 32,
    "start_time": "2022-05-10T11:22:04.168Z"
   },
   {
    "duration": 7,
    "start_time": "2022-05-10T11:22:04.202Z"
   },
   {
    "duration": 16,
    "start_time": "2022-05-10T11:22:04.211Z"
   },
   {
    "duration": 16,
    "start_time": "2022-05-10T11:22:04.229Z"
   },
   {
    "duration": 14,
    "start_time": "2022-05-10T11:22:04.247Z"
   },
   {
    "duration": 5,
    "start_time": "2022-05-10T11:22:04.263Z"
   },
   {
    "duration": 16,
    "start_time": "2022-05-10T11:22:04.296Z"
   },
   {
    "duration": 164,
    "start_time": "2022-05-10T11:22:04.314Z"
   },
   {
    "duration": 99,
    "start_time": "2022-05-10T11:22:04.480Z"
   },
   {
    "duration": 20,
    "start_time": "2022-05-10T11:22:04.581Z"
   },
   {
    "duration": 182,
    "start_time": "2022-05-10T11:22:04.603Z"
   },
   {
    "duration": 7,
    "start_time": "2022-05-10T11:22:04.788Z"
   },
   {
    "duration": 308,
    "start_time": "2022-05-10T11:22:04.797Z"
   },
   {
    "duration": 7,
    "start_time": "2022-05-10T11:22:05.107Z"
   },
   {
    "duration": 40,
    "start_time": "2022-05-10T11:22:05.115Z"
   },
   {
    "duration": 281,
    "start_time": "2022-05-10T11:22:05.157Z"
   },
   {
    "duration": 7,
    "start_time": "2022-05-10T11:22:05.440Z"
   },
   {
    "duration": 1016,
    "start_time": "2022-05-10T11:22:05.448Z"
   },
   {
    "duration": 11,
    "start_time": "2022-05-10T11:22:06.465Z"
   },
   {
    "duration": 1018,
    "start_time": "2022-05-10T11:22:06.478Z"
   },
   {
    "duration": 11,
    "start_time": "2022-05-10T11:22:07.498Z"
   },
   {
    "duration": 14,
    "start_time": "2022-05-10T11:22:07.511Z"
   },
   {
    "duration": 18,
    "start_time": "2022-05-10T11:22:07.527Z"
   },
   {
    "duration": 335,
    "start_time": "2022-05-10T11:22:07.547Z"
   },
   {
    "duration": 24,
    "start_time": "2022-05-10T11:22:07.883Z"
   },
   {
    "duration": 169,
    "start_time": "2022-05-10T11:22:07.909Z"
   },
   {
    "duration": 112,
    "start_time": "2022-05-10T11:22:08.080Z"
   },
   {
    "duration": 18,
    "start_time": "2022-05-10T11:22:08.194Z"
   },
   {
    "duration": 163,
    "start_time": "2022-05-10T11:22:08.214Z"
   },
   {
    "duration": 235,
    "start_time": "2022-05-10T11:22:08.379Z"
   },
   {
    "duration": 18,
    "start_time": "2022-05-10T11:22:08.616Z"
   },
   {
    "duration": 167,
    "start_time": "2022-05-10T11:22:08.636Z"
   },
   {
    "duration": 103,
    "start_time": "2022-05-10T11:22:08.805Z"
   },
   {
    "duration": 17,
    "start_time": "2022-05-10T11:22:08.910Z"
   },
   {
    "duration": 181,
    "start_time": "2022-05-10T11:22:08.928Z"
   },
   {
    "duration": 136,
    "start_time": "2022-05-10T11:22:09.110Z"
   },
   {
    "duration": 16,
    "start_time": "2022-05-10T11:22:09.248Z"
   },
   {
    "duration": 186,
    "start_time": "2022-05-10T11:22:09.265Z"
   },
   {
    "duration": 117,
    "start_time": "2022-05-10T11:22:09.452Z"
   },
   {
    "duration": 26,
    "start_time": "2022-05-10T11:22:09.571Z"
   },
   {
    "duration": 153,
    "start_time": "2022-05-10T11:22:09.598Z"
   },
   {
    "duration": 109,
    "start_time": "2022-05-10T11:22:09.752Z"
   },
   {
    "duration": 9,
    "start_time": "2022-05-10T11:22:09.863Z"
   },
   {
    "duration": 23,
    "start_time": "2022-05-10T11:22:09.874Z"
   },
   {
    "duration": 6,
    "start_time": "2022-05-10T11:22:09.899Z"
   },
   {
    "duration": 17,
    "start_time": "2022-05-10T11:22:09.906Z"
   },
   {
    "duration": 13,
    "start_time": "2022-05-10T11:22:09.925Z"
   },
   {
    "duration": 10,
    "start_time": "2022-05-10T11:22:09.939Z"
   },
   {
    "duration": 1206,
    "start_time": "2022-05-10T11:47:01.097Z"
   },
   {
    "duration": 42,
    "start_time": "2022-05-10T11:47:02.306Z"
   },
   {
    "duration": 20,
    "start_time": "2022-05-10T11:47:02.350Z"
   },
   {
    "duration": 21,
    "start_time": "2022-05-10T11:47:02.372Z"
   },
   {
    "duration": 19,
    "start_time": "2022-05-10T11:47:02.395Z"
   },
   {
    "duration": 13,
    "start_time": "2022-05-10T11:47:02.416Z"
   },
   {
    "duration": 14,
    "start_time": "2022-05-10T11:47:02.431Z"
   },
   {
    "duration": 7,
    "start_time": "2022-05-10T11:47:02.447Z"
   },
   {
    "duration": 10,
    "start_time": "2022-05-10T11:47:02.455Z"
   },
   {
    "duration": 14,
    "start_time": "2022-05-10T11:47:02.467Z"
   },
   {
    "duration": 21,
    "start_time": "2022-05-10T11:47:02.492Z"
   },
   {
    "duration": 5,
    "start_time": "2022-05-10T11:47:02.515Z"
   },
   {
    "duration": 14,
    "start_time": "2022-05-10T11:47:02.522Z"
   },
   {
    "duration": 10,
    "start_time": "2022-05-10T11:47:02.538Z"
   },
   {
    "duration": 12,
    "start_time": "2022-05-10T11:47:02.550Z"
   },
   {
    "duration": 32,
    "start_time": "2022-05-10T11:47:02.563Z"
   },
   {
    "duration": 15,
    "start_time": "2022-05-10T11:47:02.597Z"
   },
   {
    "duration": 13,
    "start_time": "2022-05-10T11:47:02.613Z"
   },
   {
    "duration": 21,
    "start_time": "2022-05-10T11:47:02.627Z"
   },
   {
    "duration": 22,
    "start_time": "2022-05-10T11:47:02.650Z"
   },
   {
    "duration": 7,
    "start_time": "2022-05-10T11:47:02.674Z"
   },
   {
    "duration": 17,
    "start_time": "2022-05-10T11:47:02.682Z"
   },
   {
    "duration": 27,
    "start_time": "2022-05-10T11:47:02.701Z"
   },
   {
    "duration": 36,
    "start_time": "2022-05-10T11:47:02.730Z"
   },
   {
    "duration": 13,
    "start_time": "2022-05-10T11:47:02.768Z"
   },
   {
    "duration": 18,
    "start_time": "2022-05-10T11:47:02.783Z"
   },
   {
    "duration": 11,
    "start_time": "2022-05-10T11:47:02.802Z"
   },
   {
    "duration": 25,
    "start_time": "2022-05-10T11:47:02.817Z"
   },
   {
    "duration": 153,
    "start_time": "2022-05-10T11:47:02.843Z"
   },
   {
    "duration": 97,
    "start_time": "2022-05-10T11:47:02.998Z"
   },
   {
    "duration": 11,
    "start_time": "2022-05-10T11:47:03.097Z"
   },
   {
    "duration": 175,
    "start_time": "2022-05-10T11:47:03.109Z"
   },
   {
    "duration": 8,
    "start_time": "2022-05-10T11:47:03.286Z"
   },
   {
    "duration": 270,
    "start_time": "2022-05-10T11:47:03.295Z"
   },
   {
    "duration": 6,
    "start_time": "2022-05-10T11:47:03.567Z"
   },
   {
    "duration": 27,
    "start_time": "2022-05-10T11:47:03.574Z"
   },
   {
    "duration": 262,
    "start_time": "2022-05-10T11:47:03.602Z"
   },
   {
    "duration": 6,
    "start_time": "2022-05-10T11:47:03.866Z"
   },
   {
    "duration": 1046,
    "start_time": "2022-05-10T11:47:03.874Z"
   },
   {
    "duration": 10,
    "start_time": "2022-05-10T11:47:04.922Z"
   },
   {
    "duration": 988,
    "start_time": "2022-05-10T11:47:04.934Z"
   },
   {
    "duration": 11,
    "start_time": "2022-05-10T11:47:05.924Z"
   },
   {
    "duration": 19,
    "start_time": "2022-05-10T11:47:05.937Z"
   },
   {
    "duration": 19,
    "start_time": "2022-05-10T11:47:05.958Z"
   },
   {
    "duration": 275,
    "start_time": "2022-05-10T11:47:05.992Z"
   },
   {
    "duration": 25,
    "start_time": "2022-05-10T11:47:06.268Z"
   },
   {
    "duration": 141,
    "start_time": "2022-05-10T11:47:06.295Z"
   },
   {
    "duration": 105,
    "start_time": "2022-05-10T11:47:06.438Z"
   },
   {
    "duration": 17,
    "start_time": "2022-05-10T11:47:06.545Z"
   },
   {
    "duration": 160,
    "start_time": "2022-05-10T11:47:06.564Z"
   },
   {
    "duration": 175,
    "start_time": "2022-05-10T11:47:06.726Z"
   },
   {
    "duration": 17,
    "start_time": "2022-05-10T11:47:06.902Z"
   },
   {
    "duration": 138,
    "start_time": "2022-05-10T11:47:06.920Z"
   },
   {
    "duration": 111,
    "start_time": "2022-05-10T11:47:07.060Z"
   },
   {
    "duration": 28,
    "start_time": "2022-05-10T11:47:07.173Z"
   },
   {
    "duration": 154,
    "start_time": "2022-05-10T11:47:07.203Z"
   },
   {
    "duration": 105,
    "start_time": "2022-05-10T11:47:07.359Z"
   },
   {
    "duration": 16,
    "start_time": "2022-05-10T11:47:07.465Z"
   },
   {
    "duration": 159,
    "start_time": "2022-05-10T11:47:07.492Z"
   },
   {
    "duration": 120,
    "start_time": "2022-05-10T11:47:07.654Z"
   },
   {
    "duration": 27,
    "start_time": "2022-05-10T11:47:07.776Z"
   },
   {
    "duration": 153,
    "start_time": "2022-05-10T11:47:07.805Z"
   },
   {
    "duration": 114,
    "start_time": "2022-05-10T11:47:07.960Z"
   },
   {
    "duration": 17,
    "start_time": "2022-05-10T11:47:08.076Z"
   },
   {
    "duration": 10,
    "start_time": "2022-05-10T11:47:08.094Z"
   },
   {
    "duration": 7,
    "start_time": "2022-05-10T11:47:08.105Z"
   },
   {
    "duration": 14,
    "start_time": "2022-05-10T11:47:08.114Z"
   },
   {
    "duration": 10,
    "start_time": "2022-05-10T11:47:08.131Z"
   },
   {
    "duration": 10,
    "start_time": "2022-05-10T11:47:08.144Z"
   },
   {
    "duration": 11,
    "start_time": "2022-05-10T11:51:58.686Z"
   },
   {
    "duration": 10,
    "start_time": "2022-05-10T12:02:52.256Z"
   },
   {
    "duration": 16,
    "start_time": "2022-05-10T12:03:11.391Z"
   },
   {
    "duration": 13,
    "start_time": "2022-05-10T12:04:36.296Z"
   },
   {
    "duration": 14,
    "start_time": "2022-05-10T12:05:00.886Z"
   },
   {
    "duration": 4,
    "start_time": "2022-05-10T12:33:06.837Z"
   },
   {
    "duration": 9,
    "start_time": "2022-05-10T12:33:11.684Z"
   },
   {
    "duration": 7,
    "start_time": "2022-05-10T12:33:13.804Z"
   },
   {
    "duration": 14,
    "start_time": "2022-05-10T12:33:16.214Z"
   },
   {
    "duration": 9,
    "start_time": "2022-05-10T12:50:51.094Z"
   },
   {
    "duration": 13,
    "start_time": "2022-05-10T12:52:05.407Z"
   },
   {
    "duration": 1257,
    "start_time": "2022-05-10T12:55:14.454Z"
   },
   {
    "duration": 39,
    "start_time": "2022-05-10T12:55:15.713Z"
   },
   {
    "duration": 22,
    "start_time": "2022-05-10T12:55:15.753Z"
   },
   {
    "duration": 25,
    "start_time": "2022-05-10T12:55:15.777Z"
   },
   {
    "duration": 24,
    "start_time": "2022-05-10T12:55:15.803Z"
   },
   {
    "duration": 6,
    "start_time": "2022-05-10T12:55:15.829Z"
   },
   {
    "duration": 8,
    "start_time": "2022-05-10T12:55:15.836Z"
   },
   {
    "duration": 5,
    "start_time": "2022-05-10T12:55:15.846Z"
   },
   {
    "duration": 17,
    "start_time": "2022-05-10T12:55:15.853Z"
   },
   {
    "duration": 42,
    "start_time": "2022-05-10T12:55:15.872Z"
   },
   {
    "duration": 50,
    "start_time": "2022-05-10T12:55:15.916Z"
   },
   {
    "duration": 8,
    "start_time": "2022-05-10T12:55:15.968Z"
   },
   {
    "duration": 17,
    "start_time": "2022-05-10T12:55:15.978Z"
   },
   {
    "duration": 21,
    "start_time": "2022-05-10T12:55:15.996Z"
   },
   {
    "duration": 15,
    "start_time": "2022-05-10T12:55:16.020Z"
   },
   {
    "duration": 6,
    "start_time": "2022-05-10T12:55:16.037Z"
   },
   {
    "duration": 8,
    "start_time": "2022-05-10T12:55:16.045Z"
   },
   {
    "duration": 14,
    "start_time": "2022-05-10T12:55:16.055Z"
   },
   {
    "duration": 38,
    "start_time": "2022-05-10T12:55:16.070Z"
   },
   {
    "duration": 18,
    "start_time": "2022-05-10T12:55:16.110Z"
   },
   {
    "duration": 6,
    "start_time": "2022-05-10T12:55:16.130Z"
   },
   {
    "duration": 8,
    "start_time": "2022-05-10T12:55:16.138Z"
   },
   {
    "duration": 17,
    "start_time": "2022-05-10T12:55:16.148Z"
   },
   {
    "duration": 18,
    "start_time": "2022-05-10T12:55:16.166Z"
   },
   {
    "duration": 19,
    "start_time": "2022-05-10T12:55:16.185Z"
   },
   {
    "duration": 21,
    "start_time": "2022-05-10T12:55:16.206Z"
   },
   {
    "duration": 4,
    "start_time": "2022-05-10T12:55:16.229Z"
   },
   {
    "duration": 17,
    "start_time": "2022-05-10T12:55:16.237Z"
   },
   {
    "duration": 174,
    "start_time": "2022-05-10T12:55:16.256Z"
   },
   {
    "duration": 113,
    "start_time": "2022-05-10T12:55:16.432Z"
   },
   {
    "duration": 11,
    "start_time": "2022-05-10T12:55:16.547Z"
   },
   {
    "duration": 191,
    "start_time": "2022-05-10T12:55:16.560Z"
   },
   {
    "duration": 4,
    "start_time": "2022-05-10T12:55:16.752Z"
   },
   {
    "duration": 319,
    "start_time": "2022-05-10T12:55:16.758Z"
   },
   {
    "duration": 6,
    "start_time": "2022-05-10T12:55:17.079Z"
   },
   {
    "duration": 35,
    "start_time": "2022-05-10T12:55:17.087Z"
   },
   {
    "duration": 274,
    "start_time": "2022-05-10T12:55:17.124Z"
   },
   {
    "duration": 7,
    "start_time": "2022-05-10T12:55:17.401Z"
   },
   {
    "duration": 1063,
    "start_time": "2022-05-10T12:55:17.410Z"
   },
   {
    "duration": 18,
    "start_time": "2022-05-10T12:55:18.475Z"
   },
   {
    "duration": 1020,
    "start_time": "2022-05-10T12:55:18.496Z"
   },
   {
    "duration": 11,
    "start_time": "2022-05-10T12:55:19.518Z"
   },
   {
    "duration": 14,
    "start_time": "2022-05-10T12:55:19.530Z"
   },
   {
    "duration": 13,
    "start_time": "2022-05-10T12:55:19.545Z"
   },
   {
    "duration": 313,
    "start_time": "2022-05-10T12:55:19.560Z"
   },
   {
    "duration": 29,
    "start_time": "2022-05-10T12:55:19.875Z"
   },
   {
    "duration": 150,
    "start_time": "2022-05-10T12:55:19.906Z"
   },
   {
    "duration": 109,
    "start_time": "2022-05-10T12:55:20.058Z"
   },
   {
    "duration": 25,
    "start_time": "2022-05-10T12:55:20.169Z"
   },
   {
    "duration": 155,
    "start_time": "2022-05-10T12:55:20.196Z"
   },
   {
    "duration": 202,
    "start_time": "2022-05-10T12:55:20.352Z"
   },
   {
    "duration": 17,
    "start_time": "2022-05-10T12:55:20.556Z"
   },
   {
    "duration": 175,
    "start_time": "2022-05-10T12:55:20.575Z"
   },
   {
    "duration": 110,
    "start_time": "2022-05-10T12:55:20.752Z"
   },
   {
    "duration": 30,
    "start_time": "2022-05-10T12:55:20.864Z"
   },
   {
    "duration": 166,
    "start_time": "2022-05-10T12:55:20.896Z"
   },
   {
    "duration": 115,
    "start_time": "2022-05-10T12:55:21.064Z"
   },
   {
    "duration": 30,
    "start_time": "2022-05-10T12:55:21.181Z"
   },
   {
    "duration": 157,
    "start_time": "2022-05-10T12:55:21.213Z"
   },
   {
    "duration": 109,
    "start_time": "2022-05-10T12:55:21.372Z"
   },
   {
    "duration": 26,
    "start_time": "2022-05-10T12:55:21.482Z"
   },
   {
    "duration": 162,
    "start_time": "2022-05-10T12:55:21.511Z"
   },
   {
    "duration": 130,
    "start_time": "2022-05-10T12:55:21.675Z"
   },
   {
    "duration": 3,
    "start_time": "2022-05-10T12:55:21.807Z"
   },
   {
    "duration": 10,
    "start_time": "2022-05-10T12:55:21.812Z"
   },
   {
    "duration": 7,
    "start_time": "2022-05-10T12:55:21.823Z"
   },
   {
    "duration": 14,
    "start_time": "2022-05-10T12:55:21.831Z"
   },
   {
    "duration": 11,
    "start_time": "2022-05-10T12:55:21.847Z"
   },
   {
    "duration": 36,
    "start_time": "2022-05-10T12:55:21.860Z"
   },
   {
    "duration": 53,
    "start_time": "2022-05-10T19:08:57.090Z"
   },
   {
    "duration": 1396,
    "start_time": "2022-05-10T19:09:14.868Z"
   },
   {
    "duration": 55,
    "start_time": "2022-05-10T19:09:16.266Z"
   },
   {
    "duration": 25,
    "start_time": "2022-05-10T19:09:16.323Z"
   },
   {
    "duration": 19,
    "start_time": "2022-05-10T19:09:16.350Z"
   },
   {
    "duration": 18,
    "start_time": "2022-05-10T19:09:16.371Z"
   },
   {
    "duration": 7,
    "start_time": "2022-05-10T19:09:16.390Z"
   },
   {
    "duration": 38,
    "start_time": "2022-05-10T19:09:16.398Z"
   },
   {
    "duration": 4,
    "start_time": "2022-05-10T19:09:16.438Z"
   },
   {
    "duration": 14,
    "start_time": "2022-05-10T19:09:16.444Z"
   },
   {
    "duration": 16,
    "start_time": "2022-05-10T19:09:16.460Z"
   },
   {
    "duration": 27,
    "start_time": "2022-05-10T19:09:16.478Z"
   },
   {
    "duration": 8,
    "start_time": "2022-05-10T19:09:16.534Z"
   },
   {
    "duration": 15,
    "start_time": "2022-05-10T19:09:16.544Z"
   },
   {
    "duration": 12,
    "start_time": "2022-05-10T19:09:16.563Z"
   },
   {
    "duration": 11,
    "start_time": "2022-05-10T19:09:16.577Z"
   },
   {
    "duration": 3,
    "start_time": "2022-05-10T19:09:16.590Z"
   },
   {
    "duration": 44,
    "start_time": "2022-05-10T19:09:16.595Z"
   },
   {
    "duration": 12,
    "start_time": "2022-05-10T19:09:16.641Z"
   },
   {
    "duration": 18,
    "start_time": "2022-05-10T19:09:16.655Z"
   },
   {
    "duration": 15,
    "start_time": "2022-05-10T19:09:16.675Z"
   },
   {
    "duration": 7,
    "start_time": "2022-05-10T19:09:16.692Z"
   },
   {
    "duration": 36,
    "start_time": "2022-05-10T19:09:16.701Z"
   },
   {
    "duration": 5,
    "start_time": "2022-05-10T19:09:16.739Z"
   },
   {
    "duration": 15,
    "start_time": "2022-05-10T19:09:16.745Z"
   },
   {
    "duration": 9,
    "start_time": "2022-05-10T19:09:16.762Z"
   },
   {
    "duration": 16,
    "start_time": "2022-05-10T19:09:16.773Z"
   },
   {
    "duration": 6,
    "start_time": "2022-05-10T19:09:16.791Z"
   },
   {
    "duration": 47,
    "start_time": "2022-05-10T19:09:16.799Z"
   },
   {
    "duration": 181,
    "start_time": "2022-05-10T19:09:16.848Z"
   },
   {
    "duration": 120,
    "start_time": "2022-05-10T19:09:17.033Z"
   },
   {
    "duration": 12,
    "start_time": "2022-05-10T19:09:17.155Z"
   },
   {
    "duration": 209,
    "start_time": "2022-05-10T19:09:17.169Z"
   },
   {
    "duration": 4,
    "start_time": "2022-05-10T19:09:17.380Z"
   },
   {
    "duration": 345,
    "start_time": "2022-05-10T19:09:17.385Z"
   },
   {
    "duration": 6,
    "start_time": "2022-05-10T19:09:17.732Z"
   },
   {
    "duration": 40,
    "start_time": "2022-05-10T19:09:17.739Z"
   },
   {
    "duration": 306,
    "start_time": "2022-05-10T19:09:17.781Z"
   },
   {
    "duration": 7,
    "start_time": "2022-05-10T19:09:18.089Z"
   },
   {
    "duration": 1262,
    "start_time": "2022-05-10T19:09:18.098Z"
   },
   {
    "duration": 12,
    "start_time": "2022-05-10T19:09:19.361Z"
   },
   {
    "duration": 1174,
    "start_time": "2022-05-10T19:09:19.378Z"
   },
   {
    "duration": 12,
    "start_time": "2022-05-10T19:09:20.553Z"
   },
   {
    "duration": 20,
    "start_time": "2022-05-10T19:09:20.566Z"
   },
   {
    "duration": 15,
    "start_time": "2022-05-10T19:09:20.588Z"
   },
   {
    "duration": 348,
    "start_time": "2022-05-10T19:09:20.605Z"
   },
   {
    "duration": 18,
    "start_time": "2022-05-10T19:09:20.954Z"
   },
   {
    "duration": 181,
    "start_time": "2022-05-10T19:09:20.974Z"
   },
   {
    "duration": 139,
    "start_time": "2022-05-10T19:09:21.157Z"
   },
   {
    "duration": 18,
    "start_time": "2022-05-10T19:09:21.297Z"
   },
   {
    "duration": 177,
    "start_time": "2022-05-10T19:09:21.334Z"
   },
   {
    "duration": 198,
    "start_time": "2022-05-10T19:09:21.513Z"
   },
   {
    "duration": 29,
    "start_time": "2022-05-10T19:09:21.712Z"
   },
   {
    "duration": 166,
    "start_time": "2022-05-10T19:09:21.743Z"
   },
   {
    "duration": 128,
    "start_time": "2022-05-10T19:09:21.911Z"
   },
   {
    "duration": 19,
    "start_time": "2022-05-10T19:09:22.040Z"
   },
   {
    "duration": 202,
    "start_time": "2022-05-10T19:09:22.060Z"
   },
   {
    "duration": 138,
    "start_time": "2022-05-10T19:09:22.264Z"
   },
   {
    "duration": 19,
    "start_time": "2022-05-10T19:09:22.403Z"
   },
   {
    "duration": 186,
    "start_time": "2022-05-10T19:09:22.434Z"
   },
   {
    "duration": 128,
    "start_time": "2022-05-10T19:09:22.621Z"
   },
   {
    "duration": 19,
    "start_time": "2022-05-10T19:09:22.751Z"
   },
   {
    "duration": 198,
    "start_time": "2022-05-10T19:09:22.772Z"
   },
   {
    "duration": 134,
    "start_time": "2022-05-10T19:09:22.971Z"
   },
   {
    "duration": 4,
    "start_time": "2022-05-10T19:09:23.106Z"
   },
   {
    "duration": 26,
    "start_time": "2022-05-10T19:09:23.112Z"
   },
   {
    "duration": 8,
    "start_time": "2022-05-10T19:09:23.140Z"
   },
   {
    "duration": 28,
    "start_time": "2022-05-10T19:09:23.150Z"
   },
   {
    "duration": 12,
    "start_time": "2022-05-10T19:09:23.180Z"
   },
   {
    "duration": 12,
    "start_time": "2022-05-10T19:09:23.194Z"
   },
   {
    "duration": 1239,
    "start_time": "2022-05-10T19:25:55.310Z"
   },
   {
    "duration": 55,
    "start_time": "2022-05-10T19:25:56.551Z"
   },
   {
    "duration": 23,
    "start_time": "2022-05-10T19:25:56.607Z"
   },
   {
    "duration": 19,
    "start_time": "2022-05-10T19:25:56.633Z"
   },
   {
    "duration": 16,
    "start_time": "2022-05-10T19:25:56.653Z"
   },
   {
    "duration": 10,
    "start_time": "2022-05-10T19:25:56.671Z"
   },
   {
    "duration": 10,
    "start_time": "2022-05-10T19:25:56.682Z"
   },
   {
    "duration": 9,
    "start_time": "2022-05-10T19:25:56.694Z"
   },
   {
    "duration": 30,
    "start_time": "2022-05-10T19:25:56.705Z"
   },
   {
    "duration": 16,
    "start_time": "2022-05-10T19:25:56.739Z"
   },
   {
    "duration": 25,
    "start_time": "2022-05-10T19:25:56.757Z"
   },
   {
    "duration": 7,
    "start_time": "2022-05-10T19:25:56.785Z"
   },
   {
    "duration": 49,
    "start_time": "2022-05-10T19:25:56.794Z"
   },
   {
    "duration": 13,
    "start_time": "2022-05-10T19:25:56.845Z"
   },
   {
    "duration": 12,
    "start_time": "2022-05-10T19:25:56.860Z"
   },
   {
    "duration": 3,
    "start_time": "2022-05-10T19:25:56.874Z"
   },
   {
    "duration": 7,
    "start_time": "2022-05-10T19:25:56.880Z"
   },
   {
    "duration": 48,
    "start_time": "2022-05-10T19:25:56.889Z"
   },
   {
    "duration": 16,
    "start_time": "2022-05-10T19:25:56.940Z"
   },
   {
    "duration": 15,
    "start_time": "2022-05-10T19:25:56.958Z"
   },
   {
    "duration": 8,
    "start_time": "2022-05-10T19:25:56.975Z"
   },
   {
    "duration": 9,
    "start_time": "2022-05-10T19:25:56.985Z"
   },
   {
    "duration": 6,
    "start_time": "2022-05-10T19:25:56.996Z"
   },
   {
    "duration": 12,
    "start_time": "2022-05-10T19:25:57.034Z"
   },
   {
    "duration": 10,
    "start_time": "2022-05-10T19:25:57.048Z"
   },
   {
    "duration": 25,
    "start_time": "2022-05-10T19:25:57.060Z"
   },
   {
    "duration": 7,
    "start_time": "2022-05-10T19:25:57.087Z"
   },
   {
    "duration": 46,
    "start_time": "2022-05-10T19:25:57.100Z"
   },
   {
    "duration": 187,
    "start_time": "2022-05-10T19:25:57.148Z"
   },
   {
    "duration": 118,
    "start_time": "2022-05-10T19:25:57.337Z"
   },
   {
    "duration": 11,
    "start_time": "2022-05-10T19:25:57.457Z"
   },
   {
    "duration": 199,
    "start_time": "2022-05-10T19:25:57.470Z"
   },
   {
    "duration": 4,
    "start_time": "2022-05-10T19:25:57.671Z"
   },
   {
    "duration": 354,
    "start_time": "2022-05-10T19:25:57.676Z"
   },
   {
    "duration": 7,
    "start_time": "2022-05-10T19:25:58.031Z"
   },
   {
    "duration": 38,
    "start_time": "2022-05-10T19:25:58.039Z"
   },
   {
    "duration": 309,
    "start_time": "2022-05-10T19:25:58.078Z"
   },
   {
    "duration": 6,
    "start_time": "2022-05-10T19:25:58.389Z"
   },
   {
    "duration": 1169,
    "start_time": "2022-05-10T19:25:58.397Z"
   },
   {
    "duration": 11,
    "start_time": "2022-05-10T19:25:59.568Z"
   },
   {
    "duration": 1189,
    "start_time": "2022-05-10T19:25:59.581Z"
   },
   {
    "duration": 14,
    "start_time": "2022-05-10T19:26:00.771Z"
   },
   {
    "duration": 17,
    "start_time": "2022-05-10T19:26:00.786Z"
   },
   {
    "duration": 34,
    "start_time": "2022-05-10T19:26:00.804Z"
   },
   {
    "duration": 338,
    "start_time": "2022-05-10T19:26:00.839Z"
   },
   {
    "duration": 18,
    "start_time": "2022-05-10T19:26:01.179Z"
   },
   {
    "duration": 174,
    "start_time": "2022-05-10T19:26:01.199Z"
   },
   {
    "duration": 135,
    "start_time": "2022-05-10T19:26:01.374Z"
   },
   {
    "duration": 27,
    "start_time": "2022-05-10T19:26:01.511Z"
   },
   {
    "duration": 178,
    "start_time": "2022-05-10T19:26:01.540Z"
   },
   {
    "duration": 209,
    "start_time": "2022-05-10T19:26:01.720Z"
   },
   {
    "duration": 19,
    "start_time": "2022-05-10T19:26:01.933Z"
   },
   {
    "duration": 173,
    "start_time": "2022-05-10T19:26:01.954Z"
   },
   {
    "duration": 122,
    "start_time": "2022-05-10T19:26:02.128Z"
   },
   {
    "duration": 18,
    "start_time": "2022-05-10T19:26:02.252Z"
   },
   {
    "duration": 189,
    "start_time": "2022-05-10T19:26:02.272Z"
   },
   {
    "duration": 133,
    "start_time": "2022-05-10T19:26:02.463Z"
   },
   {
    "duration": 18,
    "start_time": "2022-05-10T19:26:02.598Z"
   },
   {
    "duration": 182,
    "start_time": "2022-05-10T19:26:02.633Z"
   },
   {
    "duration": 121,
    "start_time": "2022-05-10T19:26:02.817Z"
   },
   {
    "duration": 18,
    "start_time": "2022-05-10T19:26:02.940Z"
   },
   {
    "duration": 180,
    "start_time": "2022-05-10T19:26:02.960Z"
   },
   {
    "duration": 125,
    "start_time": "2022-05-10T19:26:03.142Z"
   },
   {
    "duration": 3,
    "start_time": "2022-05-10T19:26:03.269Z"
   },
   {
    "duration": 21,
    "start_time": "2022-05-10T19:26:03.274Z"
   },
   {
    "duration": 10,
    "start_time": "2022-05-10T19:26:03.297Z"
   },
   {
    "duration": 25,
    "start_time": "2022-05-10T19:26:03.309Z"
   },
   {
    "duration": 8,
    "start_time": "2022-05-10T19:26:03.336Z"
   },
   {
    "duration": 11,
    "start_time": "2022-05-10T19:26:03.345Z"
   },
   {
    "duration": 1192,
    "start_time": "2022-05-11T09:57:51.891Z"
   },
   {
    "duration": 42,
    "start_time": "2022-05-11T09:57:53.085Z"
   },
   {
    "duration": 22,
    "start_time": "2022-05-11T09:57:53.129Z"
   },
   {
    "duration": 31,
    "start_time": "2022-05-11T09:57:53.154Z"
   },
   {
    "duration": 25,
    "start_time": "2022-05-11T09:57:53.187Z"
   },
   {
    "duration": 6,
    "start_time": "2022-05-11T09:57:53.213Z"
   },
   {
    "duration": 9,
    "start_time": "2022-05-11T09:57:53.221Z"
   },
   {
    "duration": 9,
    "start_time": "2022-05-11T09:57:53.231Z"
   },
   {
    "duration": 14,
    "start_time": "2022-05-11T09:57:53.242Z"
   },
   {
    "duration": 21,
    "start_time": "2022-05-11T09:57:53.277Z"
   },
   {
    "duration": 27,
    "start_time": "2022-05-11T09:57:53.300Z"
   },
   {
    "duration": 8,
    "start_time": "2022-05-11T09:57:53.328Z"
   },
   {
    "duration": 40,
    "start_time": "2022-05-11T09:57:53.338Z"
   },
   {
    "duration": 15,
    "start_time": "2022-05-11T09:57:53.380Z"
   },
   {
    "duration": 19,
    "start_time": "2022-05-11T09:57:53.397Z"
   },
   {
    "duration": 9,
    "start_time": "2022-05-11T09:57:53.417Z"
   },
   {
    "duration": 19,
    "start_time": "2022-05-11T09:57:53.428Z"
   },
   {
    "duration": 18,
    "start_time": "2022-05-11T09:57:53.448Z"
   },
   {
    "duration": 15,
    "start_time": "2022-05-11T09:57:53.468Z"
   },
   {
    "duration": 25,
    "start_time": "2022-05-11T09:57:53.487Z"
   },
   {
    "duration": 7,
    "start_time": "2022-05-11T09:57:53.514Z"
   },
   {
    "duration": 11,
    "start_time": "2022-05-11T09:57:53.523Z"
   },
   {
    "duration": 6,
    "start_time": "2022-05-11T09:57:53.536Z"
   },
   {
    "duration": 15,
    "start_time": "2022-05-11T09:57:53.543Z"
   },
   {
    "duration": 35,
    "start_time": "2022-05-11T09:57:53.559Z"
   },
   {
    "duration": 18,
    "start_time": "2022-05-11T09:57:53.595Z"
   },
   {
    "duration": 6,
    "start_time": "2022-05-11T09:57:53.615Z"
   },
   {
    "duration": 18,
    "start_time": "2022-05-11T09:57:53.625Z"
   },
   {
    "duration": 182,
    "start_time": "2022-05-11T09:57:53.645Z"
   },
   {
    "duration": 119,
    "start_time": "2022-05-11T09:57:53.829Z"
   },
   {
    "duration": 28,
    "start_time": "2022-05-11T09:57:53.950Z"
   },
   {
    "duration": 181,
    "start_time": "2022-05-11T09:57:53.982Z"
   },
   {
    "duration": 4,
    "start_time": "2022-05-11T09:57:54.165Z"
   },
   {
    "duration": 354,
    "start_time": "2022-05-11T09:57:54.180Z"
   },
   {
    "duration": 9,
    "start_time": "2022-05-11T09:57:54.536Z"
   },
   {
    "duration": 35,
    "start_time": "2022-05-11T09:57:54.546Z"
   },
   {
    "duration": 285,
    "start_time": "2022-05-11T09:57:54.585Z"
   },
   {
    "duration": 10,
    "start_time": "2022-05-11T09:57:54.875Z"
   },
   {
    "duration": 1145,
    "start_time": "2022-05-11T09:57:54.887Z"
   },
   {
    "duration": 12,
    "start_time": "2022-05-11T09:57:56.034Z"
   },
   {
    "duration": 1112,
    "start_time": "2022-05-11T09:57:56.048Z"
   },
   {
    "duration": 23,
    "start_time": "2022-05-11T09:57:57.163Z"
   },
   {
    "duration": 20,
    "start_time": "2022-05-11T09:57:57.188Z"
   },
   {
    "duration": 18,
    "start_time": "2022-05-11T09:57:57.210Z"
   },
   {
    "duration": 332,
    "start_time": "2022-05-11T09:57:57.230Z"
   },
   {
    "duration": 34,
    "start_time": "2022-05-11T09:57:57.564Z"
   },
   {
    "duration": 179,
    "start_time": "2022-05-11T09:57:57.601Z"
   },
   {
    "duration": 131,
    "start_time": "2022-05-11T09:57:57.781Z"
   },
   {
    "duration": 22,
    "start_time": "2022-05-11T09:57:57.914Z"
   },
   {
    "duration": 178,
    "start_time": "2022-05-11T09:57:57.939Z"
   },
   {
    "duration": 221,
    "start_time": "2022-05-11T09:57:58.120Z"
   },
   {
    "duration": 38,
    "start_time": "2022-05-11T09:57:58.343Z"
   },
   {
    "duration": 153,
    "start_time": "2022-05-11T09:57:58.383Z"
   },
   {
    "duration": 110,
    "start_time": "2022-05-11T09:57:58.537Z"
   },
   {
    "duration": 37,
    "start_time": "2022-05-11T09:57:58.648Z"
   },
   {
    "duration": 182,
    "start_time": "2022-05-11T09:57:58.688Z"
   },
   {
    "duration": 119,
    "start_time": "2022-05-11T09:57:58.872Z"
   },
   {
    "duration": 18,
    "start_time": "2022-05-11T09:57:58.993Z"
   },
   {
    "duration": 190,
    "start_time": "2022-05-11T09:57:59.013Z"
   },
   {
    "duration": 130,
    "start_time": "2022-05-11T09:57:59.205Z"
   },
   {
    "duration": 20,
    "start_time": "2022-05-11T09:57:59.340Z"
   },
   {
    "duration": 175,
    "start_time": "2022-05-11T09:57:59.380Z"
   },
   {
    "duration": 148,
    "start_time": "2022-05-11T09:57:59.557Z"
   },
   {
    "duration": 4,
    "start_time": "2022-05-11T09:57:59.708Z"
   },
   {
    "duration": 16,
    "start_time": "2022-05-11T09:57:59.714Z"
   },
   {
    "duration": 8,
    "start_time": "2022-05-11T09:57:59.733Z"
   },
   {
    "duration": 47,
    "start_time": "2022-05-11T09:57:59.743Z"
   },
   {
    "duration": 24,
    "start_time": "2022-05-11T09:57:59.791Z"
   },
   {
    "duration": 12,
    "start_time": "2022-05-11T09:57:59.817Z"
   },
   {
    "duration": 116,
    "start_time": "2022-05-11T09:58:10.206Z"
   },
   {
    "duration": 7,
    "start_time": "2022-05-11T09:58:26.231Z"
   },
   {
    "duration": 124,
    "start_time": "2022-05-11T09:58:36.311Z"
   },
   {
    "duration": 5,
    "start_time": "2022-05-11T09:58:41.231Z"
   },
   {
    "duration": 212,
    "start_time": "2022-05-11T10:01:27.923Z"
   },
   {
    "duration": 6,
    "start_time": "2022-05-11T10:01:43.861Z"
   },
   {
    "duration": 112,
    "start_time": "2022-05-11T10:01:55.393Z"
   },
   {
    "duration": 75,
    "start_time": "2022-05-11T11:56:29.471Z"
   },
   {
    "duration": 11,
    "start_time": "2022-05-11T11:56:49.665Z"
   },
   {
    "duration": 1930,
    "start_time": "2022-05-11T11:57:51.261Z"
   },
   {
    "duration": 49,
    "start_time": "2022-05-11T11:57:53.194Z"
   },
   {
    "duration": 37,
    "start_time": "2022-05-11T11:57:53.245Z"
   },
   {
    "duration": 27,
    "start_time": "2022-05-11T11:57:53.285Z"
   },
   {
    "duration": 50,
    "start_time": "2022-05-11T11:57:53.315Z"
   },
   {
    "duration": 8,
    "start_time": "2022-05-11T11:57:53.367Z"
   },
   {
    "duration": 12,
    "start_time": "2022-05-11T11:57:53.377Z"
   },
   {
    "duration": 7,
    "start_time": "2022-05-11T11:57:53.391Z"
   },
   {
    "duration": 51,
    "start_time": "2022-05-11T11:57:53.400Z"
   },
   {
    "duration": 20,
    "start_time": "2022-05-11T11:57:53.455Z"
   },
   {
    "duration": 35,
    "start_time": "2022-05-11T11:57:53.478Z"
   },
   {
    "duration": 43,
    "start_time": "2022-05-11T11:57:53.515Z"
   },
   {
    "duration": 19,
    "start_time": "2022-05-11T11:57:53.561Z"
   },
   {
    "duration": 15,
    "start_time": "2022-05-11T11:57:53.582Z"
   },
   {
    "duration": 54,
    "start_time": "2022-05-11T11:57:53.599Z"
   },
   {
    "duration": 4,
    "start_time": "2022-05-11T11:57:53.655Z"
   },
   {
    "duration": 13,
    "start_time": "2022-05-11T11:57:53.662Z"
   },
   {
    "duration": 24,
    "start_time": "2022-05-11T11:57:53.677Z"
   },
   {
    "duration": 19,
    "start_time": "2022-05-11T11:57:53.703Z"
   },
   {
    "duration": 46,
    "start_time": "2022-05-11T11:57:53.725Z"
   },
   {
    "duration": 11,
    "start_time": "2022-05-11T11:57:53.774Z"
   },
   {
    "duration": 14,
    "start_time": "2022-05-11T11:57:53.787Z"
   },
   {
    "duration": 7,
    "start_time": "2022-05-11T11:57:53.804Z"
   },
   {
    "duration": 48,
    "start_time": "2022-05-11T11:57:53.813Z"
   },
   {
    "duration": 13,
    "start_time": "2022-05-11T11:57:53.863Z"
   },
   {
    "duration": 23,
    "start_time": "2022-05-11T11:57:53.878Z"
   },
   {
    "duration": 7,
    "start_time": "2022-05-11T11:57:53.904Z"
   },
   {
    "duration": 24,
    "start_time": "2022-05-11T11:57:53.954Z"
   },
   {
    "duration": 274,
    "start_time": "2022-05-11T11:57:53.980Z"
   },
   {
    "duration": 188,
    "start_time": "2022-05-11T11:57:54.256Z"
   },
   {
    "duration": 24,
    "start_time": "2022-05-11T11:57:54.451Z"
   },
   {
    "duration": 314,
    "start_time": "2022-05-11T11:57:54.477Z"
   },
   {
    "duration": 7,
    "start_time": "2022-05-11T11:57:54.793Z"
   },
   {
    "duration": 487,
    "start_time": "2022-05-11T11:57:54.802Z"
   },
   {
    "duration": 10,
    "start_time": "2022-05-11T11:57:55.291Z"
   },
   {
    "duration": 46,
    "start_time": "2022-05-11T11:57:55.303Z"
   },
   {
    "duration": 483,
    "start_time": "2022-05-11T11:57:55.351Z"
   },
   {
    "duration": 17,
    "start_time": "2022-05-11T11:57:55.836Z"
   },
   {
    "duration": 1707,
    "start_time": "2022-05-11T11:57:55.855Z"
   },
   {
    "duration": 15,
    "start_time": "2022-05-11T11:57:57.565Z"
   },
   {
    "duration": 1624,
    "start_time": "2022-05-11T11:57:57.583Z"
   },
   {
    "duration": 16,
    "start_time": "2022-05-11T11:57:59.210Z"
   },
   {
    "duration": 35,
    "start_time": "2022-05-11T11:57:59.229Z"
   },
   {
    "duration": 25,
    "start_time": "2022-05-11T11:57:59.266Z"
   },
   {
    "duration": 541,
    "start_time": "2022-05-11T11:57:59.293Z"
   },
   {
    "duration": 34,
    "start_time": "2022-05-11T11:57:59.836Z"
   },
   {
    "duration": 320,
    "start_time": "2022-05-11T11:57:59.872Z"
   },
   {
    "duration": 189,
    "start_time": "2022-05-11T11:58:00.194Z"
   },
   {
    "duration": 26,
    "start_time": "2022-05-11T11:58:00.385Z"
   },
   {
    "duration": 286,
    "start_time": "2022-05-11T11:58:00.413Z"
   },
   {
    "duration": 271,
    "start_time": "2022-05-11T11:58:00.701Z"
   },
   {
    "duration": 17,
    "start_time": "2022-05-11T11:58:00.975Z"
   },
   {
    "duration": 44,
    "start_time": "2022-05-11T11:58:00.994Z"
   },
   {
    "duration": 275,
    "start_time": "2022-05-11T11:58:01.040Z"
   },
   {
    "duration": 227,
    "start_time": "2022-05-11T11:58:01.317Z"
   },
   {
    "duration": 39,
    "start_time": "2022-05-11T11:58:01.547Z"
   },
   {
    "duration": 554,
    "start_time": "2022-05-11T11:58:01.589Z"
   },
   {
    "duration": 217,
    "start_time": "2022-05-11T11:58:02.146Z"
   },
   {
    "duration": 30,
    "start_time": "2022-05-11T11:58:02.366Z"
   },
   {
    "duration": 395,
    "start_time": "2022-05-11T11:58:02.398Z"
   },
   {
    "duration": 199,
    "start_time": "2022-05-11T11:58:02.795Z"
   },
   {
    "duration": 27,
    "start_time": "2022-05-11T11:58:02.997Z"
   },
   {
    "duration": 318,
    "start_time": "2022-05-11T11:58:03.027Z"
   },
   {
    "duration": 188,
    "start_time": "2022-05-11T11:58:03.351Z"
   },
   {
    "duration": 5,
    "start_time": "2022-05-11T11:58:03.552Z"
   },
   {
    "duration": 16,
    "start_time": "2022-05-11T11:58:03.559Z"
   },
   {
    "duration": 12,
    "start_time": "2022-05-11T11:58:03.577Z"
   },
   {
    "duration": 34,
    "start_time": "2022-05-11T11:58:03.592Z"
   },
   {
    "duration": 11,
    "start_time": "2022-05-11T11:58:03.653Z"
   },
   {
    "duration": 21,
    "start_time": "2022-05-11T11:58:03.667Z"
   },
   {
    "duration": 119,
    "start_time": "2022-05-11T11:59:10.081Z"
   },
   {
    "duration": 115,
    "start_time": "2022-05-11T11:59:21.125Z"
   },
   {
    "duration": 173,
    "start_time": "2022-05-11T12:00:07.962Z"
   },
   {
    "duration": 348,
    "start_time": "2022-05-11T12:02:08.593Z"
   },
   {
    "duration": 211,
    "start_time": "2022-05-11T12:02:32.719Z"
   },
   {
    "duration": 171,
    "start_time": "2022-05-11T12:02:54.066Z"
   },
   {
    "duration": 117,
    "start_time": "2022-05-11T12:03:34.122Z"
   },
   {
    "duration": 312,
    "start_time": "2022-05-11T12:03:43.040Z"
   },
   {
    "duration": 132,
    "start_time": "2022-05-11T12:11:46.748Z"
   },
   {
    "duration": 115,
    "start_time": "2022-05-11T12:12:06.499Z"
   },
   {
    "duration": 85,
    "start_time": "2022-05-11T12:12:17.065Z"
   },
   {
    "duration": 85,
    "start_time": "2022-05-11T12:12:24.517Z"
   },
   {
    "duration": 238,
    "start_time": "2022-05-11T12:12:33.476Z"
   },
   {
    "duration": 166,
    "start_time": "2022-05-11T12:12:51.885Z"
   },
   {
    "duration": 1626,
    "start_time": "2022-05-11T12:12:59.736Z"
   },
   {
    "duration": 51,
    "start_time": "2022-05-11T12:13:01.366Z"
   },
   {
    "duration": 57,
    "start_time": "2022-05-11T12:13:01.419Z"
   },
   {
    "duration": 43,
    "start_time": "2022-05-11T12:13:01.479Z"
   },
   {
    "duration": 43,
    "start_time": "2022-05-11T12:13:01.525Z"
   },
   {
    "duration": 13,
    "start_time": "2022-05-11T12:13:01.570Z"
   },
   {
    "duration": 22,
    "start_time": "2022-05-11T12:13:01.585Z"
   },
   {
    "duration": 26,
    "start_time": "2022-05-11T12:13:01.609Z"
   },
   {
    "duration": 45,
    "start_time": "2022-05-11T12:13:01.638Z"
   },
   {
    "duration": 24,
    "start_time": "2022-05-11T12:13:01.689Z"
   },
   {
    "duration": 35,
    "start_time": "2022-05-11T12:13:01.715Z"
   },
   {
    "duration": 11,
    "start_time": "2022-05-11T12:13:01.753Z"
   },
   {
    "duration": 63,
    "start_time": "2022-05-11T12:13:01.768Z"
   },
   {
    "duration": 19,
    "start_time": "2022-05-11T12:13:01.834Z"
   },
   {
    "duration": 34,
    "start_time": "2022-05-11T12:13:01.856Z"
   },
   {
    "duration": 6,
    "start_time": "2022-05-11T12:13:01.893Z"
   },
   {
    "duration": 19,
    "start_time": "2022-05-11T12:13:01.901Z"
   },
   {
    "duration": 29,
    "start_time": "2022-05-11T12:13:01.922Z"
   },
   {
    "duration": 43,
    "start_time": "2022-05-11T12:13:01.954Z"
   },
   {
    "duration": 29,
    "start_time": "2022-05-11T12:13:01.999Z"
   },
   {
    "duration": 17,
    "start_time": "2022-05-11T12:13:02.031Z"
   },
   {
    "duration": 29,
    "start_time": "2022-05-11T12:13:02.051Z"
   },
   {
    "duration": 10,
    "start_time": "2022-05-11T12:13:02.082Z"
   },
   {
    "duration": 23,
    "start_time": "2022-05-11T12:13:02.094Z"
   },
   {
    "duration": 12,
    "start_time": "2022-05-11T12:13:02.119Z"
   },
   {
    "duration": 38,
    "start_time": "2022-05-11T12:13:02.133Z"
   },
   {
    "duration": 9,
    "start_time": "2022-05-11T12:13:02.174Z"
   },
   {
    "duration": 23,
    "start_time": "2022-05-11T12:13:02.191Z"
   },
   {
    "duration": 305,
    "start_time": "2022-05-11T12:13:02.216Z"
   },
   {
    "duration": 184,
    "start_time": "2022-05-11T12:13:02.523Z"
   },
   {
    "duration": 17,
    "start_time": "2022-05-11T12:13:02.709Z"
   },
   {
    "duration": 324,
    "start_time": "2022-05-11T12:13:02.728Z"
   },
   {
    "duration": 9,
    "start_time": "2022-05-11T12:13:03.059Z"
   },
   {
    "duration": 482,
    "start_time": "2022-05-11T12:13:03.070Z"
   },
   {
    "duration": 12,
    "start_time": "2022-05-11T12:13:03.556Z"
   },
   {
    "duration": 44,
    "start_time": "2022-05-11T12:13:03.571Z"
   },
   {
    "duration": 520,
    "start_time": "2022-05-11T12:13:03.617Z"
   },
   {
    "duration": 21,
    "start_time": "2022-05-11T12:13:04.139Z"
   },
   {
    "duration": 1847,
    "start_time": "2022-05-11T12:13:04.163Z"
   },
   {
    "duration": 16,
    "start_time": "2022-05-11T12:13:06.012Z"
   },
   {
    "duration": 1697,
    "start_time": "2022-05-11T12:13:06.030Z"
   },
   {
    "duration": 25,
    "start_time": "2022-05-11T12:13:07.729Z"
   },
   {
    "duration": 30,
    "start_time": "2022-05-11T12:13:07.757Z"
   },
   {
    "duration": 20,
    "start_time": "2022-05-11T12:13:07.789Z"
   },
   {
    "duration": 535,
    "start_time": "2022-05-11T12:13:07.811Z"
   },
   {
    "duration": 29,
    "start_time": "2022-05-11T12:13:08.352Z"
   },
   {
    "duration": 283,
    "start_time": "2022-05-11T12:13:08.383Z"
   },
   {
    "duration": 187,
    "start_time": "2022-05-11T12:13:08.669Z"
   },
   {
    "duration": 27,
    "start_time": "2022-05-11T12:13:08.859Z"
   },
   {
    "duration": 296,
    "start_time": "2022-05-11T12:13:08.888Z"
   },
   {
    "duration": 268,
    "start_time": "2022-05-11T12:13:09.187Z"
   },
   {
    "duration": 193,
    "start_time": "2022-05-11T12:13:09.458Z"
   },
   {
    "duration": 32,
    "start_time": "2022-05-11T12:13:09.654Z"
   },
   {
    "duration": 288,
    "start_time": "2022-05-11T12:13:09.688Z"
   },
   {
    "duration": 183,
    "start_time": "2022-05-11T12:13:09.978Z"
   },
   {
    "duration": 27,
    "start_time": "2022-05-11T12:13:10.164Z"
   },
   {
    "duration": 312,
    "start_time": "2022-05-11T12:13:10.193Z"
   },
   {
    "duration": 199,
    "start_time": "2022-05-11T12:13:10.507Z"
   },
   {
    "duration": 26,
    "start_time": "2022-05-11T12:13:10.708Z"
   },
   {
    "duration": 289,
    "start_time": "2022-05-11T12:13:10.753Z"
   },
   {
    "duration": 177,
    "start_time": "2022-05-11T12:13:11.051Z"
   },
   {
    "duration": 35,
    "start_time": "2022-05-11T12:13:11.231Z"
   },
   {
    "duration": 298,
    "start_time": "2022-05-11T12:13:11.270Z"
   },
   {
    "duration": 198,
    "start_time": "2022-05-11T12:13:11.570Z"
   },
   {
    "duration": 5,
    "start_time": "2022-05-11T12:13:11.771Z"
   },
   {
    "duration": 16,
    "start_time": "2022-05-11T12:13:11.778Z"
   },
   {
    "duration": 9,
    "start_time": "2022-05-11T12:13:11.796Z"
   },
   {
    "duration": 51,
    "start_time": "2022-05-11T12:13:11.808Z"
   },
   {
    "duration": 18,
    "start_time": "2022-05-11T12:13:11.862Z"
   },
   {
    "duration": 12,
    "start_time": "2022-05-11T12:13:11.882Z"
   },
   {
    "duration": 192,
    "start_time": "2022-05-11T12:16:27.205Z"
   },
   {
    "duration": 173,
    "start_time": "2022-05-11T12:16:39.900Z"
   },
   {
    "duration": 164,
    "start_time": "2022-05-11T12:38:47.216Z"
   },
   {
    "duration": 22,
    "start_time": "2022-05-11T12:39:04.952Z"
   },
   {
    "duration": 2084,
    "start_time": "2022-05-11T12:39:24.511Z"
   },
   {
    "duration": 168,
    "start_time": "2022-05-11T12:39:39.176Z"
   },
   {
    "duration": 22,
    "start_time": "2022-05-11T12:40:02.712Z"
   },
   {
    "duration": 159,
    "start_time": "2022-05-11T12:40:11.495Z"
   },
   {
    "duration": 282,
    "start_time": "2022-05-11T12:40:17.615Z"
   },
   {
    "duration": 22,
    "start_time": "2022-05-11T12:40:52.503Z"
   },
   {
    "duration": 227,
    "start_time": "2022-05-11T12:40:58.286Z"
   },
   {
    "duration": 167,
    "start_time": "2022-05-11T12:41:04.807Z"
   },
   {
    "duration": 110,
    "start_time": "2022-05-11T12:42:28.000Z"
   },
   {
    "duration": 172,
    "start_time": "2022-05-11T12:42:37.967Z"
   },
   {
    "duration": 22,
    "start_time": "2022-05-11T12:42:53.495Z"
   },
   {
    "duration": 163,
    "start_time": "2022-05-11T12:42:59.673Z"
   },
   {
    "duration": 173,
    "start_time": "2022-05-11T12:43:07.206Z"
   },
   {
    "duration": 23,
    "start_time": "2022-05-11T12:43:31.319Z"
   },
   {
    "duration": 192,
    "start_time": "2022-05-11T12:43:43.088Z"
   },
   {
    "duration": 28,
    "start_time": "2022-05-11T12:43:55.447Z"
   },
   {
    "duration": 305,
    "start_time": "2022-05-11T12:44:09.703Z"
   }
  ],
  "kernelspec": {
   "display_name": "Python 3 (ipykernel)",
   "language": "python",
   "name": "python3"
  },
  "language_info": {
   "codemirror_mode": {
    "name": "ipython",
    "version": 3
   },
   "file_extension": ".py",
   "mimetype": "text/x-python",
   "name": "python",
   "nbconvert_exporter": "python",
   "pygments_lexer": "ipython3",
   "version": "3.9.7"
  },
  "toc": {
   "base_numbering": 1,
   "nav_menu": {},
   "number_sections": true,
   "sideBar": true,
   "skip_h1_title": true,
   "title_cell": "Содержание",
   "title_sidebar": "Contents",
   "toc_cell": true,
   "toc_position": {
    "height": "calc(100% - 180px)",
    "left": "10px",
    "top": "150px",
    "width": "286.198px"
   },
   "toc_section_display": true,
   "toc_window_display": true
  }
 },
 "nbformat": 4,
 "nbformat_minor": 2
}
