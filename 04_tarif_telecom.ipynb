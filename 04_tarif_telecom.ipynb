{
 "cells": [
  {
   "cell_type": "markdown",
   "id": "158b3ee9",
   "metadata": {},
   "source": [
    "# Исследование тарифных планов"
   ]
  },
  {
   "cell_type": "markdown",
   "id": "e2881789",
   "metadata": {},
   "source": [
    "Компании «Мегалайн» — федеральный оператора сотовой связи.\n",
    "Предлагает клиентам два тарифных плана: «Смарт» и «Ультра». Чтобы скорректировать рекламный бюджет, коммерческий департамент хочет понять, какой тариф приносит больше денег.\n",
    "Необходимо сделать предварительный анализ тарифов на небольшой выборке клиентов (500 пользователей «Мегалайна»): кто они, откуда, каким тарифом пользуются, сколько звонков и сообщений каждый отправил за 2018 год.\n",
    "Нужно проанализировать поведение клиентов и сделать вывод — какой тариф лучше.\n",
    "\n",
    "**Описание тарифов:**\n",
    "\n",
    "Тариф «Смарт»:\n",
    "* Ежемесячная плата: 550 рублей\n",
    "* Включено 500 минут разговора, 50 сообщений и 15 Гб интернет-трафика\n",
    "* Стоимость услуг сверх тарифного пакета:\n",
    "* минута разговора: 3 рубля\n",
    "* сообщение: 3 рубля\n",
    "* 1 Гб интернет-трафика: 200 рублей.\n",
    "\n",
    "Тариф «Ультра»:\n",
    "* Ежемесячная плата: 1950 рублей\n",
    "* Включено 3000 минут разговора, 1000 сообщений и 30 Гб интернет-трафика\n",
    "* Стоимость услуг сверх тарифного пакета:\n",
    "* минута разговора: 1 рубль\n",
    "* сообщение: 1 рубль\n",
    "* 1 Гб интернет-трафика: 150 рублей.\n",
    "\n",
    "**Описание данных:**\n",
    "\n",
    "Таблица users (информация о пользователях):\n",
    "* user_id — уникальный идентификатор пользователя\n",
    "* first_name — имя пользователя\n",
    "* last_name — фамилия пользователя\n",
    "* age — возраст пользователя (годы)\n",
    "* reg_date — дата подключения тарифа (день, месяц, год)\n",
    "* churn_date — дата прекращения пользования тарифом (если значение пропущено, то тариф ещё действовал на момент выгрузки данных)\n",
    "* city — город проживания пользователя\n",
    "* tariff — название тарифного плана.\n",
    "\n",
    "Таблица calls (информация о звонках):\n",
    "* id — уникальный номер звонка\n",
    "* call_date — дата звонка\n",
    "* duration — длительность звонка в минутах\n",
    "* user_id — идентификатор пользователя, сделавшего звонок.\n",
    "\n",
    "Таблица messages (информация о сообщениях):\n",
    "* id — уникальный номер сообщения\n",
    "* message_date — дата сообщения\n",
    "* user_id — идентификатор пользователя, отправившего сообщение.\n",
    "\n",
    "Таблица internet (информация об интернет-сессиях):\n",
    "* id — уникальный номер сессии\n",
    "* mb_used — объём потраченного за сессию интернет-трафика (в мегабайтах)\n",
    "* session_date — дата интернет-сессии\n",
    "* user_id — идентификатор пользователя.\n",
    "\n",
    "Таблица tariffs (информация о тарифах):\n",
    "* tariff_name — название тарифа\n",
    "* rub_monthly_fee — ежемесячная абонентская плата в рублях\n",
    "* minutes_included — количество минут разговора в месяц, включённых в абонентскую плату\n",
    "* messages_included — количество сообщений в месяц, включённых в абонентскую плату\n",
    "* mb_per_month_included — объём интернет-трафика, включённого в абонентскую плату (в мегабайтах)\n",
    "* rub_per_minute — стоимость минуты разговора сверх тарифного пакета (например, если в тарифе 100 минут разговора в месяц, то со 101 минуты будет взиматься плата)\n",
    "* rub_per_message — стоимость отправки сообщения сверх тарифного пакета\n",
    "* rub_per_gb — стоимость дополнительного гигабайта интернет-трафика сверх тарифного пакета (1 гигабайт = 1024 мегабайта).\n",
    "\n",
    "***План работы:***\n",
    "- изучить общую информацию;\n",
    "- провести предобработку данных (привести данные к нужным типаи, избавиться от ошибок, убрать пропуски);\n",
    "- проанализировать данные (описать поведение клиентов оператора: сколько минут разговора, сколько сообщений и какой объём интернет-трафика требуется пользователям каждого тарифа в месяц, посчитать среднее количество, дисперсию и стандартное отклонение, построить гистограммы, описать распределения);\n",
    "- проверить гипотезы;\n",
    "- сделать общий вывод."
   ]
  },
  {
   "cell_type": "markdown",
   "id": "60e4b4bf",
   "metadata": {},
   "source": [
    "# Открытие файла с данными и изучение общей информации"
   ]
  },
  {
   "cell_type": "markdown",
   "id": "ffc73775",
   "metadata": {},
   "source": [
    "**Загрузим необходимые библиотеки.**"
   ]
  },
  {
   "cell_type": "code",
   "execution_count": 1,
   "id": "f9db6a6c",
   "metadata": {},
   "outputs": [],
   "source": [
    "import pandas as pd\n",
    "import numpy as np\n",
    "import matplotlib.pyplot as plt\n",
    "from scipy import stats as st\n",
    "pd.set_option('display.max_columns', None)"
   ]
  },
  {
   "cell_type": "markdown",
   "id": "559c911c",
   "metadata": {},
   "source": [
    "**Загрузим датасеты.**"
   ]
  },
  {
   "cell_type": "code",
   "execution_count": 2,
   "id": "880678af",
   "metadata": {},
   "outputs": [],
   "source": [
    "#users = pd.read_csv('users.csv')\n",
    "#calls = pd.read_csv('calls.csv')\n",
    "#messages = pd.read_csv('messages.csv')\n",
    "#internet = pd.read_csv('internet.csv')\n",
    "#tariffs = pd.read_csv('tariffs.csv')"
   ]
  },
  {
   "cell_type": "code",
   "execution_count": 3,
   "id": "415e4448",
   "metadata": {},
   "outputs": [],
   "source": [
    "import os\n",
    "\n",
    "def my_read_csv(pth1, pth2):\n",
    "    \"\"\"Функция для чтения файла по двум путям.\n",
    "\n",
    "    Args:\n",
    "        pth1 (str): Первый путь.\n",
    "        pth2 (str): Второй путь.\n",
    "\n",
    "    Returns:\n",
    "        DataFrame: DataFrame из csv.\n",
    "\n",
    "    \"\"\"\n",
    "    \n",
    "    if os.path.exists(pth1):\n",
    "        return pd.read_csv(pth1)\n",
    "    elif os.path.exists(pth2):\n",
    "        return pd.read_csv(pth2)\n",
    "    else:\n",
    "        print('Something is wrong')\n",
    "        return None\n",
    "\n",
    "pth1 = 'calls.csv'\n",
    "pth2 = '/datasets/calls.csv'\n",
    "calls = my_read_csv(pth1, pth2)\n",
    "\n",
    "pth1 = 'internet.csv'\n",
    "pth2 = '/datasets/internet.csv'\n",
    "internet = my_read_csv(pth1, pth2)\n",
    "\n",
    "pth1 = 'messages.csv'\n",
    "pth2 = '/datasets/messages.csv'\n",
    "messages = my_read_csv(pth1, pth2)\n",
    "\n",
    "pth1 = 'tariffs.csv'\n",
    "pth2 = '/datasets/tariffs.csv'\n",
    "tariffs = my_read_csv(pth1, pth2)\n",
    "\n",
    "pth1 = 'users.csv'\n",
    "pth2 = '/datasets/users.csv'\n",
    "users = my_read_csv(pth1, pth2)"
   ]
  },
  {
   "cell_type": "markdown",
   "id": "2bd9fe53",
   "metadata": {},
   "source": [
    "**Выведем первые строки датасетов. Проверим пропуски и дубликаты.**"
   ]
  },
  {
   "cell_type": "code",
   "execution_count": 4,
   "id": "90761076",
   "metadata": {},
   "outputs": [
    {
     "data": {
      "text/html": [
       "<div>\n",
       "<style scoped>\n",
       "    .dataframe tbody tr th:only-of-type {\n",
       "        vertical-align: middle;\n",
       "    }\n",
       "\n",
       "    .dataframe tbody tr th {\n",
       "        vertical-align: top;\n",
       "    }\n",
       "\n",
       "    .dataframe thead th {\n",
       "        text-align: right;\n",
       "    }\n",
       "</style>\n",
       "<table border=\"1\" class=\"dataframe\">\n",
       "  <thead>\n",
       "    <tr style=\"text-align: right;\">\n",
       "      <th></th>\n",
       "      <th>user_id</th>\n",
       "      <th>age</th>\n",
       "      <th>churn_date</th>\n",
       "      <th>city</th>\n",
       "      <th>first_name</th>\n",
       "      <th>last_name</th>\n",
       "      <th>reg_date</th>\n",
       "      <th>tariff</th>\n",
       "    </tr>\n",
       "  </thead>\n",
       "  <tbody>\n",
       "    <tr>\n",
       "      <th>0</th>\n",
       "      <td>1000</td>\n",
       "      <td>52</td>\n",
       "      <td>NaN</td>\n",
       "      <td>Краснодар</td>\n",
       "      <td>Рафаил</td>\n",
       "      <td>Верещагин</td>\n",
       "      <td>2018-05-25</td>\n",
       "      <td>ultra</td>\n",
       "    </tr>\n",
       "    <tr>\n",
       "      <th>1</th>\n",
       "      <td>1001</td>\n",
       "      <td>41</td>\n",
       "      <td>NaN</td>\n",
       "      <td>Москва</td>\n",
       "      <td>Иван</td>\n",
       "      <td>Ежов</td>\n",
       "      <td>2018-11-01</td>\n",
       "      <td>smart</td>\n",
       "    </tr>\n",
       "    <tr>\n",
       "      <th>2</th>\n",
       "      <td>1002</td>\n",
       "      <td>59</td>\n",
       "      <td>NaN</td>\n",
       "      <td>Стерлитамак</td>\n",
       "      <td>Евгений</td>\n",
       "      <td>Абрамович</td>\n",
       "      <td>2018-06-17</td>\n",
       "      <td>smart</td>\n",
       "    </tr>\n",
       "    <tr>\n",
       "      <th>3</th>\n",
       "      <td>1003</td>\n",
       "      <td>23</td>\n",
       "      <td>NaN</td>\n",
       "      <td>Москва</td>\n",
       "      <td>Белла</td>\n",
       "      <td>Белякова</td>\n",
       "      <td>2018-08-17</td>\n",
       "      <td>ultra</td>\n",
       "    </tr>\n",
       "    <tr>\n",
       "      <th>4</th>\n",
       "      <td>1004</td>\n",
       "      <td>68</td>\n",
       "      <td>NaN</td>\n",
       "      <td>Новокузнецк</td>\n",
       "      <td>Татьяна</td>\n",
       "      <td>Авдеенко</td>\n",
       "      <td>2018-05-14</td>\n",
       "      <td>ultra</td>\n",
       "    </tr>\n",
       "    <tr>\n",
       "      <th>5</th>\n",
       "      <td>1005</td>\n",
       "      <td>67</td>\n",
       "      <td>NaN</td>\n",
       "      <td>Набережные Челны</td>\n",
       "      <td>Афанасий</td>\n",
       "      <td>Горлов</td>\n",
       "      <td>2018-01-25</td>\n",
       "      <td>smart</td>\n",
       "    </tr>\n",
       "    <tr>\n",
       "      <th>6</th>\n",
       "      <td>1006</td>\n",
       "      <td>21</td>\n",
       "      <td>NaN</td>\n",
       "      <td>Ульяновск</td>\n",
       "      <td>Леонид</td>\n",
       "      <td>Ермолаев</td>\n",
       "      <td>2018-02-26</td>\n",
       "      <td>smart</td>\n",
       "    </tr>\n",
       "    <tr>\n",
       "      <th>7</th>\n",
       "      <td>1007</td>\n",
       "      <td>65</td>\n",
       "      <td>NaN</td>\n",
       "      <td>Москва</td>\n",
       "      <td>Юна</td>\n",
       "      <td>Березина</td>\n",
       "      <td>2018-04-19</td>\n",
       "      <td>smart</td>\n",
       "    </tr>\n",
       "    <tr>\n",
       "      <th>8</th>\n",
       "      <td>1008</td>\n",
       "      <td>63</td>\n",
       "      <td>NaN</td>\n",
       "      <td>Челябинск</td>\n",
       "      <td>Рустэм</td>\n",
       "      <td>Пономарёв</td>\n",
       "      <td>2018-12-19</td>\n",
       "      <td>smart</td>\n",
       "    </tr>\n",
       "    <tr>\n",
       "      <th>9</th>\n",
       "      <td>1009</td>\n",
       "      <td>24</td>\n",
       "      <td>NaN</td>\n",
       "      <td>Пермь</td>\n",
       "      <td>Василиса</td>\n",
       "      <td>Блинова</td>\n",
       "      <td>2018-03-22</td>\n",
       "      <td>smart</td>\n",
       "    </tr>\n",
       "  </tbody>\n",
       "</table>\n",
       "</div>"
      ],
      "text/plain": [
       "   user_id  age churn_date              city first_name  last_name  \\\n",
       "0     1000   52        NaN         Краснодар     Рафаил  Верещагин   \n",
       "1     1001   41        NaN            Москва       Иван       Ежов   \n",
       "2     1002   59        NaN       Стерлитамак    Евгений  Абрамович   \n",
       "3     1003   23        NaN            Москва      Белла   Белякова   \n",
       "4     1004   68        NaN       Новокузнецк    Татьяна   Авдеенко   \n",
       "5     1005   67        NaN  Набережные Челны   Афанасий     Горлов   \n",
       "6     1006   21        NaN         Ульяновск     Леонид   Ермолаев   \n",
       "7     1007   65        NaN            Москва        Юна   Березина   \n",
       "8     1008   63        NaN         Челябинск     Рустэм  Пономарёв   \n",
       "9     1009   24        NaN             Пермь   Василиса    Блинова   \n",
       "\n",
       "     reg_date tariff  \n",
       "0  2018-05-25  ultra  \n",
       "1  2018-11-01  smart  \n",
       "2  2018-06-17  smart  \n",
       "3  2018-08-17  ultra  \n",
       "4  2018-05-14  ultra  \n",
       "5  2018-01-25  smart  \n",
       "6  2018-02-26  smart  \n",
       "7  2018-04-19  smart  \n",
       "8  2018-12-19  smart  \n",
       "9  2018-03-22  smart  "
      ]
     },
     "execution_count": 4,
     "metadata": {},
     "output_type": "execute_result"
    }
   ],
   "source": [
    "users.head(10)"
   ]
  },
  {
   "cell_type": "code",
   "execution_count": 5,
   "id": "62c6d8f1",
   "metadata": {},
   "outputs": [
    {
     "name": "stdout",
     "output_type": "stream",
     "text": [
      "<class 'pandas.core.frame.DataFrame'>\n",
      "RangeIndex: 500 entries, 0 to 499\n",
      "Data columns (total 8 columns):\n",
      " #   Column      Non-Null Count  Dtype \n",
      "---  ------      --------------  ----- \n",
      " 0   user_id     500 non-null    int64 \n",
      " 1   age         500 non-null    int64 \n",
      " 2   churn_date  38 non-null     object\n",
      " 3   city        500 non-null    object\n",
      " 4   first_name  500 non-null    object\n",
      " 5   last_name   500 non-null    object\n",
      " 6   reg_date    500 non-null    object\n",
      " 7   tariff      500 non-null    object\n",
      "dtypes: int64(2), object(6)\n",
      "memory usage: 31.4+ KB\n"
     ]
    }
   ],
   "source": [
    "users.info() # вывод общей информации по датасету users"
   ]
  },
  {
   "cell_type": "code",
   "execution_count": 6,
   "id": "34c5749d",
   "metadata": {},
   "outputs": [
    {
     "data": {
      "text/html": [
       "<div>\n",
       "<style scoped>\n",
       "    .dataframe tbody tr th:only-of-type {\n",
       "        vertical-align: middle;\n",
       "    }\n",
       "\n",
       "    .dataframe tbody tr th {\n",
       "        vertical-align: top;\n",
       "    }\n",
       "\n",
       "    .dataframe thead th {\n",
       "        text-align: right;\n",
       "    }\n",
       "</style>\n",
       "<table border=\"1\" class=\"dataframe\">\n",
       "  <thead>\n",
       "    <tr style=\"text-align: right;\">\n",
       "      <th></th>\n",
       "      <th>user_id</th>\n",
       "      <th>age</th>\n",
       "    </tr>\n",
       "  </thead>\n",
       "  <tbody>\n",
       "    <tr>\n",
       "      <th>count</th>\n",
       "      <td>500.000000</td>\n",
       "      <td>500.00000</td>\n",
       "    </tr>\n",
       "    <tr>\n",
       "      <th>mean</th>\n",
       "      <td>1249.500000</td>\n",
       "      <td>46.58800</td>\n",
       "    </tr>\n",
       "    <tr>\n",
       "      <th>std</th>\n",
       "      <td>144.481833</td>\n",
       "      <td>16.66763</td>\n",
       "    </tr>\n",
       "    <tr>\n",
       "      <th>min</th>\n",
       "      <td>1000.000000</td>\n",
       "      <td>18.00000</td>\n",
       "    </tr>\n",
       "    <tr>\n",
       "      <th>25%</th>\n",
       "      <td>1124.750000</td>\n",
       "      <td>32.00000</td>\n",
       "    </tr>\n",
       "    <tr>\n",
       "      <th>50%</th>\n",
       "      <td>1249.500000</td>\n",
       "      <td>46.00000</td>\n",
       "    </tr>\n",
       "    <tr>\n",
       "      <th>75%</th>\n",
       "      <td>1374.250000</td>\n",
       "      <td>62.00000</td>\n",
       "    </tr>\n",
       "    <tr>\n",
       "      <th>max</th>\n",
       "      <td>1499.000000</td>\n",
       "      <td>75.00000</td>\n",
       "    </tr>\n",
       "  </tbody>\n",
       "</table>\n",
       "</div>"
      ],
      "text/plain": [
       "           user_id        age\n",
       "count   500.000000  500.00000\n",
       "mean   1249.500000   46.58800\n",
       "std     144.481833   16.66763\n",
       "min    1000.000000   18.00000\n",
       "25%    1124.750000   32.00000\n",
       "50%    1249.500000   46.00000\n",
       "75%    1374.250000   62.00000\n",
       "max    1499.000000   75.00000"
      ]
     },
     "execution_count": 6,
     "metadata": {},
     "output_type": "execute_result"
    }
   ],
   "source": [
    "users.describe()"
   ]
  },
  {
   "cell_type": "markdown",
   "id": "21432d4c",
   "metadata": {},
   "source": [
    "Имеем 500 строк, 8 столбцов. Типы данных `int64` и `object`. В столбце `churn_date` есть пропуски. По описанию в этом столбце хранится информация о дате прекращения пользования тарифом (если значение пропущено, то тариф ещё действовал на момент выгрузки данных). Значит эти пропуски трогать не будем. Ещё необходимо преобразовать данные столбца `reg_date` в формат `datetime`."
   ]
  },
  {
   "cell_type": "code",
   "execution_count": 7,
   "id": "c3783068",
   "metadata": {
    "scrolled": true
   },
   "outputs": [
    {
     "data": {
      "text/html": [
       "<div>\n",
       "<style scoped>\n",
       "    .dataframe tbody tr th:only-of-type {\n",
       "        vertical-align: middle;\n",
       "    }\n",
       "\n",
       "    .dataframe tbody tr th {\n",
       "        vertical-align: top;\n",
       "    }\n",
       "\n",
       "    .dataframe thead th {\n",
       "        text-align: right;\n",
       "    }\n",
       "</style>\n",
       "<table border=\"1\" class=\"dataframe\">\n",
       "  <thead>\n",
       "    <tr style=\"text-align: right;\">\n",
       "      <th></th>\n",
       "      <th>id</th>\n",
       "      <th>call_date</th>\n",
       "      <th>duration</th>\n",
       "      <th>user_id</th>\n",
       "    </tr>\n",
       "  </thead>\n",
       "  <tbody>\n",
       "    <tr>\n",
       "      <th>0</th>\n",
       "      <td>1000_0</td>\n",
       "      <td>2018-07-25</td>\n",
       "      <td>0.00</td>\n",
       "      <td>1000</td>\n",
       "    </tr>\n",
       "    <tr>\n",
       "      <th>1</th>\n",
       "      <td>1000_1</td>\n",
       "      <td>2018-08-17</td>\n",
       "      <td>0.00</td>\n",
       "      <td>1000</td>\n",
       "    </tr>\n",
       "    <tr>\n",
       "      <th>2</th>\n",
       "      <td>1000_2</td>\n",
       "      <td>2018-06-11</td>\n",
       "      <td>2.85</td>\n",
       "      <td>1000</td>\n",
       "    </tr>\n",
       "    <tr>\n",
       "      <th>3</th>\n",
       "      <td>1000_3</td>\n",
       "      <td>2018-09-21</td>\n",
       "      <td>13.80</td>\n",
       "      <td>1000</td>\n",
       "    </tr>\n",
       "    <tr>\n",
       "      <th>4</th>\n",
       "      <td>1000_4</td>\n",
       "      <td>2018-12-15</td>\n",
       "      <td>5.18</td>\n",
       "      <td>1000</td>\n",
       "    </tr>\n",
       "    <tr>\n",
       "      <th>5</th>\n",
       "      <td>1000_5</td>\n",
       "      <td>2018-11-02</td>\n",
       "      <td>0.00</td>\n",
       "      <td>1000</td>\n",
       "    </tr>\n",
       "    <tr>\n",
       "      <th>6</th>\n",
       "      <td>1000_6</td>\n",
       "      <td>2018-10-18</td>\n",
       "      <td>0.00</td>\n",
       "      <td>1000</td>\n",
       "    </tr>\n",
       "    <tr>\n",
       "      <th>7</th>\n",
       "      <td>1000_7</td>\n",
       "      <td>2018-08-22</td>\n",
       "      <td>18.31</td>\n",
       "      <td>1000</td>\n",
       "    </tr>\n",
       "    <tr>\n",
       "      <th>8</th>\n",
       "      <td>1000_8</td>\n",
       "      <td>2018-09-15</td>\n",
       "      <td>18.44</td>\n",
       "      <td>1000</td>\n",
       "    </tr>\n",
       "    <tr>\n",
       "      <th>9</th>\n",
       "      <td>1000_9</td>\n",
       "      <td>2018-08-15</td>\n",
       "      <td>0.00</td>\n",
       "      <td>1000</td>\n",
       "    </tr>\n",
       "  </tbody>\n",
       "</table>\n",
       "</div>"
      ],
      "text/plain": [
       "       id   call_date  duration  user_id\n",
       "0  1000_0  2018-07-25      0.00     1000\n",
       "1  1000_1  2018-08-17      0.00     1000\n",
       "2  1000_2  2018-06-11      2.85     1000\n",
       "3  1000_3  2018-09-21     13.80     1000\n",
       "4  1000_4  2018-12-15      5.18     1000\n",
       "5  1000_5  2018-11-02      0.00     1000\n",
       "6  1000_6  2018-10-18      0.00     1000\n",
       "7  1000_7  2018-08-22     18.31     1000\n",
       "8  1000_8  2018-09-15     18.44     1000\n",
       "9  1000_9  2018-08-15      0.00     1000"
      ]
     },
     "execution_count": 7,
     "metadata": {},
     "output_type": "execute_result"
    }
   ],
   "source": [
    "calls.head(10) # вывод первых 10 строк таблицы"
   ]
  },
  {
   "cell_type": "code",
   "execution_count": 8,
   "id": "350e04d5",
   "metadata": {},
   "outputs": [
    {
     "name": "stdout",
     "output_type": "stream",
     "text": [
      "<class 'pandas.core.frame.DataFrame'>\n",
      "RangeIndex: 202607 entries, 0 to 202606\n",
      "Data columns (total 4 columns):\n",
      " #   Column     Non-Null Count   Dtype  \n",
      "---  ------     --------------   -----  \n",
      " 0   id         202607 non-null  object \n",
      " 1   call_date  202607 non-null  object \n",
      " 2   duration   202607 non-null  float64\n",
      " 3   user_id    202607 non-null  int64  \n",
      "dtypes: float64(1), int64(1), object(2)\n",
      "memory usage: 6.2+ MB\n"
     ]
    }
   ],
   "source": [
    "calls.info() # вывод общей информации по датасету"
   ]
  },
  {
   "cell_type": "code",
   "execution_count": 9,
   "id": "c4990f38",
   "metadata": {},
   "outputs": [
    {
     "data": {
      "text/html": [
       "<div>\n",
       "<style scoped>\n",
       "    .dataframe tbody tr th:only-of-type {\n",
       "        vertical-align: middle;\n",
       "    }\n",
       "\n",
       "    .dataframe tbody tr th {\n",
       "        vertical-align: top;\n",
       "    }\n",
       "\n",
       "    .dataframe thead th {\n",
       "        text-align: right;\n",
       "    }\n",
       "</style>\n",
       "<table border=\"1\" class=\"dataframe\">\n",
       "  <thead>\n",
       "    <tr style=\"text-align: right;\">\n",
       "      <th></th>\n",
       "      <th>duration</th>\n",
       "      <th>user_id</th>\n",
       "    </tr>\n",
       "  </thead>\n",
       "  <tbody>\n",
       "    <tr>\n",
       "      <th>count</th>\n",
       "      <td>202607.000000</td>\n",
       "      <td>202607.000000</td>\n",
       "    </tr>\n",
       "    <tr>\n",
       "      <th>mean</th>\n",
       "      <td>6.755887</td>\n",
       "      <td>1253.940619</td>\n",
       "    </tr>\n",
       "    <tr>\n",
       "      <th>std</th>\n",
       "      <td>5.843365</td>\n",
       "      <td>144.722751</td>\n",
       "    </tr>\n",
       "    <tr>\n",
       "      <th>min</th>\n",
       "      <td>0.000000</td>\n",
       "      <td>1000.000000</td>\n",
       "    </tr>\n",
       "    <tr>\n",
       "      <th>25%</th>\n",
       "      <td>1.300000</td>\n",
       "      <td>1126.000000</td>\n",
       "    </tr>\n",
       "    <tr>\n",
       "      <th>50%</th>\n",
       "      <td>6.000000</td>\n",
       "      <td>1260.000000</td>\n",
       "    </tr>\n",
       "    <tr>\n",
       "      <th>75%</th>\n",
       "      <td>10.700000</td>\n",
       "      <td>1379.000000</td>\n",
       "    </tr>\n",
       "    <tr>\n",
       "      <th>max</th>\n",
       "      <td>38.000000</td>\n",
       "      <td>1499.000000</td>\n",
       "    </tr>\n",
       "  </tbody>\n",
       "</table>\n",
       "</div>"
      ],
      "text/plain": [
       "            duration        user_id\n",
       "count  202607.000000  202607.000000\n",
       "mean        6.755887    1253.940619\n",
       "std         5.843365     144.722751\n",
       "min         0.000000    1000.000000\n",
       "25%         1.300000    1126.000000\n",
       "50%         6.000000    1260.000000\n",
       "75%        10.700000    1379.000000\n",
       "max        38.000000    1499.000000"
      ]
     },
     "execution_count": 9,
     "metadata": {},
     "output_type": "execute_result"
    }
   ],
   "source": [
    "calls.describe()"
   ]
  },
  {
   "cell_type": "markdown",
   "id": "01cc131e",
   "metadata": {},
   "source": [
    "В талице 202607 строк, 4 столбца. Пропуски отсутствуют. Типы данных: `float`, `int` и `object`. Необходимо привести столбец `call_date` к формату `datetime`. В описании сказано, что оператор всегда округляет секунды до минут. Каждый звонок округляется отдельно: даже если он длился всего 1 секунду, будет засчитан как 1 минута. Поэтому необходимо округлить значения в столбце `duration`. Сделаем это на следующем этапе."
   ]
  },
  {
   "cell_type": "code",
   "execution_count": 10,
   "id": "f822d3c7",
   "metadata": {},
   "outputs": [
    {
     "data": {
      "text/html": [
       "<div>\n",
       "<style scoped>\n",
       "    .dataframe tbody tr th:only-of-type {\n",
       "        vertical-align: middle;\n",
       "    }\n",
       "\n",
       "    .dataframe tbody tr th {\n",
       "        vertical-align: top;\n",
       "    }\n",
       "\n",
       "    .dataframe thead th {\n",
       "        text-align: right;\n",
       "    }\n",
       "</style>\n",
       "<table border=\"1\" class=\"dataframe\">\n",
       "  <thead>\n",
       "    <tr style=\"text-align: right;\">\n",
       "      <th></th>\n",
       "      <th>id</th>\n",
       "      <th>message_date</th>\n",
       "      <th>user_id</th>\n",
       "    </tr>\n",
       "  </thead>\n",
       "  <tbody>\n",
       "    <tr>\n",
       "      <th>0</th>\n",
       "      <td>1000_0</td>\n",
       "      <td>2018-06-27</td>\n",
       "      <td>1000</td>\n",
       "    </tr>\n",
       "    <tr>\n",
       "      <th>1</th>\n",
       "      <td>1000_1</td>\n",
       "      <td>2018-10-08</td>\n",
       "      <td>1000</td>\n",
       "    </tr>\n",
       "    <tr>\n",
       "      <th>2</th>\n",
       "      <td>1000_2</td>\n",
       "      <td>2018-08-04</td>\n",
       "      <td>1000</td>\n",
       "    </tr>\n",
       "    <tr>\n",
       "      <th>3</th>\n",
       "      <td>1000_3</td>\n",
       "      <td>2018-06-16</td>\n",
       "      <td>1000</td>\n",
       "    </tr>\n",
       "    <tr>\n",
       "      <th>4</th>\n",
       "      <td>1000_4</td>\n",
       "      <td>2018-12-05</td>\n",
       "      <td>1000</td>\n",
       "    </tr>\n",
       "    <tr>\n",
       "      <th>5</th>\n",
       "      <td>1000_5</td>\n",
       "      <td>2018-06-20</td>\n",
       "      <td>1000</td>\n",
       "    </tr>\n",
       "    <tr>\n",
       "      <th>6</th>\n",
       "      <td>1000_6</td>\n",
       "      <td>2018-11-19</td>\n",
       "      <td>1000</td>\n",
       "    </tr>\n",
       "    <tr>\n",
       "      <th>7</th>\n",
       "      <td>1000_7</td>\n",
       "      <td>2018-10-29</td>\n",
       "      <td>1000</td>\n",
       "    </tr>\n",
       "    <tr>\n",
       "      <th>8</th>\n",
       "      <td>1000_8</td>\n",
       "      <td>2018-06-25</td>\n",
       "      <td>1000</td>\n",
       "    </tr>\n",
       "    <tr>\n",
       "      <th>9</th>\n",
       "      <td>1000_9</td>\n",
       "      <td>2018-12-18</td>\n",
       "      <td>1000</td>\n",
       "    </tr>\n",
       "  </tbody>\n",
       "</table>\n",
       "</div>"
      ],
      "text/plain": [
       "       id message_date  user_id\n",
       "0  1000_0   2018-06-27     1000\n",
       "1  1000_1   2018-10-08     1000\n",
       "2  1000_2   2018-08-04     1000\n",
       "3  1000_3   2018-06-16     1000\n",
       "4  1000_4   2018-12-05     1000\n",
       "5  1000_5   2018-06-20     1000\n",
       "6  1000_6   2018-11-19     1000\n",
       "7  1000_7   2018-10-29     1000\n",
       "8  1000_8   2018-06-25     1000\n",
       "9  1000_9   2018-12-18     1000"
      ]
     },
     "execution_count": 10,
     "metadata": {},
     "output_type": "execute_result"
    }
   ],
   "source": [
    "messages.head(10) # вывод первых 10 строк таблицы"
   ]
  },
  {
   "cell_type": "code",
   "execution_count": 11,
   "id": "c27d6f3a",
   "metadata": {
    "scrolled": true
   },
   "outputs": [
    {
     "name": "stdout",
     "output_type": "stream",
     "text": [
      "<class 'pandas.core.frame.DataFrame'>\n",
      "RangeIndex: 123036 entries, 0 to 123035\n",
      "Data columns (total 3 columns):\n",
      " #   Column        Non-Null Count   Dtype \n",
      "---  ------        --------------   ----- \n",
      " 0   id            123036 non-null  object\n",
      " 1   message_date  123036 non-null  object\n",
      " 2   user_id       123036 non-null  int64 \n",
      "dtypes: int64(1), object(2)\n",
      "memory usage: 2.8+ MB\n"
     ]
    }
   ],
   "source": [
    "messages.info() # вывод общей информации по датасету"
   ]
  },
  {
   "cell_type": "code",
   "execution_count": 12,
   "id": "da2fe74a",
   "metadata": {},
   "outputs": [
    {
     "data": {
      "text/html": [
       "<div>\n",
       "<style scoped>\n",
       "    .dataframe tbody tr th:only-of-type {\n",
       "        vertical-align: middle;\n",
       "    }\n",
       "\n",
       "    .dataframe tbody tr th {\n",
       "        vertical-align: top;\n",
       "    }\n",
       "\n",
       "    .dataframe thead th {\n",
       "        text-align: right;\n",
       "    }\n",
       "</style>\n",
       "<table border=\"1\" class=\"dataframe\">\n",
       "  <thead>\n",
       "    <tr style=\"text-align: right;\">\n",
       "      <th></th>\n",
       "      <th>user_id</th>\n",
       "    </tr>\n",
       "  </thead>\n",
       "  <tbody>\n",
       "    <tr>\n",
       "      <th>count</th>\n",
       "      <td>123036.000000</td>\n",
       "    </tr>\n",
       "    <tr>\n",
       "      <th>mean</th>\n",
       "      <td>1256.989410</td>\n",
       "    </tr>\n",
       "    <tr>\n",
       "      <th>std</th>\n",
       "      <td>143.523967</td>\n",
       "    </tr>\n",
       "    <tr>\n",
       "      <th>min</th>\n",
       "      <td>1000.000000</td>\n",
       "    </tr>\n",
       "    <tr>\n",
       "      <th>25%</th>\n",
       "      <td>1134.000000</td>\n",
       "    </tr>\n",
       "    <tr>\n",
       "      <th>50%</th>\n",
       "      <td>1271.000000</td>\n",
       "    </tr>\n",
       "    <tr>\n",
       "      <th>75%</th>\n",
       "      <td>1381.000000</td>\n",
       "    </tr>\n",
       "    <tr>\n",
       "      <th>max</th>\n",
       "      <td>1499.000000</td>\n",
       "    </tr>\n",
       "  </tbody>\n",
       "</table>\n",
       "</div>"
      ],
      "text/plain": [
       "             user_id\n",
       "count  123036.000000\n",
       "mean     1256.989410\n",
       "std       143.523967\n",
       "min      1000.000000\n",
       "25%      1134.000000\n",
       "50%      1271.000000\n",
       "75%      1381.000000\n",
       "max      1499.000000"
      ]
     },
     "execution_count": 12,
     "metadata": {},
     "output_type": "execute_result"
    }
   ],
   "source": [
    "messages.describe()"
   ]
  },
  {
   "cell_type": "markdown",
   "id": "abf4743d",
   "metadata": {},
   "source": [
    "В талице 123036 строк, 3 столбца. Пропуски отсутствуют. Типы данных: `int` и `object`. Необходимо привести столбец `message_date` к формату `datetime`."
   ]
  },
  {
   "cell_type": "code",
   "execution_count": 13,
   "id": "6ddcb68c",
   "metadata": {},
   "outputs": [
    {
     "data": {
      "text/html": [
       "<div>\n",
       "<style scoped>\n",
       "    .dataframe tbody tr th:only-of-type {\n",
       "        vertical-align: middle;\n",
       "    }\n",
       "\n",
       "    .dataframe tbody tr th {\n",
       "        vertical-align: top;\n",
       "    }\n",
       "\n",
       "    .dataframe thead th {\n",
       "        text-align: right;\n",
       "    }\n",
       "</style>\n",
       "<table border=\"1\" class=\"dataframe\">\n",
       "  <thead>\n",
       "    <tr style=\"text-align: right;\">\n",
       "      <th></th>\n",
       "      <th>Unnamed: 0</th>\n",
       "      <th>id</th>\n",
       "      <th>mb_used</th>\n",
       "      <th>session_date</th>\n",
       "      <th>user_id</th>\n",
       "    </tr>\n",
       "  </thead>\n",
       "  <tbody>\n",
       "    <tr>\n",
       "      <th>0</th>\n",
       "      <td>0</td>\n",
       "      <td>1000_0</td>\n",
       "      <td>112.95</td>\n",
       "      <td>2018-11-25</td>\n",
       "      <td>1000</td>\n",
       "    </tr>\n",
       "    <tr>\n",
       "      <th>1</th>\n",
       "      <td>1</td>\n",
       "      <td>1000_1</td>\n",
       "      <td>1052.81</td>\n",
       "      <td>2018-09-07</td>\n",
       "      <td>1000</td>\n",
       "    </tr>\n",
       "    <tr>\n",
       "      <th>2</th>\n",
       "      <td>2</td>\n",
       "      <td>1000_2</td>\n",
       "      <td>1197.26</td>\n",
       "      <td>2018-06-25</td>\n",
       "      <td>1000</td>\n",
       "    </tr>\n",
       "    <tr>\n",
       "      <th>3</th>\n",
       "      <td>3</td>\n",
       "      <td>1000_3</td>\n",
       "      <td>550.27</td>\n",
       "      <td>2018-08-22</td>\n",
       "      <td>1000</td>\n",
       "    </tr>\n",
       "    <tr>\n",
       "      <th>4</th>\n",
       "      <td>4</td>\n",
       "      <td>1000_4</td>\n",
       "      <td>302.56</td>\n",
       "      <td>2018-09-24</td>\n",
       "      <td>1000</td>\n",
       "    </tr>\n",
       "    <tr>\n",
       "      <th>5</th>\n",
       "      <td>5</td>\n",
       "      <td>1000_5</td>\n",
       "      <td>399.97</td>\n",
       "      <td>2018-10-02</td>\n",
       "      <td>1000</td>\n",
       "    </tr>\n",
       "    <tr>\n",
       "      <th>6</th>\n",
       "      <td>6</td>\n",
       "      <td>1000_6</td>\n",
       "      <td>540.08</td>\n",
       "      <td>2018-09-07</td>\n",
       "      <td>1000</td>\n",
       "    </tr>\n",
       "    <tr>\n",
       "      <th>7</th>\n",
       "      <td>7</td>\n",
       "      <td>1000_7</td>\n",
       "      <td>415.70</td>\n",
       "      <td>2018-07-11</td>\n",
       "      <td>1000</td>\n",
       "    </tr>\n",
       "    <tr>\n",
       "      <th>8</th>\n",
       "      <td>8</td>\n",
       "      <td>1000_8</td>\n",
       "      <td>505.40</td>\n",
       "      <td>2018-10-08</td>\n",
       "      <td>1000</td>\n",
       "    </tr>\n",
       "    <tr>\n",
       "      <th>9</th>\n",
       "      <td>9</td>\n",
       "      <td>1000_9</td>\n",
       "      <td>345.54</td>\n",
       "      <td>2018-09-03</td>\n",
       "      <td>1000</td>\n",
       "    </tr>\n",
       "  </tbody>\n",
       "</table>\n",
       "</div>"
      ],
      "text/plain": [
       "   Unnamed: 0      id  mb_used session_date  user_id\n",
       "0           0  1000_0   112.95   2018-11-25     1000\n",
       "1           1  1000_1  1052.81   2018-09-07     1000\n",
       "2           2  1000_2  1197.26   2018-06-25     1000\n",
       "3           3  1000_3   550.27   2018-08-22     1000\n",
       "4           4  1000_4   302.56   2018-09-24     1000\n",
       "5           5  1000_5   399.97   2018-10-02     1000\n",
       "6           6  1000_6   540.08   2018-09-07     1000\n",
       "7           7  1000_7   415.70   2018-07-11     1000\n",
       "8           8  1000_8   505.40   2018-10-08     1000\n",
       "9           9  1000_9   345.54   2018-09-03     1000"
      ]
     },
     "execution_count": 13,
     "metadata": {},
     "output_type": "execute_result"
    }
   ],
   "source": [
    "internet.head(10) # вывод первых 10 строк таблицы"
   ]
  },
  {
   "cell_type": "code",
   "execution_count": 14,
   "id": "611a906c",
   "metadata": {},
   "outputs": [
    {
     "name": "stdout",
     "output_type": "stream",
     "text": [
      "<class 'pandas.core.frame.DataFrame'>\n",
      "RangeIndex: 149396 entries, 0 to 149395\n",
      "Data columns (total 5 columns):\n",
      " #   Column        Non-Null Count   Dtype  \n",
      "---  ------        --------------   -----  \n",
      " 0   Unnamed: 0    149396 non-null  int64  \n",
      " 1   id            149396 non-null  object \n",
      " 2   mb_used       149396 non-null  float64\n",
      " 3   session_date  149396 non-null  object \n",
      " 4   user_id       149396 non-null  int64  \n",
      "dtypes: float64(1), int64(2), object(2)\n",
      "memory usage: 5.7+ MB\n"
     ]
    }
   ],
   "source": [
    "internet.info() # вывод общей информации по датасету"
   ]
  },
  {
   "cell_type": "code",
   "execution_count": 15,
   "id": "f46619a6",
   "metadata": {},
   "outputs": [
    {
     "data": {
      "text/html": [
       "<div>\n",
       "<style scoped>\n",
       "    .dataframe tbody tr th:only-of-type {\n",
       "        vertical-align: middle;\n",
       "    }\n",
       "\n",
       "    .dataframe tbody tr th {\n",
       "        vertical-align: top;\n",
       "    }\n",
       "\n",
       "    .dataframe thead th {\n",
       "        text-align: right;\n",
       "    }\n",
       "</style>\n",
       "<table border=\"1\" class=\"dataframe\">\n",
       "  <thead>\n",
       "    <tr style=\"text-align: right;\">\n",
       "      <th></th>\n",
       "      <th>Unnamed: 0</th>\n",
       "      <th>mb_used</th>\n",
       "      <th>user_id</th>\n",
       "    </tr>\n",
       "  </thead>\n",
       "  <tbody>\n",
       "    <tr>\n",
       "      <th>count</th>\n",
       "      <td>149396.000000</td>\n",
       "      <td>149396.000000</td>\n",
       "      <td>149396.000000</td>\n",
       "    </tr>\n",
       "    <tr>\n",
       "      <th>mean</th>\n",
       "      <td>74697.500000</td>\n",
       "      <td>370.192426</td>\n",
       "      <td>1252.099842</td>\n",
       "    </tr>\n",
       "    <tr>\n",
       "      <th>std</th>\n",
       "      <td>43127.054745</td>\n",
       "      <td>278.300951</td>\n",
       "      <td>144.050823</td>\n",
       "    </tr>\n",
       "    <tr>\n",
       "      <th>min</th>\n",
       "      <td>0.000000</td>\n",
       "      <td>0.000000</td>\n",
       "      <td>1000.000000</td>\n",
       "    </tr>\n",
       "    <tr>\n",
       "      <th>25%</th>\n",
       "      <td>37348.750000</td>\n",
       "      <td>138.187500</td>\n",
       "      <td>1130.000000</td>\n",
       "    </tr>\n",
       "    <tr>\n",
       "      <th>50%</th>\n",
       "      <td>74697.500000</td>\n",
       "      <td>348.015000</td>\n",
       "      <td>1251.000000</td>\n",
       "    </tr>\n",
       "    <tr>\n",
       "      <th>75%</th>\n",
       "      <td>112046.250000</td>\n",
       "      <td>559.552500</td>\n",
       "      <td>1380.000000</td>\n",
       "    </tr>\n",
       "    <tr>\n",
       "      <th>max</th>\n",
       "      <td>149395.000000</td>\n",
       "      <td>1724.830000</td>\n",
       "      <td>1499.000000</td>\n",
       "    </tr>\n",
       "  </tbody>\n",
       "</table>\n",
       "</div>"
      ],
      "text/plain": [
       "          Unnamed: 0        mb_used        user_id\n",
       "count  149396.000000  149396.000000  149396.000000\n",
       "mean    74697.500000     370.192426    1252.099842\n",
       "std     43127.054745     278.300951     144.050823\n",
       "min         0.000000       0.000000    1000.000000\n",
       "25%     37348.750000     138.187500    1130.000000\n",
       "50%     74697.500000     348.015000    1251.000000\n",
       "75%    112046.250000     559.552500    1380.000000\n",
       "max    149395.000000    1724.830000    1499.000000"
      ]
     },
     "execution_count": 15,
     "metadata": {},
     "output_type": "execute_result"
    }
   ],
   "source": [
    "internet.describe()"
   ]
  },
  {
   "cell_type": "markdown",
   "id": "c2fd4e8a",
   "metadata": {},
   "source": [
    "`5` колонок, `149396` строк. Типы данных: `float`, `int` и `object`. Пропуски отсутсвуют.\n",
    "\n",
    "Необходимо:\n",
    "* привести столбец `session_date` к формату `datetime`;\n",
    "* округлить значения столбца `mb_used ` до целых значений;\n",
    "* удалить столбец `Unnamed: 0`."
   ]
  },
  {
   "cell_type": "code",
   "execution_count": 16,
   "id": "0e902a1e",
   "metadata": {},
   "outputs": [
    {
     "data": {
      "text/html": [
       "<div>\n",
       "<style scoped>\n",
       "    .dataframe tbody tr th:only-of-type {\n",
       "        vertical-align: middle;\n",
       "    }\n",
       "\n",
       "    .dataframe tbody tr th {\n",
       "        vertical-align: top;\n",
       "    }\n",
       "\n",
       "    .dataframe thead th {\n",
       "        text-align: right;\n",
       "    }\n",
       "</style>\n",
       "<table border=\"1\" class=\"dataframe\">\n",
       "  <thead>\n",
       "    <tr style=\"text-align: right;\">\n",
       "      <th></th>\n",
       "      <th>messages_included</th>\n",
       "      <th>mb_per_month_included</th>\n",
       "      <th>minutes_included</th>\n",
       "      <th>rub_monthly_fee</th>\n",
       "      <th>rub_per_gb</th>\n",
       "      <th>rub_per_message</th>\n",
       "      <th>rub_per_minute</th>\n",
       "      <th>tariff_name</th>\n",
       "    </tr>\n",
       "  </thead>\n",
       "  <tbody>\n",
       "    <tr>\n",
       "      <th>0</th>\n",
       "      <td>50</td>\n",
       "      <td>15360</td>\n",
       "      <td>500</td>\n",
       "      <td>550</td>\n",
       "      <td>200</td>\n",
       "      <td>3</td>\n",
       "      <td>3</td>\n",
       "      <td>smart</td>\n",
       "    </tr>\n",
       "    <tr>\n",
       "      <th>1</th>\n",
       "      <td>1000</td>\n",
       "      <td>30720</td>\n",
       "      <td>3000</td>\n",
       "      <td>1950</td>\n",
       "      <td>150</td>\n",
       "      <td>1</td>\n",
       "      <td>1</td>\n",
       "      <td>ultra</td>\n",
       "    </tr>\n",
       "  </tbody>\n",
       "</table>\n",
       "</div>"
      ],
      "text/plain": [
       "   messages_included  mb_per_month_included  minutes_included  \\\n",
       "0                 50                  15360               500   \n",
       "1               1000                  30720              3000   \n",
       "\n",
       "   rub_monthly_fee  rub_per_gb  rub_per_message  rub_per_minute tariff_name  \n",
       "0              550         200                3               3       smart  \n",
       "1             1950         150                1               1       ultra  "
      ]
     },
     "execution_count": 16,
     "metadata": {},
     "output_type": "execute_result"
    }
   ],
   "source": [
    "tariffs.head()"
   ]
  },
  {
   "cell_type": "markdown",
   "id": "2844bad7",
   "metadata": {},
   "source": [
    "Тут, вроде, всё нормально."
   ]
  },
  {
   "cell_type": "markdown",
   "id": "5858f1df",
   "metadata": {},
   "source": [
    "# Подготовка данных."
   ]
  },
  {
   "cell_type": "markdown",
   "id": "4312d703",
   "metadata": {},
   "source": [
    "**Исправим формат даты:**"
   ]
  },
  {
   "cell_type": "code",
   "execution_count": 17,
   "id": "f0b2c93c",
   "metadata": {},
   "outputs": [],
   "source": [
    "users['reg_date'] = pd.to_datetime(users['reg_date'], format=\"%Y-%m-%d\") \n",
    "calls['call_date'] = pd.to_datetime(calls['call_date'], format=\"%Y-%m-%d\") \n",
    "messages['message_date'] = pd.to_datetime(messages['message_date'], format=\"%Y-%m-%d\")\n",
    "internet['session_date'] = pd.to_datetime(internet['session_date'], format=\"%Y-%m-%d\")"
   ]
  },
  {
   "cell_type": "code",
   "execution_count": 18,
   "id": "f725e577",
   "metadata": {},
   "outputs": [],
   "source": [
    "# добавим столбец объём потраченного за сессию интернет-трафика (в гигабайтах)\n",
    "internet['gb_used'] = (internet['mb_used'] / 1024)"
   ]
  },
  {
   "cell_type": "code",
   "execution_count": 19,
   "id": "f4330fb7",
   "metadata": {},
   "outputs": [
    {
     "name": "stdout",
     "output_type": "stream",
     "text": [
      "<class 'pandas.core.frame.DataFrame'>\n",
      "RangeIndex: 500 entries, 0 to 499\n",
      "Data columns (total 8 columns):\n",
      " #   Column      Non-Null Count  Dtype         \n",
      "---  ------      --------------  -----         \n",
      " 0   user_id     500 non-null    int64         \n",
      " 1   age         500 non-null    int64         \n",
      " 2   churn_date  38 non-null     object        \n",
      " 3   city        500 non-null    object        \n",
      " 4   first_name  500 non-null    object        \n",
      " 5   last_name   500 non-null    object        \n",
      " 6   reg_date    500 non-null    datetime64[ns]\n",
      " 7   tariff      500 non-null    object        \n",
      "dtypes: datetime64[ns](1), int64(2), object(5)\n",
      "memory usage: 31.4+ KB\n"
     ]
    }
   ],
   "source": [
    "users.info()"
   ]
  },
  {
   "cell_type": "markdown",
   "id": "dff788e7",
   "metadata": {},
   "source": [
    "Удалим столбец `Unnamed: 0`"
   ]
  },
  {
   "cell_type": "code",
   "execution_count": 20,
   "id": "8b1f86ba",
   "metadata": {},
   "outputs": [],
   "source": [
    "internet.drop(columns = ['Unnamed: 0'], axis = 1, inplace=True)"
   ]
  },
  {
   "cell_type": "code",
   "execution_count": 21,
   "id": "6d7ab66a",
   "metadata": {},
   "outputs": [
    {
     "data": {
      "text/html": [
       "<div>\n",
       "<style scoped>\n",
       "    .dataframe tbody tr th:only-of-type {\n",
       "        vertical-align: middle;\n",
       "    }\n",
       "\n",
       "    .dataframe tbody tr th {\n",
       "        vertical-align: top;\n",
       "    }\n",
       "\n",
       "    .dataframe thead th {\n",
       "        text-align: right;\n",
       "    }\n",
       "</style>\n",
       "<table border=\"1\" class=\"dataframe\">\n",
       "  <thead>\n",
       "    <tr style=\"text-align: right;\">\n",
       "      <th></th>\n",
       "      <th>id</th>\n",
       "      <th>mb_used</th>\n",
       "      <th>session_date</th>\n",
       "      <th>user_id</th>\n",
       "      <th>gb_used</th>\n",
       "    </tr>\n",
       "  </thead>\n",
       "  <tbody>\n",
       "    <tr>\n",
       "      <th>0</th>\n",
       "      <td>1000_0</td>\n",
       "      <td>112.95</td>\n",
       "      <td>2018-11-25</td>\n",
       "      <td>1000</td>\n",
       "      <td>0.110303</td>\n",
       "    </tr>\n",
       "    <tr>\n",
       "      <th>1</th>\n",
       "      <td>1000_1</td>\n",
       "      <td>1052.81</td>\n",
       "      <td>2018-09-07</td>\n",
       "      <td>1000</td>\n",
       "      <td>1.028135</td>\n",
       "    </tr>\n",
       "    <tr>\n",
       "      <th>2</th>\n",
       "      <td>1000_2</td>\n",
       "      <td>1197.26</td>\n",
       "      <td>2018-06-25</td>\n",
       "      <td>1000</td>\n",
       "      <td>1.169199</td>\n",
       "    </tr>\n",
       "    <tr>\n",
       "      <th>3</th>\n",
       "      <td>1000_3</td>\n",
       "      <td>550.27</td>\n",
       "      <td>2018-08-22</td>\n",
       "      <td>1000</td>\n",
       "      <td>0.537373</td>\n",
       "    </tr>\n",
       "    <tr>\n",
       "      <th>4</th>\n",
       "      <td>1000_4</td>\n",
       "      <td>302.56</td>\n",
       "      <td>2018-09-24</td>\n",
       "      <td>1000</td>\n",
       "      <td>0.295469</td>\n",
       "    </tr>\n",
       "  </tbody>\n",
       "</table>\n",
       "</div>"
      ],
      "text/plain": [
       "       id  mb_used session_date  user_id   gb_used\n",
       "0  1000_0   112.95   2018-11-25     1000  0.110303\n",
       "1  1000_1  1052.81   2018-09-07     1000  1.028135\n",
       "2  1000_2  1197.26   2018-06-25     1000  1.169199\n",
       "3  1000_3   550.27   2018-08-22     1000  0.537373\n",
       "4  1000_4   302.56   2018-09-24     1000  0.295469"
      ]
     },
     "execution_count": 21,
     "metadata": {},
     "output_type": "execute_result"
    }
   ],
   "source": [
    "internet.head()"
   ]
  },
  {
   "cell_type": "markdown",
   "id": "fcf2074d",
   "metadata": {},
   "source": [
    "**Посчитаем для каждого пользователя:**\n",
    "\n",
    "- количество сделанных звонков и израсходованных минут разговора по месяцам\n",
    "- количество отправленных сообщений по месяцам\n",
    "- объем израсходованного интернет-трафика по месяцам\n",
    "- помесячную выручку с каждого пользователя"
   ]
  },
  {
   "cell_type": "markdown",
   "id": "4e7961f4",
   "metadata": {},
   "source": [
    "Добавим в 3 базовые таблицы (`calls`, `messages`, `internet`) колонку с месяцем:"
   ]
  },
  {
   "cell_type": "code",
   "execution_count": 22,
   "id": "0a41be28",
   "metadata": {},
   "outputs": [
    {
     "data": {
      "text/html": [
       "<div>\n",
       "<style scoped>\n",
       "    .dataframe tbody tr th:only-of-type {\n",
       "        vertical-align: middle;\n",
       "    }\n",
       "\n",
       "    .dataframe tbody tr th {\n",
       "        vertical-align: top;\n",
       "    }\n",
       "\n",
       "    .dataframe thead th {\n",
       "        text-align: right;\n",
       "    }\n",
       "</style>\n",
       "<table border=\"1\" class=\"dataframe\">\n",
       "  <thead>\n",
       "    <tr style=\"text-align: right;\">\n",
       "      <th></th>\n",
       "      <th>id</th>\n",
       "      <th>call_date</th>\n",
       "      <th>duration</th>\n",
       "      <th>user_id</th>\n",
       "      <th>month</th>\n",
       "    </tr>\n",
       "  </thead>\n",
       "  <tbody>\n",
       "    <tr>\n",
       "      <th>0</th>\n",
       "      <td>1000_0</td>\n",
       "      <td>2018-07-25</td>\n",
       "      <td>0.00</td>\n",
       "      <td>1000</td>\n",
       "      <td>7</td>\n",
       "    </tr>\n",
       "    <tr>\n",
       "      <th>1</th>\n",
       "      <td>1000_1</td>\n",
       "      <td>2018-08-17</td>\n",
       "      <td>0.00</td>\n",
       "      <td>1000</td>\n",
       "      <td>8</td>\n",
       "    </tr>\n",
       "    <tr>\n",
       "      <th>2</th>\n",
       "      <td>1000_2</td>\n",
       "      <td>2018-06-11</td>\n",
       "      <td>2.85</td>\n",
       "      <td>1000</td>\n",
       "      <td>6</td>\n",
       "    </tr>\n",
       "    <tr>\n",
       "      <th>3</th>\n",
       "      <td>1000_3</td>\n",
       "      <td>2018-09-21</td>\n",
       "      <td>13.80</td>\n",
       "      <td>1000</td>\n",
       "      <td>9</td>\n",
       "    </tr>\n",
       "    <tr>\n",
       "      <th>4</th>\n",
       "      <td>1000_4</td>\n",
       "      <td>2018-12-15</td>\n",
       "      <td>5.18</td>\n",
       "      <td>1000</td>\n",
       "      <td>12</td>\n",
       "    </tr>\n",
       "  </tbody>\n",
       "</table>\n",
       "</div>"
      ],
      "text/plain": [
       "       id  call_date  duration  user_id  month\n",
       "0  1000_0 2018-07-25      0.00     1000      7\n",
       "1  1000_1 2018-08-17      0.00     1000      8\n",
       "2  1000_2 2018-06-11      2.85     1000      6\n",
       "3  1000_3 2018-09-21     13.80     1000      9\n",
       "4  1000_4 2018-12-15      5.18     1000     12"
      ]
     },
     "metadata": {},
     "output_type": "display_data"
    },
    {
     "data": {
      "text/html": [
       "<div>\n",
       "<style scoped>\n",
       "    .dataframe tbody tr th:only-of-type {\n",
       "        vertical-align: middle;\n",
       "    }\n",
       "\n",
       "    .dataframe tbody tr th {\n",
       "        vertical-align: top;\n",
       "    }\n",
       "\n",
       "    .dataframe thead th {\n",
       "        text-align: right;\n",
       "    }\n",
       "</style>\n",
       "<table border=\"1\" class=\"dataframe\">\n",
       "  <thead>\n",
       "    <tr style=\"text-align: right;\">\n",
       "      <th></th>\n",
       "      <th>id</th>\n",
       "      <th>message_date</th>\n",
       "      <th>user_id</th>\n",
       "      <th>month</th>\n",
       "    </tr>\n",
       "  </thead>\n",
       "  <tbody>\n",
       "    <tr>\n",
       "      <th>0</th>\n",
       "      <td>1000_0</td>\n",
       "      <td>2018-06-27</td>\n",
       "      <td>1000</td>\n",
       "      <td>6</td>\n",
       "    </tr>\n",
       "    <tr>\n",
       "      <th>1</th>\n",
       "      <td>1000_1</td>\n",
       "      <td>2018-10-08</td>\n",
       "      <td>1000</td>\n",
       "      <td>10</td>\n",
       "    </tr>\n",
       "    <tr>\n",
       "      <th>2</th>\n",
       "      <td>1000_2</td>\n",
       "      <td>2018-08-04</td>\n",
       "      <td>1000</td>\n",
       "      <td>8</td>\n",
       "    </tr>\n",
       "    <tr>\n",
       "      <th>3</th>\n",
       "      <td>1000_3</td>\n",
       "      <td>2018-06-16</td>\n",
       "      <td>1000</td>\n",
       "      <td>6</td>\n",
       "    </tr>\n",
       "    <tr>\n",
       "      <th>4</th>\n",
       "      <td>1000_4</td>\n",
       "      <td>2018-12-05</td>\n",
       "      <td>1000</td>\n",
       "      <td>12</td>\n",
       "    </tr>\n",
       "  </tbody>\n",
       "</table>\n",
       "</div>"
      ],
      "text/plain": [
       "       id message_date  user_id  month\n",
       "0  1000_0   2018-06-27     1000      6\n",
       "1  1000_1   2018-10-08     1000     10\n",
       "2  1000_2   2018-08-04     1000      8\n",
       "3  1000_3   2018-06-16     1000      6\n",
       "4  1000_4   2018-12-05     1000     12"
      ]
     },
     "metadata": {},
     "output_type": "display_data"
    },
    {
     "data": {
      "text/html": [
       "<div>\n",
       "<style scoped>\n",
       "    .dataframe tbody tr th:only-of-type {\n",
       "        vertical-align: middle;\n",
       "    }\n",
       "\n",
       "    .dataframe tbody tr th {\n",
       "        vertical-align: top;\n",
       "    }\n",
       "\n",
       "    .dataframe thead th {\n",
       "        text-align: right;\n",
       "    }\n",
       "</style>\n",
       "<table border=\"1\" class=\"dataframe\">\n",
       "  <thead>\n",
       "    <tr style=\"text-align: right;\">\n",
       "      <th></th>\n",
       "      <th>id</th>\n",
       "      <th>mb_used</th>\n",
       "      <th>session_date</th>\n",
       "      <th>user_id</th>\n",
       "      <th>gb_used</th>\n",
       "      <th>month</th>\n",
       "    </tr>\n",
       "  </thead>\n",
       "  <tbody>\n",
       "    <tr>\n",
       "      <th>0</th>\n",
       "      <td>1000_0</td>\n",
       "      <td>112.95</td>\n",
       "      <td>2018-11-25</td>\n",
       "      <td>1000</td>\n",
       "      <td>0.110303</td>\n",
       "      <td>11</td>\n",
       "    </tr>\n",
       "    <tr>\n",
       "      <th>1</th>\n",
       "      <td>1000_1</td>\n",
       "      <td>1052.81</td>\n",
       "      <td>2018-09-07</td>\n",
       "      <td>1000</td>\n",
       "      <td>1.028135</td>\n",
       "      <td>9</td>\n",
       "    </tr>\n",
       "    <tr>\n",
       "      <th>2</th>\n",
       "      <td>1000_2</td>\n",
       "      <td>1197.26</td>\n",
       "      <td>2018-06-25</td>\n",
       "      <td>1000</td>\n",
       "      <td>1.169199</td>\n",
       "      <td>6</td>\n",
       "    </tr>\n",
       "    <tr>\n",
       "      <th>3</th>\n",
       "      <td>1000_3</td>\n",
       "      <td>550.27</td>\n",
       "      <td>2018-08-22</td>\n",
       "      <td>1000</td>\n",
       "      <td>0.537373</td>\n",
       "      <td>8</td>\n",
       "    </tr>\n",
       "    <tr>\n",
       "      <th>4</th>\n",
       "      <td>1000_4</td>\n",
       "      <td>302.56</td>\n",
       "      <td>2018-09-24</td>\n",
       "      <td>1000</td>\n",
       "      <td>0.295469</td>\n",
       "      <td>9</td>\n",
       "    </tr>\n",
       "  </tbody>\n",
       "</table>\n",
       "</div>"
      ],
      "text/plain": [
       "       id  mb_used session_date  user_id   gb_used  month\n",
       "0  1000_0   112.95   2018-11-25     1000  0.110303     11\n",
       "1  1000_1  1052.81   2018-09-07     1000  1.028135      9\n",
       "2  1000_2  1197.26   2018-06-25     1000  1.169199      6\n",
       "3  1000_3   550.27   2018-08-22     1000  0.537373      8\n",
       "4  1000_4   302.56   2018-09-24     1000  0.295469      9"
      ]
     },
     "metadata": {},
     "output_type": "display_data"
    }
   ],
   "source": [
    "# добавление столбца с месяцем\n",
    "calls['month'] = calls['call_date'].dt.month\n",
    "messages['month'] = messages['message_date'].dt.month\n",
    "internet['month'] = internet['session_date'].dt.month\n",
    "display(calls.head(), messages.head(), internet.head())"
   ]
  },
  {
   "cell_type": "code",
   "execution_count": 23,
   "id": "c2734bb7",
   "metadata": {},
   "outputs": [],
   "source": [
    "# округление длительности звонков и приведение к целочисленному формату\n",
    "calls['duration'] = calls['duration'].apply(np.ceil).astype(int) "
   ]
  },
  {
   "cell_type": "code",
   "execution_count": 24,
   "id": "c566f6d6",
   "metadata": {
    "scrolled": false
   },
   "outputs": [
    {
     "data": {
      "text/html": [
       "<div>\n",
       "<style scoped>\n",
       "    .dataframe tbody tr th:only-of-type {\n",
       "        vertical-align: middle;\n",
       "    }\n",
       "\n",
       "    .dataframe tbody tr th {\n",
       "        vertical-align: top;\n",
       "    }\n",
       "\n",
       "    .dataframe thead th {\n",
       "        text-align: right;\n",
       "    }\n",
       "</style>\n",
       "<table border=\"1\" class=\"dataframe\">\n",
       "  <thead>\n",
       "    <tr style=\"text-align: right;\">\n",
       "      <th></th>\n",
       "      <th>user_id</th>\n",
       "      <th>month</th>\n",
       "      <th>total_calls</th>\n",
       "      <th>total_minutes</th>\n",
       "    </tr>\n",
       "  </thead>\n",
       "  <tbody>\n",
       "    <tr>\n",
       "      <th>0</th>\n",
       "      <td>1000</td>\n",
       "      <td>5</td>\n",
       "      <td>22</td>\n",
       "      <td>159</td>\n",
       "    </tr>\n",
       "    <tr>\n",
       "      <th>1</th>\n",
       "      <td>1000</td>\n",
       "      <td>6</td>\n",
       "      <td>43</td>\n",
       "      <td>172</td>\n",
       "    </tr>\n",
       "    <tr>\n",
       "      <th>2</th>\n",
       "      <td>1000</td>\n",
       "      <td>7</td>\n",
       "      <td>47</td>\n",
       "      <td>340</td>\n",
       "    </tr>\n",
       "    <tr>\n",
       "      <th>3</th>\n",
       "      <td>1000</td>\n",
       "      <td>8</td>\n",
       "      <td>52</td>\n",
       "      <td>408</td>\n",
       "    </tr>\n",
       "    <tr>\n",
       "      <th>4</th>\n",
       "      <td>1000</td>\n",
       "      <td>9</td>\n",
       "      <td>58</td>\n",
       "      <td>466</td>\n",
       "    </tr>\n",
       "    <tr>\n",
       "      <th>5</th>\n",
       "      <td>1000</td>\n",
       "      <td>10</td>\n",
       "      <td>57</td>\n",
       "      <td>350</td>\n",
       "    </tr>\n",
       "    <tr>\n",
       "      <th>6</th>\n",
       "      <td>1000</td>\n",
       "      <td>11</td>\n",
       "      <td>43</td>\n",
       "      <td>338</td>\n",
       "    </tr>\n",
       "    <tr>\n",
       "      <th>7</th>\n",
       "      <td>1000</td>\n",
       "      <td>12</td>\n",
       "      <td>46</td>\n",
       "      <td>333</td>\n",
       "    </tr>\n",
       "    <tr>\n",
       "      <th>8</th>\n",
       "      <td>1001</td>\n",
       "      <td>11</td>\n",
       "      <td>59</td>\n",
       "      <td>430</td>\n",
       "    </tr>\n",
       "    <tr>\n",
       "      <th>9</th>\n",
       "      <td>1001</td>\n",
       "      <td>12</td>\n",
       "      <td>63</td>\n",
       "      <td>414</td>\n",
       "    </tr>\n",
       "  </tbody>\n",
       "</table>\n",
       "</div>"
      ],
      "text/plain": [
       "   user_id  month  total_calls  total_minutes\n",
       "0     1000      5           22            159\n",
       "1     1000      6           43            172\n",
       "2     1000      7           47            340\n",
       "3     1000      8           52            408\n",
       "4     1000      9           58            466\n",
       "5     1000     10           57            350\n",
       "6     1000     11           43            338\n",
       "7     1000     12           46            333\n",
       "8     1001     11           59            430\n",
       "9     1001     12           63            414"
      ]
     },
     "metadata": {},
     "output_type": "display_data"
    },
    {
     "data": {
      "text/html": [
       "<div>\n",
       "<style scoped>\n",
       "    .dataframe tbody tr th:only-of-type {\n",
       "        vertical-align: middle;\n",
       "    }\n",
       "\n",
       "    .dataframe tbody tr th {\n",
       "        vertical-align: top;\n",
       "    }\n",
       "\n",
       "    .dataframe thead th {\n",
       "        text-align: right;\n",
       "    }\n",
       "</style>\n",
       "<table border=\"1\" class=\"dataframe\">\n",
       "  <thead>\n",
       "    <tr style=\"text-align: right;\">\n",
       "      <th></th>\n",
       "      <th>user_id</th>\n",
       "      <th>month</th>\n",
       "      <th>total_messages</th>\n",
       "    </tr>\n",
       "  </thead>\n",
       "  <tbody>\n",
       "    <tr>\n",
       "      <th>0</th>\n",
       "      <td>1000</td>\n",
       "      <td>5</td>\n",
       "      <td>22</td>\n",
       "    </tr>\n",
       "    <tr>\n",
       "      <th>1</th>\n",
       "      <td>1000</td>\n",
       "      <td>6</td>\n",
       "      <td>60</td>\n",
       "    </tr>\n",
       "    <tr>\n",
       "      <th>2</th>\n",
       "      <td>1000</td>\n",
       "      <td>7</td>\n",
       "      <td>75</td>\n",
       "    </tr>\n",
       "    <tr>\n",
       "      <th>3</th>\n",
       "      <td>1000</td>\n",
       "      <td>8</td>\n",
       "      <td>81</td>\n",
       "    </tr>\n",
       "    <tr>\n",
       "      <th>4</th>\n",
       "      <td>1000</td>\n",
       "      <td>9</td>\n",
       "      <td>57</td>\n",
       "    </tr>\n",
       "    <tr>\n",
       "      <th>5</th>\n",
       "      <td>1000</td>\n",
       "      <td>10</td>\n",
       "      <td>73</td>\n",
       "    </tr>\n",
       "    <tr>\n",
       "      <th>6</th>\n",
       "      <td>1000</td>\n",
       "      <td>11</td>\n",
       "      <td>58</td>\n",
       "    </tr>\n",
       "    <tr>\n",
       "      <th>7</th>\n",
       "      <td>1000</td>\n",
       "      <td>12</td>\n",
       "      <td>70</td>\n",
       "    </tr>\n",
       "    <tr>\n",
       "      <th>8</th>\n",
       "      <td>1002</td>\n",
       "      <td>6</td>\n",
       "      <td>4</td>\n",
       "    </tr>\n",
       "    <tr>\n",
       "      <th>9</th>\n",
       "      <td>1002</td>\n",
       "      <td>7</td>\n",
       "      <td>11</td>\n",
       "    </tr>\n",
       "  </tbody>\n",
       "</table>\n",
       "</div>"
      ],
      "text/plain": [
       "   user_id  month  total_messages\n",
       "0     1000      5              22\n",
       "1     1000      6              60\n",
       "2     1000      7              75\n",
       "3     1000      8              81\n",
       "4     1000      9              57\n",
       "5     1000     10              73\n",
       "6     1000     11              58\n",
       "7     1000     12              70\n",
       "8     1002      6               4\n",
       "9     1002      7              11"
      ]
     },
     "metadata": {},
     "output_type": "display_data"
    },
    {
     "data": {
      "text/html": [
       "<div>\n",
       "<style scoped>\n",
       "    .dataframe tbody tr th:only-of-type {\n",
       "        vertical-align: middle;\n",
       "    }\n",
       "\n",
       "    .dataframe tbody tr th {\n",
       "        vertical-align: top;\n",
       "    }\n",
       "\n",
       "    .dataframe thead th {\n",
       "        text-align: right;\n",
       "    }\n",
       "</style>\n",
       "<table border=\"1\" class=\"dataframe\">\n",
       "  <thead>\n",
       "    <tr style=\"text-align: right;\">\n",
       "      <th></th>\n",
       "      <th>user_id</th>\n",
       "      <th>month</th>\n",
       "      <th>total_gb</th>\n",
       "    </tr>\n",
       "  </thead>\n",
       "  <tbody>\n",
       "    <tr>\n",
       "      <th>0</th>\n",
       "      <td>1000</td>\n",
       "      <td>5</td>\n",
       "      <td>2.200674</td>\n",
       "    </tr>\n",
       "    <tr>\n",
       "      <th>1</th>\n",
       "      <td>1000</td>\n",
       "      <td>6</td>\n",
       "      <td>22.689229</td>\n",
       "    </tr>\n",
       "    <tr>\n",
       "      <th>2</th>\n",
       "      <td>1000</td>\n",
       "      <td>7</td>\n",
       "      <td>13.675430</td>\n",
       "    </tr>\n",
       "    <tr>\n",
       "      <th>3</th>\n",
       "      <td>1000</td>\n",
       "      <td>8</td>\n",
       "      <td>13.726494</td>\n",
       "    </tr>\n",
       "    <tr>\n",
       "      <th>4</th>\n",
       "      <td>1000</td>\n",
       "      <td>9</td>\n",
       "      <td>14.227451</td>\n",
       "    </tr>\n",
       "    <tr>\n",
       "      <th>5</th>\n",
       "      <td>1000</td>\n",
       "      <td>10</td>\n",
       "      <td>14.357900</td>\n",
       "    </tr>\n",
       "    <tr>\n",
       "      <th>6</th>\n",
       "      <td>1000</td>\n",
       "      <td>11</td>\n",
       "      <td>14.410615</td>\n",
       "    </tr>\n",
       "    <tr>\n",
       "      <th>7</th>\n",
       "      <td>1000</td>\n",
       "      <td>12</td>\n",
       "      <td>9.587510</td>\n",
       "    </tr>\n",
       "    <tr>\n",
       "      <th>8</th>\n",
       "      <td>1001</td>\n",
       "      <td>11</td>\n",
       "      <td>17.997402</td>\n",
       "    </tr>\n",
       "    <tr>\n",
       "      <th>9</th>\n",
       "      <td>1001</td>\n",
       "      <td>12</td>\n",
       "      <td>13.707676</td>\n",
       "    </tr>\n",
       "  </tbody>\n",
       "</table>\n",
       "</div>"
      ],
      "text/plain": [
       "   user_id  month   total_gb\n",
       "0     1000      5   2.200674\n",
       "1     1000      6  22.689229\n",
       "2     1000      7  13.675430\n",
       "3     1000      8  13.726494\n",
       "4     1000      9  14.227451\n",
       "5     1000     10  14.357900\n",
       "6     1000     11  14.410615\n",
       "7     1000     12   9.587510\n",
       "8     1001     11  17.997402\n",
       "9     1001     12  13.707676"
      ]
     },
     "metadata": {},
     "output_type": "display_data"
    }
   ],
   "source": [
    "# Количество сделанных звонков и израсходованных минут разговора по месяцам\n",
    "calls_group = calls.groupby(['user_id', 'month'])['duration'].agg(['count','sum']).reset_index() \n",
    "calls_group.columns = ['user_id', 'month', 'total_calls', 'total_minutes']\n",
    "\n",
    "# количество отправленных сообщений по месяцам\n",
    "messages_group = messages.groupby(['user_id', 'month'])['id'].count().reset_index()\n",
    "messages_group.columns = ['user_id', 'month', 'total_messages']\n",
    "\n",
    "# объем израсходованного интернет-трафика по месяцам\n",
    "internet_group = internet.groupby(['user_id', 'month'])['gb_used'].sum().reset_index()\n",
    "internet_group.columns = ['user_id', 'month', 'total_gb']\n",
    "\n",
    "display(calls_group.head(10))\n",
    "display(messages_group.head(10))\n",
    "display(internet_group.head(10))"
   ]
  },
  {
   "cell_type": "code",
   "execution_count": 25,
   "id": "03df65c7",
   "metadata": {},
   "outputs": [
    {
     "data": {
      "text/html": [
       "<div>\n",
       "<style scoped>\n",
       "    .dataframe tbody tr th:only-of-type {\n",
       "        vertical-align: middle;\n",
       "    }\n",
       "\n",
       "    .dataframe tbody tr th {\n",
       "        vertical-align: top;\n",
       "    }\n",
       "\n",
       "    .dataframe thead th {\n",
       "        text-align: right;\n",
       "    }\n",
       "</style>\n",
       "<table border=\"1\" class=\"dataframe\">\n",
       "  <thead>\n",
       "    <tr style=\"text-align: right;\">\n",
       "      <th></th>\n",
       "      <th>user_id</th>\n",
       "      <th>month</th>\n",
       "      <th>total_calls</th>\n",
       "      <th>total_minutes</th>\n",
       "    </tr>\n",
       "  </thead>\n",
       "  <tbody>\n",
       "    <tr>\n",
       "      <th>0</th>\n",
       "      <td>1467</td>\n",
       "      <td>12</td>\n",
       "      <td>244</td>\n",
       "      <td>1673</td>\n",
       "    </tr>\n",
       "    <tr>\n",
       "      <th>1</th>\n",
       "      <td>1377</td>\n",
       "      <td>3</td>\n",
       "      <td>203</td>\n",
       "      <td>1609</td>\n",
       "    </tr>\n",
       "    <tr>\n",
       "      <th>2</th>\n",
       "      <td>1216</td>\n",
       "      <td>12</td>\n",
       "      <td>198</td>\n",
       "      <td>1435</td>\n",
       "    </tr>\n",
       "    <tr>\n",
       "      <th>3</th>\n",
       "      <td>1222</td>\n",
       "      <td>10</td>\n",
       "      <td>196</td>\n",
       "      <td>1322</td>\n",
       "    </tr>\n",
       "    <tr>\n",
       "      <th>4</th>\n",
       "      <td>1196</td>\n",
       "      <td>12</td>\n",
       "      <td>189</td>\n",
       "      <td>1213</td>\n",
       "    </tr>\n",
       "    <tr>\n",
       "      <th>5</th>\n",
       "      <td>1341</td>\n",
       "      <td>8</td>\n",
       "      <td>188</td>\n",
       "      <td>1321</td>\n",
       "    </tr>\n",
       "    <tr>\n",
       "      <th>6</th>\n",
       "      <td>1377</td>\n",
       "      <td>12</td>\n",
       "      <td>185</td>\n",
       "      <td>1259</td>\n",
       "    </tr>\n",
       "    <tr>\n",
       "      <th>7</th>\n",
       "      <td>1377</td>\n",
       "      <td>7</td>\n",
       "      <td>185</td>\n",
       "      <td>1311</td>\n",
       "    </tr>\n",
       "    <tr>\n",
       "      <th>8</th>\n",
       "      <td>1222</td>\n",
       "      <td>12</td>\n",
       "      <td>184</td>\n",
       "      <td>1261</td>\n",
       "    </tr>\n",
       "    <tr>\n",
       "      <th>9</th>\n",
       "      <td>1060</td>\n",
       "      <td>12</td>\n",
       "      <td>184</td>\n",
       "      <td>1233</td>\n",
       "    </tr>\n",
       "  </tbody>\n",
       "</table>\n",
       "</div>"
      ],
      "text/plain": [
       "   user_id  month  total_calls  total_minutes\n",
       "0     1467     12          244           1673\n",
       "1     1377      3          203           1609\n",
       "2     1216     12          198           1435\n",
       "3     1222     10          196           1322\n",
       "4     1196     12          189           1213\n",
       "5     1341      8          188           1321\n",
       "6     1377     12          185           1259\n",
       "7     1377      7          185           1311\n",
       "8     1222     12          184           1261\n",
       "9     1060     12          184           1233"
      ]
     },
     "execution_count": 25,
     "metadata": {},
     "output_type": "execute_result"
    }
   ],
   "source": [
    "# TOP10 пользователей по количеству сделанных звонков\n",
    "calls_group.sort_values(by='total_calls', ascending=False).head(10).reset_index(drop=True)"
   ]
  },
  {
   "cell_type": "code",
   "execution_count": 26,
   "id": "1c6880e3",
   "metadata": {},
   "outputs": [
    {
     "data": {
      "text/html": [
       "<div>\n",
       "<style scoped>\n",
       "    .dataframe tbody tr th:only-of-type {\n",
       "        vertical-align: middle;\n",
       "    }\n",
       "\n",
       "    .dataframe tbody tr th {\n",
       "        vertical-align: top;\n",
       "    }\n",
       "\n",
       "    .dataframe thead th {\n",
       "        text-align: right;\n",
       "    }\n",
       "</style>\n",
       "<table border=\"1\" class=\"dataframe\">\n",
       "  <thead>\n",
       "    <tr style=\"text-align: right;\">\n",
       "      <th></th>\n",
       "      <th>user_id</th>\n",
       "      <th>month</th>\n",
       "      <th>total_calls</th>\n",
       "      <th>total_minutes</th>\n",
       "    </tr>\n",
       "  </thead>\n",
       "  <tbody>\n",
       "    <tr>\n",
       "      <th>0</th>\n",
       "      <td>1467</td>\n",
       "      <td>12</td>\n",
       "      <td>244</td>\n",
       "      <td>1673</td>\n",
       "    </tr>\n",
       "    <tr>\n",
       "      <th>1</th>\n",
       "      <td>1377</td>\n",
       "      <td>3</td>\n",
       "      <td>203</td>\n",
       "      <td>1609</td>\n",
       "    </tr>\n",
       "    <tr>\n",
       "      <th>2</th>\n",
       "      <td>1216</td>\n",
       "      <td>12</td>\n",
       "      <td>198</td>\n",
       "      <td>1435</td>\n",
       "    </tr>\n",
       "    <tr>\n",
       "      <th>3</th>\n",
       "      <td>1196</td>\n",
       "      <td>6</td>\n",
       "      <td>176</td>\n",
       "      <td>1410</td>\n",
       "    </tr>\n",
       "    <tr>\n",
       "      <th>4</th>\n",
       "      <td>1377</td>\n",
       "      <td>10</td>\n",
       "      <td>178</td>\n",
       "      <td>1401</td>\n",
       "    </tr>\n",
       "    <tr>\n",
       "      <th>5</th>\n",
       "      <td>1474</td>\n",
       "      <td>12</td>\n",
       "      <td>156</td>\n",
       "      <td>1345</td>\n",
       "    </tr>\n",
       "    <tr>\n",
       "      <th>6</th>\n",
       "      <td>1168</td>\n",
       "      <td>10</td>\n",
       "      <td>176</td>\n",
       "      <td>1334</td>\n",
       "    </tr>\n",
       "    <tr>\n",
       "      <th>7</th>\n",
       "      <td>1222</td>\n",
       "      <td>10</td>\n",
       "      <td>196</td>\n",
       "      <td>1322</td>\n",
       "    </tr>\n",
       "    <tr>\n",
       "      <th>8</th>\n",
       "      <td>1341</td>\n",
       "      <td>8</td>\n",
       "      <td>188</td>\n",
       "      <td>1321</td>\n",
       "    </tr>\n",
       "    <tr>\n",
       "      <th>9</th>\n",
       "      <td>1377</td>\n",
       "      <td>7</td>\n",
       "      <td>185</td>\n",
       "      <td>1311</td>\n",
       "    </tr>\n",
       "  </tbody>\n",
       "</table>\n",
       "</div>"
      ],
      "text/plain": [
       "   user_id  month  total_calls  total_minutes\n",
       "0     1467     12          244           1673\n",
       "1     1377      3          203           1609\n",
       "2     1216     12          198           1435\n",
       "3     1196      6          176           1410\n",
       "4     1377     10          178           1401\n",
       "5     1474     12          156           1345\n",
       "6     1168     10          176           1334\n",
       "7     1222     10          196           1322\n",
       "8     1341      8          188           1321\n",
       "9     1377      7          185           1311"
      ]
     },
     "execution_count": 26,
     "metadata": {},
     "output_type": "execute_result"
    }
   ],
   "source": [
    "# TOP10 пользователей с самым большим количеством потраченных минут\n",
    "calls_group.sort_values(by='total_minutes', ascending=False).head(10).reset_index(drop=True)"
   ]
  },
  {
   "cell_type": "code",
   "execution_count": 27,
   "id": "6df72866",
   "metadata": {},
   "outputs": [
    {
     "data": {
      "text/html": [
       "<div>\n",
       "<style scoped>\n",
       "    .dataframe tbody tr th:only-of-type {\n",
       "        vertical-align: middle;\n",
       "    }\n",
       "\n",
       "    .dataframe tbody tr th {\n",
       "        vertical-align: top;\n",
       "    }\n",
       "\n",
       "    .dataframe thead th {\n",
       "        text-align: right;\n",
       "    }\n",
       "</style>\n",
       "<table border=\"1\" class=\"dataframe\">\n",
       "  <thead>\n",
       "    <tr style=\"text-align: right;\">\n",
       "      <th></th>\n",
       "      <th>user_id</th>\n",
       "      <th>month</th>\n",
       "      <th>total_messages</th>\n",
       "    </tr>\n",
       "  </thead>\n",
       "  <tbody>\n",
       "    <tr>\n",
       "      <th>0</th>\n",
       "      <td>1165</td>\n",
       "      <td>12</td>\n",
       "      <td>224</td>\n",
       "    </tr>\n",
       "    <tr>\n",
       "      <th>1</th>\n",
       "      <td>1028</td>\n",
       "      <td>10</td>\n",
       "      <td>223</td>\n",
       "    </tr>\n",
       "    <tr>\n",
       "      <th>2</th>\n",
       "      <td>1231</td>\n",
       "      <td>7</td>\n",
       "      <td>211</td>\n",
       "    </tr>\n",
       "    <tr>\n",
       "      <th>3</th>\n",
       "      <td>1231</td>\n",
       "      <td>6</td>\n",
       "      <td>201</td>\n",
       "    </tr>\n",
       "    <tr>\n",
       "      <th>4</th>\n",
       "      <td>1165</td>\n",
       "      <td>11</td>\n",
       "      <td>197</td>\n",
       "    </tr>\n",
       "    <tr>\n",
       "      <th>5</th>\n",
       "      <td>1300</td>\n",
       "      <td>10</td>\n",
       "      <td>191</td>\n",
       "    </tr>\n",
       "    <tr>\n",
       "      <th>6</th>\n",
       "      <td>1231</td>\n",
       "      <td>12</td>\n",
       "      <td>191</td>\n",
       "    </tr>\n",
       "    <tr>\n",
       "      <th>7</th>\n",
       "      <td>1167</td>\n",
       "      <td>10</td>\n",
       "      <td>190</td>\n",
       "    </tr>\n",
       "    <tr>\n",
       "      <th>8</th>\n",
       "      <td>1231</td>\n",
       "      <td>9</td>\n",
       "      <td>188</td>\n",
       "    </tr>\n",
       "    <tr>\n",
       "      <th>9</th>\n",
       "      <td>1231</td>\n",
       "      <td>10</td>\n",
       "      <td>185</td>\n",
       "    </tr>\n",
       "  </tbody>\n",
       "</table>\n",
       "</div>"
      ],
      "text/plain": [
       "   user_id  month  total_messages\n",
       "0     1165     12             224\n",
       "1     1028     10             223\n",
       "2     1231      7             211\n",
       "3     1231      6             201\n",
       "4     1165     11             197\n",
       "5     1300     10             191\n",
       "6     1231     12             191\n",
       "7     1167     10             190\n",
       "8     1231      9             188\n",
       "9     1231     10             185"
      ]
     },
     "execution_count": 27,
     "metadata": {},
     "output_type": "execute_result"
    }
   ],
   "source": [
    "# TOP10 пользователей по количеству отправленных сообщений\n",
    "messages_group.sort_values(by='total_messages', ascending=False).head(10).reset_index(drop=True)"
   ]
  },
  {
   "cell_type": "code",
   "execution_count": 28,
   "id": "c59ceda2",
   "metadata": {},
   "outputs": [
    {
     "data": {
      "text/html": [
       "<div>\n",
       "<style scoped>\n",
       "    .dataframe tbody tr th:only-of-type {\n",
       "        vertical-align: middle;\n",
       "    }\n",
       "\n",
       "    .dataframe tbody tr th {\n",
       "        vertical-align: top;\n",
       "    }\n",
       "\n",
       "    .dataframe thead th {\n",
       "        text-align: right;\n",
       "    }\n",
       "</style>\n",
       "<table border=\"1\" class=\"dataframe\">\n",
       "  <thead>\n",
       "    <tr style=\"text-align: right;\">\n",
       "      <th></th>\n",
       "      <th>user_id</th>\n",
       "      <th>month</th>\n",
       "      <th>total_gb</th>\n",
       "    </tr>\n",
       "  </thead>\n",
       "  <tbody>\n",
       "    <tr>\n",
       "      <th>0</th>\n",
       "      <td>1124</td>\n",
       "      <td>10</td>\n",
       "      <td>48.579775</td>\n",
       "    </tr>\n",
       "    <tr>\n",
       "      <th>1</th>\n",
       "      <td>1240</td>\n",
       "      <td>8</td>\n",
       "      <td>47.218350</td>\n",
       "    </tr>\n",
       "    <tr>\n",
       "      <th>2</th>\n",
       "      <td>1255</td>\n",
       "      <td>7</td>\n",
       "      <td>44.121787</td>\n",
       "    </tr>\n",
       "    <tr>\n",
       "      <th>3</th>\n",
       "      <td>1300</td>\n",
       "      <td>11</td>\n",
       "      <td>43.258652</td>\n",
       "    </tr>\n",
       "    <tr>\n",
       "      <th>4</th>\n",
       "      <td>1060</td>\n",
       "      <td>12</td>\n",
       "      <td>42.901719</td>\n",
       "    </tr>\n",
       "    <tr>\n",
       "      <th>5</th>\n",
       "      <td>1240</td>\n",
       "      <td>5</td>\n",
       "      <td>42.797754</td>\n",
       "    </tr>\n",
       "    <tr>\n",
       "      <th>6</th>\n",
       "      <td>1180</td>\n",
       "      <td>10</td>\n",
       "      <td>42.553340</td>\n",
       "    </tr>\n",
       "    <tr>\n",
       "      <th>7</th>\n",
       "      <td>1240</td>\n",
       "      <td>12</td>\n",
       "      <td>42.309863</td>\n",
       "    </tr>\n",
       "    <tr>\n",
       "      <th>8</th>\n",
       "      <td>1380</td>\n",
       "      <td>12</td>\n",
       "      <td>42.289551</td>\n",
       "    </tr>\n",
       "    <tr>\n",
       "      <th>9</th>\n",
       "      <td>1024</td>\n",
       "      <td>11</td>\n",
       "      <td>42.097139</td>\n",
       "    </tr>\n",
       "  </tbody>\n",
       "</table>\n",
       "</div>"
      ],
      "text/plain": [
       "   user_id  month   total_gb\n",
       "0     1124     10  48.579775\n",
       "1     1240      8  47.218350\n",
       "2     1255      7  44.121787\n",
       "3     1300     11  43.258652\n",
       "4     1060     12  42.901719\n",
       "5     1240      5  42.797754\n",
       "6     1180     10  42.553340\n",
       "7     1240     12  42.309863\n",
       "8     1380     12  42.289551\n",
       "9     1024     11  42.097139"
      ]
     },
     "execution_count": 28,
     "metadata": {},
     "output_type": "execute_result"
    }
   ],
   "source": [
    "# TOP10 пользователей по использованию интернет трафика\n",
    "internet_group.sort_values(by='total_gb', ascending=False).head(10).reset_index(drop=True)"
   ]
  },
  {
   "cell_type": "markdown",
   "id": "68ea07be",
   "metadata": {},
   "source": [
    "Объединим три этих датасета в один."
   ]
  },
  {
   "cell_type": "code",
   "execution_count": 29,
   "id": "d1fb0109",
   "metadata": {},
   "outputs": [
    {
     "data": {
      "text/html": [
       "<div>\n",
       "<style scoped>\n",
       "    .dataframe tbody tr th:only-of-type {\n",
       "        vertical-align: middle;\n",
       "    }\n",
       "\n",
       "    .dataframe tbody tr th {\n",
       "        vertical-align: top;\n",
       "    }\n",
       "\n",
       "    .dataframe thead th {\n",
       "        text-align: right;\n",
       "    }\n",
       "</style>\n",
       "<table border=\"1\" class=\"dataframe\">\n",
       "  <thead>\n",
       "    <tr style=\"text-align: right;\">\n",
       "      <th></th>\n",
       "      <th>user_id</th>\n",
       "      <th>month</th>\n",
       "      <th>total_calls</th>\n",
       "      <th>total_minutes</th>\n",
       "      <th>total_messages</th>\n",
       "      <th>total_gb</th>\n",
       "    </tr>\n",
       "  </thead>\n",
       "  <tbody>\n",
       "    <tr>\n",
       "      <th>0</th>\n",
       "      <td>1000</td>\n",
       "      <td>5</td>\n",
       "      <td>22.0</td>\n",
       "      <td>159.0</td>\n",
       "      <td>22.0</td>\n",
       "      <td>2.200674</td>\n",
       "    </tr>\n",
       "    <tr>\n",
       "      <th>1</th>\n",
       "      <td>1000</td>\n",
       "      <td>6</td>\n",
       "      <td>43.0</td>\n",
       "      <td>172.0</td>\n",
       "      <td>60.0</td>\n",
       "      <td>22.689229</td>\n",
       "    </tr>\n",
       "    <tr>\n",
       "      <th>2</th>\n",
       "      <td>1000</td>\n",
       "      <td>7</td>\n",
       "      <td>47.0</td>\n",
       "      <td>340.0</td>\n",
       "      <td>75.0</td>\n",
       "      <td>13.675430</td>\n",
       "    </tr>\n",
       "    <tr>\n",
       "      <th>3</th>\n",
       "      <td>1000</td>\n",
       "      <td>8</td>\n",
       "      <td>52.0</td>\n",
       "      <td>408.0</td>\n",
       "      <td>81.0</td>\n",
       "      <td>13.726494</td>\n",
       "    </tr>\n",
       "    <tr>\n",
       "      <th>4</th>\n",
       "      <td>1000</td>\n",
       "      <td>9</td>\n",
       "      <td>58.0</td>\n",
       "      <td>466.0</td>\n",
       "      <td>57.0</td>\n",
       "      <td>14.227451</td>\n",
       "    </tr>\n",
       "    <tr>\n",
       "      <th>5</th>\n",
       "      <td>1000</td>\n",
       "      <td>10</td>\n",
       "      <td>57.0</td>\n",
       "      <td>350.0</td>\n",
       "      <td>73.0</td>\n",
       "      <td>14.357900</td>\n",
       "    </tr>\n",
       "    <tr>\n",
       "      <th>6</th>\n",
       "      <td>1000</td>\n",
       "      <td>11</td>\n",
       "      <td>43.0</td>\n",
       "      <td>338.0</td>\n",
       "      <td>58.0</td>\n",
       "      <td>14.410615</td>\n",
       "    </tr>\n",
       "    <tr>\n",
       "      <th>7</th>\n",
       "      <td>1000</td>\n",
       "      <td>12</td>\n",
       "      <td>46.0</td>\n",
       "      <td>333.0</td>\n",
       "      <td>70.0</td>\n",
       "      <td>9.587510</td>\n",
       "    </tr>\n",
       "    <tr>\n",
       "      <th>8</th>\n",
       "      <td>1001</td>\n",
       "      <td>11</td>\n",
       "      <td>59.0</td>\n",
       "      <td>430.0</td>\n",
       "      <td>NaN</td>\n",
       "      <td>17.997402</td>\n",
       "    </tr>\n",
       "    <tr>\n",
       "      <th>9</th>\n",
       "      <td>1001</td>\n",
       "      <td>12</td>\n",
       "      <td>63.0</td>\n",
       "      <td>414.0</td>\n",
       "      <td>NaN</td>\n",
       "      <td>13.707676</td>\n",
       "    </tr>\n",
       "  </tbody>\n",
       "</table>\n",
       "</div>"
      ],
      "text/plain": [
       "   user_id  month  total_calls  total_minutes  total_messages   total_gb\n",
       "0     1000      5         22.0          159.0            22.0   2.200674\n",
       "1     1000      6         43.0          172.0            60.0  22.689229\n",
       "2     1000      7         47.0          340.0            75.0  13.675430\n",
       "3     1000      8         52.0          408.0            81.0  13.726494\n",
       "4     1000      9         58.0          466.0            57.0  14.227451\n",
       "5     1000     10         57.0          350.0            73.0  14.357900\n",
       "6     1000     11         43.0          338.0            58.0  14.410615\n",
       "7     1000     12         46.0          333.0            70.0   9.587510\n",
       "8     1001     11         59.0          430.0             NaN  17.997402\n",
       "9     1001     12         63.0          414.0             NaN  13.707676"
      ]
     },
     "execution_count": 29,
     "metadata": {},
     "output_type": "execute_result"
    }
   ],
   "source": [
    "calls_msgs = calls_group.merge(messages_group, how='outer')\n",
    "calls_msgs_gb = calls_msgs.merge(internet_group, how='outer')\n",
    "calls_msgs_gb.head(10)"
   ]
  },
  {
   "cell_type": "code",
   "execution_count": 30,
   "id": "2ca6b59b",
   "metadata": {},
   "outputs": [
    {
     "name": "stdout",
     "output_type": "stream",
     "text": [
      "<class 'pandas.core.frame.DataFrame'>\n",
      "Int64Index: 3214 entries, 0 to 3213\n",
      "Data columns (total 6 columns):\n",
      " #   Column          Non-Null Count  Dtype  \n",
      "---  ------          --------------  -----  \n",
      " 0   user_id         3214 non-null   int64  \n",
      " 1   month           3214 non-null   int64  \n",
      " 2   total_calls     3174 non-null   float64\n",
      " 3   total_minutes   3174 non-null   float64\n",
      " 4   total_messages  2717 non-null   float64\n",
      " 5   total_gb        3203 non-null   float64\n",
      "dtypes: float64(4), int64(2)\n",
      "memory usage: 175.8 KB\n"
     ]
    }
   ],
   "source": [
    "calls_msgs_gb.info()"
   ]
  },
  {
   "cell_type": "code",
   "execution_count": 31,
   "id": "62979840",
   "metadata": {},
   "outputs": [
    {
     "name": "stdout",
     "output_type": "stream",
     "text": [
      "<class 'pandas.core.frame.DataFrame'>\n",
      "Int64Index: 3214 entries, 0 to 3213\n",
      "Data columns (total 6 columns):\n",
      " #   Column          Non-Null Count  Dtype  \n",
      "---  ------          --------------  -----  \n",
      " 0   user_id         3214 non-null   int64  \n",
      " 1   month           3214 non-null   int64  \n",
      " 2   total_calls     3174 non-null   float64\n",
      " 3   total_minutes   3174 non-null   float64\n",
      " 4   total_messages  2717 non-null   float64\n",
      " 5   total_gb        3203 non-null   float64\n",
      "dtypes: float64(4), int64(2)\n",
      "memory usage: 175.8 KB\n"
     ]
    }
   ],
   "source": [
    "calls_msgs_gb.info()"
   ]
  },
  {
   "cell_type": "code",
   "execution_count": 32,
   "id": "70eb8ccd",
   "metadata": {},
   "outputs": [
    {
     "data": {
      "text/plain": [
       "0"
      ]
     },
     "execution_count": 32,
     "metadata": {},
     "output_type": "execute_result"
    }
   ],
   "source": [
    "calls_msgs_gb.duplicated().sum() # проверим на дубликаты"
   ]
  },
  {
   "cell_type": "markdown",
   "id": "62f30ece",
   "metadata": {},
   "source": [
    "**Рассчёт помесячной выручки с каждого пользователя:**"
   ]
  },
  {
   "cell_type": "markdown",
   "id": "627688fa",
   "metadata": {},
   "source": [
    "Для расчёта помесячной выручки с каждого пользователя необходимо:\n",
    "\n",
    "* рассчитать звонки, сообщения и интернет-трафик сверх лимита пакета тарифа;\n",
    "* рассчитать стоимость сверхлимитных опций;\n",
    "* рассчитать суммарные затраты потребителя, включающие сумму абонентской платы и оплаты за сверхлимит."
   ]
  },
  {
   "cell_type": "code",
   "execution_count": 33,
   "id": "f9fa6667",
   "metadata": {},
   "outputs": [
    {
     "data": {
      "text/html": [
       "<div>\n",
       "<style scoped>\n",
       "    .dataframe tbody tr th:only-of-type {\n",
       "        vertical-align: middle;\n",
       "    }\n",
       "\n",
       "    .dataframe tbody tr th {\n",
       "        vertical-align: top;\n",
       "    }\n",
       "\n",
       "    .dataframe thead th {\n",
       "        text-align: right;\n",
       "    }\n",
       "</style>\n",
       "<table border=\"1\" class=\"dataframe\">\n",
       "  <thead>\n",
       "    <tr style=\"text-align: right;\">\n",
       "      <th></th>\n",
       "      <th>user_id</th>\n",
       "      <th>month</th>\n",
       "      <th>total_calls</th>\n",
       "      <th>total_minutes</th>\n",
       "      <th>total_messages</th>\n",
       "      <th>total_gb</th>\n",
       "      <th>churn_date</th>\n",
       "      <th>city</th>\n",
       "      <th>reg_date</th>\n",
       "      <th>tariff</th>\n",
       "    </tr>\n",
       "  </thead>\n",
       "  <tbody>\n",
       "    <tr>\n",
       "      <th>0</th>\n",
       "      <td>1000</td>\n",
       "      <td>5.0</td>\n",
       "      <td>22.0</td>\n",
       "      <td>159.0</td>\n",
       "      <td>22.0</td>\n",
       "      <td>2.200674</td>\n",
       "      <td>NaN</td>\n",
       "      <td>Краснодар</td>\n",
       "      <td>2018-05-25</td>\n",
       "      <td>ultra</td>\n",
       "    </tr>\n",
       "    <tr>\n",
       "      <th>1</th>\n",
       "      <td>1000</td>\n",
       "      <td>6.0</td>\n",
       "      <td>43.0</td>\n",
       "      <td>172.0</td>\n",
       "      <td>60.0</td>\n",
       "      <td>22.689229</td>\n",
       "      <td>NaN</td>\n",
       "      <td>Краснодар</td>\n",
       "      <td>2018-05-25</td>\n",
       "      <td>ultra</td>\n",
       "    </tr>\n",
       "    <tr>\n",
       "      <th>2</th>\n",
       "      <td>1000</td>\n",
       "      <td>7.0</td>\n",
       "      <td>47.0</td>\n",
       "      <td>340.0</td>\n",
       "      <td>75.0</td>\n",
       "      <td>13.675430</td>\n",
       "      <td>NaN</td>\n",
       "      <td>Краснодар</td>\n",
       "      <td>2018-05-25</td>\n",
       "      <td>ultra</td>\n",
       "    </tr>\n",
       "    <tr>\n",
       "      <th>3</th>\n",
       "      <td>1000</td>\n",
       "      <td>8.0</td>\n",
       "      <td>52.0</td>\n",
       "      <td>408.0</td>\n",
       "      <td>81.0</td>\n",
       "      <td>13.726494</td>\n",
       "      <td>NaN</td>\n",
       "      <td>Краснодар</td>\n",
       "      <td>2018-05-25</td>\n",
       "      <td>ultra</td>\n",
       "    </tr>\n",
       "    <tr>\n",
       "      <th>4</th>\n",
       "      <td>1000</td>\n",
       "      <td>9.0</td>\n",
       "      <td>58.0</td>\n",
       "      <td>466.0</td>\n",
       "      <td>57.0</td>\n",
       "      <td>14.227451</td>\n",
       "      <td>NaN</td>\n",
       "      <td>Краснодар</td>\n",
       "      <td>2018-05-25</td>\n",
       "      <td>ultra</td>\n",
       "    </tr>\n",
       "  </tbody>\n",
       "</table>\n",
       "</div>"
      ],
      "text/plain": [
       "   user_id  month  total_calls  total_minutes  total_messages   total_gb  \\\n",
       "0     1000    5.0         22.0          159.0            22.0   2.200674   \n",
       "1     1000    6.0         43.0          172.0            60.0  22.689229   \n",
       "2     1000    7.0         47.0          340.0            75.0  13.675430   \n",
       "3     1000    8.0         52.0          408.0            81.0  13.726494   \n",
       "4     1000    9.0         58.0          466.0            57.0  14.227451   \n",
       "\n",
       "  churn_date       city   reg_date tariff  \n",
       "0        NaN  Краснодар 2018-05-25  ultra  \n",
       "1        NaN  Краснодар 2018-05-25  ultra  \n",
       "2        NaN  Краснодар 2018-05-25  ultra  \n",
       "3        NaN  Краснодар 2018-05-25  ultra  \n",
       "4        NaN  Краснодар 2018-05-25  ultra  "
      ]
     },
     "execution_count": 33,
     "metadata": {},
     "output_type": "execute_result"
    }
   ],
   "source": [
    "# Добавим информацию о тарифе и характеристиках тарифа, к которому подключен каждый пользователь.\n",
    "user_total = calls_msgs_gb.merge(users, on='user_id', how='outer')\n",
    "user_total.drop(['age', 'first_name', 'last_name'], axis='columns', inplace=True)\n",
    "user_total.head()"
   ]
  },
  {
   "cell_type": "markdown",
   "id": "4bbf9509",
   "metadata": {},
   "source": [
    "Добавим в таблицу `user_total`информацию о характеристиках тарифа.\n",
    "Но, сначала, переведём мегабайты в гигабайты. Также переименуем столбец с названием тарифа."
   ]
  },
  {
   "cell_type": "code",
   "execution_count": 34,
   "id": "f22d5ff2",
   "metadata": {},
   "outputs": [],
   "source": [
    "# добавление столбца с гигабайтами\n",
    "tariffs['gb_per_month_included'] = tariffs['mb_per_month_included'] / 1024"
   ]
  },
  {
   "cell_type": "code",
   "execution_count": 35,
   "id": "1e85a555",
   "metadata": {},
   "outputs": [],
   "source": [
    "# переименование столбца с тарифами\n",
    "tariffs.columns = ['messages_included', 'mb_per_month_included', 'minutes_included', 'rub_monthly_fee', 'rub_per_gb',\n",
    "                   'rub_per_message', 'rub_per_minute', 'tariff', 'gb_per_month_included']"
   ]
  },
  {
   "cell_type": "code",
   "execution_count": 36,
   "id": "89183f9c",
   "metadata": {},
   "outputs": [
    {
     "data": {
      "text/html": [
       "<div>\n",
       "<style scoped>\n",
       "    .dataframe tbody tr th:only-of-type {\n",
       "        vertical-align: middle;\n",
       "    }\n",
       "\n",
       "    .dataframe tbody tr th {\n",
       "        vertical-align: top;\n",
       "    }\n",
       "\n",
       "    .dataframe thead th {\n",
       "        text-align: right;\n",
       "    }\n",
       "</style>\n",
       "<table border=\"1\" class=\"dataframe\">\n",
       "  <thead>\n",
       "    <tr style=\"text-align: right;\">\n",
       "      <th></th>\n",
       "      <th>user_id</th>\n",
       "      <th>month</th>\n",
       "      <th>total_calls</th>\n",
       "      <th>total_minutes</th>\n",
       "      <th>total_messages</th>\n",
       "      <th>total_gb</th>\n",
       "      <th>churn_date</th>\n",
       "      <th>city</th>\n",
       "      <th>reg_date</th>\n",
       "      <th>tariff</th>\n",
       "      <th>messages_included</th>\n",
       "      <th>minutes_included</th>\n",
       "      <th>rub_monthly_fee</th>\n",
       "      <th>rub_per_gb</th>\n",
       "      <th>rub_per_message</th>\n",
       "      <th>rub_per_minute</th>\n",
       "      <th>gb_per_month_included</th>\n",
       "    </tr>\n",
       "  </thead>\n",
       "  <tbody>\n",
       "    <tr>\n",
       "      <th>0</th>\n",
       "      <td>1000</td>\n",
       "      <td>5.0</td>\n",
       "      <td>22.0</td>\n",
       "      <td>159.0</td>\n",
       "      <td>22.0</td>\n",
       "      <td>2.200674</td>\n",
       "      <td>NaN</td>\n",
       "      <td>Краснодар</td>\n",
       "      <td>2018-05-25</td>\n",
       "      <td>ultra</td>\n",
       "      <td>1000</td>\n",
       "      <td>3000</td>\n",
       "      <td>1950</td>\n",
       "      <td>150</td>\n",
       "      <td>1</td>\n",
       "      <td>1</td>\n",
       "      <td>30.0</td>\n",
       "    </tr>\n",
       "    <tr>\n",
       "      <th>1</th>\n",
       "      <td>1000</td>\n",
       "      <td>6.0</td>\n",
       "      <td>43.0</td>\n",
       "      <td>172.0</td>\n",
       "      <td>60.0</td>\n",
       "      <td>22.689229</td>\n",
       "      <td>NaN</td>\n",
       "      <td>Краснодар</td>\n",
       "      <td>2018-05-25</td>\n",
       "      <td>ultra</td>\n",
       "      <td>1000</td>\n",
       "      <td>3000</td>\n",
       "      <td>1950</td>\n",
       "      <td>150</td>\n",
       "      <td>1</td>\n",
       "      <td>1</td>\n",
       "      <td>30.0</td>\n",
       "    </tr>\n",
       "    <tr>\n",
       "      <th>2</th>\n",
       "      <td>1000</td>\n",
       "      <td>7.0</td>\n",
       "      <td>47.0</td>\n",
       "      <td>340.0</td>\n",
       "      <td>75.0</td>\n",
       "      <td>13.675430</td>\n",
       "      <td>NaN</td>\n",
       "      <td>Краснодар</td>\n",
       "      <td>2018-05-25</td>\n",
       "      <td>ultra</td>\n",
       "      <td>1000</td>\n",
       "      <td>3000</td>\n",
       "      <td>1950</td>\n",
       "      <td>150</td>\n",
       "      <td>1</td>\n",
       "      <td>1</td>\n",
       "      <td>30.0</td>\n",
       "    </tr>\n",
       "    <tr>\n",
       "      <th>3</th>\n",
       "      <td>1000</td>\n",
       "      <td>8.0</td>\n",
       "      <td>52.0</td>\n",
       "      <td>408.0</td>\n",
       "      <td>81.0</td>\n",
       "      <td>13.726494</td>\n",
       "      <td>NaN</td>\n",
       "      <td>Краснодар</td>\n",
       "      <td>2018-05-25</td>\n",
       "      <td>ultra</td>\n",
       "      <td>1000</td>\n",
       "      <td>3000</td>\n",
       "      <td>1950</td>\n",
       "      <td>150</td>\n",
       "      <td>1</td>\n",
       "      <td>1</td>\n",
       "      <td>30.0</td>\n",
       "    </tr>\n",
       "    <tr>\n",
       "      <th>4</th>\n",
       "      <td>1000</td>\n",
       "      <td>9.0</td>\n",
       "      <td>58.0</td>\n",
       "      <td>466.0</td>\n",
       "      <td>57.0</td>\n",
       "      <td>14.227451</td>\n",
       "      <td>NaN</td>\n",
       "      <td>Краснодар</td>\n",
       "      <td>2018-05-25</td>\n",
       "      <td>ultra</td>\n",
       "      <td>1000</td>\n",
       "      <td>3000</td>\n",
       "      <td>1950</td>\n",
       "      <td>150</td>\n",
       "      <td>1</td>\n",
       "      <td>1</td>\n",
       "      <td>30.0</td>\n",
       "    </tr>\n",
       "  </tbody>\n",
       "</table>\n",
       "</div>"
      ],
      "text/plain": [
       "   user_id  month  total_calls  total_minutes  total_messages   total_gb  \\\n",
       "0     1000    5.0         22.0          159.0            22.0   2.200674   \n",
       "1     1000    6.0         43.0          172.0            60.0  22.689229   \n",
       "2     1000    7.0         47.0          340.0            75.0  13.675430   \n",
       "3     1000    8.0         52.0          408.0            81.0  13.726494   \n",
       "4     1000    9.0         58.0          466.0            57.0  14.227451   \n",
       "\n",
       "  churn_date       city   reg_date tariff  messages_included  \\\n",
       "0        NaN  Краснодар 2018-05-25  ultra               1000   \n",
       "1        NaN  Краснодар 2018-05-25  ultra               1000   \n",
       "2        NaN  Краснодар 2018-05-25  ultra               1000   \n",
       "3        NaN  Краснодар 2018-05-25  ultra               1000   \n",
       "4        NaN  Краснодар 2018-05-25  ultra               1000   \n",
       "\n",
       "   minutes_included  rub_monthly_fee  rub_per_gb  rub_per_message  \\\n",
       "0              3000             1950         150                1   \n",
       "1              3000             1950         150                1   \n",
       "2              3000             1950         150                1   \n",
       "3              3000             1950         150                1   \n",
       "4              3000             1950         150                1   \n",
       "\n",
       "   rub_per_minute  gb_per_month_included  \n",
       "0               1                   30.0  \n",
       "1               1                   30.0  \n",
       "2               1                   30.0  \n",
       "3               1                   30.0  \n",
       "4               1                   30.0  "
      ]
     },
     "execution_count": 36,
     "metadata": {},
     "output_type": "execute_result"
    }
   ],
   "source": [
    "# объединим данные таблиц user_total и tariffs\n",
    "user_total = user_total.merge(tariffs, on='tariff', how='left')\n",
    "user_total.drop(['mb_per_month_included'], axis='columns', inplace=True) # удалим столбец с мегабайтами\n",
    "user_total.head()"
   ]
  },
  {
   "cell_type": "code",
   "execution_count": 37,
   "id": "ac932a6a",
   "metadata": {},
   "outputs": [
    {
     "data": {
      "text/plain": [
       "user_id                     0\n",
       "month                       2\n",
       "total_calls                42\n",
       "total_minutes              42\n",
       "total_messages            499\n",
       "total_gb                   13\n",
       "churn_date               3027\n",
       "city                        0\n",
       "reg_date                    0\n",
       "tariff                      0\n",
       "messages_included           0\n",
       "minutes_included            0\n",
       "rub_monthly_fee             0\n",
       "rub_per_gb                  0\n",
       "rub_per_message             0\n",
       "rub_per_minute              0\n",
       "gb_per_month_included       0\n",
       "dtype: int64"
      ]
     },
     "execution_count": 37,
     "metadata": {},
     "output_type": "execute_result"
    }
   ],
   "source": [
    "user_total.isna().sum()"
   ]
  },
  {
   "cell_type": "markdown",
   "id": "adafeeee",
   "metadata": {},
   "source": [
    "Появились пропуски. В столбцах с минутами, сообщениями и гигабайтами такие пропуски можно и нужно заполнить нулями."
   ]
  },
  {
   "cell_type": "code",
   "execution_count": 38,
   "id": "64b9d79c",
   "metadata": {},
   "outputs": [],
   "source": [
    "user_total['total_minutes'] = user_total['total_minutes'].fillna(0)\n",
    "user_total['total_messages'] = user_total['total_messages'].fillna(0)\n",
    "user_total['total_gb'] = user_total['total_gb'].fillna(0)"
   ]
  },
  {
   "cell_type": "markdown",
   "id": "25f85175",
   "metadata": {},
   "source": [
    "**Округлим значения в датасете `user_total` в столбце `total_minutes` и `total_gb`  до целого вверх:**"
   ]
  },
  {
   "cell_type": "code",
   "execution_count": 39,
   "id": "1bf63f31",
   "metadata": {},
   "outputs": [],
   "source": [
    "# «Мегалайн» всегда округляет секунды до минут, а мегабайты — до гигабайт. \n",
    "# Каждый звонок округляется отдельно: даже если он длился всего 1 секунду, будет засчитан как 1 минута.\n",
    "# Для веб-трафика отдельные сессии не считаются. Вместо этого общая сумма за месяц округляется в бо́льшую сторону. \n",
    "# Если абонент использует 1025 мегабайт в этом месяце, с него возьмут плату за 2 гигабайта.\n",
    "user_total['total_gb'] = user_total['total_gb'].apply(np.ceil).astype(int)"
   ]
  },
  {
   "cell_type": "markdown",
   "id": "d6bff4f8",
   "metadata": {},
   "source": [
    "**Теперь добавим столбцы со значениями сверхлимитного использования.**"
   ]
  },
  {
   "cell_type": "code",
   "execution_count": 40,
   "id": "56faeefe",
   "metadata": {},
   "outputs": [],
   "source": [
    "# Количество минут разговора сверх лимита\n",
    "user_total['minutes_over_limit'] = user_total['total_minutes'] - user_total['minutes_included']\n",
    "user_total.loc[user_total['minutes_over_limit'] < 0, 'minutes_over_limit'] = 0\n",
    "\n",
    "# Количество сообщений сверх лимита\n",
    "user_total['messages_over_limit'] = user_total['total_messages'] - user_total['messages_included']\n",
    "user_total.loc[user_total['messages_over_limit'] < 0, 'messages_over_limit'] = 0\n",
    "\n",
    "# Объём использованного трафика сверх лимита\n",
    "user_total['gb_over_limit'] = user_total['total_gb'] - user_total['gb_per_month_included']\n",
    "user_total.loc[user_total['gb_over_limit'] < 0, 'gb_over_limit'] = 0"
   ]
  },
  {
   "cell_type": "code",
   "execution_count": 41,
   "id": "27a1d814",
   "metadata": {},
   "outputs": [
    {
     "data": {
      "text/html": [
       "<div>\n",
       "<style scoped>\n",
       "    .dataframe tbody tr th:only-of-type {\n",
       "        vertical-align: middle;\n",
       "    }\n",
       "\n",
       "    .dataframe tbody tr th {\n",
       "        vertical-align: top;\n",
       "    }\n",
       "\n",
       "    .dataframe thead th {\n",
       "        text-align: right;\n",
       "    }\n",
       "</style>\n",
       "<table border=\"1\" class=\"dataframe\">\n",
       "  <thead>\n",
       "    <tr style=\"text-align: right;\">\n",
       "      <th></th>\n",
       "      <th>user_id</th>\n",
       "      <th>month</th>\n",
       "      <th>total_calls</th>\n",
       "      <th>total_minutes</th>\n",
       "      <th>total_messages</th>\n",
       "      <th>total_gb</th>\n",
       "      <th>churn_date</th>\n",
       "      <th>city</th>\n",
       "      <th>reg_date</th>\n",
       "      <th>tariff</th>\n",
       "      <th>messages_included</th>\n",
       "      <th>minutes_included</th>\n",
       "      <th>rub_monthly_fee</th>\n",
       "      <th>rub_per_gb</th>\n",
       "      <th>rub_per_message</th>\n",
       "      <th>rub_per_minute</th>\n",
       "      <th>gb_per_month_included</th>\n",
       "      <th>minutes_over_limit</th>\n",
       "      <th>messages_over_limit</th>\n",
       "      <th>gb_over_limit</th>\n",
       "    </tr>\n",
       "  </thead>\n",
       "  <tbody>\n",
       "    <tr>\n",
       "      <th>0</th>\n",
       "      <td>1000</td>\n",
       "      <td>5.0</td>\n",
       "      <td>22.0</td>\n",
       "      <td>159.0</td>\n",
       "      <td>22.0</td>\n",
       "      <td>3</td>\n",
       "      <td>NaN</td>\n",
       "      <td>Краснодар</td>\n",
       "      <td>2018-05-25</td>\n",
       "      <td>ultra</td>\n",
       "      <td>1000</td>\n",
       "      <td>3000</td>\n",
       "      <td>1950</td>\n",
       "      <td>150</td>\n",
       "      <td>1</td>\n",
       "      <td>1</td>\n",
       "      <td>30.0</td>\n",
       "      <td>0.0</td>\n",
       "      <td>0.0</td>\n",
       "      <td>0.0</td>\n",
       "    </tr>\n",
       "    <tr>\n",
       "      <th>1</th>\n",
       "      <td>1000</td>\n",
       "      <td>6.0</td>\n",
       "      <td>43.0</td>\n",
       "      <td>172.0</td>\n",
       "      <td>60.0</td>\n",
       "      <td>23</td>\n",
       "      <td>NaN</td>\n",
       "      <td>Краснодар</td>\n",
       "      <td>2018-05-25</td>\n",
       "      <td>ultra</td>\n",
       "      <td>1000</td>\n",
       "      <td>3000</td>\n",
       "      <td>1950</td>\n",
       "      <td>150</td>\n",
       "      <td>1</td>\n",
       "      <td>1</td>\n",
       "      <td>30.0</td>\n",
       "      <td>0.0</td>\n",
       "      <td>0.0</td>\n",
       "      <td>0.0</td>\n",
       "    </tr>\n",
       "    <tr>\n",
       "      <th>2</th>\n",
       "      <td>1000</td>\n",
       "      <td>7.0</td>\n",
       "      <td>47.0</td>\n",
       "      <td>340.0</td>\n",
       "      <td>75.0</td>\n",
       "      <td>14</td>\n",
       "      <td>NaN</td>\n",
       "      <td>Краснодар</td>\n",
       "      <td>2018-05-25</td>\n",
       "      <td>ultra</td>\n",
       "      <td>1000</td>\n",
       "      <td>3000</td>\n",
       "      <td>1950</td>\n",
       "      <td>150</td>\n",
       "      <td>1</td>\n",
       "      <td>1</td>\n",
       "      <td>30.0</td>\n",
       "      <td>0.0</td>\n",
       "      <td>0.0</td>\n",
       "      <td>0.0</td>\n",
       "    </tr>\n",
       "    <tr>\n",
       "      <th>3</th>\n",
       "      <td>1000</td>\n",
       "      <td>8.0</td>\n",
       "      <td>52.0</td>\n",
       "      <td>408.0</td>\n",
       "      <td>81.0</td>\n",
       "      <td>14</td>\n",
       "      <td>NaN</td>\n",
       "      <td>Краснодар</td>\n",
       "      <td>2018-05-25</td>\n",
       "      <td>ultra</td>\n",
       "      <td>1000</td>\n",
       "      <td>3000</td>\n",
       "      <td>1950</td>\n",
       "      <td>150</td>\n",
       "      <td>1</td>\n",
       "      <td>1</td>\n",
       "      <td>30.0</td>\n",
       "      <td>0.0</td>\n",
       "      <td>0.0</td>\n",
       "      <td>0.0</td>\n",
       "    </tr>\n",
       "    <tr>\n",
       "      <th>4</th>\n",
       "      <td>1000</td>\n",
       "      <td>9.0</td>\n",
       "      <td>58.0</td>\n",
       "      <td>466.0</td>\n",
       "      <td>57.0</td>\n",
       "      <td>15</td>\n",
       "      <td>NaN</td>\n",
       "      <td>Краснодар</td>\n",
       "      <td>2018-05-25</td>\n",
       "      <td>ultra</td>\n",
       "      <td>1000</td>\n",
       "      <td>3000</td>\n",
       "      <td>1950</td>\n",
       "      <td>150</td>\n",
       "      <td>1</td>\n",
       "      <td>1</td>\n",
       "      <td>30.0</td>\n",
       "      <td>0.0</td>\n",
       "      <td>0.0</td>\n",
       "      <td>0.0</td>\n",
       "    </tr>\n",
       "  </tbody>\n",
       "</table>\n",
       "</div>"
      ],
      "text/plain": [
       "   user_id  month  total_calls  total_minutes  total_messages  total_gb  \\\n",
       "0     1000    5.0         22.0          159.0            22.0         3   \n",
       "1     1000    6.0         43.0          172.0            60.0        23   \n",
       "2     1000    7.0         47.0          340.0            75.0        14   \n",
       "3     1000    8.0         52.0          408.0            81.0        14   \n",
       "4     1000    9.0         58.0          466.0            57.0        15   \n",
       "\n",
       "  churn_date       city   reg_date tariff  messages_included  \\\n",
       "0        NaN  Краснодар 2018-05-25  ultra               1000   \n",
       "1        NaN  Краснодар 2018-05-25  ultra               1000   \n",
       "2        NaN  Краснодар 2018-05-25  ultra               1000   \n",
       "3        NaN  Краснодар 2018-05-25  ultra               1000   \n",
       "4        NaN  Краснодар 2018-05-25  ultra               1000   \n",
       "\n",
       "   minutes_included  rub_monthly_fee  rub_per_gb  rub_per_message  \\\n",
       "0              3000             1950         150                1   \n",
       "1              3000             1950         150                1   \n",
       "2              3000             1950         150                1   \n",
       "3              3000             1950         150                1   \n",
       "4              3000             1950         150                1   \n",
       "\n",
       "   rub_per_minute  gb_per_month_included  minutes_over_limit  \\\n",
       "0               1                   30.0                 0.0   \n",
       "1               1                   30.0                 0.0   \n",
       "2               1                   30.0                 0.0   \n",
       "3               1                   30.0                 0.0   \n",
       "4               1                   30.0                 0.0   \n",
       "\n",
       "   messages_over_limit  gb_over_limit  \n",
       "0                  0.0            0.0  \n",
       "1                  0.0            0.0  \n",
       "2                  0.0            0.0  \n",
       "3                  0.0            0.0  \n",
       "4                  0.0            0.0  "
      ]
     },
     "execution_count": 41,
     "metadata": {},
     "output_type": "execute_result"
    }
   ],
   "source": [
    "user_total.head()"
   ]
  },
  {
   "cell_type": "markdown",
   "id": "19c9f3fb",
   "metadata": {},
   "source": [
    "**Рассчитаем стоимость сверхлимитных опций:**"
   ]
  },
  {
   "cell_type": "code",
   "execution_count": 42,
   "id": "278d5b4b",
   "metadata": {},
   "outputs": [],
   "source": [
    "user_total['payment_over_limit'] = (user_total['minutes_over_limit'] * user_total['rub_per_minute'] +\n",
    "                               user_total['messages_over_limit'] * user_total['rub_per_message'] +\n",
    "                               user_total['gb_over_limit'] * user_total['rub_per_gb'])"
   ]
  },
  {
   "cell_type": "markdown",
   "id": "c9162ecd",
   "metadata": {},
   "source": [
    "**Итоговые затраты абонента:**"
   ]
  },
  {
   "cell_type": "code",
   "execution_count": 43,
   "id": "6fa37d10",
   "metadata": {},
   "outputs": [],
   "source": [
    "user_total['monthly_total'] = (user_total['rub_monthly_fee'] + user_total['payment_over_limit'])\n",
    "revenue = user_total.pivot_table(index=['user_id', 'month'], values='monthly_total', aggfunc='sum').reset_index()\n",
    "revenue['monthly_total'] = revenue['monthly_total'].astype(int)"
   ]
  },
  {
   "cell_type": "markdown",
   "id": "d87ddf64",
   "metadata": {},
   "source": [
    "**Доход компании с каждого абонента:**"
   ]
  },
  {
   "cell_type": "code",
   "execution_count": 44,
   "id": "cfabe6df",
   "metadata": {},
   "outputs": [
    {
     "data": {
      "text/html": [
       "<div>\n",
       "<style scoped>\n",
       "    .dataframe tbody tr th:only-of-type {\n",
       "        vertical-align: middle;\n",
       "    }\n",
       "\n",
       "    .dataframe tbody tr th {\n",
       "        vertical-align: top;\n",
       "    }\n",
       "\n",
       "    .dataframe thead th {\n",
       "        text-align: right;\n",
       "    }\n",
       "</style>\n",
       "<table border=\"1\" class=\"dataframe\">\n",
       "  <thead>\n",
       "    <tr style=\"text-align: right;\">\n",
       "      <th></th>\n",
       "      <th>user_id</th>\n",
       "      <th>month</th>\n",
       "      <th>monthly_total</th>\n",
       "    </tr>\n",
       "  </thead>\n",
       "  <tbody>\n",
       "    <tr>\n",
       "      <th>0</th>\n",
       "      <td>1486</td>\n",
       "      <td>12.0</td>\n",
       "      <td>6770</td>\n",
       "    </tr>\n",
       "    <tr>\n",
       "      <th>1</th>\n",
       "      <td>1042</td>\n",
       "      <td>12.0</td>\n",
       "      <td>5709</td>\n",
       "    </tr>\n",
       "    <tr>\n",
       "      <th>2</th>\n",
       "      <td>1486</td>\n",
       "      <td>11.0</td>\n",
       "      <td>5680</td>\n",
       "    </tr>\n",
       "    <tr>\n",
       "      <th>3</th>\n",
       "      <td>1261</td>\n",
       "      <td>12.0</td>\n",
       "      <td>5672</td>\n",
       "    </tr>\n",
       "    <tr>\n",
       "      <th>4</th>\n",
       "      <td>1286</td>\n",
       "      <td>12.0</td>\n",
       "      <td>5321</td>\n",
       "    </tr>\n",
       "    <tr>\n",
       "      <th>5</th>\n",
       "      <td>1159</td>\n",
       "      <td>12.0</td>\n",
       "      <td>5252</td>\n",
       "    </tr>\n",
       "    <tr>\n",
       "      <th>6</th>\n",
       "      <td>1098</td>\n",
       "      <td>12.0</td>\n",
       "      <td>5014</td>\n",
       "    </tr>\n",
       "    <tr>\n",
       "      <th>7</th>\n",
       "      <td>1124</td>\n",
       "      <td>10.0</td>\n",
       "      <td>4800</td>\n",
       "    </tr>\n",
       "    <tr>\n",
       "      <th>8</th>\n",
       "      <td>1261</td>\n",
       "      <td>11.0</td>\n",
       "      <td>4664</td>\n",
       "    </tr>\n",
       "    <tr>\n",
       "      <th>9</th>\n",
       "      <td>1240</td>\n",
       "      <td>8.0</td>\n",
       "      <td>4650</td>\n",
       "    </tr>\n",
       "  </tbody>\n",
       "</table>\n",
       "</div>"
      ],
      "text/plain": [
       "   user_id  month  monthly_total\n",
       "0     1486   12.0           6770\n",
       "1     1042   12.0           5709\n",
       "2     1486   11.0           5680\n",
       "3     1261   12.0           5672\n",
       "4     1286   12.0           5321\n",
       "5     1159   12.0           5252\n",
       "6     1098   12.0           5014\n",
       "7     1124   10.0           4800\n",
       "8     1261   11.0           4664\n",
       "9     1240    8.0           4650"
      ]
     },
     "execution_count": 44,
     "metadata": {},
     "output_type": "execute_result"
    }
   ],
   "source": [
    "# TOP10 пользователей с самыми большими суммарными расходами\n",
    "revenue.sort_values(by='monthly_total', ascending=False).head(10).reset_index(drop=True)"
   ]
  },
  {
   "cell_type": "code",
   "execution_count": 45,
   "id": "c1e3f83b",
   "metadata": {},
   "outputs": [
    {
     "name": "stdout",
     "output_type": "stream",
     "text": [
      "Суммарная выручка оператора связи \"Мегалайн\" за 2018 год составила 4914451 рублей.\n"
     ]
    }
   ],
   "source": [
    "print('Суммарная выручка оператора связи \"Мегалайн\" за 2018 год составила {} рублей.'.format(revenue['monthly_total'].sum()))"
   ]
  },
  {
   "cell_type": "markdown",
   "id": "424c8334",
   "metadata": {},
   "source": [
    "**Подведём итоги:**\n",
    "* перевели данные столбцов с датами в формат `datetime`;\n",
    "* избавились от непонятного столбца  в датасете `internet`;\n",
    "* добавили стобец с месяцем в датасеты;\n",
    "* объединили несколько датасетов в один;\n",
    "* округлили в большую сторону данные с количеством потраченных минут и интернет трафика;\n",
    "* избавились от пропусков после объединения таблиц;\n",
    "* собрали информацию о совершённых звонках и минутах разговора, количестве сообщений, объёме использованного интернет-трафика.\n",
    "* рассчитали ежемесячную выручку компании, приходящаяя от каждого из пользователей.\n",
    "\n",
    "Максимальная выручка с клиента, которую компания получила за месяц в 2018 году (декабрь) составила 6614 рублей. Общая выручка составила боллее 4,8 млн. рублей."
   ]
  },
  {
   "cell_type": "markdown",
   "id": "1ed73ca8",
   "metadata": {},
   "source": [
    "# Анализ данных"
   ]
  },
  {
   "cell_type": "markdown",
   "id": "b7681302",
   "metadata": {},
   "source": [
    "Опишем поведение клиентов оператора, исходя из выборки:\n",
    "* сколько минут разговора, сколько сообщений и какой объём интернет-трафика требуется пользователям каждого тарифа в месяц;\n",
    "* рассчитаем среднее количество, дисперсию и стандартное отклонение;\n",
    "* постром гистограммы;\n",
    "* опишем распределения."
   ]
  },
  {
   "cell_type": "code",
   "execution_count": 46,
   "id": "747f290c",
   "metadata": {},
   "outputs": [
    {
     "data": {
      "text/html": [
       "<div>\n",
       "<style scoped>\n",
       "    .dataframe tbody tr th:only-of-type {\n",
       "        vertical-align: middle;\n",
       "    }\n",
       "\n",
       "    .dataframe tbody tr th {\n",
       "        vertical-align: top;\n",
       "    }\n",
       "\n",
       "    .dataframe thead th {\n",
       "        text-align: right;\n",
       "    }\n",
       "</style>\n",
       "<table border=\"1\" class=\"dataframe\">\n",
       "  <thead>\n",
       "    <tr style=\"text-align: right;\">\n",
       "      <th></th>\n",
       "      <th>user_id</th>\n",
       "      <th>month</th>\n",
       "      <th>total_calls</th>\n",
       "      <th>total_minutes</th>\n",
       "      <th>total_messages</th>\n",
       "      <th>total_gb</th>\n",
       "      <th>messages_included</th>\n",
       "      <th>minutes_included</th>\n",
       "      <th>rub_monthly_fee</th>\n",
       "      <th>rub_per_gb</th>\n",
       "      <th>rub_per_message</th>\n",
       "      <th>rub_per_minute</th>\n",
       "      <th>gb_per_month_included</th>\n",
       "      <th>minutes_over_limit</th>\n",
       "      <th>messages_over_limit</th>\n",
       "      <th>gb_over_limit</th>\n",
       "      <th>payment_over_limit</th>\n",
       "      <th>monthly_total</th>\n",
       "    </tr>\n",
       "  </thead>\n",
       "  <tbody>\n",
       "    <tr>\n",
       "      <th>count</th>\n",
       "      <td>2230.000000</td>\n",
       "      <td>2229.000000</td>\n",
       "      <td>2223.000000</td>\n",
       "      <td>2230.000000</td>\n",
       "      <td>2230.000000</td>\n",
       "      <td>2230.000000</td>\n",
       "      <td>2230.0</td>\n",
       "      <td>2230.0</td>\n",
       "      <td>2230.0</td>\n",
       "      <td>2230.0</td>\n",
       "      <td>2230.0</td>\n",
       "      <td>2230.0</td>\n",
       "      <td>2230.0</td>\n",
       "      <td>2230.000000</td>\n",
       "      <td>2230.000000</td>\n",
       "      <td>2230.000000</td>\n",
       "      <td>2230.000000</td>\n",
       "      <td>2230.000000</td>\n",
       "    </tr>\n",
       "    <tr>\n",
       "      <th>mean</th>\n",
       "      <td>1246.562332</td>\n",
       "      <td>8.346792</td>\n",
       "      <td>58.621233</td>\n",
       "      <td>417.747534</td>\n",
       "      <td>33.369058</td>\n",
       "      <td>16.321525</td>\n",
       "      <td>50.0</td>\n",
       "      <td>500.0</td>\n",
       "      <td>550.0</td>\n",
       "      <td>200.0</td>\n",
       "      <td>3.0</td>\n",
       "      <td>3.0</td>\n",
       "      <td>15.0</td>\n",
       "      <td>41.586996</td>\n",
       "      <td>5.797309</td>\n",
       "      <td>2.987444</td>\n",
       "      <td>739.641704</td>\n",
       "      <td>1289.641704</td>\n",
       "    </tr>\n",
       "    <tr>\n",
       "      <th>std</th>\n",
       "      <td>146.110501</td>\n",
       "      <td>2.920316</td>\n",
       "      <td>25.796101</td>\n",
       "      <td>190.476754</td>\n",
       "      <td>28.230396</td>\n",
       "      <td>5.756167</td>\n",
       "      <td>0.0</td>\n",
       "      <td>0.0</td>\n",
       "      <td>0.0</td>\n",
       "      <td>0.0</td>\n",
       "      <td>0.0</td>\n",
       "      <td>0.0</td>\n",
       "      <td>0.0</td>\n",
       "      <td>84.664160</td>\n",
       "      <td>13.440001</td>\n",
       "      <td>3.682537</td>\n",
       "      <td>818.370799</td>\n",
       "      <td>818.370799</td>\n",
       "    </tr>\n",
       "    <tr>\n",
       "      <th>min</th>\n",
       "      <td>1001.000000</td>\n",
       "      <td>1.000000</td>\n",
       "      <td>1.000000</td>\n",
       "      <td>0.000000</td>\n",
       "      <td>0.000000</td>\n",
       "      <td>0.000000</td>\n",
       "      <td>50.0</td>\n",
       "      <td>500.0</td>\n",
       "      <td>550.0</td>\n",
       "      <td>200.0</td>\n",
       "      <td>3.0</td>\n",
       "      <td>3.0</td>\n",
       "      <td>15.0</td>\n",
       "      <td>0.000000</td>\n",
       "      <td>0.000000</td>\n",
       "      <td>0.000000</td>\n",
       "      <td>0.000000</td>\n",
       "      <td>550.000000</td>\n",
       "    </tr>\n",
       "    <tr>\n",
       "      <th>25%</th>\n",
       "      <td>1121.000000</td>\n",
       "      <td>6.000000</td>\n",
       "      <td>40.000000</td>\n",
       "      <td>282.000000</td>\n",
       "      <td>10.000000</td>\n",
       "      <td>13.000000</td>\n",
       "      <td>50.0</td>\n",
       "      <td>500.0</td>\n",
       "      <td>550.0</td>\n",
       "      <td>200.0</td>\n",
       "      <td>3.0</td>\n",
       "      <td>3.0</td>\n",
       "      <td>15.0</td>\n",
       "      <td>0.000000</td>\n",
       "      <td>0.000000</td>\n",
       "      <td>0.000000</td>\n",
       "      <td>0.000000</td>\n",
       "      <td>550.000000</td>\n",
       "    </tr>\n",
       "    <tr>\n",
       "      <th>50%</th>\n",
       "      <td>1240.000000</td>\n",
       "      <td>9.000000</td>\n",
       "      <td>60.000000</td>\n",
       "      <td>421.500000</td>\n",
       "      <td>28.000000</td>\n",
       "      <td>17.000000</td>\n",
       "      <td>50.0</td>\n",
       "      <td>500.0</td>\n",
       "      <td>550.0</td>\n",
       "      <td>200.0</td>\n",
       "      <td>3.0</td>\n",
       "      <td>3.0</td>\n",
       "      <td>15.0</td>\n",
       "      <td>0.000000</td>\n",
       "      <td>0.000000</td>\n",
       "      <td>2.000000</td>\n",
       "      <td>471.000000</td>\n",
       "      <td>1021.000000</td>\n",
       "    </tr>\n",
       "    <tr>\n",
       "      <th>75%</th>\n",
       "      <td>1376.000000</td>\n",
       "      <td>11.000000</td>\n",
       "      <td>76.000000</td>\n",
       "      <td>545.000000</td>\n",
       "      <td>51.000000</td>\n",
       "      <td>20.000000</td>\n",
       "      <td>50.0</td>\n",
       "      <td>500.0</td>\n",
       "      <td>550.0</td>\n",
       "      <td>200.0</td>\n",
       "      <td>3.0</td>\n",
       "      <td>3.0</td>\n",
       "      <td>15.0</td>\n",
       "      <td>45.000000</td>\n",
       "      <td>1.000000</td>\n",
       "      <td>5.000000</td>\n",
       "      <td>1200.000000</td>\n",
       "      <td>1750.000000</td>\n",
       "    </tr>\n",
       "    <tr>\n",
       "      <th>max</th>\n",
       "      <td>1499.000000</td>\n",
       "      <td>12.000000</td>\n",
       "      <td>198.000000</td>\n",
       "      <td>1435.000000</td>\n",
       "      <td>143.000000</td>\n",
       "      <td>38.000000</td>\n",
       "      <td>50.0</td>\n",
       "      <td>500.0</td>\n",
       "      <td>550.0</td>\n",
       "      <td>200.0</td>\n",
       "      <td>3.0</td>\n",
       "      <td>3.0</td>\n",
       "      <td>15.0</td>\n",
       "      <td>935.000000</td>\n",
       "      <td>93.000000</td>\n",
       "      <td>23.000000</td>\n",
       "      <td>6220.000000</td>\n",
       "      <td>6770.000000</td>\n",
       "    </tr>\n",
       "  </tbody>\n",
       "</table>\n",
       "</div>"
      ],
      "text/plain": [
       "           user_id        month  total_calls  total_minutes  total_messages  \\\n",
       "count  2230.000000  2229.000000  2223.000000    2230.000000     2230.000000   \n",
       "mean   1246.562332     8.346792    58.621233     417.747534       33.369058   \n",
       "std     146.110501     2.920316    25.796101     190.476754       28.230396   \n",
       "min    1001.000000     1.000000     1.000000       0.000000        0.000000   \n",
       "25%    1121.000000     6.000000    40.000000     282.000000       10.000000   \n",
       "50%    1240.000000     9.000000    60.000000     421.500000       28.000000   \n",
       "75%    1376.000000    11.000000    76.000000     545.000000       51.000000   \n",
       "max    1499.000000    12.000000   198.000000    1435.000000      143.000000   \n",
       "\n",
       "          total_gb  messages_included  minutes_included  rub_monthly_fee  \\\n",
       "count  2230.000000             2230.0            2230.0           2230.0   \n",
       "mean     16.321525               50.0             500.0            550.0   \n",
       "std       5.756167                0.0               0.0              0.0   \n",
       "min       0.000000               50.0             500.0            550.0   \n",
       "25%      13.000000               50.0             500.0            550.0   \n",
       "50%      17.000000               50.0             500.0            550.0   \n",
       "75%      20.000000               50.0             500.0            550.0   \n",
       "max      38.000000               50.0             500.0            550.0   \n",
       "\n",
       "       rub_per_gb  rub_per_message  rub_per_minute  gb_per_month_included  \\\n",
       "count      2230.0           2230.0          2230.0                 2230.0   \n",
       "mean        200.0              3.0             3.0                   15.0   \n",
       "std           0.0              0.0             0.0                    0.0   \n",
       "min         200.0              3.0             3.0                   15.0   \n",
       "25%         200.0              3.0             3.0                   15.0   \n",
       "50%         200.0              3.0             3.0                   15.0   \n",
       "75%         200.0              3.0             3.0                   15.0   \n",
       "max         200.0              3.0             3.0                   15.0   \n",
       "\n",
       "       minutes_over_limit  messages_over_limit  gb_over_limit  \\\n",
       "count         2230.000000          2230.000000    2230.000000   \n",
       "mean            41.586996             5.797309       2.987444   \n",
       "std             84.664160            13.440001       3.682537   \n",
       "min              0.000000             0.000000       0.000000   \n",
       "25%              0.000000             0.000000       0.000000   \n",
       "50%              0.000000             0.000000       2.000000   \n",
       "75%             45.000000             1.000000       5.000000   \n",
       "max            935.000000            93.000000      23.000000   \n",
       "\n",
       "       payment_over_limit  monthly_total  \n",
       "count         2230.000000    2230.000000  \n",
       "mean           739.641704    1289.641704  \n",
       "std            818.370799     818.370799  \n",
       "min              0.000000     550.000000  \n",
       "25%              0.000000     550.000000  \n",
       "50%            471.000000    1021.000000  \n",
       "75%           1200.000000    1750.000000  \n",
       "max           6220.000000    6770.000000  "
      ]
     },
     "execution_count": 46,
     "metadata": {},
     "output_type": "execute_result"
    }
   ],
   "source": [
    "# сводка числовых значений в датасете user_total  по тарифу smart\n",
    "smart_total = user_total.query('tariff == \"smart\"')\n",
    "smart_total.describe()"
   ]
  },
  {
   "cell_type": "code",
   "execution_count": 47,
   "id": "5f597722",
   "metadata": {},
   "outputs": [
    {
     "data": {
      "text/html": [
       "<div>\n",
       "<style scoped>\n",
       "    .dataframe tbody tr th:only-of-type {\n",
       "        vertical-align: middle;\n",
       "    }\n",
       "\n",
       "    .dataframe tbody tr th {\n",
       "        vertical-align: top;\n",
       "    }\n",
       "\n",
       "    .dataframe thead th {\n",
       "        text-align: right;\n",
       "    }\n",
       "</style>\n",
       "<table border=\"1\" class=\"dataframe\">\n",
       "  <thead>\n",
       "    <tr style=\"text-align: right;\">\n",
       "      <th></th>\n",
       "      <th>user_id</th>\n",
       "      <th>month</th>\n",
       "      <th>total_calls</th>\n",
       "      <th>total_minutes</th>\n",
       "      <th>total_messages</th>\n",
       "      <th>total_gb</th>\n",
       "      <th>messages_included</th>\n",
       "      <th>minutes_included</th>\n",
       "      <th>rub_monthly_fee</th>\n",
       "      <th>rub_per_gb</th>\n",
       "      <th>rub_per_message</th>\n",
       "      <th>rub_per_minute</th>\n",
       "      <th>gb_per_month_included</th>\n",
       "      <th>minutes_over_limit</th>\n",
       "      <th>messages_over_limit</th>\n",
       "      <th>gb_over_limit</th>\n",
       "      <th>payment_over_limit</th>\n",
       "      <th>monthly_total</th>\n",
       "    </tr>\n",
       "  </thead>\n",
       "  <tbody>\n",
       "    <tr>\n",
       "      <th>count</th>\n",
       "      <td>986.000000</td>\n",
       "      <td>985.000000</td>\n",
       "      <td>951.000000</td>\n",
       "      <td>986.000000</td>\n",
       "      <td>986.000000</td>\n",
       "      <td>986.000000</td>\n",
       "      <td>986.0</td>\n",
       "      <td>986.0</td>\n",
       "      <td>986.0</td>\n",
       "      <td>986.0</td>\n",
       "      <td>986.0</td>\n",
       "      <td>986.0</td>\n",
       "      <td>986.0</td>\n",
       "      <td>986.0</td>\n",
       "      <td>986.0</td>\n",
       "      <td>986.000000</td>\n",
       "      <td>986.000000</td>\n",
       "      <td>986.000000</td>\n",
       "    </tr>\n",
       "    <tr>\n",
       "      <th>mean</th>\n",
       "      <td>1262.957404</td>\n",
       "      <td>8.250761</td>\n",
       "      <td>76.016824</td>\n",
       "      <td>526.089249</td>\n",
       "      <td>49.313387</td>\n",
       "      <td>19.474645</td>\n",
       "      <td>1000.0</td>\n",
       "      <td>3000.0</td>\n",
       "      <td>1950.0</td>\n",
       "      <td>150.0</td>\n",
       "      <td>1.0</td>\n",
       "      <td>1.0</td>\n",
       "      <td>30.0</td>\n",
       "      <td>0.0</td>\n",
       "      <td>0.0</td>\n",
       "      <td>0.800203</td>\n",
       "      <td>120.030426</td>\n",
       "      <td>2070.030426</td>\n",
       "    </tr>\n",
       "    <tr>\n",
       "      <th>std</th>\n",
       "      <td>140.689268</td>\n",
       "      <td>2.871762</td>\n",
       "      <td>42.403348</td>\n",
       "      <td>317.887549</td>\n",
       "      <td>47.806040</td>\n",
       "      <td>9.868057</td>\n",
       "      <td>0.0</td>\n",
       "      <td>0.0</td>\n",
       "      <td>0.0</td>\n",
       "      <td>0.0</td>\n",
       "      <td>0.0</td>\n",
       "      <td>0.0</td>\n",
       "      <td>0.0</td>\n",
       "      <td>0.0</td>\n",
       "      <td>0.0</td>\n",
       "      <td>2.506771</td>\n",
       "      <td>376.015578</td>\n",
       "      <td>376.015578</td>\n",
       "    </tr>\n",
       "    <tr>\n",
       "      <th>min</th>\n",
       "      <td>1000.000000</td>\n",
       "      <td>1.000000</td>\n",
       "      <td>1.000000</td>\n",
       "      <td>0.000000</td>\n",
       "      <td>0.000000</td>\n",
       "      <td>0.000000</td>\n",
       "      <td>1000.0</td>\n",
       "      <td>3000.0</td>\n",
       "      <td>1950.0</td>\n",
       "      <td>150.0</td>\n",
       "      <td>1.0</td>\n",
       "      <td>1.0</td>\n",
       "      <td>30.0</td>\n",
       "      <td>0.0</td>\n",
       "      <td>0.0</td>\n",
       "      <td>0.000000</td>\n",
       "      <td>0.000000</td>\n",
       "      <td>1950.000000</td>\n",
       "    </tr>\n",
       "    <tr>\n",
       "      <th>25%</th>\n",
       "      <td>1143.000000</td>\n",
       "      <td>6.000000</td>\n",
       "      <td>43.000000</td>\n",
       "      <td>282.500000</td>\n",
       "      <td>6.000000</td>\n",
       "      <td>12.000000</td>\n",
       "      <td>1000.0</td>\n",
       "      <td>3000.0</td>\n",
       "      <td>1950.0</td>\n",
       "      <td>150.0</td>\n",
       "      <td>1.0</td>\n",
       "      <td>1.0</td>\n",
       "      <td>30.0</td>\n",
       "      <td>0.0</td>\n",
       "      <td>0.0</td>\n",
       "      <td>0.000000</td>\n",
       "      <td>0.000000</td>\n",
       "      <td>1950.000000</td>\n",
       "    </tr>\n",
       "    <tr>\n",
       "      <th>50%</th>\n",
       "      <td>1277.000000</td>\n",
       "      <td>9.000000</td>\n",
       "      <td>75.000000</td>\n",
       "      <td>518.000000</td>\n",
       "      <td>38.000000</td>\n",
       "      <td>19.000000</td>\n",
       "      <td>1000.0</td>\n",
       "      <td>3000.0</td>\n",
       "      <td>1950.0</td>\n",
       "      <td>150.0</td>\n",
       "      <td>1.0</td>\n",
       "      <td>1.0</td>\n",
       "      <td>30.0</td>\n",
       "      <td>0.0</td>\n",
       "      <td>0.0</td>\n",
       "      <td>0.000000</td>\n",
       "      <td>0.000000</td>\n",
       "      <td>1950.000000</td>\n",
       "    </tr>\n",
       "    <tr>\n",
       "      <th>75%</th>\n",
       "      <td>1381.000000</td>\n",
       "      <td>11.000000</td>\n",
       "      <td>105.000000</td>\n",
       "      <td>751.750000</td>\n",
       "      <td>78.750000</td>\n",
       "      <td>27.000000</td>\n",
       "      <td>1000.0</td>\n",
       "      <td>3000.0</td>\n",
       "      <td>1950.0</td>\n",
       "      <td>150.0</td>\n",
       "      <td>1.0</td>\n",
       "      <td>1.0</td>\n",
       "      <td>30.0</td>\n",
       "      <td>0.0</td>\n",
       "      <td>0.0</td>\n",
       "      <td>0.000000</td>\n",
       "      <td>0.000000</td>\n",
       "      <td>1950.000000</td>\n",
       "    </tr>\n",
       "    <tr>\n",
       "      <th>max</th>\n",
       "      <td>1495.000000</td>\n",
       "      <td>12.000000</td>\n",
       "      <td>244.000000</td>\n",
       "      <td>1673.000000</td>\n",
       "      <td>224.000000</td>\n",
       "      <td>49.000000</td>\n",
       "      <td>1000.0</td>\n",
       "      <td>3000.0</td>\n",
       "      <td>1950.0</td>\n",
       "      <td>150.0</td>\n",
       "      <td>1.0</td>\n",
       "      <td>1.0</td>\n",
       "      <td>30.0</td>\n",
       "      <td>0.0</td>\n",
       "      <td>0.0</td>\n",
       "      <td>19.000000</td>\n",
       "      <td>2850.000000</td>\n",
       "      <td>4800.000000</td>\n",
       "    </tr>\n",
       "  </tbody>\n",
       "</table>\n",
       "</div>"
      ],
      "text/plain": [
       "           user_id       month  total_calls  total_minutes  total_messages  \\\n",
       "count   986.000000  985.000000   951.000000     986.000000      986.000000   \n",
       "mean   1262.957404    8.250761    76.016824     526.089249       49.313387   \n",
       "std     140.689268    2.871762    42.403348     317.887549       47.806040   \n",
       "min    1000.000000    1.000000     1.000000       0.000000        0.000000   \n",
       "25%    1143.000000    6.000000    43.000000     282.500000        6.000000   \n",
       "50%    1277.000000    9.000000    75.000000     518.000000       38.000000   \n",
       "75%    1381.000000   11.000000   105.000000     751.750000       78.750000   \n",
       "max    1495.000000   12.000000   244.000000    1673.000000      224.000000   \n",
       "\n",
       "         total_gb  messages_included  minutes_included  rub_monthly_fee  \\\n",
       "count  986.000000              986.0             986.0            986.0   \n",
       "mean    19.474645             1000.0            3000.0           1950.0   \n",
       "std      9.868057                0.0               0.0              0.0   \n",
       "min      0.000000             1000.0            3000.0           1950.0   \n",
       "25%     12.000000             1000.0            3000.0           1950.0   \n",
       "50%     19.000000             1000.0            3000.0           1950.0   \n",
       "75%     27.000000             1000.0            3000.0           1950.0   \n",
       "max     49.000000             1000.0            3000.0           1950.0   \n",
       "\n",
       "       rub_per_gb  rub_per_message  rub_per_minute  gb_per_month_included  \\\n",
       "count       986.0            986.0           986.0                  986.0   \n",
       "mean        150.0              1.0             1.0                   30.0   \n",
       "std           0.0              0.0             0.0                    0.0   \n",
       "min         150.0              1.0             1.0                   30.0   \n",
       "25%         150.0              1.0             1.0                   30.0   \n",
       "50%         150.0              1.0             1.0                   30.0   \n",
       "75%         150.0              1.0             1.0                   30.0   \n",
       "max         150.0              1.0             1.0                   30.0   \n",
       "\n",
       "       minutes_over_limit  messages_over_limit  gb_over_limit  \\\n",
       "count               986.0                986.0     986.000000   \n",
       "mean                  0.0                  0.0       0.800203   \n",
       "std                   0.0                  0.0       2.506771   \n",
       "min                   0.0                  0.0       0.000000   \n",
       "25%                   0.0                  0.0       0.000000   \n",
       "50%                   0.0                  0.0       0.000000   \n",
       "75%                   0.0                  0.0       0.000000   \n",
       "max                   0.0                  0.0      19.000000   \n",
       "\n",
       "       payment_over_limit  monthly_total  \n",
       "count          986.000000     986.000000  \n",
       "mean           120.030426    2070.030426  \n",
       "std            376.015578     376.015578  \n",
       "min              0.000000    1950.000000  \n",
       "25%              0.000000    1950.000000  \n",
       "50%              0.000000    1950.000000  \n",
       "75%              0.000000    1950.000000  \n",
       "max           2850.000000    4800.000000  "
      ]
     },
     "execution_count": 47,
     "metadata": {},
     "output_type": "execute_result"
    }
   ],
   "source": [
    "# сводка числовых значений в датасете user_total  по тарифу ultra\n",
    "ultra_total = user_total.query('tariff == \"ultra\"')\n",
    "ultra_total.describe()"
   ]
  },
  {
   "cell_type": "markdown",
   "id": "e42e6e6e",
   "metadata": {},
   "source": [
    "Рассчитаем необходимые параметры и выведем их значения в одной таблице:"
   ]
  },
  {
   "cell_type": "code",
   "execution_count": 48,
   "id": "09965d79",
   "metadata": {},
   "outputs": [
    {
     "data": {
      "text/html": [
       "<div>\n",
       "<style scoped>\n",
       "    .dataframe tbody tr th:only-of-type {\n",
       "        vertical-align: middle;\n",
       "    }\n",
       "\n",
       "    .dataframe tbody tr th {\n",
       "        vertical-align: top;\n",
       "    }\n",
       "\n",
       "    .dataframe thead tr th {\n",
       "        text-align: left;\n",
       "    }\n",
       "\n",
       "    .dataframe thead tr:last-of-type th {\n",
       "        text-align: right;\n",
       "    }\n",
       "</style>\n",
       "<table border=\"1\" class=\"dataframe\">\n",
       "  <thead>\n",
       "    <tr>\n",
       "      <th></th>\n",
       "      <th colspan=\"3\" halign=\"left\">median</th>\n",
       "      <th colspan=\"3\" halign=\"left\">mean</th>\n",
       "      <th colspan=\"3\" halign=\"left\">var</th>\n",
       "      <th colspan=\"3\" halign=\"left\">std</th>\n",
       "    </tr>\n",
       "    <tr>\n",
       "      <th></th>\n",
       "      <th>total_gb</th>\n",
       "      <th>total_messages</th>\n",
       "      <th>total_minutes</th>\n",
       "      <th>total_gb</th>\n",
       "      <th>total_messages</th>\n",
       "      <th>total_minutes</th>\n",
       "      <th>total_gb</th>\n",
       "      <th>total_messages</th>\n",
       "      <th>total_minutes</th>\n",
       "      <th>total_gb</th>\n",
       "      <th>total_messages</th>\n",
       "      <th>total_minutes</th>\n",
       "    </tr>\n",
       "    <tr>\n",
       "      <th>tariff</th>\n",
       "      <th></th>\n",
       "      <th></th>\n",
       "      <th></th>\n",
       "      <th></th>\n",
       "      <th></th>\n",
       "      <th></th>\n",
       "      <th></th>\n",
       "      <th></th>\n",
       "      <th></th>\n",
       "      <th></th>\n",
       "      <th></th>\n",
       "      <th></th>\n",
       "    </tr>\n",
       "  </thead>\n",
       "  <tbody>\n",
       "    <tr>\n",
       "      <th>smart</th>\n",
       "      <td>17</td>\n",
       "      <td>28.0</td>\n",
       "      <td>421.5</td>\n",
       "      <td>16.321525</td>\n",
       "      <td>33.369058</td>\n",
       "      <td>417.747534</td>\n",
       "      <td>33.133453</td>\n",
       "      <td>796.955256</td>\n",
       "      <td>36281.393836</td>\n",
       "      <td>5.756167</td>\n",
       "      <td>28.230396</td>\n",
       "      <td>190.476754</td>\n",
       "    </tr>\n",
       "    <tr>\n",
       "      <th>ultra</th>\n",
       "      <td>19</td>\n",
       "      <td>38.0</td>\n",
       "      <td>518.0</td>\n",
       "      <td>19.474645</td>\n",
       "      <td>49.313387</td>\n",
       "      <td>526.089249</td>\n",
       "      <td>97.378544</td>\n",
       "      <td>2285.417425</td>\n",
       "      <td>101052.493549</td>\n",
       "      <td>9.868057</td>\n",
       "      <td>47.806040</td>\n",
       "      <td>317.887549</td>\n",
       "    </tr>\n",
       "  </tbody>\n",
       "</table>\n",
       "</div>"
      ],
      "text/plain": [
       "         median                                    mean                 \\\n",
       "       total_gb total_messages total_minutes   total_gb total_messages   \n",
       "tariff                                                                   \n",
       "smart        17           28.0         421.5  16.321525      33.369058   \n",
       "ultra        19           38.0         518.0  19.474645      49.313387   \n",
       "\n",
       "                            var                                     std  \\\n",
       "       total_minutes   total_gb total_messages  total_minutes  total_gb   \n",
       "tariff                                                                    \n",
       "smart     417.747534  33.133453     796.955256   36281.393836  5.756167   \n",
       "ultra     526.089249  97.378544    2285.417425  101052.493549  9.868057   \n",
       "\n",
       "                                     \n",
       "       total_messages total_minutes  \n",
       "tariff                               \n",
       "smart       28.230396    190.476754  \n",
       "ultra       47.806040    317.887549  "
      ]
     },
     "execution_count": 48,
     "metadata": {},
     "output_type": "execute_result"
    }
   ],
   "source": [
    "user_total.pivot_table(index = 'tariff', \n",
    "                    values = ['total_minutes',\n",
    "                              'total_messages',\n",
    "                              'total_gb'], \n",
    "                    aggfunc = ['median',\n",
    "                               'mean',\n",
    "                               'var',\n",
    "                               'std']\n",
    "                   )"
   ]
  },
  {
   "cell_type": "markdown",
   "id": "9bab94e5",
   "metadata": {},
   "source": [
    "Построим гистограммы распределения:"
   ]
  },
  {
   "cell_type": "code",
   "execution_count": 49,
   "id": "aaa426a2",
   "metadata": {},
   "outputs": [
    {
     "data": {
      "image/png": "[encoded data removed]",
      "text/plain": [
       "<Figure size 1080x432 with 1 Axes>"
      ]
     },
     "metadata": {
      "needs_background": "light"
     },
     "output_type": "display_data"
    },
    {
     "data": {
      "image/png": "[encoded data removed]",
      "text/plain": [
       "<Figure size 1080x432 with 1 Axes>"
      ]
     },
     "metadata": {
      "needs_background": "light"
     },
     "output_type": "display_data"
    },
    {
     "data": {
      "image/png": "[encoded data removed]",
      "text/plain": [
       "<Figure size 1080x432 with 1 Axes>"
      ]
     },
     "metadata": {
      "needs_background": "light"
     },
     "output_type": "display_data"
    }
   ],
   "source": [
    "list_of_columns=['total_minutes','total_messages','total_gb']\n",
    "\n",
    "tariffs = ['ultra','smart']\n",
    "for column in list_of_columns:\n",
    "        user_total.loc[user_total.loc[:,'tariff'] == 'smart'][column].plot(\n",
    "            kind = 'hist',\n",
    "            bins = 30,\n",
    "            label = 'smart', \n",
    "            figsize = (15,6),\n",
    "            grid=True\n",
    "        )\n",
    "        user_total.loc[user_total.loc[:,'tariff'] == \"ultra\"][column].plot(\n",
    "            kind = 'hist',\n",
    "            bins = 30,\n",
    "            alpha =0.7,\n",
    "            label = 'ultra',\n",
    "            figsize = (15,6),\n",
    "            grid=True\n",
    "        )\n",
    "        plt.title(column)\n",
    "        plt.xlabel(column)\n",
    "        plt.ylabel('users')\n",
    "        plt.legend()\n",
    "        plt.show()"
   ]
  },
  {
   "cell_type": "markdown",
   "id": "531bf9ba",
   "metadata": {},
   "source": [
    "Медиана и среднее для помесячной выручки и гистограмма распределения."
   ]
  },
  {
   "cell_type": "code",
   "execution_count": 50,
   "id": "4589a61d",
   "metadata": {},
   "outputs": [
    {
     "data": {
      "text/html": [
       "<div>\n",
       "<style scoped>\n",
       "    .dataframe tbody tr th:only-of-type {\n",
       "        vertical-align: middle;\n",
       "    }\n",
       "\n",
       "    .dataframe tbody tr th {\n",
       "        vertical-align: top;\n",
       "    }\n",
       "\n",
       "    .dataframe thead tr th {\n",
       "        text-align: left;\n",
       "    }\n",
       "\n",
       "    .dataframe thead tr:last-of-type th {\n",
       "        text-align: right;\n",
       "    }\n",
       "</style>\n",
       "<table border=\"1\" class=\"dataframe\">\n",
       "  <thead>\n",
       "    <tr>\n",
       "      <th></th>\n",
       "      <th>median</th>\n",
       "      <th>mean</th>\n",
       "    </tr>\n",
       "    <tr>\n",
       "      <th></th>\n",
       "      <th>monthly_total</th>\n",
       "      <th>monthly_total</th>\n",
       "    </tr>\n",
       "    <tr>\n",
       "      <th>tariff</th>\n",
       "      <th></th>\n",
       "      <th></th>\n",
       "    </tr>\n",
       "  </thead>\n",
       "  <tbody>\n",
       "    <tr>\n",
       "      <th>smart</th>\n",
       "      <td>1021.0</td>\n",
       "      <td>1289.641704</td>\n",
       "    </tr>\n",
       "    <tr>\n",
       "      <th>ultra</th>\n",
       "      <td>1950.0</td>\n",
       "      <td>2070.030426</td>\n",
       "    </tr>\n",
       "  </tbody>\n",
       "</table>\n",
       "</div>"
      ],
      "text/plain": [
       "              median          mean\n",
       "       monthly_total monthly_total\n",
       "tariff                            \n",
       "smart         1021.0   1289.641704\n",
       "ultra         1950.0   2070.030426"
      ]
     },
     "execution_count": 50,
     "metadata": {},
     "output_type": "execute_result"
    }
   ],
   "source": [
    "user_total.pivot_table(index = 'tariff', \n",
    "                    values = 'monthly_total', \n",
    "                    aggfunc = ['median',\n",
    "                               'mean'\n",
    "                              ]\n",
    "                   )"
   ]
  },
  {
   "cell_type": "code",
   "execution_count": 51,
   "id": "6270f42e",
   "metadata": {},
   "outputs": [
    {
     "data": {
      "image/png": "[encoded data removed]",
      "text/plain": [
       "<Figure size 1080x432 with 1 Axes>"
      ]
     },
     "metadata": {
      "needs_background": "light"
     },
     "output_type": "display_data"
    }
   ],
   "source": [
    "user_total.loc[user_total.loc[:,'tariff'] == 'smart']['monthly_total'].plot(\n",
    "    kind = 'hist',\n",
    "    bins = 30,\n",
    "    label = 'smart', \n",
    "    figsize = (15,6),\n",
    "    grid=True\n",
    ")\n",
    "user_total.loc[user_total.loc[:,'tariff'] == \"ultra\"]['monthly_total'].plot(\n",
    "    kind = 'hist',\n",
    "    bins = 30,\n",
    "    alpha =0.7,\n",
    "    label = 'ultra',\n",
    "    figsize = (15,6),\n",
    "    grid=True\n",
    ")\n",
    "plt.title('monthly_total')\n",
    "plt.xlabel('monthly_total')\n",
    "plt.ylabel('users')\n",
    "plt.legend()\n",
    "plt.show()"
   ]
  },
  {
   "cell_type": "markdown",
   "id": "21c9db55",
   "metadata": {},
   "source": [
    "**Тариф `smart`:**\n",
    "\n",
    "* ежемесячная длительность разговоров изменялась с января по декабрь 2018 года в пределах от 0 минут до 1355 минут;\n",
    "* медианное значением 398 минут (около 13 минут в день); \n",
    "* количество отправленных сообщений - с 0 до 143 сообщений с медианным значением 28 сообщений.\n",
    "* количество используемого интернет-трафика колебалось от 0Гб до 38гб с медианным значением 17Гб;\n",
    "* в тарифе чаще уходят за рамки тарифного пакета.\n",
    "\n",
    "**Тариф `ultra`:**\n",
    "\n",
    "* ежемесячная длительность разговоров изменялась с января по декабрь 2018 года в пределах от 0 минут до 1579 минут;\n",
    "* медианное значением 489 минут (около 16 минут в день); \n",
    "* количество отправленных сообщений - с 0 до 224 сообщений с медианным значением 38 сообщений;\n",
    "* количество используемого интернет-трафика колебалось от 0Гб до 49гб с медианным значением 19Гб;\n",
    "* медианные и средние значения выше, чем в тарифе `smart`, следовательно тариф `ultra` приносит больше выручки."
   ]
  },
  {
   "cell_type": "markdown",
   "id": "34e0fcbf",
   "metadata": {},
   "source": [
    "# Проверка гипотез:"
   ]
  },
  {
   "cell_type": "markdown",
   "id": "412070bc",
   "metadata": {},
   "source": [
    "Гипотезы:\n",
    "* средняя выручка пользователей тарифов `ultra` и `smart` различаются;\n",
    "* средняя выручка пользователей из Москвы отличается от выручки пользователей из других регионов."
   ]
  },
  {
   "cell_type": "markdown",
   "id": "8b3da34e",
   "metadata": {},
   "source": [
    "**Гипотеза: средняя выручка пользователей тарифов `ultra` и `smart` различаются**\n",
    "\n",
    "Есть две выборки: пользователи тарифов `ultra` и `smart`. Выборки являются независимыми. Согласно центральной предельной теореме, выборочные средние распределены нормально вокруг истинного среднего генеральной совокупности. \n",
    "Выберем уровень значимости равным 5%. Будем использовать t-критерий Стьюдента, так как сравниваемые выборки независимы между собой.\n",
    "* Нулевая гиротеза (H0): средняя выручка пользователей тарифов `ultra` и `smart` равны.\n",
    "* Альтернативная гипотеза (H1): средняя выручка пользователей тарифов `ultra` и `smart` различается."
   ]
  },
  {
   "cell_type": "code",
   "execution_count": 52,
   "id": "42a606f8",
   "metadata": {},
   "outputs": [
    {
     "name": "stdout",
     "output_type": "stream",
     "text": [
      "p-значение: 1.927011394420941e-250\n",
      "Отвергаем нулевую гипотезу.\n"
     ]
    }
   ],
   "source": [
    "revenue_smart = smart_total['monthly_total']\n",
    "revenue_ultra = ultra_total['monthly_total']\n",
    "alpha = .05\n",
    "results = st.ttest_ind(revenue_smart, revenue_ultra, equal_var=False)\n",
    "print('p-значение:', results.pvalue)\n",
    "if results.pvalue < alpha:\n",
    "    print('Отвергаем нулевую гипотезу.')\n",
    "else:\n",
    "    print('Не получилось отвергнуть нулевую гипотезу.')"
   ]
  },
  {
   "cell_type": "code",
   "execution_count": 53,
   "id": "76c43343",
   "metadata": {},
   "outputs": [
    {
     "data": {
      "text/html": [
       "<div>\n",
       "<style scoped>\n",
       "    .dataframe tbody tr th:only-of-type {\n",
       "        vertical-align: middle;\n",
       "    }\n",
       "\n",
       "    .dataframe tbody tr th {\n",
       "        vertical-align: top;\n",
       "    }\n",
       "\n",
       "    .dataframe thead tr th {\n",
       "        text-align: left;\n",
       "    }\n",
       "\n",
       "    .dataframe thead tr:last-of-type th {\n",
       "        text-align: right;\n",
       "    }\n",
       "</style>\n",
       "<table border=\"1\" class=\"dataframe\">\n",
       "  <thead>\n",
       "    <tr>\n",
       "      <th></th>\n",
       "      <th>median</th>\n",
       "      <th>mean</th>\n",
       "    </tr>\n",
       "    <tr>\n",
       "      <th></th>\n",
       "      <th>monthly_total</th>\n",
       "      <th>monthly_total</th>\n",
       "    </tr>\n",
       "    <tr>\n",
       "      <th>tariff</th>\n",
       "      <th></th>\n",
       "      <th></th>\n",
       "    </tr>\n",
       "  </thead>\n",
       "  <tbody>\n",
       "    <tr>\n",
       "      <th>smart</th>\n",
       "      <td>1021.0</td>\n",
       "      <td>1289.641704</td>\n",
       "    </tr>\n",
       "    <tr>\n",
       "      <th>ultra</th>\n",
       "      <td>1950.0</td>\n",
       "      <td>2070.030426</td>\n",
       "    </tr>\n",
       "  </tbody>\n",
       "</table>\n",
       "</div>"
      ],
      "text/plain": [
       "              median          mean\n",
       "       monthly_total monthly_total\n",
       "tariff                            \n",
       "smart         1021.0   1289.641704\n",
       "ultra         1950.0   2070.030426"
      ]
     },
     "execution_count": 53,
     "metadata": {},
     "output_type": "execute_result"
    }
   ],
   "source": [
    "user_total.pivot_table(index = 'tariff', \n",
    "                    values = 'monthly_total', \n",
    "                    aggfunc = ['median',\n",
    "                               'mean'\n",
    "                              ]\n",
    "                   )"
   ]
  },
  {
   "cell_type": "markdown",
   "id": "0a10381e",
   "metadata": {},
   "source": [
    "p-значение оказалось меньше уровня значимости в 5%. Отвергаем нулевую гипотезу. Принимаем альтернативную гипотезу: средние двух совокупностей не равны между собой. То есть, средняя выручка пользователей тарифов `ultra` и `smart` различаются."
   ]
  },
  {
   "cell_type": "markdown",
   "id": "e99016c2",
   "metadata": {},
   "source": [
    "**Гипотеза: средняя выручка пользователей из Москвы отличается от выручки пользователей из других регионов.**"
   ]
  },
  {
   "cell_type": "markdown",
   "id": "37f9c84c",
   "metadata": {},
   "source": [
    "Создадим выборки для пользователей из Москвы: users_Moscow, и других регионов: users_other."
   ]
  },
  {
   "cell_type": "code",
   "execution_count": 54,
   "id": "f8c82f28",
   "metadata": {},
   "outputs": [],
   "source": [
    "users_Moscow = smart_total.query('city == \"Москва\"')\n",
    "users_other = smart_total.query('city != \"Москва\"')"
   ]
  },
  {
   "cell_type": "markdown",
   "id": "2abeb787",
   "metadata": {},
   "source": [
    "Есть две выборки: пользователи в Москве и пользователи других регионов. Выборки являются независимыми. Согласно центральной предельной теореме, выборочные средние распределены нормально вокруг истинного среднего генеральной совокупности. Выберем уровень значимости равным 5%. Будем использовать t-критерий Стьюдента, так как сравниваемые выборки независимы между собой.\n",
    "\n",
    "* Нулевая гиротеза (H0): средняя выручка пользователей из Москвы равна выручке пользователей из других регионов\n",
    "* Альтернативная гипотеза (H1): средняя выручка пользователей из Москвы отличается от выручки пользователей из других регионов."
   ]
  },
  {
   "cell_type": "code",
   "execution_count": 55,
   "id": "2465ea6e",
   "metadata": {},
   "outputs": [
    {
     "name": "stdout",
     "output_type": "stream",
     "text": [
      "p-значение: 0.15741281346674899\n",
      "Не получилось отвергнуть нулевую гипотезу.\n"
     ]
    }
   ],
   "source": [
    "revenue_Moscow = users_Moscow['monthly_total']\n",
    "revenue_other = users_other['monthly_total']\n",
    "alpha = .05\n",
    "results = st.ttest_ind(revenue_Moscow, revenue_other, equal_var=False)\n",
    "print('p-значение:', results.pvalue)\n",
    "if results.pvalue < alpha:\n",
    "    print('Отвергаем нулевую гипотезу.')\n",
    "else:\n",
    "    print('Не получилось отвергнуть нулевую гипотезу.')"
   ]
  },
  {
   "cell_type": "markdown",
   "id": "0f558d72",
   "metadata": {},
   "source": [
    "p-значение оказалось больше уровня значимости в 5%. Мы не можем отвергнуть нулевую гипотезу и принять альтернативную гипотезу.\n",
    "Значит средняя выручка пользователей из Москвы не отличается от выручки пользователей из других регионов.."
   ]
  },
  {
   "cell_type": "markdown",
   "id": "108d62cf",
   "metadata": {},
   "source": [
    "# Общий вывод"
   ]
  },
  {
   "cell_type": "markdown",
   "id": "ae7d5cfe",
   "metadata": {},
   "source": [
    "Проведено исследование тарифов `smart` и `ultra`, которые предлагает компания «Мегалайн».\n",
    "Анализ провели на основе имеющихся исходных данных:\n",
    "* о пользователях;\n",
    "* о звонках;\n",
    "* о сообщениях;\n",
    "* об интернет-сессиях;\n",
    "* о тарифах.\n",
    "\n",
    "Сначала провели изучение общих данных. Затем была сделана предобработка данных (изменение типа, исправление ошибок, расчёт дополнительных показателей). Значительных ошибок в данных выявлено не было. \n",
    "Были подготовлены пользовательские данные:\n",
    "* собрана информация о совершённых звонках и минутах разговора;\n",
    "* количестве сообщений;\n",
    "* объёме использованного интернет-трафика.\n",
    "\n",
    "По результатам статистического анализа выявили, что доходы от тарифа `ultra` больше, чем от тарифа `smart`: в среднем `Мегалайн` от одного пользователя в месяц получает 2070 рублей и 1257 рублей соответственно.\n",
    "\n",
    "Особенности использования тарифов заключаются в следующем:\n",
    "* Пользователям тарифа `smart` не хватает услуг в рамках тарифного пакета.\n",
    "* Пользователи тарифа `ultra` не используют тарифный пакет в полном объеме.\n",
    "\n",
    "Предварительное изучение данных показало, что пользователи, как правило, отдают предпочтение только одной из опций тарифа: либо звонкам, либо сообщениям, либо интернету. Лидеры по использованию одного из направлений не являются лидерами по другим направлениям. После чего была рассчитана ежемесячная выручка компании, приходящая от каждого из пользователей. Максимальная выручка с клиента, которую компания получила за месяц в 2018 году (декабрь) составила 6614 рублей. Общая выручка составила боллее 4,8 млн. рублей.\n",
    "\n",
    "Проведены t-тесты, в результате которых было выявлено, что средняя выручка пользователей тарифов `ultra` и `smart` различается; а средняя выручка пользователей из Москвы не отличается от выручки пользователей из других регионов.\n"
   ]
  }
 ],
 "metadata": {
  "ExecuteTimeLog": [
   {
    "duration": 1973,
    "start_time": "2022-04-24T07:40:17.452Z"
   },
   {
    "duration": 3,
    "start_time": "2022-04-24T07:40:19.428Z"
   },
   {
    "duration": 2930,
    "start_time": "2022-04-24T07:40:19.433Z"
   },
   {
    "duration": 21,
    "start_time": "2022-04-24T07:40:22.366Z"
   },
   {
    "duration": 16,
    "start_time": "2022-04-24T07:40:22.389Z"
   },
   {
    "duration": 27,
    "start_time": "2022-04-24T07:40:22.407Z"
   },
   {
    "duration": 21,
    "start_time": "2022-04-24T07:40:22.436Z"
   },
   {
    "duration": 53,
    "start_time": "2022-04-24T07:40:22.460Z"
   },
   {
    "duration": 39,
    "start_time": "2022-04-24T07:40:22.516Z"
   },
   {
    "duration": 10,
    "start_time": "2022-04-24T07:40:22.559Z"
   },
   {
    "duration": 46,
    "start_time": "2022-04-24T07:40:22.571Z"
   },
   {
    "duration": 17,
    "start_time": "2022-04-24T07:40:22.619Z"
   },
   {
    "duration": 13,
    "start_time": "2022-04-24T07:40:22.638Z"
   },
   {
    "duration": 67,
    "start_time": "2022-04-24T07:40:22.653Z"
   },
   {
    "duration": 36,
    "start_time": "2022-04-24T07:40:22.722Z"
   },
   {
    "duration": 36,
    "start_time": "2022-04-24T07:40:22.760Z"
   },
   {
    "duration": 124,
    "start_time": "2022-04-24T07:40:22.799Z"
   },
   {
    "duration": 11,
    "start_time": "2022-04-24T07:40:22.925Z"
   },
   {
    "duration": 21,
    "start_time": "2022-04-24T07:40:22.939Z"
   },
   {
    "duration": 37,
    "start_time": "2022-04-24T07:40:22.962Z"
   },
   {
    "duration": 101,
    "start_time": "2022-04-24T07:40:23.002Z"
   },
   {
    "duration": 65,
    "start_time": "2022-04-24T07:40:23.105Z"
   },
   {
    "duration": 30,
    "start_time": "2022-04-24T07:40:23.173Z"
   },
   {
    "duration": 20,
    "start_time": "2022-04-24T07:40:23.205Z"
   },
   {
    "duration": 12,
    "start_time": "2022-04-24T07:40:23.227Z"
   },
   {
    "duration": 12,
    "start_time": "2022-04-24T07:40:23.241Z"
   },
   {
    "duration": 67,
    "start_time": "2022-04-24T07:40:23.255Z"
   },
   {
    "duration": 15,
    "start_time": "2022-04-24T07:40:23.328Z"
   },
   {
    "duration": 17,
    "start_time": "2022-04-24T07:40:23.345Z"
   },
   {
    "duration": 38,
    "start_time": "2022-04-24T07:40:23.363Z"
   },
   {
    "duration": 33,
    "start_time": "2022-04-24T07:40:23.403Z"
   },
   {
    "duration": 5,
    "start_time": "2022-04-24T07:40:23.439Z"
   },
   {
    "duration": 10,
    "start_time": "2022-04-24T07:40:23.446Z"
   },
   {
    "duration": 45,
    "start_time": "2022-04-24T07:40:23.494Z"
   },
   {
    "duration": 9,
    "start_time": "2022-04-24T07:40:23.541Z"
   },
   {
    "duration": 7,
    "start_time": "2022-04-24T07:40:23.552Z"
   },
   {
    "duration": 9,
    "start_time": "2022-04-24T07:40:23.561Z"
   },
   {
    "duration": 12,
    "start_time": "2022-04-24T07:40:23.593Z"
   },
   {
    "duration": 25,
    "start_time": "2022-04-24T07:40:23.607Z"
   },
   {
    "duration": 8,
    "start_time": "2022-04-24T07:40:23.634Z"
   },
   {
    "duration": 54,
    "start_time": "2022-04-24T07:40:23.645Z"
   },
   {
    "duration": 13,
    "start_time": "2022-04-24T07:40:23.701Z"
   },
   {
    "duration": 4,
    "start_time": "2022-04-24T07:40:23.716Z"
   },
   {
    "duration": 113,
    "start_time": "2022-04-24T07:40:23.722Z"
   },
   {
    "duration": 97,
    "start_time": "2022-04-24T07:40:23.838Z"
   },
   {
    "duration": 77,
    "start_time": "2022-04-24T07:40:23.937Z"
   },
   {
    "duration": 1513,
    "start_time": "2022-04-24T07:40:24.016Z"
   },
   {
    "duration": 27,
    "start_time": "2022-04-24T07:40:25.531Z"
   },
   {
    "duration": 441,
    "start_time": "2022-04-24T07:40:25.560Z"
   },
   {
    "duration": 7,
    "start_time": "2022-04-24T07:40:26.003Z"
   },
   {
    "duration": 16,
    "start_time": "2022-04-24T07:40:26.012Z"
   },
   {
    "duration": 9,
    "start_time": "2022-04-24T07:40:26.030Z"
   },
   {
    "duration": 1438,
    "start_time": "2022-04-24T07:49:21.435Z"
   },
   {
    "duration": 4,
    "start_time": "2022-04-24T07:49:22.876Z"
   },
   {
    "duration": 1090,
    "start_time": "2022-04-24T07:49:22.893Z"
   },
   {
    "duration": 24,
    "start_time": "2022-04-24T07:49:23.986Z"
   },
   {
    "duration": 17,
    "start_time": "2022-04-24T07:49:24.012Z"
   },
   {
    "duration": 24,
    "start_time": "2022-04-24T07:49:24.031Z"
   },
   {
    "duration": 43,
    "start_time": "2022-04-24T07:49:24.058Z"
   },
   {
    "duration": 36,
    "start_time": "2022-04-24T07:49:24.103Z"
   },
   {
    "duration": 63,
    "start_time": "2022-04-24T07:49:24.141Z"
   },
   {
    "duration": 11,
    "start_time": "2022-04-24T07:49:24.207Z"
   },
   {
    "duration": 32,
    "start_time": "2022-04-24T07:49:24.220Z"
   },
   {
    "duration": 48,
    "start_time": "2022-04-24T07:49:24.254Z"
   },
   {
    "duration": 13,
    "start_time": "2022-04-24T07:49:24.304Z"
   },
   {
    "duration": 34,
    "start_time": "2022-04-24T07:49:24.319Z"
   },
   {
    "duration": 67,
    "start_time": "2022-04-24T07:49:24.355Z"
   },
   {
    "duration": 12,
    "start_time": "2022-04-24T07:49:24.424Z"
   },
   {
    "duration": 198,
    "start_time": "2022-04-24T07:49:24.438Z"
   },
   {
    "duration": 23,
    "start_time": "2022-04-24T07:49:24.639Z"
   },
   {
    "duration": 15,
    "start_time": "2022-04-24T07:49:24.664Z"
   },
   {
    "duration": 15,
    "start_time": "2022-04-24T07:49:24.693Z"
   },
   {
    "duration": 118,
    "start_time": "2022-04-24T07:49:24.710Z"
   },
   {
    "duration": 87,
    "start_time": "2022-04-24T07:49:24.830Z"
   },
   {
    "duration": 14,
    "start_time": "2022-04-24T07:49:24.919Z"
   },
   {
    "duration": 14,
    "start_time": "2022-04-24T07:49:24.935Z"
   },
   {
    "duration": 41,
    "start_time": "2022-04-24T07:49:24.952Z"
   },
   {
    "duration": 12,
    "start_time": "2022-04-24T07:49:24.995Z"
   },
   {
    "duration": 33,
    "start_time": "2022-04-24T07:49:25.010Z"
   },
   {
    "duration": 16,
    "start_time": "2022-04-24T07:49:25.048Z"
   },
   {
    "duration": 19,
    "start_time": "2022-04-24T07:49:25.094Z"
   },
   {
    "duration": 9,
    "start_time": "2022-04-24T07:49:25.115Z"
   },
   {
    "duration": 67,
    "start_time": "2022-04-24T07:49:25.127Z"
   },
   {
    "duration": 6,
    "start_time": "2022-04-24T07:49:25.196Z"
   },
   {
    "duration": 6,
    "start_time": "2022-04-24T07:49:25.204Z"
   },
   {
    "duration": 40,
    "start_time": "2022-04-24T07:49:25.212Z"
   },
   {
    "duration": 45,
    "start_time": "2022-04-24T07:49:25.254Z"
   },
   {
    "duration": 10,
    "start_time": "2022-04-24T07:49:25.301Z"
   },
   {
    "duration": 10,
    "start_time": "2022-04-24T07:49:25.313Z"
   },
   {
    "duration": 14,
    "start_time": "2022-04-24T07:49:25.325Z"
   },
   {
    "duration": 53,
    "start_time": "2022-04-24T07:49:25.341Z"
   },
   {
    "duration": 7,
    "start_time": "2022-04-24T07:49:25.396Z"
   },
   {
    "duration": 24,
    "start_time": "2022-04-24T07:49:25.405Z"
   },
   {
    "duration": 13,
    "start_time": "2022-04-24T07:49:25.431Z"
   },
   {
    "duration": 4,
    "start_time": "2022-04-24T07:49:25.446Z"
   },
   {
    "duration": 165,
    "start_time": "2022-04-24T07:49:25.452Z"
   },
   {
    "duration": 191,
    "start_time": "2022-04-24T07:49:25.619Z"
   },
   {
    "duration": 120,
    "start_time": "2022-04-24T07:49:25.812Z"
   },
   {
    "duration": 2504,
    "start_time": "2022-04-24T07:49:25.934Z"
   },
   {
    "duration": 58,
    "start_time": "2022-04-24T07:49:28.440Z"
   },
   {
    "duration": 822,
    "start_time": "2022-04-24T07:49:28.500Z"
   },
   {
    "duration": 7,
    "start_time": "2022-04-24T07:49:29.324Z"
   },
   {
    "duration": 65,
    "start_time": "2022-04-24T07:49:29.333Z"
   },
   {
    "duration": 9,
    "start_time": "2022-04-24T07:49:29.401Z"
   },
   {
    "duration": 1343,
    "start_time": "2022-04-25T19:58:23.746Z"
   },
   {
    "duration": 2,
    "start_time": "2022-04-25T19:58:25.091Z"
   },
   {
    "duration": 893,
    "start_time": "2022-04-25T19:58:25.095Z"
   },
   {
    "duration": 14,
    "start_time": "2022-04-25T19:58:25.991Z"
   },
   {
    "duration": 12,
    "start_time": "2022-04-25T19:58:26.007Z"
   },
   {
    "duration": 15,
    "start_time": "2022-04-25T19:58:26.020Z"
   },
   {
    "duration": 9,
    "start_time": "2022-04-25T19:58:26.037Z"
   },
   {
    "duration": 25,
    "start_time": "2022-04-25T19:58:26.047Z"
   },
   {
    "duration": 52,
    "start_time": "2022-04-25T19:58:26.074Z"
   },
   {
    "duration": 8,
    "start_time": "2022-04-25T19:58:26.129Z"
   },
   {
    "duration": 19,
    "start_time": "2022-04-25T19:58:26.139Z"
   },
   {
    "duration": 14,
    "start_time": "2022-04-25T19:58:26.160Z"
   },
   {
    "duration": 8,
    "start_time": "2022-04-25T19:58:26.175Z"
   },
   {
    "duration": 54,
    "start_time": "2022-04-25T19:58:26.185Z"
   },
   {
    "duration": 26,
    "start_time": "2022-04-25T19:58:26.241Z"
   },
   {
    "duration": 7,
    "start_time": "2022-04-25T19:58:26.268Z"
   },
   {
    "duration": 104,
    "start_time": "2022-04-25T19:58:26.277Z"
   },
   {
    "duration": 7,
    "start_time": "2022-04-25T19:58:26.383Z"
   },
   {
    "duration": 9,
    "start_time": "2022-04-25T19:58:26.392Z"
   },
   {
    "duration": 24,
    "start_time": "2022-04-25T19:58:26.403Z"
   },
   {
    "duration": 66,
    "start_time": "2022-04-25T19:58:26.429Z"
   },
   {
    "duration": 64,
    "start_time": "2022-04-25T19:58:26.496Z"
   },
   {
    "duration": 10,
    "start_time": "2022-04-25T19:58:26.562Z"
   },
   {
    "duration": 12,
    "start_time": "2022-04-25T19:58:26.573Z"
   },
   {
    "duration": 39,
    "start_time": "2022-04-25T19:58:26.587Z"
   },
   {
    "duration": 9,
    "start_time": "2022-04-25T19:58:26.628Z"
   },
   {
    "duration": 21,
    "start_time": "2022-04-25T19:58:26.639Z"
   },
   {
    "duration": 11,
    "start_time": "2022-04-25T19:58:26.663Z"
   },
   {
    "duration": 27,
    "start_time": "2022-04-25T19:58:26.676Z"
   },
   {
    "duration": 18,
    "start_time": "2022-04-25T19:58:26.705Z"
   },
   {
    "duration": 25,
    "start_time": "2022-04-25T19:58:26.725Z"
   },
   {
    "duration": 4,
    "start_time": "2022-04-25T19:58:26.751Z"
   },
   {
    "duration": 16,
    "start_time": "2022-04-25T19:58:26.756Z"
   },
   {
    "duration": 25,
    "start_time": "2022-04-25T19:58:26.774Z"
   },
   {
    "duration": 7,
    "start_time": "2022-04-25T19:58:26.801Z"
   },
   {
    "duration": 15,
    "start_time": "2022-04-25T19:58:26.810Z"
   },
   {
    "duration": 15,
    "start_time": "2022-04-25T19:58:26.827Z"
   },
   {
    "duration": 9,
    "start_time": "2022-04-25T19:58:26.844Z"
   },
   {
    "duration": 18,
    "start_time": "2022-04-25T19:58:26.855Z"
   },
   {
    "duration": 7,
    "start_time": "2022-04-25T19:58:26.875Z"
   },
   {
    "duration": 19,
    "start_time": "2022-04-25T19:58:26.883Z"
   },
   {
    "duration": 9,
    "start_time": "2022-04-25T19:58:26.903Z"
   },
   {
    "duration": 10,
    "start_time": "2022-04-25T19:58:26.914Z"
   },
   {
    "duration": 55,
    "start_time": "2022-04-25T19:58:26.926Z"
   },
   {
    "duration": 63,
    "start_time": "2022-04-25T19:58:26.982Z"
   },
   {
    "duration": 54,
    "start_time": "2022-04-25T19:58:27.047Z"
   },
   {
    "duration": 755,
    "start_time": "2022-04-25T19:58:27.103Z"
   },
   {
    "duration": 21,
    "start_time": "2022-04-25T19:58:27.860Z"
   },
   {
    "duration": 253,
    "start_time": "2022-04-25T19:58:27.883Z"
   },
   {
    "duration": 6,
    "start_time": "2022-04-25T19:58:28.138Z"
   },
   {
    "duration": 13,
    "start_time": "2022-04-25T19:58:28.146Z"
   },
   {
    "duration": 7,
    "start_time": "2022-04-25T19:58:28.161Z"
   },
   {
    "duration": 4,
    "start_time": "2022-04-25T20:10:28.264Z"
   },
   {
    "duration": 4,
    "start_time": "2022-04-25T20:10:28.270Z"
   },
   {
    "duration": 183,
    "start_time": "2022-04-25T20:10:28.277Z"
   },
   {
    "duration": 0,
    "start_time": "2022-04-25T20:10:28.462Z"
   },
   {
    "duration": 0,
    "start_time": "2022-04-25T20:10:28.464Z"
   },
   {
    "duration": 0,
    "start_time": "2022-04-25T20:10:28.465Z"
   },
   {
    "duration": 0,
    "start_time": "2022-04-25T20:10:28.466Z"
   },
   {
    "duration": 0,
    "start_time": "2022-04-25T20:10:28.468Z"
   },
   {
    "duration": 0,
    "start_time": "2022-04-25T20:10:28.469Z"
   },
   {
    "duration": 0,
    "start_time": "2022-04-25T20:10:28.470Z"
   },
   {
    "duration": 0,
    "start_time": "2022-04-25T20:10:28.471Z"
   },
   {
    "duration": 0,
    "start_time": "2022-04-25T20:10:28.472Z"
   },
   {
    "duration": 0,
    "start_time": "2022-04-25T20:10:28.474Z"
   },
   {
    "duration": 2,
    "start_time": "2022-04-25T20:11:08.590Z"
   },
   {
    "duration": 2,
    "start_time": "2022-04-25T20:11:08.629Z"
   },
   {
    "duration": 1295,
    "start_time": "2022-04-25T20:11:21.020Z"
   },
   {
    "duration": 5,
    "start_time": "2022-04-25T20:11:22.317Z"
   },
   {
    "duration": 943,
    "start_time": "2022-04-25T20:11:22.324Z"
   },
   {
    "duration": 15,
    "start_time": "2022-04-25T20:11:23.269Z"
   },
   {
    "duration": 12,
    "start_time": "2022-04-25T20:11:23.286Z"
   },
   {
    "duration": 13,
    "start_time": "2022-04-25T20:11:23.300Z"
   },
   {
    "duration": 9,
    "start_time": "2022-04-25T20:11:23.315Z"
   },
   {
    "duration": 24,
    "start_time": "2022-04-25T20:11:23.326Z"
   },
   {
    "duration": 30,
    "start_time": "2022-04-25T20:11:23.352Z"
   },
   {
    "duration": 7,
    "start_time": "2022-04-25T20:11:23.384Z"
   },
   {
    "duration": 45,
    "start_time": "2022-04-25T20:11:23.393Z"
   },
   {
    "duration": 13,
    "start_time": "2022-04-25T20:11:23.439Z"
   },
   {
    "duration": 8,
    "start_time": "2022-04-25T20:11:23.454Z"
   },
   {
    "duration": 24,
    "start_time": "2022-04-25T20:11:23.465Z"
   },
   {
    "duration": 52,
    "start_time": "2022-04-25T20:11:23.491Z"
   },
   {
    "duration": 9,
    "start_time": "2022-04-25T20:11:23.545Z"
   },
   {
    "duration": 131,
    "start_time": "2022-04-25T20:11:23.556Z"
   },
   {
    "duration": 9,
    "start_time": "2022-04-25T20:11:23.689Z"
   },
   {
    "duration": 23,
    "start_time": "2022-04-25T20:11:23.700Z"
   },
   {
    "duration": 13,
    "start_time": "2022-04-25T20:11:23.725Z"
   },
   {
    "duration": 87,
    "start_time": "2022-04-25T20:11:23.740Z"
   },
   {
    "duration": 54,
    "start_time": "2022-04-25T20:11:23.829Z"
   },
   {
    "duration": 10,
    "start_time": "2022-04-25T20:11:23.885Z"
   },
   {
    "duration": 30,
    "start_time": "2022-04-25T20:11:23.896Z"
   },
   {
    "duration": 8,
    "start_time": "2022-04-25T20:11:23.928Z"
   },
   {
    "duration": 10,
    "start_time": "2022-04-25T20:11:23.938Z"
   },
   {
    "duration": 20,
    "start_time": "2022-04-25T20:11:23.950Z"
   },
   {
    "duration": 10,
    "start_time": "2022-04-25T20:11:23.971Z"
   },
   {
    "duration": 10,
    "start_time": "2022-04-25T20:11:24.022Z"
   },
   {
    "duration": 7,
    "start_time": "2022-04-25T20:11:24.034Z"
   },
   {
    "duration": 20,
    "start_time": "2022-04-25T20:11:24.043Z"
   },
   {
    "duration": 4,
    "start_time": "2022-04-25T20:11:24.064Z"
   },
   {
    "duration": 5,
    "start_time": "2022-04-25T20:11:24.069Z"
   },
   {
    "duration": 50,
    "start_time": "2022-04-25T20:11:24.075Z"
   },
   {
    "duration": 8,
    "start_time": "2022-04-25T20:11:24.127Z"
   },
   {
    "duration": 5,
    "start_time": "2022-04-25T20:11:24.137Z"
   },
   {
    "duration": 7,
    "start_time": "2022-04-25T20:11:24.144Z"
   },
   {
    "duration": 14,
    "start_time": "2022-04-25T20:11:24.153Z"
   },
   {
    "duration": 23,
    "start_time": "2022-04-25T20:11:24.169Z"
   },
   {
    "duration": 33,
    "start_time": "2022-04-25T20:11:24.194Z"
   },
   {
    "duration": 19,
    "start_time": "2022-04-25T20:11:24.232Z"
   },
   {
    "duration": 12,
    "start_time": "2022-04-25T20:11:24.253Z"
   },
   {
    "duration": 4,
    "start_time": "2022-04-25T20:11:24.267Z"
   },
   {
    "duration": 110,
    "start_time": "2022-04-25T20:11:24.273Z"
   },
   {
    "duration": 86,
    "start_time": "2022-04-25T20:11:24.385Z"
   },
   {
    "duration": 52,
    "start_time": "2022-04-25T20:11:24.473Z"
   },
   {
    "duration": 767,
    "start_time": "2022-04-25T20:11:24.527Z"
   },
   {
    "duration": 30,
    "start_time": "2022-04-25T20:11:25.296Z"
   },
   {
    "duration": 242,
    "start_time": "2022-04-25T20:11:25.328Z"
   },
   {
    "duration": 7,
    "start_time": "2022-04-25T20:11:25.572Z"
   },
   {
    "duration": 14,
    "start_time": "2022-04-25T20:11:25.580Z"
   },
   {
    "duration": 6,
    "start_time": "2022-04-25T20:11:25.596Z"
   },
   {
    "duration": 4,
    "start_time": "2022-04-25T20:12:31.238Z"
   },
   {
    "duration": 6,
    "start_time": "2022-04-25T20:12:31.244Z"
   },
   {
    "duration": 952,
    "start_time": "2022-04-25T20:12:31.252Z"
   },
   {
    "duration": 10,
    "start_time": "2022-04-25T20:12:32.206Z"
   },
   {
    "duration": 11,
    "start_time": "2022-04-25T20:12:32.219Z"
   },
   {
    "duration": 11,
    "start_time": "2022-04-25T20:12:32.232Z"
   },
   {
    "duration": 9,
    "start_time": "2022-04-25T20:12:32.244Z"
   },
   {
    "duration": 18,
    "start_time": "2022-04-25T20:12:32.255Z"
   },
   {
    "duration": 26,
    "start_time": "2022-04-25T20:12:32.274Z"
   },
   {
    "duration": 23,
    "start_time": "2022-04-25T20:12:32.302Z"
   },
   {
    "duration": 16,
    "start_time": "2022-04-25T20:12:32.328Z"
   },
   {
    "duration": 13,
    "start_time": "2022-04-25T20:12:32.346Z"
   },
   {
    "duration": 9,
    "start_time": "2022-04-25T20:12:32.360Z"
   },
   {
    "duration": 21,
    "start_time": "2022-04-25T20:12:55.756Z"
   },
   {
    "duration": 1217,
    "start_time": "2022-04-25T20:15:17.923Z"
   },
   {
    "duration": 3,
    "start_time": "2022-04-25T20:15:19.141Z"
   },
   {
    "duration": 1051,
    "start_time": "2022-04-25T20:15:19.146Z"
   },
   {
    "duration": 15,
    "start_time": "2022-04-25T20:15:20.199Z"
   },
   {
    "duration": 24,
    "start_time": "2022-04-25T20:15:20.215Z"
   },
   {
    "duration": 37,
    "start_time": "2022-04-25T20:15:20.240Z"
   },
   {
    "duration": 24,
    "start_time": "2022-04-25T20:15:20.279Z"
   },
   {
    "duration": 46,
    "start_time": "2022-04-25T20:15:20.305Z"
   },
   {
    "duration": 37,
    "start_time": "2022-04-25T20:15:20.353Z"
   },
   {
    "duration": 9,
    "start_time": "2022-04-25T20:15:20.394Z"
   },
   {
    "duration": 40,
    "start_time": "2022-04-25T20:15:20.404Z"
   },
   {
    "duration": 59,
    "start_time": "2022-04-25T20:15:20.446Z"
   },
   {
    "duration": 22,
    "start_time": "2022-04-25T20:15:20.507Z"
   },
   {
    "duration": 50,
    "start_time": "2022-04-25T20:15:20.531Z"
   },
   {
    "duration": 26,
    "start_time": "2022-04-25T20:15:20.583Z"
   },
   {
    "duration": 12,
    "start_time": "2022-04-25T20:15:20.611Z"
   },
   {
    "duration": 100,
    "start_time": "2022-04-25T20:15:20.624Z"
   },
   {
    "duration": 8,
    "start_time": "2022-04-25T20:15:20.725Z"
   },
   {
    "duration": 26,
    "start_time": "2022-04-25T20:15:20.734Z"
   },
   {
    "duration": 93,
    "start_time": "2022-04-25T20:15:20.762Z"
   },
   {
    "duration": 186,
    "start_time": "2022-04-25T20:15:20.857Z"
   },
   {
    "duration": 0,
    "start_time": "2022-04-25T20:15:21.046Z"
   },
   {
    "duration": 0,
    "start_time": "2022-04-25T20:15:21.047Z"
   },
   {
    "duration": 0,
    "start_time": "2022-04-25T20:15:21.048Z"
   },
   {
    "duration": 0,
    "start_time": "2022-04-25T20:15:21.050Z"
   },
   {
    "duration": 0,
    "start_time": "2022-04-25T20:15:21.051Z"
   },
   {
    "duration": 0,
    "start_time": "2022-04-25T20:15:21.053Z"
   },
   {
    "duration": 0,
    "start_time": "2022-04-25T20:15:21.054Z"
   },
   {
    "duration": 0,
    "start_time": "2022-04-25T20:15:21.055Z"
   },
   {
    "duration": 0,
    "start_time": "2022-04-25T20:15:21.056Z"
   },
   {
    "duration": 0,
    "start_time": "2022-04-25T20:15:21.057Z"
   },
   {
    "duration": 0,
    "start_time": "2022-04-25T20:15:21.059Z"
   },
   {
    "duration": 0,
    "start_time": "2022-04-25T20:15:21.060Z"
   },
   {
    "duration": 0,
    "start_time": "2022-04-25T20:15:21.060Z"
   },
   {
    "duration": 0,
    "start_time": "2022-04-25T20:15:21.062Z"
   },
   {
    "duration": 0,
    "start_time": "2022-04-25T20:15:21.063Z"
   },
   {
    "duration": 0,
    "start_time": "2022-04-25T20:15:21.064Z"
   },
   {
    "duration": 0,
    "start_time": "2022-04-25T20:15:21.065Z"
   },
   {
    "duration": 0,
    "start_time": "2022-04-25T20:15:21.066Z"
   },
   {
    "duration": 0,
    "start_time": "2022-04-25T20:15:21.067Z"
   },
   {
    "duration": 0,
    "start_time": "2022-04-25T20:15:21.069Z"
   },
   {
    "duration": 0,
    "start_time": "2022-04-25T20:15:21.070Z"
   },
   {
    "duration": 0,
    "start_time": "2022-04-25T20:15:21.071Z"
   },
   {
    "duration": 0,
    "start_time": "2022-04-25T20:15:21.072Z"
   },
   {
    "duration": 0,
    "start_time": "2022-04-25T20:15:21.073Z"
   },
   {
    "duration": 0,
    "start_time": "2022-04-25T20:15:21.122Z"
   },
   {
    "duration": 0,
    "start_time": "2022-04-25T20:15:21.124Z"
   },
   {
    "duration": 0,
    "start_time": "2022-04-25T20:15:21.125Z"
   },
   {
    "duration": 0,
    "start_time": "2022-04-25T20:15:21.126Z"
   },
   {
    "duration": 0,
    "start_time": "2022-04-25T20:15:21.127Z"
   },
   {
    "duration": 0,
    "start_time": "2022-04-25T20:15:21.128Z"
   },
   {
    "duration": 64,
    "start_time": "2022-04-25T20:18:15.493Z"
   },
   {
    "duration": 1474,
    "start_time": "2022-04-25T20:21:39.006Z"
   },
   {
    "duration": 2,
    "start_time": "2022-04-25T20:21:40.482Z"
   },
   {
    "duration": 1132,
    "start_time": "2022-04-25T20:21:40.486Z"
   },
   {
    "duration": 15,
    "start_time": "2022-04-25T20:21:41.621Z"
   },
   {
    "duration": 13,
    "start_time": "2022-04-25T20:21:41.638Z"
   },
   {
    "duration": 14,
    "start_time": "2022-04-25T20:21:41.653Z"
   },
   {
    "duration": 10,
    "start_time": "2022-04-25T20:21:41.669Z"
   },
   {
    "duration": 52,
    "start_time": "2022-04-25T20:21:41.681Z"
   },
   {
    "duration": 33,
    "start_time": "2022-04-25T20:21:41.736Z"
   },
   {
    "duration": 9,
    "start_time": "2022-04-25T20:21:41.774Z"
   },
   {
    "duration": 14,
    "start_time": "2022-04-25T20:21:41.785Z"
   },
   {
    "duration": 12,
    "start_time": "2022-04-25T20:21:41.822Z"
   },
   {
    "duration": 9,
    "start_time": "2022-04-25T20:21:41.835Z"
   },
   {
    "duration": 22,
    "start_time": "2022-04-25T20:21:41.845Z"
   },
   {
    "duration": 22,
    "start_time": "2022-04-25T20:21:41.868Z"
   },
   {
    "duration": 38,
    "start_time": "2022-04-25T20:21:41.891Z"
   },
   {
    "duration": 69,
    "start_time": "2022-04-25T20:21:41.931Z"
   },
   {
    "duration": 20,
    "start_time": "2022-04-25T20:21:42.002Z"
   },
   {
    "duration": 10,
    "start_time": "2022-04-25T20:21:42.024Z"
   },
   {
    "duration": 103,
    "start_time": "2022-04-25T20:21:42.036Z"
   },
   {
    "duration": 297,
    "start_time": "2022-04-25T20:21:42.141Z"
   },
   {
    "duration": 0,
    "start_time": "2022-04-25T20:21:42.440Z"
   },
   {
    "duration": 0,
    "start_time": "2022-04-25T20:21:42.441Z"
   },
   {
    "duration": 0,
    "start_time": "2022-04-25T20:21:42.443Z"
   },
   {
    "duration": 0,
    "start_time": "2022-04-25T20:21:42.444Z"
   },
   {
    "duration": 0,
    "start_time": "2022-04-25T20:21:42.445Z"
   },
   {
    "duration": 0,
    "start_time": "2022-04-25T20:21:42.446Z"
   },
   {
    "duration": 0,
    "start_time": "2022-04-25T20:21:42.447Z"
   },
   {
    "duration": 0,
    "start_time": "2022-04-25T20:21:42.448Z"
   },
   {
    "duration": 0,
    "start_time": "2022-04-25T20:21:42.449Z"
   },
   {
    "duration": 0,
    "start_time": "2022-04-25T20:21:42.450Z"
   },
   {
    "duration": 0,
    "start_time": "2022-04-25T20:21:42.451Z"
   },
   {
    "duration": 0,
    "start_time": "2022-04-25T20:21:42.452Z"
   },
   {
    "duration": 0,
    "start_time": "2022-04-25T20:21:42.453Z"
   },
   {
    "duration": 0,
    "start_time": "2022-04-25T20:21:42.454Z"
   },
   {
    "duration": 0,
    "start_time": "2022-04-25T20:21:42.455Z"
   },
   {
    "duration": 0,
    "start_time": "2022-04-25T20:21:42.456Z"
   },
   {
    "duration": 0,
    "start_time": "2022-04-25T20:21:42.457Z"
   },
   {
    "duration": 0,
    "start_time": "2022-04-25T20:21:42.458Z"
   },
   {
    "duration": 0,
    "start_time": "2022-04-25T20:21:42.459Z"
   },
   {
    "duration": 0,
    "start_time": "2022-04-25T20:21:42.460Z"
   },
   {
    "duration": 0,
    "start_time": "2022-04-25T20:21:42.461Z"
   },
   {
    "duration": 0,
    "start_time": "2022-04-25T20:21:42.462Z"
   },
   {
    "duration": 0,
    "start_time": "2022-04-25T20:21:42.463Z"
   },
   {
    "duration": 0,
    "start_time": "2022-04-25T20:21:42.464Z"
   },
   {
    "duration": 0,
    "start_time": "2022-04-25T20:21:42.465Z"
   },
   {
    "duration": 0,
    "start_time": "2022-04-25T20:21:42.466Z"
   },
   {
    "duration": 0,
    "start_time": "2022-04-25T20:21:42.467Z"
   },
   {
    "duration": 0,
    "start_time": "2022-04-25T20:21:42.468Z"
   },
   {
    "duration": 0,
    "start_time": "2022-04-25T20:21:42.469Z"
   },
   {
    "duration": 0,
    "start_time": "2022-04-25T20:21:42.522Z"
   },
   {
    "duration": 11,
    "start_time": "2022-04-25T20:30:47.961Z"
   },
   {
    "duration": 10,
    "start_time": "2022-04-25T20:30:59.062Z"
   },
   {
    "duration": 77,
    "start_time": "2022-04-25T20:32:06.804Z"
   },
   {
    "duration": 38,
    "start_time": "2022-04-25T20:32:16.416Z"
   },
   {
    "duration": 1158,
    "start_time": "2022-04-25T20:32:28.804Z"
   },
   {
    "duration": 2,
    "start_time": "2022-04-25T20:32:29.965Z"
   },
   {
    "duration": 1159,
    "start_time": "2022-04-25T20:32:29.968Z"
   },
   {
    "duration": 18,
    "start_time": "2022-04-25T20:32:31.129Z"
   },
   {
    "duration": 25,
    "start_time": "2022-04-25T20:32:31.149Z"
   },
   {
    "duration": 16,
    "start_time": "2022-04-25T20:32:31.175Z"
   },
   {
    "duration": 29,
    "start_time": "2022-04-25T20:32:31.193Z"
   },
   {
    "duration": 34,
    "start_time": "2022-04-25T20:32:31.223Z"
   },
   {
    "duration": 31,
    "start_time": "2022-04-25T20:32:31.259Z"
   },
   {
    "duration": 9,
    "start_time": "2022-04-25T20:32:31.292Z"
   },
   {
    "duration": 39,
    "start_time": "2022-04-25T20:32:31.302Z"
   },
   {
    "duration": 17,
    "start_time": "2022-04-25T20:32:31.343Z"
   },
   {
    "duration": 9,
    "start_time": "2022-04-25T20:32:31.362Z"
   },
   {
    "duration": 48,
    "start_time": "2022-04-25T20:32:31.374Z"
   },
   {
    "duration": 26,
    "start_time": "2022-04-25T20:32:31.424Z"
   },
   {
    "duration": 8,
    "start_time": "2022-04-25T20:32:31.452Z"
   },
   {
    "duration": 94,
    "start_time": "2022-04-25T20:32:31.462Z"
   },
   {
    "duration": 7,
    "start_time": "2022-04-25T20:32:31.558Z"
   },
   {
    "duration": 14,
    "start_time": "2022-04-25T20:32:31.567Z"
   },
   {
    "duration": 81,
    "start_time": "2022-04-25T20:32:31.583Z"
   },
   {
    "duration": 226,
    "start_time": "2022-04-25T20:32:31.666Z"
   },
   {
    "duration": 0,
    "start_time": "2022-04-25T20:32:31.894Z"
   },
   {
    "duration": 0,
    "start_time": "2022-04-25T20:32:31.896Z"
   },
   {
    "duration": 0,
    "start_time": "2022-04-25T20:32:31.897Z"
   },
   {
    "duration": 0,
    "start_time": "2022-04-25T20:32:31.899Z"
   },
   {
    "duration": 0,
    "start_time": "2022-04-25T20:32:31.901Z"
   },
   {
    "duration": 0,
    "start_time": "2022-04-25T20:32:31.902Z"
   },
   {
    "duration": 0,
    "start_time": "2022-04-25T20:32:31.903Z"
   },
   {
    "duration": 0,
    "start_time": "2022-04-25T20:32:31.904Z"
   },
   {
    "duration": 0,
    "start_time": "2022-04-25T20:32:31.905Z"
   },
   {
    "duration": 0,
    "start_time": "2022-04-25T20:32:31.922Z"
   },
   {
    "duration": 0,
    "start_time": "2022-04-25T20:32:31.924Z"
   },
   {
    "duration": 0,
    "start_time": "2022-04-25T20:32:31.926Z"
   },
   {
    "duration": 0,
    "start_time": "2022-04-25T20:32:31.927Z"
   },
   {
    "duration": 0,
    "start_time": "2022-04-25T20:32:31.928Z"
   },
   {
    "duration": 0,
    "start_time": "2022-04-25T20:32:31.930Z"
   },
   {
    "duration": 0,
    "start_time": "2022-04-25T20:32:31.931Z"
   },
   {
    "duration": 0,
    "start_time": "2022-04-25T20:32:31.932Z"
   },
   {
    "duration": 0,
    "start_time": "2022-04-25T20:32:31.933Z"
   },
   {
    "duration": 1,
    "start_time": "2022-04-25T20:32:31.934Z"
   },
   {
    "duration": 0,
    "start_time": "2022-04-25T20:32:31.937Z"
   },
   {
    "duration": 0,
    "start_time": "2022-04-25T20:32:31.938Z"
   },
   {
    "duration": 0,
    "start_time": "2022-04-25T20:32:31.941Z"
   },
   {
    "duration": 0,
    "start_time": "2022-04-25T20:32:31.945Z"
   },
   {
    "duration": 0,
    "start_time": "2022-04-25T20:32:31.946Z"
   },
   {
    "duration": 0,
    "start_time": "2022-04-25T20:32:31.947Z"
   },
   {
    "duration": 0,
    "start_time": "2022-04-25T20:32:31.948Z"
   },
   {
    "duration": 0,
    "start_time": "2022-04-25T20:32:31.949Z"
   },
   {
    "duration": 0,
    "start_time": "2022-04-25T20:32:31.950Z"
   },
   {
    "duration": 0,
    "start_time": "2022-04-25T20:32:31.950Z"
   },
   {
    "duration": 0,
    "start_time": "2022-04-25T20:32:31.951Z"
   },
   {
    "duration": 94,
    "start_time": "2022-04-25T20:34:09.800Z"
   },
   {
    "duration": 56,
    "start_time": "2022-04-25T20:36:04.321Z"
   },
   {
    "duration": 1247,
    "start_time": "2022-04-25T20:36:14.744Z"
   },
   {
    "duration": 3,
    "start_time": "2022-04-25T20:36:15.993Z"
   },
   {
    "duration": 1230,
    "start_time": "2022-04-25T20:36:15.997Z"
   },
   {
    "duration": 17,
    "start_time": "2022-04-25T20:36:17.230Z"
   },
   {
    "duration": 11,
    "start_time": "2022-04-25T20:36:17.249Z"
   },
   {
    "duration": 16,
    "start_time": "2022-04-25T20:36:17.262Z"
   },
   {
    "duration": 13,
    "start_time": "2022-04-25T20:36:17.280Z"
   },
   {
    "duration": 42,
    "start_time": "2022-04-25T20:36:17.295Z"
   },
   {
    "duration": 29,
    "start_time": "2022-04-25T20:36:17.339Z"
   },
   {
    "duration": 7,
    "start_time": "2022-04-25T20:36:17.371Z"
   },
   {
    "duration": 20,
    "start_time": "2022-04-25T20:36:17.380Z"
   },
   {
    "duration": 15,
    "start_time": "2022-04-25T20:36:17.422Z"
   },
   {
    "duration": 10,
    "start_time": "2022-04-25T20:36:17.439Z"
   },
   {
    "duration": 27,
    "start_time": "2022-04-25T20:36:17.451Z"
   },
   {
    "duration": 49,
    "start_time": "2022-04-25T20:36:17.479Z"
   },
   {
    "duration": 9,
    "start_time": "2022-04-25T20:36:17.530Z"
   },
   {
    "duration": 134,
    "start_time": "2022-04-25T20:36:17.540Z"
   },
   {
    "duration": 9,
    "start_time": "2022-04-25T20:36:17.675Z"
   },
   {
    "duration": 12,
    "start_time": "2022-04-25T20:36:17.685Z"
   },
   {
    "duration": 89,
    "start_time": "2022-04-25T20:36:17.698Z"
   },
   {
    "duration": 228,
    "start_time": "2022-04-25T20:36:17.789Z"
   },
   {
    "duration": 0,
    "start_time": "2022-04-25T20:36:18.023Z"
   },
   {
    "duration": 0,
    "start_time": "2022-04-25T20:36:18.023Z"
   },
   {
    "duration": 0,
    "start_time": "2022-04-25T20:36:18.025Z"
   },
   {
    "duration": 0,
    "start_time": "2022-04-25T20:36:18.026Z"
   },
   {
    "duration": 0,
    "start_time": "2022-04-25T20:36:18.027Z"
   },
   {
    "duration": 0,
    "start_time": "2022-04-25T20:36:18.028Z"
   },
   {
    "duration": 0,
    "start_time": "2022-04-25T20:36:18.029Z"
   },
   {
    "duration": 0,
    "start_time": "2022-04-25T20:36:18.030Z"
   },
   {
    "duration": 0,
    "start_time": "2022-04-25T20:36:18.031Z"
   },
   {
    "duration": 0,
    "start_time": "2022-04-25T20:36:18.032Z"
   },
   {
    "duration": 0,
    "start_time": "2022-04-25T20:36:18.033Z"
   },
   {
    "duration": 0,
    "start_time": "2022-04-25T20:36:18.034Z"
   },
   {
    "duration": 0,
    "start_time": "2022-04-25T20:36:18.035Z"
   },
   {
    "duration": 0,
    "start_time": "2022-04-25T20:36:18.036Z"
   },
   {
    "duration": 1,
    "start_time": "2022-04-25T20:36:18.037Z"
   },
   {
    "duration": 0,
    "start_time": "2022-04-25T20:36:18.039Z"
   },
   {
    "duration": 0,
    "start_time": "2022-04-25T20:36:18.040Z"
   },
   {
    "duration": 0,
    "start_time": "2022-04-25T20:36:18.041Z"
   },
   {
    "duration": 0,
    "start_time": "2022-04-25T20:36:18.043Z"
   },
   {
    "duration": 0,
    "start_time": "2022-04-25T20:36:18.044Z"
   },
   {
    "duration": 0,
    "start_time": "2022-04-25T20:36:18.045Z"
   },
   {
    "duration": 0,
    "start_time": "2022-04-25T20:36:18.047Z"
   },
   {
    "duration": 0,
    "start_time": "2022-04-25T20:36:18.047Z"
   },
   {
    "duration": 0,
    "start_time": "2022-04-25T20:36:18.049Z"
   },
   {
    "duration": 0,
    "start_time": "2022-04-25T20:36:18.050Z"
   },
   {
    "duration": 0,
    "start_time": "2022-04-25T20:36:18.051Z"
   },
   {
    "duration": 0,
    "start_time": "2022-04-25T20:36:18.052Z"
   },
   {
    "duration": 0,
    "start_time": "2022-04-25T20:36:18.053Z"
   },
   {
    "duration": 0,
    "start_time": "2022-04-25T20:36:18.054Z"
   },
   {
    "duration": 0,
    "start_time": "2022-04-25T20:36:18.055Z"
   },
   {
    "duration": 10,
    "start_time": "2022-04-25T20:38:59.505Z"
   },
   {
    "duration": 105,
    "start_time": "2022-04-25T20:40:39.355Z"
   },
   {
    "duration": 1260,
    "start_time": "2022-04-25T20:41:37.302Z"
   },
   {
    "duration": 3,
    "start_time": "2022-04-25T20:41:38.564Z"
   },
   {
    "duration": 1115,
    "start_time": "2022-04-25T20:41:38.568Z"
   },
   {
    "duration": 23,
    "start_time": "2022-04-25T20:41:39.685Z"
   },
   {
    "duration": 16,
    "start_time": "2022-04-25T20:41:39.709Z"
   },
   {
    "duration": 42,
    "start_time": "2022-04-25T20:41:39.728Z"
   },
   {
    "duration": 10,
    "start_time": "2022-04-25T20:41:39.772Z"
   },
   {
    "duration": 19,
    "start_time": "2022-04-25T20:41:39.785Z"
   },
   {
    "duration": 45,
    "start_time": "2022-04-25T20:41:39.807Z"
   },
   {
    "duration": 7,
    "start_time": "2022-04-25T20:41:39.854Z"
   },
   {
    "duration": 18,
    "start_time": "2022-04-25T20:41:39.863Z"
   },
   {
    "duration": 18,
    "start_time": "2022-04-25T20:41:39.883Z"
   },
   {
    "duration": 24,
    "start_time": "2022-04-25T20:41:39.903Z"
   },
   {
    "duration": 25,
    "start_time": "2022-04-25T20:41:39.929Z"
   },
   {
    "duration": 21,
    "start_time": "2022-04-25T20:41:39.955Z"
   },
   {
    "duration": 7,
    "start_time": "2022-04-25T20:41:39.978Z"
   },
   {
    "duration": 106,
    "start_time": "2022-04-25T20:41:39.987Z"
   },
   {
    "duration": 7,
    "start_time": "2022-04-25T20:41:40.095Z"
   },
   {
    "duration": 24,
    "start_time": "2022-04-25T20:41:40.104Z"
   },
   {
    "duration": 19,
    "start_time": "2022-04-25T20:41:40.130Z"
   },
   {
    "duration": 78,
    "start_time": "2022-04-25T20:41:40.151Z"
   },
   {
    "duration": 203,
    "start_time": "2022-04-25T20:41:40.231Z"
   },
   {
    "duration": 0,
    "start_time": "2022-04-25T20:41:40.439Z"
   },
   {
    "duration": 0,
    "start_time": "2022-04-25T20:41:40.440Z"
   },
   {
    "duration": 0,
    "start_time": "2022-04-25T20:41:40.441Z"
   },
   {
    "duration": 0,
    "start_time": "2022-04-25T20:41:40.443Z"
   },
   {
    "duration": 0,
    "start_time": "2022-04-25T20:41:40.444Z"
   },
   {
    "duration": 0,
    "start_time": "2022-04-25T20:41:40.446Z"
   },
   {
    "duration": 0,
    "start_time": "2022-04-25T20:41:40.447Z"
   },
   {
    "duration": 0,
    "start_time": "2022-04-25T20:41:40.449Z"
   },
   {
    "duration": 0,
    "start_time": "2022-04-25T20:41:40.451Z"
   },
   {
    "duration": 0,
    "start_time": "2022-04-25T20:41:40.452Z"
   },
   {
    "duration": 0,
    "start_time": "2022-04-25T20:41:40.454Z"
   },
   {
    "duration": 0,
    "start_time": "2022-04-25T20:41:40.455Z"
   },
   {
    "duration": 0,
    "start_time": "2022-04-25T20:41:40.456Z"
   },
   {
    "duration": 1,
    "start_time": "2022-04-25T20:41:40.457Z"
   },
   {
    "duration": 0,
    "start_time": "2022-04-25T20:41:40.458Z"
   },
   {
    "duration": 0,
    "start_time": "2022-04-25T20:41:40.459Z"
   },
   {
    "duration": 0,
    "start_time": "2022-04-25T20:41:40.460Z"
   },
   {
    "duration": 0,
    "start_time": "2022-04-25T20:41:40.461Z"
   },
   {
    "duration": 0,
    "start_time": "2022-04-25T20:41:40.462Z"
   },
   {
    "duration": 0,
    "start_time": "2022-04-25T20:41:40.464Z"
   },
   {
    "duration": 0,
    "start_time": "2022-04-25T20:41:40.465Z"
   },
   {
    "duration": 0,
    "start_time": "2022-04-25T20:41:40.467Z"
   },
   {
    "duration": 0,
    "start_time": "2022-04-25T20:41:40.468Z"
   },
   {
    "duration": 0,
    "start_time": "2022-04-25T20:41:40.470Z"
   },
   {
    "duration": 0,
    "start_time": "2022-04-25T20:41:40.472Z"
   },
   {
    "duration": 0,
    "start_time": "2022-04-25T20:41:40.524Z"
   },
   {
    "duration": 0,
    "start_time": "2022-04-25T20:41:40.525Z"
   },
   {
    "duration": 0,
    "start_time": "2022-04-25T20:41:40.530Z"
   },
   {
    "duration": 0,
    "start_time": "2022-04-25T20:41:40.532Z"
   },
   {
    "duration": 0,
    "start_time": "2022-04-25T20:41:40.533Z"
   },
   {
    "duration": 1413,
    "start_time": "2022-04-26T11:33:03.884Z"
   },
   {
    "duration": 2,
    "start_time": "2022-04-26T11:33:05.300Z"
   },
   {
    "duration": 1014,
    "start_time": "2022-04-26T11:33:05.304Z"
   },
   {
    "duration": 14,
    "start_time": "2022-04-26T11:33:06.320Z"
   },
   {
    "duration": 22,
    "start_time": "2022-04-26T11:33:06.336Z"
   },
   {
    "duration": 17,
    "start_time": "2022-04-26T11:33:06.359Z"
   },
   {
    "duration": 8,
    "start_time": "2022-04-26T11:33:06.378Z"
   },
   {
    "duration": 49,
    "start_time": "2022-04-26T11:33:06.388Z"
   },
   {
    "duration": 31,
    "start_time": "2022-04-26T11:33:06.439Z"
   },
   {
    "duration": 8,
    "start_time": "2022-04-26T11:33:06.472Z"
   },
   {
    "duration": 44,
    "start_time": "2022-04-26T11:33:06.483Z"
   },
   {
    "duration": 14,
    "start_time": "2022-04-26T11:33:06.529Z"
   },
   {
    "duration": 9,
    "start_time": "2022-04-26T11:33:06.545Z"
   },
   {
    "duration": 74,
    "start_time": "2022-04-26T11:33:06.556Z"
   },
   {
    "duration": 28,
    "start_time": "2022-04-26T11:33:06.632Z"
   },
   {
    "duration": 8,
    "start_time": "2022-04-26T11:33:06.662Z"
   },
   {
    "duration": 96,
    "start_time": "2022-04-26T11:33:06.671Z"
   },
   {
    "duration": 7,
    "start_time": "2022-04-26T11:33:06.769Z"
   },
   {
    "duration": 10,
    "start_time": "2022-04-26T11:33:06.778Z"
   },
   {
    "duration": 11,
    "start_time": "2022-04-26T11:33:06.789Z"
   },
   {
    "duration": 83,
    "start_time": "2022-04-26T11:33:06.802Z"
   },
   {
    "duration": 61,
    "start_time": "2022-04-26T11:33:06.886Z"
   },
   {
    "duration": 9,
    "start_time": "2022-04-26T11:33:06.949Z"
   },
   {
    "duration": 10,
    "start_time": "2022-04-26T11:33:06.960Z"
   },
   {
    "duration": 10,
    "start_time": "2022-04-26T11:33:06.972Z"
   },
   {
    "duration": 8,
    "start_time": "2022-04-26T11:33:06.983Z"
   },
   {
    "duration": 48,
    "start_time": "2022-04-26T11:33:06.993Z"
   },
   {
    "duration": 10,
    "start_time": "2022-04-26T11:33:07.045Z"
   },
   {
    "duration": 15,
    "start_time": "2022-04-26T11:33:07.056Z"
   },
   {
    "duration": 9,
    "start_time": "2022-04-26T11:33:07.073Z"
   },
   {
    "duration": 54,
    "start_time": "2022-04-26T11:33:07.084Z"
   },
   {
    "duration": 3,
    "start_time": "2022-04-26T11:33:07.140Z"
   },
   {
    "duration": 6,
    "start_time": "2022-04-26T11:33:07.145Z"
   },
   {
    "duration": 25,
    "start_time": "2022-04-26T11:33:07.152Z"
   },
   {
    "duration": 6,
    "start_time": "2022-04-26T11:33:07.179Z"
   },
   {
    "duration": 5,
    "start_time": "2022-04-26T11:33:07.223Z"
   },
   {
    "duration": 9,
    "start_time": "2022-04-26T11:33:07.229Z"
   },
   {
    "duration": 13,
    "start_time": "2022-04-26T11:33:07.240Z"
   },
   {
    "duration": 21,
    "start_time": "2022-04-26T11:33:07.255Z"
   },
   {
    "duration": 7,
    "start_time": "2022-04-26T11:33:07.278Z"
   },
   {
    "duration": 42,
    "start_time": "2022-04-26T11:33:07.287Z"
   },
   {
    "duration": 8,
    "start_time": "2022-04-26T11:33:07.331Z"
   },
   {
    "duration": 3,
    "start_time": "2022-04-26T11:33:07.340Z"
   },
   {
    "duration": 54,
    "start_time": "2022-04-26T11:33:07.345Z"
   },
   {
    "duration": 71,
    "start_time": "2022-04-26T11:33:07.400Z"
   },
   {
    "duration": 63,
    "start_time": "2022-04-26T11:33:07.473Z"
   },
   {
    "duration": 775,
    "start_time": "2022-04-26T11:33:07.538Z"
   },
   {
    "duration": 19,
    "start_time": "2022-04-26T11:33:08.322Z"
   },
   {
    "duration": 255,
    "start_time": "2022-04-26T11:33:08.342Z"
   },
   {
    "duration": 6,
    "start_time": "2022-04-26T11:33:08.598Z"
   },
   {
    "duration": 22,
    "start_time": "2022-04-26T11:33:08.605Z"
   },
   {
    "duration": 6,
    "start_time": "2022-04-26T11:33:08.629Z"
   },
   {
    "duration": 26,
    "start_time": "2022-04-26T11:40:57.036Z"
   },
   {
    "duration": 1225,
    "start_time": "2022-04-26T11:41:20.528Z"
   },
   {
    "duration": 2,
    "start_time": "2022-04-26T11:41:21.756Z"
   },
   {
    "duration": 949,
    "start_time": "2022-04-26T11:41:21.760Z"
   },
   {
    "duration": 14,
    "start_time": "2022-04-26T11:41:22.712Z"
   },
   {
    "duration": 24,
    "start_time": "2022-04-26T11:41:22.728Z"
   },
   {
    "duration": 35,
    "start_time": "2022-04-26T11:41:22.754Z"
   },
   {
    "duration": 22,
    "start_time": "2022-04-26T11:41:22.791Z"
   },
   {
    "duration": 36,
    "start_time": "2022-04-26T11:41:22.815Z"
   },
   {
    "duration": 32,
    "start_time": "2022-04-26T11:41:22.853Z"
   },
   {
    "duration": 8,
    "start_time": "2022-04-26T11:41:22.889Z"
   },
   {
    "duration": 52,
    "start_time": "2022-04-26T11:41:22.899Z"
   },
   {
    "duration": 19,
    "start_time": "2022-04-26T11:41:22.954Z"
   },
   {
    "duration": 10,
    "start_time": "2022-04-26T11:41:22.975Z"
   },
   {
    "duration": 46,
    "start_time": "2022-04-26T11:41:22.986Z"
   },
   {
    "duration": 27,
    "start_time": "2022-04-26T11:41:23.034Z"
   },
   {
    "duration": 8,
    "start_time": "2022-04-26T11:41:23.062Z"
   },
   {
    "duration": 97,
    "start_time": "2022-04-26T11:41:23.072Z"
   },
   {
    "duration": 8,
    "start_time": "2022-04-26T11:41:23.171Z"
   },
   {
    "duration": 11,
    "start_time": "2022-04-26T11:41:23.181Z"
   },
   {
    "duration": 40,
    "start_time": "2022-04-26T11:41:23.194Z"
   },
   {
    "duration": 10,
    "start_time": "2022-04-26T11:41:23.236Z"
   },
   {
    "duration": 90,
    "start_time": "2022-04-26T11:41:23.248Z"
   },
   {
    "duration": 52,
    "start_time": "2022-04-26T11:41:23.340Z"
   },
   {
    "duration": 28,
    "start_time": "2022-04-26T11:41:23.394Z"
   },
   {
    "duration": 10,
    "start_time": "2022-04-26T11:41:23.424Z"
   },
   {
    "duration": 8,
    "start_time": "2022-04-26T11:41:23.436Z"
   },
   {
    "duration": 10,
    "start_time": "2022-04-26T11:41:23.446Z"
   },
   {
    "duration": 21,
    "start_time": "2022-04-26T11:41:23.459Z"
   },
   {
    "duration": 49,
    "start_time": "2022-04-26T11:41:23.482Z"
   },
   {
    "duration": 13,
    "start_time": "2022-04-26T11:41:23.533Z"
   },
   {
    "duration": 8,
    "start_time": "2022-04-26T11:41:23.548Z"
   },
   {
    "duration": 21,
    "start_time": "2022-04-26T11:41:23.558Z"
   },
   {
    "duration": 4,
    "start_time": "2022-04-26T11:41:23.581Z"
   },
   {
    "duration": 4,
    "start_time": "2022-04-26T11:41:23.623Z"
   },
   {
    "duration": 31,
    "start_time": "2022-04-26T11:41:23.629Z"
   },
   {
    "duration": 9,
    "start_time": "2022-04-26T11:41:23.662Z"
   },
   {
    "duration": 9,
    "start_time": "2022-04-26T11:41:23.673Z"
   },
   {
    "duration": 39,
    "start_time": "2022-04-26T11:41:23.684Z"
   },
   {
    "duration": 13,
    "start_time": "2022-04-26T11:41:23.725Z"
   },
   {
    "duration": 26,
    "start_time": "2022-04-26T11:41:23.740Z"
   },
   {
    "duration": 8,
    "start_time": "2022-04-26T11:41:23.768Z"
   },
   {
    "duration": 12,
    "start_time": "2022-04-26T11:41:23.778Z"
   },
   {
    "duration": 38,
    "start_time": "2022-04-26T11:41:23.792Z"
   },
   {
    "duration": 5,
    "start_time": "2022-04-26T11:41:23.832Z"
   },
   {
    "duration": 61,
    "start_time": "2022-04-26T11:41:23.839Z"
   },
   {
    "duration": 55,
    "start_time": "2022-04-26T11:41:23.922Z"
   },
   {
    "duration": 58,
    "start_time": "2022-04-26T11:41:23.979Z"
   },
   {
    "duration": 779,
    "start_time": "2022-04-26T11:41:24.039Z"
   },
   {
    "duration": 19,
    "start_time": "2022-04-26T11:41:24.820Z"
   },
   {
    "duration": 260,
    "start_time": "2022-04-26T11:41:24.840Z"
   },
   {
    "duration": 6,
    "start_time": "2022-04-26T11:41:25.101Z"
   },
   {
    "duration": 21,
    "start_time": "2022-04-26T11:41:25.109Z"
   },
   {
    "duration": 6,
    "start_time": "2022-04-26T11:41:25.132Z"
   },
   {
    "duration": 1253,
    "start_time": "2022-04-26T11:42:08.818Z"
   },
   {
    "duration": 3,
    "start_time": "2022-04-26T11:42:10.073Z"
   },
   {
    "duration": 935,
    "start_time": "2022-04-26T11:42:10.079Z"
   },
   {
    "duration": 16,
    "start_time": "2022-04-26T11:42:11.017Z"
   },
   {
    "duration": 13,
    "start_time": "2022-04-26T11:42:11.035Z"
   },
   {
    "duration": 17,
    "start_time": "2022-04-26T11:42:11.050Z"
   },
   {
    "duration": 13,
    "start_time": "2022-04-26T11:42:11.070Z"
   },
   {
    "duration": 51,
    "start_time": "2022-04-26T11:42:11.085Z"
   },
   {
    "duration": 33,
    "start_time": "2022-04-26T11:42:11.138Z"
   },
   {
    "duration": 8,
    "start_time": "2022-04-26T11:42:11.175Z"
   },
   {
    "duration": 50,
    "start_time": "2022-04-26T11:42:11.185Z"
   },
   {
    "duration": 14,
    "start_time": "2022-04-26T11:42:11.236Z"
   },
   {
    "duration": 11,
    "start_time": "2022-04-26T11:42:11.252Z"
   },
   {
    "duration": 26,
    "start_time": "2022-04-26T11:42:11.264Z"
   },
   {
    "duration": 60,
    "start_time": "2022-04-26T11:42:11.292Z"
   },
   {
    "duration": 9,
    "start_time": "2022-04-26T11:42:11.353Z"
   },
   {
    "duration": 97,
    "start_time": "2022-04-26T11:42:11.364Z"
   },
   {
    "duration": 9,
    "start_time": "2022-04-26T11:42:11.463Z"
   },
   {
    "duration": 13,
    "start_time": "2022-04-26T11:42:11.474Z"
   },
   {
    "duration": 35,
    "start_time": "2022-04-26T11:42:11.489Z"
   },
   {
    "duration": 13,
    "start_time": "2022-04-26T11:42:11.527Z"
   },
   {
    "duration": 107,
    "start_time": "2022-04-26T11:42:11.542Z"
   },
   {
    "duration": 89,
    "start_time": "2022-04-26T11:42:11.651Z"
   },
   {
    "duration": 14,
    "start_time": "2022-04-26T11:42:11.742Z"
   },
   {
    "duration": 13,
    "start_time": "2022-04-26T11:42:11.758Z"
   },
   {
    "duration": 12,
    "start_time": "2022-04-26T11:42:11.773Z"
   },
   {
    "duration": 42,
    "start_time": "2022-04-26T11:42:11.787Z"
   },
   {
    "duration": 34,
    "start_time": "2022-04-26T11:42:11.835Z"
   },
   {
    "duration": 17,
    "start_time": "2022-04-26T11:42:11.872Z"
   },
   {
    "duration": 43,
    "start_time": "2022-04-26T11:42:11.891Z"
   },
   {
    "duration": 9,
    "start_time": "2022-04-26T11:42:11.936Z"
   },
   {
    "duration": 22,
    "start_time": "2022-04-26T11:42:11.948Z"
   },
   {
    "duration": 5,
    "start_time": "2022-04-26T11:42:11.972Z"
   },
   {
    "duration": 8,
    "start_time": "2022-04-26T11:42:11.979Z"
   },
   {
    "duration": 64,
    "start_time": "2022-04-26T11:42:11.990Z"
   },
   {
    "duration": 10,
    "start_time": "2022-04-26T11:42:12.056Z"
   },
   {
    "duration": 6,
    "start_time": "2022-04-26T11:42:12.068Z"
   },
   {
    "duration": 8,
    "start_time": "2022-04-26T11:42:12.075Z"
   },
   {
    "duration": 40,
    "start_time": "2022-04-26T11:42:12.084Z"
   },
   {
    "duration": 18,
    "start_time": "2022-04-26T11:42:12.126Z"
   },
   {
    "duration": 8,
    "start_time": "2022-04-26T11:42:12.146Z"
   },
   {
    "duration": 16,
    "start_time": "2022-04-26T11:42:12.156Z"
   },
   {
    "duration": 11,
    "start_time": "2022-04-26T11:42:12.174Z"
   },
   {
    "duration": 36,
    "start_time": "2022-04-26T11:42:12.188Z"
   },
   {
    "duration": 60,
    "start_time": "2022-04-26T11:42:12.227Z"
   },
   {
    "duration": 80,
    "start_time": "2022-04-26T11:42:12.289Z"
   },
   {
    "duration": 58,
    "start_time": "2022-04-26T11:42:12.371Z"
   },
   {
    "duration": 837,
    "start_time": "2022-04-26T11:42:12.431Z"
   },
   {
    "duration": 32,
    "start_time": "2022-04-26T11:42:13.270Z"
   },
   {
    "duration": 456,
    "start_time": "2022-04-26T11:42:13.304Z"
   },
   {
    "duration": 6,
    "start_time": "2022-04-26T11:42:13.762Z"
   },
   {
    "duration": 13,
    "start_time": "2022-04-26T11:42:13.771Z"
   },
   {
    "duration": 37,
    "start_time": "2022-04-26T11:42:13.786Z"
   },
   {
    "duration": 148,
    "start_time": "2022-04-26T12:12:06.853Z"
   },
   {
    "duration": 20,
    "start_time": "2022-04-26T12:12:12.952Z"
   },
   {
    "duration": 2275,
    "start_time": "2022-04-26T12:16:06.725Z"
   },
   {
    "duration": 3,
    "start_time": "2022-04-26T12:16:09.003Z"
   },
   {
    "duration": 1017,
    "start_time": "2022-04-26T12:16:09.008Z"
   },
   {
    "duration": 20,
    "start_time": "2022-04-26T12:16:10.028Z"
   },
   {
    "duration": 13,
    "start_time": "2022-04-26T12:16:10.049Z"
   },
   {
    "duration": 22,
    "start_time": "2022-04-26T12:16:10.064Z"
   },
   {
    "duration": 36,
    "start_time": "2022-04-26T12:16:10.088Z"
   },
   {
    "duration": 29,
    "start_time": "2022-04-26T12:16:10.126Z"
   },
   {
    "duration": 33,
    "start_time": "2022-04-26T12:16:10.157Z"
   },
   {
    "duration": 34,
    "start_time": "2022-04-26T12:16:10.193Z"
   },
   {
    "duration": 26,
    "start_time": "2022-04-26T12:16:10.229Z"
   },
   {
    "duration": 22,
    "start_time": "2022-04-26T12:16:10.257Z"
   },
   {
    "duration": 64,
    "start_time": "2022-04-26T12:16:10.281Z"
   },
   {
    "duration": 89,
    "start_time": "2022-04-26T12:16:10.348Z"
   },
   {
    "duration": 40,
    "start_time": "2022-04-26T12:16:10.440Z"
   },
   {
    "duration": 12,
    "start_time": "2022-04-26T12:16:10.482Z"
   },
   {
    "duration": 97,
    "start_time": "2022-04-26T12:16:10.496Z"
   },
   {
    "duration": 9,
    "start_time": "2022-04-26T12:16:10.595Z"
   },
   {
    "duration": 18,
    "start_time": "2022-04-26T12:16:10.606Z"
   },
   {
    "duration": 13,
    "start_time": "2022-04-26T12:16:10.627Z"
   },
   {
    "duration": 16,
    "start_time": "2022-04-26T12:16:10.642Z"
   },
   {
    "duration": 87,
    "start_time": "2022-04-26T12:16:10.659Z"
   },
   {
    "duration": 157,
    "start_time": "2022-04-26T12:16:10.748Z"
   },
   {
    "duration": 0,
    "start_time": "2022-04-26T12:16:10.908Z"
   },
   {
    "duration": 0,
    "start_time": "2022-04-26T12:16:10.910Z"
   },
   {
    "duration": 0,
    "start_time": "2022-04-26T12:16:10.911Z"
   },
   {
    "duration": 0,
    "start_time": "2022-04-26T12:16:10.912Z"
   },
   {
    "duration": 0,
    "start_time": "2022-04-26T12:16:10.914Z"
   },
   {
    "duration": 0,
    "start_time": "2022-04-26T12:16:10.923Z"
   },
   {
    "duration": 0,
    "start_time": "2022-04-26T12:16:10.924Z"
   },
   {
    "duration": 0,
    "start_time": "2022-04-26T12:16:10.926Z"
   },
   {
    "duration": 0,
    "start_time": "2022-04-26T12:16:10.927Z"
   },
   {
    "duration": 0,
    "start_time": "2022-04-26T12:16:10.928Z"
   },
   {
    "duration": 0,
    "start_time": "2022-04-26T12:16:10.930Z"
   },
   {
    "duration": 0,
    "start_time": "2022-04-26T12:16:10.931Z"
   },
   {
    "duration": 0,
    "start_time": "2022-04-26T12:16:10.932Z"
   },
   {
    "duration": 0,
    "start_time": "2022-04-26T12:16:10.933Z"
   },
   {
    "duration": 0,
    "start_time": "2022-04-26T12:16:10.936Z"
   },
   {
    "duration": 0,
    "start_time": "2022-04-26T12:16:10.939Z"
   },
   {
    "duration": 0,
    "start_time": "2022-04-26T12:16:10.939Z"
   },
   {
    "duration": 0,
    "start_time": "2022-04-26T12:16:10.940Z"
   },
   {
    "duration": 0,
    "start_time": "2022-04-26T12:16:10.941Z"
   },
   {
    "duration": 0,
    "start_time": "2022-04-26T12:16:10.943Z"
   },
   {
    "duration": 1,
    "start_time": "2022-04-26T12:16:10.943Z"
   },
   {
    "duration": 0,
    "start_time": "2022-04-26T12:16:10.945Z"
   },
   {
    "duration": 0,
    "start_time": "2022-04-26T12:16:10.946Z"
   },
   {
    "duration": 0,
    "start_time": "2022-04-26T12:16:10.947Z"
   },
   {
    "duration": 0,
    "start_time": "2022-04-26T12:16:10.948Z"
   },
   {
    "duration": 0,
    "start_time": "2022-04-26T12:16:10.950Z"
   },
   {
    "duration": 0,
    "start_time": "2022-04-26T12:16:10.950Z"
   },
   {
    "duration": 0,
    "start_time": "2022-04-26T12:16:10.952Z"
   },
   {
    "duration": 0,
    "start_time": "2022-04-26T12:16:10.953Z"
   },
   {
    "duration": 0,
    "start_time": "2022-04-26T12:16:10.954Z"
   },
   {
    "duration": 0,
    "start_time": "2022-04-26T12:16:10.955Z"
   },
   {
    "duration": 7,
    "start_time": "2022-04-26T12:18:20.127Z"
   },
   {
    "duration": 1219,
    "start_time": "2022-04-26T12:18:34.689Z"
   },
   {
    "duration": 3,
    "start_time": "2022-04-26T12:18:35.910Z"
   },
   {
    "duration": 886,
    "start_time": "2022-04-26T12:18:35.922Z"
   },
   {
    "duration": 15,
    "start_time": "2022-04-26T12:18:36.811Z"
   },
   {
    "duration": 11,
    "start_time": "2022-04-26T12:18:36.828Z"
   },
   {
    "duration": 36,
    "start_time": "2022-04-26T12:18:36.841Z"
   },
   {
    "duration": 13,
    "start_time": "2022-04-26T12:18:36.878Z"
   },
   {
    "duration": 138,
    "start_time": "2022-04-26T12:18:36.893Z"
   },
   {
    "duration": 26,
    "start_time": "2022-04-26T12:18:37.033Z"
   },
   {
    "duration": 8,
    "start_time": "2022-04-26T12:18:37.062Z"
   },
   {
    "duration": 40,
    "start_time": "2022-04-26T12:18:37.072Z"
   },
   {
    "duration": 20,
    "start_time": "2022-04-26T12:18:37.114Z"
   },
   {
    "duration": 25,
    "start_time": "2022-04-26T12:18:37.136Z"
   },
   {
    "duration": 27,
    "start_time": "2022-04-26T12:18:37.163Z"
   },
   {
    "duration": 40,
    "start_time": "2022-04-26T12:18:37.192Z"
   },
   {
    "duration": 7,
    "start_time": "2022-04-26T12:18:37.234Z"
   },
   {
    "duration": 173,
    "start_time": "2022-04-26T12:18:37.242Z"
   },
   {
    "duration": 11,
    "start_time": "2022-04-26T12:18:37.422Z"
   },
   {
    "duration": 28,
    "start_time": "2022-04-26T12:18:37.436Z"
   },
   {
    "duration": 30,
    "start_time": "2022-04-26T12:18:37.466Z"
   },
   {
    "duration": 22,
    "start_time": "2022-04-26T12:18:37.498Z"
   },
   {
    "duration": 68,
    "start_time": "2022-04-26T12:18:37.522Z"
   },
   {
    "duration": 6,
    "start_time": "2022-04-26T12:18:37.591Z"
   },
   {
    "duration": 60,
    "start_time": "2022-04-26T12:18:37.599Z"
   },
   {
    "duration": 8,
    "start_time": "2022-04-26T12:18:37.661Z"
   },
   {
    "duration": 27,
    "start_time": "2022-04-26T12:18:37.671Z"
   },
   {
    "duration": 11,
    "start_time": "2022-04-26T12:18:37.700Z"
   },
   {
    "duration": 32,
    "start_time": "2022-04-26T12:18:37.714Z"
   },
   {
    "duration": 34,
    "start_time": "2022-04-26T12:18:37.747Z"
   },
   {
    "duration": 17,
    "start_time": "2022-04-26T12:18:37.783Z"
   },
   {
    "duration": 25,
    "start_time": "2022-04-26T12:18:37.802Z"
   },
   {
    "duration": 22,
    "start_time": "2022-04-26T12:18:37.828Z"
   },
   {
    "duration": 31,
    "start_time": "2022-04-26T12:18:37.851Z"
   },
   {
    "duration": 5,
    "start_time": "2022-04-26T12:18:37.884Z"
   },
   {
    "duration": 19,
    "start_time": "2022-04-26T12:18:37.890Z"
   },
   {
    "duration": 36,
    "start_time": "2022-04-26T12:18:37.911Z"
   },
   {
    "duration": 6,
    "start_time": "2022-04-26T12:18:37.949Z"
   },
   {
    "duration": 20,
    "start_time": "2022-04-26T12:18:37.957Z"
   },
   {
    "duration": 10,
    "start_time": "2022-04-26T12:18:37.979Z"
   },
   {
    "duration": 37,
    "start_time": "2022-04-26T12:18:37.990Z"
   },
   {
    "duration": 35,
    "start_time": "2022-04-26T12:18:38.028Z"
   },
   {
    "duration": 12,
    "start_time": "2022-04-26T12:18:38.065Z"
   },
   {
    "duration": 22,
    "start_time": "2022-04-26T12:18:38.079Z"
   },
   {
    "duration": 24,
    "start_time": "2022-04-26T12:18:38.103Z"
   },
   {
    "duration": 13,
    "start_time": "2022-04-26T12:18:38.129Z"
   },
   {
    "duration": 91,
    "start_time": "2022-04-26T12:18:38.145Z"
   },
   {
    "duration": 55,
    "start_time": "2022-04-26T12:18:38.238Z"
   },
   {
    "duration": 49,
    "start_time": "2022-04-26T12:18:38.295Z"
   },
   {
    "duration": 742,
    "start_time": "2022-04-26T12:18:38.346Z"
   },
   {
    "duration": 34,
    "start_time": "2022-04-26T12:18:39.090Z"
   },
   {
    "duration": 269,
    "start_time": "2022-04-26T12:18:39.126Z"
   },
   {
    "duration": 6,
    "start_time": "2022-04-26T12:18:39.398Z"
   },
   {
    "duration": 23,
    "start_time": "2022-04-26T12:18:39.406Z"
   },
   {
    "duration": 7,
    "start_time": "2022-04-26T12:18:39.431Z"
   },
   {
    "duration": 64,
    "start_time": "2022-04-26T12:20:25.466Z"
   },
   {
    "duration": 5,
    "start_time": "2022-04-26T12:26:28.693Z"
   },
   {
    "duration": 19,
    "start_time": "2022-04-26T12:28:18.517Z"
   },
   {
    "duration": 1234,
    "start_time": "2022-04-26T12:29:03.755Z"
   },
   {
    "duration": 3,
    "start_time": "2022-04-26T12:29:04.991Z"
   },
   {
    "duration": 1042,
    "start_time": "2022-04-26T12:29:04.996Z"
   },
   {
    "duration": 17,
    "start_time": "2022-04-26T12:29:06.040Z"
   },
   {
    "duration": 12,
    "start_time": "2022-04-26T12:29:06.059Z"
   },
   {
    "duration": 26,
    "start_time": "2022-04-26T12:29:06.073Z"
   },
   {
    "duration": 27,
    "start_time": "2022-04-26T12:29:06.101Z"
   },
   {
    "duration": 28,
    "start_time": "2022-04-26T12:29:06.130Z"
   },
   {
    "duration": 31,
    "start_time": "2022-04-26T12:29:06.160Z"
   },
   {
    "duration": 31,
    "start_time": "2022-04-26T12:29:06.194Z"
   },
   {
    "duration": 37,
    "start_time": "2022-04-26T12:29:06.226Z"
   },
   {
    "duration": 20,
    "start_time": "2022-04-26T12:29:06.265Z"
   },
   {
    "duration": 20,
    "start_time": "2022-04-26T12:29:06.287Z"
   },
   {
    "duration": 33,
    "start_time": "2022-04-26T12:29:06.309Z"
   },
   {
    "duration": 41,
    "start_time": "2022-04-26T12:29:06.344Z"
   },
   {
    "duration": 9,
    "start_time": "2022-04-26T12:29:06.387Z"
   },
   {
    "duration": 92,
    "start_time": "2022-04-26T12:29:06.398Z"
   },
   {
    "duration": 9,
    "start_time": "2022-04-26T12:29:06.492Z"
   },
   {
    "duration": 28,
    "start_time": "2022-04-26T12:29:06.503Z"
   },
   {
    "duration": 20,
    "start_time": "2022-04-26T12:29:06.533Z"
   },
   {
    "duration": 17,
    "start_time": "2022-04-26T12:29:06.555Z"
   },
   {
    "duration": 78,
    "start_time": "2022-04-26T12:29:06.574Z"
   },
   {
    "duration": 6,
    "start_time": "2022-04-26T12:29:06.653Z"
   },
   {
    "duration": 84,
    "start_time": "2022-04-26T12:29:06.661Z"
   },
   {
    "duration": 10,
    "start_time": "2022-04-26T12:29:06.746Z"
   },
   {
    "duration": 23,
    "start_time": "2022-04-26T12:29:06.757Z"
   },
   {
    "duration": 11,
    "start_time": "2022-04-26T12:29:06.782Z"
   },
   {
    "duration": 9,
    "start_time": "2022-04-26T12:29:06.822Z"
   },
   {
    "duration": 28,
    "start_time": "2022-04-26T12:29:06.833Z"
   },
   {
    "duration": 11,
    "start_time": "2022-04-26T12:29:06.863Z"
   },
   {
    "duration": 27,
    "start_time": "2022-04-26T12:29:06.876Z"
   },
   {
    "duration": 6,
    "start_time": "2022-04-26T12:29:06.923Z"
   },
   {
    "duration": 30,
    "start_time": "2022-04-26T12:29:06.931Z"
   },
   {
    "duration": 7,
    "start_time": "2022-04-26T12:29:06.963Z"
   },
   {
    "duration": 15,
    "start_time": "2022-04-26T12:29:06.972Z"
   },
   {
    "duration": 42,
    "start_time": "2022-04-26T12:29:06.989Z"
   },
   {
    "duration": 8,
    "start_time": "2022-04-26T12:29:07.034Z"
   },
   {
    "duration": 14,
    "start_time": "2022-04-26T12:29:07.045Z"
   },
   {
    "duration": 23,
    "start_time": "2022-04-26T12:29:07.061Z"
   },
   {
    "duration": 32,
    "start_time": "2022-04-26T12:29:07.086Z"
   },
   {
    "duration": 42,
    "start_time": "2022-04-26T12:29:07.119Z"
   },
   {
    "duration": 22,
    "start_time": "2022-04-26T12:29:07.162Z"
   },
   {
    "duration": 31,
    "start_time": "2022-04-26T12:29:07.186Z"
   },
   {
    "duration": 17,
    "start_time": "2022-04-26T12:29:07.219Z"
   },
   {
    "duration": 15,
    "start_time": "2022-04-26T12:29:07.237Z"
   },
   {
    "duration": 79,
    "start_time": "2022-04-26T12:29:07.254Z"
   },
   {
    "duration": 54,
    "start_time": "2022-04-26T12:29:07.335Z"
   },
   {
    "duration": 65,
    "start_time": "2022-04-26T12:29:07.391Z"
   },
   {
    "duration": 802,
    "start_time": "2022-04-26T12:29:07.457Z"
   },
   {
    "duration": 22,
    "start_time": "2022-04-26T12:29:08.261Z"
   },
   {
    "duration": 294,
    "start_time": "2022-04-26T12:29:08.285Z"
   },
   {
    "duration": 5,
    "start_time": "2022-04-26T12:29:08.581Z"
   },
   {
    "duration": 40,
    "start_time": "2022-04-26T12:29:08.588Z"
   },
   {
    "duration": 10,
    "start_time": "2022-04-26T12:29:08.629Z"
   },
   {
    "duration": 17,
    "start_time": "2022-04-26T12:29:08.640Z"
   },
   {
    "duration": 1161,
    "start_time": "2022-04-26T13:54:33.330Z"
   },
   {
    "duration": 2,
    "start_time": "2022-04-26T13:54:34.494Z"
   },
   {
    "duration": 840,
    "start_time": "2022-04-26T13:54:34.498Z"
   },
   {
    "duration": 15,
    "start_time": "2022-04-26T13:54:35.341Z"
   },
   {
    "duration": 12,
    "start_time": "2022-04-26T13:54:35.357Z"
   },
   {
    "duration": 17,
    "start_time": "2022-04-26T13:54:35.371Z"
   },
   {
    "duration": 12,
    "start_time": "2022-04-26T13:54:35.389Z"
   },
   {
    "duration": 52,
    "start_time": "2022-04-26T13:54:35.402Z"
   },
   {
    "duration": 33,
    "start_time": "2022-04-26T13:54:35.455Z"
   },
   {
    "duration": 8,
    "start_time": "2022-04-26T13:54:35.491Z"
   },
   {
    "duration": 41,
    "start_time": "2022-04-26T13:54:35.500Z"
   },
   {
    "duration": 33,
    "start_time": "2022-04-26T13:54:35.543Z"
   },
   {
    "duration": 17,
    "start_time": "2022-04-26T13:54:35.578Z"
   },
   {
    "duration": 50,
    "start_time": "2022-04-26T13:54:35.596Z"
   },
   {
    "duration": 31,
    "start_time": "2022-04-26T13:54:35.648Z"
   },
   {
    "duration": 8,
    "start_time": "2022-04-26T13:54:35.681Z"
   },
   {
    "duration": 94,
    "start_time": "2022-04-26T13:54:35.690Z"
   },
   {
    "duration": 6,
    "start_time": "2022-04-26T13:54:35.786Z"
   },
   {
    "duration": 21,
    "start_time": "2022-04-26T13:54:35.793Z"
   },
   {
    "duration": 26,
    "start_time": "2022-04-26T13:54:35.816Z"
   },
   {
    "duration": 16,
    "start_time": "2022-04-26T13:54:35.844Z"
   },
   {
    "duration": 87,
    "start_time": "2022-04-26T13:54:35.862Z"
   },
   {
    "duration": 6,
    "start_time": "2022-04-26T13:54:35.951Z"
   },
   {
    "duration": 91,
    "start_time": "2022-04-26T13:54:35.958Z"
   },
   {
    "duration": 9,
    "start_time": "2022-04-26T13:54:36.050Z"
   },
   {
    "duration": 40,
    "start_time": "2022-04-26T13:54:36.061Z"
   },
   {
    "duration": 20,
    "start_time": "2022-04-26T13:54:36.103Z"
   },
   {
    "duration": 21,
    "start_time": "2022-04-26T13:54:36.127Z"
   },
   {
    "duration": 22,
    "start_time": "2022-04-26T13:54:36.149Z"
   },
   {
    "duration": 10,
    "start_time": "2022-04-26T13:54:36.173Z"
   },
   {
    "duration": 19,
    "start_time": "2022-04-26T13:54:36.185Z"
   },
   {
    "duration": 30,
    "start_time": "2022-04-26T13:54:36.205Z"
   },
   {
    "duration": 34,
    "start_time": "2022-04-26T13:54:36.237Z"
   },
   {
    "duration": 7,
    "start_time": "2022-04-26T13:54:36.272Z"
   },
   {
    "duration": 23,
    "start_time": "2022-04-26T13:54:36.281Z"
   },
   {
    "duration": 49,
    "start_time": "2022-04-26T13:54:36.305Z"
   },
   {
    "duration": 14,
    "start_time": "2022-04-26T13:54:36.355Z"
   },
   {
    "duration": 16,
    "start_time": "2022-04-26T13:54:36.371Z"
   },
   {
    "duration": 22,
    "start_time": "2022-04-26T13:54:36.389Z"
   },
   {
    "duration": 33,
    "start_time": "2022-04-26T13:54:36.413Z"
   },
   {
    "duration": 45,
    "start_time": "2022-04-26T13:54:36.447Z"
   },
   {
    "duration": 23,
    "start_time": "2022-04-26T13:54:36.494Z"
   },
   {
    "duration": 22,
    "start_time": "2022-04-26T13:54:36.518Z"
   },
   {
    "duration": 20,
    "start_time": "2022-04-26T13:54:36.542Z"
   },
   {
    "duration": 4,
    "start_time": "2022-04-26T13:54:36.563Z"
   },
   {
    "duration": 78,
    "start_time": "2022-04-26T13:54:36.569Z"
   },
   {
    "duration": 62,
    "start_time": "2022-04-26T13:54:36.649Z"
   },
   {
    "duration": 57,
    "start_time": "2022-04-26T13:54:36.712Z"
   },
   {
    "duration": 872,
    "start_time": "2022-04-26T13:54:36.770Z"
   },
   {
    "duration": 21,
    "start_time": "2022-04-26T13:54:37.644Z"
   },
   {
    "duration": 316,
    "start_time": "2022-04-26T13:54:37.666Z"
   },
   {
    "duration": 6,
    "start_time": "2022-04-26T13:54:37.984Z"
   },
   {
    "duration": 34,
    "start_time": "2022-04-26T13:54:37.992Z"
   },
   {
    "duration": 18,
    "start_time": "2022-04-26T13:54:38.028Z"
   },
   {
    "duration": 23,
    "start_time": "2022-04-26T13:54:38.048Z"
   }
  ],
  "kernelspec": {
   "display_name": "Python 3 (ipykernel)",
   "language": "python",
   "name": "python3"
  },
  "language_info": {
   "codemirror_mode": {
    "name": "ipython",
    "version": 3
   },
   "file_extension": ".py",
   "mimetype": "text/x-python",
   "name": "python",
   "nbconvert_exporter": "python",
   "pygments_lexer": "ipython3",
   "version": "3.9.7"
  },
  "toc": {
   "base_numbering": 1,
   "nav_menu": {},
   "number_sections": true,
   "sideBar": true,
   "skip_h1_title": true,
   "title_cell": "Содержание",
   "title_sidebar": "Contents",
   "toc_cell": true,
   "toc_position": {
    "height": "calc(100% - 180px)",
    "left": "10px",
    "top": "150px",
    "width": "259.763px"
   },
   "toc_section_display": true,
   "toc_window_display": true
  }
 },
 "nbformat": 4,
 "nbformat_minor": 5
}
