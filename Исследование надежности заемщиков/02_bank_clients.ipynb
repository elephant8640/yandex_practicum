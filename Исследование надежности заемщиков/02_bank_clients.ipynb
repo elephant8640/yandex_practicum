{
 "cells": [
  {
   "cell_type": "markdown",
   "id": "12859d79",
   "metadata": {},
   "source": [
    "# Исследование надежности заемщиков.\n",
    "Задача: оценка влияния семейного положения и количества детей клиента на факт погашения кредита в срок. Входные данные от банка — статистика о платёжеспособности клиентов.\n",
    "\n",
    "Результаты исследования будут учтены при построении модели кредитного скоринга — специальной системы, которая оценивает способность потенциального заёмщика вернуть кредит банку.\n",
    "\n",
    "Вводные данные:\n",
    "* `children` — количество детей в семье;\n",
    "* `days_employed` — общий трудовой стаж в днях;  \n",
    "* `dob_years` — возраст клиента в годах;\n",
    "* `education` — уровень образования клиента;\n",
    "* `education_id` — идентификатор уровня образования;\n",
    "* `family_status` — семейное положение;\n",
    "* `family_status_id` — идентификатор семейного положения;\n",
    "* `gender` — пол клиента;\n",
    "* `income_type` — тип занятости;\n",
    "* `debt` — имел ли задолженность по возврату кредитов;\n",
    "* `total_income` — ежемесячный доход;\n",
    "* `purpose` — цель получения кредита."
   ]
  },
  {
   "cell_type": "markdown",
   "id": "19f80b1c",
   "metadata": {},
   "source": [
    "### Шаг 1. Обзор данных"
   ]
  },
  {
   "cell_type": "code",
   "execution_count": 1,
   "id": "3cfc3efb",
   "metadata": {},
   "outputs": [],
   "source": [
    "import pandas as pd # импорт библиотеки pandas"
   ]
  },
  {
   "cell_type": "code",
   "execution_count": 2,
   "id": "ea4c3654",
   "metadata": {
    "scrolled": true
   },
   "outputs": [
    {
     "name": "stdout",
     "output_type": "stream",
     "text": [
      "<class 'pandas.core.frame.DataFrame'>\n",
      "RangeIndex: 21525 entries, 0 to 21524\n",
      "Data columns (total 12 columns):\n",
      " #   Column            Non-Null Count  Dtype  \n",
      "---  ------            --------------  -----  \n",
      " 0   children          21525 non-null  int64  \n",
      " 1   days_employed     19351 non-null  float64\n",
      " 2   dob_years         21525 non-null  int64  \n",
      " 3   education         21525 non-null  object \n",
      " 4   education_id      21525 non-null  int64  \n",
      " 5   family_status     21525 non-null  object \n",
      " 6   family_status_id  21525 non-null  int64  \n",
      " 7   gender            21525 non-null  object \n",
      " 8   income_type       21525 non-null  object \n",
      " 9   debt              21525 non-null  int64  \n",
      " 10  total_income      19351 non-null  float64\n",
      " 11  purpose           21525 non-null  object \n",
      "dtypes: float64(2), int64(5), object(5)\n",
      "memory usage: 2.0+ MB\n"
     ]
    }
   ],
   "source": [
    "df = pd.read_csv('/datasets/data.csv') # Откроем файл с данными и изучим общую информацию.\n",
    "df.info()\n",
    "df.to_csv('data.csv', index=False)"
   ]
  },
  {
   "cell_type": "code",
   "execution_count": 3,
   "id": "e20e0482",
   "metadata": {
    "scrolled": false
   },
   "outputs": [
    {
     "data": {
      "text/html": [
       "<div>\n",
       "<style scoped>\n",
       "    .dataframe tbody tr th:only-of-type {\n",
       "        vertical-align: middle;\n",
       "    }\n",
       "\n",
       "    .dataframe tbody tr th {\n",
       "        vertical-align: top;\n",
       "    }\n",
       "\n",
       "    .dataframe thead th {\n",
       "        text-align: right;\n",
       "    }\n",
       "</style>\n",
       "<table border=\"1\" class=\"dataframe\">\n",
       "  <thead>\n",
       "    <tr style=\"text-align: right;\">\n",
       "      <th></th>\n",
       "      <th>children</th>\n",
       "      <th>days_employed</th>\n",
       "      <th>dob_years</th>\n",
       "      <th>education</th>\n",
       "      <th>education_id</th>\n",
       "      <th>family_status</th>\n",
       "      <th>family_status_id</th>\n",
       "      <th>gender</th>\n",
       "      <th>income_type</th>\n",
       "      <th>debt</th>\n",
       "      <th>total_income</th>\n",
       "      <th>purpose</th>\n",
       "    </tr>\n",
       "  </thead>\n",
       "  <tbody>\n",
       "    <tr>\n",
       "      <th>0</th>\n",
       "      <td>1</td>\n",
       "      <td>-8437.673028</td>\n",
       "      <td>42</td>\n",
       "      <td>высшее</td>\n",
       "      <td>0</td>\n",
       "      <td>женат / замужем</td>\n",
       "      <td>0</td>\n",
       "      <td>F</td>\n",
       "      <td>сотрудник</td>\n",
       "      <td>0</td>\n",
       "      <td>253875.639453</td>\n",
       "      <td>покупка жилья</td>\n",
       "    </tr>\n",
       "    <tr>\n",
       "      <th>1</th>\n",
       "      <td>1</td>\n",
       "      <td>-4024.803754</td>\n",
       "      <td>36</td>\n",
       "      <td>среднее</td>\n",
       "      <td>1</td>\n",
       "      <td>женат / замужем</td>\n",
       "      <td>0</td>\n",
       "      <td>F</td>\n",
       "      <td>сотрудник</td>\n",
       "      <td>0</td>\n",
       "      <td>112080.014102</td>\n",
       "      <td>приобретение автомобиля</td>\n",
       "    </tr>\n",
       "    <tr>\n",
       "      <th>2</th>\n",
       "      <td>0</td>\n",
       "      <td>-5623.422610</td>\n",
       "      <td>33</td>\n",
       "      <td>Среднее</td>\n",
       "      <td>1</td>\n",
       "      <td>женат / замужем</td>\n",
       "      <td>0</td>\n",
       "      <td>M</td>\n",
       "      <td>сотрудник</td>\n",
       "      <td>0</td>\n",
       "      <td>145885.952297</td>\n",
       "      <td>покупка жилья</td>\n",
       "    </tr>\n",
       "    <tr>\n",
       "      <th>3</th>\n",
       "      <td>3</td>\n",
       "      <td>-4124.747207</td>\n",
       "      <td>32</td>\n",
       "      <td>среднее</td>\n",
       "      <td>1</td>\n",
       "      <td>женат / замужем</td>\n",
       "      <td>0</td>\n",
       "      <td>M</td>\n",
       "      <td>сотрудник</td>\n",
       "      <td>0</td>\n",
       "      <td>267628.550329</td>\n",
       "      <td>дополнительное образование</td>\n",
       "    </tr>\n",
       "    <tr>\n",
       "      <th>4</th>\n",
       "      <td>0</td>\n",
       "      <td>340266.072047</td>\n",
       "      <td>53</td>\n",
       "      <td>среднее</td>\n",
       "      <td>1</td>\n",
       "      <td>гражданский брак</td>\n",
       "      <td>1</td>\n",
       "      <td>F</td>\n",
       "      <td>пенсионер</td>\n",
       "      <td>0</td>\n",
       "      <td>158616.077870</td>\n",
       "      <td>сыграть свадьбу</td>\n",
       "    </tr>\n",
       "    <tr>\n",
       "      <th>5</th>\n",
       "      <td>0</td>\n",
       "      <td>-926.185831</td>\n",
       "      <td>27</td>\n",
       "      <td>высшее</td>\n",
       "      <td>0</td>\n",
       "      <td>гражданский брак</td>\n",
       "      <td>1</td>\n",
       "      <td>M</td>\n",
       "      <td>компаньон</td>\n",
       "      <td>0</td>\n",
       "      <td>255763.565419</td>\n",
       "      <td>покупка жилья</td>\n",
       "    </tr>\n",
       "    <tr>\n",
       "      <th>6</th>\n",
       "      <td>0</td>\n",
       "      <td>-2879.202052</td>\n",
       "      <td>43</td>\n",
       "      <td>высшее</td>\n",
       "      <td>0</td>\n",
       "      <td>женат / замужем</td>\n",
       "      <td>0</td>\n",
       "      <td>F</td>\n",
       "      <td>компаньон</td>\n",
       "      <td>0</td>\n",
       "      <td>240525.971920</td>\n",
       "      <td>операции с жильем</td>\n",
       "    </tr>\n",
       "    <tr>\n",
       "      <th>7</th>\n",
       "      <td>0</td>\n",
       "      <td>-152.779569</td>\n",
       "      <td>50</td>\n",
       "      <td>СРЕДНЕЕ</td>\n",
       "      <td>1</td>\n",
       "      <td>женат / замужем</td>\n",
       "      <td>0</td>\n",
       "      <td>M</td>\n",
       "      <td>сотрудник</td>\n",
       "      <td>0</td>\n",
       "      <td>135823.934197</td>\n",
       "      <td>образование</td>\n",
       "    </tr>\n",
       "    <tr>\n",
       "      <th>8</th>\n",
       "      <td>2</td>\n",
       "      <td>-6929.865299</td>\n",
       "      <td>35</td>\n",
       "      <td>ВЫСШЕЕ</td>\n",
       "      <td>0</td>\n",
       "      <td>гражданский брак</td>\n",
       "      <td>1</td>\n",
       "      <td>F</td>\n",
       "      <td>сотрудник</td>\n",
       "      <td>0</td>\n",
       "      <td>95856.832424</td>\n",
       "      <td>на проведение свадьбы</td>\n",
       "    </tr>\n",
       "    <tr>\n",
       "      <th>9</th>\n",
       "      <td>0</td>\n",
       "      <td>-2188.756445</td>\n",
       "      <td>41</td>\n",
       "      <td>среднее</td>\n",
       "      <td>1</td>\n",
       "      <td>женат / замужем</td>\n",
       "      <td>0</td>\n",
       "      <td>M</td>\n",
       "      <td>сотрудник</td>\n",
       "      <td>0</td>\n",
       "      <td>144425.938277</td>\n",
       "      <td>покупка жилья для семьи</td>\n",
       "    </tr>\n",
       "    <tr>\n",
       "      <th>10</th>\n",
       "      <td>2</td>\n",
       "      <td>-4171.483647</td>\n",
       "      <td>36</td>\n",
       "      <td>высшее</td>\n",
       "      <td>0</td>\n",
       "      <td>женат / замужем</td>\n",
       "      <td>0</td>\n",
       "      <td>M</td>\n",
       "      <td>компаньон</td>\n",
       "      <td>0</td>\n",
       "      <td>113943.491460</td>\n",
       "      <td>покупка недвижимости</td>\n",
       "    </tr>\n",
       "    <tr>\n",
       "      <th>11</th>\n",
       "      <td>0</td>\n",
       "      <td>-792.701887</td>\n",
       "      <td>40</td>\n",
       "      <td>среднее</td>\n",
       "      <td>1</td>\n",
       "      <td>женат / замужем</td>\n",
       "      <td>0</td>\n",
       "      <td>F</td>\n",
       "      <td>сотрудник</td>\n",
       "      <td>0</td>\n",
       "      <td>77069.234271</td>\n",
       "      <td>покупка коммерческой недвижимости</td>\n",
       "    </tr>\n",
       "    <tr>\n",
       "      <th>12</th>\n",
       "      <td>0</td>\n",
       "      <td>NaN</td>\n",
       "      <td>65</td>\n",
       "      <td>среднее</td>\n",
       "      <td>1</td>\n",
       "      <td>гражданский брак</td>\n",
       "      <td>1</td>\n",
       "      <td>M</td>\n",
       "      <td>пенсионер</td>\n",
       "      <td>0</td>\n",
       "      <td>NaN</td>\n",
       "      <td>сыграть свадьбу</td>\n",
       "    </tr>\n",
       "    <tr>\n",
       "      <th>13</th>\n",
       "      <td>0</td>\n",
       "      <td>-1846.641941</td>\n",
       "      <td>54</td>\n",
       "      <td>неоконченное высшее</td>\n",
       "      <td>2</td>\n",
       "      <td>женат / замужем</td>\n",
       "      <td>0</td>\n",
       "      <td>F</td>\n",
       "      <td>сотрудник</td>\n",
       "      <td>0</td>\n",
       "      <td>130458.228857</td>\n",
       "      <td>приобретение автомобиля</td>\n",
       "    </tr>\n",
       "    <tr>\n",
       "      <th>14</th>\n",
       "      <td>0</td>\n",
       "      <td>-1844.956182</td>\n",
       "      <td>56</td>\n",
       "      <td>высшее</td>\n",
       "      <td>0</td>\n",
       "      <td>гражданский брак</td>\n",
       "      <td>1</td>\n",
       "      <td>F</td>\n",
       "      <td>компаньон</td>\n",
       "      <td>1</td>\n",
       "      <td>165127.911772</td>\n",
       "      <td>покупка жилой недвижимости</td>\n",
       "    </tr>\n",
       "  </tbody>\n",
       "</table>\n",
       "</div>"
      ],
      "text/plain": [
       "    children  days_employed  dob_years            education  education_id  \\\n",
       "0          1   -8437.673028         42               высшее             0   \n",
       "1          1   -4024.803754         36              среднее             1   \n",
       "2          0   -5623.422610         33              Среднее             1   \n",
       "3          3   -4124.747207         32              среднее             1   \n",
       "4          0  340266.072047         53              среднее             1   \n",
       "5          0    -926.185831         27               высшее             0   \n",
       "6          0   -2879.202052         43               высшее             0   \n",
       "7          0    -152.779569         50              СРЕДНЕЕ             1   \n",
       "8          2   -6929.865299         35               ВЫСШЕЕ             0   \n",
       "9          0   -2188.756445         41              среднее             1   \n",
       "10         2   -4171.483647         36               высшее             0   \n",
       "11         0    -792.701887         40              среднее             1   \n",
       "12         0            NaN         65              среднее             1   \n",
       "13         0   -1846.641941         54  неоконченное высшее             2   \n",
       "14         0   -1844.956182         56               высшее             0   \n",
       "\n",
       "       family_status  family_status_id gender income_type  debt  \\\n",
       "0    женат / замужем                 0      F   сотрудник     0   \n",
       "1    женат / замужем                 0      F   сотрудник     0   \n",
       "2    женат / замужем                 0      M   сотрудник     0   \n",
       "3    женат / замужем                 0      M   сотрудник     0   \n",
       "4   гражданский брак                 1      F   пенсионер     0   \n",
       "5   гражданский брак                 1      M   компаньон     0   \n",
       "6    женат / замужем                 0      F   компаньон     0   \n",
       "7    женат / замужем                 0      M   сотрудник     0   \n",
       "8   гражданский брак                 1      F   сотрудник     0   \n",
       "9    женат / замужем                 0      M   сотрудник     0   \n",
       "10   женат / замужем                 0      M   компаньон     0   \n",
       "11   женат / замужем                 0      F   сотрудник     0   \n",
       "12  гражданский брак                 1      M   пенсионер     0   \n",
       "13   женат / замужем                 0      F   сотрудник     0   \n",
       "14  гражданский брак                 1      F   компаньон     1   \n",
       "\n",
       "     total_income                            purpose  \n",
       "0   253875.639453                      покупка жилья  \n",
       "1   112080.014102            приобретение автомобиля  \n",
       "2   145885.952297                      покупка жилья  \n",
       "3   267628.550329         дополнительное образование  \n",
       "4   158616.077870                    сыграть свадьбу  \n",
       "5   255763.565419                      покупка жилья  \n",
       "6   240525.971920                  операции с жильем  \n",
       "7   135823.934197                        образование  \n",
       "8    95856.832424              на проведение свадьбы  \n",
       "9   144425.938277            покупка жилья для семьи  \n",
       "10  113943.491460               покупка недвижимости  \n",
       "11   77069.234271  покупка коммерческой недвижимости  \n",
       "12            NaN                    сыграть свадьбу  \n",
       "13  130458.228857            приобретение автомобиля  \n",
       "14  165127.911772         покупка жилой недвижимости  "
      ]
     },
     "execution_count": 3,
     "metadata": {},
     "output_type": "execute_result"
    }
   ],
   "source": [
    "df.head(15) # получение первых 15 строк таблицы df"
   ]
  },
  {
   "cell_type": "code",
   "execution_count": 4,
   "id": "d6dc6d4c",
   "metadata": {},
   "outputs": [
    {
     "data": {
      "text/html": [
       "<div>\n",
       "<style scoped>\n",
       "    .dataframe tbody tr th:only-of-type {\n",
       "        vertical-align: middle;\n",
       "    }\n",
       "\n",
       "    .dataframe tbody tr th {\n",
       "        vertical-align: top;\n",
       "    }\n",
       "\n",
       "    .dataframe thead th {\n",
       "        text-align: right;\n",
       "    }\n",
       "</style>\n",
       "<table border=\"1\" class=\"dataframe\">\n",
       "  <thead>\n",
       "    <tr style=\"text-align: right;\">\n",
       "      <th></th>\n",
       "      <th>children</th>\n",
       "      <th>days_employed</th>\n",
       "      <th>dob_years</th>\n",
       "      <th>education</th>\n",
       "      <th>education_id</th>\n",
       "      <th>family_status</th>\n",
       "      <th>family_status_id</th>\n",
       "      <th>gender</th>\n",
       "      <th>income_type</th>\n",
       "      <th>debt</th>\n",
       "      <th>total_income</th>\n",
       "      <th>purpose</th>\n",
       "    </tr>\n",
       "  </thead>\n",
       "  <tbody>\n",
       "    <tr>\n",
       "      <th>21510</th>\n",
       "      <td>2</td>\n",
       "      <td>NaN</td>\n",
       "      <td>28</td>\n",
       "      <td>среднее</td>\n",
       "      <td>1</td>\n",
       "      <td>женат / замужем</td>\n",
       "      <td>0</td>\n",
       "      <td>F</td>\n",
       "      <td>сотрудник</td>\n",
       "      <td>0</td>\n",
       "      <td>NaN</td>\n",
       "      <td>приобретение автомобиля</td>\n",
       "    </tr>\n",
       "    <tr>\n",
       "      <th>21511</th>\n",
       "      <td>0</td>\n",
       "      <td>-612.569129</td>\n",
       "      <td>29</td>\n",
       "      <td>высшее</td>\n",
       "      <td>0</td>\n",
       "      <td>гражданский брак</td>\n",
       "      <td>1</td>\n",
       "      <td>F</td>\n",
       "      <td>сотрудник</td>\n",
       "      <td>1</td>\n",
       "      <td>140068.472941</td>\n",
       "      <td>покупка жилья для сдачи</td>\n",
       "    </tr>\n",
       "    <tr>\n",
       "      <th>21512</th>\n",
       "      <td>0</td>\n",
       "      <td>-165.377752</td>\n",
       "      <td>26</td>\n",
       "      <td>высшее</td>\n",
       "      <td>0</td>\n",
       "      <td>Не женат / не замужем</td>\n",
       "      <td>4</td>\n",
       "      <td>M</td>\n",
       "      <td>компаньон</td>\n",
       "      <td>0</td>\n",
       "      <td>147301.457769</td>\n",
       "      <td>получение дополнительного образования</td>\n",
       "    </tr>\n",
       "    <tr>\n",
       "      <th>21513</th>\n",
       "      <td>0</td>\n",
       "      <td>-1166.216789</td>\n",
       "      <td>35</td>\n",
       "      <td>среднее</td>\n",
       "      <td>1</td>\n",
       "      <td>женат / замужем</td>\n",
       "      <td>0</td>\n",
       "      <td>F</td>\n",
       "      <td>сотрудник</td>\n",
       "      <td>0</td>\n",
       "      <td>250986.142309</td>\n",
       "      <td>покупка жилья</td>\n",
       "    </tr>\n",
       "    <tr>\n",
       "      <th>21514</th>\n",
       "      <td>0</td>\n",
       "      <td>-280.469996</td>\n",
       "      <td>27</td>\n",
       "      <td>неоконченное высшее</td>\n",
       "      <td>2</td>\n",
       "      <td>Не женат / не замужем</td>\n",
       "      <td>4</td>\n",
       "      <td>M</td>\n",
       "      <td>компаньон</td>\n",
       "      <td>0</td>\n",
       "      <td>355988.407188</td>\n",
       "      <td>строительство недвижимости</td>\n",
       "    </tr>\n",
       "    <tr>\n",
       "      <th>21515</th>\n",
       "      <td>1</td>\n",
       "      <td>-467.685130</td>\n",
       "      <td>28</td>\n",
       "      <td>среднее</td>\n",
       "      <td>1</td>\n",
       "      <td>женат / замужем</td>\n",
       "      <td>0</td>\n",
       "      <td>F</td>\n",
       "      <td>сотрудник</td>\n",
       "      <td>1</td>\n",
       "      <td>109486.327999</td>\n",
       "      <td>заняться образованием</td>\n",
       "    </tr>\n",
       "    <tr>\n",
       "      <th>21516</th>\n",
       "      <td>0</td>\n",
       "      <td>-914.391429</td>\n",
       "      <td>42</td>\n",
       "      <td>высшее</td>\n",
       "      <td>0</td>\n",
       "      <td>женат / замужем</td>\n",
       "      <td>0</td>\n",
       "      <td>F</td>\n",
       "      <td>компаньон</td>\n",
       "      <td>0</td>\n",
       "      <td>322807.776603</td>\n",
       "      <td>покупка своего жилья</td>\n",
       "    </tr>\n",
       "    <tr>\n",
       "      <th>21517</th>\n",
       "      <td>0</td>\n",
       "      <td>-404.679034</td>\n",
       "      <td>42</td>\n",
       "      <td>высшее</td>\n",
       "      <td>0</td>\n",
       "      <td>гражданский брак</td>\n",
       "      <td>1</td>\n",
       "      <td>F</td>\n",
       "      <td>компаньон</td>\n",
       "      <td>0</td>\n",
       "      <td>178059.553491</td>\n",
       "      <td>на покупку своего автомобиля</td>\n",
       "    </tr>\n",
       "    <tr>\n",
       "      <th>21518</th>\n",
       "      <td>0</td>\n",
       "      <td>373995.710838</td>\n",
       "      <td>59</td>\n",
       "      <td>СРЕДНЕЕ</td>\n",
       "      <td>1</td>\n",
       "      <td>женат / замужем</td>\n",
       "      <td>0</td>\n",
       "      <td>F</td>\n",
       "      <td>пенсионер</td>\n",
       "      <td>0</td>\n",
       "      <td>153864.650328</td>\n",
       "      <td>сделка с автомобилем</td>\n",
       "    </tr>\n",
       "    <tr>\n",
       "      <th>21519</th>\n",
       "      <td>1</td>\n",
       "      <td>-2351.431934</td>\n",
       "      <td>37</td>\n",
       "      <td>ученая степень</td>\n",
       "      <td>4</td>\n",
       "      <td>в разводе</td>\n",
       "      <td>3</td>\n",
       "      <td>M</td>\n",
       "      <td>сотрудник</td>\n",
       "      <td>0</td>\n",
       "      <td>115949.039788</td>\n",
       "      <td>покупка коммерческой недвижимости</td>\n",
       "    </tr>\n",
       "    <tr>\n",
       "      <th>21520</th>\n",
       "      <td>1</td>\n",
       "      <td>-4529.316663</td>\n",
       "      <td>43</td>\n",
       "      <td>среднее</td>\n",
       "      <td>1</td>\n",
       "      <td>гражданский брак</td>\n",
       "      <td>1</td>\n",
       "      <td>F</td>\n",
       "      <td>компаньон</td>\n",
       "      <td>0</td>\n",
       "      <td>224791.862382</td>\n",
       "      <td>операции с жильем</td>\n",
       "    </tr>\n",
       "    <tr>\n",
       "      <th>21521</th>\n",
       "      <td>0</td>\n",
       "      <td>343937.404131</td>\n",
       "      <td>67</td>\n",
       "      <td>среднее</td>\n",
       "      <td>1</td>\n",
       "      <td>женат / замужем</td>\n",
       "      <td>0</td>\n",
       "      <td>F</td>\n",
       "      <td>пенсионер</td>\n",
       "      <td>0</td>\n",
       "      <td>155999.806512</td>\n",
       "      <td>сделка с автомобилем</td>\n",
       "    </tr>\n",
       "    <tr>\n",
       "      <th>21522</th>\n",
       "      <td>1</td>\n",
       "      <td>-2113.346888</td>\n",
       "      <td>38</td>\n",
       "      <td>среднее</td>\n",
       "      <td>1</td>\n",
       "      <td>гражданский брак</td>\n",
       "      <td>1</td>\n",
       "      <td>M</td>\n",
       "      <td>сотрудник</td>\n",
       "      <td>1</td>\n",
       "      <td>89672.561153</td>\n",
       "      <td>недвижимость</td>\n",
       "    </tr>\n",
       "    <tr>\n",
       "      <th>21523</th>\n",
       "      <td>3</td>\n",
       "      <td>-3112.481705</td>\n",
       "      <td>38</td>\n",
       "      <td>среднее</td>\n",
       "      <td>1</td>\n",
       "      <td>женат / замужем</td>\n",
       "      <td>0</td>\n",
       "      <td>M</td>\n",
       "      <td>сотрудник</td>\n",
       "      <td>1</td>\n",
       "      <td>244093.050500</td>\n",
       "      <td>на покупку своего автомобиля</td>\n",
       "    </tr>\n",
       "    <tr>\n",
       "      <th>21524</th>\n",
       "      <td>2</td>\n",
       "      <td>-1984.507589</td>\n",
       "      <td>40</td>\n",
       "      <td>среднее</td>\n",
       "      <td>1</td>\n",
       "      <td>женат / замужем</td>\n",
       "      <td>0</td>\n",
       "      <td>F</td>\n",
       "      <td>сотрудник</td>\n",
       "      <td>0</td>\n",
       "      <td>82047.418899</td>\n",
       "      <td>на покупку автомобиля</td>\n",
       "    </tr>\n",
       "  </tbody>\n",
       "</table>\n",
       "</div>"
      ],
      "text/plain": [
       "       children  days_employed  dob_years            education  education_id  \\\n",
       "21510         2            NaN         28              среднее             1   \n",
       "21511         0    -612.569129         29               высшее             0   \n",
       "21512         0    -165.377752         26               высшее             0   \n",
       "21513         0   -1166.216789         35              среднее             1   \n",
       "21514         0    -280.469996         27  неоконченное высшее             2   \n",
       "21515         1    -467.685130         28              среднее             1   \n",
       "21516         0    -914.391429         42               высшее             0   \n",
       "21517         0    -404.679034         42               высшее             0   \n",
       "21518         0  373995.710838         59              СРЕДНЕЕ             1   \n",
       "21519         1   -2351.431934         37       ученая степень             4   \n",
       "21520         1   -4529.316663         43              среднее             1   \n",
       "21521         0  343937.404131         67              среднее             1   \n",
       "21522         1   -2113.346888         38              среднее             1   \n",
       "21523         3   -3112.481705         38              среднее             1   \n",
       "21524         2   -1984.507589         40              среднее             1   \n",
       "\n",
       "               family_status  family_status_id gender income_type  debt  \\\n",
       "21510        женат / замужем                 0      F   сотрудник     0   \n",
       "21511       гражданский брак                 1      F   сотрудник     1   \n",
       "21512  Не женат / не замужем                 4      M   компаньон     0   \n",
       "21513        женат / замужем                 0      F   сотрудник     0   \n",
       "21514  Не женат / не замужем                 4      M   компаньон     0   \n",
       "21515        женат / замужем                 0      F   сотрудник     1   \n",
       "21516        женат / замужем                 0      F   компаньон     0   \n",
       "21517       гражданский брак                 1      F   компаньон     0   \n",
       "21518        женат / замужем                 0      F   пенсионер     0   \n",
       "21519              в разводе                 3      M   сотрудник     0   \n",
       "21520       гражданский брак                 1      F   компаньон     0   \n",
       "21521        женат / замужем                 0      F   пенсионер     0   \n",
       "21522       гражданский брак                 1      M   сотрудник     1   \n",
       "21523        женат / замужем                 0      M   сотрудник     1   \n",
       "21524        женат / замужем                 0      F   сотрудник     0   \n",
       "\n",
       "        total_income                                purpose  \n",
       "21510            NaN                приобретение автомобиля  \n",
       "21511  140068.472941                покупка жилья для сдачи  \n",
       "21512  147301.457769  получение дополнительного образования  \n",
       "21513  250986.142309                          покупка жилья  \n",
       "21514  355988.407188             строительство недвижимости  \n",
       "21515  109486.327999                  заняться образованием  \n",
       "21516  322807.776603                   покупка своего жилья  \n",
       "21517  178059.553491           на покупку своего автомобиля  \n",
       "21518  153864.650328                   сделка с автомобилем  \n",
       "21519  115949.039788      покупка коммерческой недвижимости  \n",
       "21520  224791.862382                      операции с жильем  \n",
       "21521  155999.806512                   сделка с автомобилем  \n",
       "21522   89672.561153                           недвижимость  \n",
       "21523  244093.050500           на покупку своего автомобиля  \n",
       "21524   82047.418899                  на покупку автомобиля  "
      ]
     },
     "metadata": {},
     "output_type": "display_data"
    }
   ],
   "source": [
    "display(df.tail(15)) # получение последних 15 строк таблицы df"
   ]
  },
  {
   "cell_type": "markdown",
   "id": "91bd7ed6",
   "metadata": {},
   "source": [
    "**Выводы**\n",
    "\n",
    "Итак, в таблице двеннадцать столбцов. Тип данных в столбцах различаются — `object`, `float64` и `int64`.\n",
    "\n",
    "Количество значений в столбцах **`days_employed` и `total_income`** отличается от остальных столбцов. Значит, в данных есть пропущенные значения. В каждой строке таблицы — данные о конкретном клиенте банка. Предварительно можно утверждать, что, данных достаточно для проверки гипотез. \n",
    "\n",
    "Но есть проблемы в данных, которые нужно устранить:\n",
    "* встречаются пропуски в данных;\n",
    "* в колонке `days_employed` — имеются отрицательные значения;\n",
    "* в колонке `education` встречается разный регистр при записи данных;\n",
    "* в столбце `purpose` несколько одних и тех же смысловых значений записаны разными фразами.\n",
    "\n",
    "Пропуски могли появитьсяв результате как человеческого фактора, так и в результате ошибки системы или процесса выгрузки. \n",
    "Чтобы двигаться дальше, нужно устранить проблемы в данных."
   ]
  },
  {
   "cell_type": "markdown",
   "id": "a2125e66",
   "metadata": {},
   "source": [
    "### Шаг 2.1 Обработка пропущенных значений"
   ]
  },
  {
   "cell_type": "code",
   "execution_count": 5,
   "id": "a8b3dc7e",
   "metadata": {},
   "outputs": [
    {
     "data": {
      "text/plain": [
       "children               0\n",
       "days_employed       2174\n",
       "dob_years              0\n",
       "education              0\n",
       "education_id           0\n",
       "family_status          0\n",
       "family_status_id       0\n",
       "gender                 0\n",
       "income_type            0\n",
       "debt                   0\n",
       "total_income        2174\n",
       "purpose                0\n",
       "dtype: int64"
      ]
     },
     "execution_count": 5,
     "metadata": {},
     "output_type": "execute_result"
    }
   ],
   "source": [
    "df.isna().sum() # количество пропусков"
   ]
  },
  {
   "cell_type": "markdown",
   "id": "e8a26dc5",
   "metadata": {},
   "source": [
    "В столбцах **`days_employed`** и **`total_income`** имеем место с пропусками. Возможно это связано с непредоставлением справки с места работы. Также встречаются отрицательные значения, а также слишком большие значения, которые не соответствуют здравому смыслу. Эти данные были либо неправильно извлечены, либо некорректно занесены.  Проверить эти значения и получить корректные данные для нас не представляется возможным. Продолжим работать с тем, что имеем"
   ]
  },
  {
   "cell_type": "markdown",
   "id": "ec56c2d9",
   "metadata": {},
   "source": [
    "В столбцах **`days_employed` и `total_income`** пропуски имееют тип NaN. Этот тип относится к вещественным числам, float. Из-за этого `NaN` можно использовать в математических операциях, не вызывая ошибку из-за несовместимых типов.\n",
    "\n",
    "Пропущенные значения в столбцах лучше заменить меданным значением, так как разброс между min и maх значенимя слмшком велик. Медиана поможет найти именно тот показатель, который ближе всего к истинно среднему. На неё не влияют выбивающиеся из общей массы числа, поэтому она считается одним из самых надёжных и устойчивых показателей."
   ]
  },
  {
   "cell_type": "markdown",
   "id": "eae55128",
   "metadata": {},
   "source": [
    "Проверим какую долю составляют пропущенные значения в каждом из столбцов с пропусками."
   ]
  },
  {
   "cell_type": "code",
   "execution_count": 6,
   "id": "80e6b2b7",
   "metadata": {},
   "outputs": [
    {
     "name": "stdout",
     "output_type": "stream",
     "text": [
      "Доля пропусков в столбцах: 10.1%\n"
     ]
    }
   ],
   "source": [
    "number_of_rows = len(df) # количество строк в таблице\n",
    "missing_values = 2174 # количество пропусков в столбце (одинаковое количество и в столбце days_employed , и в столбце total_income\n",
    "count_skip = missing_values / number_of_rows \n",
    "print('Доля пропусков в столбцах: {:.1%}'.format(count_skip))"
   ]
  },
  {
   "cell_type": "markdown",
   "id": "225d6fcf",
   "metadata": {},
   "source": [
    "10,1% это значительное количество. Просто удалить эти строки будет не правильно. Нужно будет обработать."
   ]
  },
  {
   "cell_type": "markdown",
   "id": "b7438f0f",
   "metadata": {},
   "source": [
    "В столбце `days_employed` избавимся от отрицательного знака в даных."
   ]
  },
  {
   "cell_type": "code",
   "execution_count": 7,
   "id": "ddc4e3c0",
   "metadata": {},
   "outputs": [],
   "source": [
    "df['days_employed'] = abs(df['days_employed'])"
   ]
  },
  {
   "cell_type": "markdown",
   "id": "03207b9d",
   "metadata": {},
   "source": [
    "Расчитаем медианное значение для столбцов **`days_employed` и `total_income`**. "
   ]
  },
  {
   "cell_type": "code",
   "execution_count": 8,
   "id": "e44d1caa",
   "metadata": {},
   "outputs": [
    {
     "data": {
      "text/plain": [
       "2194.220566878695"
      ]
     },
     "execution_count": 8,
     "metadata": {},
     "output_type": "execute_result"
    }
   ],
   "source": [
    "days_employed_median = df['days_employed'].median()\n",
    "days_employed_median"
   ]
  },
  {
   "cell_type": "code",
   "execution_count": 9,
   "id": "b1f0d004",
   "metadata": {},
   "outputs": [
    {
     "data": {
      "text/plain": [
       "145017.93753253992"
      ]
     },
     "execution_count": 9,
     "metadata": {},
     "output_type": "execute_result"
    }
   ],
   "source": [
    "total_income_median = df['total_income'].median()\n",
    "total_income_median"
   ]
  },
  {
   "cell_type": "markdown",
   "id": "149fc4fa",
   "metadata": {},
   "source": [
    "В столбцах `days_employed` и `total_income` заменим пропущенные значения на медианные."
   ]
  },
  {
   "cell_type": "code",
   "execution_count": 10,
   "id": "7a4b5f1b",
   "metadata": {},
   "outputs": [],
   "source": [
    "df['days_employed'] = df['days_employed'].fillna(days_employed_median)\n",
    "#df['total_income'] = df['total_income'].fillna(total_income_median)"
   ]
  },
  {
   "cell_type": "code",
   "execution_count": 11,
   "id": "652d9e37",
   "metadata": {},
   "outputs": [],
   "source": [
    "for i in df['income_type'].unique():\n",
    "    df.loc[(df['income_type'] == i) & (df['total_income'].isna()), 'total_income'] = df.loc[(df['income_type'] == i), 'total_income'].median()"
   ]
  },
  {
   "cell_type": "markdown",
   "id": "8e37f80d",
   "metadata": {},
   "source": [
    "Убедимся, что в таблице не осталось пропусков. Для этого ещё раз посчитаем пропущенные значения."
   ]
  },
  {
   "cell_type": "code",
   "execution_count": 12,
   "id": "153d33ca",
   "metadata": {},
   "outputs": [
    {
     "data": {
      "text/plain": [
       "children            0\n",
       "days_employed       0\n",
       "dob_years           0\n",
       "education           0\n",
       "education_id        0\n",
       "family_status       0\n",
       "family_status_id    0\n",
       "gender              0\n",
       "income_type         0\n",
       "debt                0\n",
       "total_income        0\n",
       "purpose             0\n",
       "dtype: int64"
      ]
     },
     "execution_count": 12,
     "metadata": {},
     "output_type": "execute_result"
    }
   ],
   "source": [
    "df.isna().sum()"
   ]
  },
  {
   "cell_type": "markdown",
   "id": "e61300ea",
   "metadata": {},
   "source": [
    "### Шаг 2.2 Проверка данных на аномалии и исправления."
   ]
  },
  {
   "cell_type": "markdown",
   "id": "e464fe07",
   "metadata": {},
   "source": [
    "Проверим данный методом описательной статистики для поиска всех числовых аномалий"
   ]
  },
  {
   "cell_type": "code",
   "execution_count": 13,
   "id": "6aa5f4fd",
   "metadata": {},
   "outputs": [
    {
     "data": {
      "text/html": [
       "<div>\n",
       "<style scoped>\n",
       "    .dataframe tbody tr th:only-of-type {\n",
       "        vertical-align: middle;\n",
       "    }\n",
       "\n",
       "    .dataframe tbody tr th {\n",
       "        vertical-align: top;\n",
       "    }\n",
       "\n",
       "    .dataframe thead th {\n",
       "        text-align: right;\n",
       "    }\n",
       "</style>\n",
       "<table border=\"1\" class=\"dataframe\">\n",
       "  <thead>\n",
       "    <tr style=\"text-align: right;\">\n",
       "      <th></th>\n",
       "      <th>children</th>\n",
       "      <th>days_employed</th>\n",
       "      <th>dob_years</th>\n",
       "      <th>education_id</th>\n",
       "      <th>family_status_id</th>\n",
       "      <th>debt</th>\n",
       "      <th>total_income</th>\n",
       "    </tr>\n",
       "  </thead>\n",
       "  <tbody>\n",
       "    <tr>\n",
       "      <th>count</th>\n",
       "      <td>21525.000000</td>\n",
       "      <td>21525.000000</td>\n",
       "      <td>21525.000000</td>\n",
       "      <td>21525.000000</td>\n",
       "      <td>21525.000000</td>\n",
       "      <td>21525.000000</td>\n",
       "      <td>2.152500e+04</td>\n",
       "    </tr>\n",
       "    <tr>\n",
       "      <th>mean</th>\n",
       "      <td>0.538908</td>\n",
       "      <td>60378.032733</td>\n",
       "      <td>43.293380</td>\n",
       "      <td>0.817236</td>\n",
       "      <td>0.972544</td>\n",
       "      <td>0.080883</td>\n",
       "      <td>1.652253e+05</td>\n",
       "    </tr>\n",
       "    <tr>\n",
       "      <th>std</th>\n",
       "      <td>1.381587</td>\n",
       "      <td>133257.558514</td>\n",
       "      <td>12.574584</td>\n",
       "      <td>0.548138</td>\n",
       "      <td>1.420324</td>\n",
       "      <td>0.272661</td>\n",
       "      <td>9.804367e+04</td>\n",
       "    </tr>\n",
       "    <tr>\n",
       "      <th>min</th>\n",
       "      <td>-1.000000</td>\n",
       "      <td>24.141633</td>\n",
       "      <td>0.000000</td>\n",
       "      <td>0.000000</td>\n",
       "      <td>0.000000</td>\n",
       "      <td>0.000000</td>\n",
       "      <td>2.066726e+04</td>\n",
       "    </tr>\n",
       "    <tr>\n",
       "      <th>25%</th>\n",
       "      <td>0.000000</td>\n",
       "      <td>1025.608174</td>\n",
       "      <td>33.000000</td>\n",
       "      <td>1.000000</td>\n",
       "      <td>0.000000</td>\n",
       "      <td>0.000000</td>\n",
       "      <td>1.077982e+05</td>\n",
       "    </tr>\n",
       "    <tr>\n",
       "      <th>50%</th>\n",
       "      <td>0.000000</td>\n",
       "      <td>2194.220567</td>\n",
       "      <td>42.000000</td>\n",
       "      <td>1.000000</td>\n",
       "      <td>0.000000</td>\n",
       "      <td>0.000000</td>\n",
       "      <td>1.425944e+05</td>\n",
       "    </tr>\n",
       "    <tr>\n",
       "      <th>75%</th>\n",
       "      <td>1.000000</td>\n",
       "      <td>4779.587738</td>\n",
       "      <td>53.000000</td>\n",
       "      <td>1.000000</td>\n",
       "      <td>1.000000</td>\n",
       "      <td>0.000000</td>\n",
       "      <td>1.955499e+05</td>\n",
       "    </tr>\n",
       "    <tr>\n",
       "      <th>max</th>\n",
       "      <td>20.000000</td>\n",
       "      <td>401755.400475</td>\n",
       "      <td>75.000000</td>\n",
       "      <td>4.000000</td>\n",
       "      <td>4.000000</td>\n",
       "      <td>1.000000</td>\n",
       "      <td>2.265604e+06</td>\n",
       "    </tr>\n",
       "  </tbody>\n",
       "</table>\n",
       "</div>"
      ],
      "text/plain": [
       "           children  days_employed     dob_years  education_id  \\\n",
       "count  21525.000000   21525.000000  21525.000000  21525.000000   \n",
       "mean       0.538908   60378.032733     43.293380      0.817236   \n",
       "std        1.381587  133257.558514     12.574584      0.548138   \n",
       "min       -1.000000      24.141633      0.000000      0.000000   \n",
       "25%        0.000000    1025.608174     33.000000      1.000000   \n",
       "50%        0.000000    2194.220567     42.000000      1.000000   \n",
       "75%        1.000000    4779.587738     53.000000      1.000000   \n",
       "max       20.000000  401755.400475     75.000000      4.000000   \n",
       "\n",
       "       family_status_id          debt  total_income  \n",
       "count      21525.000000  21525.000000  2.152500e+04  \n",
       "mean           0.972544      0.080883  1.652253e+05  \n",
       "std            1.420324      0.272661  9.804367e+04  \n",
       "min            0.000000      0.000000  2.066726e+04  \n",
       "25%            0.000000      0.000000  1.077982e+05  \n",
       "50%            0.000000      0.000000  1.425944e+05  \n",
       "75%            1.000000      0.000000  1.955499e+05  \n",
       "max            4.000000      1.000000  2.265604e+06  "
      ]
     },
     "execution_count": 13,
     "metadata": {},
     "output_type": "execute_result"
    }
   ],
   "source": [
    "df.describe()"
   ]
  },
  {
   "cell_type": "code",
   "execution_count": 14,
   "id": "aad00bd4",
   "metadata": {},
   "outputs": [
    {
     "data": {
      "text/plain": [
       " 0     14149\n",
       " 1      4818\n",
       " 2      2055\n",
       " 3       330\n",
       " 20       76\n",
       "-1        47\n",
       " 4        41\n",
       " 5         9\n",
       "Name: children, dtype: int64"
      ]
     },
     "execution_count": 14,
     "metadata": {},
     "output_type": "execute_result"
    }
   ],
   "source": [
    "df['children'].value_counts()"
   ]
  },
  {
   "cell_type": "markdown",
   "id": "32f248d2",
   "metadata": {},
   "source": [
    "Выявлены аномалии:\n",
    "* отрицательное количество детей (47 строк);\n",
    "* сильно выделяющееся значение количества детей - 20 (76 строк).\n",
    "\n",
    "Можно было бы предположить, что значение **`20`** относится к семьям с приёмными детьми, но такое количество (76) указывает, что это всё же ошибки при занесении данных в таблицу. То есть при нажатии `2` случайно нажимали `0`. \n",
    "Отрицателное значение, скорее всего, просто ошибка выгрузки.\n",
    "\n",
    "Исправим эти значения:\n",
    "* `-1` заменим на `1`;\n",
    "* `20` заменим значением, которое по моей гипотезе должно было быть занесено, т.е `2`."
   ]
  },
  {
   "cell_type": "code",
   "execution_count": 15,
   "id": "a4d83243",
   "metadata": {},
   "outputs": [],
   "source": [
    "df['children'] = abs(df['children']) #заменим отрицательное значение на положительное"
   ]
  },
  {
   "cell_type": "code",
   "execution_count": 16,
   "id": "1420ac95",
   "metadata": {},
   "outputs": [],
   "source": [
    "df['children'] = df['children'].replace(20, 2) "
   ]
  },
  {
   "cell_type": "code",
   "execution_count": 17,
   "id": "d09b005c",
   "metadata": {
    "scrolled": true
   },
   "outputs": [
    {
     "data": {
      "text/plain": [
       "0    14149\n",
       "1     4865\n",
       "2     2131\n",
       "3      330\n",
       "4       41\n",
       "5        9\n",
       "Name: children, dtype: int64"
      ]
     },
     "execution_count": 17,
     "metadata": {},
     "output_type": "execute_result"
    }
   ],
   "source": [
    "df['children'].value_counts() #проверим исправления"
   ]
  },
  {
   "cell_type": "markdown",
   "id": "35267c66",
   "metadata": {},
   "source": [
    "В столбце `dob_years` имеется значение `0`, хотя кредиты выдаются лицам от 18 лет. Заполнить их можем основываясь на медианные значения, посчитанные для каждого типа занятости. "
   ]
  },
  {
   "cell_type": "code",
   "execution_count": 18,
   "id": "dd690164",
   "metadata": {},
   "outputs": [],
   "source": [
    "dob_years_median = df['dob_years'].median() # расчёт медианы в столбце dob_years\n",
    "df.loc[df['dob_years'] == 0, 'dob_years'] = dob_years_median # замена нулевого значения медианным\n",
    "df['dob_years'] = df['dob_years'].astype('int') # перевод из вещественного числа в целочисленное"
   ]
  },
  {
   "cell_type": "markdown",
   "id": "44588617",
   "metadata": {},
   "source": [
    "При изучении таблицы, заметил, что в столбцах присутсвуют значения, записанные разным регистром. Приведем сразу все категории к одному регистру:"
   ]
  },
  {
   "cell_type": "code",
   "execution_count": 19,
   "id": "02750260",
   "metadata": {},
   "outputs": [],
   "source": [
    "df['education'] = df['education'].str.lower()\n",
    "df['income_type'] = df['income_type'].str.lower()\n",
    "df['family_status'] = df['family_status'].str.lower()\n",
    "df['purpose'] = df['purpose'].str.lower()"
   ]
  },
  {
   "cell_type": "markdown",
   "id": "41423d63",
   "metadata": {},
   "source": [
    "Проверим, исправили ли регистр выводом количества уникальных значений в столбце"
   ]
  },
  {
   "cell_type": "code",
   "execution_count": 20,
   "id": "bf15f7cc",
   "metadata": {},
   "outputs": [
    {
     "data": {
      "text/plain": [
       "F      14236\n",
       "M       7288\n",
       "XNA        1\n",
       "Name: gender, dtype: int64"
      ]
     },
     "execution_count": 20,
     "metadata": {},
     "output_type": "execute_result"
    }
   ],
   "source": [
    "df['gender'].value_counts()"
   ]
  },
  {
   "cell_type": "markdown",
   "id": "239a1ed2",
   "metadata": {},
   "source": [
    "В столбце имеются непонятные значения `XNA`. Предположу, что `XNA` ошибка при занесении данных. В столбце преобладающие значения `F`, поэтому заменим `XNA` тоже на `F`."
   ]
  },
  {
   "cell_type": "code",
   "execution_count": 21,
   "id": "60499681",
   "metadata": {},
   "outputs": [],
   "source": [
    "df['gender'] = df['gender'].replace('XNA', 'F') "
   ]
  },
  {
   "cell_type": "code",
   "execution_count": 22,
   "id": "6cf1d76e",
   "metadata": {},
   "outputs": [
    {
     "data": {
      "text/plain": [
       "F    14237\n",
       "M     7288\n",
       "Name: gender, dtype: int64"
      ]
     },
     "execution_count": 22,
     "metadata": {},
     "output_type": "execute_result"
    }
   ],
   "source": [
    "df['gender'].value_counts() #проверим исправления"
   ]
  },
  {
   "cell_type": "markdown",
   "id": "540ce69b",
   "metadata": {},
   "source": [
    "Просмотрим все уникальные значения столбца `purpose`:"
   ]
  },
  {
   "cell_type": "code",
   "execution_count": 23,
   "id": "493b5c96",
   "metadata": {},
   "outputs": [
    {
     "data": {
      "text/plain": [
       "сотрудник          11119\n",
       "компаньон           5085\n",
       "пенсионер           3856\n",
       "госслужащий         1459\n",
       "предприниматель        2\n",
       "безработный            2\n",
       "в декрете              1\n",
       "студент                1\n",
       "Name: income_type, dtype: int64"
      ]
     },
     "execution_count": 23,
     "metadata": {},
     "output_type": "execute_result"
    }
   ],
   "source": [
    "df['income_type'].value_counts()"
   ]
  },
  {
   "cell_type": "markdown",
   "id": "5e7e5c5d",
   "metadata": {},
   "source": [
    "Тут всё в порядке. Оставим без изменений."
   ]
  },
  {
   "cell_type": "code",
   "execution_count": 24,
   "id": "4de8dbe2",
   "metadata": {},
   "outputs": [
    {
     "data": {
      "text/plain": [
       "свадьба                                   797\n",
       "на проведение свадьбы                     777\n",
       "сыграть свадьбу                           774\n",
       "операции с недвижимостью                  676\n",
       "покупка коммерческой недвижимости         664\n",
       "покупка жилья для сдачи                   653\n",
       "операции с жильем                         653\n",
       "операции с коммерческой недвижимостью     651\n",
       "жилье                                     647\n",
       "покупка жилья                             647\n",
       "покупка жилья для семьи                   641\n",
       "строительство собственной недвижимости    635\n",
       "недвижимость                              634\n",
       "операции со своей недвижимостью           630\n",
       "строительство жилой недвижимости          626\n",
       "покупка недвижимости                      624\n",
       "покупка своего жилья                      620\n",
       "строительство недвижимости                620\n",
       "ремонт жилью                              612\n",
       "покупка жилой недвижимости                607\n",
       "на покупку своего автомобиля              505\n",
       "заняться высшим образованием              496\n",
       "автомобиль                                495\n",
       "сделка с подержанным автомобилем          489\n",
       "свой автомобиль                           480\n",
       "на покупку подержанного автомобиля        479\n",
       "автомобили                                478\n",
       "на покупку автомобиля                     472\n",
       "дополнительное образование                462\n",
       "приобретение автомобиля                   462\n",
       "сделка с автомобилем                      455\n",
       "высшее образование                        453\n",
       "образование                               447\n",
       "получение дополнительного образования     447\n",
       "получение образования                     443\n",
       "профильное образование                    436\n",
       "получение высшего образования             426\n",
       "заняться образованием                     412\n",
       "Name: purpose, dtype: int64"
      ]
     },
     "execution_count": 24,
     "metadata": {},
     "output_type": "execute_result"
    }
   ],
   "source": [
    "df['purpose'].value_counts()"
   ]
  },
  {
   "cell_type": "markdown",
   "id": "e14e2ebf",
   "metadata": {},
   "source": [
    "Из списка видно, что многие уникальные значения цели кредита записаны по-разному, но имеют одинаковый смысл. Нужна категоризация. Так же есть некорректное написание `жилью`, заменим на `жилья`."
   ]
  },
  {
   "cell_type": "code",
   "execution_count": 25,
   "id": "c00b446a",
   "metadata": {},
   "outputs": [
    {
     "data": {
      "text/plain": [
       "свадьба                                   797\n",
       "на проведение свадьбы                     777\n",
       "сыграть свадьбу                           774\n",
       "операции с недвижимостью                  676\n",
       "покупка коммерческой недвижимости         664\n",
       "покупка жилья для сдачи                   653\n",
       "операции с жильем                         653\n",
       "операции с коммерческой недвижимостью     651\n",
       "жилье                                     647\n",
       "покупка жилья                             647\n",
       "покупка жилья для семьи                   641\n",
       "строительство собственной недвижимости    635\n",
       "недвижимость                              634\n",
       "операции со своей недвижимостью           630\n",
       "строительство жилой недвижимости          626\n",
       "покупка недвижимости                      624\n",
       "покупка своего жилья                      620\n",
       "строительство недвижимости                620\n",
       "ремонт жилья                              612\n",
       "покупка жилой недвижимости                607\n",
       "на покупку своего автомобиля              505\n",
       "заняться высшим образованием              496\n",
       "автомобиль                                495\n",
       "сделка с подержанным автомобилем          489\n",
       "свой автомобиль                           480\n",
       "на покупку подержанного автомобиля        479\n",
       "автомобили                                478\n",
       "на покупку автомобиля                     472\n",
       "дополнительное образование                462\n",
       "приобретение автомобиля                   462\n",
       "сделка с автомобилем                      455\n",
       "высшее образование                        453\n",
       "образование                               447\n",
       "получение дополнительного образования     447\n",
       "получение образования                     443\n",
       "профильное образование                    436\n",
       "получение высшего образования             426\n",
       "заняться образованием                     412\n",
       "Name: purpose, dtype: int64"
      ]
     },
     "execution_count": 25,
     "metadata": {},
     "output_type": "execute_result"
    }
   ],
   "source": [
    "df['purpose'] = df['purpose'].replace('ремонт жилью', 'ремонт жилья') \n",
    "df['purpose'].value_counts()"
   ]
  },
  {
   "cell_type": "markdown",
   "id": "6be2c5e3",
   "metadata": {},
   "source": [
    "Проверим столбец **`days_employed`**:"
   ]
  },
  {
   "cell_type": "code",
   "execution_count": 26,
   "id": "bcd123b9",
   "metadata": {},
   "outputs": [
    {
     "data": {
      "text/plain": [
       "2194.220567      2175\n",
       "329951.594147       1\n",
       "886.253127          1\n",
       "2539.534295         1\n",
       "390574.985524       1\n",
       "                 ... \n",
       "1320.841444         1\n",
       "1394.302246         1\n",
       "2325.720832         1\n",
       "4086.407828         1\n",
       "1636.419775         1\n",
       "Name: days_employed, Length: 19351, dtype: int64"
      ]
     },
     "execution_count": 26,
     "metadata": {},
     "output_type": "execute_result"
    }
   ],
   "source": [
    "df['days_employed'].value_counts()"
   ]
  },
  {
   "cell_type": "code",
   "execution_count": 27,
   "id": "d79a864d",
   "metadata": {},
   "outputs": [
    {
     "data": {
      "text/plain": [
       "count     21525.000000\n",
       "mean      60378.032733\n",
       "std      133257.558514\n",
       "min          24.141633\n",
       "25%        1025.608174\n",
       "50%        2194.220567\n",
       "75%        4779.587738\n",
       "max      401755.400475\n",
       "Name: days_employed, dtype: float64"
      ]
     },
     "execution_count": 27,
     "metadata": {},
     "output_type": "execute_result"
    }
   ],
   "source": [
    "df['days_employed'].describe()"
   ]
  },
  {
   "cell_type": "markdown",
   "id": "2d0672f9",
   "metadata": {},
   "source": [
    "Имеем очень большой разброс в значениях. При этом максимальное значение не соответствует здравому смыслу (около 1100 лет). Плюс в этом столбце изначально данные были с отрицательными значениями. Понимаю, что дальше значения этого столбца мне не понадобятся, пооэтому приму решение просто не тратить время впустую на ненужные вычисления."
   ]
  },
  {
   "cell_type": "code",
   "execution_count": 28,
   "id": "673c0aa2",
   "metadata": {},
   "outputs": [
    {
     "data": {
      "text/plain": [
       "0    19784\n",
       "1     1741\n",
       "Name: debt, dtype: int64"
      ]
     },
     "execution_count": 28,
     "metadata": {},
     "output_type": "execute_result"
    }
   ],
   "source": [
    "df['debt'].value_counts()"
   ]
  },
  {
   "cell_type": "markdown",
   "id": "7a6e0e9c",
   "metadata": {},
   "source": [
    "По этому столбцу  никаких нареканий к занчениям нет. Оставим этот столбец без изменений. Из данных видно, что большинство клиентов не имеет задолженности по кредитам, что говорит о правильной политике кредитной организации по вынесению решения о выдаче кредита."
   ]
  },
  {
   "cell_type": "markdown",
   "id": "070a0232",
   "metadata": {},
   "source": [
    "### Шаг 2.3. Изменение типов данных."
   ]
  },
  {
   "cell_type": "markdown",
   "id": "5237e5f1",
   "metadata": {},
   "source": [
    "В столбцtе **`total_income`** занесены даные типа `float64`. Но такая точность \"до копейки\" не играет значения в этих данных. Поэтому преобразуем значения в тип `int`"
   ]
  },
  {
   "cell_type": "code",
   "execution_count": 29,
   "id": "f33d8e13",
   "metadata": {},
   "outputs": [],
   "source": [
    "df['days_employed'] = df['days_employed'].astype('int')\n",
    "df['total_income'] = df['total_income'].astype('int')"
   ]
  },
  {
   "cell_type": "markdown",
   "id": "66a2b4b9",
   "metadata": {},
   "source": [
    "Проверим результат изменения типа данных:"
   ]
  },
  {
   "cell_type": "code",
   "execution_count": 30,
   "id": "35355596",
   "metadata": {},
   "outputs": [
    {
     "name": "stdout",
     "output_type": "stream",
     "text": [
      "<class 'pandas.core.frame.DataFrame'>\n",
      "RangeIndex: 21525 entries, 0 to 21524\n",
      "Data columns (total 12 columns):\n",
      " #   Column            Non-Null Count  Dtype \n",
      "---  ------            --------------  ----- \n",
      " 0   children          21525 non-null  int64 \n",
      " 1   days_employed     21525 non-null  int64 \n",
      " 2   dob_years         21525 non-null  int64 \n",
      " 3   education         21525 non-null  object\n",
      " 4   education_id      21525 non-null  int64 \n",
      " 5   family_status     21525 non-null  object\n",
      " 6   family_status_id  21525 non-null  int64 \n",
      " 7   gender            21525 non-null  object\n",
      " 8   income_type       21525 non-null  object\n",
      " 9   debt              21525 non-null  int64 \n",
      " 10  total_income      21525 non-null  int64 \n",
      " 11  purpose           21525 non-null  object\n",
      "dtypes: int64(7), object(5)\n",
      "memory usage: 2.0+ MB\n"
     ]
    }
   ],
   "source": [
    "df.info()"
   ]
  },
  {
   "cell_type": "markdown",
   "id": "c3bd75d2",
   "metadata": {},
   "source": [
    "### Шаг 2.4. Удаление дубликатов."
   ]
  },
  {
   "cell_type": "markdown",
   "id": "a84ae4de",
   "metadata": {},
   "source": [
    "Посчитаем явные дубликаты в таблице."
   ]
  },
  {
   "cell_type": "code",
   "execution_count": 31,
   "id": "0daf2b18",
   "metadata": {},
   "outputs": [
    {
     "name": "stdout",
     "output_type": "stream",
     "text": [
      "Дубликатов в таблице: 72\n"
     ]
    }
   ],
   "source": [
    "print('Дубликатов в таблице:', df.duplicated().sum())"
   ]
  },
  {
   "cell_type": "markdown",
   "id": "160e3169",
   "metadata": {},
   "source": [
    "Избавимся от дубликатов и перезапишем индексы строк в таблице."
   ]
  },
  {
   "cell_type": "code",
   "execution_count": 32,
   "id": "8fcdff8b",
   "metadata": {},
   "outputs": [],
   "source": [
    "df = df.drop_duplicates().reset_index(drop=True)"
   ]
  },
  {
   "cell_type": "markdown",
   "id": "c32c44a7",
   "metadata": {},
   "source": [
    "Ещё раз посчитаем явные дубликаты в таблице — убедимся, что полностью от них избавились:"
   ]
  },
  {
   "cell_type": "code",
   "execution_count": 33,
   "id": "cbae1409",
   "metadata": {},
   "outputs": [
    {
     "name": "stdout",
     "output_type": "stream",
     "text": [
      "Дубликатов в таблице: 0\n"
     ]
    }
   ],
   "source": [
    "print('Дубликатов в таблице:', df.duplicated().sum())"
   ]
  },
  {
   "cell_type": "markdown",
   "id": "26a913b3",
   "metadata": {},
   "source": [
    "### Шаг 2.5. Формирование дополнительных датафреймов словарей, декомпозиция исходного датафрейма."
   ]
  },
  {
   "cell_type": "markdown",
   "id": "cc94c8b2",
   "metadata": {},
   "source": [
    "Создадим два новых датафрейма, в которых:\n",
    "* каждому уникальному значению из education соответствует уникальное значение education_id — в первом;\n",
    "* каждому уникальному значению из family_status соответствует уникальное значение family_status_id — во втором."
   ]
  },
  {
   "cell_type": "code",
   "execution_count": 34,
   "id": "2f53a169",
   "metadata": {},
   "outputs": [
    {
     "data": {
      "text/html": [
       "<div>\n",
       "<style scoped>\n",
       "    .dataframe tbody tr th:only-of-type {\n",
       "        vertical-align: middle;\n",
       "    }\n",
       "\n",
       "    .dataframe tbody tr th {\n",
       "        vertical-align: top;\n",
       "    }\n",
       "\n",
       "    .dataframe thead th {\n",
       "        text-align: right;\n",
       "    }\n",
       "</style>\n",
       "<table border=\"1\" class=\"dataframe\">\n",
       "  <thead>\n",
       "    <tr style=\"text-align: right;\">\n",
       "      <th></th>\n",
       "      <th>education</th>\n",
       "      <th>education_id</th>\n",
       "    </tr>\n",
       "  </thead>\n",
       "  <tbody>\n",
       "    <tr>\n",
       "      <th>0</th>\n",
       "      <td>высшее</td>\n",
       "      <td>0</td>\n",
       "    </tr>\n",
       "    <tr>\n",
       "      <th>1</th>\n",
       "      <td>среднее</td>\n",
       "      <td>1</td>\n",
       "    </tr>\n",
       "    <tr>\n",
       "      <th>2</th>\n",
       "      <td>неоконченное высшее</td>\n",
       "      <td>2</td>\n",
       "    </tr>\n",
       "    <tr>\n",
       "      <th>3</th>\n",
       "      <td>начальное</td>\n",
       "      <td>3</td>\n",
       "    </tr>\n",
       "    <tr>\n",
       "      <th>4</th>\n",
       "      <td>ученая степень</td>\n",
       "      <td>4</td>\n",
       "    </tr>\n",
       "  </tbody>\n",
       "</table>\n",
       "</div>"
      ],
      "text/plain": [
       "             education  education_id\n",
       "0               высшее             0\n",
       "1              среднее             1\n",
       "2  неоконченное высшее             2\n",
       "3            начальное             3\n",
       "4       ученая степень             4"
      ]
     },
     "execution_count": 34,
     "metadata": {},
     "output_type": "execute_result"
    }
   ],
   "source": [
    "education_dict = df[['education', 'education_id']]\n",
    "education_dict = education_dict.drop_duplicates().sort_values(by = 'education_id').reset_index(drop = True)\n",
    "education_dict.head()"
   ]
  },
  {
   "cell_type": "code",
   "execution_count": 35,
   "id": "64509552",
   "metadata": {},
   "outputs": [
    {
     "data": {
      "text/html": [
       "<div>\n",
       "<style scoped>\n",
       "    .dataframe tbody tr th:only-of-type {\n",
       "        vertical-align: middle;\n",
       "    }\n",
       "\n",
       "    .dataframe tbody tr th {\n",
       "        vertical-align: top;\n",
       "    }\n",
       "\n",
       "    .dataframe thead th {\n",
       "        text-align: right;\n",
       "    }\n",
       "</style>\n",
       "<table border=\"1\" class=\"dataframe\">\n",
       "  <thead>\n",
       "    <tr style=\"text-align: right;\">\n",
       "      <th></th>\n",
       "      <th>family_status</th>\n",
       "      <th>family_status_id</th>\n",
       "    </tr>\n",
       "  </thead>\n",
       "  <tbody>\n",
       "    <tr>\n",
       "      <th>0</th>\n",
       "      <td>женат / замужем</td>\n",
       "      <td>0</td>\n",
       "    </tr>\n",
       "    <tr>\n",
       "      <th>1</th>\n",
       "      <td>гражданский брак</td>\n",
       "      <td>1</td>\n",
       "    </tr>\n",
       "    <tr>\n",
       "      <th>2</th>\n",
       "      <td>вдовец / вдова</td>\n",
       "      <td>2</td>\n",
       "    </tr>\n",
       "    <tr>\n",
       "      <th>3</th>\n",
       "      <td>в разводе</td>\n",
       "      <td>3</td>\n",
       "    </tr>\n",
       "    <tr>\n",
       "      <th>4</th>\n",
       "      <td>не женат / не замужем</td>\n",
       "      <td>4</td>\n",
       "    </tr>\n",
       "  </tbody>\n",
       "</table>\n",
       "</div>"
      ],
      "text/plain": [
       "           family_status  family_status_id\n",
       "0        женат / замужем                 0\n",
       "1       гражданский брак                 1\n",
       "2         вдовец / вдова                 2\n",
       "3              в разводе                 3\n",
       "4  не женат / не замужем                 4"
      ]
     },
     "execution_count": 35,
     "metadata": {},
     "output_type": "execute_result"
    }
   ],
   "source": [
    "family_status_dict = df[['family_status', 'family_status_id']]\n",
    "family_status_dict = family_status_dict.drop_duplicates().sort_values(by = 'family_status_id').reset_index(drop = True)\n",
    "family_status_dict.head()"
   ]
  },
  {
   "cell_type": "markdown",
   "id": "29b69b47",
   "metadata": {},
   "source": [
    "Удалим из исходного датафрейма столбцы education и family_status, оставив только их идентификаторы: education_id и family_status_id. "
   ]
  },
  {
   "cell_type": "code",
   "execution_count": 36,
   "id": "0171340f",
   "metadata": {},
   "outputs": [
    {
     "data": {
      "text/html": [
       "<div>\n",
       "<style scoped>\n",
       "    .dataframe tbody tr th:only-of-type {\n",
       "        vertical-align: middle;\n",
       "    }\n",
       "\n",
       "    .dataframe tbody tr th {\n",
       "        vertical-align: top;\n",
       "    }\n",
       "\n",
       "    .dataframe thead th {\n",
       "        text-align: right;\n",
       "    }\n",
       "</style>\n",
       "<table border=\"1\" class=\"dataframe\">\n",
       "  <thead>\n",
       "    <tr style=\"text-align: right;\">\n",
       "      <th></th>\n",
       "      <th>children</th>\n",
       "      <th>days_employed</th>\n",
       "      <th>dob_years</th>\n",
       "      <th>education_id</th>\n",
       "      <th>family_status_id</th>\n",
       "      <th>gender</th>\n",
       "      <th>income_type</th>\n",
       "      <th>debt</th>\n",
       "      <th>total_income</th>\n",
       "      <th>purpose</th>\n",
       "    </tr>\n",
       "  </thead>\n",
       "  <tbody>\n",
       "    <tr>\n",
       "      <th>0</th>\n",
       "      <td>1</td>\n",
       "      <td>8437</td>\n",
       "      <td>42</td>\n",
       "      <td>0</td>\n",
       "      <td>0</td>\n",
       "      <td>F</td>\n",
       "      <td>сотрудник</td>\n",
       "      <td>0</td>\n",
       "      <td>253875</td>\n",
       "      <td>покупка жилья</td>\n",
       "    </tr>\n",
       "    <tr>\n",
       "      <th>1</th>\n",
       "      <td>1</td>\n",
       "      <td>4024</td>\n",
       "      <td>36</td>\n",
       "      <td>1</td>\n",
       "      <td>0</td>\n",
       "      <td>F</td>\n",
       "      <td>сотрудник</td>\n",
       "      <td>0</td>\n",
       "      <td>112080</td>\n",
       "      <td>приобретение автомобиля</td>\n",
       "    </tr>\n",
       "    <tr>\n",
       "      <th>2</th>\n",
       "      <td>0</td>\n",
       "      <td>5623</td>\n",
       "      <td>33</td>\n",
       "      <td>1</td>\n",
       "      <td>0</td>\n",
       "      <td>M</td>\n",
       "      <td>сотрудник</td>\n",
       "      <td>0</td>\n",
       "      <td>145885</td>\n",
       "      <td>покупка жилья</td>\n",
       "    </tr>\n",
       "    <tr>\n",
       "      <th>3</th>\n",
       "      <td>3</td>\n",
       "      <td>4124</td>\n",
       "      <td>32</td>\n",
       "      <td>1</td>\n",
       "      <td>0</td>\n",
       "      <td>M</td>\n",
       "      <td>сотрудник</td>\n",
       "      <td>0</td>\n",
       "      <td>267628</td>\n",
       "      <td>дополнительное образование</td>\n",
       "    </tr>\n",
       "    <tr>\n",
       "      <th>4</th>\n",
       "      <td>0</td>\n",
       "      <td>340266</td>\n",
       "      <td>53</td>\n",
       "      <td>1</td>\n",
       "      <td>1</td>\n",
       "      <td>F</td>\n",
       "      <td>пенсионер</td>\n",
       "      <td>0</td>\n",
       "      <td>158616</td>\n",
       "      <td>сыграть свадьбу</td>\n",
       "    </tr>\n",
       "  </tbody>\n",
       "</table>\n",
       "</div>"
      ],
      "text/plain": [
       "   children  days_employed  dob_years  education_id  family_status_id gender  \\\n",
       "0         1           8437         42             0                 0      F   \n",
       "1         1           4024         36             1                 0      F   \n",
       "2         0           5623         33             1                 0      M   \n",
       "3         3           4124         32             1                 0      M   \n",
       "4         0         340266         53             1                 1      F   \n",
       "\n",
       "  income_type  debt  total_income                     purpose  \n",
       "0   сотрудник     0        253875               покупка жилья  \n",
       "1   сотрудник     0        112080     приобретение автомобиля  \n",
       "2   сотрудник     0        145885               покупка жилья  \n",
       "3   сотрудник     0        267628  дополнительное образование  \n",
       "4   пенсионер     0        158616             сыграть свадьбу  "
      ]
     },
     "execution_count": 36,
     "metadata": {},
     "output_type": "execute_result"
    }
   ],
   "source": [
    "df = df.drop(['education', 'family_status'], axis=1)\n",
    "df.head()# удаление столбцов и вывод первых 5 строк"
   ]
  },
  {
   "cell_type": "markdown",
   "id": "1fc8f9be",
   "metadata": {},
   "source": [
    "### Шаг 2.6. Категоризация дохода."
   ]
  },
  {
   "cell_type": "markdown",
   "id": "c822ccd5",
   "metadata": {},
   "source": [
    "На основании диапазонов, указанных ниже, создадим столбец total_income_category с категориями:\n",
    "* 0–30000 — 'E';\n",
    "* 30001–50000 — 'D';\n",
    "* 50001–200000 — 'C';\n",
    "* 200001–1000000 — 'B';\n",
    "* 1000001 и выше — 'A'."
   ]
  },
  {
   "cell_type": "code",
   "execution_count": 37,
   "id": "429d07ba",
   "metadata": {},
   "outputs": [
    {
     "data": {
      "text/html": [
       "<div>\n",
       "<style scoped>\n",
       "    .dataframe tbody tr th:only-of-type {\n",
       "        vertical-align: middle;\n",
       "    }\n",
       "\n",
       "    .dataframe tbody tr th {\n",
       "        vertical-align: top;\n",
       "    }\n",
       "\n",
       "    .dataframe thead th {\n",
       "        text-align: right;\n",
       "    }\n",
       "</style>\n",
       "<table border=\"1\" class=\"dataframe\">\n",
       "  <thead>\n",
       "    <tr style=\"text-align: right;\">\n",
       "      <th></th>\n",
       "      <th>children</th>\n",
       "      <th>days_employed</th>\n",
       "      <th>dob_years</th>\n",
       "      <th>education_id</th>\n",
       "      <th>family_status_id</th>\n",
       "      <th>gender</th>\n",
       "      <th>income_type</th>\n",
       "      <th>debt</th>\n",
       "      <th>total_income</th>\n",
       "      <th>purpose</th>\n",
       "      <th>total_income_category</th>\n",
       "    </tr>\n",
       "  </thead>\n",
       "  <tbody>\n",
       "    <tr>\n",
       "      <th>0</th>\n",
       "      <td>1</td>\n",
       "      <td>8437</td>\n",
       "      <td>42</td>\n",
       "      <td>0</td>\n",
       "      <td>0</td>\n",
       "      <td>F</td>\n",
       "      <td>сотрудник</td>\n",
       "      <td>0</td>\n",
       "      <td>253875</td>\n",
       "      <td>покупка жилья</td>\n",
       "      <td>B</td>\n",
       "    </tr>\n",
       "    <tr>\n",
       "      <th>1</th>\n",
       "      <td>1</td>\n",
       "      <td>4024</td>\n",
       "      <td>36</td>\n",
       "      <td>1</td>\n",
       "      <td>0</td>\n",
       "      <td>F</td>\n",
       "      <td>сотрудник</td>\n",
       "      <td>0</td>\n",
       "      <td>112080</td>\n",
       "      <td>приобретение автомобиля</td>\n",
       "      <td>C</td>\n",
       "    </tr>\n",
       "    <tr>\n",
       "      <th>2</th>\n",
       "      <td>0</td>\n",
       "      <td>5623</td>\n",
       "      <td>33</td>\n",
       "      <td>1</td>\n",
       "      <td>0</td>\n",
       "      <td>M</td>\n",
       "      <td>сотрудник</td>\n",
       "      <td>0</td>\n",
       "      <td>145885</td>\n",
       "      <td>покупка жилья</td>\n",
       "      <td>C</td>\n",
       "    </tr>\n",
       "    <tr>\n",
       "      <th>3</th>\n",
       "      <td>3</td>\n",
       "      <td>4124</td>\n",
       "      <td>32</td>\n",
       "      <td>1</td>\n",
       "      <td>0</td>\n",
       "      <td>M</td>\n",
       "      <td>сотрудник</td>\n",
       "      <td>0</td>\n",
       "      <td>267628</td>\n",
       "      <td>дополнительное образование</td>\n",
       "      <td>B</td>\n",
       "    </tr>\n",
       "    <tr>\n",
       "      <th>4</th>\n",
       "      <td>0</td>\n",
       "      <td>340266</td>\n",
       "      <td>53</td>\n",
       "      <td>1</td>\n",
       "      <td>1</td>\n",
       "      <td>F</td>\n",
       "      <td>пенсионер</td>\n",
       "      <td>0</td>\n",
       "      <td>158616</td>\n",
       "      <td>сыграть свадьбу</td>\n",
       "      <td>C</td>\n",
       "    </tr>\n",
       "  </tbody>\n",
       "</table>\n",
       "</div>"
      ],
      "text/plain": [
       "   children  days_employed  dob_years  education_id  family_status_id gender  \\\n",
       "0         1           8437         42             0                 0      F   \n",
       "1         1           4024         36             1                 0      F   \n",
       "2         0           5623         33             1                 0      M   \n",
       "3         3           4124         32             1                 0      M   \n",
       "4         0         340266         53             1                 1      F   \n",
       "\n",
       "  income_type  debt  total_income                     purpose  \\\n",
       "0   сотрудник     0        253875               покупка жилья   \n",
       "1   сотрудник     0        112080     приобретение автомобиля   \n",
       "2   сотрудник     0        145885               покупка жилья   \n",
       "3   сотрудник     0        267628  дополнительное образование   \n",
       "4   пенсионер     0        158616             сыграть свадьбу   \n",
       "\n",
       "  total_income_category  \n",
       "0                     B  \n",
       "1                     C  \n",
       "2                     C  \n",
       "3                     B  \n",
       "4                     C  "
      ]
     },
     "execution_count": 37,
     "metadata": {},
     "output_type": "execute_result"
    }
   ],
   "source": [
    "def total_income_category(total_income):\n",
    "    if total_income <= 30000:\n",
    "        return 'E'\n",
    "    if total_income <= 50000:\n",
    "        return 'D'\n",
    "    if total_income <= 200000:\n",
    "        return 'C'\n",
    "    if total_income <=1000000:\n",
    "        return 'B'\n",
    "    return 'A'    \n",
    "\n",
    "df['total_income_category'] = df['total_income'].apply(total_income_category)\n",
    "df.head()"
   ]
  },
  {
   "cell_type": "markdown",
   "id": "cc3f041c",
   "metadata": {},
   "source": [
    "Выедем количество уникальных значений столбца `total_income_category`"
   ]
  },
  {
   "cell_type": "code",
   "execution_count": 38,
   "id": "e3c56b8c",
   "metadata": {},
   "outputs": [
    {
     "data": {
      "text/plain": [
       "C    16014\n",
       "B     5042\n",
       "D      350\n",
       "A       25\n",
       "E       22\n",
       "Name: total_income_category, dtype: int64"
      ]
     },
     "execution_count": 38,
     "metadata": {},
     "output_type": "execute_result"
    }
   ],
   "source": [
    "df['total_income_category'].value_counts()"
   ]
  },
  {
   "cell_type": "markdown",
   "id": "d74ea5ac",
   "metadata": {},
   "source": [
    "Как видим из данных, больше всего заёмщиков с доходом от 50000 до 200000."
   ]
  },
  {
   "cell_type": "markdown",
   "id": "92917296",
   "metadata": {},
   "source": [
    "### Шаг 2.7. Категоризация целей кредита."
   ]
  },
  {
   "cell_type": "markdown",
   "id": "46809544",
   "metadata": {},
   "source": [
    "Создадим функцию, которая на основании данных из столбца `purpose` сформирует новый столбец `purpose_category`, в который войдут следующие категории:\n",
    "* 'операции с автомобилем';\n",
    "* 'операции с недвижимостью';\n",
    "* 'проведение свадьбы';\n",
    "* 'получение образования'."
   ]
  },
  {
   "cell_type": "code",
   "execution_count": null,
   "id": "de9a5d37",
   "metadata": {},
   "outputs": [],
   "source": [
    "def purpose_group(purpose): # функция категоризации по целям кредита\n",
    "    if 'образов' in purpose:\n",
    "        return 'получение образования'\n",
    "    if 'свадьб' in purpose:\n",
    "        return 'проведение свадьбы'\n",
    "    if 'автомобил' in purpose:\n",
    "        return 'операции с автомобилем'\n",
    "    if 'жиль' in purpose:\n",
    "        return 'операции с недвижимостью'\n",
    "    if 'недвиж' in purpose:\n",
    "        return 'операции с недвижимостью'\n",
    "    return 'нет категории'\n",
    "\n",
    "df['purpose_group'] = df['purpose'].apply(purpose_group) # добавление нового столбца с категоризацией по целям кредита\n",
    "df.head() # выведение первых 5 строк таблицы"
   ]
  },
  {
   "cell_type": "code",
   "execution_count": null,
   "id": "2b6634fa",
   "metadata": {},
   "outputs": [],
   "source": [
    "df['purpose_group'].value_counts()"
   ]
  },
  {
   "cell_type": "markdown",
   "id": "d8c02849",
   "metadata": {},
   "source": [
    "Из этих данных видно, что \"львиную долю\" всех кредитов составляют заёмы, связанные с недвижимостью."
   ]
  },
  {
   "cell_type": "markdown",
   "id": "4cacb182",
   "metadata": {},
   "source": [
    "### Ответы на вопросы."
   ]
  },
  {
   "cell_type": "markdown",
   "id": "37babc5f",
   "metadata": {},
   "source": [
    "Ответим на вопросы:\n",
    "* Есть ли зависимость между количеством детей и возвратом кредита в срок?\n",
    "* Есть ли зависимость между семейным положением и возвратом кредита в срок?\n",
    "* Есть ли зависимость между уровнем дохода и возвратом кредита в срок?\n",
    "* Как разные цели кредита влияют на его возврат в срок?"
   ]
  },
  {
   "cell_type": "markdown",
   "id": "8e8502d1",
   "metadata": {},
   "source": [
    "##### Вопрос 1: Есть ли зависимость между количеством детей и возвратом кредита в срок?"
   ]
  },
  {
   "cell_type": "code",
   "execution_count": null,
   "id": "f053f108",
   "metadata": {},
   "outputs": [],
   "source": [
    "def make_proportion(pdSerises): # функция, что посчитает нам отношение в процентах\n",
    "    return str(round((pdSerises.sum() / pdSerises.count()) * 100, 2)) + '%'\n",
    "\n",
    "# построим сводную таблицу для ответа на вопрос\n",
    "data_pivot = df.pivot_table(index=['children'], values=[\"debt\"], aggfunc=['sum', 'count', make_proportion])\n",
    "# сортируем, чтобы сразу видеть у кого ситуация лучше\n",
    "data_pivot = data_pivot.sort_values(by=('make_proportion', 'debt'))\n",
    "data_pivot"
   ]
  },
  {
   "cell_type": "markdown",
   "id": "ddfacc64",
   "metadata": {},
   "source": [
    "**Вывод:**\n",
    "\n",
    "Небольшая зависимость между количеством детей и просрочкой имеется. Заемщик без детей платит по кредиту в срок чаще, чем заемщик с ребенком/детьми. Но если смотреть по семяьм с детьми, то нельзя сказать, большее количество детей ведёт к вероятности просрочки. Семьи с 1 и 2 детьми имеют больший процент просрочек по сравнению с семьями, у которых 3 и 5 детей. Исходя из этого, строгой зависимости задолженности от количества детей не просматривается."
   ]
  },
  {
   "cell_type": "markdown",
   "id": "ef677d2d",
   "metadata": {},
   "source": [
    "##### Вопрос 2: Есть ли зависимость между семейным положением и возвратом кредита в срок?"
   ]
  },
  {
   "cell_type": "code",
   "execution_count": null,
   "id": "18f288fc",
   "metadata": {},
   "outputs": [],
   "source": [
    "# вернём ранее удалённый столбуц family_status\n",
    "df_with_family_status = df.merge(family_status_dict, on='family_status_id', how='left')\n",
    "\n",
    "# построим сводную таблицу \n",
    "data_pivot = df_with_family_status.pivot_table(index=['family_status'], values=[\"debt\"], aggfunc=['sum', 'count', make_proportion])\n",
    "\n",
    "data_pivot = data_pivot.sort_values(by=('make_proportion', 'debt')) # отсортируем значения\n",
    "data_pivot"
   ]
  },
  {
   "cell_type": "markdown",
   "id": "d3541214",
   "metadata": {},
   "source": [
    "**Вывод:**\n",
    "\n",
    "Судя по данным, категории \"вдовец/вдова\" и люди в \"разводе\" показывают наименьший риск просрочки. Самые \"злостные\" должники - \"неженатые\" и состоящие в \"гражданском браке\". Из этого можно сделать вывод, что чем серьезней отношения - тем меньше шанс просрочки."
   ]
  },
  {
   "cell_type": "markdown",
   "id": "4358b180",
   "metadata": {},
   "source": [
    "##### Вопрос 3: Есть ли зависимость между уровнем дохода и возвратом кредита в срок?"
   ]
  },
  {
   "cell_type": "code",
   "execution_count": null,
   "id": "ea8cbbfe",
   "metadata": {},
   "outputs": [],
   "source": [
    "# построим сводную таблицу для ответа на вопрос\n",
    "data_pivot = df.pivot_table(index=['total_income_category'], values=[\"debt\"], aggfunc=['sum', 'count', make_proportion])\n",
    "data_pivot = data_pivot.sort_values(by=('make_proportion', 'debt')) # отсоритируем\n",
    "data_pivot"
   ]
  },
  {
   "cell_type": "markdown",
   "id": "66c774f8",
   "metadata": {},
   "source": [
    "**Вывод:**\n",
    "\n",
    "Люди с высоким уровнем дохода (более 200000) более ответтсвенны и осуществляют платеж по кредиту в срок. Самые дсициплинированые клиенты с доходом от 30000 до 50000. \n",
    "Самые \"опасные\" клиенты - с самым низким уровнем дохода (оно и понятно) и  сдоходом от 50000 до 200000 (это, так сказать, \"СРЕДНИЙ КАЛСС\"). Предполагаю, что задолженность среди \"СРЕДНЕГО КЛАССА\" появляется в следствии завышения людьми показателей реальной заработной платы для получения более крупных кредитов. Из-за этого впоследствии они чаще сталкиваются с проблемами выплаты более крупных сум."
   ]
  },
  {
   "cell_type": "markdown",
   "id": "2c67fccd",
   "metadata": {},
   "source": [
    "##### Вопрос 4: Как разные цели кредита влияют на его возврат в срок?"
   ]
  },
  {
   "cell_type": "code",
   "execution_count": null,
   "id": "f05c549b",
   "metadata": {},
   "outputs": [],
   "source": [
    "# построим сводную таблицу для ответа на вопрос\n",
    "data_pivot = df.pivot_table(index=['purpose_group'], values=[\"debt\"], aggfunc=['sum', 'count', make_proportion])\n",
    "data_pivot = data_pivot.sort_values(by=('make_proportion', 'debt')) # отсортируем для наглядности\n",
    "data_pivot"
   ]
  },
  {
   "cell_type": "markdown",
   "id": "128c8e82",
   "metadata": {},
   "source": [
    "**Вывод:**\n",
    "\n",
    "Самые низкие риски по кредитам, взятым на оперции с недвижимостью. Это может быть связано с процентными ставками - недвижимость обычно приобретается в ипотеку, а ипотека имеет более низкие проценты чем обычный кредит.\n",
    "Далее идут кредиты на свадьбу, как мы уже выяснили люди состоящие в браке в целом чаще выплачивают кредиты.\n",
    "Высокое значение просрочек по кредиту на образование может быть связано с тем, что чаще всего люди берут кредит на образование, чтобы в дальнейшем повысить свой уровень дохода, но во время обучения доход может быть низким.\n",
    "Автомобиль является более рискованной: люди часто не принимают во внимание дополнительные расходы, связанные с эксплуатацией (ТО, непредвиденный ремонт)."
   ]
  },
  {
   "cell_type": "markdown",
   "id": "11ba2f12",
   "metadata": {},
   "source": [
    "## Общий вывод:"
   ]
  },
  {
   "cell_type": "markdown",
   "id": "2db4e9f4",
   "metadata": {},
   "source": [
    "Полученные ответы на предыдущие вопросы помогут сформировать образ идеального клиента:\n",
    "* цель кредита приобретение недвижимости;\n",
    "* состоящий в браке;\n",
    "* без детей;\n",
    "* уровень дохода свыше 20000.\n",
    "\n",
    "Самыми ненадежными плательщиками являются:\n",
    "* заемщики, взявшие кредит на покупку автомобиля или на получение образования;\n",
    "* заемщики, находящиеся в гражданском браке или в статусе \"не женат/не замужем\".\n",
    "\n",
    "Выводы выше не означает, что все кто попадает под вышеопределенные параметры обязательно будут иметь задолженности по кредиту. Выделенные выше категории находятся в зоне риска и к таким заемщикам требуется уделить больше внимания, анализируя заемщика комплексно. "
   ]
  }
 ],
 "metadata": {
  "ExecuteTimeLog": [
   {
    "duration": 515,
    "start_time": "2022-03-05T13:51:37.086Z"
   },
   {
    "duration": 67,
    "start_time": "2022-03-05T14:02:15.104Z"
   },
   {
    "duration": 45,
    "start_time": "2022-03-05T14:02:26.071Z"
   },
   {
    "duration": 51,
    "start_time": "2022-03-05T14:03:29.321Z"
   },
   {
    "duration": 18,
    "start_time": "2022-03-05T14:05:45.636Z"
   },
   {
    "duration": 20,
    "start_time": "2022-03-05T14:20:04.460Z"
   },
   {
    "duration": 20,
    "start_time": "2022-03-05T14:41:46.477Z"
   },
   {
    "duration": 20,
    "start_time": "2022-03-05T14:42:20.801Z"
   },
   {
    "duration": 16,
    "start_time": "2022-03-05T14:42:30.922Z"
   },
   {
    "duration": 61,
    "start_time": "2022-03-05T14:50:29.204Z"
   },
   {
    "duration": 11,
    "start_time": "2022-03-05T14:51:24.650Z"
   },
   {
    "duration": 19,
    "start_time": "2022-03-05T14:51:58.810Z"
   },
   {
    "duration": 12,
    "start_time": "2022-03-05T14:52:13.952Z"
   },
   {
    "duration": 18,
    "start_time": "2022-03-05T16:30:41.347Z"
   },
   {
    "duration": 10,
    "start_time": "2022-03-05T16:30:50.471Z"
   },
   {
    "duration": 19,
    "start_time": "2022-03-05T16:44:58.813Z"
   },
   {
    "duration": 19,
    "start_time": "2022-03-05T16:45:09.401Z"
   },
   {
    "duration": 22,
    "start_time": "2022-03-05T16:45:16.553Z"
   },
   {
    "duration": 12,
    "start_time": "2022-03-05T16:46:08.255Z"
   },
   {
    "duration": 289,
    "start_time": "2022-03-06T11:30:57.299Z"
   },
   {
    "duration": 663,
    "start_time": "2022-03-06T11:31:11.996Z"
   },
   {
    "duration": 69,
    "start_time": "2022-03-06T11:31:12.661Z"
   },
   {
    "duration": 38,
    "start_time": "2022-03-06T11:31:12.733Z"
   },
   {
    "duration": 13,
    "start_time": "2022-03-06T11:31:12.773Z"
   },
   {
    "duration": 5,
    "start_time": "2022-03-06T12:41:48.888Z"
   },
   {
    "duration": 6,
    "start_time": "2022-03-06T12:42:41.681Z"
   },
   {
    "duration": 5,
    "start_time": "2022-03-06T12:47:34.717Z"
   },
   {
    "duration": 12,
    "start_time": "2022-03-06T12:51:28.345Z"
   },
   {
    "duration": 11,
    "start_time": "2022-03-06T12:52:04.098Z"
   },
   {
    "duration": 1456,
    "start_time": "2022-03-06T12:52:52.485Z"
   },
   {
    "duration": 2929,
    "start_time": "2022-03-06T12:52:56.178Z"
   },
   {
    "duration": 2986,
    "start_time": "2022-03-06T12:53:04.202Z"
   },
   {
    "duration": 10,
    "start_time": "2022-03-06T12:53:30.944Z"
   },
   {
    "duration": 10,
    "start_time": "2022-03-06T13:05:37.014Z"
   },
   {
    "duration": 5,
    "start_time": "2022-03-06T13:13:23.448Z"
   },
   {
    "duration": 11,
    "start_time": "2022-03-06T13:19:40.993Z"
   },
   {
    "duration": 78,
    "start_time": "2022-03-06T13:19:58.099Z"
   },
   {
    "duration": 11,
    "start_time": "2022-03-06T13:20:05.582Z"
   },
   {
    "duration": 5,
    "start_time": "2022-03-06T13:20:21.311Z"
   },
   {
    "duration": 79,
    "start_time": "2022-03-06T13:20:36.469Z"
   },
   {
    "duration": 85,
    "start_time": "2022-03-06T13:21:43.609Z"
   },
   {
    "duration": 74,
    "start_time": "2022-03-06T13:21:50.834Z"
   },
   {
    "duration": 4,
    "start_time": "2022-03-06T13:22:57.220Z"
   },
   {
    "duration": 6,
    "start_time": "2022-03-06T13:23:11.936Z"
   },
   {
    "duration": 5,
    "start_time": "2022-03-06T13:23:30.919Z"
   },
   {
    "duration": 6,
    "start_time": "2022-03-06T13:37:37.985Z"
   },
   {
    "duration": 51,
    "start_time": "2022-03-06T13:48:38.405Z"
   },
   {
    "duration": 336,
    "start_time": "2022-03-07T13:27:47.704Z"
   },
   {
    "duration": 747,
    "start_time": "2022-03-07T13:27:56.280Z"
   },
   {
    "duration": 76,
    "start_time": "2022-03-07T13:27:57.030Z"
   },
   {
    "duration": 30,
    "start_time": "2022-03-07T13:27:57.113Z"
   },
   {
    "duration": 13,
    "start_time": "2022-03-07T13:27:57.173Z"
   },
   {
    "duration": 14,
    "start_time": "2022-03-07T13:27:57.188Z"
   },
   {
    "duration": 6580,
    "start_time": "2022-03-07T13:27:57.204Z"
   },
   {
    "duration": 8,
    "start_time": "2022-03-07T13:28:35.751Z"
   },
   {
    "duration": 8,
    "start_time": "2022-03-07T13:28:51.896Z"
   },
   {
    "duration": 7,
    "start_time": "2022-03-07T13:28:56.543Z"
   },
   {
    "duration": 300,
    "start_time": "2022-03-07T13:42:11.416Z"
   },
   {
    "duration": 4,
    "start_time": "2022-03-07T13:42:27.578Z"
   },
   {
    "duration": 5,
    "start_time": "2022-03-07T13:42:35.059Z"
   },
   {
    "duration": 8,
    "start_time": "2022-03-07T13:42:39.177Z"
   },
   {
    "duration": 841,
    "start_time": "2022-03-07T15:21:18.872Z"
   },
   {
    "duration": 828,
    "start_time": "2022-03-07T15:21:27.564Z"
   },
   {
    "duration": 83,
    "start_time": "2022-03-07T15:21:28.395Z"
   },
   {
    "duration": 33,
    "start_time": "2022-03-07T15:21:28.481Z"
   },
   {
    "duration": 31,
    "start_time": "2022-03-07T15:21:28.517Z"
   },
   {
    "duration": 20,
    "start_time": "2022-03-07T15:21:28.550Z"
   },
   {
    "duration": 9,
    "start_time": "2022-03-07T15:21:28.572Z"
   },
   {
    "duration": 4,
    "start_time": "2022-03-07T15:21:28.602Z"
   },
   {
    "duration": 14,
    "start_time": "2022-03-07T15:21:28.608Z"
   },
   {
    "duration": 9,
    "start_time": "2022-03-07T15:21:28.626Z"
   },
   {
    "duration": 20,
    "start_time": "2022-03-07T15:28:51.571Z"
   },
   {
    "duration": 19,
    "start_time": "2022-03-07T15:29:05.615Z"
   },
   {
    "duration": 17,
    "start_time": "2022-03-07T15:29:19.590Z"
   },
   {
    "duration": 5,
    "start_time": "2022-03-07T15:37:39.596Z"
   },
   {
    "duration": 7,
    "start_time": "2022-03-07T15:38:40.871Z"
   },
   {
    "duration": 11,
    "start_time": "2022-03-07T15:47:18.694Z"
   },
   {
    "duration": 29,
    "start_time": "2022-03-07T16:04:54.464Z"
   },
   {
    "duration": 18,
    "start_time": "2022-03-07T16:06:27.961Z"
   },
   {
    "duration": 24,
    "start_time": "2022-03-07T16:22:15.997Z"
   },
   {
    "duration": 13,
    "start_time": "2022-03-07T16:22:35.189Z"
   },
   {
    "duration": 18,
    "start_time": "2022-03-07T16:23:51.835Z"
   },
   {
    "duration": 4,
    "start_time": "2022-03-07T16:24:10.766Z"
   },
   {
    "duration": 62,
    "start_time": "2022-03-07T16:24:10.772Z"
   },
   {
    "duration": 16,
    "start_time": "2022-03-07T16:24:10.837Z"
   },
   {
    "duration": 21,
    "start_time": "2022-03-07T16:24:10.855Z"
   },
   {
    "duration": 29,
    "start_time": "2022-03-07T16:24:10.878Z"
   },
   {
    "duration": 22,
    "start_time": "2022-03-07T16:24:10.909Z"
   },
   {
    "duration": 16,
    "start_time": "2022-03-07T16:24:10.933Z"
   },
   {
    "duration": 9,
    "start_time": "2022-03-07T16:24:10.952Z"
   },
   {
    "duration": 6,
    "start_time": "2022-03-07T16:24:10.964Z"
   },
   {
    "duration": 5,
    "start_time": "2022-03-07T16:24:10.972Z"
   },
   {
    "duration": 31,
    "start_time": "2022-03-07T16:24:10.979Z"
   },
   {
    "duration": 13,
    "start_time": "2022-03-07T16:24:11.012Z"
   },
   {
    "duration": 19,
    "start_time": "2022-03-07T16:24:11.027Z"
   },
   {
    "duration": 53,
    "start_time": "2022-03-07T16:24:11.048Z"
   },
   {
    "duration": 570,
    "start_time": "2022-03-07T16:24:18.543Z"
   },
   {
    "duration": 63,
    "start_time": "2022-03-07T16:24:19.115Z"
   },
   {
    "duration": 22,
    "start_time": "2022-03-07T16:24:19.180Z"
   },
   {
    "duration": 17,
    "start_time": "2022-03-07T16:24:19.205Z"
   },
   {
    "duration": 13,
    "start_time": "2022-03-07T16:24:19.224Z"
   },
   {
    "duration": 5,
    "start_time": "2022-03-07T16:24:19.239Z"
   },
   {
    "duration": 14,
    "start_time": "2022-03-07T16:24:19.245Z"
   },
   {
    "duration": 14,
    "start_time": "2022-03-07T16:24:19.261Z"
   },
   {
    "duration": 31,
    "start_time": "2022-03-07T16:24:19.277Z"
   },
   {
    "duration": 11,
    "start_time": "2022-03-07T16:24:19.310Z"
   },
   {
    "duration": 16,
    "start_time": "2022-03-07T16:24:19.324Z"
   },
   {
    "duration": 16,
    "start_time": "2022-03-07T16:24:19.343Z"
   },
   {
    "duration": 50,
    "start_time": "2022-03-07T16:24:19.362Z"
   },
   {
    "duration": 26,
    "start_time": "2022-03-07T16:24:19.414Z"
   },
   {
    "duration": 19,
    "start_time": "2022-03-07T16:24:19.442Z"
   },
   {
    "duration": 309,
    "start_time": "2022-03-07T16:26:13.437Z"
   },
   {
    "duration": 228,
    "start_time": "2022-03-07T16:28:37.682Z"
   },
   {
    "duration": 281,
    "start_time": "2022-03-07T16:34:20.624Z"
   },
   {
    "duration": 232,
    "start_time": "2022-03-07T16:36:44.936Z"
   },
   {
    "duration": 625,
    "start_time": "2022-03-07T16:36:55.995Z"
   },
   {
    "duration": 58,
    "start_time": "2022-03-07T16:36:56.622Z"
   },
   {
    "duration": 28,
    "start_time": "2022-03-07T16:36:56.682Z"
   },
   {
    "duration": 16,
    "start_time": "2022-03-07T16:36:56.712Z"
   },
   {
    "duration": 21,
    "start_time": "2022-03-07T16:36:56.730Z"
   },
   {
    "duration": 6,
    "start_time": "2022-03-07T16:36:56.753Z"
   },
   {
    "duration": 24,
    "start_time": "2022-03-07T16:36:56.760Z"
   },
   {
    "duration": 16,
    "start_time": "2022-03-07T16:36:56.786Z"
   },
   {
    "duration": 12,
    "start_time": "2022-03-07T16:36:56.805Z"
   },
   {
    "duration": 9,
    "start_time": "2022-03-07T16:36:56.819Z"
   },
   {
    "duration": 23,
    "start_time": "2022-03-07T16:36:56.830Z"
   },
   {
    "duration": 25,
    "start_time": "2022-03-07T16:36:56.855Z"
   },
   {
    "duration": 20,
    "start_time": "2022-03-07T16:36:56.881Z"
   },
   {
    "duration": 18,
    "start_time": "2022-03-07T16:36:56.903Z"
   },
   {
    "duration": 12,
    "start_time": "2022-03-07T16:36:56.923Z"
   },
   {
    "duration": 19,
    "start_time": "2022-03-07T16:39:27.719Z"
   },
   {
    "duration": 14,
    "start_time": "2022-03-07T16:39:38.386Z"
   },
   {
    "duration": 15,
    "start_time": "2022-03-07T16:39:46.132Z"
   },
   {
    "duration": 19,
    "start_time": "2022-03-07T16:39:52.122Z"
   },
   {
    "duration": 9,
    "start_time": "2022-03-07T16:40:15.226Z"
   },
   {
    "duration": 13,
    "start_time": "2022-03-07T16:44:41.592Z"
   },
   {
    "duration": 10,
    "start_time": "2022-03-07T16:44:52.109Z"
   },
   {
    "duration": 9,
    "start_time": "2022-03-07T16:47:38.126Z"
   },
   {
    "duration": 9,
    "start_time": "2022-03-07T16:57:33.923Z"
   },
   {
    "duration": 3,
    "start_time": "2022-03-07T16:57:39.072Z"
   },
   {
    "duration": 57,
    "start_time": "2022-03-07T16:57:39.077Z"
   },
   {
    "duration": 17,
    "start_time": "2022-03-07T16:57:39.136Z"
   },
   {
    "duration": 31,
    "start_time": "2022-03-07T16:57:39.156Z"
   },
   {
    "duration": 19,
    "start_time": "2022-03-07T16:57:39.189Z"
   },
   {
    "duration": 8,
    "start_time": "2022-03-07T16:57:39.210Z"
   },
   {
    "duration": 15,
    "start_time": "2022-03-07T16:57:39.220Z"
   },
   {
    "duration": 11,
    "start_time": "2022-03-07T16:57:39.237Z"
   },
   {
    "duration": 9,
    "start_time": "2022-03-07T16:57:39.250Z"
   },
   {
    "duration": 11,
    "start_time": "2022-03-07T16:57:39.261Z"
   },
   {
    "duration": 16,
    "start_time": "2022-03-07T16:57:39.274Z"
   },
   {
    "duration": 25,
    "start_time": "2022-03-07T16:57:39.292Z"
   },
   {
    "duration": 19,
    "start_time": "2022-03-07T16:57:39.320Z"
   },
   {
    "duration": 17,
    "start_time": "2022-03-07T16:57:39.341Z"
   },
   {
    "duration": 577,
    "start_time": "2022-03-07T16:58:12.124Z"
   },
   {
    "duration": 56,
    "start_time": "2022-03-07T16:58:12.703Z"
   },
   {
    "duration": 21,
    "start_time": "2022-03-07T16:58:12.761Z"
   },
   {
    "duration": 29,
    "start_time": "2022-03-07T16:58:12.784Z"
   },
   {
    "duration": 27,
    "start_time": "2022-03-07T16:58:12.815Z"
   },
   {
    "duration": 25,
    "start_time": "2022-03-07T16:58:12.844Z"
   },
   {
    "duration": 15,
    "start_time": "2022-03-07T16:58:12.871Z"
   },
   {
    "duration": 28,
    "start_time": "2022-03-07T16:58:12.889Z"
   },
   {
    "duration": 31,
    "start_time": "2022-03-07T16:58:12.920Z"
   },
   {
    "duration": 38,
    "start_time": "2022-03-07T16:58:12.952Z"
   },
   {
    "duration": 42,
    "start_time": "2022-03-07T16:58:12.992Z"
   },
   {
    "duration": 37,
    "start_time": "2022-03-07T16:58:13.036Z"
   },
   {
    "duration": 35,
    "start_time": "2022-03-07T16:58:13.076Z"
   },
   {
    "duration": 25,
    "start_time": "2022-03-07T16:58:13.113Z"
   },
   {
    "duration": 11,
    "start_time": "2022-03-07T16:58:13.140Z"
   },
   {
    "duration": 18,
    "start_time": "2022-03-07T16:58:13.153Z"
   },
   {
    "duration": 13,
    "start_time": "2022-03-07T16:58:13.173Z"
   },
   {
    "duration": 13,
    "start_time": "2022-03-07T16:59:10.913Z"
   },
   {
    "duration": 9,
    "start_time": "2022-03-07T16:59:14.954Z"
   },
   {
    "duration": 272,
    "start_time": "2022-03-08T12:02:00.973Z"
   },
   {
    "duration": 620,
    "start_time": "2022-03-08T12:02:09.093Z"
   },
   {
    "duration": 67,
    "start_time": "2022-03-08T12:02:09.715Z"
   },
   {
    "duration": 22,
    "start_time": "2022-03-08T12:02:09.785Z"
   },
   {
    "duration": 22,
    "start_time": "2022-03-08T12:02:09.810Z"
   },
   {
    "duration": 34,
    "start_time": "2022-03-08T12:02:09.834Z"
   },
   {
    "duration": 14,
    "start_time": "2022-03-08T12:02:09.870Z"
   },
   {
    "duration": 13,
    "start_time": "2022-03-08T12:02:09.886Z"
   },
   {
    "duration": 12,
    "start_time": "2022-03-08T12:02:09.902Z"
   },
   {
    "duration": 20,
    "start_time": "2022-03-08T12:02:09.916Z"
   },
   {
    "duration": 16,
    "start_time": "2022-03-08T12:02:09.938Z"
   },
   {
    "duration": 18,
    "start_time": "2022-03-08T12:02:09.956Z"
   },
   {
    "duration": 33,
    "start_time": "2022-03-08T12:02:09.976Z"
   },
   {
    "duration": 21,
    "start_time": "2022-03-08T12:02:10.011Z"
   },
   {
    "duration": 18,
    "start_time": "2022-03-08T12:02:10.034Z"
   },
   {
    "duration": 15,
    "start_time": "2022-03-08T12:02:10.054Z"
   },
   {
    "duration": 33,
    "start_time": "2022-03-08T12:02:10.071Z"
   },
   {
    "duration": 10,
    "start_time": "2022-03-08T12:02:10.107Z"
   },
   {
    "duration": 5,
    "start_time": "2022-03-08T12:02:50.461Z"
   },
   {
    "duration": 7,
    "start_time": "2022-03-08T12:05:11.133Z"
   },
   {
    "duration": 285,
    "start_time": "2022-03-08T12:07:11.294Z"
   },
   {
    "duration": 6,
    "start_time": "2022-03-08T12:07:36.734Z"
   },
   {
    "duration": 9,
    "start_time": "2022-03-08T12:14:11.900Z"
   },
   {
    "duration": 5,
    "start_time": "2022-03-08T12:26:12.407Z"
   },
   {
    "duration": 15,
    "start_time": "2022-03-08T12:27:07.722Z"
   },
   {
    "duration": 12,
    "start_time": "2022-03-08T12:28:32.456Z"
   },
   {
    "duration": 10,
    "start_time": "2022-03-08T12:33:06.586Z"
   },
   {
    "duration": 614,
    "start_time": "2022-03-08T12:36:35.513Z"
   },
   {
    "duration": 64,
    "start_time": "2022-03-08T12:36:36.129Z"
   },
   {
    "duration": 26,
    "start_time": "2022-03-08T12:36:36.196Z"
   },
   {
    "duration": 23,
    "start_time": "2022-03-08T12:36:36.225Z"
   },
   {
    "duration": 23,
    "start_time": "2022-03-08T12:36:36.250Z"
   },
   {
    "duration": 5,
    "start_time": "2022-03-08T12:36:36.275Z"
   },
   {
    "duration": 19,
    "start_time": "2022-03-08T12:36:36.282Z"
   },
   {
    "duration": 8,
    "start_time": "2022-03-08T12:36:36.304Z"
   },
   {
    "duration": 7,
    "start_time": "2022-03-08T12:36:36.315Z"
   },
   {
    "duration": 15,
    "start_time": "2022-03-08T12:36:36.325Z"
   },
   {
    "duration": 15,
    "start_time": "2022-03-08T12:36:36.342Z"
   },
   {
    "duration": 46,
    "start_time": "2022-03-08T12:36:36.359Z"
   },
   {
    "duration": 13,
    "start_time": "2022-03-08T12:36:36.407Z"
   },
   {
    "duration": 11,
    "start_time": "2022-03-08T12:36:36.422Z"
   },
   {
    "duration": 8,
    "start_time": "2022-03-08T12:36:36.435Z"
   },
   {
    "duration": 17,
    "start_time": "2022-03-08T12:36:36.445Z"
   },
   {
    "duration": 51,
    "start_time": "2022-03-08T12:36:36.464Z"
   },
   {
    "duration": 20,
    "start_time": "2022-03-08T12:36:36.517Z"
   },
   {
    "duration": 18,
    "start_time": "2022-03-08T12:36:36.539Z"
   },
   {
    "duration": 10,
    "start_time": "2022-03-08T12:38:49.257Z"
   },
   {
    "duration": 316,
    "start_time": "2022-03-08T12:46:33.545Z"
   },
   {
    "duration": 36,
    "start_time": "2022-03-08T13:03:06.642Z"
   },
   {
    "duration": 4,
    "start_time": "2022-03-08T13:28:46.965Z"
   },
   {
    "duration": 14,
    "start_time": "2022-03-08T13:28:49.088Z"
   },
   {
    "duration": 603,
    "start_time": "2022-03-08T13:28:58.451Z"
   },
   {
    "duration": 55,
    "start_time": "2022-03-08T13:28:59.057Z"
   },
   {
    "duration": 22,
    "start_time": "2022-03-08T13:28:59.115Z"
   },
   {
    "duration": 14,
    "start_time": "2022-03-08T13:28:59.140Z"
   },
   {
    "duration": 15,
    "start_time": "2022-03-08T13:28:59.156Z"
   },
   {
    "duration": 30,
    "start_time": "2022-03-08T13:28:59.173Z"
   },
   {
    "duration": 19,
    "start_time": "2022-03-08T13:28:59.205Z"
   },
   {
    "duration": 20,
    "start_time": "2022-03-08T13:28:59.227Z"
   },
   {
    "duration": 19,
    "start_time": "2022-03-08T13:28:59.249Z"
   },
   {
    "duration": 11,
    "start_time": "2022-03-08T13:28:59.270Z"
   },
   {
    "duration": 28,
    "start_time": "2022-03-08T13:28:59.283Z"
   },
   {
    "duration": 25,
    "start_time": "2022-03-08T13:28:59.312Z"
   },
   {
    "duration": 20,
    "start_time": "2022-03-08T13:28:59.339Z"
   },
   {
    "duration": 16,
    "start_time": "2022-03-08T13:28:59.361Z"
   },
   {
    "duration": 21,
    "start_time": "2022-03-08T13:28:59.380Z"
   },
   {
    "duration": 28,
    "start_time": "2022-03-08T13:28:59.402Z"
   },
   {
    "duration": 20,
    "start_time": "2022-03-08T13:28:59.432Z"
   },
   {
    "duration": 20,
    "start_time": "2022-03-08T13:28:59.454Z"
   },
   {
    "duration": 26,
    "start_time": "2022-03-08T13:28:59.476Z"
   },
   {
    "duration": 14,
    "start_time": "2022-03-08T13:37:42.261Z"
   },
   {
    "duration": 10,
    "start_time": "2022-03-08T13:37:54.717Z"
   },
   {
    "duration": 6,
    "start_time": "2022-03-08T13:38:05.684Z"
   },
   {
    "duration": 8,
    "start_time": "2022-03-08T13:39:19.653Z"
   },
   {
    "duration": 5886,
    "start_time": "2022-03-08T13:48:55.775Z"
   },
   {
    "duration": 616,
    "start_time": "2022-03-08T13:49:22.760Z"
   },
   {
    "duration": 61,
    "start_time": "2022-03-08T13:49:23.378Z"
   },
   {
    "duration": 22,
    "start_time": "2022-03-08T13:49:23.441Z"
   },
   {
    "duration": 37,
    "start_time": "2022-03-08T13:49:23.466Z"
   },
   {
    "duration": 12,
    "start_time": "2022-03-08T13:49:23.505Z"
   },
   {
    "duration": 4,
    "start_time": "2022-03-08T13:49:23.519Z"
   },
   {
    "duration": 6,
    "start_time": "2022-03-08T13:49:23.525Z"
   },
   {
    "duration": 11,
    "start_time": "2022-03-08T13:49:23.534Z"
   },
   {
    "duration": 8,
    "start_time": "2022-03-08T13:49:23.547Z"
   },
   {
    "duration": 44,
    "start_time": "2022-03-08T13:49:23.557Z"
   },
   {
    "duration": 13,
    "start_time": "2022-03-08T13:49:23.603Z"
   },
   {
    "duration": 16,
    "start_time": "2022-03-08T13:49:23.618Z"
   },
   {
    "duration": 13,
    "start_time": "2022-03-08T13:49:23.636Z"
   },
   {
    "duration": 10,
    "start_time": "2022-03-08T13:49:23.651Z"
   },
   {
    "duration": 5653,
    "start_time": "2022-03-08T13:49:23.662Z"
   },
   {
    "duration": -7940,
    "start_time": "2022-03-08T13:49:37.257Z"
   },
   {
    "duration": -7943,
    "start_time": "2022-03-08T13:49:37.261Z"
   },
   {
    "duration": -7949,
    "start_time": "2022-03-08T13:49:37.268Z"
   },
   {
    "duration": -7954,
    "start_time": "2022-03-08T13:49:37.274Z"
   },
   {
    "duration": -7962,
    "start_time": "2022-03-08T13:49:37.283Z"
   },
   {
    "duration": -7967,
    "start_time": "2022-03-08T13:49:37.289Z"
   },
   {
    "duration": 6,
    "start_time": "2022-03-08T13:51:06.707Z"
   },
   {
    "duration": 6,
    "start_time": "2022-03-08T13:51:33.356Z"
   },
   {
    "duration": 4,
    "start_time": "2022-03-08T13:53:45.781Z"
   },
   {
    "duration": 5,
    "start_time": "2022-03-08T13:54:02.335Z"
   },
   {
    "duration": 5,
    "start_time": "2022-03-08T13:59:22.466Z"
   },
   {
    "duration": 5,
    "start_time": "2022-03-08T13:59:24.485Z"
   },
   {
    "duration": 8,
    "start_time": "2022-03-08T13:59:35.126Z"
   },
   {
    "duration": 9,
    "start_time": "2022-03-08T14:02:19.890Z"
   },
   {
    "duration": 14,
    "start_time": "2022-03-08T14:04:07.008Z"
   },
   {
    "duration": 9,
    "start_time": "2022-03-08T14:04:42.447Z"
   },
   {
    "duration": 592,
    "start_time": "2022-03-08T15:34:48.412Z"
   },
   {
    "duration": 68,
    "start_time": "2022-03-08T15:34:49.006Z"
   },
   {
    "duration": 18,
    "start_time": "2022-03-08T15:34:49.076Z"
   },
   {
    "duration": 12,
    "start_time": "2022-03-08T15:34:49.095Z"
   },
   {
    "duration": 9,
    "start_time": "2022-03-08T15:34:49.108Z"
   },
   {
    "duration": 3,
    "start_time": "2022-03-08T15:34:49.119Z"
   },
   {
    "duration": 4,
    "start_time": "2022-03-08T15:34:49.125Z"
   },
   {
    "duration": 5,
    "start_time": "2022-03-08T15:34:49.131Z"
   },
   {
    "duration": 5,
    "start_time": "2022-03-08T15:34:49.137Z"
   },
   {
    "duration": 7,
    "start_time": "2022-03-08T15:34:49.143Z"
   },
   {
    "duration": 13,
    "start_time": "2022-03-08T15:34:49.151Z"
   },
   {
    "duration": 11,
    "start_time": "2022-03-08T15:34:49.201Z"
   },
   {
    "duration": 12,
    "start_time": "2022-03-08T15:34:49.213Z"
   },
   {
    "duration": 7,
    "start_time": "2022-03-08T15:34:49.227Z"
   },
   {
    "duration": 13,
    "start_time": "2022-03-08T15:34:49.236Z"
   },
   {
    "duration": 53,
    "start_time": "2022-03-08T15:34:49.251Z"
   },
   {
    "duration": 8,
    "start_time": "2022-03-08T15:34:49.306Z"
   },
   {
    "duration": 7,
    "start_time": "2022-03-08T15:34:49.316Z"
   },
   {
    "duration": 8,
    "start_time": "2022-03-08T15:34:49.324Z"
   },
   {
    "duration": 9,
    "start_time": "2022-03-08T15:34:49.333Z"
   },
   {
    "duration": 372,
    "start_time": "2022-03-08T15:34:49.343Z"
   },
   {
    "duration": 2692,
    "start_time": "2022-03-08T15:34:47.025Z"
   },
   {
    "duration": 2691,
    "start_time": "2022-03-08T15:34:47.027Z"
   },
   {
    "duration": 2691,
    "start_time": "2022-03-08T15:34:47.028Z"
   },
   {
    "duration": 2690,
    "start_time": "2022-03-08T15:34:47.031Z"
   },
   {
    "duration": 2690,
    "start_time": "2022-03-08T15:34:47.032Z"
   },
   {
    "duration": 2689,
    "start_time": "2022-03-08T15:34:47.034Z"
   },
   {
    "duration": 2690,
    "start_time": "2022-03-08T15:34:47.035Z"
   },
   {
    "duration": 5,
    "start_time": "2022-03-08T15:38:19.333Z"
   },
   {
    "duration": 7,
    "start_time": "2022-03-08T15:38:32.103Z"
   },
   {
    "duration": 101,
    "start_time": "2022-03-08T15:46:16.039Z"
   },
   {
    "duration": 4,
    "start_time": "2022-03-08T15:46:44.059Z"
   },
   {
    "duration": 4,
    "start_time": "2022-03-08T15:46:46.232Z"
   },
   {
    "duration": 6,
    "start_time": "2022-03-08T15:47:30.265Z"
   },
   {
    "duration": 28,
    "start_time": "2022-03-08T15:57:11.924Z"
   },
   {
    "duration": 575,
    "start_time": "2022-03-08T15:57:54.805Z"
   },
   {
    "duration": 54,
    "start_time": "2022-03-08T15:57:55.382Z"
   },
   {
    "duration": 18,
    "start_time": "2022-03-08T15:57:55.438Z"
   },
   {
    "duration": 12,
    "start_time": "2022-03-08T15:57:55.458Z"
   },
   {
    "duration": 10,
    "start_time": "2022-03-08T15:57:55.471Z"
   },
   {
    "duration": 20,
    "start_time": "2022-03-08T15:57:55.483Z"
   },
   {
    "duration": 5,
    "start_time": "2022-03-08T15:57:55.504Z"
   },
   {
    "duration": 8,
    "start_time": "2022-03-08T15:57:55.510Z"
   },
   {
    "duration": 4,
    "start_time": "2022-03-08T15:57:55.520Z"
   },
   {
    "duration": 5,
    "start_time": "2022-03-08T15:57:55.526Z"
   },
   {
    "duration": 12,
    "start_time": "2022-03-08T15:57:55.532Z"
   },
   {
    "duration": 28,
    "start_time": "2022-03-08T15:57:55.546Z"
   },
   {
    "duration": 26,
    "start_time": "2022-03-08T15:57:55.576Z"
   },
   {
    "duration": 10,
    "start_time": "2022-03-08T15:57:55.603Z"
   },
   {
    "duration": 11,
    "start_time": "2022-03-08T15:57:55.614Z"
   },
   {
    "duration": 9,
    "start_time": "2022-03-08T15:57:55.626Z"
   },
   {
    "duration": 14,
    "start_time": "2022-03-08T15:57:55.637Z"
   },
   {
    "duration": 7,
    "start_time": "2022-03-08T15:57:55.653Z"
   },
   {
    "duration": 13,
    "start_time": "2022-03-08T15:57:55.662Z"
   },
   {
    "duration": 8,
    "start_time": "2022-03-08T15:57:55.676Z"
   },
   {
    "duration": 6,
    "start_time": "2022-03-08T15:57:55.685Z"
   },
   {
    "duration": 9,
    "start_time": "2022-03-08T15:57:55.701Z"
   },
   {
    "duration": 10,
    "start_time": "2022-03-08T15:57:55.712Z"
   },
   {
    "duration": 339,
    "start_time": "2022-03-08T15:57:55.723Z"
   },
   {
    "duration": 2805,
    "start_time": "2022-03-08T15:57:53.259Z"
   },
   {
    "duration": 2803,
    "start_time": "2022-03-08T15:57:53.262Z"
   },
   {
    "duration": 2801,
    "start_time": "2022-03-08T15:57:53.265Z"
   },
   {
    "duration": 2786,
    "start_time": "2022-03-08T15:57:53.281Z"
   },
   {
    "duration": 2786,
    "start_time": "2022-03-08T15:57:53.283Z"
   },
   {
    "duration": 2785,
    "start_time": "2022-03-08T15:57:53.285Z"
   },
   {
    "duration": 2784,
    "start_time": "2022-03-08T15:57:53.286Z"
   },
   {
    "duration": 13,
    "start_time": "2022-03-08T16:07:55.822Z"
   },
   {
    "duration": 7,
    "start_time": "2022-03-08T16:09:10.121Z"
   },
   {
    "duration": 310,
    "start_time": "2022-03-08T16:10:03.597Z"
   },
   {
    "duration": 6,
    "start_time": "2022-03-08T16:10:09.629Z"
   },
   {
    "duration": 283,
    "start_time": "2022-03-08T16:10:39.215Z"
   },
   {
    "duration": 7,
    "start_time": "2022-03-08T16:10:48.677Z"
   },
   {
    "duration": 5,
    "start_time": "2022-03-08T16:15:52.428Z"
   },
   {
    "duration": 529,
    "start_time": "2022-03-08T16:18:04.046Z"
   },
   {
    "duration": 54,
    "start_time": "2022-03-08T16:18:04.576Z"
   },
   {
    "duration": 16,
    "start_time": "2022-03-08T16:18:04.633Z"
   },
   {
    "duration": 12,
    "start_time": "2022-03-08T16:18:04.651Z"
   },
   {
    "duration": 9,
    "start_time": "2022-03-08T16:18:04.664Z"
   },
   {
    "duration": 2,
    "start_time": "2022-03-08T16:18:04.675Z"
   },
   {
    "duration": 23,
    "start_time": "2022-03-08T16:18:04.679Z"
   },
   {
    "duration": 5,
    "start_time": "2022-03-08T16:18:04.704Z"
   },
   {
    "duration": 5,
    "start_time": "2022-03-08T16:18:04.711Z"
   },
   {
    "duration": 6,
    "start_time": "2022-03-08T16:18:04.717Z"
   },
   {
    "duration": 13,
    "start_time": "2022-03-08T16:18:04.724Z"
   },
   {
    "duration": 26,
    "start_time": "2022-03-08T16:18:04.739Z"
   },
   {
    "duration": 4,
    "start_time": "2022-03-08T16:18:04.767Z"
   },
   {
    "duration": 28,
    "start_time": "2022-03-08T16:18:04.773Z"
   },
   {
    "duration": 3,
    "start_time": "2022-03-08T16:18:04.803Z"
   },
   {
    "duration": 7,
    "start_time": "2022-03-08T16:18:04.807Z"
   },
   {
    "duration": 15,
    "start_time": "2022-03-08T16:18:04.815Z"
   },
   {
    "duration": 5,
    "start_time": "2022-03-08T16:18:04.831Z"
   },
   {
    "duration": 19,
    "start_time": "2022-03-08T16:18:04.837Z"
   },
   {
    "duration": 13,
    "start_time": "2022-03-08T16:18:04.858Z"
   },
   {
    "duration": 13,
    "start_time": "2022-03-08T16:18:04.873Z"
   },
   {
    "duration": 24,
    "start_time": "2022-03-08T16:18:04.888Z"
   },
   {
    "duration": 6,
    "start_time": "2022-03-08T16:18:04.914Z"
   },
   {
    "duration": 13,
    "start_time": "2022-03-08T16:18:04.922Z"
   },
   {
    "duration": 8,
    "start_time": "2022-03-08T16:18:04.936Z"
   },
   {
    "duration": 14,
    "start_time": "2022-03-08T16:18:04.945Z"
   },
   {
    "duration": 13,
    "start_time": "2022-03-08T16:18:04.962Z"
   },
   {
    "duration": 32,
    "start_time": "2022-03-08T16:18:04.977Z"
   },
   {
    "duration": 14,
    "start_time": "2022-03-08T16:18:05.010Z"
   },
   {
    "duration": 6,
    "start_time": "2022-03-08T16:18:05.026Z"
   },
   {
    "duration": 10,
    "start_time": "2022-03-08T16:20:37.682Z"
   },
   {
    "duration": 10,
    "start_time": "2022-03-08T16:25:55.425Z"
   },
   {
    "duration": 8,
    "start_time": "2022-03-08T16:25:58.753Z"
   },
   {
    "duration": 7,
    "start_time": "2022-03-08T16:26:00.808Z"
   },
   {
    "duration": 11,
    "start_time": "2022-03-08T16:26:04.389Z"
   },
   {
    "duration": 5,
    "start_time": "2022-03-08T16:26:06.350Z"
   },
   {
    "duration": 586,
    "start_time": "2022-03-08T16:26:11.591Z"
   },
   {
    "duration": 55,
    "start_time": "2022-03-08T16:26:12.179Z"
   },
   {
    "duration": 16,
    "start_time": "2022-03-08T16:26:12.236Z"
   },
   {
    "duration": 17,
    "start_time": "2022-03-08T16:26:12.254Z"
   },
   {
    "duration": 20,
    "start_time": "2022-03-08T16:26:12.272Z"
   },
   {
    "duration": 10,
    "start_time": "2022-03-08T16:26:12.294Z"
   },
   {
    "duration": 22,
    "start_time": "2022-03-08T16:26:12.305Z"
   },
   {
    "duration": 16,
    "start_time": "2022-03-08T16:26:12.328Z"
   },
   {
    "duration": 13,
    "start_time": "2022-03-08T16:26:12.347Z"
   },
   {
    "duration": 25,
    "start_time": "2022-03-08T16:26:12.362Z"
   },
   {
    "duration": 13,
    "start_time": "2022-03-08T16:26:12.388Z"
   },
   {
    "duration": 31,
    "start_time": "2022-03-08T16:26:12.402Z"
   },
   {
    "duration": 5,
    "start_time": "2022-03-08T16:26:12.435Z"
   },
   {
    "duration": 6,
    "start_time": "2022-03-08T16:26:12.441Z"
   },
   {
    "duration": 10,
    "start_time": "2022-03-08T16:26:12.448Z"
   },
   {
    "duration": 13,
    "start_time": "2022-03-08T16:26:12.460Z"
   },
   {
    "duration": 16,
    "start_time": "2022-03-08T16:26:12.474Z"
   },
   {
    "duration": 14,
    "start_time": "2022-03-08T16:26:12.491Z"
   },
   {
    "duration": 18,
    "start_time": "2022-03-08T16:26:12.507Z"
   },
   {
    "duration": 12,
    "start_time": "2022-03-08T16:26:12.526Z"
   },
   {
    "duration": 11,
    "start_time": "2022-03-08T16:26:12.540Z"
   },
   {
    "duration": 15,
    "start_time": "2022-03-08T16:26:12.553Z"
   },
   {
    "duration": 11,
    "start_time": "2022-03-08T16:26:12.570Z"
   },
   {
    "duration": 13,
    "start_time": "2022-03-08T16:26:12.583Z"
   },
   {
    "duration": 4,
    "start_time": "2022-03-08T16:26:12.601Z"
   },
   {
    "duration": 14,
    "start_time": "2022-03-08T16:26:12.606Z"
   },
   {
    "duration": 13,
    "start_time": "2022-03-08T16:26:12.623Z"
   },
   {
    "duration": 15,
    "start_time": "2022-03-08T16:26:12.637Z"
   },
   {
    "duration": 12,
    "start_time": "2022-03-08T16:26:12.654Z"
   },
   {
    "duration": 34,
    "start_time": "2022-03-08T16:26:12.667Z"
   },
   {
    "duration": 269,
    "start_time": "2022-03-09T11:51:36.014Z"
   },
   {
    "duration": 627,
    "start_time": "2022-03-09T11:51:42.963Z"
   },
   {
    "duration": 56,
    "start_time": "2022-03-09T11:51:43.592Z"
   },
   {
    "duration": 24,
    "start_time": "2022-03-09T11:51:43.650Z"
   },
   {
    "duration": 33,
    "start_time": "2022-03-09T11:51:43.676Z"
   },
   {
    "duration": 16,
    "start_time": "2022-03-09T11:51:43.711Z"
   },
   {
    "duration": 5,
    "start_time": "2022-03-09T11:51:43.730Z"
   },
   {
    "duration": 8,
    "start_time": "2022-03-09T11:51:43.737Z"
   },
   {
    "duration": 15,
    "start_time": "2022-03-09T11:51:43.748Z"
   },
   {
    "duration": 6,
    "start_time": "2022-03-09T11:51:43.801Z"
   },
   {
    "duration": 6,
    "start_time": "2022-03-09T11:51:43.809Z"
   },
   {
    "duration": 13,
    "start_time": "2022-03-09T11:51:43.817Z"
   },
   {
    "duration": 38,
    "start_time": "2022-03-09T11:51:43.832Z"
   },
   {
    "duration": 35,
    "start_time": "2022-03-09T11:51:43.871Z"
   },
   {
    "duration": 13,
    "start_time": "2022-03-09T11:51:43.909Z"
   },
   {
    "duration": 5,
    "start_time": "2022-03-09T11:51:43.924Z"
   },
   {
    "duration": 6,
    "start_time": "2022-03-09T11:51:43.931Z"
   },
   {
    "duration": 13,
    "start_time": "2022-03-09T11:51:43.939Z"
   },
   {
    "duration": 53,
    "start_time": "2022-03-09T11:51:43.953Z"
   },
   {
    "duration": 6,
    "start_time": "2022-03-09T11:51:44.008Z"
   },
   {
    "duration": 18,
    "start_time": "2022-03-09T11:51:44.015Z"
   },
   {
    "duration": 15,
    "start_time": "2022-03-09T11:51:44.035Z"
   },
   {
    "duration": 14,
    "start_time": "2022-03-09T11:51:44.052Z"
   },
   {
    "duration": 45,
    "start_time": "2022-03-09T11:51:44.070Z"
   },
   {
    "duration": 11,
    "start_time": "2022-03-09T11:51:44.117Z"
   },
   {
    "duration": 13,
    "start_time": "2022-03-09T11:51:44.130Z"
   },
   {
    "duration": 8,
    "start_time": "2022-03-09T11:51:44.146Z"
   },
   {
    "duration": 15,
    "start_time": "2022-03-09T11:51:44.156Z"
   },
   {
    "duration": 15,
    "start_time": "2022-03-09T11:51:44.202Z"
   },
   {
    "duration": 19,
    "start_time": "2022-03-09T11:51:44.219Z"
   },
   {
    "duration": 18,
    "start_time": "2022-03-09T11:51:44.239Z"
   },
   {
    "duration": 11,
    "start_time": "2022-03-09T11:52:14.900Z"
   },
   {
    "duration": 22,
    "start_time": "2022-03-09T11:56:37.239Z"
   },
   {
    "duration": 38,
    "start_time": "2022-03-09T11:56:58.452Z"
   },
   {
    "duration": 31,
    "start_time": "2022-03-09T11:57:18.727Z"
   },
   {
    "duration": 4,
    "start_time": "2022-03-09T11:58:25.909Z"
   },
   {
    "duration": 5,
    "start_time": "2022-03-09T11:58:28.340Z"
   },
   {
    "duration": 6,
    "start_time": "2022-03-09T11:58:31.764Z"
   },
   {
    "duration": 11,
    "start_time": "2022-03-09T11:59:01.571Z"
   },
   {
    "duration": 17,
    "start_time": "2022-03-09T12:00:11.765Z"
   },
   {
    "duration": 11,
    "start_time": "2022-03-09T13:01:36.800Z"
   },
   {
    "duration": 17,
    "start_time": "2022-03-09T13:11:53.273Z"
   },
   {
    "duration": 7,
    "start_time": "2022-03-09T13:11:55.842Z"
   },
   {
    "duration": 10,
    "start_time": "2022-03-09T13:24:27.066Z"
   },
   {
    "duration": 5,
    "start_time": "2022-03-09T13:24:34.889Z"
   },
   {
    "duration": 7,
    "start_time": "2022-03-09T13:24:37.121Z"
   },
   {
    "duration": 4,
    "start_time": "2022-03-09T13:25:56.555Z"
   },
   {
    "duration": 675,
    "start_time": "2022-03-09T13:26:12.710Z"
   },
   {
    "duration": 71,
    "start_time": "2022-03-09T13:26:13.388Z"
   },
   {
    "duration": 45,
    "start_time": "2022-03-09T13:26:13.465Z"
   },
   {
    "duration": 22,
    "start_time": "2022-03-09T13:26:13.512Z"
   },
   {
    "duration": 25,
    "start_time": "2022-03-09T13:26:13.537Z"
   },
   {
    "duration": 27,
    "start_time": "2022-03-09T13:26:13.564Z"
   },
   {
    "duration": 59,
    "start_time": "2022-03-09T13:26:13.593Z"
   },
   {
    "duration": 9,
    "start_time": "2022-03-09T13:26:13.655Z"
   },
   {
    "duration": 7,
    "start_time": "2022-03-09T13:26:13.666Z"
   },
   {
    "duration": 6,
    "start_time": "2022-03-09T13:26:13.675Z"
   },
   {
    "duration": 12,
    "start_time": "2022-03-09T13:26:13.683Z"
   },
   {
    "duration": 38,
    "start_time": "2022-03-09T13:26:13.697Z"
   },
   {
    "duration": 8,
    "start_time": "2022-03-09T13:26:13.738Z"
   },
   {
    "duration": 8,
    "start_time": "2022-03-09T13:26:13.748Z"
   },
   {
    "duration": 11,
    "start_time": "2022-03-09T13:26:13.757Z"
   },
   {
    "duration": 31,
    "start_time": "2022-03-09T13:26:13.770Z"
   },
   {
    "duration": 77,
    "start_time": "2022-03-09T13:26:13.803Z"
   },
   {
    "duration": -8472,
    "start_time": "2022-03-09T13:26:22.354Z"
   },
   {
    "duration": -8475,
    "start_time": "2022-03-09T13:26:22.358Z"
   },
   {
    "duration": -8478,
    "start_time": "2022-03-09T13:26:22.362Z"
   },
   {
    "duration": -8484,
    "start_time": "2022-03-09T13:26:22.369Z"
   },
   {
    "duration": -8487,
    "start_time": "2022-03-09T13:26:22.373Z"
   },
   {
    "duration": -8490,
    "start_time": "2022-03-09T13:26:22.377Z"
   },
   {
    "duration": -8494,
    "start_time": "2022-03-09T13:26:22.382Z"
   },
   {
    "duration": -8497,
    "start_time": "2022-03-09T13:26:22.386Z"
   },
   {
    "duration": -8502,
    "start_time": "2022-03-09T13:26:22.391Z"
   },
   {
    "duration": -8548,
    "start_time": "2022-03-09T13:26:22.438Z"
   },
   {
    "duration": -8556,
    "start_time": "2022-03-09T13:26:22.447Z"
   },
   {
    "duration": -8561,
    "start_time": "2022-03-09T13:26:22.453Z"
   },
   {
    "duration": -8564,
    "start_time": "2022-03-09T13:26:22.457Z"
   },
   {
    "duration": -8567,
    "start_time": "2022-03-09T13:26:22.461Z"
   },
   {
    "duration": 21,
    "start_time": "2022-03-09T13:27:04.133Z"
   },
   {
    "duration": 15,
    "start_time": "2022-03-09T13:28:00.725Z"
   },
   {
    "duration": 8,
    "start_time": "2022-03-09T13:28:06.488Z"
   },
   {
    "duration": 7,
    "start_time": "2022-03-09T13:28:10.367Z"
   },
   {
    "duration": 6,
    "start_time": "2022-03-09T13:28:14.157Z"
   },
   {
    "duration": 5,
    "start_time": "2022-03-09T13:28:19.431Z"
   },
   {
    "duration": 697,
    "start_time": "2022-03-09T13:29:00.584Z"
   },
   {
    "duration": 59,
    "start_time": "2022-03-09T13:29:01.284Z"
   },
   {
    "duration": 27,
    "start_time": "2022-03-09T13:29:01.347Z"
   },
   {
    "duration": 47,
    "start_time": "2022-03-09T13:29:01.376Z"
   },
   {
    "duration": 40,
    "start_time": "2022-03-09T13:29:01.425Z"
   },
   {
    "duration": 31,
    "start_time": "2022-03-09T13:29:01.467Z"
   },
   {
    "duration": 25,
    "start_time": "2022-03-09T13:29:01.501Z"
   },
   {
    "duration": 27,
    "start_time": "2022-03-09T13:29:01.530Z"
   },
   {
    "duration": 23,
    "start_time": "2022-03-09T13:29:01.560Z"
   },
   {
    "duration": 15,
    "start_time": "2022-03-09T13:29:01.586Z"
   },
   {
    "duration": 25,
    "start_time": "2022-03-09T13:29:01.604Z"
   },
   {
    "duration": 50,
    "start_time": "2022-03-09T13:29:01.631Z"
   },
   {
    "duration": 7,
    "start_time": "2022-03-09T13:29:01.682Z"
   },
   {
    "duration": 53,
    "start_time": "2022-03-09T13:29:01.691Z"
   },
   {
    "duration": 17,
    "start_time": "2022-03-09T13:29:01.746Z"
   },
   {
    "duration": 22,
    "start_time": "2022-03-09T13:29:01.765Z"
   },
   {
    "duration": 32,
    "start_time": "2022-03-09T13:29:01.790Z"
   },
   {
    "duration": 12,
    "start_time": "2022-03-09T13:29:01.825Z"
   },
   {
    "duration": 27,
    "start_time": "2022-03-09T13:29:01.840Z"
   },
   {
    "duration": 29,
    "start_time": "2022-03-09T13:29:01.870Z"
   },
   {
    "duration": 45,
    "start_time": "2022-03-09T13:29:01.902Z"
   },
   {
    "duration": 62,
    "start_time": "2022-03-09T13:29:01.949Z"
   },
   {
    "duration": 20,
    "start_time": "2022-03-09T13:29:02.015Z"
   },
   {
    "duration": 20,
    "start_time": "2022-03-09T13:29:02.038Z"
   },
   {
    "duration": 22,
    "start_time": "2022-03-09T13:29:02.061Z"
   },
   {
    "duration": 40,
    "start_time": "2022-03-09T13:29:02.085Z"
   },
   {
    "duration": 16,
    "start_time": "2022-03-09T13:29:02.127Z"
   },
   {
    "duration": 35,
    "start_time": "2022-03-09T13:29:02.146Z"
   },
   {
    "duration": 17,
    "start_time": "2022-03-09T13:29:02.183Z"
   },
   {
    "duration": 27,
    "start_time": "2022-03-09T13:29:02.203Z"
   },
   {
    "duration": 56,
    "start_time": "2022-03-09T13:29:02.233Z"
   },
   {
    "duration": 11,
    "start_time": "2022-03-09T13:29:16.556Z"
   },
   {
    "duration": 10,
    "start_time": "2022-03-09T13:29:22.314Z"
   },
   {
    "duration": 14,
    "start_time": "2022-03-09T13:29:30.017Z"
   },
   {
    "duration": 11,
    "start_time": "2022-03-09T13:29:32.224Z"
   },
   {
    "duration": 8,
    "start_time": "2022-03-09T13:30:57.258Z"
   },
   {
    "duration": 15,
    "start_time": "2022-03-09T13:31:02.737Z"
   },
   {
    "duration": 9,
    "start_time": "2022-03-09T13:31:05.458Z"
   },
   {
    "duration": 646,
    "start_time": "2022-03-09T13:31:11.572Z"
   },
   {
    "duration": 65,
    "start_time": "2022-03-09T13:31:12.220Z"
   },
   {
    "duration": 24,
    "start_time": "2022-03-09T13:31:12.306Z"
   },
   {
    "duration": 15,
    "start_time": "2022-03-09T13:31:12.332Z"
   },
   {
    "duration": 14,
    "start_time": "2022-03-09T13:31:12.350Z"
   },
   {
    "duration": 4,
    "start_time": "2022-03-09T13:31:12.403Z"
   },
   {
    "duration": 8,
    "start_time": "2022-03-09T13:31:12.409Z"
   },
   {
    "duration": 15,
    "start_time": "2022-03-09T13:31:12.419Z"
   },
   {
    "duration": 11,
    "start_time": "2022-03-09T13:31:12.437Z"
   },
   {
    "duration": 10,
    "start_time": "2022-03-09T13:31:12.450Z"
   },
   {
    "duration": 43,
    "start_time": "2022-03-09T13:31:12.462Z"
   },
   {
    "duration": 44,
    "start_time": "2022-03-09T13:31:12.508Z"
   },
   {
    "duration": 6,
    "start_time": "2022-03-09T13:31:12.554Z"
   },
   {
    "duration": 9,
    "start_time": "2022-03-09T13:31:12.562Z"
   },
   {
    "duration": 31,
    "start_time": "2022-03-09T13:31:12.573Z"
   },
   {
    "duration": 15,
    "start_time": "2022-03-09T13:31:12.605Z"
   },
   {
    "duration": 16,
    "start_time": "2022-03-09T13:31:12.622Z"
   },
   {
    "duration": 7,
    "start_time": "2022-03-09T13:31:12.640Z"
   },
   {
    "duration": 51,
    "start_time": "2022-03-09T13:31:12.650Z"
   },
   {
    "duration": 15,
    "start_time": "2022-03-09T13:31:12.703Z"
   },
   {
    "duration": 10,
    "start_time": "2022-03-09T13:31:12.723Z"
   },
   {
    "duration": 19,
    "start_time": "2022-03-09T13:31:12.736Z"
   },
   {
    "duration": 12,
    "start_time": "2022-03-09T13:31:12.756Z"
   },
   {
    "duration": 39,
    "start_time": "2022-03-09T13:31:12.770Z"
   },
   {
    "duration": 16,
    "start_time": "2022-03-09T13:31:12.811Z"
   },
   {
    "duration": 10,
    "start_time": "2022-03-09T13:31:12.830Z"
   },
   {
    "duration": 8,
    "start_time": "2022-03-09T13:31:12.842Z"
   },
   {
    "duration": 17,
    "start_time": "2022-03-09T13:31:12.853Z"
   },
   {
    "duration": 22,
    "start_time": "2022-03-09T13:31:12.902Z"
   },
   {
    "duration": 27,
    "start_time": "2022-03-09T13:31:12.926Z"
   },
   {
    "duration": 49,
    "start_time": "2022-03-09T13:31:12.955Z"
   },
   {
    "duration": 12,
    "start_time": "2022-03-09T13:31:56.573Z"
   },
   {
    "duration": 14,
    "start_time": "2022-03-09T13:31:59.341Z"
   },
   {
    "duration": 6,
    "start_time": "2022-03-09T13:35:05.169Z"
   },
   {
    "duration": 617,
    "start_time": "2022-03-09T13:36:11.627Z"
   },
   {
    "duration": 65,
    "start_time": "2022-03-09T13:36:12.246Z"
   },
   {
    "duration": 24,
    "start_time": "2022-03-09T13:36:12.314Z"
   },
   {
    "duration": 33,
    "start_time": "2022-03-09T13:36:12.341Z"
   },
   {
    "duration": 25,
    "start_time": "2022-03-09T13:36:12.376Z"
   },
   {
    "duration": 22,
    "start_time": "2022-03-09T13:36:12.404Z"
   },
   {
    "duration": 18,
    "start_time": "2022-03-09T13:36:12.428Z"
   },
   {
    "duration": 21,
    "start_time": "2022-03-09T13:36:12.449Z"
   },
   {
    "duration": 19,
    "start_time": "2022-03-09T13:36:12.473Z"
   },
   {
    "duration": 23,
    "start_time": "2022-03-09T13:36:12.494Z"
   },
   {
    "duration": 23,
    "start_time": "2022-03-09T13:36:12.519Z"
   },
   {
    "duration": 57,
    "start_time": "2022-03-09T13:36:12.545Z"
   },
   {
    "duration": 5,
    "start_time": "2022-03-09T13:36:12.605Z"
   },
   {
    "duration": 18,
    "start_time": "2022-03-09T13:36:12.612Z"
   },
   {
    "duration": 16,
    "start_time": "2022-03-09T13:36:12.632Z"
   },
   {
    "duration": 23,
    "start_time": "2022-03-09T13:36:12.650Z"
   },
   {
    "duration": 31,
    "start_time": "2022-03-09T13:36:12.675Z"
   },
   {
    "duration": 13,
    "start_time": "2022-03-09T13:36:12.708Z"
   },
   {
    "duration": 29,
    "start_time": "2022-03-09T13:36:12.723Z"
   },
   {
    "duration": 31,
    "start_time": "2022-03-09T13:36:12.754Z"
   },
   {
    "duration": 19,
    "start_time": "2022-03-09T13:36:12.787Z"
   },
   {
    "duration": 30,
    "start_time": "2022-03-09T13:36:12.808Z"
   },
   {
    "duration": 20,
    "start_time": "2022-03-09T13:36:12.843Z"
   },
   {
    "duration": 13,
    "start_time": "2022-03-09T13:36:12.866Z"
   },
   {
    "duration": 32,
    "start_time": "2022-03-09T13:36:12.881Z"
   },
   {
    "duration": 26,
    "start_time": "2022-03-09T13:36:12.915Z"
   },
   {
    "duration": 17,
    "start_time": "2022-03-09T13:36:12.943Z"
   },
   {
    "duration": 19,
    "start_time": "2022-03-09T13:36:12.962Z"
   },
   {
    "duration": 10,
    "start_time": "2022-03-09T13:36:12.983Z"
   },
   {
    "duration": 23,
    "start_time": "2022-03-09T13:36:12.995Z"
   },
   {
    "duration": 13,
    "start_time": "2022-03-09T13:36:13.020Z"
   },
   {
    "duration": 8,
    "start_time": "2022-03-09T13:37:47.167Z"
   },
   {
    "duration": 3,
    "start_time": "2022-03-09T13:38:06.389Z"
   },
   {
    "duration": 74,
    "start_time": "2022-03-09T13:38:06.394Z"
   },
   {
    "duration": 37,
    "start_time": "2022-03-09T13:38:06.471Z"
   },
   {
    "duration": 18,
    "start_time": "2022-03-09T13:38:06.511Z"
   },
   {
    "duration": 19,
    "start_time": "2022-03-09T13:38:06.531Z"
   },
   {
    "duration": 4,
    "start_time": "2022-03-09T13:38:06.552Z"
   },
   {
    "duration": 10,
    "start_time": "2022-03-09T13:38:06.558Z"
   },
   {
    "duration": 32,
    "start_time": "2022-03-09T13:38:06.571Z"
   },
   {
    "duration": 12,
    "start_time": "2022-03-09T13:38:06.606Z"
   },
   {
    "duration": 6,
    "start_time": "2022-03-09T13:38:06.620Z"
   },
   {
    "duration": 13,
    "start_time": "2022-03-09T13:38:06.628Z"
   },
   {
    "duration": 63,
    "start_time": "2022-03-09T13:38:06.643Z"
   },
   {
    "duration": 7,
    "start_time": "2022-03-09T13:38:06.708Z"
   },
   {
    "duration": 9,
    "start_time": "2022-03-09T13:38:06.717Z"
   },
   {
    "duration": 10,
    "start_time": "2022-03-09T13:38:06.728Z"
   },
   {
    "duration": 15,
    "start_time": "2022-03-09T13:38:06.740Z"
   },
   {
    "duration": 20,
    "start_time": "2022-03-09T13:38:06.757Z"
   },
   {
    "duration": 23,
    "start_time": "2022-03-09T13:38:06.779Z"
   },
   {
    "duration": 13,
    "start_time": "2022-03-09T13:38:06.805Z"
   },
   {
    "duration": 19,
    "start_time": "2022-03-09T13:38:06.820Z"
   },
   {
    "duration": 15,
    "start_time": "2022-03-09T13:38:06.842Z"
   },
   {
    "duration": 33,
    "start_time": "2022-03-09T13:38:06.858Z"
   },
   {
    "duration": 44,
    "start_time": "2022-03-09T13:38:06.894Z"
   },
   {
    "duration": 12,
    "start_time": "2022-03-09T13:38:06.940Z"
   },
   {
    "duration": 22,
    "start_time": "2022-03-09T13:38:06.953Z"
   },
   {
    "duration": 15,
    "start_time": "2022-03-09T13:38:06.977Z"
   },
   {
    "duration": 11,
    "start_time": "2022-03-09T13:38:06.995Z"
   },
   {
    "duration": 13,
    "start_time": "2022-03-09T13:38:07.009Z"
   },
   {
    "duration": 13,
    "start_time": "2022-03-09T13:38:07.024Z"
   },
   {
    "duration": 15,
    "start_time": "2022-03-09T13:38:07.040Z"
   },
   {
    "duration": 17,
    "start_time": "2022-03-09T13:38:07.057Z"
   },
   {
    "duration": 5,
    "start_time": "2022-03-09T13:40:02.567Z"
   },
   {
    "duration": 3,
    "start_time": "2022-03-09T13:40:10.043Z"
   },
   {
    "duration": 66,
    "start_time": "2022-03-09T13:40:11.023Z"
   },
   {
    "duration": 18,
    "start_time": "2022-03-09T13:40:14.208Z"
   },
   {
    "duration": 17,
    "start_time": "2022-03-09T13:40:16.616Z"
   },
   {
    "duration": 13,
    "start_time": "2022-03-09T13:40:19.711Z"
   },
   {
    "duration": 4,
    "start_time": "2022-03-09T13:40:22.855Z"
   },
   {
    "duration": 5,
    "start_time": "2022-03-09T13:40:25.015Z"
   },
   {
    "duration": 7,
    "start_time": "2022-03-09T13:40:26.295Z"
   },
   {
    "duration": 7,
    "start_time": "2022-03-09T13:40:28.318Z"
   },
   {
    "duration": 6,
    "start_time": "2022-03-09T13:40:30.647Z"
   },
   {
    "duration": 13,
    "start_time": "2022-03-09T13:40:32.629Z"
   },
   {
    "duration": 40,
    "start_time": "2022-03-09T13:40:34.832Z"
   },
   {
    "duration": 8,
    "start_time": "2022-03-09T13:40:36.168Z"
   },
   {
    "duration": 4,
    "start_time": "2022-03-09T13:40:48.031Z"
   },
   {
    "duration": 4,
    "start_time": "2022-03-09T13:40:49.039Z"
   },
   {
    "duration": 7,
    "start_time": "2022-03-09T13:40:50.656Z"
   },
   {
    "duration": 15,
    "start_time": "2022-03-09T13:40:53.817Z"
   },
   {
    "duration": 7,
    "start_time": "2022-03-09T13:40:56.516Z"
   },
   {
    "duration": 15,
    "start_time": "2022-03-09T13:41:00.729Z"
   },
   {
    "duration": 10,
    "start_time": "2022-03-09T13:41:01.991Z"
   },
   {
    "duration": 9,
    "start_time": "2022-03-09T13:41:04.536Z"
   },
   {
    "duration": 17,
    "start_time": "2022-03-09T13:41:07.832Z"
   },
   {
    "duration": 9,
    "start_time": "2022-03-09T13:41:09.807Z"
   },
   {
    "duration": 8,
    "start_time": "2022-03-09T13:41:12.351Z"
   },
   {
    "duration": 12,
    "start_time": "2022-03-09T13:41:14.495Z"
   },
   {
    "duration": 10,
    "start_time": "2022-03-09T13:41:15.591Z"
   },
   {
    "duration": 14,
    "start_time": "2022-03-09T13:41:27.063Z"
   },
   {
    "duration": 9,
    "start_time": "2022-03-09T13:45:58.795Z"
   },
   {
    "duration": 35,
    "start_time": "2022-03-09T13:48:45.953Z"
   },
   {
    "duration": 664,
    "start_time": "2022-03-09T13:48:52.375Z"
   },
   {
    "duration": 59,
    "start_time": "2022-03-09T13:48:53.041Z"
   },
   {
    "duration": 22,
    "start_time": "2022-03-09T13:48:53.103Z"
   },
   {
    "duration": 20,
    "start_time": "2022-03-09T13:48:53.128Z"
   },
   {
    "duration": 16,
    "start_time": "2022-03-09T13:48:53.150Z"
   },
   {
    "duration": 4,
    "start_time": "2022-03-09T13:48:53.168Z"
   },
   {
    "duration": 4,
    "start_time": "2022-03-09T13:48:53.205Z"
   },
   {
    "duration": 13,
    "start_time": "2022-03-09T13:48:53.213Z"
   },
   {
    "duration": 7,
    "start_time": "2022-03-09T13:48:53.228Z"
   },
   {
    "duration": 7,
    "start_time": "2022-03-09T13:48:53.237Z"
   },
   {
    "duration": 11,
    "start_time": "2022-03-09T13:48:53.247Z"
   },
   {
    "duration": 86,
    "start_time": "2022-03-09T13:48:53.260Z"
   },
   {
    "duration": 8,
    "start_time": "2022-03-09T13:50:53.340Z"
   },
   {
    "duration": 4,
    "start_time": "2022-03-09T13:52:49.253Z"
   },
   {
    "duration": 5,
    "start_time": "2022-03-09T13:54:43.198Z"
   },
   {
    "duration": 7,
    "start_time": "2022-03-09T13:54:50.173Z"
   },
   {
    "duration": 12,
    "start_time": "2022-03-09T13:55:49.918Z"
   },
   {
    "duration": 353,
    "start_time": "2022-03-09T16:44:46.065Z"
   },
   {
    "duration": 853,
    "start_time": "2022-03-09T16:44:55.974Z"
   },
   {
    "duration": 79,
    "start_time": "2022-03-09T16:44:56.831Z"
   },
   {
    "duration": 33,
    "start_time": "2022-03-09T16:44:56.913Z"
   },
   {
    "duration": 38,
    "start_time": "2022-03-09T16:44:56.949Z"
   },
   {
    "duration": 21,
    "start_time": "2022-03-09T16:44:56.990Z"
   },
   {
    "duration": 5,
    "start_time": "2022-03-09T16:44:57.014Z"
   },
   {
    "duration": 6,
    "start_time": "2022-03-09T16:44:57.024Z"
   },
   {
    "duration": 9,
    "start_time": "2022-03-09T16:44:57.073Z"
   },
   {
    "duration": 9,
    "start_time": "2022-03-09T16:44:57.085Z"
   },
   {
    "duration": 7,
    "start_time": "2022-03-09T16:44:57.101Z"
   },
   {
    "duration": 68,
    "start_time": "2022-03-09T16:44:57.111Z"
   },
   {
    "duration": 49,
    "start_time": "2022-03-09T16:44:57.181Z"
   },
   {
    "duration": 42,
    "start_time": "2022-03-09T16:44:57.233Z"
   },
   {
    "duration": 6,
    "start_time": "2022-03-09T16:44:57.278Z"
   },
   {
    "duration": 10,
    "start_time": "2022-03-09T16:44:57.286Z"
   },
   {
    "duration": 11,
    "start_time": "2022-03-09T16:44:57.299Z"
   },
   {
    "duration": 73,
    "start_time": "2022-03-09T16:44:57.313Z"
   },
   {
    "duration": 10,
    "start_time": "2022-03-09T16:50:38.521Z"
   },
   {
    "duration": 24,
    "start_time": "2022-03-09T16:51:34.885Z"
   },
   {
    "duration": 17,
    "start_time": "2022-03-09T16:51:39.212Z"
   },
   {
    "duration": 14,
    "start_time": "2022-03-09T16:52:55.526Z"
   },
   {
    "duration": 33,
    "start_time": "2022-03-09T16:53:29.696Z"
   },
   {
    "duration": 18,
    "start_time": "2022-03-09T16:53:39.619Z"
   },
   {
    "duration": 15,
    "start_time": "2022-03-09T16:55:19.479Z"
   },
   {
    "duration": 14,
    "start_time": "2022-03-09T16:56:35.287Z"
   },
   {
    "duration": 753,
    "start_time": "2022-03-09T16:57:05.790Z"
   },
   {
    "duration": 79,
    "start_time": "2022-03-09T16:57:06.546Z"
   },
   {
    "duration": 45,
    "start_time": "2022-03-09T16:57:06.628Z"
   },
   {
    "duration": 21,
    "start_time": "2022-03-09T16:57:06.676Z"
   },
   {
    "duration": 15,
    "start_time": "2022-03-09T16:57:06.699Z"
   },
   {
    "duration": 4,
    "start_time": "2022-03-09T16:57:06.717Z"
   },
   {
    "duration": 51,
    "start_time": "2022-03-09T16:57:06.723Z"
   },
   {
    "duration": 8,
    "start_time": "2022-03-09T16:57:06.778Z"
   },
   {
    "duration": 7,
    "start_time": "2022-03-09T16:57:06.789Z"
   },
   {
    "duration": 6,
    "start_time": "2022-03-09T16:57:06.798Z"
   },
   {
    "duration": 14,
    "start_time": "2022-03-09T16:57:06.806Z"
   },
   {
    "duration": 51,
    "start_time": "2022-03-09T16:57:06.874Z"
   },
   {
    "duration": 9,
    "start_time": "2022-03-09T16:57:06.927Z"
   },
   {
    "duration": 37,
    "start_time": "2022-03-09T16:57:06.939Z"
   },
   {
    "duration": 10,
    "start_time": "2022-03-09T16:57:06.978Z"
   },
   {
    "duration": 15,
    "start_time": "2022-03-09T16:57:06.991Z"
   },
   {
    "duration": 27,
    "start_time": "2022-03-09T16:57:07.009Z"
   },
   {
    "duration": 48,
    "start_time": "2022-03-09T16:57:07.038Z"
   },
   {
    "duration": 20,
    "start_time": "2022-03-09T16:57:07.089Z"
   },
   {
    "duration": 14,
    "start_time": "2022-03-09T16:57:07.111Z"
   },
   {
    "duration": 54,
    "start_time": "2022-03-09T16:57:07.128Z"
   },
   {
    "duration": 21,
    "start_time": "2022-03-09T16:57:07.185Z"
   },
   {
    "duration": 12,
    "start_time": "2022-03-09T16:57:07.211Z"
   },
   {
    "duration": 57,
    "start_time": "2022-03-09T16:57:07.225Z"
   },
   {
    "duration": 48,
    "start_time": "2022-03-09T16:58:03.698Z"
   },
   {
    "duration": 14,
    "start_time": "2022-03-09T16:58:12.529Z"
   },
   {
    "duration": 5,
    "start_time": "2022-03-09T16:58:42.986Z"
   },
   {
    "duration": 101,
    "start_time": "2022-03-09T16:58:44.873Z"
   },
   {
    "duration": 32,
    "start_time": "2022-03-09T16:58:53.709Z"
   },
   {
    "duration": 35,
    "start_time": "2022-03-09T16:58:56.238Z"
   },
   {
    "duration": 20,
    "start_time": "2022-03-09T16:59:00.243Z"
   },
   {
    "duration": 5,
    "start_time": "2022-03-09T16:59:03.182Z"
   },
   {
    "duration": 5,
    "start_time": "2022-03-09T16:59:05.019Z"
   },
   {
    "duration": 9,
    "start_time": "2022-03-09T16:59:11.894Z"
   },
   {
    "duration": 9,
    "start_time": "2022-03-09T16:59:14.124Z"
   },
   {
    "duration": 7,
    "start_time": "2022-03-09T16:59:19.242Z"
   },
   {
    "duration": 13,
    "start_time": "2022-03-09T16:59:21.553Z"
   },
   {
    "duration": 48,
    "start_time": "2022-03-09T16:59:24.902Z"
   },
   {
    "duration": 9,
    "start_time": "2022-03-09T16:59:28.982Z"
   },
   {
    "duration": 7,
    "start_time": "2022-03-09T16:59:35.569Z"
   },
   {
    "duration": 5,
    "start_time": "2022-03-09T16:59:36.433Z"
   },
   {
    "duration": 8,
    "start_time": "2022-03-09T16:59:38.631Z"
   },
   {
    "duration": 22,
    "start_time": "2022-03-09T16:59:43.357Z"
   },
   {
    "duration": 15,
    "start_time": "2022-03-09T16:59:45.942Z"
   },
   {
    "duration": 18,
    "start_time": "2022-03-09T17:00:10.452Z"
   },
   {
    "duration": 12,
    "start_time": "2022-03-09T17:00:12.678Z"
   },
   {
    "duration": 10,
    "start_time": "2022-03-09T17:00:15.580Z"
   },
   {
    "duration": 20,
    "start_time": "2022-03-09T17:00:17.876Z"
   },
   {
    "duration": 20,
    "start_time": "2022-03-09T17:00:19.153Z"
   },
   {
    "duration": 18,
    "start_time": "2022-03-09T17:00:21.416Z"
   },
   {
    "duration": 16,
    "start_time": "2022-03-09T17:02:49.094Z"
   },
   {
    "duration": 15,
    "start_time": "2022-03-09T17:03:20.218Z"
   },
   {
    "duration": 38,
    "start_time": "2022-03-09T17:03:55.724Z"
   },
   {
    "duration": 874,
    "start_time": "2022-03-09T17:04:34.287Z"
   },
   {
    "duration": 72,
    "start_time": "2022-03-09T17:04:35.164Z"
   },
   {
    "duration": 47,
    "start_time": "2022-03-09T17:04:35.243Z"
   },
   {
    "duration": 23,
    "start_time": "2022-03-09T17:04:35.292Z"
   },
   {
    "duration": 20,
    "start_time": "2022-03-09T17:04:35.317Z"
   },
   {
    "duration": 38,
    "start_time": "2022-03-09T17:04:35.339Z"
   },
   {
    "duration": 9,
    "start_time": "2022-03-09T17:04:35.379Z"
   },
   {
    "duration": 11,
    "start_time": "2022-03-09T17:04:35.392Z"
   },
   {
    "duration": 8,
    "start_time": "2022-03-09T17:04:35.406Z"
   },
   {
    "duration": 7,
    "start_time": "2022-03-09T17:04:35.417Z"
   },
   {
    "duration": 59,
    "start_time": "2022-03-09T17:04:35.426Z"
   },
   {
    "duration": 50,
    "start_time": "2022-03-09T17:04:35.488Z"
   },
   {
    "duration": 9,
    "start_time": "2022-03-09T17:04:35.573Z"
   },
   {
    "duration": 5,
    "start_time": "2022-03-09T17:04:35.585Z"
   },
   {
    "duration": 7,
    "start_time": "2022-03-09T17:04:35.593Z"
   },
   {
    "duration": 11,
    "start_time": "2022-03-09T17:04:35.602Z"
   },
   {
    "duration": 70,
    "start_time": "2022-03-09T17:04:35.616Z"
   },
   {
    "duration": 20,
    "start_time": "2022-03-09T17:04:35.688Z"
   },
   {
    "duration": 15,
    "start_time": "2022-03-09T17:04:35.711Z"
   },
   {
    "duration": 74,
    "start_time": "2022-03-09T17:04:35.728Z"
   },
   {
    "duration": 15,
    "start_time": "2022-03-09T17:05:00.418Z"
   },
   {
    "duration": 14,
    "start_time": "2022-03-09T17:05:17.656Z"
   },
   {
    "duration": 759,
    "start_time": "2022-03-09T17:05:28.459Z"
   },
   {
    "duration": 76,
    "start_time": "2022-03-09T17:05:29.221Z"
   },
   {
    "duration": 31,
    "start_time": "2022-03-09T17:05:29.299Z"
   },
   {
    "duration": 52,
    "start_time": "2022-03-09T17:05:29.333Z"
   },
   {
    "duration": 14,
    "start_time": "2022-03-09T17:05:29.387Z"
   },
   {
    "duration": 4,
    "start_time": "2022-03-09T17:05:29.404Z"
   },
   {
    "duration": 6,
    "start_time": "2022-03-09T17:05:29.412Z"
   },
   {
    "duration": 52,
    "start_time": "2022-03-09T17:05:29.420Z"
   },
   {
    "duration": 6,
    "start_time": "2022-03-09T17:05:29.475Z"
   },
   {
    "duration": 10,
    "start_time": "2022-03-09T17:05:29.483Z"
   },
   {
    "duration": 17,
    "start_time": "2022-03-09T17:05:29.496Z"
   },
   {
    "duration": 93,
    "start_time": "2022-03-09T17:05:29.515Z"
   },
   {
    "duration": 10,
    "start_time": "2022-03-09T17:05:29.611Z"
   },
   {
    "duration": 6,
    "start_time": "2022-03-09T17:05:29.624Z"
   },
   {
    "duration": 42,
    "start_time": "2022-03-09T17:05:29.633Z"
   },
   {
    "duration": 11,
    "start_time": "2022-03-09T17:05:29.678Z"
   },
   {
    "duration": 23,
    "start_time": "2022-03-09T17:05:29.692Z"
   },
   {
    "duration": 3,
    "start_time": "2022-03-09T17:05:29.717Z"
   },
   {
    "duration": 51,
    "start_time": "2022-03-09T17:05:29.722Z"
   },
   {
    "duration": 17,
    "start_time": "2022-03-09T17:05:29.776Z"
   },
   {
    "duration": 20,
    "start_time": "2022-03-09T17:06:17.079Z"
   },
   {
    "duration": 12,
    "start_time": "2022-03-09T17:06:18.327Z"
   },
   {
    "duration": 16,
    "start_time": "2022-03-09T17:06:22.210Z"
   },
   {
    "duration": 11,
    "start_time": "2022-03-09T17:14:25.535Z"
   },
   {
    "duration": 20,
    "start_time": "2022-03-09T17:15:30.790Z"
   },
   {
    "duration": 10,
    "start_time": "2022-03-09T17:15:48.954Z"
   },
   {
    "duration": 10,
    "start_time": "2022-03-09T17:15:58.926Z"
   },
   {
    "duration": 4,
    "start_time": "2022-03-09T17:16:34.045Z"
   },
   {
    "duration": 780,
    "start_time": "2022-03-09T17:16:40.732Z"
   },
   {
    "duration": 87,
    "start_time": "2022-03-09T17:16:41.514Z"
   },
   {
    "duration": 33,
    "start_time": "2022-03-09T17:16:41.605Z"
   },
   {
    "duration": 61,
    "start_time": "2022-03-09T17:16:41.642Z"
   },
   {
    "duration": 19,
    "start_time": "2022-03-09T17:16:41.706Z"
   },
   {
    "duration": 5,
    "start_time": "2022-03-09T17:16:41.728Z"
   },
   {
    "duration": 57,
    "start_time": "2022-03-09T17:16:41.736Z"
   },
   {
    "duration": 9,
    "start_time": "2022-03-09T17:16:41.796Z"
   },
   {
    "duration": 9,
    "start_time": "2022-03-09T17:16:41.811Z"
   },
   {
    "duration": 6,
    "start_time": "2022-03-09T17:16:41.823Z"
   },
   {
    "duration": 63,
    "start_time": "2022-03-09T17:16:41.831Z"
   },
   {
    "duration": 79,
    "start_time": "2022-03-09T17:16:41.897Z"
   },
   {
    "duration": 12,
    "start_time": "2022-03-09T17:16:41.979Z"
   },
   {
    "duration": 6,
    "start_time": "2022-03-09T17:16:41.994Z"
   },
   {
    "duration": 13,
    "start_time": "2022-03-09T17:16:42.003Z"
   },
   {
    "duration": 58,
    "start_time": "2022-03-09T17:16:42.018Z"
   },
   {
    "duration": 38,
    "start_time": "2022-03-09T17:16:42.080Z"
   },
   {
    "duration": 3,
    "start_time": "2022-03-09T17:16:42.121Z"
   },
   {
    "duration": 7,
    "start_time": "2022-03-09T17:16:42.127Z"
   },
   {
    "duration": 6,
    "start_time": "2022-03-09T17:16:42.136Z"
   },
   {
    "duration": 16,
    "start_time": "2022-03-09T17:17:06.513Z"
   },
   {
    "duration": 55,
    "start_time": "2022-03-09T17:18:00.897Z"
   },
   {
    "duration": 23,
    "start_time": "2022-03-09T18:48:37.441Z"
   },
   {
    "duration": 25,
    "start_time": "2022-03-09T18:48:59.386Z"
   },
   {
    "duration": 25,
    "start_time": "2022-03-09T18:49:16.267Z"
   },
   {
    "duration": 12,
    "start_time": "2022-03-09T18:49:22.405Z"
   },
   {
    "duration": 12,
    "start_time": "2022-03-09T18:49:39.967Z"
   },
   {
    "duration": 17,
    "start_time": "2022-03-09T18:53:05.969Z"
   },
   {
    "duration": 12,
    "start_time": "2022-03-09T18:53:11.972Z"
   },
   {
    "duration": 20,
    "start_time": "2022-03-09T18:53:52.027Z"
   },
   {
    "duration": 20,
    "start_time": "2022-03-09T18:54:42.333Z"
   },
   {
    "duration": 21,
    "start_time": "2022-03-09T18:54:48.060Z"
   },
   {
    "duration": 11,
    "start_time": "2022-03-09T18:55:32.684Z"
   },
   {
    "duration": 4,
    "start_time": "2022-03-09T18:57:23.930Z"
   },
   {
    "duration": 325,
    "start_time": "2022-03-09T18:57:23.937Z"
   },
   {
    "duration": 208,
    "start_time": "2022-03-09T18:57:24.266Z"
   },
   {
    "duration": 229,
    "start_time": "2022-03-09T18:57:24.478Z"
   },
   {
    "duration": 299,
    "start_time": "2022-03-09T18:57:24.710Z"
   },
   {
    "duration": 236,
    "start_time": "2022-03-09T18:57:25.012Z"
   },
   {
    "duration": 365,
    "start_time": "2022-03-09T18:57:25.251Z"
   },
   {
    "duration": 296,
    "start_time": "2022-03-09T18:57:25.618Z"
   },
   {
    "duration": 576,
    "start_time": "2022-03-09T18:57:25.918Z"
   },
   {
    "duration": 892,
    "start_time": "2022-03-09T18:57:26.497Z"
   },
   {
    "duration": 921,
    "start_time": "2022-03-09T18:57:27.392Z"
   },
   {
    "duration": 977,
    "start_time": "2022-03-09T18:57:28.316Z"
   },
   {
    "duration": 452,
    "start_time": "2022-03-09T18:57:29.296Z"
   },
   {
    "duration": 357,
    "start_time": "2022-03-09T18:57:29.751Z"
   },
   {
    "duration": 229,
    "start_time": "2022-03-09T18:57:30.111Z"
   },
   {
    "duration": 250,
    "start_time": "2022-03-09T18:57:30.343Z"
   },
   {
    "duration": 444,
    "start_time": "2022-03-09T18:57:30.595Z"
   },
   {
    "duration": 277,
    "start_time": "2022-03-09T18:57:31.042Z"
   },
   {
    "duration": 252,
    "start_time": "2022-03-09T18:57:31.321Z"
   },
   {
    "duration": 270,
    "start_time": "2022-03-09T18:57:31.575Z"
   },
   {
    "duration": 268,
    "start_time": "2022-03-09T18:57:31.847Z"
   },
   {
    "duration": 380,
    "start_time": "2022-03-09T18:57:32.117Z"
   },
   {
    "duration": 341,
    "start_time": "2022-03-09T18:57:32.500Z"
   },
   {
    "duration": 876,
    "start_time": "2022-03-09T18:57:45.860Z"
   },
   {
    "duration": 84,
    "start_time": "2022-03-09T18:57:46.740Z"
   },
   {
    "duration": 251,
    "start_time": "2022-03-09T18:57:46.829Z"
   },
   {
    "duration": 272,
    "start_time": "2022-03-09T18:57:47.083Z"
   },
   {
    "duration": 216,
    "start_time": "2022-03-09T18:57:47.357Z"
   },
   {
    "duration": 338,
    "start_time": "2022-03-09T18:57:47.576Z"
   },
   {
    "duration": 332,
    "start_time": "2022-03-09T18:57:47.917Z"
   },
   {
    "duration": 325,
    "start_time": "2022-03-09T18:57:48.255Z"
   },
   {
    "duration": 248,
    "start_time": "2022-03-09T18:57:48.584Z"
   },
   {
    "duration": 259,
    "start_time": "2022-03-09T18:57:48.835Z"
   },
   {
    "duration": 236,
    "start_time": "2022-03-09T18:57:49.097Z"
   },
   {
    "duration": 290,
    "start_time": "2022-03-09T18:57:49.335Z"
   },
   {
    "duration": 258,
    "start_time": "2022-03-09T18:57:49.628Z"
   },
   {
    "duration": 296,
    "start_time": "2022-03-09T18:57:49.889Z"
   },
   {
    "duration": 298,
    "start_time": "2022-03-09T18:57:50.187Z"
   },
   {
    "duration": 268,
    "start_time": "2022-03-09T18:57:50.488Z"
   },
   {
    "duration": 272,
    "start_time": "2022-03-09T18:57:50.758Z"
   },
   {
    "duration": 276,
    "start_time": "2022-03-09T18:57:51.033Z"
   },
   {
    "duration": 387,
    "start_time": "2022-03-09T18:57:51.312Z"
   },
   {
    "duration": 264,
    "start_time": "2022-03-09T18:57:51.701Z"
   },
   {
    "duration": 294,
    "start_time": "2022-03-09T18:57:51.968Z"
   },
   {
    "duration": 258,
    "start_time": "2022-03-09T18:57:52.265Z"
   },
   {
    "duration": 444,
    "start_time": "2022-03-09T18:57:52.526Z"
   },
   {
    "duration": 7,
    "start_time": "2022-03-09T19:06:20.245Z"
   },
   {
    "duration": 17,
    "start_time": "2022-03-09T19:07:41.784Z"
   },
   {
    "duration": 788,
    "start_time": "2022-03-09T19:07:55.065Z"
   },
   {
    "duration": 1674,
    "start_time": "2022-03-09T19:07:55.859Z"
   },
   {
    "duration": 1582,
    "start_time": "2022-03-09T19:07:57.536Z"
   },
   {
    "duration": 1018,
    "start_time": "2022-03-09T19:07:59.120Z"
   },
   {
    "duration": 1215,
    "start_time": "2022-03-09T19:08:00.140Z"
   },
   {
    "duration": 1381,
    "start_time": "2022-03-09T19:08:01.357Z"
   },
   {
    "duration": 1117,
    "start_time": "2022-03-09T19:08:02.743Z"
   },
   {
    "duration": 1082,
    "start_time": "2022-03-09T19:08:03.864Z"
   },
   {
    "duration": 1456,
    "start_time": "2022-03-09T19:08:04.949Z"
   },
   {
    "duration": 1059,
    "start_time": "2022-03-09T19:08:06.408Z"
   },
   {
    "duration": 1105,
    "start_time": "2022-03-09T19:08:07.469Z"
   },
   {
    "duration": 1235,
    "start_time": "2022-03-09T19:08:08.576Z"
   },
   {
    "duration": 1258,
    "start_time": "2022-03-09T19:08:09.813Z"
   },
   {
    "duration": 1246,
    "start_time": "2022-03-09T19:08:11.073Z"
   },
   {
    "duration": 843,
    "start_time": "2022-03-09T19:08:12.321Z"
   },
   {
    "duration": 1068,
    "start_time": "2022-03-09T19:08:13.167Z"
   },
   {
    "duration": 1311,
    "start_time": "2022-03-09T19:08:14.238Z"
   },
   {
    "duration": 1181,
    "start_time": "2022-03-09T19:08:15.551Z"
   },
   {
    "duration": 1083,
    "start_time": "2022-03-09T19:08:16.735Z"
   },
   {
    "duration": 915,
    "start_time": "2022-03-09T19:08:17.821Z"
   },
   {
    "duration": 1153,
    "start_time": "2022-03-09T19:08:18.739Z"
   },
   {
    "duration": 1072,
    "start_time": "2022-03-09T19:08:19.896Z"
   },
   {
    "duration": 1422,
    "start_time": "2022-03-09T19:08:20.971Z"
   },
   {
    "duration": 20,
    "start_time": "2022-03-09T19:13:05.927Z"
   },
   {
    "duration": 8,
    "start_time": "2022-03-09T19:13:18.700Z"
   },
   {
    "duration": 32,
    "start_time": "2022-03-09T19:14:09.883Z"
   },
   {
    "duration": 48,
    "start_time": "2022-03-09T19:14:34.153Z"
   },
   {
    "duration": 40,
    "start_time": "2022-03-09T19:14:48.389Z"
   },
   {
    "duration": 10,
    "start_time": "2022-03-09T19:15:03.195Z"
   },
   {
    "duration": 33,
    "start_time": "2022-03-09T19:15:07.367Z"
   },
   {
    "duration": 359,
    "start_time": "2022-03-09T19:15:09.559Z"
   },
   {
    "duration": 11,
    "start_time": "2022-03-09T19:16:26.720Z"
   },
   {
    "duration": 22,
    "start_time": "2022-03-09T19:17:30.450Z"
   },
   {
    "duration": 60,
    "start_time": "2022-03-09T19:18:15.495Z"
   },
   {
    "duration": 14,
    "start_time": "2022-03-09T19:18:34.855Z"
   },
   {
    "duration": 16,
    "start_time": "2022-03-09T19:19:11.534Z"
   },
   {
    "duration": 17,
    "start_time": "2022-03-09T19:19:16.251Z"
   },
   {
    "duration": 15,
    "start_time": "2022-03-09T19:19:24.386Z"
   },
   {
    "duration": 26,
    "start_time": "2022-03-09T19:19:41.167Z"
   },
   {
    "duration": 26,
    "start_time": "2022-03-09T19:20:02.670Z"
   },
   {
    "duration": 17,
    "start_time": "2022-03-09T19:20:21.947Z"
   },
   {
    "duration": 3,
    "start_time": "2022-03-09T19:20:33.029Z"
   },
   {
    "duration": 80,
    "start_time": "2022-03-09T19:20:34.100Z"
   },
   {
    "duration": 27,
    "start_time": "2022-03-09T19:20:36.450Z"
   },
   {
    "duration": 23,
    "start_time": "2022-03-09T19:20:38.531Z"
   },
   {
    "duration": 15,
    "start_time": "2022-03-09T19:20:42.200Z"
   },
   {
    "duration": 5,
    "start_time": "2022-03-09T19:20:51.150Z"
   },
   {
    "duration": 7,
    "start_time": "2022-03-09T19:20:53.378Z"
   },
   {
    "duration": 8,
    "start_time": "2022-03-09T19:20:54.919Z"
   },
   {
    "duration": 14,
    "start_time": "2022-03-09T19:20:57.084Z"
   },
   {
    "duration": 8,
    "start_time": "2022-03-09T19:20:58.031Z"
   },
   {
    "duration": 10,
    "start_time": "2022-03-09T19:20:59.980Z"
   },
   {
    "duration": 186,
    "start_time": "2022-03-09T19:21:01.617Z"
   },
   {
    "duration": 49,
    "start_time": "2022-03-09T19:21:04.604Z"
   },
   {
    "duration": 10,
    "start_time": "2022-03-09T19:21:06.400Z"
   },
   {
    "duration": 5,
    "start_time": "2022-03-09T19:21:09.592Z"
   },
   {
    "duration": 5,
    "start_time": "2022-03-09T19:21:10.615Z"
   },
   {
    "duration": 23,
    "start_time": "2022-03-09T19:21:13.243Z"
   },
   {
    "duration": 18,
    "start_time": "2022-03-09T19:21:15.216Z"
   },
   {
    "duration": 12,
    "start_time": "2022-03-09T19:21:16.949Z"
   },
   {
    "duration": 18,
    "start_time": "2022-03-09T19:21:20.112Z"
   },
   {
    "duration": 8,
    "start_time": "2022-03-09T19:21:45.268Z"
   },
   {
    "duration": 12,
    "start_time": "2022-03-09T19:22:07.785Z"
   },
   {
    "duration": 17,
    "start_time": "2022-03-09T19:22:51.401Z"
   },
   {
    "duration": 14,
    "start_time": "2022-03-09T19:22:54.237Z"
   },
   {
    "duration": 21,
    "start_time": "2022-03-09T19:28:12.195Z"
   },
   {
    "duration": 8,
    "start_time": "2022-03-09T19:28:36.590Z"
   },
   {
    "duration": 4,
    "start_time": "2022-03-09T19:30:04.126Z"
   },
   {
    "duration": 1789,
    "start_time": "2022-03-09T19:30:04.133Z"
   },
   {
    "duration": 2367,
    "start_time": "2022-03-09T19:30:05.927Z"
   },
   {
    "duration": 1922,
    "start_time": "2022-03-09T19:30:08.298Z"
   },
   {
    "duration": 2255,
    "start_time": "2022-03-09T19:30:10.222Z"
   },
   {
    "duration": 1939,
    "start_time": "2022-03-09T19:30:12.480Z"
   },
   {
    "duration": 2308,
    "start_time": "2022-03-09T19:30:14.421Z"
   },
   {
    "duration": 2525,
    "start_time": "2022-03-09T19:30:16.732Z"
   },
   {
    "duration": 2911,
    "start_time": "2022-03-09T19:30:19.262Z"
   },
   {
    "duration": 1987,
    "start_time": "2022-03-09T19:30:22.177Z"
   },
   {
    "duration": 2745,
    "start_time": "2022-03-09T19:30:24.168Z"
   },
   {
    "duration": 1057,
    "start_time": "2022-03-09T19:30:26.917Z"
   },
   {
    "duration": 1346,
    "start_time": "2022-03-09T19:30:27.978Z"
   },
   {
    "duration": 1587,
    "start_time": "2022-03-09T19:30:29.326Z"
   },
   {
    "duration": 1249,
    "start_time": "2022-03-09T19:30:30.916Z"
   },
   {
    "duration": 2098,
    "start_time": "2022-03-09T19:30:32.168Z"
   },
   {
    "duration": 5,
    "start_time": "2022-03-09T19:31:16.803Z"
   },
   {
    "duration": 5,
    "start_time": "2022-03-09T19:31:23.154Z"
   },
   {
    "duration": 932,
    "start_time": "2022-03-09T19:31:44.504Z"
   },
   {
    "duration": 85,
    "start_time": "2022-03-09T19:31:45.440Z"
   },
   {
    "duration": 658,
    "start_time": "2022-03-09T19:31:45.529Z"
   },
   {
    "duration": 250,
    "start_time": "2022-03-09T19:31:46.198Z"
   },
   {
    "duration": 445,
    "start_time": "2022-03-09T19:31:46.451Z"
   },
   {
    "duration": 234,
    "start_time": "2022-03-09T19:31:46.899Z"
   },
   {
    "duration": 701,
    "start_time": "2022-03-09T19:31:47.136Z"
   },
   {
    "duration": 1219,
    "start_time": "2022-03-09T19:31:47.839Z"
   },
   {
    "duration": 564,
    "start_time": "2022-03-09T19:31:49.064Z"
   },
   {
    "duration": 498,
    "start_time": "2022-03-09T19:31:49.631Z"
   },
   {
    "duration": 449,
    "start_time": "2022-03-09T19:31:50.132Z"
   },
   {
    "duration": 857,
    "start_time": "2022-03-09T19:31:50.585Z"
   },
   {
    "duration": 642,
    "start_time": "2022-03-09T19:31:51.445Z"
   },
   {
    "duration": 549,
    "start_time": "2022-03-09T19:31:52.090Z"
   },
   {
    "duration": 453,
    "start_time": "2022-03-09T19:31:52.642Z"
   },
   {
    "duration": 342,
    "start_time": "2022-03-09T19:31:53.098Z"
   },
   {
    "duration": 338,
    "start_time": "2022-03-09T19:31:53.442Z"
   },
   {
    "duration": 171,
    "start_time": "2022-03-09T19:31:53.783Z"
   },
   {
    "duration": 296,
    "start_time": "2022-03-09T19:31:53.957Z"
   },
   {
    "duration": 397,
    "start_time": "2022-03-09T19:31:54.255Z"
   },
   {
    "duration": 386,
    "start_time": "2022-03-09T19:31:54.655Z"
   },
   {
    "duration": 346,
    "start_time": "2022-03-09T19:31:55.044Z"
   },
   {
    "duration": 417,
    "start_time": "2022-03-09T19:31:55.394Z"
   },
   {
    "duration": 539,
    "start_time": "2022-03-09T19:31:55.813Z"
   },
   {
    "duration": 17,
    "start_time": "2022-03-09T19:34:14.660Z"
   },
   {
    "duration": 7,
    "start_time": "2022-03-09T19:34:39.725Z"
   },
   {
    "duration": 24,
    "start_time": "2022-03-09T19:34:46.971Z"
   },
   {
    "duration": 417,
    "start_time": "2022-03-10T07:39:11.472Z"
   },
   {
    "duration": 783,
    "start_time": "2022-03-10T07:39:19.554Z"
   },
   {
    "duration": 88,
    "start_time": "2022-03-10T07:39:20.339Z"
   },
   {
    "duration": 31,
    "start_time": "2022-03-10T07:39:20.431Z"
   },
   {
    "duration": 22,
    "start_time": "2022-03-10T07:39:20.465Z"
   },
   {
    "duration": 49,
    "start_time": "2022-03-10T07:39:20.490Z"
   },
   {
    "duration": 5,
    "start_time": "2022-03-10T07:39:20.542Z"
   },
   {
    "duration": 6,
    "start_time": "2022-03-10T07:39:20.549Z"
   },
   {
    "duration": 8,
    "start_time": "2022-03-10T07:39:20.559Z"
   },
   {
    "duration": 5,
    "start_time": "2022-03-10T07:39:20.570Z"
   },
   {
    "duration": 6,
    "start_time": "2022-03-10T07:39:20.633Z"
   },
   {
    "duration": 12,
    "start_time": "2022-03-10T07:39:20.642Z"
   },
   {
    "duration": 80,
    "start_time": "2022-03-10T07:39:20.656Z"
   },
   {
    "duration": 10,
    "start_time": "2022-03-10T07:39:20.738Z"
   },
   {
    "duration": 4,
    "start_time": "2022-03-10T07:39:20.750Z"
   },
   {
    "duration": 7,
    "start_time": "2022-03-10T07:39:20.757Z"
   },
   {
    "duration": 12,
    "start_time": "2022-03-10T07:39:20.766Z"
   },
   {
    "duration": 67,
    "start_time": "2022-03-10T07:39:20.780Z"
   },
   {
    "duration": 3,
    "start_time": "2022-03-10T07:39:20.850Z"
   },
   {
    "duration": 5,
    "start_time": "2022-03-10T07:39:20.855Z"
   },
   {
    "duration": 20,
    "start_time": "2022-03-10T07:39:20.863Z"
   },
   {
    "duration": 4,
    "start_time": "2022-03-10T07:39:20.934Z"
   },
   {
    "duration": 6,
    "start_time": "2022-03-10T07:39:20.940Z"
   },
   {
    "duration": 4,
    "start_time": "2022-03-10T07:39:20.950Z"
   },
   {
    "duration": 6,
    "start_time": "2022-03-10T07:39:20.956Z"
   },
   {
    "duration": 11,
    "start_time": "2022-03-10T07:39:20.964Z"
   },
   {
    "duration": 57,
    "start_time": "2022-03-10T07:39:20.977Z"
   },
   {
    "duration": 13,
    "start_time": "2022-03-10T07:40:17.768Z"
   },
   {
    "duration": 5,
    "start_time": "2022-03-10T07:59:24.623Z"
   },
   {
    "duration": 9,
    "start_time": "2022-03-10T07:59:28.817Z"
   },
   {
    "duration": 5,
    "start_time": "2022-03-10T07:59:41.242Z"
   },
   {
    "duration": 7,
    "start_time": "2022-03-10T07:59:43.602Z"
   },
   {
    "duration": 8,
    "start_time": "2022-03-10T08:00:17.114Z"
   },
   {
    "duration": 782,
    "start_time": "2022-03-10T08:00:49.334Z"
   },
   {
    "duration": 86,
    "start_time": "2022-03-10T08:00:50.118Z"
   },
   {
    "duration": 45,
    "start_time": "2022-03-10T08:00:50.206Z"
   },
   {
    "duration": 22,
    "start_time": "2022-03-10T08:00:50.254Z"
   },
   {
    "duration": 13,
    "start_time": "2022-03-10T08:00:50.278Z"
   },
   {
    "duration": 5,
    "start_time": "2022-03-10T08:00:50.293Z"
   },
   {
    "duration": 34,
    "start_time": "2022-03-10T08:00:50.300Z"
   },
   {
    "duration": 9,
    "start_time": "2022-03-10T08:00:50.338Z"
   },
   {
    "duration": 6,
    "start_time": "2022-03-10T08:00:50.350Z"
   },
   {
    "duration": 6,
    "start_time": "2022-03-10T08:00:50.358Z"
   },
   {
    "duration": 16,
    "start_time": "2022-03-10T08:00:50.366Z"
   },
   {
    "duration": 89,
    "start_time": "2022-03-10T08:00:50.385Z"
   },
   {
    "duration": 8,
    "start_time": "2022-03-10T08:00:50.476Z"
   },
   {
    "duration": 5,
    "start_time": "2022-03-10T08:00:50.487Z"
   },
   {
    "duration": 5,
    "start_time": "2022-03-10T08:00:50.495Z"
   },
   {
    "duration": 9,
    "start_time": "2022-03-10T08:00:50.534Z"
   },
   {
    "duration": 27,
    "start_time": "2022-03-10T08:00:50.545Z"
   },
   {
    "duration": 19,
    "start_time": "2022-03-10T08:00:50.575Z"
   },
   {
    "duration": 47,
    "start_time": "2022-03-10T08:00:50.597Z"
   },
   {
    "duration": 5,
    "start_time": "2022-03-10T08:00:50.647Z"
   },
   {
    "duration": 5,
    "start_time": "2022-03-10T08:00:50.654Z"
   },
   {
    "duration": 6,
    "start_time": "2022-03-10T08:00:50.662Z"
   },
   {
    "duration": 3,
    "start_time": "2022-03-10T08:00:50.672Z"
   },
   {
    "duration": 6,
    "start_time": "2022-03-10T08:00:50.678Z"
   },
   {
    "duration": 56,
    "start_time": "2022-03-10T08:00:50.686Z"
   },
   {
    "duration": 28,
    "start_time": "2022-03-10T08:01:30.946Z"
   },
   {
    "duration": 12,
    "start_time": "2022-03-10T08:01:37.291Z"
   },
   {
    "duration": 57,
    "start_time": "2022-03-10T08:05:02.104Z"
   },
   {
    "duration": 769,
    "start_time": "2022-03-10T08:05:24.826Z"
   },
   {
    "duration": 78,
    "start_time": "2022-03-10T08:05:25.599Z"
   },
   {
    "duration": 34,
    "start_time": "2022-03-10T08:05:25.681Z"
   },
   {
    "duration": 22,
    "start_time": "2022-03-10T08:05:25.735Z"
   },
   {
    "duration": 105,
    "start_time": "2022-03-10T08:05:25.761Z"
   },
   {
    "duration": 19,
    "start_time": "2022-03-10T08:05:25.869Z"
   },
   {
    "duration": 5,
    "start_time": "2022-03-10T08:05:25.891Z"
   },
   {
    "duration": 32,
    "start_time": "2022-03-10T08:05:25.902Z"
   },
   {
    "duration": 9,
    "start_time": "2022-03-10T08:05:25.938Z"
   },
   {
    "duration": 6,
    "start_time": "2022-03-10T08:05:25.951Z"
   },
   {
    "duration": 7,
    "start_time": "2022-03-10T08:05:25.960Z"
   },
   {
    "duration": 13,
    "start_time": "2022-03-10T08:05:25.969Z"
   },
   {
    "duration": 93,
    "start_time": "2022-03-10T08:05:25.984Z"
   },
   {
    "duration": 8,
    "start_time": "2022-03-10T08:05:26.079Z"
   },
   {
    "duration": 7,
    "start_time": "2022-03-10T08:05:26.090Z"
   },
   {
    "duration": 5,
    "start_time": "2022-03-10T08:05:26.100Z"
   },
   {
    "duration": 8,
    "start_time": "2022-03-10T08:05:26.135Z"
   },
   {
    "duration": 24,
    "start_time": "2022-03-10T08:05:26.145Z"
   },
   {
    "duration": 19,
    "start_time": "2022-03-10T08:05:26.172Z"
   },
   {
    "duration": 42,
    "start_time": "2022-03-10T08:05:26.194Z"
   },
   {
    "duration": 14,
    "start_time": "2022-03-10T08:05:26.238Z"
   },
   {
    "duration": 3,
    "start_time": "2022-03-10T08:05:26.254Z"
   },
   {
    "duration": 10,
    "start_time": "2022-03-10T08:05:26.261Z"
   },
   {
    "duration": 9,
    "start_time": "2022-03-10T08:05:26.273Z"
   },
   {
    "duration": 5,
    "start_time": "2022-03-10T08:05:26.285Z"
   },
   {
    "duration": 42,
    "start_time": "2022-03-10T08:05:26.293Z"
   },
   {
    "duration": 15,
    "start_time": "2022-03-10T08:05:26.337Z"
   },
   {
    "duration": 10,
    "start_time": "2022-03-10T08:32:11.577Z"
   },
   {
    "duration": 993,
    "start_time": "2022-03-10T08:44:11.455Z"
   },
   {
    "duration": 4,
    "start_time": "2022-03-10T10:30:53.978Z"
   },
   {
    "duration": 9995,
    "start_time": "2022-03-10T10:30:56.416Z"
   },
   {
    "duration": 60,
    "start_time": "2022-03-10T10:31:39.680Z"
   },
   {
    "duration": 808,
    "start_time": "2022-03-10T10:31:48.324Z"
   },
   {
    "duration": 719,
    "start_time": "2022-03-10T10:31:49.135Z"
   },
   {
    "duration": 33,
    "start_time": "2022-03-10T10:31:49.858Z"
   },
   {
    "duration": 29,
    "start_time": "2022-03-10T10:31:49.894Z"
   },
   {
    "duration": 12,
    "start_time": "2022-03-10T10:31:49.926Z"
   },
   {
    "duration": 5,
    "start_time": "2022-03-10T10:31:49.941Z"
   },
   {
    "duration": 4,
    "start_time": "2022-03-10T10:31:49.949Z"
   },
   {
    "duration": 7,
    "start_time": "2022-03-10T10:31:49.957Z"
   },
   {
    "duration": 6,
    "start_time": "2022-03-10T10:31:49.967Z"
   },
   {
    "duration": 8,
    "start_time": "2022-03-10T10:31:50.034Z"
   },
   {
    "duration": 16,
    "start_time": "2022-03-10T10:31:50.045Z"
   },
   {
    "duration": 98,
    "start_time": "2022-03-10T10:31:50.064Z"
   },
   {
    "duration": 9,
    "start_time": "2022-03-10T10:31:50.164Z"
   },
   {
    "duration": 8,
    "start_time": "2022-03-10T10:31:50.176Z"
   },
   {
    "duration": 6,
    "start_time": "2022-03-10T10:31:50.186Z"
   },
   {
    "duration": 46,
    "start_time": "2022-03-10T10:31:50.195Z"
   },
   {
    "duration": 25,
    "start_time": "2022-03-10T10:31:50.245Z"
   },
   {
    "duration": 107,
    "start_time": "2022-03-10T10:31:50.274Z"
   },
   {
    "duration": 3,
    "start_time": "2022-03-10T10:31:50.383Z"
   },
   {
    "duration": 9,
    "start_time": "2022-03-10T10:31:50.388Z"
   },
   {
    "duration": 41,
    "start_time": "2022-03-10T10:31:50.400Z"
   },
   {
    "duration": 11,
    "start_time": "2022-03-10T10:32:11.761Z"
   },
   {
    "duration": 32,
    "start_time": "2022-03-10T10:42:03.573Z"
   },
   {
    "duration": 68,
    "start_time": "2022-03-10T10:42:08.468Z"
   },
   {
    "duration": 12,
    "start_time": "2022-03-10T10:42:09.532Z"
   },
   {
    "duration": 518,
    "start_time": "2022-03-10T10:44:18.501Z"
   },
   {
    "duration": 69,
    "start_time": "2022-03-10T10:44:30.293Z"
   },
   {
    "duration": 68,
    "start_time": "2022-03-10T10:44:37.675Z"
   },
   {
    "duration": 10,
    "start_time": "2022-03-10T10:44:39.532Z"
   },
   {
    "duration": 737,
    "start_time": "2022-03-10T10:44:46.674Z"
   },
   {
    "duration": 705,
    "start_time": "2022-03-10T10:44:47.414Z"
   },
   {
    "duration": 32,
    "start_time": "2022-03-10T10:44:48.122Z"
   },
   {
    "duration": 23,
    "start_time": "2022-03-10T10:44:48.157Z"
   },
   {
    "duration": 16,
    "start_time": "2022-03-10T10:44:48.182Z"
   },
   {
    "duration": 4,
    "start_time": "2022-03-10T10:44:48.234Z"
   },
   {
    "duration": 7,
    "start_time": "2022-03-10T10:44:48.241Z"
   },
   {
    "duration": 6,
    "start_time": "2022-03-10T10:44:48.252Z"
   },
   {
    "duration": 10,
    "start_time": "2022-03-10T10:44:48.262Z"
   },
   {
    "duration": 58,
    "start_time": "2022-03-10T10:44:48.275Z"
   },
   {
    "duration": 14,
    "start_time": "2022-03-10T10:44:48.335Z"
   },
   {
    "duration": 82,
    "start_time": "2022-03-10T10:44:48.352Z"
   },
   {
    "duration": 11,
    "start_time": "2022-03-10T10:44:48.438Z"
   },
   {
    "duration": 5,
    "start_time": "2022-03-10T10:44:48.452Z"
   },
   {
    "duration": 7,
    "start_time": "2022-03-10T10:44:48.460Z"
   },
   {
    "duration": 8,
    "start_time": "2022-03-10T10:44:48.470Z"
   },
   {
    "duration": 55,
    "start_time": "2022-03-10T10:44:48.480Z"
   },
   {
    "duration": 69,
    "start_time": "2022-03-10T10:44:48.538Z"
   },
   {
    "duration": 87,
    "start_time": "2022-03-10T10:44:48.610Z"
   },
   {
    "duration": 33,
    "start_time": "2022-03-10T10:44:48.699Z"
   },
   {
    "duration": 8,
    "start_time": "2022-03-10T10:44:48.735Z"
   },
   {
    "duration": 25,
    "start_time": "2022-03-10T10:44:48.746Z"
   },
   {
    "duration": 65,
    "start_time": "2022-03-10T10:46:41.576Z"
   },
   {
    "duration": 63,
    "start_time": "2022-03-10T10:46:46.561Z"
   },
   {
    "duration": 61,
    "start_time": "2022-03-10T10:47:02.271Z"
   },
   {
    "duration": 9,
    "start_time": "2022-03-10T10:47:05.456Z"
   },
   {
    "duration": 13,
    "start_time": "2022-03-10T10:47:47.327Z"
   },
   {
    "duration": 6,
    "start_time": "2022-03-10T10:48:34.905Z"
   },
   {
    "duration": 9,
    "start_time": "2022-03-10T10:48:39.464Z"
   },
   {
    "duration": 6,
    "start_time": "2022-03-10T10:49:54.784Z"
   },
   {
    "duration": 15,
    "start_time": "2022-03-10T10:49:56.592Z"
   },
   {
    "duration": 423,
    "start_time": "2022-03-10T10:50:23.559Z"
   },
   {
    "duration": 35,
    "start_time": "2022-03-10T10:50:32.417Z"
   },
   {
    "duration": 24,
    "start_time": "2022-03-10T10:52:36.794Z"
   },
   {
    "duration": 113,
    "start_time": "2022-03-10T10:52:48.088Z"
   },
   {
    "duration": 26,
    "start_time": "2022-03-10T10:53:28.666Z"
   },
   {
    "duration": 22,
    "start_time": "2022-03-10T10:55:19.648Z"
   },
   {
    "duration": 25,
    "start_time": "2022-03-10T10:55:27.784Z"
   },
   {
    "duration": 20,
    "start_time": "2022-03-10T11:02:26.850Z"
   },
   {
    "duration": 24,
    "start_time": "2022-03-10T11:02:29.187Z"
   },
   {
    "duration": 740,
    "start_time": "2022-03-10T11:02:35.682Z"
   },
   {
    "duration": 714,
    "start_time": "2022-03-10T11:02:36.425Z"
   },
   {
    "duration": 32,
    "start_time": "2022-03-10T11:02:37.142Z"
   },
   {
    "duration": 33,
    "start_time": "2022-03-10T11:02:37.177Z"
   },
   {
    "duration": 33,
    "start_time": "2022-03-10T11:02:37.212Z"
   },
   {
    "duration": 5,
    "start_time": "2022-03-10T11:02:37.248Z"
   },
   {
    "duration": 9,
    "start_time": "2022-03-10T11:02:37.255Z"
   },
   {
    "duration": 14,
    "start_time": "2022-03-10T11:02:37.267Z"
   },
   {
    "duration": 52,
    "start_time": "2022-03-10T11:02:37.284Z"
   },
   {
    "duration": 6,
    "start_time": "2022-03-10T11:02:37.339Z"
   },
   {
    "duration": 15,
    "start_time": "2022-03-10T11:02:37.348Z"
   },
   {
    "duration": 89,
    "start_time": "2022-03-10T11:02:37.365Z"
   },
   {
    "duration": 8,
    "start_time": "2022-03-10T11:02:37.457Z"
   },
   {
    "duration": 6,
    "start_time": "2022-03-10T11:02:37.467Z"
   },
   {
    "duration": 6,
    "start_time": "2022-03-10T11:02:37.475Z"
   },
   {
    "duration": 53,
    "start_time": "2022-03-10T11:02:37.483Z"
   },
   {
    "duration": 65,
    "start_time": "2022-03-10T11:02:37.539Z"
   },
   {
    "duration": 75,
    "start_time": "2022-03-10T11:02:37.607Z"
   },
   {
    "duration": 9,
    "start_time": "2022-03-10T11:02:37.685Z"
   },
   {
    "duration": 6,
    "start_time": "2022-03-10T11:02:37.697Z"
   },
   {
    "duration": 10,
    "start_time": "2022-03-10T11:02:37.732Z"
   },
   {
    "duration": 6,
    "start_time": "2022-03-10T11:02:37.745Z"
   },
   {
    "duration": 16,
    "start_time": "2022-03-10T11:02:37.755Z"
   },
   {
    "duration": 83,
    "start_time": "2022-03-10T11:02:37.773Z"
   },
   {
    "duration": 24,
    "start_time": "2022-03-10T11:02:37.858Z"
   },
   {
    "duration": 61,
    "start_time": "2022-03-10T11:02:37.885Z"
   },
   {
    "duration": 39,
    "start_time": "2022-03-10T11:04:11.536Z"
   },
   {
    "duration": 28,
    "start_time": "2022-03-10T11:04:30.007Z"
   },
   {
    "duration": 25,
    "start_time": "2022-03-10T11:04:34.400Z"
   },
   {
    "duration": 28,
    "start_time": "2022-03-10T11:05:05.753Z"
   },
   {
    "duration": 26,
    "start_time": "2022-03-10T11:05:07.964Z"
   },
   {
    "duration": 26,
    "start_time": "2022-03-10T11:07:23.000Z"
   },
   {
    "duration": 27,
    "start_time": "2022-03-10T11:07:25.591Z"
   },
   {
    "duration": 748,
    "start_time": "2022-03-10T11:07:33.047Z"
   },
   {
    "duration": 719,
    "start_time": "2022-03-10T11:07:33.798Z"
   },
   {
    "duration": 33,
    "start_time": "2022-03-10T11:07:34.524Z"
   },
   {
    "duration": 24,
    "start_time": "2022-03-10T11:07:34.560Z"
   },
   {
    "duration": 47,
    "start_time": "2022-03-10T11:07:34.586Z"
   },
   {
    "duration": 5,
    "start_time": "2022-03-10T11:07:34.635Z"
   },
   {
    "duration": 6,
    "start_time": "2022-03-10T11:07:34.644Z"
   },
   {
    "duration": 9,
    "start_time": "2022-03-10T11:07:34.653Z"
   },
   {
    "duration": 6,
    "start_time": "2022-03-10T11:07:34.664Z"
   },
   {
    "duration": 6,
    "start_time": "2022-03-10T11:07:34.672Z"
   },
   {
    "duration": 66,
    "start_time": "2022-03-10T11:07:34.681Z"
   },
   {
    "duration": 47,
    "start_time": "2022-03-10T11:07:34.749Z"
   },
   {
    "duration": 37,
    "start_time": "2022-03-10T11:07:34.799Z"
   },
   {
    "duration": 6,
    "start_time": "2022-03-10T11:07:34.839Z"
   },
   {
    "duration": 6,
    "start_time": "2022-03-10T11:07:34.847Z"
   },
   {
    "duration": 9,
    "start_time": "2022-03-10T11:07:34.855Z"
   },
   {
    "duration": 117,
    "start_time": "2022-03-10T11:07:34.867Z"
   },
   {
    "duration": 71,
    "start_time": "2022-03-10T11:07:34.986Z"
   },
   {
    "duration": 10,
    "start_time": "2022-03-10T11:07:35.060Z"
   },
   {
    "duration": 8,
    "start_time": "2022-03-10T11:07:35.073Z"
   },
   {
    "duration": 53,
    "start_time": "2022-03-10T11:07:35.084Z"
   },
   {
    "duration": 6,
    "start_time": "2022-03-10T11:07:35.141Z"
   },
   {
    "duration": 17,
    "start_time": "2022-03-10T11:07:35.151Z"
   },
   {
    "duration": 81,
    "start_time": "2022-03-10T11:07:35.171Z"
   },
   {
    "duration": 20,
    "start_time": "2022-03-10T11:07:35.254Z"
   },
   {
    "duration": 25,
    "start_time": "2022-03-10T11:07:35.276Z"
   },
   {
    "duration": 29,
    "start_time": "2022-03-10T11:07:50.687Z"
   },
   {
    "duration": 25,
    "start_time": "2022-03-10T11:07:52.547Z"
   },
   {
    "duration": 431,
    "start_time": "2022-03-10T11:12:02.032Z"
   },
   {
    "duration": 324,
    "start_time": "2022-03-10T11:12:02.765Z"
   },
   {
    "duration": 8930,
    "start_time": "2022-03-10T11:12:09.662Z"
   },
   {
    "duration": 14,
    "start_time": "2022-03-10T11:12:21.541Z"
   },
   {
    "duration": 5,
    "start_time": "2022-03-10T11:18:26.910Z"
   },
   {
    "duration": 117,
    "start_time": "2022-03-10T11:19:36.479Z"
   },
   {
    "duration": 8,
    "start_time": "2022-03-10T11:19:47.687Z"
   },
   {
    "duration": 58,
    "start_time": "2022-03-10T11:20:00.272Z"
   },
   {
    "duration": 15,
    "start_time": "2022-03-10T11:20:03.695Z"
   },
   {
    "duration": 5,
    "start_time": "2022-03-10T11:20:07.870Z"
   },
   {
    "duration": 11,
    "start_time": "2022-03-10T11:20:10.774Z"
   },
   {
    "duration": 14,
    "start_time": "2022-03-10T11:20:14.495Z"
   },
   {
    "duration": 16,
    "start_time": "2022-03-10T11:21:10.318Z"
   },
   {
    "duration": 70,
    "start_time": "2022-03-10T11:27:06.008Z"
   },
   {
    "duration": 10,
    "start_time": "2022-03-10T11:27:07.687Z"
   },
   {
    "duration": 808,
    "start_time": "2022-03-10T11:27:13.596Z"
   },
   {
    "duration": 726,
    "start_time": "2022-03-10T11:27:14.407Z"
   },
   {
    "duration": 32,
    "start_time": "2022-03-10T11:27:15.136Z"
   },
   {
    "duration": 23,
    "start_time": "2022-03-10T11:27:15.171Z"
   },
   {
    "duration": 48,
    "start_time": "2022-03-10T11:27:15.196Z"
   },
   {
    "duration": 5,
    "start_time": "2022-03-10T11:27:15.247Z"
   },
   {
    "duration": 5,
    "start_time": "2022-03-10T11:27:15.254Z"
   },
   {
    "duration": 7,
    "start_time": "2022-03-10T11:27:15.263Z"
   },
   {
    "duration": 60,
    "start_time": "2022-03-10T11:27:15.273Z"
   },
   {
    "duration": 5,
    "start_time": "2022-03-10T11:27:15.336Z"
   },
   {
    "duration": 14,
    "start_time": "2022-03-10T11:27:15.344Z"
   },
   {
    "duration": 97,
    "start_time": "2022-03-10T11:27:15.361Z"
   },
   {
    "duration": 7,
    "start_time": "2022-03-10T11:27:15.460Z"
   },
   {
    "duration": 7,
    "start_time": "2022-03-10T11:27:15.469Z"
   },
   {
    "duration": 5,
    "start_time": "2022-03-10T11:27:15.478Z"
   },
   {
    "duration": 48,
    "start_time": "2022-03-10T11:27:15.485Z"
   },
   {
    "duration": 8,
    "start_time": "2022-03-10T11:27:15.536Z"
   },
   {
    "duration": 109,
    "start_time": "2022-03-10T11:27:15.546Z"
   },
   {
    "duration": -9399,
    "start_time": "2022-03-10T11:27:25.057Z"
   },
   {
    "duration": -9406,
    "start_time": "2022-03-10T11:27:25.066Z"
   },
   {
    "duration": -9409,
    "start_time": "2022-03-10T11:27:25.070Z"
   },
   {
    "duration": -9411,
    "start_time": "2022-03-10T11:27:25.074Z"
   },
   {
    "duration": -9426,
    "start_time": "2022-03-10T11:27:25.091Z"
   },
   {
    "duration": -9431,
    "start_time": "2022-03-10T11:27:25.097Z"
   },
   {
    "duration": -9433,
    "start_time": "2022-03-10T11:27:25.101Z"
   },
   {
    "duration": -9437,
    "start_time": "2022-03-10T11:27:25.106Z"
   },
   {
    "duration": -9443,
    "start_time": "2022-03-10T11:27:25.114Z"
   },
   {
    "duration": -9447,
    "start_time": "2022-03-10T11:27:25.119Z"
   },
   {
    "duration": -9449,
    "start_time": "2022-03-10T11:27:25.123Z"
   },
   {
    "duration": 971,
    "start_time": "2022-03-10T11:27:47.178Z"
   },
   {
    "duration": 869,
    "start_time": "2022-03-10T11:27:48.152Z"
   },
   {
    "duration": 31,
    "start_time": "2022-03-10T11:27:49.025Z"
   },
   {
    "duration": 22,
    "start_time": "2022-03-10T11:27:49.059Z"
   },
   {
    "duration": 55,
    "start_time": "2022-03-10T11:27:49.084Z"
   },
   {
    "duration": 6,
    "start_time": "2022-03-10T11:27:49.142Z"
   },
   {
    "duration": 7,
    "start_time": "2022-03-10T11:27:49.151Z"
   },
   {
    "duration": 8,
    "start_time": "2022-03-10T11:27:49.165Z"
   },
   {
    "duration": 58,
    "start_time": "2022-03-10T11:27:49.176Z"
   },
   {
    "duration": 7,
    "start_time": "2022-03-10T11:27:49.237Z"
   },
   {
    "duration": 16,
    "start_time": "2022-03-10T11:27:49.246Z"
   },
   {
    "duration": 94,
    "start_time": "2022-03-10T11:27:49.264Z"
   },
   {
    "duration": 8,
    "start_time": "2022-03-10T11:27:49.360Z"
   },
   {
    "duration": 10,
    "start_time": "2022-03-10T11:27:49.372Z"
   },
   {
    "duration": 9,
    "start_time": "2022-03-10T11:27:49.385Z"
   },
   {
    "duration": 38,
    "start_time": "2022-03-10T11:27:49.397Z"
   },
   {
    "duration": 10,
    "start_time": "2022-03-10T11:27:49.438Z"
   },
   {
    "duration": 3,
    "start_time": "2022-03-10T11:27:49.451Z"
   },
   {
    "duration": 102,
    "start_time": "2022-03-10T11:27:49.457Z"
   },
   {
    "duration": 10,
    "start_time": "2022-03-10T11:27:49.561Z"
   },
   {
    "duration": 8,
    "start_time": "2022-03-10T11:27:49.574Z"
   },
   {
    "duration": 47,
    "start_time": "2022-03-10T11:27:49.585Z"
   },
   {
    "duration": 23,
    "start_time": "2022-03-10T11:27:49.639Z"
   },
   {
    "duration": 18,
    "start_time": "2022-03-10T11:27:49.665Z"
   },
   {
    "duration": 7,
    "start_time": "2022-03-10T11:27:49.686Z"
   },
   {
    "duration": 59,
    "start_time": "2022-03-10T11:27:49.696Z"
   },
   {
    "duration": 80,
    "start_time": "2022-03-10T11:27:49.758Z"
   },
   {
    "duration": 37,
    "start_time": "2022-03-10T11:27:49.841Z"
   },
   {
    "duration": 59,
    "start_time": "2022-03-10T11:27:49.881Z"
   },
   {
    "duration": 6,
    "start_time": "2022-03-10T12:03:43.256Z"
   },
   {
    "duration": 10,
    "start_time": "2022-03-10T12:05:14.489Z"
   },
   {
    "duration": 11,
    "start_time": "2022-03-10T12:15:43.058Z"
   },
   {
    "duration": 6,
    "start_time": "2022-03-10T12:15:48.273Z"
   },
   {
    "duration": 12,
    "start_time": "2022-03-10T12:15:50.217Z"
   },
   {
    "duration": 9,
    "start_time": "2022-03-10T12:16:17.210Z"
   },
   {
    "duration": 7,
    "start_time": "2022-03-10T12:16:20.169Z"
   },
   {
    "duration": 12,
    "start_time": "2022-03-10T12:16:27.203Z"
   },
   {
    "duration": 793,
    "start_time": "2022-03-10T12:17:16.312Z"
   },
   {
    "duration": 706,
    "start_time": "2022-03-10T12:17:17.108Z"
   },
   {
    "duration": 32,
    "start_time": "2022-03-10T12:17:17.817Z"
   },
   {
    "duration": 24,
    "start_time": "2022-03-10T12:17:17.852Z"
   },
   {
    "duration": 56,
    "start_time": "2022-03-10T12:17:17.878Z"
   },
   {
    "duration": 5,
    "start_time": "2022-03-10T12:17:17.936Z"
   },
   {
    "duration": 8,
    "start_time": "2022-03-10T12:17:17.944Z"
   },
   {
    "duration": 8,
    "start_time": "2022-03-10T12:17:17.956Z"
   },
   {
    "duration": 7,
    "start_time": "2022-03-10T12:17:17.967Z"
   },
   {
    "duration": 58,
    "start_time": "2022-03-10T12:17:17.976Z"
   },
   {
    "duration": 13,
    "start_time": "2022-03-10T12:17:18.036Z"
   },
   {
    "duration": 82,
    "start_time": "2022-03-10T12:17:18.052Z"
   },
   {
    "duration": 9,
    "start_time": "2022-03-10T12:17:18.137Z"
   },
   {
    "duration": 6,
    "start_time": "2022-03-10T12:17:18.148Z"
   },
   {
    "duration": 5,
    "start_time": "2022-03-10T12:17:18.156Z"
   },
   {
    "duration": 9,
    "start_time": "2022-03-10T12:17:18.164Z"
   },
   {
    "duration": 57,
    "start_time": "2022-03-10T12:17:18.176Z"
   },
   {
    "duration": 100,
    "start_time": "2022-03-10T12:17:18.236Z"
   },
   {
    "duration": 9,
    "start_time": "2022-03-10T12:17:18.338Z"
   },
   {
    "duration": 6,
    "start_time": "2022-03-10T12:17:18.350Z"
   },
   {
    "duration": 12,
    "start_time": "2022-03-10T12:17:18.358Z"
   },
   {
    "duration": 60,
    "start_time": "2022-03-10T12:17:18.372Z"
   },
   {
    "duration": 6,
    "start_time": "2022-03-10T12:17:18.438Z"
   },
   {
    "duration": 13,
    "start_time": "2022-03-10T12:17:18.447Z"
   },
   {
    "duration": 6,
    "start_time": "2022-03-10T12:17:18.462Z"
   },
   {
    "duration": 64,
    "start_time": "2022-03-10T12:17:18.471Z"
   },
   {
    "duration": 32,
    "start_time": "2022-03-10T12:17:18.537Z"
   },
   {
    "duration": 67,
    "start_time": "2022-03-10T12:17:18.572Z"
   },
   {
    "duration": 22,
    "start_time": "2022-03-10T12:17:18.642Z"
   },
   {
    "duration": 8659,
    "start_time": "2022-03-10T12:22:34.108Z"
   },
   {
    "duration": 12,
    "start_time": "2022-03-10T12:22:50.540Z"
   },
   {
    "duration": 5,
    "start_time": "2022-03-10T12:57:06.955Z"
   },
   {
    "duration": 772,
    "start_time": "2022-03-10T12:57:37.012Z"
   },
   {
    "duration": 895,
    "start_time": "2022-03-10T12:57:37.787Z"
   },
   {
    "duration": 32,
    "start_time": "2022-03-10T12:57:38.685Z"
   },
   {
    "duration": 24,
    "start_time": "2022-03-10T12:57:38.720Z"
   },
   {
    "duration": 18,
    "start_time": "2022-03-10T12:57:38.747Z"
   },
   {
    "duration": 5,
    "start_time": "2022-03-10T12:57:38.768Z"
   },
   {
    "duration": 9,
    "start_time": "2022-03-10T12:57:38.775Z"
   },
   {
    "duration": 7,
    "start_time": "2022-03-10T12:57:38.788Z"
   },
   {
    "duration": 7,
    "start_time": "2022-03-10T12:57:38.835Z"
   },
   {
    "duration": 9,
    "start_time": "2022-03-10T12:57:38.845Z"
   },
   {
    "duration": 16,
    "start_time": "2022-03-10T12:57:38.857Z"
   },
   {
    "duration": 91,
    "start_time": "2022-03-10T12:57:38.876Z"
   },
   {
    "duration": 7,
    "start_time": "2022-03-10T12:57:38.970Z"
   },
   {
    "duration": 10,
    "start_time": "2022-03-10T12:57:38.979Z"
   },
   {
    "duration": 7,
    "start_time": "2022-03-10T12:57:38.991Z"
   },
   {
    "duration": 39,
    "start_time": "2022-03-10T12:57:39.000Z"
   },
   {
    "duration": 9,
    "start_time": "2022-03-10T12:57:39.042Z"
   },
   {
    "duration": 88,
    "start_time": "2022-03-10T12:57:39.053Z"
   },
   {
    "duration": 10,
    "start_time": "2022-03-10T12:57:39.143Z"
   },
   {
    "duration": 6,
    "start_time": "2022-03-10T12:57:39.156Z"
   },
   {
    "duration": 14,
    "start_time": "2022-03-10T12:57:39.165Z"
   },
   {
    "duration": 61,
    "start_time": "2022-03-10T12:57:39.182Z"
   },
   {
    "duration": 18,
    "start_time": "2022-03-10T12:57:39.249Z"
   },
   {
    "duration": 7,
    "start_time": "2022-03-10T12:57:39.270Z"
   },
   {
    "duration": 7,
    "start_time": "2022-03-10T12:57:39.280Z"
   },
   {
    "duration": 22,
    "start_time": "2022-03-10T12:57:39.334Z"
   },
   {
    "duration": 32,
    "start_time": "2022-03-10T12:57:39.359Z"
   },
   {
    "duration": 58,
    "start_time": "2022-03-10T12:57:39.394Z"
   },
   {
    "duration": 24,
    "start_time": "2022-03-10T12:57:39.454Z"
   },
   {
    "duration": 370,
    "start_time": "2022-03-11T08:12:24.050Z"
   },
   {
    "duration": 839,
    "start_time": "2022-03-11T08:12:30.084Z"
   },
   {
    "duration": 696,
    "start_time": "2022-03-11T08:12:30.925Z"
   },
   {
    "duration": 32,
    "start_time": "2022-03-11T08:12:31.624Z"
   },
   {
    "duration": 25,
    "start_time": "2022-03-11T08:12:31.659Z"
   },
   {
    "duration": 24,
    "start_time": "2022-03-11T08:12:31.687Z"
   },
   {
    "duration": 15,
    "start_time": "2022-03-11T08:12:31.714Z"
   },
   {
    "duration": 22,
    "start_time": "2022-03-11T08:12:31.731Z"
   },
   {
    "duration": 15,
    "start_time": "2022-03-11T08:12:31.757Z"
   },
   {
    "duration": 14,
    "start_time": "2022-03-11T08:12:31.775Z"
   },
   {
    "duration": 15,
    "start_time": "2022-03-11T08:12:31.792Z"
   },
   {
    "duration": 43,
    "start_time": "2022-03-11T08:12:31.809Z"
   },
   {
    "duration": 50,
    "start_time": "2022-03-11T08:12:31.854Z"
   },
   {
    "duration": 7,
    "start_time": "2022-03-11T08:12:31.906Z"
   },
   {
    "duration": 6,
    "start_time": "2022-03-11T08:12:31.916Z"
   },
   {
    "duration": 4,
    "start_time": "2022-03-11T08:12:31.951Z"
   },
   {
    "duration": 11,
    "start_time": "2022-03-11T08:12:31.958Z"
   },
   {
    "duration": 9,
    "start_time": "2022-03-11T08:12:31.972Z"
   },
   {
    "duration": 97,
    "start_time": "2022-03-11T08:12:31.983Z"
   },
   {
    "duration": 10,
    "start_time": "2022-03-11T08:12:32.082Z"
   },
   {
    "duration": 9,
    "start_time": "2022-03-11T08:12:32.094Z"
   },
   {
    "duration": 14,
    "start_time": "2022-03-11T08:12:32.106Z"
   },
   {
    "duration": 41,
    "start_time": "2022-03-11T08:12:32.122Z"
   },
   {
    "duration": 14,
    "start_time": "2022-03-11T08:12:32.167Z"
   },
   {
    "duration": 12,
    "start_time": "2022-03-11T08:12:32.183Z"
   },
   {
    "duration": 67,
    "start_time": "2022-03-11T08:12:32.197Z"
   },
   {
    "duration": 5,
    "start_time": "2022-03-11T08:12:32.267Z"
   },
   {
    "duration": 17,
    "start_time": "2022-03-11T08:12:32.275Z"
   },
   {
    "duration": 66,
    "start_time": "2022-03-11T08:12:32.294Z"
   },
   {
    "duration": 30,
    "start_time": "2022-03-11T08:12:32.362Z"
   },
   {
    "duration": 24,
    "start_time": "2022-03-11T08:12:32.395Z"
   },
   {
    "duration": 462,
    "start_time": "2022-03-11T08:38:19.975Z"
   },
   {
    "duration": 364,
    "start_time": "2022-03-11T08:44:42.728Z"
   },
   {
    "duration": 12,
    "start_time": "2022-03-11T08:44:50.074Z"
   },
   {
    "duration": 11,
    "start_time": "2022-03-11T08:44:52.865Z"
   },
   {
    "duration": 17,
    "start_time": "2022-03-11T08:45:09.147Z"
   },
   {
    "duration": 19,
    "start_time": "2022-03-11T08:46:37.275Z"
   },
   {
    "duration": 20,
    "start_time": "2022-03-11T08:48:07.292Z"
   },
   {
    "duration": 5,
    "start_time": "2022-03-11T08:51:24.938Z"
   },
   {
    "duration": 257,
    "start_time": "2022-03-11T08:57:37.933Z"
   },
   {
    "duration": 19,
    "start_time": "2022-03-11T08:57:59.445Z"
   },
   {
    "duration": 22,
    "start_time": "2022-03-11T08:58:26.769Z"
   },
   {
    "duration": 19,
    "start_time": "2022-03-11T08:59:46.317Z"
   },
   {
    "duration": 46,
    "start_time": "2022-03-11T09:03:07.102Z"
   },
   {
    "duration": 25,
    "start_time": "2022-03-11T09:03:19.712Z"
   },
   {
    "duration": 12,
    "start_time": "2022-03-11T09:04:55.158Z"
   },
   {
    "duration": 11,
    "start_time": "2022-03-11T09:05:00.365Z"
   },
   {
    "duration": 770,
    "start_time": "2022-03-11T09:05:10.660Z"
   },
   {
    "duration": 659,
    "start_time": "2022-03-11T09:05:11.433Z"
   },
   {
    "duration": 34,
    "start_time": "2022-03-11T09:05:12.095Z"
   },
   {
    "duration": 26,
    "start_time": "2022-03-11T09:05:12.132Z"
   },
   {
    "duration": 14,
    "start_time": "2022-03-11T09:05:12.161Z"
   },
   {
    "duration": 5,
    "start_time": "2022-03-11T09:05:12.177Z"
   },
   {
    "duration": 6,
    "start_time": "2022-03-11T09:05:12.185Z"
   },
   {
    "duration": 57,
    "start_time": "2022-03-11T09:05:12.197Z"
   },
   {
    "duration": 8,
    "start_time": "2022-03-11T09:05:12.259Z"
   },
   {
    "duration": 8,
    "start_time": "2022-03-11T09:05:12.270Z"
   },
   {
    "duration": 18,
    "start_time": "2022-03-11T09:05:12.281Z"
   },
   {
    "duration": 67,
    "start_time": "2022-03-11T09:05:12.353Z"
   },
   {
    "duration": 29,
    "start_time": "2022-03-11T09:05:12.423Z"
   },
   {
    "duration": 8,
    "start_time": "2022-03-11T09:05:12.455Z"
   },
   {
    "duration": 7,
    "start_time": "2022-03-11T09:05:12.466Z"
   },
   {
    "duration": 10,
    "start_time": "2022-03-11T09:05:12.476Z"
   },
   {
    "duration": 63,
    "start_time": "2022-03-11T09:05:12.490Z"
   },
   {
    "duration": 55,
    "start_time": "2022-03-11T09:05:12.556Z"
   },
   {
    "duration": 9,
    "start_time": "2022-03-11T09:05:12.614Z"
   },
   {
    "duration": 7,
    "start_time": "2022-03-11T09:05:12.651Z"
   },
   {
    "duration": 14,
    "start_time": "2022-03-11T09:05:12.661Z"
   },
   {
    "duration": 17,
    "start_time": "2022-03-11T09:05:12.678Z"
   },
   {
    "duration": 15,
    "start_time": "2022-03-11T09:05:12.750Z"
   },
   {
    "duration": 9,
    "start_time": "2022-03-11T09:05:12.769Z"
   },
   {
    "duration": 9,
    "start_time": "2022-03-11T09:05:12.781Z"
   },
   {
    "duration": 62,
    "start_time": "2022-03-11T09:05:12.793Z"
   },
   {
    "duration": 37,
    "start_time": "2022-03-11T09:05:12.858Z"
   },
   {
    "duration": 73,
    "start_time": "2022-03-11T09:05:12.898Z"
   },
   {
    "duration": 25,
    "start_time": "2022-03-11T09:05:12.973Z"
   },
   {
    "duration": 18,
    "start_time": "2022-03-11T09:05:13.000Z"
   },
   {
    "duration": 45,
    "start_time": "2022-03-11T09:05:13.020Z"
   },
   {
    "duration": 24,
    "start_time": "2022-03-11T09:05:13.069Z"
   },
   {
    "duration": 11,
    "start_time": "2022-03-11T09:05:22.022Z"
   },
   {
    "duration": 18,
    "start_time": "2022-03-11T09:05:51.328Z"
   },
   {
    "duration": 19,
    "start_time": "2022-03-11T09:06:12.736Z"
   },
   {
    "duration": 37,
    "start_time": "2022-03-11T09:08:18.026Z"
   },
   {
    "duration": 360,
    "start_time": "2022-03-11T09:11:25.194Z"
   },
   {
    "duration": 270,
    "start_time": "2022-03-11T09:12:03.914Z"
   },
   {
    "duration": 826,
    "start_time": "2022-03-11T09:12:12.199Z"
   },
   {
    "duration": 701,
    "start_time": "2022-03-11T09:12:13.028Z"
   },
   {
    "duration": 34,
    "start_time": "2022-03-11T09:12:13.733Z"
   },
   {
    "duration": 25,
    "start_time": "2022-03-11T09:12:13.771Z"
   },
   {
    "duration": 58,
    "start_time": "2022-03-11T09:12:13.799Z"
   },
   {
    "duration": 5,
    "start_time": "2022-03-11T09:12:13.861Z"
   },
   {
    "duration": 6,
    "start_time": "2022-03-11T09:12:13.869Z"
   },
   {
    "duration": 9,
    "start_time": "2022-03-11T09:12:13.880Z"
   },
   {
    "duration": 7,
    "start_time": "2022-03-11T09:12:13.893Z"
   },
   {
    "duration": 52,
    "start_time": "2022-03-11T09:12:13.903Z"
   },
   {
    "duration": 14,
    "start_time": "2022-03-11T09:12:13.958Z"
   },
   {
    "duration": 98,
    "start_time": "2022-03-11T09:12:13.975Z"
   },
   {
    "duration": 8,
    "start_time": "2022-03-11T09:12:14.076Z"
   },
   {
    "duration": 6,
    "start_time": "2022-03-11T09:12:14.086Z"
   },
   {
    "duration": 5,
    "start_time": "2022-03-11T09:12:14.094Z"
   },
   {
    "duration": 7,
    "start_time": "2022-03-11T09:12:14.101Z"
   },
   {
    "duration": 10,
    "start_time": "2022-03-11T09:12:14.152Z"
   },
   {
    "duration": 87,
    "start_time": "2022-03-11T09:12:14.164Z"
   },
   {
    "duration": 11,
    "start_time": "2022-03-11T09:12:14.254Z"
   },
   {
    "duration": 8,
    "start_time": "2022-03-11T09:12:14.267Z"
   },
   {
    "duration": 11,
    "start_time": "2022-03-11T09:12:14.277Z"
   },
   {
    "duration": 12,
    "start_time": "2022-03-11T09:12:14.291Z"
   },
   {
    "duration": 13,
    "start_time": "2022-03-11T09:12:14.352Z"
   },
   {
    "duration": 6,
    "start_time": "2022-03-11T09:12:14.368Z"
   },
   {
    "duration": 7,
    "start_time": "2022-03-11T09:12:14.377Z"
   },
   {
    "duration": 64,
    "start_time": "2022-03-11T09:12:14.387Z"
   },
   {
    "duration": 34,
    "start_time": "2022-03-11T09:12:14.454Z"
   },
   {
    "duration": 68,
    "start_time": "2022-03-11T09:12:14.490Z"
   },
   {
    "duration": 25,
    "start_time": "2022-03-11T09:12:14.560Z"
   },
   {
    "duration": 17,
    "start_time": "2022-03-11T09:12:14.587Z"
   },
   {
    "duration": 58,
    "start_time": "2022-03-11T09:12:14.607Z"
   },
   {
    "duration": 19,
    "start_time": "2022-03-11T09:12:14.668Z"
   },
   {
    "duration": 339,
    "start_time": "2022-03-11T10:01:46.132Z"
   },
   {
    "duration": 44,
    "start_time": "2022-03-11T10:02:16.054Z"
   },
   {
    "duration": 552,
    "start_time": "2022-03-12T12:47:09.131Z"
   },
   {
    "duration": 505,
    "start_time": "2022-03-12T12:47:09.684Z"
   },
   {
    "duration": 18,
    "start_time": "2022-03-12T12:47:10.193Z"
   },
   {
    "duration": 34,
    "start_time": "2022-03-12T12:47:10.212Z"
   },
   {
    "duration": 11,
    "start_time": "2022-03-12T12:47:10.247Z"
   },
   {
    "duration": 11,
    "start_time": "2022-03-12T12:47:10.259Z"
   },
   {
    "duration": 16,
    "start_time": "2022-03-12T12:47:10.271Z"
   },
   {
    "duration": 17,
    "start_time": "2022-03-12T12:47:10.289Z"
   },
   {
    "duration": 7,
    "start_time": "2022-03-12T12:47:10.308Z"
   },
   {
    "duration": 6,
    "start_time": "2022-03-12T12:47:10.316Z"
   },
   {
    "duration": 11,
    "start_time": "2022-03-12T12:47:10.324Z"
   },
   {
    "duration": 28,
    "start_time": "2022-03-12T12:47:10.336Z"
   },
   {
    "duration": 5,
    "start_time": "2022-03-12T12:47:10.365Z"
   },
   {
    "duration": 4,
    "start_time": "2022-03-12T12:47:10.372Z"
   },
   {
    "duration": 4,
    "start_time": "2022-03-12T12:47:10.401Z"
   },
   {
    "duration": 5,
    "start_time": "2022-03-12T12:47:10.406Z"
   },
   {
    "duration": 7,
    "start_time": "2022-03-12T12:47:10.413Z"
   },
   {
    "duration": 35,
    "start_time": "2022-03-12T12:47:10.421Z"
   },
   {
    "duration": 6,
    "start_time": "2022-03-12T12:47:10.458Z"
   },
   {
    "duration": 37,
    "start_time": "2022-03-12T12:47:10.465Z"
   },
   {
    "duration": 7,
    "start_time": "2022-03-12T12:47:10.503Z"
   },
   {
    "duration": 8,
    "start_time": "2022-03-12T12:47:10.511Z"
   },
   {
    "duration": 11,
    "start_time": "2022-03-12T12:47:10.520Z"
   },
   {
    "duration": 8,
    "start_time": "2022-03-12T12:47:10.532Z"
   },
   {
    "duration": 8,
    "start_time": "2022-03-12T12:47:10.541Z"
   },
   {
    "duration": 13,
    "start_time": "2022-03-12T12:47:10.552Z"
   },
   {
    "duration": 48,
    "start_time": "2022-03-12T12:47:10.566Z"
   },
   {
    "duration": 16,
    "start_time": "2022-03-12T12:47:10.616Z"
   },
   {
    "duration": 14,
    "start_time": "2022-03-12T12:47:10.633Z"
   },
   {
    "duration": 10,
    "start_time": "2022-03-12T12:47:10.649Z"
   },
   {
    "duration": 41,
    "start_time": "2022-03-12T12:47:10.660Z"
   },
   {
    "duration": 6,
    "start_time": "2022-03-12T12:47:10.703Z"
   },
   {
    "duration": 363,
    "start_time": "2022-03-12T12:47:10.710Z"
   },
   {
    "duration": 306,
    "start_time": "2022-03-12T13:19:58.716Z"
   },
   {
    "duration": 293,
    "start_time": "2022-03-12T13:31:38.654Z"
   },
   {
    "duration": 613,
    "start_time": "2022-03-12T13:31:45.368Z"
   },
   {
    "duration": 510,
    "start_time": "2022-03-12T13:31:45.983Z"
   },
   {
    "duration": 20,
    "start_time": "2022-03-12T13:31:46.495Z"
   },
   {
    "duration": 31,
    "start_time": "2022-03-12T13:31:46.517Z"
   },
   {
    "duration": 12,
    "start_time": "2022-03-12T13:31:46.549Z"
   },
   {
    "duration": 5,
    "start_time": "2022-03-12T13:31:46.563Z"
   },
   {
    "duration": 7,
    "start_time": "2022-03-12T13:31:46.570Z"
   },
   {
    "duration": 10,
    "start_time": "2022-03-12T13:31:46.578Z"
   },
   {
    "duration": 13,
    "start_time": "2022-03-12T13:31:46.590Z"
   },
   {
    "duration": 7,
    "start_time": "2022-03-12T13:31:46.605Z"
   },
   {
    "duration": 13,
    "start_time": "2022-03-12T13:31:46.614Z"
   },
   {
    "duration": 30,
    "start_time": "2022-03-12T13:31:46.628Z"
   },
   {
    "duration": 5,
    "start_time": "2022-03-12T13:31:46.660Z"
   },
   {
    "duration": 5,
    "start_time": "2022-03-12T13:31:46.666Z"
   },
   {
    "duration": 32,
    "start_time": "2022-03-12T13:31:46.672Z"
   },
   {
    "duration": 7,
    "start_time": "2022-03-12T13:31:46.705Z"
   },
   {
    "duration": 10,
    "start_time": "2022-03-12T13:31:46.714Z"
   },
   {
    "duration": 38,
    "start_time": "2022-03-12T13:31:46.725Z"
   },
   {
    "duration": 6,
    "start_time": "2022-03-12T13:31:46.765Z"
   },
   {
    "duration": 30,
    "start_time": "2022-03-12T13:31:46.773Z"
   },
   {
    "duration": 8,
    "start_time": "2022-03-12T13:31:46.805Z"
   },
   {
    "duration": 11,
    "start_time": "2022-03-12T13:31:46.815Z"
   },
   {
    "duration": 14,
    "start_time": "2022-03-12T13:31:46.827Z"
   },
   {
    "duration": 8,
    "start_time": "2022-03-12T13:31:46.843Z"
   },
   {
    "duration": 8,
    "start_time": "2022-03-12T13:31:46.853Z"
   },
   {
    "duration": 14,
    "start_time": "2022-03-12T13:31:46.862Z"
   },
   {
    "duration": 41,
    "start_time": "2022-03-12T13:31:46.879Z"
   },
   {
    "duration": 19,
    "start_time": "2022-03-12T13:31:46.922Z"
   },
   {
    "duration": 16,
    "start_time": "2022-03-12T13:31:46.943Z"
   },
   {
    "duration": 41,
    "start_time": "2022-03-12T13:31:46.961Z"
   },
   {
    "duration": 11,
    "start_time": "2022-03-12T13:31:47.003Z"
   },
   {
    "duration": 12,
    "start_time": "2022-03-12T13:31:47.015Z"
   },
   {
    "duration": 99,
    "start_time": "2022-03-12T13:59:36.298Z"
   },
   {
    "duration": 1487,
    "start_time": "2022-03-12T13:59:53.013Z"
   },
   {
    "duration": 5,
    "start_time": "2022-03-12T14:01:11.765Z"
   },
   {
    "duration": 4,
    "start_time": "2022-03-12T14:01:42.578Z"
   },
   {
    "duration": 5,
    "start_time": "2022-03-12T14:01:53.070Z"
   },
   {
    "duration": 1455,
    "start_time": "2022-03-12T14:02:51.672Z"
   },
   {
    "duration": 570,
    "start_time": "2022-03-12T14:06:30.830Z"
   },
   {
    "duration": 578,
    "start_time": "2022-03-12T14:06:31.402Z"
   },
   {
    "duration": 21,
    "start_time": "2022-03-12T14:06:31.983Z"
   },
   {
    "duration": 19,
    "start_time": "2022-03-12T14:06:32.006Z"
   },
   {
    "duration": 14,
    "start_time": "2022-03-12T14:06:32.027Z"
   },
   {
    "duration": 10,
    "start_time": "2022-03-12T14:06:32.043Z"
   },
   {
    "duration": 8,
    "start_time": "2022-03-12T14:06:32.054Z"
   },
   {
    "duration": 9,
    "start_time": "2022-03-12T14:06:32.064Z"
   },
   {
    "duration": 27,
    "start_time": "2022-03-12T14:06:32.075Z"
   },
   {
    "duration": 6,
    "start_time": "2022-03-12T14:06:32.104Z"
   },
   {
    "duration": 14,
    "start_time": "2022-03-12T14:06:32.111Z"
   },
   {
    "duration": 30,
    "start_time": "2022-03-12T14:06:32.126Z"
   },
   {
    "duration": 5,
    "start_time": "2022-03-12T14:06:32.157Z"
   },
   {
    "duration": 4,
    "start_time": "2022-03-12T14:06:32.164Z"
   },
   {
    "duration": 3,
    "start_time": "2022-03-12T14:06:32.201Z"
   },
   {
    "duration": 7,
    "start_time": "2022-03-12T14:06:32.206Z"
   },
   {
    "duration": 8,
    "start_time": "2022-03-12T14:06:32.214Z"
   },
   {
    "duration": 39,
    "start_time": "2022-03-12T14:06:32.223Z"
   },
   {
    "duration": 7,
    "start_time": "2022-03-12T14:06:32.263Z"
   },
   {
    "duration": 33,
    "start_time": "2022-03-12T14:06:32.271Z"
   },
   {
    "duration": 7,
    "start_time": "2022-03-12T14:06:32.305Z"
   },
   {
    "duration": 13,
    "start_time": "2022-03-12T14:06:32.313Z"
   },
   {
    "duration": 9,
    "start_time": "2022-03-12T14:06:32.329Z"
   },
   {
    "duration": 7,
    "start_time": "2022-03-12T14:06:32.341Z"
   },
   {
    "duration": 8,
    "start_time": "2022-03-12T14:06:32.350Z"
   },
   {
    "duration": 42,
    "start_time": "2022-03-12T14:06:32.359Z"
   },
   {
    "duration": 22,
    "start_time": "2022-03-12T14:06:32.403Z"
   },
   {
    "duration": 19,
    "start_time": "2022-03-12T14:06:32.426Z"
   },
   {
    "duration": 15,
    "start_time": "2022-03-12T14:06:32.446Z"
   },
   {
    "duration": 44,
    "start_time": "2022-03-12T14:06:32.462Z"
   },
   {
    "duration": 11,
    "start_time": "2022-03-12T14:06:32.508Z"
   },
   {
    "duration": 11,
    "start_time": "2022-03-12T14:06:32.521Z"
   },
   {
    "duration": 1487,
    "start_time": "2022-03-12T14:06:32.534Z"
   },
   {
    "duration": 103,
    "start_time": "2022-03-12T14:07:46.194Z"
   },
   {
    "duration": 1456,
    "start_time": "2022-03-12T14:07:56.030Z"
   },
   {
    "duration": 5,
    "start_time": "2022-03-12T14:09:08.783Z"
   },
   {
    "duration": 1434,
    "start_time": "2022-03-12T14:11:15.425Z"
   },
   {
    "duration": 7668,
    "start_time": "2022-03-12T14:50:59.723Z"
   },
   {
    "duration": 316,
    "start_time": "2022-03-12T14:57:55.943Z"
   },
   {
    "duration": 1351,
    "start_time": "2022-03-12T15:09:23.963Z"
   },
   {
    "duration": 1469,
    "start_time": "2022-03-12T15:10:16.569Z"
   },
   {
    "duration": 11,
    "start_time": "2022-03-12T15:20:52.349Z"
   },
   {
    "duration": 3,
    "start_time": "2022-03-12T15:36:10.519Z"
   },
   {
    "duration": 250,
    "start_time": "2022-03-12T15:36:15.035Z"
   },
   {
    "duration": 531,
    "start_time": "2022-03-12T15:36:38.867Z"
   },
   {
    "duration": 4,
    "start_time": "2022-03-12T15:37:45.555Z"
   },
   {
    "duration": 5,
    "start_time": "2022-03-12T15:39:18.818Z"
   },
   {
    "duration": 4,
    "start_time": "2022-03-12T15:40:04.792Z"
   },
   {
    "duration": 5,
    "start_time": "2022-03-12T15:40:17.101Z"
   },
   {
    "duration": 4,
    "start_time": "2022-03-12T15:40:35.483Z"
   },
   {
    "duration": 4,
    "start_time": "2022-03-12T15:41:24.183Z"
   },
   {
    "duration": 4,
    "start_time": "2022-03-12T15:41:52.198Z"
   },
   {
    "duration": 1169,
    "start_time": "2022-03-12T15:43:05.590Z"
   },
   {
    "duration": 18,
    "start_time": "2022-03-12T15:44:38.659Z"
   },
   {
    "duration": 4,
    "start_time": "2022-03-12T15:47:00.506Z"
   },
   {
    "duration": 22,
    "start_time": "2022-03-12T15:52:34.962Z"
   },
   {
    "duration": 17,
    "start_time": "2022-03-12T15:52:45.174Z"
   },
   {
    "duration": 532,
    "start_time": "2022-03-12T15:53:02.040Z"
   },
   {
    "duration": 574,
    "start_time": "2022-03-12T15:53:02.574Z"
   },
   {
    "duration": 18,
    "start_time": "2022-03-12T15:53:03.151Z"
   },
   {
    "duration": 16,
    "start_time": "2022-03-12T15:53:03.171Z"
   },
   {
    "duration": 16,
    "start_time": "2022-03-12T15:53:03.188Z"
   },
   {
    "duration": 5,
    "start_time": "2022-03-12T15:53:03.206Z"
   },
   {
    "duration": 8,
    "start_time": "2022-03-12T15:53:03.213Z"
   },
   {
    "duration": 10,
    "start_time": "2022-03-12T15:53:03.222Z"
   },
   {
    "duration": 7,
    "start_time": "2022-03-12T15:53:03.235Z"
   },
   {
    "duration": 7,
    "start_time": "2022-03-12T15:53:03.244Z"
   },
   {
    "duration": 12,
    "start_time": "2022-03-12T15:53:03.252Z"
   },
   {
    "duration": 57,
    "start_time": "2022-03-12T15:53:03.266Z"
   },
   {
    "duration": 5,
    "start_time": "2022-03-12T15:53:03.325Z"
   },
   {
    "duration": 7,
    "start_time": "2022-03-12T15:53:03.331Z"
   },
   {
    "duration": 15,
    "start_time": "2022-03-12T15:53:03.339Z"
   },
   {
    "duration": 11,
    "start_time": "2022-03-12T15:53:03.355Z"
   },
   {
    "duration": 9,
    "start_time": "2022-03-12T15:53:03.367Z"
   },
   {
    "duration": 48,
    "start_time": "2022-03-12T15:53:03.377Z"
   },
   {
    "duration": 7,
    "start_time": "2022-03-12T15:53:03.427Z"
   },
   {
    "duration": 9,
    "start_time": "2022-03-12T15:53:03.435Z"
   },
   {
    "duration": 11,
    "start_time": "2022-03-12T15:53:03.446Z"
   },
   {
    "duration": 9,
    "start_time": "2022-03-12T15:53:03.459Z"
   },
   {
    "duration": 32,
    "start_time": "2022-03-12T15:53:03.470Z"
   },
   {
    "duration": 12,
    "start_time": "2022-03-12T15:53:03.504Z"
   },
   {
    "duration": 8,
    "start_time": "2022-03-12T15:53:03.518Z"
   },
   {
    "duration": 14,
    "start_time": "2022-03-12T15:53:03.527Z"
   },
   {
    "duration": 22,
    "start_time": "2022-03-12T15:53:03.544Z"
   },
   {
    "duration": 40,
    "start_time": "2022-03-12T15:53:03.568Z"
   },
   {
    "duration": 15,
    "start_time": "2022-03-12T15:53:03.610Z"
   },
   {
    "duration": 11,
    "start_time": "2022-03-12T15:53:03.626Z"
   },
   {
    "duration": 12,
    "start_time": "2022-03-12T15:53:03.639Z"
   },
   {
    "duration": 13,
    "start_time": "2022-03-12T15:53:03.652Z"
   },
   {
    "duration": 17,
    "start_time": "2022-03-12T15:53:03.702Z"
   },
   {
    "duration": 17,
    "start_time": "2022-03-12T15:53:03.721Z"
   },
   {
    "duration": 113,
    "start_time": "2022-03-12T15:57:20.756Z"
   },
   {
    "duration": 324,
    "start_time": "2022-03-12T15:57:26.412Z"
   },
   {
    "duration": 321,
    "start_time": "2022-03-12T15:57:34.442Z"
   },
   {
    "duration": 601,
    "start_time": "2022-03-12T15:57:48.709Z"
   },
   {
    "duration": 507,
    "start_time": "2022-03-12T15:57:49.314Z"
   },
   {
    "duration": 17,
    "start_time": "2022-03-12T15:57:49.826Z"
   },
   {
    "duration": 24,
    "start_time": "2022-03-12T15:57:49.844Z"
   },
   {
    "duration": 13,
    "start_time": "2022-03-12T15:57:49.870Z"
   },
   {
    "duration": 4,
    "start_time": "2022-03-12T15:57:49.885Z"
   },
   {
    "duration": 10,
    "start_time": "2022-03-12T15:57:49.891Z"
   },
   {
    "duration": 8,
    "start_time": "2022-03-12T15:57:49.903Z"
   },
   {
    "duration": 9,
    "start_time": "2022-03-12T15:57:49.913Z"
   },
   {
    "duration": 7,
    "start_time": "2022-03-12T15:57:49.924Z"
   },
   {
    "duration": 13,
    "start_time": "2022-03-12T15:57:49.932Z"
   },
   {
    "duration": 28,
    "start_time": "2022-03-12T15:57:49.947Z"
   },
   {
    "duration": 6,
    "start_time": "2022-03-12T15:57:49.977Z"
   },
   {
    "duration": 17,
    "start_time": "2022-03-12T15:57:49.985Z"
   },
   {
    "duration": 6,
    "start_time": "2022-03-12T15:57:50.004Z"
   },
   {
    "duration": 10,
    "start_time": "2022-03-12T15:57:50.012Z"
   },
   {
    "duration": 10,
    "start_time": "2022-03-12T15:57:50.023Z"
   },
   {
    "duration": 40,
    "start_time": "2022-03-12T15:57:50.035Z"
   },
   {
    "duration": 7,
    "start_time": "2022-03-12T15:57:50.101Z"
   },
   {
    "duration": 4,
    "start_time": "2022-03-12T15:57:50.110Z"
   },
   {
    "duration": 6,
    "start_time": "2022-03-12T15:57:50.117Z"
   },
   {
    "duration": 11,
    "start_time": "2022-03-12T15:57:50.124Z"
   },
   {
    "duration": 11,
    "start_time": "2022-03-12T15:57:50.136Z"
   },
   {
    "duration": 13,
    "start_time": "2022-03-12T15:57:50.148Z"
   },
   {
    "duration": 39,
    "start_time": "2022-03-12T15:57:50.162Z"
   },
   {
    "duration": 10,
    "start_time": "2022-03-12T15:57:50.203Z"
   },
   {
    "duration": 20,
    "start_time": "2022-03-12T15:57:50.215Z"
   },
   {
    "duration": 17,
    "start_time": "2022-03-12T15:57:50.236Z"
   },
   {
    "duration": 14,
    "start_time": "2022-03-12T15:57:50.254Z"
   },
   {
    "duration": 40,
    "start_time": "2022-03-12T15:57:50.269Z"
   },
   {
    "duration": 10,
    "start_time": "2022-03-12T15:57:50.311Z"
   },
   {
    "duration": 11,
    "start_time": "2022-03-12T15:57:50.323Z"
   },
   {
    "duration": 16,
    "start_time": "2022-03-12T15:57:50.335Z"
   },
   {
    "duration": 354,
    "start_time": "2022-03-12T15:57:50.352Z"
   },
   {
    "duration": 107,
    "start_time": "2022-03-12T16:17:01.964Z"
   },
   {
    "duration": 4,
    "start_time": "2022-03-12T16:17:12.906Z"
   },
   {
    "duration": 393,
    "start_time": "2022-03-12T16:21:46.747Z"
   },
   {
    "duration": 296,
    "start_time": "2022-03-12T16:24:26.912Z"
   },
   {
    "duration": 575,
    "start_time": "2022-03-12T16:24:37.288Z"
   },
   {
    "duration": 531,
    "start_time": "2022-03-12T16:24:37.865Z"
   },
   {
    "duration": 20,
    "start_time": "2022-03-12T16:24:38.399Z"
   },
   {
    "duration": 15,
    "start_time": "2022-03-12T16:24:38.421Z"
   },
   {
    "duration": 11,
    "start_time": "2022-03-12T16:24:38.438Z"
   },
   {
    "duration": 5,
    "start_time": "2022-03-12T16:24:38.450Z"
   },
   {
    "duration": 14,
    "start_time": "2022-03-12T16:24:38.457Z"
   },
   {
    "duration": 8,
    "start_time": "2022-03-12T16:24:38.473Z"
   },
   {
    "duration": 5,
    "start_time": "2022-03-12T16:24:38.501Z"
   },
   {
    "duration": 7,
    "start_time": "2022-03-12T16:24:38.507Z"
   },
   {
    "duration": 13,
    "start_time": "2022-03-12T16:24:38.516Z"
   },
   {
    "duration": 32,
    "start_time": "2022-03-12T16:24:38.530Z"
   },
   {
    "duration": 5,
    "start_time": "2022-03-12T16:24:38.563Z"
   },
   {
    "duration": 33,
    "start_time": "2022-03-12T16:24:38.569Z"
   },
   {
    "duration": 8,
    "start_time": "2022-03-12T16:24:38.604Z"
   },
   {
    "duration": 12,
    "start_time": "2022-03-12T16:24:38.613Z"
   },
   {
    "duration": 10,
    "start_time": "2022-03-12T16:24:38.627Z"
   },
   {
    "duration": 37,
    "start_time": "2022-03-12T16:24:38.638Z"
   },
   {
    "duration": 24,
    "start_time": "2022-03-12T16:24:38.677Z"
   },
   {
    "duration": 3,
    "start_time": "2022-03-12T16:24:38.703Z"
   },
   {
    "duration": 8,
    "start_time": "2022-03-12T16:24:38.708Z"
   },
   {
    "duration": 10,
    "start_time": "2022-03-12T16:24:38.718Z"
   },
   {
    "duration": 11,
    "start_time": "2022-03-12T16:24:38.732Z"
   },
   {
    "duration": 11,
    "start_time": "2022-03-12T16:24:38.745Z"
   },
   {
    "duration": 4,
    "start_time": "2022-03-12T16:24:38.757Z"
   },
   {
    "duration": 49,
    "start_time": "2022-03-12T16:24:38.762Z"
   },
   {
    "duration": 21,
    "start_time": "2022-03-12T16:24:38.813Z"
   },
   {
    "duration": 18,
    "start_time": "2022-03-12T16:24:38.836Z"
   },
   {
    "duration": 15,
    "start_time": "2022-03-12T16:24:38.855Z"
   },
   {
    "duration": 11,
    "start_time": "2022-03-12T16:24:38.902Z"
   },
   {
    "duration": 10,
    "start_time": "2022-03-12T16:24:38.915Z"
   },
   {
    "duration": 12,
    "start_time": "2022-03-12T16:24:38.926Z"
   },
   {
    "duration": 17,
    "start_time": "2022-03-12T16:24:38.940Z"
   },
   {
    "duration": 5,
    "start_time": "2022-03-12T16:24:38.958Z"
   },
   {
    "duration": 329,
    "start_time": "2022-03-12T16:28:36.712Z"
   },
   {
    "duration": 310,
    "start_time": "2022-03-13T10:27:15.999Z"
   },
   {
    "duration": 763,
    "start_time": "2022-03-13T10:27:24.832Z"
   },
   {
    "duration": 734,
    "start_time": "2022-03-13T10:27:25.599Z"
   },
   {
    "duration": 42,
    "start_time": "2022-03-13T10:27:26.337Z"
   },
   {
    "duration": 21,
    "start_time": "2022-03-13T10:27:26.382Z"
   },
   {
    "duration": 15,
    "start_time": "2022-03-13T10:27:26.406Z"
   },
   {
    "duration": 6,
    "start_time": "2022-03-13T10:27:26.425Z"
   },
   {
    "duration": 8,
    "start_time": "2022-03-13T10:27:26.433Z"
   },
   {
    "duration": 47,
    "start_time": "2022-03-13T10:27:26.443Z"
   },
   {
    "duration": 8,
    "start_time": "2022-03-13T10:27:26.492Z"
   },
   {
    "duration": 7,
    "start_time": "2022-03-13T10:27:26.502Z"
   },
   {
    "duration": 15,
    "start_time": "2022-03-13T10:27:26.511Z"
   },
   {
    "duration": 98,
    "start_time": "2022-03-13T10:27:26.530Z"
   },
   {
    "duration": 7,
    "start_time": "2022-03-13T10:27:26.631Z"
   },
   {
    "duration": 5,
    "start_time": "2022-03-13T10:27:26.641Z"
   },
   {
    "duration": 5,
    "start_time": "2022-03-13T10:27:26.687Z"
   },
   {
    "duration": 9,
    "start_time": "2022-03-13T10:27:26.694Z"
   },
   {
    "duration": 9,
    "start_time": "2022-03-13T10:27:26.706Z"
   },
   {
    "duration": 112,
    "start_time": "2022-03-13T10:27:26.719Z"
   },
   {
    "duration": 12,
    "start_time": "2022-03-13T10:27:26.835Z"
   },
   {
    "duration": 38,
    "start_time": "2022-03-13T10:27:26.849Z"
   },
   {
    "duration": 11,
    "start_time": "2022-03-13T10:27:26.889Z"
   },
   {
    "duration": 11,
    "start_time": "2022-03-13T10:27:26.902Z"
   },
   {
    "duration": 12,
    "start_time": "2022-03-13T10:27:26.915Z"
   },
   {
    "duration": 59,
    "start_time": "2022-03-13T10:27:26.929Z"
   },
   {
    "duration": 7,
    "start_time": "2022-03-13T10:27:26.990Z"
   },
   {
    "duration": 19,
    "start_time": "2022-03-13T10:27:26.999Z"
   },
   {
    "duration": 73,
    "start_time": "2022-03-13T10:27:27.021Z"
   },
   {
    "duration": 26,
    "start_time": "2022-03-13T10:27:27.096Z"
   },
   {
    "duration": 23,
    "start_time": "2022-03-13T10:27:27.124Z"
   },
   {
    "duration": 49,
    "start_time": "2022-03-13T10:27:27.149Z"
   },
   {
    "duration": 17,
    "start_time": "2022-03-13T10:27:27.200Z"
   },
   {
    "duration": 20,
    "start_time": "2022-03-13T10:27:27.219Z"
   },
   {
    "duration": 71,
    "start_time": "2022-03-13T10:27:27.242Z"
   },
   {
    "duration": 1322,
    "start_time": "2022-03-13T10:27:27.316Z"
   },
   {
    "duration": 28,
    "start_time": "2022-03-13T10:28:44.345Z"
   },
   {
    "duration": 28,
    "start_time": "2022-03-13T10:30:28.534Z"
   },
   {
    "duration": 29,
    "start_time": "2022-03-13T10:33:11.416Z"
   },
   {
    "duration": 9,
    "start_time": "2022-03-13T11:00:10.764Z"
   },
   {
    "duration": 10,
    "start_time": "2022-03-13T11:04:57.858Z"
   },
   {
    "duration": 51,
    "start_time": "2022-03-13T11:38:18.298Z"
   },
   {
    "duration": 73,
    "start_time": "2022-03-13T12:24:28.899Z"
   },
   {
    "duration": 261,
    "start_time": "2022-03-13T12:33:22.445Z"
   },
   {
    "duration": 50,
    "start_time": "2022-03-13T12:35:02.059Z"
   },
   {
    "duration": 54,
    "start_time": "2022-03-13T12:59:10.211Z"
   },
   {
    "duration": 59,
    "start_time": "2022-03-13T12:59:45.461Z"
   },
   {
    "duration": 62,
    "start_time": "2022-03-13T12:59:57.879Z"
   },
   {
    "duration": 709,
    "start_time": "2022-03-14T20:06:27.038Z"
   },
   {
    "duration": 706,
    "start_time": "2022-03-14T20:06:27.749Z"
   },
   {
    "duration": 31,
    "start_time": "2022-03-14T20:06:28.460Z"
   },
   {
    "duration": 22,
    "start_time": "2022-03-14T20:06:28.493Z"
   },
   {
    "duration": 15,
    "start_time": "2022-03-14T20:06:28.518Z"
   },
   {
    "duration": 5,
    "start_time": "2022-03-14T20:06:28.535Z"
   },
   {
    "duration": 6,
    "start_time": "2022-03-14T20:06:28.542Z"
   },
   {
    "duration": 39,
    "start_time": "2022-03-14T20:06:28.551Z"
   },
   {
    "duration": 7,
    "start_time": "2022-03-14T20:06:28.592Z"
   },
   {
    "duration": 7,
    "start_time": "2022-03-14T20:06:28.602Z"
   },
   {
    "duration": 14,
    "start_time": "2022-03-14T20:06:28.611Z"
   },
   {
    "duration": 91,
    "start_time": "2022-03-14T20:06:28.628Z"
   },
   {
    "duration": 10,
    "start_time": "2022-03-14T20:06:28.722Z"
   },
   {
    "duration": 6,
    "start_time": "2022-03-14T20:06:28.734Z"
   },
   {
    "duration": 44,
    "start_time": "2022-03-14T20:06:28.743Z"
   },
   {
    "duration": 11,
    "start_time": "2022-03-14T20:06:28.789Z"
   },
   {
    "duration": 12,
    "start_time": "2022-03-14T20:06:28.802Z"
   },
   {
    "duration": 82,
    "start_time": "2022-03-14T20:06:28.816Z"
   },
   {
    "duration": 9,
    "start_time": "2022-03-14T20:06:28.901Z"
   },
   {
    "duration": 7,
    "start_time": "2022-03-14T20:06:28.912Z"
   },
   {
    "duration": 12,
    "start_time": "2022-03-14T20:06:28.921Z"
   },
   {
    "duration": 12,
    "start_time": "2022-03-14T20:06:28.935Z"
   },
   {
    "duration": 46,
    "start_time": "2022-03-14T20:06:28.952Z"
   },
   {
    "duration": 18,
    "start_time": "2022-03-14T20:06:29.001Z"
   },
   {
    "duration": 6,
    "start_time": "2022-03-14T20:06:29.021Z"
   },
   {
    "duration": 17,
    "start_time": "2022-03-14T20:06:29.030Z"
   },
   {
    "duration": 61,
    "start_time": "2022-03-14T20:06:29.049Z"
   },
   {
    "duration": 26,
    "start_time": "2022-03-14T20:06:29.112Z"
   },
   {
    "duration": 46,
    "start_time": "2022-03-14T20:06:29.141Z"
   },
   {
    "duration": 17,
    "start_time": "2022-03-14T20:06:29.189Z"
   },
   {
    "duration": 17,
    "start_time": "2022-03-14T20:06:29.208Z"
   },
   {
    "duration": 21,
    "start_time": "2022-03-14T20:06:29.227Z"
   },
   {
    "duration": 61,
    "start_time": "2022-03-14T20:06:29.251Z"
   },
   {
    "duration": 11,
    "start_time": "2022-03-14T20:06:29.315Z"
   },
   {
    "duration": 75,
    "start_time": "2022-03-14T20:06:29.329Z"
   },
   {
    "duration": 18,
    "start_time": "2022-03-14T20:06:29.407Z"
   },
   {
    "duration": 62,
    "start_time": "2022-03-14T20:06:29.427Z"
   },
   {
    "duration": 71,
    "start_time": "2022-03-14T20:06:29.492Z"
   },
   {
    "duration": 65,
    "start_time": "2022-03-14T20:06:29.565Z"
   },
   {
    "duration": 72,
    "start_time": "2022-03-14T20:06:29.632Z"
   },
   {
    "duration": 10,
    "start_time": "2022-03-14T20:19:08.435Z"
   },
   {
    "duration": 8,
    "start_time": "2022-03-14T20:31:47.930Z"
   },
   {
    "duration": 11,
    "start_time": "2022-03-14T20:32:34.704Z"
   },
   {
    "duration": 10,
    "start_time": "2022-03-14T20:34:56.751Z"
   },
   {
    "duration": 4,
    "start_time": "2022-03-14T21:01:37.832Z"
   },
   {
    "duration": 699,
    "start_time": "2022-03-14T21:01:46.040Z"
   },
   {
    "duration": 694,
    "start_time": "2022-03-14T21:01:46.742Z"
   },
   {
    "duration": 32,
    "start_time": "2022-03-14T21:01:47.439Z"
   },
   {
    "duration": 24,
    "start_time": "2022-03-14T21:01:47.474Z"
   },
   {
    "duration": 16,
    "start_time": "2022-03-14T21:01:47.500Z"
   },
   {
    "duration": 6,
    "start_time": "2022-03-14T21:01:47.518Z"
   },
   {
    "duration": 7,
    "start_time": "2022-03-14T21:01:47.526Z"
   },
   {
    "duration": 52,
    "start_time": "2022-03-14T21:01:47.537Z"
   },
   {
    "duration": 9,
    "start_time": "2022-03-14T21:01:47.593Z"
   },
   {
    "duration": 13,
    "start_time": "2022-03-14T21:01:47.605Z"
   },
   {
    "duration": 19,
    "start_time": "2022-03-14T21:01:47.621Z"
   },
   {
    "duration": 85,
    "start_time": "2022-03-14T21:01:47.642Z"
   },
   {
    "duration": 8,
    "start_time": "2022-03-14T21:01:47.729Z"
   },
   {
    "duration": 5,
    "start_time": "2022-03-14T21:01:47.740Z"
   },
   {
    "duration": 41,
    "start_time": "2022-03-14T21:01:47.747Z"
   },
   {
    "duration": 8,
    "start_time": "2022-03-14T21:01:47.791Z"
   },
   {
    "duration": 10,
    "start_time": "2022-03-14T21:01:47.802Z"
   },
   {
    "duration": 97,
    "start_time": "2022-03-14T21:01:47.814Z"
   },
   {
    "duration": 9,
    "start_time": "2022-03-14T21:01:47.913Z"
   },
   {
    "duration": 7,
    "start_time": "2022-03-14T21:01:47.925Z"
   },
   {
    "duration": 13,
    "start_time": "2022-03-14T21:01:47.934Z"
   },
   {
    "duration": 40,
    "start_time": "2022-03-14T21:01:47.949Z"
   },
   {
    "duration": 16,
    "start_time": "2022-03-14T21:01:47.994Z"
   },
   {
    "duration": 15,
    "start_time": "2022-03-14T21:01:48.013Z"
   },
   {
    "duration": 57,
    "start_time": "2022-03-14T21:01:48.030Z"
   },
   {
    "duration": 14,
    "start_time": "2022-03-14T21:01:48.091Z"
   },
   {
    "duration": 5,
    "start_time": "2022-03-14T21:01:48.108Z"
   },
   {
    "duration": 42,
    "start_time": "2022-03-14T21:01:48.115Z"
   },
   {
    "duration": 5735,
    "start_time": "2022-03-14T21:01:48.159Z"
   },
   {
    "duration": 2364,
    "start_time": "2022-03-14T21:01:51.533Z"
   },
   {
    "duration": 2362,
    "start_time": "2022-03-14T21:01:51.536Z"
   },
   {
    "duration": 2361,
    "start_time": "2022-03-14T21:01:51.539Z"
   },
   {
    "duration": 2360,
    "start_time": "2022-03-14T21:01:51.541Z"
   },
   {
    "duration": 2359,
    "start_time": "2022-03-14T21:01:51.543Z"
   },
   {
    "duration": 2359,
    "start_time": "2022-03-14T21:01:51.545Z"
   },
   {
    "duration": 2359,
    "start_time": "2022-03-14T21:01:51.546Z"
   },
   {
    "duration": 2359,
    "start_time": "2022-03-14T21:01:51.548Z"
   },
   {
    "duration": 2358,
    "start_time": "2022-03-14T21:01:51.550Z"
   },
   {
    "duration": 2357,
    "start_time": "2022-03-14T21:01:51.552Z"
   },
   {
    "duration": 2357,
    "start_time": "2022-03-14T21:01:51.553Z"
   },
   {
    "duration": 2357,
    "start_time": "2022-03-14T21:01:51.555Z"
   },
   {
    "duration": 2356,
    "start_time": "2022-03-14T21:01:51.557Z"
   },
   {
    "duration": 2351,
    "start_time": "2022-03-14T21:01:51.564Z"
   },
   {
    "duration": 2347,
    "start_time": "2022-03-14T21:01:51.569Z"
   },
   {
    "duration": 778,
    "start_time": "2022-03-14T21:13:13.477Z"
   },
   {
    "duration": 745,
    "start_time": "2022-03-14T21:13:14.258Z"
   },
   {
    "duration": 34,
    "start_time": "2022-03-14T21:13:15.007Z"
   },
   {
    "duration": 36,
    "start_time": "2022-03-14T21:13:15.044Z"
   },
   {
    "duration": 17,
    "start_time": "2022-03-14T21:13:15.083Z"
   },
   {
    "duration": 11,
    "start_time": "2022-03-14T21:13:15.104Z"
   },
   {
    "duration": 7,
    "start_time": "2022-03-14T21:13:15.119Z"
   },
   {
    "duration": 10,
    "start_time": "2022-03-14T21:13:15.129Z"
   },
   {
    "duration": 50,
    "start_time": "2022-03-14T21:13:15.143Z"
   },
   {
    "duration": 8,
    "start_time": "2022-03-14T21:13:15.196Z"
   },
   {
    "duration": 22,
    "start_time": "2022-03-14T21:13:15.207Z"
   },
   {
    "duration": 86,
    "start_time": "2022-03-14T21:13:15.232Z"
   },
   {
    "duration": 8,
    "start_time": "2022-03-14T21:13:15.320Z"
   },
   {
    "duration": 4,
    "start_time": "2022-03-14T21:13:15.331Z"
   },
   {
    "duration": 5,
    "start_time": "2022-03-14T21:13:15.338Z"
   },
   {
    "duration": 45,
    "start_time": "2022-03-14T21:13:15.346Z"
   },
   {
    "duration": 13,
    "start_time": "2022-03-14T21:13:15.394Z"
   },
   {
    "duration": 99,
    "start_time": "2022-03-14T21:13:15.410Z"
   },
   {
    "duration": 13,
    "start_time": "2022-03-14T21:13:15.512Z"
   },
   {
    "duration": 7,
    "start_time": "2022-03-14T21:13:15.528Z"
   },
   {
    "duration": 51,
    "start_time": "2022-03-14T21:13:15.538Z"
   },
   {
    "duration": 15,
    "start_time": "2022-03-14T21:13:15.592Z"
   },
   {
    "duration": 12,
    "start_time": "2022-03-14T21:13:15.610Z"
   },
   {
    "duration": 63,
    "start_time": "2022-03-14T21:13:15.625Z"
   },
   {
    "duration": 10,
    "start_time": "2022-03-14T21:13:15.691Z"
   },
   {
    "duration": 12,
    "start_time": "2022-03-14T21:13:15.703Z"
   },
   {
    "duration": 7,
    "start_time": "2022-03-14T21:13:15.720Z"
   },
   {
    "duration": 6,
    "start_time": "2022-03-14T21:13:15.730Z"
   },
   {
    "duration": 63,
    "start_time": "2022-03-14T21:13:15.739Z"
   },
   {
    "duration": 34,
    "start_time": "2022-03-14T21:13:15.805Z"
   },
   {
    "duration": 67,
    "start_time": "2022-03-14T21:13:15.842Z"
   },
   {
    "duration": 23,
    "start_time": "2022-03-14T21:13:15.911Z"
   },
   {
    "duration": 50,
    "start_time": "2022-03-14T21:13:15.937Z"
   },
   {
    "duration": 19,
    "start_time": "2022-03-14T21:13:15.990Z"
   },
   {
    "duration": 21,
    "start_time": "2022-03-14T21:13:16.012Z"
   },
   {
    "duration": 68,
    "start_time": "2022-03-14T21:13:16.035Z"
   },
   {
    "duration": 10,
    "start_time": "2022-03-14T21:13:16.105Z"
   },
   {
    "duration": 70,
    "start_time": "2022-03-14T21:13:16.118Z"
   },
   {
    "duration": 11,
    "start_time": "2022-03-14T21:13:16.190Z"
   },
   {
    "duration": 87,
    "start_time": "2022-03-14T21:13:16.203Z"
   },
   {
    "duration": 100,
    "start_time": "2022-03-14T21:13:16.293Z"
   },
   {
    "duration": 53,
    "start_time": "2022-03-14T21:13:16.395Z"
   },
   {
    "duration": 80,
    "start_time": "2022-03-14T21:13:16.450Z"
   },
   {
    "duration": 1217,
    "start_time": "2022-03-14T21:27:58.998Z"
   },
   {
    "duration": 29,
    "start_time": "2022-03-14T21:29:12.124Z"
   },
   {
    "duration": 11,
    "start_time": "2022-03-14T21:32:15.720Z"
   },
   {
    "duration": 91,
    "start_time": "2022-03-16T20:26:37.583Z"
   },
   {
    "duration": 315,
    "start_time": "2022-03-16T20:31:02.199Z"
   },
   {
    "duration": -133,
    "start_time": "2022-03-16T20:34:29.352Z"
   },
   {
    "duration": -135,
    "start_time": "2022-03-16T20:34:29.355Z"
   },
   {
    "duration": -136,
    "start_time": "2022-03-16T20:34:29.358Z"
   },
   {
    "duration": -138,
    "start_time": "2022-03-16T20:34:29.361Z"
   },
   {
    "duration": -138,
    "start_time": "2022-03-16T20:34:29.363Z"
   },
   {
    "duration": -139,
    "start_time": "2022-03-16T20:34:29.365Z"
   },
   {
    "duration": -139,
    "start_time": "2022-03-16T20:34:29.367Z"
   },
   {
    "duration": -140,
    "start_time": "2022-03-16T20:34:29.369Z"
   },
   {
    "duration": -140,
    "start_time": "2022-03-16T20:34:29.371Z"
   },
   {
    "duration": -142,
    "start_time": "2022-03-16T20:34:29.374Z"
   },
   {
    "duration": -142,
    "start_time": "2022-03-16T20:34:29.376Z"
   },
   {
    "duration": -143,
    "start_time": "2022-03-16T20:34:29.378Z"
   },
   {
    "duration": -143,
    "start_time": "2022-03-16T20:34:29.380Z"
   },
   {
    "duration": -145,
    "start_time": "2022-03-16T20:34:29.383Z"
   },
   {
    "duration": -145,
    "start_time": "2022-03-16T20:34:29.385Z"
   },
   {
    "duration": -84,
    "start_time": "2022-03-16T20:34:29.386Z"
   },
   {
    "duration": -134,
    "start_time": "2022-03-16T20:34:29.438Z"
   },
   {
    "duration": -136,
    "start_time": "2022-03-16T20:34:29.442Z"
   },
   {
    "duration": -138,
    "start_time": "2022-03-16T20:34:29.445Z"
   },
   {
    "duration": -139,
    "start_time": "2022-03-16T20:34:29.448Z"
   },
   {
    "duration": -142,
    "start_time": "2022-03-16T20:34:29.452Z"
   },
   {
    "duration": -143,
    "start_time": "2022-03-16T20:34:29.455Z"
   },
   {
    "duration": -142,
    "start_time": "2022-03-16T20:34:29.456Z"
   },
   {
    "duration": -149,
    "start_time": "2022-03-16T20:34:29.464Z"
   },
   {
    "duration": -149,
    "start_time": "2022-03-16T20:34:29.466Z"
   },
   {
    "duration": -151,
    "start_time": "2022-03-16T20:34:29.469Z"
   },
   {
    "duration": -152,
    "start_time": "2022-03-16T20:34:29.472Z"
   },
   {
    "duration": -153,
    "start_time": "2022-03-16T20:34:29.475Z"
   },
   {
    "duration": -153,
    "start_time": "2022-03-16T20:34:29.476Z"
   },
   {
    "duration": -153,
    "start_time": "2022-03-16T20:34:29.478Z"
   },
   {
    "duration": -154,
    "start_time": "2022-03-16T20:34:29.480Z"
   },
   {
    "duration": -154,
    "start_time": "2022-03-16T20:34:29.482Z"
   },
   {
    "duration": -154,
    "start_time": "2022-03-16T20:34:29.483Z"
   },
   {
    "duration": -155,
    "start_time": "2022-03-16T20:34:29.486Z"
   },
   {
    "duration": -155,
    "start_time": "2022-03-16T20:34:29.487Z"
   },
   {
    "duration": -162,
    "start_time": "2022-03-16T20:34:29.495Z"
   },
   {
    "duration": -161,
    "start_time": "2022-03-16T20:34:29.496Z"
   },
   {
    "duration": -162,
    "start_time": "2022-03-16T20:34:29.498Z"
   },
   {
    "duration": -162,
    "start_time": "2022-03-16T20:34:29.500Z"
   },
   {
    "duration": -162,
    "start_time": "2022-03-16T20:34:29.502Z"
   },
   {
    "duration": -164,
    "start_time": "2022-03-16T20:34:29.504Z"
   },
   {
    "duration": -164,
    "start_time": "2022-03-16T20:34:29.505Z"
   },
   {
    "duration": -165,
    "start_time": "2022-03-16T20:34:29.507Z"
   },
   {
    "duration": -167,
    "start_time": "2022-03-16T20:34:29.509Z"
   },
   {
    "duration": -168,
    "start_time": "2022-03-16T20:34:29.511Z"
   },
   {
    "duration": -169,
    "start_time": "2022-03-16T20:34:29.513Z"
   },
   {
    "duration": 517,
    "start_time": "2022-03-17T07:15:23.413Z"
   },
   {
    "duration": 487,
    "start_time": "2022-03-17T07:15:23.933Z"
   },
   {
    "duration": 32,
    "start_time": "2022-03-17T07:15:24.422Z"
   },
   {
    "duration": 22,
    "start_time": "2022-03-17T07:15:24.457Z"
   },
   {
    "duration": 16,
    "start_time": "2022-03-17T07:15:24.482Z"
   },
   {
    "duration": 6,
    "start_time": "2022-03-17T07:15:24.501Z"
   },
   {
    "duration": 7,
    "start_time": "2022-03-17T07:15:24.509Z"
   },
   {
    "duration": 9,
    "start_time": "2022-03-17T07:15:24.518Z"
   },
   {
    "duration": 8,
    "start_time": "2022-03-17T07:15:24.529Z"
   },
   {
    "duration": 52,
    "start_time": "2022-03-17T07:15:24.541Z"
   },
   {
    "duration": 120,
    "start_time": "2022-03-17T07:15:24.596Z"
   },
   {
    "duration": 0,
    "start_time": "2022-03-17T07:15:24.720Z"
   },
   {
    "duration": 0,
    "start_time": "2022-03-17T07:15:24.722Z"
   },
   {
    "duration": 0,
    "start_time": "2022-03-17T07:15:24.724Z"
   },
   {
    "duration": 0,
    "start_time": "2022-03-17T07:15:24.726Z"
   },
   {
    "duration": 0,
    "start_time": "2022-03-17T07:15:24.728Z"
   },
   {
    "duration": 0,
    "start_time": "2022-03-17T07:15:24.730Z"
   },
   {
    "duration": 0,
    "start_time": "2022-03-17T07:15:24.732Z"
   },
   {
    "duration": 0,
    "start_time": "2022-03-17T07:15:24.734Z"
   },
   {
    "duration": 0,
    "start_time": "2022-03-17T07:15:24.736Z"
   },
   {
    "duration": 0,
    "start_time": "2022-03-17T07:15:24.738Z"
   },
   {
    "duration": 0,
    "start_time": "2022-03-17T07:15:24.740Z"
   },
   {
    "duration": 0,
    "start_time": "2022-03-17T07:15:24.742Z"
   },
   {
    "duration": 0,
    "start_time": "2022-03-17T07:15:24.744Z"
   },
   {
    "duration": 0,
    "start_time": "2022-03-17T07:15:24.746Z"
   },
   {
    "duration": 0,
    "start_time": "2022-03-17T07:15:24.787Z"
   },
   {
    "duration": 1,
    "start_time": "2022-03-17T07:15:24.789Z"
   },
   {
    "duration": 0,
    "start_time": "2022-03-17T07:15:24.791Z"
   },
   {
    "duration": 0,
    "start_time": "2022-03-17T07:15:24.793Z"
   },
   {
    "duration": 0,
    "start_time": "2022-03-17T07:15:24.796Z"
   },
   {
    "duration": 0,
    "start_time": "2022-03-17T07:15:24.798Z"
   },
   {
    "duration": 0,
    "start_time": "2022-03-17T07:15:24.799Z"
   },
   {
    "duration": 0,
    "start_time": "2022-03-17T07:15:24.801Z"
   },
   {
    "duration": 1,
    "start_time": "2022-03-17T07:15:24.802Z"
   },
   {
    "duration": 0,
    "start_time": "2022-03-17T07:15:24.804Z"
   },
   {
    "duration": 1,
    "start_time": "2022-03-17T07:15:24.805Z"
   },
   {
    "duration": 0,
    "start_time": "2022-03-17T07:15:24.808Z"
   },
   {
    "duration": 0,
    "start_time": "2022-03-17T07:15:24.809Z"
   },
   {
    "duration": 0,
    "start_time": "2022-03-17T07:15:24.810Z"
   },
   {
    "duration": 0,
    "start_time": "2022-03-17T07:15:24.812Z"
   },
   {
    "duration": 0,
    "start_time": "2022-03-17T07:15:24.814Z"
   },
   {
    "duration": 0,
    "start_time": "2022-03-17T07:15:24.815Z"
   },
   {
    "duration": 0,
    "start_time": "2022-03-17T07:15:24.817Z"
   },
   {
    "duration": 0,
    "start_time": "2022-03-17T07:15:24.819Z"
   },
   {
    "duration": 0,
    "start_time": "2022-03-17T07:15:24.821Z"
   },
   {
    "duration": 0,
    "start_time": "2022-03-17T07:15:24.822Z"
   },
   {
    "duration": 14,
    "start_time": "2022-03-17T07:21:31.973Z"
   },
   {
    "duration": 52,
    "start_time": "2022-03-17T07:22:36.558Z"
   },
   {
    "duration": 518,
    "start_time": "2022-03-17T07:22:51.987Z"
   },
   {
    "duration": 516,
    "start_time": "2022-03-17T07:22:52.508Z"
   },
   {
    "duration": 34,
    "start_time": "2022-03-17T07:22:53.026Z"
   },
   {
    "duration": 25,
    "start_time": "2022-03-17T07:22:53.062Z"
   },
   {
    "duration": 15,
    "start_time": "2022-03-17T07:22:53.089Z"
   },
   {
    "duration": 5,
    "start_time": "2022-03-17T07:22:53.106Z"
   },
   {
    "duration": 9,
    "start_time": "2022-03-17T07:22:53.113Z"
   },
   {
    "duration": 10,
    "start_time": "2022-03-17T07:22:53.125Z"
   },
   {
    "duration": 6,
    "start_time": "2022-03-17T07:22:53.137Z"
   },
   {
    "duration": 43,
    "start_time": "2022-03-17T07:22:53.148Z"
   },
   {
    "duration": 52,
    "start_time": "2022-03-17T07:22:53.193Z"
   },
   {
    "duration": 14,
    "start_time": "2022-03-17T07:22:53.247Z"
   },
   {
    "duration": 66,
    "start_time": "2022-03-17T07:22:53.263Z"
   },
   {
    "duration": 7,
    "start_time": "2022-03-17T07:22:53.331Z"
   },
   {
    "duration": 7,
    "start_time": "2022-03-17T07:22:53.340Z"
   },
   {
    "duration": 40,
    "start_time": "2022-03-17T07:22:53.349Z"
   },
   {
    "duration": 11,
    "start_time": "2022-03-17T07:22:53.391Z"
   },
   {
    "duration": 13,
    "start_time": "2022-03-17T07:22:53.404Z"
   },
   {
    "duration": 81,
    "start_time": "2022-03-17T07:22:53.420Z"
   },
   {
    "duration": 8,
    "start_time": "2022-03-17T07:22:53.504Z"
   },
   {
    "duration": 9,
    "start_time": "2022-03-17T07:22:53.515Z"
   },
   {
    "duration": 10,
    "start_time": "2022-03-17T07:22:53.526Z"
   },
   {
    "duration": 13,
    "start_time": "2022-03-17T07:22:53.539Z"
   },
   {
    "duration": 14,
    "start_time": "2022-03-17T07:22:53.587Z"
   },
   {
    "duration": 19,
    "start_time": "2022-03-17T07:22:53.603Z"
   },
   {
    "duration": 10,
    "start_time": "2022-03-17T07:22:53.624Z"
   },
   {
    "duration": 59,
    "start_time": "2022-03-17T07:22:53.636Z"
   },
   {
    "duration": 8,
    "start_time": "2022-03-17T07:22:53.700Z"
   },
   {
    "duration": 7,
    "start_time": "2022-03-17T07:22:53.710Z"
   },
   {
    "duration": 25,
    "start_time": "2022-03-17T07:22:53.719Z"
   },
   {
    "duration": 85,
    "start_time": "2022-03-17T07:22:53.746Z"
   },
   {
    "duration": 59,
    "start_time": "2022-03-17T07:22:53.834Z"
   },
   {
    "duration": 36,
    "start_time": "2022-03-17T07:22:53.896Z"
   },
   {
    "duration": 22,
    "start_time": "2022-03-17T07:22:53.935Z"
   },
   {
    "duration": 57,
    "start_time": "2022-03-17T07:22:53.959Z"
   },
   {
    "duration": 21,
    "start_time": "2022-03-17T07:22:54.019Z"
   },
   {
    "duration": 47,
    "start_time": "2022-03-17T07:22:54.042Z"
   },
   {
    "duration": 11,
    "start_time": "2022-03-17T07:22:54.092Z"
   },
   {
    "duration": 95,
    "start_time": "2022-03-17T07:22:54.105Z"
   },
   {
    "duration": 0,
    "start_time": "2022-03-17T07:22:54.203Z"
   },
   {
    "duration": 0,
    "start_time": "2022-03-17T07:22:54.204Z"
   },
   {
    "duration": 0,
    "start_time": "2022-03-17T07:22:54.206Z"
   },
   {
    "duration": 0,
    "start_time": "2022-03-17T07:22:54.208Z"
   },
   {
    "duration": 0,
    "start_time": "2022-03-17T07:22:54.209Z"
   },
   {
    "duration": 0,
    "start_time": "2022-03-17T07:22:54.210Z"
   },
   {
    "duration": 0,
    "start_time": "2022-03-17T07:22:54.212Z"
   },
   {
    "duration": 46,
    "start_time": "2022-03-21T17:20:18.689Z"
   },
   {
    "duration": 399,
    "start_time": "2022-03-21T17:20:25.504Z"
   },
   {
    "duration": 742,
    "start_time": "2022-03-21T17:20:25.905Z"
   },
   {
    "duration": 21,
    "start_time": "2022-03-21T17:20:26.648Z"
   },
   {
    "duration": 29,
    "start_time": "2022-03-21T17:20:26.670Z"
   },
   {
    "duration": 12,
    "start_time": "2022-03-21T17:20:26.702Z"
   },
   {
    "duration": 4,
    "start_time": "2022-03-21T17:20:26.716Z"
   },
   {
    "duration": 7,
    "start_time": "2022-03-21T17:20:26.722Z"
   },
   {
    "duration": 9,
    "start_time": "2022-03-21T17:20:26.730Z"
   },
   {
    "duration": 7,
    "start_time": "2022-03-21T17:20:26.741Z"
   },
   {
    "duration": 6,
    "start_time": "2022-03-21T17:20:26.750Z"
   },
   {
    "duration": 59,
    "start_time": "2022-03-21T17:20:26.757Z"
   },
   {
    "duration": 11,
    "start_time": "2022-03-21T17:20:26.818Z"
   },
   {
    "duration": 28,
    "start_time": "2022-03-21T17:20:26.830Z"
   },
   {
    "duration": 6,
    "start_time": "2022-03-21T17:20:26.861Z"
   },
   {
    "duration": 32,
    "start_time": "2022-03-21T17:20:26.869Z"
   },
   {
    "duration": 4,
    "start_time": "2022-03-21T17:20:26.903Z"
   },
   {
    "duration": 8,
    "start_time": "2022-03-21T17:20:26.909Z"
   },
   {
    "duration": 17,
    "start_time": "2022-03-21T17:20:26.918Z"
   },
   {
    "duration": 43,
    "start_time": "2022-03-21T17:20:26.937Z"
   },
   {
    "duration": 21,
    "start_time": "2022-03-21T17:20:26.982Z"
   },
   {
    "duration": 6,
    "start_time": "2022-03-21T17:20:27.005Z"
   },
   {
    "duration": 7,
    "start_time": "2022-03-21T17:20:27.013Z"
   },
   {
    "duration": 13,
    "start_time": "2022-03-21T17:20:27.022Z"
   },
   {
    "duration": 12,
    "start_time": "2022-03-21T17:20:27.037Z"
   },
   {
    "duration": 13,
    "start_time": "2022-03-21T17:20:27.051Z"
   },
   {
    "duration": 12,
    "start_time": "2022-03-21T17:20:27.066Z"
   },
   {
    "duration": 9,
    "start_time": "2022-03-21T17:20:27.102Z"
   },
   {
    "duration": 5,
    "start_time": "2022-03-21T17:20:27.113Z"
   },
   {
    "duration": 6,
    "start_time": "2022-03-21T17:20:27.120Z"
   },
   {
    "duration": 20,
    "start_time": "2022-03-21T17:20:27.127Z"
   },
   {
    "duration": 22,
    "start_time": "2022-03-21T17:20:27.149Z"
   },
   {
    "duration": 47,
    "start_time": "2022-03-21T17:20:27.173Z"
   },
   {
    "duration": 18,
    "start_time": "2022-03-21T17:20:27.222Z"
   },
   {
    "duration": 12,
    "start_time": "2022-03-21T17:20:27.242Z"
   },
   {
    "duration": 13,
    "start_time": "2022-03-21T17:20:27.256Z"
   },
   {
    "duration": 41,
    "start_time": "2022-03-21T17:20:27.271Z"
   },
   {
    "duration": 16,
    "start_time": "2022-03-21T17:20:27.314Z"
   },
   {
    "duration": 7,
    "start_time": "2022-03-21T17:20:27.331Z"
   },
   {
    "duration": 296,
    "start_time": "2022-03-21T17:20:27.340Z"
   },
   {
    "duration": 0,
    "start_time": "2022-03-21T17:20:27.637Z"
   },
   {
    "duration": 0,
    "start_time": "2022-03-21T17:20:27.639Z"
   },
   {
    "duration": 0,
    "start_time": "2022-03-21T17:20:27.640Z"
   },
   {
    "duration": 0,
    "start_time": "2022-03-21T17:20:27.641Z"
   },
   {
    "duration": 0,
    "start_time": "2022-03-21T17:20:27.643Z"
   },
   {
    "duration": 0,
    "start_time": "2022-03-21T17:20:27.644Z"
   },
   {
    "duration": 0,
    "start_time": "2022-03-21T17:20:27.645Z"
   },
   {
    "duration": 12,
    "start_time": "2022-03-21T17:20:54.721Z"
   },
   {
    "duration": 354,
    "start_time": "2022-03-21T17:21:18.340Z"
   },
   {
    "duration": 499,
    "start_time": "2022-03-21T17:21:18.695Z"
   },
   {
    "duration": 20,
    "start_time": "2022-03-21T17:21:19.196Z"
   },
   {
    "duration": 17,
    "start_time": "2022-03-21T17:21:19.218Z"
   },
   {
    "duration": 14,
    "start_time": "2022-03-21T17:21:19.237Z"
   },
   {
    "duration": 7,
    "start_time": "2022-03-21T17:21:19.252Z"
   },
   {
    "duration": 12,
    "start_time": "2022-03-21T17:21:19.260Z"
   },
   {
    "duration": 9,
    "start_time": "2022-03-21T17:21:19.274Z"
   },
   {
    "duration": 18,
    "start_time": "2022-03-21T17:21:19.284Z"
   },
   {
    "duration": 5,
    "start_time": "2022-03-21T17:21:19.304Z"
   },
   {
    "duration": 38,
    "start_time": "2022-03-21T17:21:19.310Z"
   },
   {
    "duration": 9,
    "start_time": "2022-03-21T17:21:19.350Z"
   },
   {
    "duration": 45,
    "start_time": "2022-03-21T17:21:19.361Z"
   },
   {
    "duration": 5,
    "start_time": "2022-03-21T17:21:19.407Z"
   },
   {
    "duration": 5,
    "start_time": "2022-03-21T17:21:19.414Z"
   },
   {
    "duration": 6,
    "start_time": "2022-03-21T17:21:19.421Z"
   },
   {
    "duration": 8,
    "start_time": "2022-03-21T17:21:19.429Z"
   },
   {
    "duration": 13,
    "start_time": "2022-03-21T17:21:19.438Z"
   },
   {
    "duration": 59,
    "start_time": "2022-03-21T17:21:19.453Z"
   },
   {
    "duration": 7,
    "start_time": "2022-03-21T17:21:19.514Z"
   },
   {
    "duration": 5,
    "start_time": "2022-03-21T17:21:19.523Z"
   },
   {
    "duration": 10,
    "start_time": "2022-03-21T17:21:19.529Z"
   },
   {
    "duration": 11,
    "start_time": "2022-03-21T17:21:19.540Z"
   },
   {
    "duration": 13,
    "start_time": "2022-03-21T17:21:19.553Z"
   },
   {
    "duration": 41,
    "start_time": "2022-03-21T17:21:19.568Z"
   },
   {
    "duration": 8,
    "start_time": "2022-03-21T17:21:19.611Z"
   },
   {
    "duration": 7,
    "start_time": "2022-03-21T17:21:19.620Z"
   },
   {
    "duration": 4,
    "start_time": "2022-03-21T17:21:19.631Z"
   },
   {
    "duration": 9,
    "start_time": "2022-03-21T17:21:19.636Z"
   },
   {
    "duration": 19,
    "start_time": "2022-03-21T17:21:19.646Z"
   },
   {
    "duration": 46,
    "start_time": "2022-03-21T17:21:19.667Z"
   },
   {
    "duration": 21,
    "start_time": "2022-03-21T17:21:19.715Z"
   },
   {
    "duration": 17,
    "start_time": "2022-03-21T17:21:19.738Z"
   },
   {
    "duration": 12,
    "start_time": "2022-03-21T17:21:19.756Z"
   },
   {
    "duration": 36,
    "start_time": "2022-03-21T17:21:19.770Z"
   },
   {
    "duration": 13,
    "start_time": "2022-03-21T17:21:19.807Z"
   },
   {
    "duration": 15,
    "start_time": "2022-03-21T17:21:19.821Z"
   },
   {
    "duration": 10,
    "start_time": "2022-03-21T17:21:19.838Z"
   },
   {
    "duration": 197,
    "start_time": "2022-03-21T17:21:19.849Z"
   },
   {
    "duration": 0,
    "start_time": "2022-03-21T17:21:20.048Z"
   },
   {
    "duration": 0,
    "start_time": "2022-03-21T17:21:20.049Z"
   },
   {
    "duration": 0,
    "start_time": "2022-03-21T17:21:20.050Z"
   },
   {
    "duration": 0,
    "start_time": "2022-03-21T17:21:20.051Z"
   },
   {
    "duration": 0,
    "start_time": "2022-03-21T17:21:20.052Z"
   },
   {
    "duration": 0,
    "start_time": "2022-03-21T17:21:20.054Z"
   },
   {
    "duration": 0,
    "start_time": "2022-03-21T17:21:20.055Z"
   }
  ],
  "kernelspec": {
   "display_name": "Python 3 (ipykernel)",
   "language": "python",
   "name": "python3"
  },
  "language_info": {
   "codemirror_mode": {
    "name": "ipython",
    "version": 3
   },
   "file_extension": ".py",
   "mimetype": "text/x-python",
   "name": "python",
   "nbconvert_exporter": "python",
   "pygments_lexer": "ipython3",
   "version": "3.9.7"
  },
  "toc": {
   "base_numbering": 1,
   "nav_menu": {},
   "number_sections": true,
   "sideBar": true,
   "skip_h1_title": true,
   "title_cell": "Table of Contents",
   "title_sidebar": "Contents",
   "toc_cell": false,
   "toc_position": {
    "height": "calc(100% - 180px)",
    "left": "10px",
    "top": "150px",
    "width": "303.225px"
   },
   "toc_section_display": true,
   "toc_window_display": true
  }
 },
 "nbformat": 4,
 "nbformat_minor": 5
}
