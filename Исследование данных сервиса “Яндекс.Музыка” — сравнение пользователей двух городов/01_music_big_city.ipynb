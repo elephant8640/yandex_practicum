{
 "cells": [
  {
   "cell_type": "markdown",
   "metadata": {
    "id": "E0vqbgi9ay0H"
   },
   "source": [
    "# Яндекс.Музыка"
   ]
  },
  {
   "cell_type": "markdown",
   "metadata": {
    "id": "VUC88oWjTJw2"
   },
   "source": [
    "Сравнение Москвы и Петербурга окружено мифами. Например:\n",
    " * Москва — мегаполис, подчинённый жёсткому ритму рабочей недели;\n",
    " * Петербург — культурная столица, со своими вкусами.\n",
    "\n",
    "На данных Яндекс.Музыки вы сравните поведение пользователей двух столиц.\n",
    "\n",
    "**Цель исследования** — проверьте три гипотезы:\n",
    "1. Активность пользователей зависит от дня недели. Причём в Москве и Петербурге это проявляется по-разному.\n",
    "2. В понедельник утром в Москве преобладают одни жанры, а в Петербурге — другие. Так же и вечером пятницы преобладают разные жанры — в зависимости от города. \n",
    "3. Москва и Петербург предпочитают разные жанры музыки. В Москве чаще слушают поп-музыку, в Петербурге — русский рэп.\n",
    "\n",
    "**Ход исследования**\n",
    "\n",
    "Данные о поведении пользователей вы получите из файла `yandex_music_project.csv`. О качестве данных ничего не известно. Поэтому перед проверкой гипотез понадобится обзор данных. \n",
    "\n",
    "Вы проверите данные на ошибки и оцените их влияние на исследование. Затем, на этапе предобработки вы поищете возможность исправить самые критичные ошибки данных.\n",
    " \n",
    "Таким образом, исследование пройдёт в три этапа:\n",
    " 1. Обзор данных.\n",
    " 2. Предобработка данных.\n",
    " 3. Проверка гипотез.\n",
    "\n"
   ]
  },
  {
   "cell_type": "markdown",
   "metadata": {
    "id": "Ml1hmfXC_Zcs"
   },
   "source": [
    "## Обзор данных\n",
    "\n",
    "Составьте первое представление о данных Яндекс.Музыки.\n",
    "\n",
    "\n"
   ]
  },
  {
   "cell_type": "markdown",
   "metadata": {
    "id": "57eAOGIz_Zcs"
   },
   "source": [
    "Основной инструмент аналитика — `pandas`. Импортируйте эту библиотеку."
   ]
  },
  {
   "cell_type": "code",
   "execution_count": 1,
   "metadata": {
    "id": "AXN7PHPN_Zcs"
   },
   "outputs": [],
   "source": [
    "import pandas as pd # импорт библиотеки pandas"
   ]
  },
  {
   "cell_type": "markdown",
   "metadata": {
    "id": "SG23P8tt_Zcs"
   },
   "source": [
    "Прочитайте файл `yandex_music_project.csv` из папки `/datasets` и сохраните его в переменной `df`:"
   ]
  },
  {
   "cell_type": "code",
   "execution_count": 2,
   "metadata": {
    "id": "fFVu7vqh_Zct"
   },
   "outputs": [],
   "source": [
    "df = pd.read_csv('/datasets/yandex_music_project.csv') # чтение файла с данными и сохранение в df"
   ]
  },
  {
   "cell_type": "markdown",
   "metadata": {
    "id": "rDoOMd3uTqnZ"
   },
   "source": [
    "Выведите на экран первые десять строк таблицы:"
   ]
  },
  {
   "cell_type": "code",
   "execution_count": 3,
   "metadata": {
    "id": "oWTVX3gW_Zct"
   },
   "outputs": [
    {
     "data": {
      "text/html": [
       "<div>\n",
       "<style scoped>\n",
       "    .dataframe tbody tr th:only-of-type {\n",
       "        vertical-align: middle;\n",
       "    }\n",
       "\n",
       "    .dataframe tbody tr th {\n",
       "        vertical-align: top;\n",
       "    }\n",
       "\n",
       "    .dataframe thead th {\n",
       "        text-align: right;\n",
       "    }\n",
       "</style>\n",
       "<table border=\"1\" class=\"dataframe\">\n",
       "  <thead>\n",
       "    <tr style=\"text-align: right;\">\n",
       "      <th></th>\n",
       "      <th>userID</th>\n",
       "      <th>Track</th>\n",
       "      <th>artist</th>\n",
       "      <th>genre</th>\n",
       "      <th>City</th>\n",
       "      <th>time</th>\n",
       "      <th>Day</th>\n",
       "    </tr>\n",
       "  </thead>\n",
       "  <tbody>\n",
       "    <tr>\n",
       "      <td>0</td>\n",
       "      <td>FFB692EC</td>\n",
       "      <td>Kamigata To Boots</td>\n",
       "      <td>The Mass Missile</td>\n",
       "      <td>rock</td>\n",
       "      <td>Saint-Petersburg</td>\n",
       "      <td>20:28:33</td>\n",
       "      <td>Wednesday</td>\n",
       "    </tr>\n",
       "    <tr>\n",
       "      <td>1</td>\n",
       "      <td>55204538</td>\n",
       "      <td>Delayed Because of Accident</td>\n",
       "      <td>Andreas Rönnberg</td>\n",
       "      <td>rock</td>\n",
       "      <td>Moscow</td>\n",
       "      <td>14:07:09</td>\n",
       "      <td>Friday</td>\n",
       "    </tr>\n",
       "    <tr>\n",
       "      <td>2</td>\n",
       "      <td>20EC38</td>\n",
       "      <td>Funiculì funiculà</td>\n",
       "      <td>Mario Lanza</td>\n",
       "      <td>pop</td>\n",
       "      <td>Saint-Petersburg</td>\n",
       "      <td>20:58:07</td>\n",
       "      <td>Wednesday</td>\n",
       "    </tr>\n",
       "    <tr>\n",
       "      <td>3</td>\n",
       "      <td>A3DD03C9</td>\n",
       "      <td>Dragons in the Sunset</td>\n",
       "      <td>Fire + Ice</td>\n",
       "      <td>folk</td>\n",
       "      <td>Saint-Petersburg</td>\n",
       "      <td>08:37:09</td>\n",
       "      <td>Monday</td>\n",
       "    </tr>\n",
       "    <tr>\n",
       "      <td>4</td>\n",
       "      <td>E2DC1FAE</td>\n",
       "      <td>Soul People</td>\n",
       "      <td>Space Echo</td>\n",
       "      <td>dance</td>\n",
       "      <td>Moscow</td>\n",
       "      <td>08:34:34</td>\n",
       "      <td>Monday</td>\n",
       "    </tr>\n",
       "    <tr>\n",
       "      <td>5</td>\n",
       "      <td>842029A1</td>\n",
       "      <td>Преданная</td>\n",
       "      <td>IMPERVTOR</td>\n",
       "      <td>rusrap</td>\n",
       "      <td>Saint-Petersburg</td>\n",
       "      <td>13:09:41</td>\n",
       "      <td>Friday</td>\n",
       "    </tr>\n",
       "    <tr>\n",
       "      <td>6</td>\n",
       "      <td>4CB90AA5</td>\n",
       "      <td>True</td>\n",
       "      <td>Roman Messer</td>\n",
       "      <td>dance</td>\n",
       "      <td>Moscow</td>\n",
       "      <td>13:00:07</td>\n",
       "      <td>Wednesday</td>\n",
       "    </tr>\n",
       "    <tr>\n",
       "      <td>7</td>\n",
       "      <td>F03E1C1F</td>\n",
       "      <td>Feeling This Way</td>\n",
       "      <td>Polina Griffith</td>\n",
       "      <td>dance</td>\n",
       "      <td>Moscow</td>\n",
       "      <td>20:47:49</td>\n",
       "      <td>Wednesday</td>\n",
       "    </tr>\n",
       "    <tr>\n",
       "      <td>8</td>\n",
       "      <td>8FA1D3BE</td>\n",
       "      <td>И вновь продолжается бой</td>\n",
       "      <td>NaN</td>\n",
       "      <td>ruspop</td>\n",
       "      <td>Moscow</td>\n",
       "      <td>09:17:40</td>\n",
       "      <td>Friday</td>\n",
       "    </tr>\n",
       "    <tr>\n",
       "      <td>9</td>\n",
       "      <td>E772D5C0</td>\n",
       "      <td>Pessimist</td>\n",
       "      <td>NaN</td>\n",
       "      <td>dance</td>\n",
       "      <td>Saint-Petersburg</td>\n",
       "      <td>21:20:49</td>\n",
       "      <td>Wednesday</td>\n",
       "    </tr>\n",
       "  </tbody>\n",
       "</table>\n",
       "</div>"
      ],
      "text/plain": [
       "     userID                        Track            artist   genre  \\\n",
       "0  FFB692EC            Kamigata To Boots  The Mass Missile    rock   \n",
       "1  55204538  Delayed Because of Accident  Andreas Rönnberg    rock   \n",
       "2    20EC38            Funiculì funiculà       Mario Lanza     pop   \n",
       "3  A3DD03C9        Dragons in the Sunset        Fire + Ice    folk   \n",
       "4  E2DC1FAE                  Soul People        Space Echo   dance   \n",
       "5  842029A1                    Преданная         IMPERVTOR  rusrap   \n",
       "6  4CB90AA5                         True      Roman Messer   dance   \n",
       "7  F03E1C1F             Feeling This Way   Polina Griffith   dance   \n",
       "8  8FA1D3BE     И вновь продолжается бой               NaN  ruspop   \n",
       "9  E772D5C0                    Pessimist               NaN   dance   \n",
       "\n",
       "             City        time        Day  \n",
       "0  Saint-Petersburg  20:28:33  Wednesday  \n",
       "1            Moscow  14:07:09     Friday  \n",
       "2  Saint-Petersburg  20:58:07  Wednesday  \n",
       "3  Saint-Petersburg  08:37:09     Monday  \n",
       "4            Moscow  08:34:34     Monday  \n",
       "5  Saint-Petersburg  13:09:41     Friday  \n",
       "6            Moscow  13:00:07  Wednesday  \n",
       "7            Moscow  20:47:49  Wednesday  \n",
       "8            Moscow  09:17:40     Friday  \n",
       "9  Saint-Petersburg  21:20:49  Wednesday  "
      ]
     },
     "metadata": {},
     "output_type": "display_data"
    }
   ],
   "source": [
    "display(df.head(10)) # получение первых 10 строк таблицы df"
   ]
  },
  {
   "cell_type": "markdown",
   "metadata": {
    "id": "EO73Kwic_Zct"
   },
   "source": [
    "Одной командой получить общую информацию о таблице:"
   ]
  },
  {
   "cell_type": "code",
   "execution_count": 4,
   "metadata": {
    "id": "DSf2kIb-_Zct"
   },
   "outputs": [
    {
     "data": {
      "text/plain": [
       "<bound method DataFrame.info of          userID                              Track            artist  \\\n",
       "0      FFB692EC                  Kamigata To Boots  The Mass Missile   \n",
       "1      55204538        Delayed Because of Accident  Andreas Rönnberg   \n",
       "2        20EC38                  Funiculì funiculà       Mario Lanza   \n",
       "3      A3DD03C9              Dragons in the Sunset        Fire + Ice   \n",
       "4      E2DC1FAE                        Soul People        Space Echo   \n",
       "...         ...                                ...               ...   \n",
       "65074  729CBB09                            My Name            McLean   \n",
       "65075  D08D4A55  Maybe One Day (feat. Black Spade)       Blu & Exile   \n",
       "65076  C5E3A0D5                          Jalopiina               NaN   \n",
       "65077  321D0506                      Freight Train     Chas McDevitt   \n",
       "65078  3A64EF84          Tell Me Sweet Little Lies      Monica Lopez   \n",
       "\n",
       "            genre            City        time        Day  \n",
       "0            rock  Saint-Petersburg  20:28:33  Wednesday  \n",
       "1            rock            Moscow  14:07:09     Friday  \n",
       "2             pop  Saint-Petersburg  20:58:07  Wednesday  \n",
       "3            folk  Saint-Petersburg  08:37:09     Monday  \n",
       "4           dance            Moscow  08:34:34     Monday  \n",
       "...           ...               ...       ...        ...  \n",
       "65074         rnb            Moscow  13:32:28  Wednesday  \n",
       "65075         hip  Saint-Petersburg  10:00:00     Monday  \n",
       "65076  industrial            Moscow  20:09:26     Friday  \n",
       "65077        rock            Moscow  21:43:59     Friday  \n",
       "65078     country            Moscow  21:59:46     Friday  \n",
       "\n",
       "[65079 rows x 7 columns]>"
      ]
     },
     "execution_count": 4,
     "metadata": {},
     "output_type": "execute_result"
    }
   ],
   "source": [
    "df.info # получение общей информации о данных в таблице df"
   ]
  },
  {
   "cell_type": "markdown",
   "metadata": {
    "id": "TaQ2Iwbr_Zct"
   },
   "source": [
    "Итак, в таблице семь столбцов. Тип данных во всех столбцах — `object`.\n",
    "\n",
    "Согласно документации к данным:\n",
    "* `userID` — идентификатор пользователя;\n",
    "* `Track` — название трека;  \n",
    "* `artist` — имя исполнителя;\n",
    "* `genre` — название жанра;\n",
    "* `City` — город пользователя;\n",
    "* `time` — время начала прослушивания;\n",
    "* `Day` — день недели.\n",
    "\n",
    "В названиях колонок видны три нарушения стиля:\n",
    "1. Строчные буквы сочетаются с прописными.\n",
    "2. Встречаются пробелы.\n",
    "3. Слитное написание `userID`. Предпочтительннее использовать змеиный регистр: `userID` > `user_id`.\n",
    "\n",
    "\n",
    "\n",
    "Количество значений в столбцах различается. Значит, в данных есть пропущенные значения.\n"
   ]
  },
  {
   "cell_type": "markdown",
   "metadata": {
    "id": "MCB6-dXG_Zct"
   },
   "source": [
    "**Выводы**\n",
    "\n",
    "В каждой строке таблицы — данные о прослушанном треке. Часть колонок описывает саму композицию: название, исполнителя и жанр. Остальные данные рассказывают о пользователе: из какого он города, когда он слушал музыку. \n",
    "\n",
    "Предварительно можно утверждать, что, данных достаточно для проверки гипотез. Но встречаются пропуски в данных, а в названиях колонок — расхождения с хорошим стилем.\n",
    "\n",
    "Чтобы двигаться дальше, нужно устранить проблемы в данных."
   ]
  },
  {
   "cell_type": "markdown",
   "metadata": {
    "id": "SjYF6Ub9_Zct"
   },
   "source": [
    "## Предобработка данных\n",
    "Исправьте стиль в заголовках столбцов, исключите пропуски. Затем проверьте данные на дубликаты."
   ]
  },
  {
   "cell_type": "markdown",
   "metadata": {
    "id": "dIaKXr29_Zct"
   },
   "source": [
    "### Стиль заголовков\n",
    "Выведите на экран названия столбцов:"
   ]
  },
  {
   "cell_type": "code",
   "execution_count": 5,
   "metadata": {
    "id": "oKOTdF_Q_Zct"
   },
   "outputs": [
    {
     "data": {
      "text/plain": [
       "Index(['  userID', 'Track', 'artist', 'genre', '  City  ', 'time', 'Day'], dtype='object')"
      ]
     },
     "execution_count": 5,
     "metadata": {},
     "output_type": "execute_result"
    }
   ],
   "source": [
    "df.columns # перечень названий столбцов таблицы df"
   ]
  },
  {
   "cell_type": "markdown",
   "metadata": {
    "id": "zj5534cv_Zct"
   },
   "source": [
    "Приведите названия в соответствие с хорошим стилем:\n",
    "* несколько слов в названии запишите в «змеином_регистре»,\n",
    "* все символы сделайте строчными,\n",
    "* устраните пробелы.\n",
    "\n",
    "Для этого переименуйте колонки так:\n",
    "* `'  userID'` → `'user_id'`;\n",
    "* `'Track'` → `'track'`;\n",
    "* `'  City  '` → `'city'`;\n",
    "* `'Day'` → `'day'`."
   ]
  },
  {
   "cell_type": "code",
   "execution_count": 6,
   "metadata": {
    "id": "ISlFqs5y_Zct"
   },
   "outputs": [],
   "source": [
    "df = df.rename(columns={'  userID': 'user_id', 'Track': 'track', '  City  ': 'city', 'Day': 'day'}) #переименование столбцов"
   ]
  },
  {
   "cell_type": "markdown",
   "metadata": {
    "id": "1dqbh00J_Zct"
   },
   "source": [
    "Проверьте результат. Для этого ещё раз выведите на экран названия столбцов:"
   ]
  },
  {
   "cell_type": "code",
   "execution_count": 7,
   "metadata": {
    "id": "d4NOAmTW_Zct"
   },
   "outputs": [
    {
     "data": {
      "text/plain": [
       "Index(['user_id', 'track', 'artist', 'genre', 'city', 'time', 'day'], dtype='object')"
      ]
     },
     "execution_count": 7,
     "metadata": {},
     "output_type": "execute_result"
    }
   ],
   "source": [
    "df.columns # проверка результатов - перечень названий столбцов"
   ]
  },
  {
   "cell_type": "markdown",
   "metadata": {
    "id": "5ISfbcfY_Zct"
   },
   "source": [
    "### Пропуски значений\n",
    "Сначала посчитайте, сколько в таблице пропущенных значений. Для этого достаточно двух методов `pandas`:"
   ]
  },
  {
   "cell_type": "code",
   "execution_count": 8,
   "metadata": {
    "id": "RskX29qr_Zct",
    "scrolled": true
   },
   "outputs": [
    {
     "data": {
      "text/plain": [
       "user_id       0\n",
       "track      1231\n",
       "artist     7203\n",
       "genre      1198\n",
       "city          0\n",
       "time          0\n",
       "day           0\n",
       "dtype: int64"
      ]
     },
     "execution_count": 8,
     "metadata": {},
     "output_type": "execute_result"
    }
   ],
   "source": [
    "df.isna().sum() # подсчёт пропусков"
   ]
  },
  {
   "cell_type": "markdown",
   "metadata": {
    "id": "qubhgnlO_Zct"
   },
   "source": [
    "Не все пропущенные значения влияют на исследование. Так в `track` и `artist` пропуски не важны для вашей работы. Достаточно заменить их явными обозначениями.\n",
    "\n",
    "Но пропуски в `genre` могут помешать сравнению музыкальных вкусов в Москве и Санкт-Петербурге. На практике было бы правильно установить причину пропусков и восстановить данные. Такой возможности нет в учебном проекте. Придётся:\n",
    "* заполнить и эти пропуски явными обозначениями,\n",
    "* оценить, насколько они повредят расчётам. "
   ]
  },
  {
   "cell_type": "markdown",
   "metadata": {
    "id": "fSv2laPA_Zct"
   },
   "source": [
    "Замените пропущенные значения в столбцах `track`, `artist` и `genre` на строку `'unknown'`. Для этого создайте список `columns_to_replace`, переберите его элементы циклом `for` и для каждого столбца выполните замену пропущенных значений:"
   ]
  },
  {
   "cell_type": "code",
   "execution_count": 9,
   "metadata": {
    "id": "KplB5qWs_Zct",
    "scrolled": true
   },
   "outputs": [],
   "source": [
    "columns_to_replace = ['track', 'artist', 'genre']\n",
    "for column in columns_to_replace:\n",
    "    df[column] = df[column].fillna('unknown') # перебор названий столбцов в цикле и замена пропущенных значений на 'unknown'"
   ]
  },
  {
   "cell_type": "markdown",
   "metadata": {
    "id": "Ilsm-MZo_Zct"
   },
   "source": [
    "Убедитесь, что в таблице не осталось пропусков. Для этого ещё раз посчитайте пропущенные значения."
   ]
  },
  {
   "cell_type": "code",
   "execution_count": 10,
   "metadata": {
    "id": "Tq4nYRX4_Zct"
   },
   "outputs": [
    {
     "data": {
      "text/plain": [
       "user_id    0\n",
       "track      0\n",
       "artist     0\n",
       "genre      0\n",
       "city       0\n",
       "time       0\n",
       "day        0\n",
       "dtype: int64"
      ]
     },
     "execution_count": 10,
     "metadata": {},
     "output_type": "execute_result"
    }
   ],
   "source": [
    "df.isna().sum() # подсчёт пропусков"
   ]
  },
  {
   "cell_type": "markdown",
   "metadata": {
    "id": "BWKRtBJ3_Zct"
   },
   "source": [
    "### Дубликаты\n",
    "Посчитайте явные дубликаты в таблице одной командой:"
   ]
  },
  {
   "cell_type": "code",
   "execution_count": 11,
   "metadata": {
    "id": "36eES_S0_Zct"
   },
   "outputs": [
    {
     "data": {
      "text/plain": [
       "3826"
      ]
     },
     "execution_count": 11,
     "metadata": {},
     "output_type": "execute_result"
    }
   ],
   "source": [
    "df.duplicated().sum() # подсчёт явных дубликатов"
   ]
  },
  {
   "cell_type": "markdown",
   "metadata": {
    "id": "Ot25h6XR_Zct"
   },
   "source": [
    "Вызовите специальный метод `pandas`, чтобы удалить явные дубликаты:"
   ]
  },
  {
   "cell_type": "code",
   "execution_count": 12,
   "metadata": {
    "id": "exFHq6tt_Zct"
   },
   "outputs": [],
   "source": [
    "df = df.drop_duplicates().reset_index(drop=True) # удаление явных дубликатов (с удалением старых индексов и формированием новых)"
   ]
  },
  {
   "cell_type": "markdown",
   "metadata": {
    "id": "Im2YwBEG_Zct"
   },
   "source": [
    "Ещё раз посчитайте явные дубликаты в таблице — убедитесь, что полностью от них избавились:"
   ]
  },
  {
   "cell_type": "code",
   "execution_count": 13,
   "metadata": {
    "id": "-8PuNWQ0_Zct"
   },
   "outputs": [
    {
     "data": {
      "text/plain": [
       "0"
      ]
     },
     "execution_count": 13,
     "metadata": {},
     "output_type": "execute_result"
    }
   ],
   "source": [
    "df.duplicated().sum() # подсчёт явных дубликатов"
   ]
  },
  {
   "cell_type": "markdown",
   "metadata": {
    "id": "QlFBsxAr_Zct"
   },
   "source": [
    "Теперь избавьтесь от неявных дубликатов в колонке `genre`. Например, название одного и того же жанра может быть записано немного по-разному. Такие ошибки тоже повлияют на результат исследования."
   ]
  },
  {
   "cell_type": "markdown",
   "metadata": {
    "id": "eSjWwsOh_Zct"
   },
   "source": [
    "Выведите на экран список уникальных названий жанров, отсортированный в алфавитном порядке. Для этого:\n",
    "* извлеките нужный столбец датафрейма, \n",
    "* примените к нему метод сортировки,\n",
    "* для отсортированного столбца вызовите метод, который вернёт уникальные значения из столбца."
   ]
  },
  {
   "cell_type": "code",
   "execution_count": 14,
   "metadata": {
    "id": "JIUcqzZN_Zct"
   },
   "outputs": [
    {
     "data": {
      "text/plain": [
       "array(['rock', 'pop', 'folk', 'dance', 'rusrap', 'ruspop', 'world',\n",
       "       'electronic', 'unknown', 'alternative', 'children', 'rnb', 'hip',\n",
       "       'jazz', 'postrock', 'latin', 'classical', 'metal', 'reggae',\n",
       "       'tatar', 'blues', 'instrumental', 'rusrock', 'dnb', 'türk', 'post',\n",
       "       'country', 'psychedelic', 'conjazz', 'indie', 'posthardcore',\n",
       "       'local', 'avantgarde', 'punk', 'videogame', 'techno', 'house',\n",
       "       'christmas', 'melodic', 'caucasian', 'reggaeton', 'soundtrack',\n",
       "       'singer', 'ska', 'shanson', 'ambient', 'film', 'western', 'rap',\n",
       "       'beats', \"hard'n'heavy\", 'progmetal', 'minimal', 'contemporary',\n",
       "       'new', 'soul', 'holiday', 'german', 'tropical', 'fairytail',\n",
       "       'spiritual', 'urban', 'gospel', 'nujazz', 'folkmetal', 'trance',\n",
       "       'miscellaneous', 'anime', 'hardcore', 'progressive', 'chanson',\n",
       "       'numetal', 'vocal', 'estrada', 'russian', 'classicmetal',\n",
       "       'dubstep', 'club', 'deep', 'southern', 'black', 'folkrock',\n",
       "       'fitness', 'french', 'disco', 'religious', 'hiphop', 'drum',\n",
       "       'extrememetal', 'türkçe', 'experimental', 'easy', 'metalcore',\n",
       "       'modern', 'argentinetango', 'old', 'breaks', 'eurofolk',\n",
       "       'stonerrock', 'industrial', 'funk', 'jpop', 'middle', 'variété',\n",
       "       'other', 'adult', 'christian', 'gothic', 'international', 'muslim',\n",
       "       'relax', 'schlager', 'caribbean', 'ukrrock', 'nu', 'breakbeat',\n",
       "       'comedy', 'chill', 'newage', 'specialty', 'uzbek', 'k-pop',\n",
       "       'balkan', 'chinese', 'meditative', 'dub', 'power', 'death',\n",
       "       'grime', 'arabesk', 'romance', 'flamenco', 'leftfield', 'european',\n",
       "       'tech', 'newwave', 'dancehall', 'mpb', 'piano', 'top', 'bigroom',\n",
       "       'opera', 'celtic', 'tradjazz', 'acoustic', 'epicmetal', 'hip-hop',\n",
       "       'historisch', 'downbeat', 'downtempo', 'africa', 'audiobook',\n",
       "       'jewish', 'sängerportrait', 'deutschrock', 'eastern', 'action',\n",
       "       'future', 'electropop', 'folklore', 'bollywood', 'marschmusik',\n",
       "       'rnr', 'karaoke', 'indian', 'rancheras', 'электроника',\n",
       "       'afrikaans', 'tango', 'rhythm', 'sound', 'deutschspr', 'trip',\n",
       "       'lovers', 'choral', 'dancepop', 'podcasts', 'retro', 'smooth',\n",
       "       'mexican', 'brazilian', 'ïîï', 'mood', 'surf', 'author', 'gangsta',\n",
       "       'triphop', 'inspirational', 'idm', 'ethnic', 'bluegrass',\n",
       "       'broadway', 'animated', 'americana', 'karadeniz', 'rockabilly',\n",
       "       'colombian', 'self', 'hop', 'synthrock', 'sertanejo', 'japanese',\n",
       "       'canzone', 'swing', 'lounge', 'sport', 'korean', 'ragga',\n",
       "       'traditional', 'gitarre', 'frankreich', 'alternativepunk', 'emo',\n",
       "       'laiko', 'cantopop', 'glitch', 'documentary', 'rockalternative',\n",
       "       'thrash', 'hymn', 'oceania', 'rockother', 'popeurodance', 'dark',\n",
       "       'vi', 'grunge', 'hardstyle', 'samba', 'garage', 'soft', 'art',\n",
       "       'folktronica', 'entehno', 'mediterranean', 'chamber', 'cuban',\n",
       "       'taraftar', 'rockindie', 'gypsy', 'hardtechno', 'shoegazing',\n",
       "       'skarock', 'bossa', 'salsa', 'latino', 'worldbeat', 'malaysian',\n",
       "       'baile', 'ghazal', 'loungeelectronic', 'arabic', 'popelectronic',\n",
       "       'acid', 'kayokyoku', 'neoklassik', 'tribal', 'tanzorchester',\n",
       "       'native', 'independent', 'cantautori', 'handsup', 'poprussian',\n",
       "       'punjabi', 'synthpop', 'rave', 'französisch', 'quebecois',\n",
       "       'speech', 'soulful', 'teen', 'jam', 'ram', 'horror', 'scenic',\n",
       "       'orchestral', 'neue', 'roots', 'slow', 'jungle', 'indipop', 'axé',\n",
       "       'fado', 'showtunes', 'arena', 'irish', 'mandopop', 'forró',\n",
       "       'popdance', 'dirty', 'regional'], dtype=object)"
      ]
     },
     "execution_count": 14,
     "metadata": {},
     "output_type": "execute_result"
    }
   ],
   "source": [
    "df['genre'].unique() # Просмотр уникальных названий жанров"
   ]
  },
  {
   "cell_type": "markdown",
   "metadata": {
    "id": "qej-Qmuo_Zct"
   },
   "source": [
    "Просмотрите список и найдите неявные дубликаты названия `hiphop`. Это могут быть названия с ошибками или альтернативные названия того же жанра.\n",
    "\n",
    "Вы увидите следующие неявные дубликаты:\n",
    "* *hip*,\n",
    "* *hop*,\n",
    "* *hip-hop*.\n",
    "\n",
    "Чтобы очистить от них таблицу, напишите функцию `replace_wrong_genres()` с двумя параметрами: \n",
    "* `wrong_genres` — список дубликатов,\n",
    "* `correct_genre` — строка с правильным значением.\n",
    "\n",
    "Функция должна исправить колонку `genre` в таблице `df`: заменить каждое значение из списка `wrong_genres` на значение из `correct_genre`."
   ]
  },
  {
   "cell_type": "code",
   "execution_count": 15,
   "metadata": {
    "id": "ErNDkmns_Zct"
   },
   "outputs": [],
   "source": [
    "def replace_wrong_genres(wrong_genres, correct_genre):\n",
    "    for wrong_genre in wrong_genres:\n",
    "        df['genre'] = df['genre'].replace(wrong_genre, correct_genre)"
   ]
  },
  {
   "cell_type": "markdown",
   "metadata": {
    "id": "aDoBJxbA_Zct"
   },
   "source": [
    "Вызовите `replace_wrong_genres()` и передайте ей такие аргументы, чтобы она устранила неявные дубликаты: вместо `hip`, `hop` и `hip-hop` в таблице должно быть значение `hiphop`:"
   ]
  },
  {
   "cell_type": "code",
   "execution_count": 16,
   "metadata": {
    "id": "YN5i2hpmSo09"
   },
   "outputs": [],
   "source": [
    "duplicates = ['hip', 'hop', 'hip-pop']\n",
    "name = 'hiphop' \n",
    "replace_wrong_genres(duplicates, name) # Устранение неявных дубликатов"
   ]
  },
  {
   "cell_type": "markdown",
   "metadata": {
    "id": "zQKF16_RG15m"
   },
   "source": [
    "Проверьте, что заменили неправильные названия:\n",
    "\n",
    "*   hip\n",
    "*   hop\n",
    "*   hip-hop\n",
    "\n",
    "Выведите отсортированный список уникальных значений столбца `genre`:"
   ]
  },
  {
   "cell_type": "code",
   "execution_count": 17,
   "metadata": {
    "id": "wvixALnFG15m",
    "scrolled": true
   },
   "outputs": [],
   "source": [
    "df_unique = df['genre'].unique() # Проверка на неявные дубликаты"
   ]
  },
  {
   "cell_type": "code",
   "execution_count": 18,
   "metadata": {},
   "outputs": [
    {
     "name": "stdout",
     "output_type": "stream",
     "text": [
      "['acid' 'acoustic' 'action' 'adult' 'africa' 'afrikaans' 'alternative'\n",
      " 'alternativepunk' 'ambient' 'americana' 'animated' 'anime' 'arabesk'\n",
      " 'arabic' 'arena' 'argentinetango' 'art' 'audiobook' 'author' 'avantgarde'\n",
      " 'axé' 'baile' 'balkan' 'beats' 'bigroom' 'black' 'bluegrass' 'blues'\n",
      " 'bollywood' 'bossa' 'brazilian' 'breakbeat' 'breaks' 'broadway'\n",
      " 'cantautori' 'cantopop' 'canzone' 'caribbean' 'caucasian' 'celtic'\n",
      " 'chamber' 'chanson' 'children' 'chill' 'chinese' 'choral' 'christian'\n",
      " 'christmas' 'classical' 'classicmetal' 'club' 'colombian' 'comedy'\n",
      " 'conjazz' 'contemporary' 'country' 'cuban' 'dance' 'dancehall' 'dancepop'\n",
      " 'dark' 'death' 'deep' 'deutschrock' 'deutschspr' 'dirty' 'disco' 'dnb'\n",
      " 'documentary' 'downbeat' 'downtempo' 'drum' 'dub' 'dubstep' 'eastern'\n",
      " 'easy' 'electronic' 'electropop' 'emo' 'entehno' 'epicmetal' 'estrada'\n",
      " 'ethnic' 'eurofolk' 'european' 'experimental' 'extrememetal' 'fado'\n",
      " 'fairytail' 'film' 'fitness' 'flamenco' 'folk' 'folklore' 'folkmetal'\n",
      " 'folkrock' 'folktronica' 'forró' 'frankreich' 'französisch' 'french'\n",
      " 'funk' 'future' 'gangsta' 'garage' 'german' 'ghazal' 'gitarre' 'glitch'\n",
      " 'gospel' 'gothic' 'grime' 'grunge' 'gypsy' 'handsup' \"hard'n'heavy\"\n",
      " 'hardcore' 'hardstyle' 'hardtechno' 'hip-hop' 'hiphop' 'historisch'\n",
      " 'holiday' 'horror' 'house' 'hymn' 'idm' 'independent' 'indian' 'indie'\n",
      " 'indipop' 'industrial' 'inspirational' 'instrumental' 'international'\n",
      " 'irish' 'jam' 'japanese' 'jazz' 'jewish' 'jpop' 'jungle' 'k-pop'\n",
      " 'karadeniz' 'karaoke' 'kayokyoku' 'korean' 'laiko' 'latin' 'latino'\n",
      " 'leftfield' 'local' 'lounge' 'loungeelectronic' 'lovers' 'malaysian'\n",
      " 'mandopop' 'marschmusik' 'meditative' 'mediterranean' 'melodic' 'metal'\n",
      " 'metalcore' 'mexican' 'middle' 'minimal' 'miscellaneous' 'modern' 'mood'\n",
      " 'mpb' 'muslim' 'native' 'neoklassik' 'neue' 'new' 'newage' 'newwave' 'nu'\n",
      " 'nujazz' 'numetal' 'oceania' 'old' 'opera' 'orchestral' 'other' 'piano'\n",
      " 'podcasts' 'pop' 'popdance' 'popelectronic' 'popeurodance' 'poprussian'\n",
      " 'post' 'posthardcore' 'postrock' 'power' 'progmetal' 'progressive'\n",
      " 'psychedelic' 'punjabi' 'punk' 'quebecois' 'ragga' 'ram' 'rancheras'\n",
      " 'rap' 'rave' 'reggae' 'reggaeton' 'regional' 'relax' 'religious' 'retro'\n",
      " 'rhythm' 'rnb' 'rnr' 'rock' 'rockabilly' 'rockalternative' 'rockindie'\n",
      " 'rockother' 'romance' 'roots' 'ruspop' 'rusrap' 'rusrock' 'russian'\n",
      " 'salsa' 'samba' 'scenic' 'schlager' 'self' 'sertanejo' 'shanson'\n",
      " 'shoegazing' 'showtunes' 'singer' 'ska' 'skarock' 'slow' 'smooth' 'soft'\n",
      " 'soul' 'soulful' 'sound' 'soundtrack' 'southern' 'specialty' 'speech'\n",
      " 'spiritual' 'sport' 'stonerrock' 'surf' 'swing' 'synthpop' 'synthrock'\n",
      " 'sängerportrait' 'tango' 'tanzorchester' 'taraftar' 'tatar' 'tech'\n",
      " 'techno' 'teen' 'thrash' 'top' 'traditional' 'tradjazz' 'trance' 'tribal'\n",
      " 'trip' 'triphop' 'tropical' 'türk' 'türkçe' 'ukrrock' 'unknown' 'urban'\n",
      " 'uzbek' 'variété' 'vi' 'videogame' 'vocal' 'western' 'world' 'worldbeat'\n",
      " 'ïîï' 'электроника']\n"
     ]
    }
   ],
   "source": [
    "df_unique.sort()\n",
    "print(df_unique) # отсортировал список с уникальными значениями и вывел на экран"
   ]
  },
  {
   "cell_type": "markdown",
   "metadata": {
    "id": "jz6a9-7HQUDd"
   },
   "source": [
    "**Выводы**\n",
    "\n",
    "Предобработка обнаружила три проблемы в данных:\n",
    "\n",
    "- нарушения в стиле заголовков,\n",
    "- пропущенные значения,\n",
    "- дубликаты — явные и неявные.\n",
    "\n",
    "Вы исправили заголовки, чтобы упростить работу с таблицей. Без дубликатов исследование станет более точным.\n",
    "\n",
    "Пропущенные значения вы заменили на `'unknown'`. Ещё предстоит увидеть, не повредят ли исследованию пропуски в колонке `genre`.\n",
    "\n",
    "Теперь можно перейти к проверке гипотез. "
   ]
  },
  {
   "cell_type": "markdown",
   "metadata": {
    "id": "WttZHXH0SqKk"
   },
   "source": [
    "## Проверка гипотез"
   ]
  },
  {
   "cell_type": "markdown",
   "metadata": {
    "id": "Im936VVi_Zcu"
   },
   "source": [
    "### Сравнение поведения пользователей двух столиц"
   ]
  },
  {
   "cell_type": "markdown",
   "metadata": {
    "id": "nwt_MuaL_Zcu"
   },
   "source": [
    "Первая гипотеза утверждает, что пользователи по-разному слушают музыку в Москве и Санкт-Петербурге. Проверьте это предположение по данным о трёх днях недели — понедельнике, среде и пятнице. Для этого:\n",
    "\n",
    "* Разделите пользователей Москвы и Санкт-Петербурга\n",
    "* Сравните, сколько треков послушала каждая группа пользователей в понедельник, среду и пятницу.\n"
   ]
  },
  {
   "cell_type": "markdown",
   "metadata": {
    "id": "8Dw_YMmT_Zcu"
   },
   "source": [
    "Для тренировки сначала выполните каждый из расчётов по отдельности. \n",
    "\n",
    "Оцените активность пользователей в каждом городе. Сгруппируйте данные по городу и посчитайте прослушивания в каждой группе.\n",
    "\n"
   ]
  },
  {
   "cell_type": "code",
   "execution_count": 21,
   "metadata": {
    "id": "0_Qs96oh_Zcu"
   },
   "outputs": [
    {
     "data": {
      "text/plain": [
       "city\n",
       "Moscow              42741\n",
       "Saint-Petersburg    18512\n",
       "Name: genre, dtype: int64"
      ]
     },
     "execution_count": 21,
     "metadata": {},
     "output_type": "execute_result"
    }
   ],
   "source": [
    "df.groupby('city')['genre'].count() # Подсчёт прослушиваний в каждом городе"
   ]
  },
  {
   "cell_type": "markdown",
   "metadata": {
    "id": "dzli3w8o_Zcu"
   },
   "source": [
    "В Москве прослушиваний больше, чем в Петербурге. Из этого не следует, что московские пользователи чаще слушают музыку. Просто самих пользователей в Москве больше.\n",
    "\n",
    "Теперь сгруппируйте данные по дню недели и подсчитайте прослушивания в понедельник, среду и пятницу. Учтите, что в данных есть информация только о прослушиваниях только за эти дни.\n"
   ]
  },
  {
   "cell_type": "code",
   "execution_count": 22,
   "metadata": {
    "id": "uZMKjiJz_Zcu"
   },
   "outputs": [
    {
     "data": {
      "text/plain": [
       "day\n",
       "Friday       21840\n",
       "Monday       21354\n",
       "Wednesday    18059\n",
       "Name: genre, dtype: int64"
      ]
     },
     "execution_count": 22,
     "metadata": {},
     "output_type": "execute_result"
    }
   ],
   "source": [
    "df.groupby('day')['genre'].count() # Подсчёт прослушиваний в каждый из трёх дней"
   ]
  },
  {
   "cell_type": "markdown",
   "metadata": {
    "id": "cC2tNrlL_Zcu"
   },
   "source": [
    "В среднем пользователи из двух городов менее активны по средам. Но картина может измениться, если рассмотреть каждый город в отдельности."
   ]
  },
  {
   "cell_type": "markdown",
   "metadata": {
    "id": "POzs8bGa_Zcu"
   },
   "source": [
    "Вы видели, как работает группировка по городу и по дням недели. Теперь напишите функцию, которая объединит два эти расчёта.\n",
    "\n",
    "Создайте функцию `number_tracks()`, которая посчитает прослушивания для заданного дня и города. Ей понадобятся два параметра:\n",
    "* день недели,\n",
    "* название города.\n",
    "\n",
    "В функции сохраните в переменную строки исходной таблицы, у которых значение:\n",
    "  * в колонке `day` равно параметру `day`,\n",
    "  * в колонке `city` равно параметру `city`.\n",
    "\n",
    "Для этого примените последовательную фильтрацию с логической индексацией.\n",
    "\n",
    "Затем посчитайте значения в столбце `user_id` получившейся таблицы. Результат сохраните в новую переменную. Верните эту переменную из функции."
   ]
  },
  {
   "cell_type": "code",
   "execution_count": 23,
   "metadata": {
    "id": "Nz3GdQB1_Zcu"
   },
   "outputs": [],
   "source": [
    "def number_tracks(day, city):\n",
    "    track_list = df[(df['day'] == day) & (df['city'] == city)]\n",
    "    track_list_count = track_list['user_id'].count()\n",
    "    return track_list_count\n",
    "# <создание функции number_tracks()>\n",
    "# Объявляется функция с двумя па раметрами: day, city.\n",
    "# В переменной track_list сохраняются те строки таблицы df, для которых \n",
    "# значение в столбце 'day' равно параметру day и одновременно значение\n",
    "# в столбце 'city' равно параметру city (используйте последовательную фильтрацию\n",
    "# с помощью логической индексации).\n",
    "# В переменной track_list_count сохраняется число значений столбца 'user_id',\n",
    "# рассчитанное методом count() для таблицы track_list.  \n",
    "# Функция возвращает число - значение track_list_count.\n",
    "# Функция для подсчёта прослушиваний для конкретного города и дня.\n",
    "# С помощью последовательной фильтрации с логической индексацией она \n",
    "# сначала получит из исходной таблицы строки с нужным днём,\n",
    "# затем из результата отфильтрует строки с нужным городом,\n",
    "# методом count() посчитает количество значений в колонке user_id. \n",
    "# Это количество функция вернёт в качестве результата"
   ]
  },
  {
   "cell_type": "markdown",
   "metadata": {
    "id": "ytf7xFrFJQ2r"
   },
   "source": [
    "Вызовите `number_tracks()` шесть раз, меняя значение параметров — так, чтобы получить данные для каждого города в каждый из трёх дней."
   ]
  },
  {
   "cell_type": "code",
   "execution_count": 24,
   "metadata": {
    "id": "rJcRATNQ_Zcu"
   },
   "outputs": [
    {
     "data": {
      "text/plain": [
       "15740"
      ]
     },
     "execution_count": 24,
     "metadata": {},
     "output_type": "execute_result"
    }
   ],
   "source": [
    "number_tracks('Monday', 'Moscow') # количество прослушиваний в Москве по понедельникам"
   ]
  },
  {
   "cell_type": "code",
   "execution_count": 25,
   "metadata": {
    "id": "hq_ncZ5T_Zcu"
   },
   "outputs": [
    {
     "data": {
      "text/plain": [
       "5614"
      ]
     },
     "execution_count": 25,
     "metadata": {},
     "output_type": "execute_result"
    }
   ],
   "source": [
    "number_tracks('Monday', 'Saint-Petersburg') # количество прослушиваний в Санкт-Петербурге по понедельникам"
   ]
  },
  {
   "cell_type": "code",
   "execution_count": 26,
   "metadata": {
    "id": "_NTy2VPU_Zcu"
   },
   "outputs": [
    {
     "data": {
      "text/plain": [
       "11056"
      ]
     },
     "execution_count": 26,
     "metadata": {},
     "output_type": "execute_result"
    }
   ],
   "source": [
    "number_tracks('Wednesday', 'Moscow') # количество прослушиваний в Москве по средам"
   ]
  },
  {
   "cell_type": "code",
   "execution_count": 27,
   "metadata": {
    "id": "j2y3TAwo_Zcu"
   },
   "outputs": [
    {
     "data": {
      "text/plain": [
       "7003"
      ]
     },
     "execution_count": 27,
     "metadata": {},
     "output_type": "execute_result"
    }
   ],
   "source": [
    "number_tracks('Wednesday', 'Saint-Petersburg') # количество прослушиваний в Санкт-Петербурге по средам"
   ]
  },
  {
   "cell_type": "code",
   "execution_count": 28,
   "metadata": {
    "id": "vYDw5u_K_Zcu"
   },
   "outputs": [
    {
     "data": {
      "text/plain": [
       "15945"
      ]
     },
     "execution_count": 28,
     "metadata": {},
     "output_type": "execute_result"
    }
   ],
   "source": [
    "number_tracks('Friday', 'Moscow') # количество прослушиваний в Москве по пятницам"
   ]
  },
  {
   "cell_type": "code",
   "execution_count": 29,
   "metadata": {
    "id": "8_yzFtW3_Zcu"
   },
   "outputs": [
    {
     "data": {
      "text/plain": [
       "5895"
      ]
     },
     "execution_count": 29,
     "metadata": {},
     "output_type": "execute_result"
    }
   ],
   "source": [
    "number_tracks('Friday', 'Saint-Petersburg') # количество прослушиваний в Санкт-Петербурге по пятницам"
   ]
  },
  {
   "cell_type": "markdown",
   "metadata": {
    "id": "7QXffbO-_Zcu"
   },
   "source": [
    "Создайте c помощью конструктора `pd.DataFrame` таблицу, где\n",
    "* названия колонок — `['city', 'monday', 'wednesday', 'friday']`;\n",
    "* данные — результаты, которые вы получили с помощью `number_tracks`."
   ]
  },
  {
   "cell_type": "code",
   "execution_count": 30,
   "metadata": {
    "id": "APAcLpOr_Zcu"
   },
   "outputs": [
    {
     "data": {
      "text/html": [
       "<div>\n",
       "<style scoped>\n",
       "    .dataframe tbody tr th:only-of-type {\n",
       "        vertical-align: middle;\n",
       "    }\n",
       "\n",
       "    .dataframe tbody tr th {\n",
       "        vertical-align: top;\n",
       "    }\n",
       "\n",
       "    .dataframe thead th {\n",
       "        text-align: right;\n",
       "    }\n",
       "</style>\n",
       "<table border=\"1\" class=\"dataframe\">\n",
       "  <thead>\n",
       "    <tr style=\"text-align: right;\">\n",
       "      <th></th>\n",
       "      <th>city</th>\n",
       "      <th>monday</th>\n",
       "      <th>wednesday</th>\n",
       "      <th>friday</th>\n",
       "    </tr>\n",
       "  </thead>\n",
       "  <tbody>\n",
       "    <tr>\n",
       "      <td>0</td>\n",
       "      <td>Moscow</td>\n",
       "      <td>15740</td>\n",
       "      <td>11056</td>\n",
       "      <td>15945</td>\n",
       "    </tr>\n",
       "    <tr>\n",
       "      <td>1</td>\n",
       "      <td>Saint-Petersburg</td>\n",
       "      <td>5614</td>\n",
       "      <td>7003</td>\n",
       "      <td>5895</td>\n",
       "    </tr>\n",
       "  </tbody>\n",
       "</table>\n",
       "</div>"
      ],
      "text/plain": [
       "               city  monday  wednesday  friday\n",
       "0            Moscow   15740      11056   15945\n",
       "1  Saint-Petersburg    5614       7003    5895"
      ]
     },
     "metadata": {},
     "output_type": "display_data"
    }
   ],
   "source": [
    "column_names = ['city', 'monday', 'wednesday', 'friday'] \n",
    "data = [['Moscow', number_tracks('Monday', 'Moscow'), number_tracks('Wednesday', 'Moscow'), number_tracks('Friday', 'Moscow')],\n",
    "        ['Saint-Petersburg', number_tracks('Monday', 'Saint-Petersburg'), number_tracks('Wednesday', 'Saint-Petersburg'), number_tracks('Friday', 'Saint-Petersburg')]] \n",
    "table = pd.DataFrame(data=data,columns=column_names) \n",
    "display(table) # Таблица с результатами"
   ]
  },
  {
   "cell_type": "markdown",
   "metadata": {
    "id": "-EgPIHYu_Zcu"
   },
   "source": [
    "**Выводы**\n",
    "\n",
    "Данные показывают разницу поведения пользователей:\n",
    "\n",
    "- В Москве пик прослушиваний приходится на понедельник и пятницу, а в среду заметен спад.\n",
    "- В Петербурге, наоборот, больше слушают музыку по средам. Активность в понедельник и пятницу здесь почти в равной мере уступает среде.\n",
    "\n",
    "Значит, данные говорят в пользу первой гипотезы."
   ]
  },
  {
   "cell_type": "markdown",
   "metadata": {
    "id": "atZAxtq4_Zcu"
   },
   "source": [
    "### Музыка в начале и в конце недели"
   ]
  },
  {
   "cell_type": "markdown",
   "metadata": {
    "id": "eXrQqXFH_Zcu"
   },
   "source": [
    "Согласно второй гипотезе, утром в понедельник в Москве преобладают одни жанры, а в Петербурге — другие. Так же и вечером пятницы преобладают разные жанры — в зависимости от города."
   ]
  },
  {
   "cell_type": "markdown",
   "metadata": {
    "id": "S8UcW6Hw_Zcu"
   },
   "source": [
    "Сохраните таблицы с данными в две переменные:\n",
    "* по Москве — в `moscow_general`;\n",
    "* по Санкт-Петербургу — в `spb_general`."
   ]
  },
  {
   "cell_type": "code",
   "execution_count": 31,
   "metadata": {
    "id": "qeaFfM_P_Zcu"
   },
   "outputs": [
    {
     "data": {
      "text/html": [
       "<div>\n",
       "<style scoped>\n",
       "    .dataframe tbody tr th:only-of-type {\n",
       "        vertical-align: middle;\n",
       "    }\n",
       "\n",
       "    .dataframe tbody tr th {\n",
       "        vertical-align: top;\n",
       "    }\n",
       "\n",
       "    .dataframe thead th {\n",
       "        text-align: right;\n",
       "    }\n",
       "</style>\n",
       "<table border=\"1\" class=\"dataframe\">\n",
       "  <thead>\n",
       "    <tr style=\"text-align: right;\">\n",
       "      <th></th>\n",
       "      <th>user_id</th>\n",
       "      <th>track</th>\n",
       "      <th>artist</th>\n",
       "      <th>genre</th>\n",
       "      <th>city</th>\n",
       "      <th>time</th>\n",
       "      <th>day</th>\n",
       "    </tr>\n",
       "  </thead>\n",
       "  <tbody>\n",
       "    <tr>\n",
       "      <td>1</td>\n",
       "      <td>55204538</td>\n",
       "      <td>Delayed Because of Accident</td>\n",
       "      <td>Andreas Rönnberg</td>\n",
       "      <td>rock</td>\n",
       "      <td>Moscow</td>\n",
       "      <td>14:07:09</td>\n",
       "      <td>Friday</td>\n",
       "    </tr>\n",
       "    <tr>\n",
       "      <td>4</td>\n",
       "      <td>E2DC1FAE</td>\n",
       "      <td>Soul People</td>\n",
       "      <td>Space Echo</td>\n",
       "      <td>dance</td>\n",
       "      <td>Moscow</td>\n",
       "      <td>08:34:34</td>\n",
       "      <td>Monday</td>\n",
       "    </tr>\n",
       "    <tr>\n",
       "      <td>6</td>\n",
       "      <td>4CB90AA5</td>\n",
       "      <td>True</td>\n",
       "      <td>Roman Messer</td>\n",
       "      <td>dance</td>\n",
       "      <td>Moscow</td>\n",
       "      <td>13:00:07</td>\n",
       "      <td>Wednesday</td>\n",
       "    </tr>\n",
       "    <tr>\n",
       "      <td>7</td>\n",
       "      <td>F03E1C1F</td>\n",
       "      <td>Feeling This Way</td>\n",
       "      <td>Polina Griffith</td>\n",
       "      <td>dance</td>\n",
       "      <td>Moscow</td>\n",
       "      <td>20:47:49</td>\n",
       "      <td>Wednesday</td>\n",
       "    </tr>\n",
       "    <tr>\n",
       "      <td>8</td>\n",
       "      <td>8FA1D3BE</td>\n",
       "      <td>И вновь продолжается бой</td>\n",
       "      <td>unknown</td>\n",
       "      <td>ruspop</td>\n",
       "      <td>Moscow</td>\n",
       "      <td>09:17:40</td>\n",
       "      <td>Friday</td>\n",
       "    </tr>\n",
       "  </tbody>\n",
       "</table>\n",
       "</div>"
      ],
      "text/plain": [
       "    user_id                        track            artist   genre    city  \\\n",
       "1  55204538  Delayed Because of Accident  Andreas Rönnberg    rock  Moscow   \n",
       "4  E2DC1FAE                  Soul People        Space Echo   dance  Moscow   \n",
       "6  4CB90AA5                         True      Roman Messer   dance  Moscow   \n",
       "7  F03E1C1F             Feeling This Way   Polina Griffith   dance  Moscow   \n",
       "8  8FA1D3BE     И вновь продолжается бой           unknown  ruspop  Moscow   \n",
       "\n",
       "       time        day  \n",
       "1  14:07:09     Friday  \n",
       "4  08:34:34     Monday  \n",
       "6  13:00:07  Wednesday  \n",
       "7  20:47:49  Wednesday  \n",
       "8  09:17:40     Friday  "
      ]
     },
     "metadata": {},
     "output_type": "display_data"
    }
   ],
   "source": [
    "moscow_general = df[df['city'] == 'Moscow']\n",
    "display(moscow_general.head()) # получение таблицы moscow_general из тех строк таблицы df, \n",
    " # для которых значение в столбце 'city' равно 'Moscow'\n"
   ]
  },
  {
   "cell_type": "code",
   "execution_count": 32,
   "metadata": {
    "id": "ORaVRKto_Zcu"
   },
   "outputs": [
    {
     "data": {
      "text/html": [
       "<div>\n",
       "<style scoped>\n",
       "    .dataframe tbody tr th:only-of-type {\n",
       "        vertical-align: middle;\n",
       "    }\n",
       "\n",
       "    .dataframe tbody tr th {\n",
       "        vertical-align: top;\n",
       "    }\n",
       "\n",
       "    .dataframe thead th {\n",
       "        text-align: right;\n",
       "    }\n",
       "</style>\n",
       "<table border=\"1\" class=\"dataframe\">\n",
       "  <thead>\n",
       "    <tr style=\"text-align: right;\">\n",
       "      <th></th>\n",
       "      <th>user_id</th>\n",
       "      <th>track</th>\n",
       "      <th>artist</th>\n",
       "      <th>genre</th>\n",
       "      <th>city</th>\n",
       "      <th>time</th>\n",
       "      <th>day</th>\n",
       "    </tr>\n",
       "  </thead>\n",
       "  <tbody>\n",
       "    <tr>\n",
       "      <td>0</td>\n",
       "      <td>FFB692EC</td>\n",
       "      <td>Kamigata To Boots</td>\n",
       "      <td>The Mass Missile</td>\n",
       "      <td>rock</td>\n",
       "      <td>Saint-Petersburg</td>\n",
       "      <td>20:28:33</td>\n",
       "      <td>Wednesday</td>\n",
       "    </tr>\n",
       "    <tr>\n",
       "      <td>2</td>\n",
       "      <td>20EC38</td>\n",
       "      <td>Funiculì funiculà</td>\n",
       "      <td>Mario Lanza</td>\n",
       "      <td>pop</td>\n",
       "      <td>Saint-Petersburg</td>\n",
       "      <td>20:58:07</td>\n",
       "      <td>Wednesday</td>\n",
       "    </tr>\n",
       "    <tr>\n",
       "      <td>3</td>\n",
       "      <td>A3DD03C9</td>\n",
       "      <td>Dragons in the Sunset</td>\n",
       "      <td>Fire + Ice</td>\n",
       "      <td>folk</td>\n",
       "      <td>Saint-Petersburg</td>\n",
       "      <td>08:37:09</td>\n",
       "      <td>Monday</td>\n",
       "    </tr>\n",
       "    <tr>\n",
       "      <td>5</td>\n",
       "      <td>842029A1</td>\n",
       "      <td>Преданная</td>\n",
       "      <td>IMPERVTOR</td>\n",
       "      <td>rusrap</td>\n",
       "      <td>Saint-Petersburg</td>\n",
       "      <td>13:09:41</td>\n",
       "      <td>Friday</td>\n",
       "    </tr>\n",
       "    <tr>\n",
       "      <td>9</td>\n",
       "      <td>E772D5C0</td>\n",
       "      <td>Pessimist</td>\n",
       "      <td>unknown</td>\n",
       "      <td>dance</td>\n",
       "      <td>Saint-Petersburg</td>\n",
       "      <td>21:20:49</td>\n",
       "      <td>Wednesday</td>\n",
       "    </tr>\n",
       "  </tbody>\n",
       "</table>\n",
       "</div>"
      ],
      "text/plain": [
       "    user_id                  track            artist   genre  \\\n",
       "0  FFB692EC      Kamigata To Boots  The Mass Missile    rock   \n",
       "2    20EC38      Funiculì funiculà       Mario Lanza     pop   \n",
       "3  A3DD03C9  Dragons in the Sunset        Fire + Ice    folk   \n",
       "5  842029A1              Преданная         IMPERVTOR  rusrap   \n",
       "9  E772D5C0              Pessimist           unknown   dance   \n",
       "\n",
       "               city      time        day  \n",
       "0  Saint-Petersburg  20:28:33  Wednesday  \n",
       "2  Saint-Petersburg  20:58:07  Wednesday  \n",
       "3  Saint-Petersburg  08:37:09     Monday  \n",
       "5  Saint-Petersburg  13:09:41     Friday  \n",
       "9  Saint-Petersburg  21:20:49  Wednesday  "
      ]
     },
     "metadata": {},
     "output_type": "display_data"
    }
   ],
   "source": [
    "spb_general = df[df['city'] == 'Saint-Petersburg']\n",
    "display(spb_general.head()) # получение таблицы spb_general из тех строк таблицы df,\n",
    "# для которых значение в столбце 'city' равно 'Saint-Petersburg'\n"
   ]
  },
  {
   "cell_type": "markdown",
   "metadata": {
    "id": "MEJV-CX2_Zcu"
   },
   "source": [
    "Создайте функцию `genre_weekday()` с четырьмя параметрами:\n",
    "* таблица (датафрейм) с данными,\n",
    "* день недели,\n",
    "* начальная временная метка в формате 'hh:mm', \n",
    "* последняя временная метка в формате 'hh:mm'.\n",
    "\n",
    "Функция должна вернуть информацию о топ-10 жанров тех треков, которые прослушивали в указанный день, в промежутке между двумя отметками времени."
   ]
  },
  {
   "cell_type": "code",
   "execution_count": 33,
   "metadata": {
    "id": "laJT9BYl_Zcu"
   },
   "outputs": [],
   "source": [
    "def genre_weekday(table, day, time1, time2):\n",
    "    genre_df = table[(table['day'] == day) & (df['time'] > time1) & (df['time'] <= time2)]\n",
    "    genre_df_count = genre_df.groupby('genre')['genre'].count()\n",
    "    genre_df_sorted = genre_df_count.sort_values(ascending=False)\n",
    "    return genre_df_sorted.head(10)\n",
    "# Объявление функции genre_weekday() с параметрами table, day, time1, time2,\n",
    "# которая возвращает информацию о самых популярных жанрах в указанный день в\n",
    "# заданное время:\n",
    "# 1) в переменную genre_df сохраняются те строки переданного датафрейма table, для\n",
    "#    которых одновременно:\n",
    "#    - значение в столбце day равно значению аргумента day\n",
    "#    - значение в столбце time больше значения аргумента time1\n",
    "#    - значение в столбце time меньше значения аргумента time2\n",
    "#    Используйте последовательную фильтрацию с помощью логической индексации.\n",
    "# 2) сгруппировать датафрейм genre_df по столбцу genre, взять один из его\n",
    "#    столбцов и посчитать методом count() количество записей для каждого из\n",
    "#    присутствующих жанров, получившийся Series записать в переменную\n",
    "#    genre_df_count\n",
    "# 3) отсортировать genre_df_count по убыванию встречаемости и сохранить\n",
    "#    в переменную genre_df_sorted\n",
    "# 4) вернуть Series из 10 первых значений genre_df_sorted, это будут топ-10\n",
    "#    популярных жанров (в указанный день, в заданное время)"
   ]
  },
  {
   "cell_type": "markdown",
   "metadata": {
    "id": "la2s2_PF_Zcu"
   },
   "source": [
    "Cравните результаты функции `genre_weekday()` для Москвы и Санкт-Петербурга в понедельник утром (с 7:00 до 11:00) и в пятницу вечером (с 17:00 до 23:00):"
   ]
  },
  {
   "cell_type": "code",
   "execution_count": 34,
   "metadata": {
    "id": "yz7itPUQ_Zcu"
   },
   "outputs": [
    {
     "name": "stderr",
     "output_type": "stream",
     "text": [
      "/opt/conda/lib/python3.7/site-packages/ipykernel_launcher.py:2: UserWarning: Boolean Series key will be reindexed to match DataFrame index.\n",
      "  \n"
     ]
    },
    {
     "data": {
      "text/plain": [
       "genre\n",
       "pop            781\n",
       "dance          549\n",
       "electronica    480\n",
       "rock           474\n",
       "hiphop         286\n",
       "ruspop         186\n",
       "world          181\n",
       "rusrap         175\n",
       "alternative    164\n",
       "unknown        161\n",
       "Name: genre, dtype: int64"
      ]
     },
     "execution_count": 34,
     "metadata": {},
     "output_type": "execute_result"
    }
   ],
   "source": [
    "genre_weekday(moscow_general, 'Monday', '07:00', '11:00') # вызов функции для утра понедельника в Москве (вместо df — таблица moscow_general)\n",
    "# объекты, хранящие время, являются строками и сравниваются как строки\n",
    "# пример вызова: genre_weekday(moscow_general, 'Monday', '07:00', '11:00')"
   ]
  },
  {
   "cell_type": "code",
   "execution_count": 35,
   "metadata": {
    "id": "kwUcHPdy_Zcu"
   },
   "outputs": [
    {
     "name": "stderr",
     "output_type": "stream",
     "text": [
      "/opt/conda/lib/python3.7/site-packages/ipykernel_launcher.py:2: UserWarning: Boolean Series key will be reindexed to match DataFrame index.\n",
      "  \n"
     ]
    },
    {
     "data": {
      "text/plain": [
       "genre\n",
       "pop            218\n",
       "dance          182\n",
       "rock           162\n",
       "electronica    147\n",
       "hiphop          80\n",
       "ruspop          64\n",
       "alternative     58\n",
       "rusrap          55\n",
       "jazz            44\n",
       "classical       40\n",
       "Name: genre, dtype: int64"
      ]
     },
     "execution_count": 35,
     "metadata": {},
     "output_type": "execute_result"
    }
   ],
   "source": [
    "genre_weekday(spb_general, 'Monday', '07:00', '11:00') # вызов функции для утра понедельника в Петербурге (вместо df — таблица spb_general)"
   ]
  },
  {
   "cell_type": "code",
   "execution_count": 36,
   "metadata": {
    "id": "EzXVRE1o_Zcu"
   },
   "outputs": [
    {
     "name": "stderr",
     "output_type": "stream",
     "text": [
      "/opt/conda/lib/python3.7/site-packages/ipykernel_launcher.py:2: UserWarning: Boolean Series key will be reindexed to match DataFrame index.\n",
      "  \n"
     ]
    },
    {
     "data": {
      "text/plain": [
       "genre\n",
       "pop            713\n",
       "rock           517\n",
       "dance          495\n",
       "electronica    482\n",
       "hiphop         273\n",
       "world          208\n",
       "ruspop         170\n",
       "alternative    163\n",
       "classical      163\n",
       "rusrap         142\n",
       "Name: genre, dtype: int64"
      ]
     },
     "execution_count": 36,
     "metadata": {},
     "output_type": "execute_result"
    }
   ],
   "source": [
    "genre_weekday(moscow_general, 'Friday', '17:00', '23:00') # вызов функции для вечера пятницы в Москве"
   ]
  },
  {
   "cell_type": "code",
   "execution_count": 37,
   "metadata": {
    "id": "JZaEKu5v_Zcu"
   },
   "outputs": [
    {
     "name": "stderr",
     "output_type": "stream",
     "text": [
      "/opt/conda/lib/python3.7/site-packages/ipykernel_launcher.py:2: UserWarning: Boolean Series key will be reindexed to match DataFrame index.\n",
      "  \n"
     ]
    },
    {
     "data": {
      "text/plain": [
       "genre\n",
       "pop            256\n",
       "rock           216\n",
       "electronica    216\n",
       "dance          210\n",
       "hiphop          97\n",
       "alternative     63\n",
       "jazz            61\n",
       "classical       60\n",
       "rusrap          59\n",
       "world           54\n",
       "Name: genre, dtype: int64"
      ]
     },
     "execution_count": 37,
     "metadata": {},
     "output_type": "execute_result"
    }
   ],
   "source": [
    "genre_weekday(spb_general, 'Friday', '17:00', '23:00') # вызов функции для вечера пятницы в Петербурге"
   ]
  },
  {
   "cell_type": "markdown",
   "metadata": {
    "id": "wrCe4MNX_Zcu"
   },
   "source": [
    "**Выводы**\n",
    "\n",
    "Если сравнить топ-10 жанров в понедельник утром, можно сделать такие выводы:\n",
    "\n",
    "1. В Москве и Петербурге слушают похожую музыку. Единственное отличие — в московский рейтинг вошёл жанр “world”, а в петербургский — джаз и классика.\n",
    "\n",
    "2. В Москве пропущенных значений оказалось так много, что значение `'unknown'` заняло десятое место среди самых популярных жанров. Значит, пропущенные значения занимают существенную долю в данных и угрожают достоверности исследования.\n",
    "\n",
    "Вечер пятницы не меняет эту картину. Некоторые жанры поднимаются немного выше, другие спускаются, но в целом топ-10 остаётся тем же самым.\n",
    "\n",
    "Таким образом, вторая гипотеза подтвердилась лишь частично:\n",
    "* Пользователи слушают похожую музыку в начале недели и в конце.\n",
    "* Разница между Москвой и Петербургом не слишком выражена. В Москве чаще слушают русскую популярную музыку, в Петербурге — джаз.\n",
    "\n",
    "Однако пропуски в данных ставят под сомнение этот результат. В Москве их так много, что рейтинг топ-10 мог бы выглядеть иначе, если бы не утерянные  данные о жанрах."
   ]
  },
  {
   "cell_type": "markdown",
   "metadata": {
    "id": "JolODAqr_Zcu"
   },
   "source": [
    "### Жанровые предпочтения в Москве и Петербурге\n",
    "\n",
    "Гипотеза: Петербург — столица рэпа, музыку этого жанра там слушают чаще, чем в Москве.  А Москва — город контрастов, в котором, тем не менее, преобладает поп-музыка."
   ]
  },
  {
   "cell_type": "markdown",
   "metadata": {
    "id": "DlegSvaT_Zcu"
   },
   "source": [
    "Сгруппируйте таблицу `moscow_general` по жанру и посчитайте прослушивания треков каждого жанра методом `count()`. Затем отсортируйте результат в порядке убывания и сохраните его в таблице `moscow_genres`."
   ]
  },
  {
   "cell_type": "code",
   "execution_count": 38,
   "metadata": {
    "id": "r19lIPke_Zcu"
   },
   "outputs": [],
   "source": [
    "moscow_genres = moscow_general.groupby('genre')['genre'].count().sort_values(ascending=False)\n",
    "# одной строкой: группировка таблицы moscow_general по столбцу 'genre', \n",
    "# подсчёт числа значений 'genre' в этой группировке методом count(), \n",
    "# сортировка получившегося Series в порядке убывания и сохранение в moscow_genres"
   ]
  },
  {
   "cell_type": "markdown",
   "metadata": {
    "id": "6kMuomxTiIr8"
   },
   "source": [
    "Выведите на экран первые десять строк `moscow_genres`:"
   ]
  },
  {
   "cell_type": "code",
   "execution_count": 39,
   "metadata": {
    "id": "WhCSooF8_Zcv"
   },
   "outputs": [
    {
     "data": {
      "text/plain": [
       "genre\n",
       "pop            5892\n",
       "dance          4435\n",
       "rock           3965\n",
       "electronica    3786\n",
       "hiphop         2095\n",
       "classical      1616\n",
       "world          1432\n",
       "alternative    1379\n",
       "ruspop         1372\n",
       "rusrap         1161\n",
       "Name: genre, dtype: int64"
      ]
     },
     "execution_count": 39,
     "metadata": {},
     "output_type": "execute_result"
    }
   ],
   "source": [
    "moscow_genres.head(10) # просмотр первых 10 строк moscow_genres"
   ]
  },
  {
   "cell_type": "markdown",
   "metadata": {
    "id": "cnPG2vnN_Zcv"
   },
   "source": [
    "Теперь повторите то же и для Петербурга.\n",
    "\n",
    "Сгруппируйте таблицу `spb_general` по жанру. Посчитайте прослушивания треков каждого жанра. Результат отсортируйте в порядке убывания и сохраните в таблице `spb_genres`:\n"
   ]
  },
  {
   "cell_type": "code",
   "execution_count": 40,
   "metadata": {
    "id": "gluLIpE7_Zcv"
   },
   "outputs": [],
   "source": [
    "spb_genres = spb_general.groupby('genre')['genre'].count().sort_values(ascending=False) # одной строкой: группировка таблицы spb_general по столбцу 'genre', \n",
    "# подсчёт числа значений 'genre' в этой группировке методом count(), \n",
    "# сортировка получившегося Series в порядке убывания и сохранение в spb_genres"
   ]
  },
  {
   "cell_type": "markdown",
   "metadata": {
    "id": "5Doha_ODgyQ8"
   },
   "source": [
    "Выведите на экран первые десять строк `spb_genres`:"
   ]
  },
  {
   "cell_type": "code",
   "execution_count": 41,
   "metadata": {
    "id": "uaGJHjVU_Zcv"
   },
   "outputs": [
    {
     "data": {
      "text/plain": [
       "genre\n",
       "pop            2431\n",
       "dance          1932\n",
       "rock           1879\n",
       "electronica    1737\n",
       "hiphop          960\n",
       "alternative     649\n",
       "classical       646\n",
       "rusrap          564\n",
       "ruspop          538\n",
       "world           515\n",
       "Name: genre, dtype: int64"
      ]
     },
     "execution_count": 41,
     "metadata": {},
     "output_type": "execute_result"
    }
   ],
   "source": [
    "spb_genres.head(10) # просмотр первых 10 строк spb_genres"
   ]
  },
  {
   "cell_type": "markdown",
   "metadata": {
    "id": "RY51YJYu_Zcv"
   },
   "source": [
    "**Выводы**"
   ]
  },
  {
   "cell_type": "markdown",
   "metadata": {
    "id": "nVhnJEm__Zcv"
   },
   "source": [
    "Гипотеза частично подтвердилась:\n",
    "* Поп-музыка — самый популярный жанр в Москве, как и предполагала гипотеза. Более того, в топ-10 жанров встречается близкий жанр — русская популярная музыка.\n",
    "* Вопреки ожиданиям, рэп одинаково популярен в Москве и Петербурге. \n"
   ]
  },
  {
   "cell_type": "markdown",
   "metadata": {
    "id": "ykKQ0N65_Zcv"
   },
   "source": [
    "## Итоги исследования"
   ]
  },
  {
   "cell_type": "markdown",
   "metadata": {
    "id": "tjUwbHb3_Zcv"
   },
   "source": [
    "Вы проверили три гипотезы и установили:\n",
    "\n",
    "1. День недели по-разному влияет на активность пользователей в Москве и Петербурге. \n",
    "\n",
    "Первая гипотеза полностью подтвердилась.\n",
    "\n",
    "2. Музыкальные предпочтения не сильно меняются в течение недели — будь то Москва или Петербург. Небольшие различия заметны в начале недели, по понедельникам:\n",
    "* в Москве слушают музыку жанра “world”,\n",
    "* в Петербурге — джаз и классику.\n",
    "\n",
    "Таким образом, вторая гипотеза подтвердилась лишь отчасти. Этот результат мог оказаться иным, если бы не пропуски в данных.\n",
    "\n",
    "3. Во вкусах пользователей Москвы и Петербурга больше общего чем различий. Вопреки ожиданиям, предпочтения жанров в Петербурге напоминают московские.\n",
    "\n",
    "Третья гипотеза не подтвердилась. Если различия в предпочтениях и существуют, на основной массе пользователей они незаметны.\n",
    "\n",
    "**На практике исследования содержат проверки статистических гипотез.**\n",
    "Из данных одного сервиса не всегда можно сделать вывод о всех жителях города.\n",
    "Проверки статистических гипотез покажут, насколько они достоверны, исходя из имеющихся данных. \n",
    "С методами проверок гипотез вы ещё познакомитесь в следующих темах."
   ]
  }
 ],
 "metadata": {
  "ExecuteTimeLog": [
   {
    "duration": 720,
    "start_time": "2022-02-20T10:29:57.970Z"
   },
   {
    "duration": 190,
    "start_time": "2022-02-20T10:31:01.121Z"
   },
   {
    "duration": 2300,
    "start_time": "2022-02-20T10:32:10.401Z"
   },
   {
    "duration": 286,
    "start_time": "2022-02-20T10:33:49.832Z"
   },
   {
    "duration": 26,
    "start_time": "2022-02-20T10:34:10.389Z"
   },
   {
    "duration": 16,
    "start_time": "2022-02-20T10:34:29.785Z"
   },
   {
    "duration": 6,
    "start_time": "2022-02-20T10:37:18.425Z"
   },
   {
    "duration": 26,
    "start_time": "2022-02-20T10:40:12.543Z"
   },
   {
    "duration": 8,
    "start_time": "2022-02-20T10:40:56.937Z"
   },
   {
    "duration": 353,
    "start_time": "2022-02-20T10:41:20.939Z"
   },
   {
    "duration": 23,
    "start_time": "2022-02-20T10:41:42.150Z"
   },
   {
    "duration": 16,
    "start_time": "2022-02-20T10:42:24.152Z"
   },
   {
    "duration": 7,
    "start_time": "2022-02-20T10:42:33.835Z"
   },
   {
    "duration": 106,
    "start_time": "2022-02-20T10:46:38.844Z"
   },
   {
    "duration": 17,
    "start_time": "2022-02-20T10:46:57.927Z"
   },
   {
    "duration": 5,
    "start_time": "2022-02-20T10:47:03.241Z"
   },
   {
    "duration": 6,
    "start_time": "2022-02-20T10:47:18.839Z"
   },
   {
    "duration": 17,
    "start_time": "2022-02-20T10:47:34.996Z"
   },
   {
    "duration": 6,
    "start_time": "2022-02-20T10:47:37.802Z"
   },
   {
    "duration": 33,
    "start_time": "2022-02-20T10:48:17.631Z"
   },
   {
    "duration": 404,
    "start_time": "2022-02-20T10:59:15.648Z"
   },
   {
    "duration": 581,
    "start_time": "2022-02-20T10:59:59.884Z"
   },
   {
    "duration": 17,
    "start_time": "2022-02-20T11:11:23.230Z"
   },
   {
    "duration": 32,
    "start_time": "2022-02-20T11:11:40.260Z"
   },
   {
    "duration": 297,
    "start_time": "2022-02-20T11:12:26.313Z"
   },
   {
    "duration": 21,
    "start_time": "2022-02-20T11:12:33.457Z"
   },
   {
    "duration": 31,
    "start_time": "2022-02-20T11:15:02.198Z"
   },
   {
    "duration": 8113,
    "start_time": "2022-02-20T11:15:56.621Z"
   },
   {
    "duration": -72953,
    "start_time": "2022-02-20T11:17:17.689Z"
   },
   {
    "duration": -72930,
    "start_time": "2022-02-20T11:17:26.382Z"
   },
   {
    "duration": 31,
    "start_time": "2022-02-20T11:16:13.479Z"
   },
   {
    "duration": 19,
    "start_time": "2022-02-20T11:16:30.672Z"
   },
   {
    "duration": 18,
    "start_time": "2022-02-20T11:16:41.519Z"
   },
   {
    "duration": 23,
    "start_time": "2022-02-20T12:24:56.596Z"
   },
   {
    "duration": 31,
    "start_time": "2022-02-20T12:25:00.777Z"
   },
   {
    "duration": 82,
    "start_time": "2022-02-20T12:28:04.372Z"
   },
   {
    "duration": 88,
    "start_time": "2022-02-20T12:28:56.380Z"
   },
   {
    "duration": 77,
    "start_time": "2022-02-20T12:29:06.532Z"
   },
   {
    "duration": 4,
    "start_time": "2022-02-20T12:33:51.556Z"
   },
   {
    "duration": 14,
    "start_time": "2022-02-20T12:36:55.309Z"
   },
   {
    "duration": 25,
    "start_time": "2022-02-20T12:37:30.829Z"
   },
   {
    "duration": 10,
    "start_time": "2022-02-20T12:38:37.159Z"
   },
   {
    "duration": 14,
    "start_time": "2022-02-20T12:39:48.936Z"
   },
   {
    "duration": 9,
    "start_time": "2022-02-20T12:40:15.910Z"
   },
   {
    "duration": 10,
    "start_time": "2022-02-20T12:45:08.298Z"
   },
   {
    "duration": 14,
    "start_time": "2022-02-20T12:45:25.780Z"
   },
   {
    "duration": 88,
    "start_time": "2022-02-20T12:47:49.901Z"
   },
   {
    "duration": 13,
    "start_time": "2022-02-20T12:47:49.993Z"
   },
   {
    "duration": 41,
    "start_time": "2022-02-20T12:47:50.009Z"
   },
   {
    "duration": 24,
    "start_time": "2022-02-20T12:47:50.053Z"
   },
   {
    "duration": 10,
    "start_time": "2022-02-20T12:47:50.080Z"
   },
   {
    "duration": 6,
    "start_time": "2022-02-20T12:47:50.093Z"
   },
   {
    "duration": 7,
    "start_time": "2022-02-20T12:47:50.101Z"
   },
   {
    "duration": 36,
    "start_time": "2022-02-20T12:47:50.113Z"
   },
   {
    "duration": 3,
    "start_time": "2022-02-20T12:47:50.154Z"
   },
   {
    "duration": 6,
    "start_time": "2022-02-20T12:47:50.160Z"
   },
   {
    "duration": 6,
    "start_time": "2022-02-20T12:47:50.168Z"
   },
   {
    "duration": 6,
    "start_time": "2022-02-20T12:47:50.176Z"
   },
   {
    "duration": 9,
    "start_time": "2022-02-20T12:47:50.184Z"
   },
   {
    "duration": 9,
    "start_time": "2022-02-20T12:47:50.196Z"
   },
   {
    "duration": 40,
    "start_time": "2022-02-20T12:47:50.208Z"
   },
   {
    "duration": 4,
    "start_time": "2022-02-20T12:47:50.251Z"
   },
   {
    "duration": 4,
    "start_time": "2022-02-20T12:47:50.258Z"
   },
   {
    "duration": 8,
    "start_time": "2022-02-20T12:47:50.266Z"
   },
   {
    "duration": 10,
    "start_time": "2022-02-20T12:47:50.277Z"
   },
   {
    "duration": 15,
    "start_time": "2022-02-20T12:47:50.290Z"
   },
   {
    "duration": 18,
    "start_time": "2022-02-20T12:47:50.307Z"
   },
   {
    "duration": 21,
    "start_time": "2022-02-20T12:47:50.327Z"
   },
   {
    "duration": 13,
    "start_time": "2022-02-20T12:47:50.354Z"
   },
   {
    "duration": 8,
    "start_time": "2022-02-20T12:47:50.369Z"
   },
   {
    "duration": 15,
    "start_time": "2022-02-20T12:47:50.379Z"
   },
   {
    "duration": 7,
    "start_time": "2022-02-20T12:47:50.396Z"
   },
   {
    "duration": 4,
    "start_time": "2022-02-20T12:48:01.760Z"
   },
   {
    "duration": 200,
    "start_time": "2022-02-20T12:48:01.767Z"
   },
   {
    "duration": 15,
    "start_time": "2022-02-20T12:48:01.970Z"
   },
   {
    "duration": 38,
    "start_time": "2022-02-20T12:48:01.989Z"
   },
   {
    "duration": 26,
    "start_time": "2022-02-20T12:48:02.030Z"
   },
   {
    "duration": 49,
    "start_time": "2022-02-20T12:48:02.059Z"
   },
   {
    "duration": 7,
    "start_time": "2022-02-20T12:48:02.112Z"
   },
   {
    "duration": 63,
    "start_time": "2022-02-20T12:48:02.121Z"
   },
   {
    "duration": 7959,
    "start_time": "2022-02-20T12:48:02.187Z"
   },
   {
    "duration": -35,
    "start_time": "2022-02-20T12:48:10.183Z"
   },
   {
    "duration": 382,
    "start_time": "2022-02-20T12:49:16.951Z"
   },
   {
    "duration": 326,
    "start_time": "2022-02-20T12:49:35.978Z"
   },
   {
    "duration": 428,
    "start_time": "2022-02-20T12:52:10.735Z"
   },
   {
    "duration": 320,
    "start_time": "2022-02-20T12:52:32.966Z"
   },
   {
    "duration": 5,
    "start_time": "2022-02-20T12:55:51.647Z"
   },
   {
    "duration": 409,
    "start_time": "2022-02-20T12:57:51.270Z"
   },
   {
    "duration": 3,
    "start_time": "2022-02-20T12:59:15.391Z"
   },
   {
    "duration": 4,
    "start_time": "2022-02-20T12:59:22.847Z"
   },
   {
    "duration": 3,
    "start_time": "2022-02-20T12:59:28.472Z"
   },
   {
    "duration": 377,
    "start_time": "2022-02-20T12:59:32.587Z"
   },
   {
    "duration": 314,
    "start_time": "2022-02-20T13:00:07.585Z"
   },
   {
    "duration": 4,
    "start_time": "2022-02-20T13:05:02.837Z"
   },
   {
    "duration": 709,
    "start_time": "2022-02-20T13:05:08.905Z"
   },
   {
    "duration": 804,
    "start_time": "2022-02-20T13:05:21.364Z"
   },
   {
    "duration": 188,
    "start_time": "2022-02-20T13:05:24.368Z"
   },
   {
    "duration": 29,
    "start_time": "2022-02-20T13:05:26.973Z"
   },
   {
    "duration": 13,
    "start_time": "2022-02-20T13:05:31.491Z"
   },
   {
    "duration": 7,
    "start_time": "2022-02-20T13:05:38.020Z"
   },
   {
    "duration": 24,
    "start_time": "2022-02-20T13:05:44.399Z"
   },
   {
    "duration": 6,
    "start_time": "2022-02-20T13:05:47.038Z"
   },
   {
    "duration": 33,
    "start_time": "2022-02-20T13:05:53.695Z"
   },
   {
    "duration": 7680,
    "start_time": "2022-02-20T13:06:18.514Z"
   },
   {
    "duration": 3,
    "start_time": "2022-02-20T13:06:46.235Z"
   },
   {
    "duration": 31,
    "start_time": "2022-02-20T13:07:00.942Z"
   },
   {
    "duration": 10249,
    "start_time": "2022-02-20T13:09:59.422Z"
   },
   {
    "duration": 4,
    "start_time": "2022-02-20T13:10:27.776Z"
   },
   {
    "duration": 6,
    "start_time": "2022-02-20T13:10:51.506Z"
   },
   {
    "duration": 27,
    "start_time": "2022-02-20T13:10:56.778Z"
   },
   {
    "duration": 6,
    "start_time": "2022-02-20T13:11:02.276Z"
   },
   {
    "duration": 30,
    "start_time": "2022-02-20T13:11:08.972Z"
   },
   {
    "duration": 7161,
    "start_time": "2022-02-20T13:12:37.298Z"
   },
   {
    "duration": 31,
    "start_time": "2022-02-20T13:13:05.302Z"
   },
   {
    "duration": 8082,
    "start_time": "2022-02-20T13:13:25.182Z"
   },
   {
    "duration": -1,
    "start_time": "2022-02-20T13:13:33.269Z"
   },
   {
    "duration": 7287,
    "start_time": "2022-02-20T13:13:39.493Z"
   },
   {
    "duration": -4,
    "start_time": "2022-02-20T13:13:46.787Z"
   },
   {
    "duration": 4,
    "start_time": "2022-02-20T13:14:00.689Z"
   },
   {
    "duration": 210,
    "start_time": "2022-02-20T13:14:03.558Z"
   },
   {
    "duration": 17,
    "start_time": "2022-02-20T13:14:05.321Z"
   },
   {
    "duration": 12,
    "start_time": "2022-02-20T13:14:09.397Z"
   },
   {
    "duration": 5,
    "start_time": "2022-02-20T13:14:13.991Z"
   },
   {
    "duration": 20,
    "start_time": "2022-02-20T13:14:18.309Z"
   },
   {
    "duration": 33,
    "start_time": "2022-02-20T13:14:22.051Z"
   },
   {
    "duration": 9931,
    "start_time": "2022-02-20T13:14:24.951Z"
   },
   {
    "duration": -8,
    "start_time": "2022-02-20T13:14:34.895Z"
   },
   {
    "duration": 9846,
    "start_time": "2022-02-20T13:15:34.709Z"
   },
   {
    "duration": 4,
    "start_time": "2022-02-20T13:15:52.777Z"
   },
   {
    "duration": 7629,
    "start_time": "2022-02-20T13:15:58.147Z"
   },
   {
    "duration": 3,
    "start_time": "2022-02-20T13:16:16.461Z"
   },
   {
    "duration": 3,
    "start_time": "2022-02-20T13:16:19.396Z"
   },
   {
    "duration": 3,
    "start_time": "2022-02-20T13:16:23.095Z"
   },
   {
    "duration": 799,
    "start_time": "2022-02-20T13:16:54.141Z"
   },
   {
    "duration": 197,
    "start_time": "2022-02-20T13:16:54.942Z"
   },
   {
    "duration": 33,
    "start_time": "2022-02-20T13:16:55.142Z"
   },
   {
    "duration": 13,
    "start_time": "2022-02-20T13:16:55.179Z"
   },
   {
    "duration": 15,
    "start_time": "2022-02-20T13:16:55.195Z"
   },
   {
    "duration": 61,
    "start_time": "2022-02-20T13:16:55.213Z"
   },
   {
    "duration": 12,
    "start_time": "2022-02-20T13:16:55.277Z"
   },
   {
    "duration": 59,
    "start_time": "2022-02-20T13:16:55.295Z"
   },
   {
    "duration": 10106,
    "start_time": "2022-02-20T13:16:55.358Z"
   },
   {
    "duration": 25,
    "start_time": "2022-02-20T13:17:05.444Z"
   },
   {
    "duration": 21,
    "start_time": "2022-02-20T13:17:05.450Z"
   },
   {
    "duration": 17,
    "start_time": "2022-02-20T13:17:05.456Z"
   },
   {
    "duration": 15,
    "start_time": "2022-02-20T13:17:05.460Z"
   },
   {
    "duration": 11,
    "start_time": "2022-02-20T13:17:05.466Z"
   },
   {
    "duration": 8,
    "start_time": "2022-02-20T13:17:05.472Z"
   },
   {
    "duration": -23,
    "start_time": "2022-02-20T13:17:05.505Z"
   },
   {
    "duration": -27,
    "start_time": "2022-02-20T13:17:05.511Z"
   },
   {
    "duration": -30,
    "start_time": "2022-02-20T13:17:05.516Z"
   },
   {
    "duration": -33,
    "start_time": "2022-02-20T13:17:05.521Z"
   },
   {
    "duration": -36,
    "start_time": "2022-02-20T13:17:05.526Z"
   },
   {
    "duration": -46,
    "start_time": "2022-02-20T13:17:05.538Z"
   },
   {
    "duration": -49,
    "start_time": "2022-02-20T13:17:05.543Z"
   },
   {
    "duration": -53,
    "start_time": "2022-02-20T13:17:05.549Z"
   },
   {
    "duration": -56,
    "start_time": "2022-02-20T13:17:05.554Z"
   },
   {
    "duration": -59,
    "start_time": "2022-02-20T13:17:05.559Z"
   },
   {
    "duration": -61,
    "start_time": "2022-02-20T13:17:05.563Z"
   },
   {
    "duration": -66,
    "start_time": "2022-02-20T13:17:05.569Z"
   },
   {
    "duration": -27,
    "start_time": "2022-02-20T13:17:05.575Z"
   },
   {
    "duration": -29,
    "start_time": "2022-02-20T13:17:05.579Z"
   },
   {
    "duration": -33,
    "start_time": "2022-02-20T13:17:05.584Z"
   },
   {
    "duration": -36,
    "start_time": "2022-02-20T13:17:05.589Z"
   },
   {
    "duration": -41,
    "start_time": "2022-02-20T13:17:05.595Z"
   },
   {
    "duration": -45,
    "start_time": "2022-02-20T13:17:05.600Z"
   },
   {
    "duration": -48,
    "start_time": "2022-02-20T13:17:05.605Z"
   },
   {
    "duration": -52,
    "start_time": "2022-02-20T13:17:05.610Z"
   },
   {
    "duration": -55,
    "start_time": "2022-02-20T13:17:05.615Z"
   },
   {
    "duration": 11407,
    "start_time": "2022-02-20T13:17:31.722Z"
   },
   {
    "duration": 3,
    "start_time": "2022-02-20T13:18:42.586Z"
   },
   {
    "duration": 3,
    "start_time": "2022-02-20T13:18:45.956Z"
   },
   {
    "duration": 4,
    "start_time": "2022-02-20T13:18:50.366Z"
   },
   {
    "duration": 3,
    "start_time": "2022-02-20T13:18:51.594Z"
   },
   {
    "duration": 3,
    "start_time": "2022-02-20T13:18:52.686Z"
   },
   {
    "duration": 4,
    "start_time": "2022-02-20T13:18:55.029Z"
   },
   {
    "duration": 3,
    "start_time": "2022-02-20T13:19:00.412Z"
   },
   {
    "duration": 4,
    "start_time": "2022-02-20T13:19:03.465Z"
   },
   {
    "duration": 4,
    "start_time": "2022-02-20T13:19:04.878Z"
   },
   {
    "duration": 4,
    "start_time": "2022-02-20T13:19:08.713Z"
   },
   {
    "duration": 4,
    "start_time": "2022-02-20T13:19:16.533Z"
   },
   {
    "duration": 4,
    "start_time": "2022-02-20T13:19:19.287Z"
   },
   {
    "duration": 4,
    "start_time": "2022-02-20T13:19:21.477Z"
   },
   {
    "duration": 3,
    "start_time": "2022-02-20T13:19:22.420Z"
   },
   {
    "duration": 943,
    "start_time": "2022-02-20T13:20:08.078Z"
   },
   {
    "duration": 171,
    "start_time": "2022-02-20T13:20:45.271Z"
   },
   {
    "duration": 25,
    "start_time": "2022-02-20T13:20:58.806Z"
   },
   {
    "duration": 17,
    "start_time": "2022-02-20T13:21:05.682Z"
   },
   {
    "duration": 11,
    "start_time": "2022-02-20T13:21:18.848Z"
   },
   {
    "duration": 465,
    "start_time": "2022-02-20T13:21:42.674Z"
   },
   {
    "duration": 6,
    "start_time": "2022-02-20T13:21:48.006Z"
   },
   {
    "duration": 28,
    "start_time": "2022-02-20T13:25:36.440Z"
   },
   {
    "duration": 7,
    "start_time": "2022-02-20T13:25:47.447Z"
   },
   {
    "duration": 29,
    "start_time": "2022-02-20T13:26:10.740Z"
   },
   {
    "duration": 24,
    "start_time": "2022-02-20T13:26:11.693Z"
   },
   {
    "duration": 17,
    "start_time": "2022-02-20T13:26:44.759Z"
   },
   {
    "duration": 3,
    "start_time": "2022-02-20T13:26:51.442Z"
   },
   {
    "duration": 17,
    "start_time": "2022-02-20T13:27:02.977Z"
   },
   {
    "duration": 293,
    "start_time": "2022-02-20T13:27:11.318Z"
   },
   {
    "duration": 5,
    "start_time": "2022-02-20T13:27:23.538Z"
   },
   {
    "duration": 32,
    "start_time": "2022-02-20T13:27:58.663Z"
   },
   {
    "duration": 19,
    "start_time": "2022-02-20T13:29:29.238Z"
   },
   {
    "duration": 34,
    "start_time": "2022-02-20T13:29:49.660Z"
   },
   {
    "duration": 24,
    "start_time": "2022-02-20T13:30:57.706Z"
   },
   {
    "duration": 35,
    "start_time": "2022-02-20T13:31:02.375Z"
   },
   {
    "duration": 91,
    "start_time": "2022-02-20T13:31:43.186Z"
   },
   {
    "duration": 91,
    "start_time": "2022-02-20T13:32:28.469Z"
   },
   {
    "duration": 98,
    "start_time": "2022-02-20T13:33:00.151Z"
   },
   {
    "duration": 75,
    "start_time": "2022-02-20T13:33:15.379Z"
   },
   {
    "duration": 9,
    "start_time": "2022-02-20T13:34:32.730Z"
   },
   {
    "duration": 5,
    "start_time": "2022-02-20T13:36:56.756Z"
   },
   {
    "duration": 14,
    "start_time": "2022-02-20T13:38:33.931Z"
   },
   {
    "duration": 12,
    "start_time": "2022-02-20T13:38:48.524Z"
   },
   {
    "duration": 382,
    "start_time": "2022-02-20T13:40:49.765Z"
   },
   {
    "duration": 4,
    "start_time": "2022-02-20T13:41:18.864Z"
   },
   {
    "duration": 47,
    "start_time": "2022-02-20T13:41:28.250Z"
   },
   {
    "duration": 432,
    "start_time": "2022-02-20T13:42:49.583Z"
   },
   {
    "duration": 17,
    "start_time": "2022-02-20T13:43:01.133Z"
   },
   {
    "duration": 14,
    "start_time": "2022-02-20T13:44:37.230Z"
   },
   {
    "duration": 5,
    "start_time": "2022-02-20T13:51:26.564Z"
   },
   {
    "duration": 7998,
    "start_time": "2022-02-20T13:52:49.988Z"
   },
   {
    "duration": 3,
    "start_time": "2022-02-20T13:53:21.006Z"
   },
   {
    "duration": 8283,
    "start_time": "2022-02-20T13:53:51.709Z"
   },
   {
    "duration": 3,
    "start_time": "2022-02-20T13:55:04.149Z"
   },
   {
    "duration": 8246,
    "start_time": "2022-02-20T13:55:57.797Z"
   },
   {
    "duration": 3,
    "start_time": "2022-02-20T13:56:19.782Z"
   },
   {
    "duration": 3,
    "start_time": "2022-02-20T13:56:27.502Z"
   },
   {
    "duration": 260,
    "start_time": "2022-02-20T13:56:27.512Z"
   },
   {
    "duration": 18,
    "start_time": "2022-02-20T13:56:27.774Z"
   },
   {
    "duration": 12,
    "start_time": "2022-02-20T13:56:27.796Z"
   },
   {
    "duration": 38,
    "start_time": "2022-02-20T13:56:27.812Z"
   },
   {
    "duration": 28,
    "start_time": "2022-02-20T13:56:27.853Z"
   },
   {
    "duration": 6,
    "start_time": "2022-02-20T13:56:27.883Z"
   },
   {
    "duration": 59,
    "start_time": "2022-02-20T13:56:27.891Z"
   },
   {
    "duration": 22,
    "start_time": "2022-02-20T13:56:27.952Z"
   },
   {
    "duration": 32,
    "start_time": "2022-02-20T13:56:27.978Z"
   },
   {
    "duration": 109,
    "start_time": "2022-02-20T13:56:28.013Z"
   },
   {
    "duration": 103,
    "start_time": "2022-02-20T13:56:28.124Z"
   },
   {
    "duration": 86,
    "start_time": "2022-02-20T13:56:28.230Z"
   },
   {
    "duration": 9,
    "start_time": "2022-02-20T13:56:28.319Z"
   },
   {
    "duration": 4,
    "start_time": "2022-02-20T13:56:28.349Z"
   },
   {
    "duration": 18,
    "start_time": "2022-02-20T13:56:28.356Z"
   },
   {
    "duration": 10,
    "start_time": "2022-02-20T13:56:28.376Z"
   },
   {
    "duration": 17,
    "start_time": "2022-02-20T13:56:28.388Z"
   },
   {
    "duration": 51,
    "start_time": "2022-02-20T13:56:28.408Z"
   },
   {
    "duration": 12,
    "start_time": "2022-02-20T13:56:28.461Z"
   },
   {
    "duration": 14,
    "start_time": "2022-02-20T13:56:28.475Z"
   },
   {
    "duration": 8,
    "start_time": "2022-02-20T13:56:28.492Z"
   },
   {
    "duration": 10,
    "start_time": "2022-02-20T13:56:28.503Z"
   },
   {
    "duration": 10,
    "start_time": "2022-02-20T13:56:28.516Z"
   },
   {
    "duration": 12,
    "start_time": "2022-02-20T13:56:28.529Z"
   },
   {
    "duration": 8,
    "start_time": "2022-02-20T13:56:28.543Z"
   },
   {
    "duration": 9,
    "start_time": "2022-02-20T13:56:28.553Z"
   },
   {
    "duration": 8,
    "start_time": "2022-02-20T13:56:28.567Z"
   },
   {
    "duration": 6,
    "start_time": "2022-02-20T13:56:28.578Z"
   },
   {
    "duration": 13,
    "start_time": "2022-02-20T13:56:28.586Z"
   },
   {
    "duration": 9,
    "start_time": "2022-02-20T13:56:28.602Z"
   },
   {
    "duration": 6,
    "start_time": "2022-02-20T13:56:28.613Z"
   },
   {
    "duration": 7,
    "start_time": "2022-02-20T13:56:28.622Z"
   },
   {
    "duration": 11,
    "start_time": "2022-02-20T13:56:28.650Z"
   },
   {
    "duration": 5,
    "start_time": "2022-02-20T13:56:28.664Z"
   },
   {
    "duration": 6,
    "start_time": "2022-02-20T13:56:28.672Z"
   },
   {
    "duration": 14,
    "start_time": "2022-02-20T13:56:28.681Z"
   },
   {
    "duration": 7,
    "start_time": "2022-02-20T13:56:28.698Z"
   },
   {
    "duration": 908,
    "start_time": "2022-02-20T13:56:43.269Z"
   },
   {
    "duration": 178,
    "start_time": "2022-02-20T13:56:44.180Z"
   },
   {
    "duration": 27,
    "start_time": "2022-02-20T13:56:44.361Z"
   },
   {
    "duration": 14,
    "start_time": "2022-02-20T13:56:44.392Z"
   },
   {
    "duration": 8,
    "start_time": "2022-02-20T13:56:44.409Z"
   },
   {
    "duration": 25,
    "start_time": "2022-02-20T13:56:44.449Z"
   },
   {
    "duration": 11,
    "start_time": "2022-02-20T13:56:44.477Z"
   },
   {
    "duration": 33,
    "start_time": "2022-02-20T13:56:44.493Z"
   },
   {
    "duration": 25,
    "start_time": "2022-02-20T13:56:44.550Z"
   },
   {
    "duration": 30,
    "start_time": "2022-02-20T13:56:44.578Z"
   },
   {
    "duration": 118,
    "start_time": "2022-02-20T13:56:44.611Z"
   },
   {
    "duration": 107,
    "start_time": "2022-02-20T13:56:44.731Z"
   },
   {
    "duration": 79,
    "start_time": "2022-02-20T13:56:44.841Z"
   },
   {
    "duration": 26,
    "start_time": "2022-02-20T13:56:44.922Z"
   },
   {
    "duration": 4,
    "start_time": "2022-02-20T13:56:44.951Z"
   },
   {
    "duration": 17,
    "start_time": "2022-02-20T13:56:44.957Z"
   },
   {
    "duration": 11,
    "start_time": "2022-02-20T13:56:44.977Z"
   },
   {
    "duration": 27,
    "start_time": "2022-02-20T13:56:44.990Z"
   },
   {
    "duration": 38,
    "start_time": "2022-02-20T13:56:45.020Z"
   },
   {
    "duration": 4,
    "start_time": "2022-02-20T13:56:45.061Z"
   },
   {
    "duration": 15,
    "start_time": "2022-02-20T13:56:45.068Z"
   },
   {
    "duration": 10,
    "start_time": "2022-02-20T13:56:45.085Z"
   },
   {
    "duration": 7,
    "start_time": "2022-02-20T13:56:45.100Z"
   },
   {
    "duration": 11,
    "start_time": "2022-02-20T13:56:45.110Z"
   },
   {
    "duration": 24,
    "start_time": "2022-02-20T13:56:45.124Z"
   },
   {
    "duration": 8,
    "start_time": "2022-02-20T13:56:45.151Z"
   },
   {
    "duration": 5,
    "start_time": "2022-02-20T13:56:45.162Z"
   },
   {
    "duration": 7,
    "start_time": "2022-02-20T13:56:45.169Z"
   },
   {
    "duration": 10,
    "start_time": "2022-02-20T13:56:45.178Z"
   },
   {
    "duration": 9,
    "start_time": "2022-02-20T13:56:45.191Z"
   },
   {
    "duration": 9,
    "start_time": "2022-02-20T13:56:45.203Z"
   },
   {
    "duration": 9,
    "start_time": "2022-02-20T13:56:45.215Z"
   },
   {
    "duration": 30,
    "start_time": "2022-02-20T13:56:45.226Z"
   },
   {
    "duration": 10,
    "start_time": "2022-02-20T13:56:45.258Z"
   },
   {
    "duration": 14,
    "start_time": "2022-02-20T13:56:45.271Z"
   },
   {
    "duration": 11,
    "start_time": "2022-02-20T13:56:45.287Z"
   },
   {
    "duration": 12,
    "start_time": "2022-02-20T13:56:45.301Z"
   },
   {
    "duration": 6,
    "start_time": "2022-02-20T13:56:45.315Z"
   },
   {
    "duration": 10737,
    "start_time": "2022-02-20T13:57:48.001Z"
   },
   {
    "duration": 3,
    "start_time": "2022-02-20T13:58:08.747Z"
   },
   {
    "duration": 972,
    "start_time": "2022-02-20T13:58:25.816Z"
   },
   {
    "duration": 286,
    "start_time": "2022-02-20T13:58:26.792Z"
   },
   {
    "duration": 40,
    "start_time": "2022-02-20T13:58:27.082Z"
   },
   {
    "duration": 33,
    "start_time": "2022-02-20T13:58:27.126Z"
   },
   {
    "duration": 20,
    "start_time": "2022-02-20T13:58:27.162Z"
   },
   {
    "duration": 42,
    "start_time": "2022-02-20T13:58:27.185Z"
   },
   {
    "duration": 23,
    "start_time": "2022-02-20T13:58:27.231Z"
   },
   {
    "duration": 44,
    "start_time": "2022-02-20T13:58:27.260Z"
   },
   {
    "duration": 54,
    "start_time": "2022-02-20T13:58:27.309Z"
   },
   {
    "duration": 37,
    "start_time": "2022-02-20T13:58:27.366Z"
   },
   {
    "duration": 123,
    "start_time": "2022-02-20T13:58:27.407Z"
   },
   {
    "duration": 162,
    "start_time": "2022-02-20T13:58:27.533Z"
   },
   {
    "duration": 137,
    "start_time": "2022-02-20T13:58:27.698Z"
   },
   {
    "duration": 19,
    "start_time": "2022-02-20T13:58:27.838Z"
   },
   {
    "duration": 9,
    "start_time": "2022-02-20T13:58:27.860Z"
   },
   {
    "duration": 21,
    "start_time": "2022-02-20T13:58:27.872Z"
   },
   {
    "duration": 19,
    "start_time": "2022-02-20T13:58:27.896Z"
   },
   {
    "duration": 44,
    "start_time": "2022-02-20T13:58:27.918Z"
   },
   {
    "duration": 28,
    "start_time": "2022-02-20T13:58:27.965Z"
   },
   {
    "duration": 5,
    "start_time": "2022-02-20T13:58:27.996Z"
   },
   {
    "duration": 12,
    "start_time": "2022-02-20T13:58:28.004Z"
   },
   {
    "duration": 41,
    "start_time": "2022-02-20T13:58:28.019Z"
   },
   {
    "duration": 17,
    "start_time": "2022-02-20T13:58:28.065Z"
   },
   {
    "duration": 17,
    "start_time": "2022-02-20T13:58:28.086Z"
   },
   {
    "duration": 11,
    "start_time": "2022-02-20T13:58:28.106Z"
   },
   {
    "duration": 34,
    "start_time": "2022-02-20T13:58:28.121Z"
   },
   {
    "duration": 13,
    "start_time": "2022-02-20T13:58:28.158Z"
   },
   {
    "duration": 12,
    "start_time": "2022-02-20T13:58:28.174Z"
   },
   {
    "duration": 8,
    "start_time": "2022-02-20T13:58:28.189Z"
   },
   {
    "duration": 25,
    "start_time": "2022-02-20T13:58:28.201Z"
   },
   {
    "duration": 27,
    "start_time": "2022-02-20T13:58:28.229Z"
   },
   {
    "duration": 11,
    "start_time": "2022-02-20T13:58:28.261Z"
   },
   {
    "duration": 29,
    "start_time": "2022-02-20T13:58:28.276Z"
   },
   {
    "duration": 16,
    "start_time": "2022-02-20T13:58:28.308Z"
   },
   {
    "duration": 11,
    "start_time": "2022-02-20T13:58:28.328Z"
   },
   {
    "duration": 13,
    "start_time": "2022-02-20T13:58:28.342Z"
   },
   {
    "duration": 12,
    "start_time": "2022-02-20T13:58:28.357Z"
   },
   {
    "duration": 8,
    "start_time": "2022-02-20T13:58:28.371Z"
   },
   {
    "duration": 7763,
    "start_time": "2022-02-20T14:01:24.134Z"
   },
   {
    "duration": 8933,
    "start_time": "2022-02-20T14:01:40.728Z"
   },
   {
    "duration": 9788,
    "start_time": "2022-02-20T14:01:55.208Z"
   },
   {
    "duration": 9680,
    "start_time": "2022-02-20T14:02:09.439Z"
   },
   {
    "duration": 8376,
    "start_time": "2022-02-20T14:02:25.383Z"
   },
   {
    "duration": 7864,
    "start_time": "2022-02-20T14:02:37.737Z"
   },
   {
    "duration": 884,
    "start_time": "2022-02-20T14:03:01.040Z"
   },
   {
    "duration": 276,
    "start_time": "2022-02-20T14:03:01.926Z"
   },
   {
    "duration": 44,
    "start_time": "2022-02-20T14:03:02.206Z"
   },
   {
    "duration": 16,
    "start_time": "2022-02-20T14:03:02.254Z"
   },
   {
    "duration": 18,
    "start_time": "2022-02-20T14:03:02.273Z"
   },
   {
    "duration": 57,
    "start_time": "2022-02-20T14:03:02.293Z"
   },
   {
    "duration": 8,
    "start_time": "2022-02-20T14:03:02.354Z"
   },
   {
    "duration": 43,
    "start_time": "2022-02-20T14:03:02.367Z"
   },
   {
    "duration": 43,
    "start_time": "2022-02-20T14:03:02.413Z"
   },
   {
    "duration": 37,
    "start_time": "2022-02-20T14:03:02.459Z"
   },
   {
    "duration": 115,
    "start_time": "2022-02-20T14:03:02.500Z"
   },
   {
    "duration": 113,
    "start_time": "2022-02-20T14:03:02.617Z"
   },
   {
    "duration": 95,
    "start_time": "2022-02-20T14:03:02.733Z"
   },
   {
    "duration": 22,
    "start_time": "2022-02-20T14:03:02.831Z"
   },
   {
    "duration": 4,
    "start_time": "2022-02-20T14:03:02.856Z"
   },
   {
    "duration": 17,
    "start_time": "2022-02-20T14:03:02.863Z"
   },
   {
    "duration": 13,
    "start_time": "2022-02-20T14:03:02.883Z"
   },
   {
    "duration": 55,
    "start_time": "2022-02-20T14:03:02.900Z"
   },
   {
    "duration": 15,
    "start_time": "2022-02-20T14:03:02.958Z"
   },
   {
    "duration": 6,
    "start_time": "2022-02-20T14:03:02.975Z"
   },
   {
    "duration": 7975,
    "start_time": "2022-02-20T14:03:02.984Z"
   },
   {
    "duration": 65,
    "start_time": "2022-02-20T14:03:10.897Z"
   },
   {
    "duration": 62,
    "start_time": "2022-02-20T14:03:10.902Z"
   },
   {
    "duration": 59,
    "start_time": "2022-02-20T14:03:10.906Z"
   },
   {
    "duration": 57,
    "start_time": "2022-02-20T14:03:10.910Z"
   },
   {
    "duration": 55,
    "start_time": "2022-02-20T14:03:10.913Z"
   },
   {
    "duration": 51,
    "start_time": "2022-02-20T14:03:10.919Z"
   },
   {
    "duration": 48,
    "start_time": "2022-02-20T14:03:10.923Z"
   },
   {
    "duration": 47,
    "start_time": "2022-02-20T14:03:10.926Z"
   },
   {
    "duration": 44,
    "start_time": "2022-02-20T14:03:10.930Z"
   },
   {
    "duration": 42,
    "start_time": "2022-02-20T14:03:10.934Z"
   },
   {
    "duration": 40,
    "start_time": "2022-02-20T14:03:10.938Z"
   },
   {
    "duration": 36,
    "start_time": "2022-02-20T14:03:10.943Z"
   },
   {
    "duration": 34,
    "start_time": "2022-02-20T14:03:10.947Z"
   },
   {
    "duration": 32,
    "start_time": "2022-02-20T14:03:10.952Z"
   },
   {
    "duration": 31,
    "start_time": "2022-02-20T14:03:10.956Z"
   },
   {
    "duration": 19,
    "start_time": "2022-02-20T14:03:10.971Z"
   },
   {
    "duration": 17,
    "start_time": "2022-02-20T14:03:10.975Z"
   },
   {
    "duration": 5,
    "start_time": "2022-02-20T14:04:18.315Z"
   },
   {
    "duration": 7999,
    "start_time": "2022-02-20T14:05:20.603Z"
   },
   {
    "duration": 9586,
    "start_time": "2022-02-20T14:06:08.623Z"
   },
   {
    "duration": 3,
    "start_time": "2022-02-20T14:07:12.521Z"
   },
   {
    "duration": 4,
    "start_time": "2022-02-20T14:10:32.142Z"
   },
   {
    "duration": 199,
    "start_time": "2022-02-20T14:10:32.150Z"
   },
   {
    "duration": 16,
    "start_time": "2022-02-20T14:10:32.352Z"
   },
   {
    "duration": 15,
    "start_time": "2022-02-20T14:10:32.371Z"
   },
   {
    "duration": 8,
    "start_time": "2022-02-20T14:10:32.389Z"
   },
   {
    "duration": 56,
    "start_time": "2022-02-20T14:10:32.400Z"
   },
   {
    "duration": 6,
    "start_time": "2022-02-20T14:10:32.460Z"
   },
   {
    "duration": 41,
    "start_time": "2022-02-20T14:10:32.469Z"
   },
   {
    "duration": 51,
    "start_time": "2022-02-20T14:10:32.513Z"
   },
   {
    "duration": 32,
    "start_time": "2022-02-20T14:10:32.566Z"
   },
   {
    "duration": 143,
    "start_time": "2022-02-20T14:10:32.601Z"
   },
   {
    "duration": 125,
    "start_time": "2022-02-20T14:10:32.750Z"
   },
   {
    "duration": 87,
    "start_time": "2022-02-20T14:10:32.878Z"
   },
   {
    "duration": 9,
    "start_time": "2022-02-20T14:10:32.968Z"
   },
   {
    "duration": 4,
    "start_time": "2022-02-20T14:10:32.980Z"
   },
   {
    "duration": 18,
    "start_time": "2022-02-20T14:10:32.986Z"
   },
   {
    "duration": 43,
    "start_time": "2022-02-20T14:10:33.007Z"
   },
   {
    "duration": 26,
    "start_time": "2022-02-20T14:10:33.053Z"
   },
   {
    "duration": 15,
    "start_time": "2022-02-20T14:10:33.083Z"
   },
   {
    "duration": 764,
    "start_time": "2022-02-20T14:10:57.363Z"
   },
   {
    "duration": 187,
    "start_time": "2022-02-20T14:10:58.129Z"
   },
   {
    "duration": 31,
    "start_time": "2022-02-20T14:10:58.319Z"
   },
   {
    "duration": 47,
    "start_time": "2022-02-20T14:10:58.353Z"
   },
   {
    "duration": 23,
    "start_time": "2022-02-20T14:10:58.403Z"
   },
   {
    "duration": 34,
    "start_time": "2022-02-20T14:10:58.429Z"
   },
   {
    "duration": 14,
    "start_time": "2022-02-20T14:10:58.466Z"
   },
   {
    "duration": 50,
    "start_time": "2022-02-20T14:10:58.483Z"
   },
   {
    "duration": 36,
    "start_time": "2022-02-20T14:10:58.535Z"
   },
   {
    "duration": 36,
    "start_time": "2022-02-20T14:10:58.574Z"
   },
   {
    "duration": 113,
    "start_time": "2022-02-20T14:10:58.613Z"
   },
   {
    "duration": 109,
    "start_time": "2022-02-20T14:10:58.729Z"
   },
   {
    "duration": 81,
    "start_time": "2022-02-20T14:10:58.841Z"
   },
   {
    "duration": 26,
    "start_time": "2022-02-20T14:10:58.924Z"
   },
   {
    "duration": 6,
    "start_time": "2022-02-20T14:10:58.952Z"
   },
   {
    "duration": 41,
    "start_time": "2022-02-20T14:10:58.960Z"
   },
   {
    "duration": 18,
    "start_time": "2022-02-20T14:10:59.003Z"
   },
   {
    "duration": 21,
    "start_time": "2022-02-20T14:10:59.024Z"
   },
   {
    "duration": 14,
    "start_time": "2022-02-20T14:10:59.047Z"
   },
   {
    "duration": 677,
    "start_time": "2022-02-20T14:11:35.455Z"
   },
   {
    "duration": 4,
    "start_time": "2022-02-20T14:11:57.591Z"
   },
   {
    "duration": 8225,
    "start_time": "2022-02-20T14:12:02.475Z"
   },
   {
    "duration": 5,
    "start_time": "2022-02-20T14:12:49.925Z"
   },
   {
    "duration": 7859,
    "start_time": "2022-02-20T14:56:35.472Z"
   },
   {
    "duration": 5,
    "start_time": "2022-02-20T15:22:57.539Z"
   },
   {
    "duration": 21,
    "start_time": "2022-02-20T15:23:01.518Z"
   },
   {
    "duration": 18,
    "start_time": "2022-02-20T15:26:21.773Z"
   },
   {
    "duration": 444,
    "start_time": "2022-02-20T15:28:16.412Z"
   },
   {
    "duration": 27,
    "start_time": "2022-02-20T15:28:28.657Z"
   },
   {
    "duration": 27,
    "start_time": "2022-02-20T15:28:38.813Z"
   },
   {
    "duration": 25,
    "start_time": "2022-02-20T15:29:08.055Z"
   },
   {
    "duration": 19,
    "start_time": "2022-02-20T15:29:13.298Z"
   },
   {
    "duration": 297,
    "start_time": "2022-02-20T15:34:22.978Z"
   },
   {
    "duration": 7,
    "start_time": "2022-02-20T15:34:38.212Z"
   },
   {
    "duration": 12,
    "start_time": "2022-02-20T15:35:46.253Z"
   },
   {
    "duration": 9,
    "start_time": "2022-02-20T15:36:08.196Z"
   },
   {
    "duration": 12,
    "start_time": "2022-02-20T15:36:24.742Z"
   },
   {
    "duration": 25,
    "start_time": "2022-02-20T15:45:23.594Z"
   },
   {
    "duration": 283,
    "start_time": "2022-02-20T15:46:01.535Z"
   },
   {
    "duration": 15,
    "start_time": "2022-02-20T15:47:14.705Z"
   },
   {
    "duration": 28,
    "start_time": "2022-02-20T15:48:38.588Z"
   },
   {
    "duration": 15,
    "start_time": "2022-02-20T15:49:06.371Z"
   },
   {
    "duration": 29,
    "start_time": "2022-02-20T15:50:57.720Z"
   },
   {
    "duration": 16,
    "start_time": "2022-02-20T15:53:39.855Z"
   },
   {
    "duration": 13,
    "start_time": "2022-02-20T15:54:04.966Z"
   },
   {
    "duration": 13,
    "start_time": "2022-02-20T15:54:18.584Z"
   },
   {
    "duration": 13,
    "start_time": "2022-02-20T15:54:36.341Z"
   },
   {
    "duration": 17,
    "start_time": "2022-02-20T15:54:46.485Z"
   },
   {
    "duration": 799,
    "start_time": "2022-02-20T15:55:16.407Z"
   },
   {
    "duration": 187,
    "start_time": "2022-02-20T15:55:20.478Z"
   },
   {
    "duration": 27,
    "start_time": "2022-02-20T15:55:23.621Z"
   },
   {
    "duration": 13,
    "start_time": "2022-02-20T15:55:27.136Z"
   },
   {
    "duration": 6,
    "start_time": "2022-02-20T15:55:32.279Z"
   },
   {
    "duration": 27,
    "start_time": "2022-02-20T15:55:36.510Z"
   },
   {
    "duration": 7,
    "start_time": "2022-02-20T15:55:40.777Z"
   },
   {
    "duration": 40,
    "start_time": "2022-02-20T15:55:42.976Z"
   },
   {
    "duration": 31,
    "start_time": "2022-02-20T15:55:46.140Z"
   },
   {
    "duration": 31,
    "start_time": "2022-02-20T15:55:48.263Z"
   },
   {
    "duration": 97,
    "start_time": "2022-02-20T15:55:52.678Z"
   },
   {
    "duration": 111,
    "start_time": "2022-02-20T15:55:55.982Z"
   },
   {
    "duration": 101,
    "start_time": "2022-02-20T15:56:00.384Z"
   },
   {
    "duration": 9,
    "start_time": "2022-02-20T15:56:04.467Z"
   },
   {
    "duration": 5,
    "start_time": "2022-02-20T15:56:12.283Z"
   },
   {
    "duration": 20,
    "start_time": "2022-02-20T15:56:37.743Z"
   },
   {
    "duration": 12,
    "start_time": "2022-02-20T15:56:42.115Z"
   },
   {
    "duration": 19,
    "start_time": "2022-02-20T15:56:50.302Z"
   },
   {
    "duration": 15,
    "start_time": "2022-02-20T15:57:02.921Z"
   },
   {
    "duration": 6,
    "start_time": "2022-02-20T15:57:10.088Z"
   },
   {
    "duration": 22,
    "start_time": "2022-02-20T15:57:17.704Z"
   },
   {
    "duration": 19,
    "start_time": "2022-02-20T15:57:19.768Z"
   },
   {
    "duration": 19,
    "start_time": "2022-02-20T15:57:21.127Z"
   },
   {
    "duration": 19,
    "start_time": "2022-02-20T15:57:22.780Z"
   },
   {
    "duration": 21,
    "start_time": "2022-02-20T15:57:24.900Z"
   },
   {
    "duration": 21,
    "start_time": "2022-02-20T15:57:26.399Z"
   },
   {
    "duration": 13,
    "start_time": "2022-02-20T15:57:30.681Z"
   },
   {
    "duration": 35,
    "start_time": "2022-02-20T15:57:39.150Z"
   },
   {
    "duration": 24,
    "start_time": "2022-02-20T15:57:45.369Z"
   },
   {
    "duration": 6,
    "start_time": "2022-02-20T17:05:25.563Z"
   },
   {
    "duration": 9398,
    "start_time": "2022-02-20T17:06:44.744Z"
   },
   {
    "duration": 4,
    "start_time": "2022-02-20T17:09:04.889Z"
   },
   {
    "duration": 6,
    "start_time": "2022-02-20T17:09:46.771Z"
   },
   {
    "duration": 8579,
    "start_time": "2022-02-20T17:10:02.648Z"
   },
   {
    "duration": 6,
    "start_time": "2022-02-20T17:14:55.915Z"
   },
   {
    "duration": 8610,
    "start_time": "2022-02-20T17:15:04.053Z"
   },
   {
    "duration": 6,
    "start_time": "2022-02-20T17:15:38.365Z"
   },
   {
    "duration": 618,
    "start_time": "2022-02-20T17:15:42.877Z"
   },
   {
    "duration": 5,
    "start_time": "2022-02-20T17:16:19.563Z"
   },
   {
    "duration": 30,
    "start_time": "2022-02-20T17:16:22.609Z"
   },
   {
    "duration": 281,
    "start_time": "2022-02-20T17:18:11.480Z"
   },
   {
    "duration": 33,
    "start_time": "2022-02-20T17:18:22.909Z"
   },
   {
    "duration": 13,
    "start_time": "2022-02-20T17:19:26.780Z"
   },
   {
    "duration": 730,
    "start_time": "2022-02-20T17:19:44.489Z"
   },
   {
    "duration": 175,
    "start_time": "2022-02-20T17:19:45.222Z"
   },
   {
    "duration": 27,
    "start_time": "2022-02-20T17:19:45.400Z"
   },
   {
    "duration": 27,
    "start_time": "2022-02-20T17:19:45.429Z"
   },
   {
    "duration": 9,
    "start_time": "2022-02-20T17:19:45.459Z"
   },
   {
    "duration": 30,
    "start_time": "2022-02-20T17:19:45.470Z"
   },
   {
    "duration": 10,
    "start_time": "2022-02-20T17:19:45.502Z"
   },
   {
    "duration": 31,
    "start_time": "2022-02-20T17:19:45.548Z"
   },
   {
    "duration": 31,
    "start_time": "2022-02-20T17:19:45.582Z"
   },
   {
    "duration": 41,
    "start_time": "2022-02-20T17:19:45.616Z"
   },
   {
    "duration": 98,
    "start_time": "2022-02-20T17:19:45.660Z"
   },
   {
    "duration": 111,
    "start_time": "2022-02-20T17:19:45.761Z"
   },
   {
    "duration": 82,
    "start_time": "2022-02-20T17:19:45.875Z"
   },
   {
    "duration": 9,
    "start_time": "2022-02-20T17:19:45.960Z"
   },
   {
    "duration": 4,
    "start_time": "2022-02-20T17:19:45.972Z"
   },
   {
    "duration": 15,
    "start_time": "2022-02-20T17:19:45.978Z"
   },
   {
    "duration": 9,
    "start_time": "2022-02-20T17:19:45.995Z"
   },
   {
    "duration": 52,
    "start_time": "2022-02-20T17:19:46.007Z"
   },
   {
    "duration": 14,
    "start_time": "2022-02-20T17:19:46.062Z"
   },
   {
    "duration": 6,
    "start_time": "2022-02-20T17:19:46.078Z"
   },
   {
    "duration": 40,
    "start_time": "2022-02-20T17:19:46.087Z"
   },
   {
    "duration": 25,
    "start_time": "2022-02-20T17:19:46.150Z"
   },
   {
    "duration": 29,
    "start_time": "2022-02-20T17:19:46.180Z"
   },
   {
    "duration": 53,
    "start_time": "2022-02-20T17:19:46.213Z"
   },
   {
    "duration": 21,
    "start_time": "2022-02-20T17:19:46.268Z"
   },
   {
    "duration": 18,
    "start_time": "2022-02-20T17:19:46.291Z"
   },
   {
    "duration": 460,
    "start_time": "2022-02-20T17:19:46.311Z"
   },
   {
    "duration": 228,
    "start_time": "2022-02-20T17:19:46.546Z"
   },
   {
    "duration": 225,
    "start_time": "2022-02-20T17:19:46.551Z"
   },
   {
    "duration": 222,
    "start_time": "2022-02-20T17:19:46.555Z"
   },
   {
    "duration": 220,
    "start_time": "2022-02-20T17:19:46.559Z"
   },
   {
    "duration": 218,
    "start_time": "2022-02-20T17:19:46.563Z"
   },
   {
    "duration": 208,
    "start_time": "2022-02-20T17:19:46.575Z"
   },
   {
    "duration": 205,
    "start_time": "2022-02-20T17:19:46.580Z"
   },
   {
    "duration": 204,
    "start_time": "2022-02-20T17:19:46.584Z"
   },
   {
    "duration": 201,
    "start_time": "2022-02-20T17:19:46.588Z"
   },
   {
    "duration": 199,
    "start_time": "2022-02-20T17:19:46.592Z"
   },
   {
    "duration": 197,
    "start_time": "2022-02-20T17:19:46.595Z"
   },
   {
    "duration": 14,
    "start_time": "2022-02-20T17:20:18.431Z"
   },
   {
    "duration": 27,
    "start_time": "2022-02-20T17:20:24.413Z"
   },
   {
    "duration": 25,
    "start_time": "2022-02-20T17:20:26.946Z"
   },
   {
    "duration": 6,
    "start_time": "2022-02-20T17:20:30.639Z"
   },
   {
    "duration": 32,
    "start_time": "2022-02-20T17:20:36.057Z"
   },
   {
    "duration": 32,
    "start_time": "2022-02-20T17:20:42.145Z"
   },
   {
    "duration": 36,
    "start_time": "2022-02-20T17:21:18.705Z"
   },
   {
    "duration": 29,
    "start_time": "2022-02-20T17:21:28.367Z"
   },
   {
    "duration": 37,
    "start_time": "2022-02-20T17:22:22.202Z"
   },
   {
    "duration": 32,
    "start_time": "2022-02-20T17:22:53.406Z"
   },
   {
    "duration": 5,
    "start_time": "2022-02-20T17:24:50.589Z"
   },
   {
    "duration": 81,
    "start_time": "2022-02-20T17:24:55.316Z"
   },
   {
    "duration": 94,
    "start_time": "2022-02-20T17:25:19.392Z"
   },
   {
    "duration": 78,
    "start_time": "2022-02-20T17:25:38.383Z"
   },
   {
    "duration": 87,
    "start_time": "2022-02-20T17:26:13.215Z"
   },
   {
    "duration": 41,
    "start_time": "2022-02-20T17:29:35.146Z"
   },
   {
    "duration": 15,
    "start_time": "2022-02-20T17:31:44.908Z"
   },
   {
    "duration": 11,
    "start_time": "2022-02-20T17:32:55.423Z"
   },
   {
    "duration": 11,
    "start_time": "2022-02-20T17:33:50.435Z"
   },
   {
    "duration": 7,
    "start_time": "2022-02-20T17:34:10.752Z"
   },
   {
    "duration": 12,
    "start_time": "2022-02-20T17:36:30.734Z"
   },
   {
    "duration": 9,
    "start_time": "2022-02-20T17:36:53.207Z"
   },
   {
    "duration": 7,
    "start_time": "2022-02-20T17:37:10.616Z"
   },
   {
    "duration": 711,
    "start_time": "2022-02-20T17:37:55.398Z"
   },
   {
    "duration": 194,
    "start_time": "2022-02-20T17:37:56.112Z"
   },
   {
    "duration": 41,
    "start_time": "2022-02-20T17:37:56.309Z"
   },
   {
    "duration": 14,
    "start_time": "2022-02-20T17:37:56.353Z"
   },
   {
    "duration": 10,
    "start_time": "2022-02-20T17:37:56.369Z"
   },
   {
    "duration": 27,
    "start_time": "2022-02-20T17:37:56.382Z"
   },
   {
    "duration": 39,
    "start_time": "2022-02-20T17:37:56.412Z"
   },
   {
    "duration": 41,
    "start_time": "2022-02-20T17:37:56.455Z"
   },
   {
    "duration": 30,
    "start_time": "2022-02-20T17:37:56.500Z"
   },
   {
    "duration": 44,
    "start_time": "2022-02-20T17:37:56.533Z"
   },
   {
    "duration": 104,
    "start_time": "2022-02-20T17:37:56.579Z"
   },
   {
    "duration": 103,
    "start_time": "2022-02-20T17:37:56.685Z"
   },
   {
    "duration": 92,
    "start_time": "2022-02-20T17:37:56.791Z"
   },
   {
    "duration": 10,
    "start_time": "2022-02-20T17:37:56.885Z"
   },
   {
    "duration": 5,
    "start_time": "2022-02-20T17:37:56.898Z"
   },
   {
    "duration": 19,
    "start_time": "2022-02-20T17:37:56.905Z"
   },
   {
    "duration": 10,
    "start_time": "2022-02-20T17:37:56.949Z"
   },
   {
    "duration": 14,
    "start_time": "2022-02-20T17:37:56.962Z"
   },
   {
    "duration": 14,
    "start_time": "2022-02-20T17:37:56.979Z"
   },
   {
    "duration": 5,
    "start_time": "2022-02-20T17:37:56.995Z"
   },
   {
    "duration": 65,
    "start_time": "2022-02-20T17:37:57.002Z"
   },
   {
    "duration": 20,
    "start_time": "2022-02-20T17:37:57.070Z"
   },
   {
    "duration": 20,
    "start_time": "2022-02-20T17:37:57.095Z"
   },
   {
    "duration": 19,
    "start_time": "2022-02-20T17:37:57.150Z"
   },
   {
    "duration": 23,
    "start_time": "2022-02-20T17:37:57.172Z"
   },
   {
    "duration": 53,
    "start_time": "2022-02-20T17:37:57.197Z"
   },
   {
    "duration": 14,
    "start_time": "2022-02-20T17:37:57.254Z"
   },
   {
    "duration": 33,
    "start_time": "2022-02-20T17:37:57.272Z"
   },
   {
    "duration": 53,
    "start_time": "2022-02-20T17:37:57.307Z"
   },
   {
    "duration": 7,
    "start_time": "2022-02-20T17:37:57.363Z"
   },
   {
    "duration": 112,
    "start_time": "2022-02-20T17:37:57.373Z"
   },
   {
    "duration": 115,
    "start_time": "2022-02-20T17:37:57.488Z"
   },
   {
    "duration": 92,
    "start_time": "2022-02-20T17:37:57.606Z"
   },
   {
    "duration": 104,
    "start_time": "2022-02-20T17:37:57.701Z"
   },
   {
    "duration": 10,
    "start_time": "2022-02-20T17:37:57.808Z"
   },
   {
    "duration": 27,
    "start_time": "2022-02-20T17:37:57.821Z"
   },
   {
    "duration": 8,
    "start_time": "2022-02-20T17:37:57.851Z"
   },
   {
    "duration": 6,
    "start_time": "2022-02-20T17:37:57.862Z"
   },
   {
    "duration": 327,
    "start_time": "2022-02-25T07:37:44.281Z"
   },
   {
    "duration": 655,
    "start_time": "2022-02-25T07:37:54.853Z"
   },
   {
    "duration": 150,
    "start_time": "2022-02-25T07:37:59.053Z"
   },
   {
    "duration": 20,
    "start_time": "2022-02-25T07:38:01.698Z"
   },
   {
    "duration": 2,
    "start_time": "2022-02-25T07:38:17.650Z"
   },
   {
    "duration": 188,
    "start_time": "2022-02-25T07:38:17.654Z"
   },
   {
    "duration": 11,
    "start_time": "2022-02-25T07:38:17.844Z"
   },
   {
    "duration": 25,
    "start_time": "2022-02-25T07:38:17.869Z"
   },
   {
    "duration": 26,
    "start_time": "2022-02-25T07:38:17.896Z"
   },
   {
    "duration": 32,
    "start_time": "2022-02-25T07:38:17.924Z"
   },
   {
    "duration": 8,
    "start_time": "2022-02-25T07:38:17.959Z"
   },
   {
    "duration": 27,
    "start_time": "2022-02-25T07:38:17.970Z"
   },
   {
    "duration": 32,
    "start_time": "2022-02-25T07:38:18.000Z"
   },
   {
    "duration": 24,
    "start_time": "2022-02-25T07:38:18.034Z"
   },
   {
    "duration": 85,
    "start_time": "2022-02-25T07:38:18.060Z"
   },
   {
    "duration": 68,
    "start_time": "2022-02-25T07:38:18.146Z"
   },
   {
    "duration": 58,
    "start_time": "2022-02-25T07:38:18.216Z"
   },
   {
    "duration": 7,
    "start_time": "2022-02-25T07:38:18.276Z"
   },
   {
    "duration": 18,
    "start_time": "2022-02-25T07:38:18.285Z"
   },
   {
    "duration": 39,
    "start_time": "2022-02-25T07:38:18.305Z"
   },
   {
    "duration": 18,
    "start_time": "2022-02-25T07:38:18.346Z"
   },
   {
    "duration": 21,
    "start_time": "2022-02-25T07:38:18.365Z"
   },
   {
    "duration": 19,
    "start_time": "2022-02-25T07:38:18.389Z"
   },
   {
    "duration": 10,
    "start_time": "2022-02-25T07:38:18.410Z"
   },
   {
    "duration": 44,
    "start_time": "2022-02-25T07:38:18.422Z"
   },
   {
    "duration": 16,
    "start_time": "2022-02-25T07:38:18.468Z"
   },
   {
    "duration": 16,
    "start_time": "2022-02-25T07:38:18.485Z"
   },
   {
    "duration": 17,
    "start_time": "2022-02-25T07:38:18.503Z"
   },
   {
    "duration": 17,
    "start_time": "2022-02-25T07:38:18.522Z"
   },
   {
    "duration": 37,
    "start_time": "2022-02-25T07:38:18.541Z"
   },
   {
    "duration": 11,
    "start_time": "2022-02-25T07:38:18.580Z"
   },
   {
    "duration": 21,
    "start_time": "2022-02-25T07:38:18.594Z"
   },
   {
    "duration": 18,
    "start_time": "2022-02-25T07:38:18.617Z"
   },
   {
    "duration": 5,
    "start_time": "2022-02-25T07:38:18.670Z"
   },
   {
    "duration": 60,
    "start_time": "2022-02-25T07:38:18.677Z"
   },
   {
    "duration": 80,
    "start_time": "2022-02-25T07:38:18.739Z"
   },
   {
    "duration": 67,
    "start_time": "2022-02-25T07:38:18.820Z"
   },
   {
    "duration": 67,
    "start_time": "2022-02-25T07:38:18.889Z"
   },
   {
    "duration": 9,
    "start_time": "2022-02-25T07:38:18.970Z"
   },
   {
    "duration": 8,
    "start_time": "2022-02-25T07:38:18.981Z"
   },
   {
    "duration": 15,
    "start_time": "2022-02-25T07:38:18.991Z"
   },
   {
    "duration": 5,
    "start_time": "2022-02-25T07:38:19.009Z"
   },
   {
    "duration": 79,
    "start_time": "2022-03-02T12:55:52.430Z"
   },
   {
    "duration": 76,
    "start_time": "2022-03-02T12:56:20.069Z"
   },
   {
    "duration": 73,
    "start_time": "2022-03-02T12:56:37.036Z"
   },
   {
    "duration": 253,
    "start_time": "2022-03-02T13:01:07.523Z"
   },
   {
    "duration": 571,
    "start_time": "2022-03-02T13:01:24.222Z"
   },
   {
    "duration": 142,
    "start_time": "2022-03-02T13:01:24.795Z"
   },
   {
    "duration": 26,
    "start_time": "2022-03-02T13:01:24.939Z"
   },
   {
    "duration": 8,
    "start_time": "2022-03-02T13:01:24.967Z"
   },
   {
    "duration": 8,
    "start_time": "2022-03-02T13:01:24.977Z"
   },
   {
    "duration": 29,
    "start_time": "2022-03-02T13:01:24.987Z"
   },
   {
    "duration": 8,
    "start_time": "2022-03-02T13:01:25.019Z"
   },
   {
    "duration": 63,
    "start_time": "2022-03-02T13:01:25.030Z"
   },
   {
    "duration": 19,
    "start_time": "2022-03-02T13:01:25.096Z"
   },
   {
    "duration": 22,
    "start_time": "2022-03-02T13:01:25.117Z"
   },
   {
    "duration": 61,
    "start_time": "2022-03-02T13:01:25.163Z"
   },
   {
    "duration": 88,
    "start_time": "2022-03-02T13:01:25.225Z"
   },
   {
    "duration": 59,
    "start_time": "2022-03-02T13:01:25.315Z"
   },
   {
    "duration": 7,
    "start_time": "2022-03-02T13:01:25.375Z"
   },
   {
    "duration": 10,
    "start_time": "2022-03-02T13:01:25.383Z"
   },
   {
    "duration": 13,
    "start_time": "2022-03-02T13:01:25.394Z"
   },
   {
    "duration": 10,
    "start_time": "2022-03-02T13:01:25.409Z"
   },
   {
    "duration": 51,
    "start_time": "2022-03-02T13:05:57.382Z"
   },
   {
    "duration": 97,
    "start_time": "2022-03-02T13:15:19.502Z"
   },
   {
    "duration": 77,
    "start_time": "2022-03-02T13:15:27.606Z"
   },
   {
    "duration": 73,
    "start_time": "2022-03-02T13:15:34.463Z"
   },
   {
    "duration": 89,
    "start_time": "2022-03-02T13:15:59.952Z"
   },
   {
    "duration": 72,
    "start_time": "2022-03-02T13:18:52.223Z"
   },
   {
    "duration": 7,
    "start_time": "2022-03-02T13:19:12.384Z"
   },
   {
    "duration": 5,
    "start_time": "2022-03-02T13:24:40.842Z"
   },
   {
    "duration": 5,
    "start_time": "2022-03-02T13:24:58.128Z"
   },
   {
    "duration": 5,
    "start_time": "2022-03-02T13:24:59.969Z"
   },
   {
    "duration": 6,
    "start_time": "2022-03-02T13:25:05.856Z"
   },
   {
    "duration": 6,
    "start_time": "2022-03-02T13:25:13.416Z"
   },
   {
    "duration": 240,
    "start_time": "2022-03-02T13:25:36.773Z"
   },
   {
    "duration": 6,
    "start_time": "2022-03-02T13:25:42.996Z"
   },
   {
    "duration": 7,
    "start_time": "2022-03-02T13:31:42.931Z"
   },
   {
    "duration": 6,
    "start_time": "2022-03-02T13:32:47.882Z"
   },
   {
    "duration": 200,
    "start_time": "2022-03-02T13:33:08.596Z"
   },
   {
    "duration": 552,
    "start_time": "2022-03-02T13:33:31.706Z"
   },
   {
    "duration": 133,
    "start_time": "2022-03-02T13:33:32.260Z"
   },
   {
    "duration": 17,
    "start_time": "2022-03-02T13:33:32.395Z"
   },
   {
    "duration": 14,
    "start_time": "2022-03-02T13:33:32.414Z"
   },
   {
    "duration": 9,
    "start_time": "2022-03-02T13:33:32.430Z"
   },
   {
    "duration": 32,
    "start_time": "2022-03-02T13:33:32.441Z"
   },
   {
    "duration": 13,
    "start_time": "2022-03-02T13:33:32.475Z"
   },
   {
    "duration": 42,
    "start_time": "2022-03-02T13:33:32.491Z"
   },
   {
    "duration": 22,
    "start_time": "2022-03-02T13:33:32.535Z"
   },
   {
    "duration": 27,
    "start_time": "2022-03-02T13:33:32.559Z"
   },
   {
    "duration": 64,
    "start_time": "2022-03-02T13:33:32.588Z"
   },
   {
    "duration": 77,
    "start_time": "2022-03-02T13:33:32.654Z"
   },
   {
    "duration": 65,
    "start_time": "2022-03-02T13:33:32.732Z"
   },
   {
    "duration": 7,
    "start_time": "2022-03-02T13:33:32.798Z"
   },
   {
    "duration": 3,
    "start_time": "2022-03-02T13:33:32.806Z"
   },
   {
    "duration": 17,
    "start_time": "2022-03-02T13:33:32.811Z"
   },
   {
    "duration": 8,
    "start_time": "2022-03-02T13:33:32.829Z"
   },
   {
    "duration": 30,
    "start_time": "2022-03-02T13:33:32.838Z"
   },
   {
    "duration": 11,
    "start_time": "2022-03-02T13:33:32.869Z"
   },
   {
    "duration": 6,
    "start_time": "2022-03-02T13:33:32.881Z"
   },
   {
    "duration": 22,
    "start_time": "2022-03-02T13:33:32.889Z"
   },
   {
    "duration": 14,
    "start_time": "2022-03-02T13:33:32.912Z"
   },
   {
    "duration": 38,
    "start_time": "2022-03-02T13:33:32.929Z"
   },
   {
    "duration": 25,
    "start_time": "2022-03-02T13:33:32.969Z"
   },
   {
    "duration": 20,
    "start_time": "2022-03-02T13:33:32.996Z"
   },
   {
    "duration": 13,
    "start_time": "2022-03-02T13:33:33.018Z"
   },
   {
    "duration": 8,
    "start_time": "2022-03-02T13:33:33.032Z"
   },
   {
    "duration": 36,
    "start_time": "2022-03-02T13:33:33.042Z"
   },
   {
    "duration": 19,
    "start_time": "2022-03-02T13:33:33.080Z"
   },
   {
    "duration": 3,
    "start_time": "2022-03-02T13:33:33.101Z"
   },
   {
    "duration": 59,
    "start_time": "2022-03-02T13:33:33.105Z"
   },
   {
    "duration": 61,
    "start_time": "2022-03-02T13:33:33.165Z"
   },
   {
    "duration": 66,
    "start_time": "2022-03-02T13:33:33.227Z"
   },
   {
    "duration": 73,
    "start_time": "2022-03-02T13:33:33.295Z"
   },
   {
    "duration": 8,
    "start_time": "2022-03-02T13:33:33.370Z"
   },
   {
    "duration": 5,
    "start_time": "2022-03-02T13:33:33.379Z"
   },
   {
    "duration": 18,
    "start_time": "2022-03-02T13:33:33.385Z"
   },
   {
    "duration": 17,
    "start_time": "2022-03-02T13:33:33.405Z"
   },
   {
    "duration": 70,
    "start_time": "2022-03-02T13:34:43.310Z"
   },
   {
    "duration": 41,
    "start_time": "2022-03-02T13:38:44.091Z"
   },
   {
    "duration": 71,
    "start_time": "2022-03-02T13:40:06.270Z"
   },
   {
    "duration": 69,
    "start_time": "2022-03-02T13:43:26.109Z"
   },
   {
    "duration": 53,
    "start_time": "2022-03-02T13:50:59.680Z"
   },
   {
    "duration": 8,
    "start_time": "2022-03-02T13:51:04.616Z"
   },
   {
    "duration": 310,
    "start_time": "2022-03-02T16:34:39.674Z"
   },
   {
    "duration": 291,
    "start_time": "2022-03-02T16:34:59.250Z"
   },
   {
    "duration": 215,
    "start_time": "2022-03-02T16:39:54.001Z"
   },
   {
    "duration": 742,
    "start_time": "2022-03-02T16:40:21.848Z"
   },
   {
    "duration": 175,
    "start_time": "2022-03-02T16:40:22.593Z"
   },
   {
    "duration": 25,
    "start_time": "2022-03-02T16:40:22.772Z"
   },
   {
    "duration": 31,
    "start_time": "2022-03-02T16:40:22.800Z"
   },
   {
    "duration": 24,
    "start_time": "2022-03-02T16:40:22.833Z"
   },
   {
    "duration": 36,
    "start_time": "2022-03-02T16:40:22.859Z"
   },
   {
    "duration": 13,
    "start_time": "2022-03-02T16:40:22.898Z"
   },
   {
    "duration": 35,
    "start_time": "2022-03-02T16:40:22.913Z"
   },
   {
    "duration": 37,
    "start_time": "2022-03-02T16:40:22.952Z"
   },
   {
    "duration": 33,
    "start_time": "2022-03-02T16:40:22.992Z"
   },
   {
    "duration": 100,
    "start_time": "2022-03-02T16:40:23.028Z"
   },
   {
    "duration": 101,
    "start_time": "2022-03-02T16:40:23.130Z"
   },
   {
    "duration": 80,
    "start_time": "2022-03-02T16:40:23.233Z"
   },
   {
    "duration": 7,
    "start_time": "2022-03-02T16:40:23.315Z"
   },
   {
    "duration": 13,
    "start_time": "2022-03-02T16:40:23.324Z"
   },
   {
    "duration": 49,
    "start_time": "2022-03-02T16:40:23.340Z"
   },
   {
    "duration": 18,
    "start_time": "2022-03-02T16:40:23.392Z"
   },
   {
    "duration": 81,
    "start_time": "2022-03-02T16:40:23.413Z"
   },
   {
    "duration": 1775,
    "start_time": "2022-03-02T16:40:21.722Z"
   },
   {
    "duration": 1774,
    "start_time": "2022-03-02T16:40:21.724Z"
   },
   {
    "duration": 1741,
    "start_time": "2022-03-02T16:40:21.759Z"
   },
   {
    "duration": 1738,
    "start_time": "2022-03-02T16:40:21.763Z"
   },
   {
    "duration": 1737,
    "start_time": "2022-03-02T16:40:21.766Z"
   },
   {
    "duration": 1734,
    "start_time": "2022-03-02T16:40:21.770Z"
   },
   {
    "duration": 1733,
    "start_time": "2022-03-02T16:40:21.773Z"
   },
   {
    "duration": 1731,
    "start_time": "2022-03-02T16:40:21.777Z"
   },
   {
    "duration": 1729,
    "start_time": "2022-03-02T16:40:21.780Z"
   },
   {
    "duration": 1729,
    "start_time": "2022-03-02T16:40:21.782Z"
   },
   {
    "duration": 1729,
    "start_time": "2022-03-02T16:40:21.784Z"
   },
   {
    "duration": 1728,
    "start_time": "2022-03-02T16:40:21.786Z"
   },
   {
    "duration": 1723,
    "start_time": "2022-03-02T16:40:21.792Z"
   },
   {
    "duration": 1721,
    "start_time": "2022-03-02T16:40:21.795Z"
   },
   {
    "duration": 1721,
    "start_time": "2022-03-02T16:40:21.797Z"
   },
   {
    "duration": 1719,
    "start_time": "2022-03-02T16:40:21.800Z"
   },
   {
    "duration": 1718,
    "start_time": "2022-03-02T16:40:21.802Z"
   },
   {
    "duration": 1718,
    "start_time": "2022-03-02T16:40:21.804Z"
   },
   {
    "duration": 1716,
    "start_time": "2022-03-02T16:40:21.807Z"
   },
   {
    "duration": 1711,
    "start_time": "2022-03-02T16:40:21.813Z"
   },
   {
    "duration": 1708,
    "start_time": "2022-03-02T16:40:21.817Z"
   },
   {
    "duration": 1708,
    "start_time": "2022-03-02T16:40:21.819Z"
   },
   {
    "duration": 7,
    "start_time": "2022-03-02T16:44:33.974Z"
   },
   {
    "duration": 5,
    "start_time": "2022-03-02T16:45:19.413Z"
   },
   {
    "duration": 4,
    "start_time": "2022-03-02T16:45:38.369Z"
   },
   {
    "duration": 371,
    "start_time": "2022-03-02T16:45:54.357Z"
   },
   {
    "duration": 4,
    "start_time": "2022-03-02T16:46:10.765Z"
   },
   {
    "duration": 5,
    "start_time": "2022-03-02T16:46:22.922Z"
   },
   {
    "duration": 243,
    "start_time": "2022-03-02T16:51:08.261Z"
   },
   {
    "duration": 5,
    "start_time": "2022-03-02T16:54:43.501Z"
   },
   {
    "duration": 651,
    "start_time": "2022-03-02T16:58:11.523Z"
   },
   {
    "duration": 166,
    "start_time": "2022-03-02T16:58:12.176Z"
   },
   {
    "duration": 24,
    "start_time": "2022-03-02T16:58:12.345Z"
   },
   {
    "duration": 26,
    "start_time": "2022-03-02T16:58:12.371Z"
   },
   {
    "duration": 8,
    "start_time": "2022-03-02T16:58:12.399Z"
   },
   {
    "duration": 24,
    "start_time": "2022-03-02T16:58:12.409Z"
   },
   {
    "duration": 5,
    "start_time": "2022-03-02T16:58:12.435Z"
   },
   {
    "duration": 65,
    "start_time": "2022-03-02T16:58:12.444Z"
   },
   {
    "duration": 20,
    "start_time": "2022-03-02T16:58:12.512Z"
   },
   {
    "duration": 27,
    "start_time": "2022-03-02T16:58:12.534Z"
   },
   {
    "duration": 76,
    "start_time": "2022-03-02T16:58:12.586Z"
   },
   {
    "duration": 98,
    "start_time": "2022-03-02T16:58:12.664Z"
   },
   {
    "duration": 78,
    "start_time": "2022-03-02T16:58:12.764Z"
   },
   {
    "duration": 10,
    "start_time": "2022-03-02T16:58:12.845Z"
   },
   {
    "duration": 5,
    "start_time": "2022-03-02T16:58:12.858Z"
   },
   {
    "duration": 28,
    "start_time": "2022-03-02T16:58:12.865Z"
   },
   {
    "duration": 10,
    "start_time": "2022-03-02T16:58:12.895Z"
   },
   {
    "duration": 6,
    "start_time": "2022-03-02T16:58:12.907Z"
   },
   {
    "duration": 14,
    "start_time": "2022-03-02T16:58:12.916Z"
   },
   {
    "duration": 13,
    "start_time": "2022-03-02T16:58:12.932Z"
   },
   {
    "duration": 5,
    "start_time": "2022-03-02T16:58:12.987Z"
   },
   {
    "duration": 24,
    "start_time": "2022-03-02T16:58:12.995Z"
   },
   {
    "duration": 17,
    "start_time": "2022-03-02T16:58:13.023Z"
   },
   {
    "duration": 46,
    "start_time": "2022-03-02T16:58:13.043Z"
   },
   {
    "duration": 18,
    "start_time": "2022-03-02T16:58:13.091Z"
   },
   {
    "duration": 27,
    "start_time": "2022-03-02T16:58:13.111Z"
   },
   {
    "duration": 46,
    "start_time": "2022-03-02T16:58:13.141Z"
   },
   {
    "duration": 98,
    "start_time": "2022-03-02T16:58:13.190Z"
   },
   {
    "duration": 86,
    "start_time": "2022-03-02T16:58:13.291Z"
   },
   {
    "duration": 1748,
    "start_time": "2022-03-02T16:58:11.632Z"
   },
   {
    "duration": 1742,
    "start_time": "2022-03-02T16:58:11.640Z"
   },
   {
    "duration": 1742,
    "start_time": "2022-03-02T16:58:11.643Z"
   },
   {
    "duration": 1742,
    "start_time": "2022-03-02T16:58:11.645Z"
   },
   {
    "duration": 1742,
    "start_time": "2022-03-02T16:58:11.648Z"
   },
   {
    "duration": 1742,
    "start_time": "2022-03-02T16:58:11.650Z"
   },
   {
    "duration": 1742,
    "start_time": "2022-03-02T16:58:11.652Z"
   },
   {
    "duration": 1738,
    "start_time": "2022-03-02T16:58:11.658Z"
   },
   {
    "duration": 1738,
    "start_time": "2022-03-02T16:58:11.660Z"
   },
   {
    "duration": 1738,
    "start_time": "2022-03-02T16:58:11.662Z"
   },
   {
    "duration": 1738,
    "start_time": "2022-03-02T16:58:11.664Z"
   },
   {
    "duration": 11,
    "start_time": "2022-03-02T17:09:12.118Z"
   },
   {
    "duration": 6,
    "start_time": "2022-03-02T17:10:32.493Z"
   },
   {
    "duration": 10,
    "start_time": "2022-03-02T17:10:55.339Z"
   },
   {
    "duration": 5,
    "start_time": "2022-03-02T17:10:58.400Z"
   },
   {
    "duration": 746,
    "start_time": "2022-03-02T17:12:58.292Z"
   },
   {
    "duration": 196,
    "start_time": "2022-03-02T17:12:59.041Z"
   },
   {
    "duration": 28,
    "start_time": "2022-03-02T17:12:59.241Z"
   },
   {
    "duration": 27,
    "start_time": "2022-03-02T17:12:59.272Z"
   },
   {
    "duration": 9,
    "start_time": "2022-03-02T17:12:59.302Z"
   },
   {
    "duration": 32,
    "start_time": "2022-03-02T17:12:59.313Z"
   },
   {
    "duration": 41,
    "start_time": "2022-03-02T17:12:59.348Z"
   },
   {
    "duration": 42,
    "start_time": "2022-03-02T17:12:59.394Z"
   },
   {
    "duration": 46,
    "start_time": "2022-03-02T17:12:59.441Z"
   },
   {
    "duration": 30,
    "start_time": "2022-03-02T17:12:59.489Z"
   },
   {
    "duration": 101,
    "start_time": "2022-03-02T17:12:59.521Z"
   },
   {
    "duration": 108,
    "start_time": "2022-03-02T17:12:59.624Z"
   },
   {
    "duration": 88,
    "start_time": "2022-03-02T17:12:59.734Z"
   },
   {
    "duration": 9,
    "start_time": "2022-03-02T17:12:59.824Z"
   },
   {
    "duration": 3,
    "start_time": "2022-03-02T17:12:59.836Z"
   },
   {
    "duration": 16,
    "start_time": "2022-03-02T17:12:59.842Z"
   },
   {
    "duration": 15,
    "start_time": "2022-03-02T17:12:59.888Z"
   },
   {
    "duration": 6,
    "start_time": "2022-03-02T17:12:59.906Z"
   },
   {
    "duration": 20,
    "start_time": "2022-03-02T17:12:59.916Z"
   },
   {
    "duration": 20,
    "start_time": "2022-03-02T17:12:59.939Z"
   },
   {
    "duration": 6,
    "start_time": "2022-03-02T17:12:59.989Z"
   },
   {
    "duration": 41,
    "start_time": "2022-03-02T17:12:59.998Z"
   },
   {
    "duration": 44,
    "start_time": "2022-03-02T17:13:00.047Z"
   },
   {
    "duration": 30,
    "start_time": "2022-03-02T17:13:00.095Z"
   },
   {
    "duration": 24,
    "start_time": "2022-03-02T17:13:00.128Z"
   },
   {
    "duration": 47,
    "start_time": "2022-03-02T17:13:00.154Z"
   },
   {
    "duration": 23,
    "start_time": "2022-03-02T17:13:00.203Z"
   },
   {
    "duration": 108,
    "start_time": "2022-03-02T17:13:00.229Z"
   },
   {
    "duration": 29,
    "start_time": "2022-03-02T17:13:00.340Z"
   },
   {
    "duration": 34,
    "start_time": "2022-03-02T17:13:00.372Z"
   },
   {
    "duration": 12,
    "start_time": "2022-03-02T17:13:00.409Z"
   },
   {
    "duration": 106,
    "start_time": "2022-03-02T17:13:00.424Z"
   },
   {
    "duration": 103,
    "start_time": "2022-03-02T17:13:00.532Z"
   },
   {
    "duration": 94,
    "start_time": "2022-03-02T17:13:00.638Z"
   },
   {
    "duration": 103,
    "start_time": "2022-03-02T17:13:00.734Z"
   },
   {
    "duration": 12,
    "start_time": "2022-03-02T17:13:00.840Z"
   },
   {
    "duration": 14,
    "start_time": "2022-03-02T17:13:00.854Z"
   },
   {
    "duration": 10,
    "start_time": "2022-03-02T17:13:00.887Z"
   },
   {
    "duration": 27,
    "start_time": "2022-03-02T17:13:00.899Z"
   },
   {
    "duration": 5,
    "start_time": "2022-03-02T17:16:45.346Z"
   },
   {
    "duration": 34,
    "start_time": "2022-03-02T17:16:45.354Z"
   },
   {
    "duration": 10,
    "start_time": "2022-03-02T17:16:45.392Z"
   },
   {
    "duration": 12,
    "start_time": "2022-03-02T17:16:45.405Z"
   },
   {
    "duration": 23,
    "start_time": "2022-03-02T17:16:45.421Z"
   },
   {
    "duration": 52,
    "start_time": "2022-03-02T17:16:45.447Z"
   },
   {
    "duration": 6,
    "start_time": "2022-03-02T17:16:45.505Z"
   },
   {
    "duration": 41,
    "start_time": "2022-03-02T17:16:45.516Z"
   },
   {
    "duration": 42,
    "start_time": "2022-03-02T17:16:45.559Z"
   },
   {
    "duration": 31,
    "start_time": "2022-03-02T17:16:45.604Z"
   },
   {
    "duration": 58,
    "start_time": "2022-03-02T17:16:45.639Z"
   },
   {
    "duration": 31,
    "start_time": "2022-03-02T17:16:45.700Z"
   },
   {
    "duration": 51,
    "start_time": "2022-03-02T17:16:45.735Z"
   },
   {
    "duration": 107,
    "start_time": "2022-03-02T17:16:45.789Z"
   },
   {
    "duration": 38,
    "start_time": "2022-03-02T17:16:45.899Z"
   },
   {
    "duration": 52,
    "start_time": "2022-03-02T17:16:45.940Z"
   },
   {
    "duration": 5,
    "start_time": "2022-03-02T17:16:45.994Z"
   },
   {
    "duration": 100,
    "start_time": "2022-03-02T17:16:46.002Z"
   },
   {
    "duration": 110,
    "start_time": "2022-03-02T17:16:46.106Z"
   },
   {
    "duration": 89,
    "start_time": "2022-03-02T17:16:46.218Z"
   },
   {
    "duration": 105,
    "start_time": "2022-03-02T17:16:46.310Z"
   },
   {
    "duration": 14,
    "start_time": "2022-03-02T17:16:46.418Z"
   },
   {
    "duration": 6,
    "start_time": "2022-03-02T17:16:46.434Z"
   },
   {
    "duration": 9,
    "start_time": "2022-03-02T17:16:46.443Z"
   },
   {
    "duration": 15,
    "start_time": "2022-03-02T17:16:46.487Z"
   },
   {
    "duration": 18,
    "start_time": "2022-03-02T17:19:03.622Z"
   },
   {
    "duration": 7,
    "start_time": "2022-03-02T17:19:07.915Z"
   },
   {
    "duration": 6,
    "start_time": "2022-03-02T17:19:13.418Z"
   },
   {
    "duration": 710,
    "start_time": "2022-03-02T17:19:27.482Z"
   },
   {
    "duration": 174,
    "start_time": "2022-03-02T17:19:28.194Z"
   },
   {
    "duration": 28,
    "start_time": "2022-03-02T17:19:28.371Z"
   },
   {
    "duration": 15,
    "start_time": "2022-03-02T17:19:28.402Z"
   },
   {
    "duration": 8,
    "start_time": "2022-03-02T17:19:28.420Z"
   },
   {
    "duration": 25,
    "start_time": "2022-03-02T17:19:28.431Z"
   },
   {
    "duration": 30,
    "start_time": "2022-03-02T17:19:28.458Z"
   },
   {
    "duration": 30,
    "start_time": "2022-03-02T17:19:28.492Z"
   },
   {
    "duration": 23,
    "start_time": "2022-03-02T17:19:28.525Z"
   },
   {
    "duration": 53,
    "start_time": "2022-03-02T17:19:28.551Z"
   },
   {
    "duration": 93,
    "start_time": "2022-03-02T17:19:28.607Z"
   },
   {
    "duration": 99,
    "start_time": "2022-03-02T17:19:28.702Z"
   },
   {
    "duration": 83,
    "start_time": "2022-03-02T17:19:28.804Z"
   },
   {
    "duration": 9,
    "start_time": "2022-03-02T17:19:28.889Z"
   },
   {
    "duration": 4,
    "start_time": "2022-03-02T17:19:28.900Z"
   },
   {
    "duration": 19,
    "start_time": "2022-03-02T17:19:28.907Z"
   },
   {
    "duration": 6,
    "start_time": "2022-03-02T17:19:28.928Z"
   },
   {
    "duration": 7,
    "start_time": "2022-03-02T17:19:28.936Z"
   },
   {
    "duration": 44,
    "start_time": "2022-03-02T17:19:28.945Z"
   },
   {
    "duration": 19,
    "start_time": "2022-03-02T17:19:28.992Z"
   },
   {
    "duration": 13,
    "start_time": "2022-03-02T17:19:29.013Z"
   },
   {
    "duration": 4,
    "start_time": "2022-03-02T17:19:29.029Z"
   },
   {
    "duration": 55,
    "start_time": "2022-03-02T17:19:29.038Z"
   },
   {
    "duration": 18,
    "start_time": "2022-03-02T17:19:29.096Z"
   },
   {
    "duration": 18,
    "start_time": "2022-03-02T17:19:29.116Z"
   },
   {
    "duration": 17,
    "start_time": "2022-03-02T17:19:29.136Z"
   },
   {
    "duration": 49,
    "start_time": "2022-03-02T17:19:29.156Z"
   },
   {
    "duration": 17,
    "start_time": "2022-03-02T17:19:29.207Z"
   },
   {
    "duration": 110,
    "start_time": "2022-03-02T17:19:29.226Z"
   },
   {
    "duration": 24,
    "start_time": "2022-03-02T17:19:29.339Z"
   },
   {
    "duration": 38,
    "start_time": "2022-03-02T17:19:29.365Z"
   },
   {
    "duration": 6,
    "start_time": "2022-03-02T17:19:29.406Z"
   },
   {
    "duration": 101,
    "start_time": "2022-03-02T17:19:29.414Z"
   },
   {
    "duration": 103,
    "start_time": "2022-03-02T17:19:29.517Z"
   },
   {
    "duration": 91,
    "start_time": "2022-03-02T17:19:29.623Z"
   },
   {
    "duration": 104,
    "start_time": "2022-03-02T17:19:29.717Z"
   },
   {
    "duration": 10,
    "start_time": "2022-03-02T17:19:29.824Z"
   },
   {
    "duration": 7,
    "start_time": "2022-03-02T17:19:29.836Z"
   },
   {
    "duration": 8,
    "start_time": "2022-03-02T17:19:29.845Z"
   },
   {
    "duration": 8,
    "start_time": "2022-03-02T17:19:29.887Z"
   },
   {
    "duration": 10,
    "start_time": "2022-03-02T17:19:56.306Z"
   },
   {
    "duration": 8,
    "start_time": "2022-03-02T17:21:02.382Z"
   },
   {
    "duration": 10,
    "start_time": "2022-03-02T17:21:12.676Z"
   },
   {
    "duration": 685,
    "start_time": "2022-03-02T17:21:39.114Z"
   },
   {
    "duration": 180,
    "start_time": "2022-03-02T17:21:39.802Z"
   },
   {
    "duration": 24,
    "start_time": "2022-03-02T17:21:39.985Z"
   },
   {
    "duration": 12,
    "start_time": "2022-03-02T17:21:40.012Z"
   },
   {
    "duration": 7,
    "start_time": "2022-03-02T17:21:40.027Z"
   },
   {
    "duration": 61,
    "start_time": "2022-03-02T17:21:40.036Z"
   },
   {
    "duration": 12,
    "start_time": "2022-03-02T17:21:40.099Z"
   },
   {
    "duration": 36,
    "start_time": "2022-03-02T17:21:40.113Z"
   },
   {
    "duration": 38,
    "start_time": "2022-03-02T17:21:40.153Z"
   },
   {
    "duration": 28,
    "start_time": "2022-03-02T17:21:40.194Z"
   },
   {
    "duration": 99,
    "start_time": "2022-03-02T17:21:40.224Z"
   },
   {
    "duration": 114,
    "start_time": "2022-03-02T17:21:40.326Z"
   },
   {
    "duration": 88,
    "start_time": "2022-03-02T17:21:40.443Z"
   },
   {
    "duration": 10,
    "start_time": "2022-03-02T17:21:40.533Z"
   },
   {
    "duration": 6,
    "start_time": "2022-03-02T17:21:40.545Z"
   },
   {
    "duration": 36,
    "start_time": "2022-03-02T17:21:40.553Z"
   },
   {
    "duration": 8,
    "start_time": "2022-03-02T17:21:40.591Z"
   },
   {
    "duration": 10,
    "start_time": "2022-03-02T17:21:40.601Z"
   },
   {
    "duration": 12,
    "start_time": "2022-03-02T17:21:40.614Z"
   },
   {
    "duration": 5,
    "start_time": "2022-03-02T17:21:40.629Z"
   },
   {
    "duration": 19,
    "start_time": "2022-03-02T17:21:40.636Z"
   },
   {
    "duration": 13,
    "start_time": "2022-03-02T17:21:40.687Z"
   },
   {
    "duration": 4,
    "start_time": "2022-03-02T17:21:40.703Z"
   },
   {
    "duration": 33,
    "start_time": "2022-03-02T17:21:40.709Z"
   },
   {
    "duration": 46,
    "start_time": "2022-03-02T17:21:40.745Z"
   },
   {
    "duration": 22,
    "start_time": "2022-03-02T17:21:40.794Z"
   },
   {
    "duration": 19,
    "start_time": "2022-03-02T17:21:40.823Z"
   },
   {
    "duration": 51,
    "start_time": "2022-03-02T17:21:40.845Z"
   },
   {
    "duration": 17,
    "start_time": "2022-03-02T17:21:40.899Z"
   },
   {
    "duration": 106,
    "start_time": "2022-03-02T17:21:40.918Z"
   },
   {
    "duration": 24,
    "start_time": "2022-03-02T17:21:41.027Z"
   },
   {
    "duration": 41,
    "start_time": "2022-03-02T17:21:41.053Z"
   },
   {
    "duration": 6,
    "start_time": "2022-03-02T17:21:41.096Z"
   },
   {
    "duration": 98,
    "start_time": "2022-03-02T17:21:41.105Z"
   },
   {
    "duration": 101,
    "start_time": "2022-03-02T17:21:41.206Z"
   },
   {
    "duration": 89,
    "start_time": "2022-03-02T17:21:41.309Z"
   },
   {
    "duration": 103,
    "start_time": "2022-03-02T17:21:41.401Z"
   },
   {
    "duration": 10,
    "start_time": "2022-03-02T17:21:41.506Z"
   },
   {
    "duration": 8,
    "start_time": "2022-03-02T17:21:41.518Z"
   },
   {
    "duration": 11,
    "start_time": "2022-03-02T17:21:41.528Z"
   },
   {
    "duration": 9,
    "start_time": "2022-03-02T17:21:41.541Z"
   }
  ],
  "colab": {
   "collapsed_sections": [
    "E0vqbgi9ay0H",
    "VUC88oWjTJw2"
   ],
   "name": "yandex_music_project_2021.2.ipynb",
   "provenance": []
  },
  "kernelspec": {
   "display_name": "Python 3 (ipykernel)",
   "language": "python",
   "name": "python3"
  },
  "language_info": {
   "codemirror_mode": {
    "name": "ipython",
    "version": 3
   },
   "file_extension": ".py",
   "mimetype": "text/x-python",
   "name": "python",
   "nbconvert_exporter": "python",
   "pygments_lexer": "ipython3",
   "version": "3.9.7"
  },
  "toc": {
   "base_numbering": 1,
   "nav_menu": {},
   "number_sections": true,
   "sideBar": true,
   "skip_h1_title": true,
   "title_cell": "Table of Contents",
   "title_sidebar": "Contents",
   "toc_cell": false,
   "toc_position": {
    "height": "calc(100% - 180px)",
    "left": "10px",
    "top": "150px",
    "width": "400.391px"
   },
   "toc_section_display": true,
   "toc_window_display": true
  }
 },
 "nbformat": 4,
 "nbformat_minor": 1
}
